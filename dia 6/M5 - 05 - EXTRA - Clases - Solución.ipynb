





<!DOCTYPE html>
<html lang="en" data-color-mode="auto" data-light-theme="light" data-dark-theme="dark"  data-a11y-animated-images="system" data-a11y-link-underlines="false">

    <style>
  /* for each iteration, uncomment the CSS variable */

  /* light themes */
  [data-color-mode="light"][data-light-theme*="light"],
  [data-color-mode="auto"][data-light-theme*="light"] {
    /* iteration 1 */
    --border-color-iteration-1: #C8CCD0;
    /* iteration 2 */
    --border-color-iteration-2: #BABFC5;
    /* iteration 3 */
    --border-color-iteration-3: #A6ADB4;
    /* iteration final */
    --border-color-iteration-4: #868F99;

    /* the first value is the final step, which falls back to previous iterations */
    --control-borderColor-rest: var(--border-color-iteration-4, var(--border-color-iteration-3, var(--border-color-iteration-2, var(--border-color-iteration-1)))) !important;
  }

  /* dark themes */
  [data-color-mode="dark"][data-dark-theme*="dark"],
  [data-color-mode="auto"][data-light-theme*="dark"] {
    /* iteration 1 */
    --border-color-iteration-1: #363940;
    /* iteration 2 */
    --border-color-iteration-2: #3F434B;
    /* iteration 3 */
    --border-color-iteration-3: #4B5159;
    /* iteration final */
    --border-color-iteration-4: #666E79;

    /* the first value is the final step, which falls back to previous iterations */
    --control-borderColor-rest: var(--border-color-iteration-4, var(--border-color-iteration-3, var(--border-color-iteration-2, var(--border-color-iteration-1)))) !important;
  }

  [data-color-mode="dark"][data-dark-theme="dark_dimmed"],
  [data-color-mode="dark"][data-dark-theme="light_high_contrast"],
  [data-color-mode="dark"][data-dark-theme="dark_high_contrast"],
  [data-color-mode="light"][data-light-theme="dark_dimmed"],
  [data-color-mode="light"][data-light-theme="light_high_contrast"],
  [data-color-mode="light"][data-light-theme="dark_high_contrast"] {
    /* skip these themes, use the fallback */
    --control-borderColor-rest: initial !important;
  }

  @media (prefers-color-scheme: dark) {
    /* dark colors in dark mode */
    [data-color-mode="auto"][data-dark-theme*="dark"] {
      /* iteration 1 */
      --border-color-iteration-1: #363940;
      /* iteration 2 */
      --border-color-iteration-2: #3F434B;
      /* iteration 3 */
      --border-color-iteration-3: #4B5159;
      /* iteration final */
      --border-color-iteration-4: #666E79;

      /* the first value is the final step, which falls back to previous iterations */
      --control-borderColor-rest: var(--border-color-iteration-4, var(--border-color-iteration-3, var(--border-color-iteration-2, var(--border-color-iteration-1)))) !important;
    }

    /* light colors in dark mode */
    [data-color-mode="auto"][data-dark-theme*="light"] {
      /* iteration 1 */
      --border-color-iteration-1: #C8CCD0;
      /* iteration 2 */
      --border-color-iteration-2: #BABFC5;
      /* iteration 3 */
      --border-color-iteration-3: #A6ADB4;
      /* iteration final */
      --border-color-iteration-4: #868F99;

      /* the first value is the final step, which falls back to previous iterations */
      --control-borderColor-rest: var(--border-color-iteration-4, var(--border-color-iteration-3, var(--border-color-iteration-2, var(--border-color-iteration-1)))) !important;
      }

    [data-color-mode="auto"][data-dark-theme="dark_dimmed"],
    [data-color-mode="auto"][data-dark-theme="light_high_contrast"],
    [data-color-mode="auto"][data-dark-theme="dark_high_contrast"] {
      /* skip these themes, use the fallback */
      --control-borderColor-rest: initial !important;
    }
  }

  @media (prefers-color-scheme: light) {
    /* dark colors in light mode */
    [data-color-mode="auto"][data-light-theme*="dark"] {
      /* iteration 1 */
      --border-color-iteration-1: #363940;
      /* iteration 2 */
      --border-color-iteration-2: #3F434B;
      /* iteration 3 */
      --border-color-iteration-3: #4B5159;
      /* iteration final */
      --border-color-iteration-4: #666E79;

      /* the first value is the final step, which falls back to previous iterations */
      --control-borderColor-rest: var(--border-color-iteration-4, var(--border-color-iteration-3, var(--border-color-iteration-2, var(--border-color-iteration-1)))) !important;
    }

    /* light colors in light mode */
    [data-color-mode="auto"][data-light-theme*="light"] {
      /* iteration 1 */
      --border-color-iteration-1: #C8CCD0;
      /* iteration 2 */
      --border-color-iteration-2: #BABFC5;
      /* iteration 3 */
      --border-color-iteration-3: #A6ADB4;
      /* iteration final */
      --border-color-iteration-4: #868F99;

      /* the first value is the final step, which falls back to previous iterations */
      --control-borderColor-rest: var(--border-color-iteration-4, var(--border-color-iteration-3, var(--border-color-iteration-2, var(--border-color-iteration-1)))) !important;
    }

    [data-color-mode="auto"][data-light-theme="dark_dimmed"],
    [data-color-mode="auto"][data-light-theme="light_high_contrast"],
    [data-color-mode="auto"][data-light-theme="dark_high_contrast"] {
      /* skip these themes, use the fallback */
      --control-borderColor-rest: initial !important;
    }
  }
</style>


  <head>
    <meta charset="utf-8">
  <link rel="dns-prefetch" href="https://github.githubassets.com">
  <link rel="dns-prefetch" href="https://avatars.githubusercontent.com">
  <link rel="dns-prefetch" href="https://github-cloud.s3.amazonaws.com">
  <link rel="dns-prefetch" href="https://user-images.githubusercontent.com/">
  <link rel="preconnect" href="https://github.githubassets.com" crossorigin>
  <link rel="preconnect" href="https://avatars.githubusercontent.com">

  


  <link crossorigin="anonymous" media="all" rel="stylesheet" href="https://github.githubassets.com/assets/light-b92e9647318f.css" /><link crossorigin="anonymous" media="all" rel="stylesheet" href="https://github.githubassets.com/assets/dark-5d486a4ede8e.css" /><link data-color-theme="dark_dimmed" crossorigin="anonymous" media="all" rel="stylesheet" data-href="https://github.githubassets.com/assets/dark_dimmed-27c8d635e4e5.css" /><link data-color-theme="dark_high_contrast" crossorigin="anonymous" media="all" rel="stylesheet" data-href="https://github.githubassets.com/assets/dark_high_contrast-8438e75afd36.css" /><link data-color-theme="dark_colorblind" crossorigin="anonymous" media="all" rel="stylesheet" data-href="https://github.githubassets.com/assets/dark_colorblind-bf5665b96628.css" /><link data-color-theme="light_colorblind" crossorigin="anonymous" media="all" rel="stylesheet" data-href="https://github.githubassets.com/assets/light_colorblind-c414b5ba1dce.css" /><link data-color-theme="light_high_contrast" crossorigin="anonymous" media="all" rel="stylesheet" data-href="https://github.githubassets.com/assets/light_high_contrast-e5868b7374db.css" /><link data-color-theme="light_tritanopia" crossorigin="anonymous" media="all" rel="stylesheet" data-href="https://github.githubassets.com/assets/light_tritanopia-299ac9c64ec0.css" /><link data-color-theme="dark_tritanopia" crossorigin="anonymous" media="all" rel="stylesheet" data-href="https://github.githubassets.com/assets/dark_tritanopia-3a26e78ad0ff.css" />
    <link crossorigin="anonymous" media="all" rel="stylesheet" href="https://github.githubassets.com/assets/primer-primitives-363ec1831c26.css" />
    <link crossorigin="anonymous" media="all" rel="stylesheet" href="https://github.githubassets.com/assets/primer-d6dcdf72e61d.css" />
    <link crossorigin="anonymous" media="all" rel="stylesheet" href="https://github.githubassets.com/assets/global-faa25eb56e2e.css" />
    <link crossorigin="anonymous" media="all" rel="stylesheet" href="https://github.githubassets.com/assets/github-de916a7feed5.css" />
  <link crossorigin="anonymous" media="all" rel="stylesheet" href="https://github.githubassets.com/assets/code-71ecd5638fbf.css" />

  

  <script type="application/json" id="client-env">{"locale":"en","featureFlags":["copilot_conversational_ux_streaming","failbot_handle_non_errors","geojson_azure_maps","hovercard_show_on_focus","image_metric_tracking","repository_suggester_elastic_search","turbo_experiment_risky","sample_network_conn_type","star_button_focus"]}</script>
<script crossorigin="anonymous" defer="defer" type="application/javascript" src="https://github.githubassets.com/assets/wp-runtime-00c7b97f0987.js"></script>
<script crossorigin="anonymous" defer="defer" type="application/javascript" src="https://github.githubassets.com/assets/vendors-node_modules_dompurify_dist_purify_js-64d590970fa6.js"></script>
<script crossorigin="anonymous" defer="defer" type="application/javascript" src="https://github.githubassets.com/assets/vendors-node_modules_stacktrace-parser_dist_stack-trace-parser_esm_js-node_modules_github_bro-a4c183-18bf85b8e9f4.js"></script>
<script crossorigin="anonymous" defer="defer" type="application/javascript" src="https://github.githubassets.com/assets/ui_packages_soft-nav_soft-nav_ts-56133143b228.js"></script>
<script crossorigin="anonymous" defer="defer" type="application/javascript" src="https://github.githubassets.com/assets/environment-fc6543d75794.js"></script>
<script crossorigin="anonymous" defer="defer" type="application/javascript" src="https://github.githubassets.com/assets/vendors-node_modules_github_selector-observer_dist_index_esm_js-2646a2c533e3.js"></script>
<script crossorigin="anonymous" defer="defer" type="application/javascript" src="https://github.githubassets.com/assets/vendors-node_modules_primer_behaviors_dist_esm_focus-zone_js-d55308df5023.js"></script>
<script crossorigin="anonymous" defer="defer" type="application/javascript" src="https://github.githubassets.com/assets/vendors-node_modules_github_relative-time-element_dist_index_js-99e288659d4f.js"></script>
<script crossorigin="anonymous" defer="defer" type="application/javascript" src="https://github.githubassets.com/assets/vendors-node_modules_fzy_js_index_js-node_modules_github_combobox-nav_dist_index_js-node_modu-344bff-91b70bb50d68.js"></script>
<script crossorigin="anonymous" defer="defer" type="application/javascript" src="https://github.githubassets.com/assets/vendors-node_modules_delegated-events_dist_index_js-node_modules_github_details-dialog-elemen-29dc30-2a5b7c1aa525.js"></script>
<script crossorigin="anonymous" defer="defer" type="application/javascript" src="https://github.githubassets.com/assets/vendors-node_modules_github_filter-input-element_dist_index_js-node_modules_github_remote-inp-59c459-39506636d610.js"></script>
<script crossorigin="anonymous" defer="defer" type="application/javascript" src="https://github.githubassets.com/assets/vendors-node_modules_github_file-attachment-element_dist_index_js-node_modules_primer_view-co-2c6968-d14fe7eeba42.js"></script>
<script crossorigin="anonymous" defer="defer" type="application/javascript" src="https://github.githubassets.com/assets/github-elements-3485f2997bc6.js"></script>
<script crossorigin="anonymous" defer="defer" type="application/javascript" src="https://github.githubassets.com/assets/element-registry-981cc2eaa259.js"></script>
<script crossorigin="anonymous" defer="defer" type="application/javascript" src="https://github.githubassets.com/assets/vendors-node_modules_github_catalyst_lib_index_js-node_modules_github_hydro-analytics-client_-978abc0-d5b921292620.js"></script>
<script crossorigin="anonymous" defer="defer" type="application/javascript" src="https://github.githubassets.com/assets/vendors-node_modules_lit-html_lit-html_js-4ccebb6ebf7d.js"></script>
<script crossorigin="anonymous" defer="defer" type="application/javascript" src="https://github.githubassets.com/assets/vendors-node_modules_github_mini-throttle_dist_index_js-node_modules_github_alive-client_dist-bf5aa2-504c8d53fb8e.js"></script>
<script crossorigin="anonymous" defer="defer" type="application/javascript" src="https://github.githubassets.com/assets/vendors-node_modules_morphdom_dist_morphdom-esm_js-b1fdd7158cf0.js"></script>
<script crossorigin="anonymous" defer="defer" type="application/javascript" src="https://github.githubassets.com/assets/vendors-node_modules_github_turbo_dist_turbo_es2017-esm_js-9a3541181451.js"></script>
<script crossorigin="anonymous" defer="defer" type="application/javascript" src="https://github.githubassets.com/assets/vendors-node_modules_color-convert_index_js-35b3ae68c408.js"></script>
<script crossorigin="anonymous" defer="defer" type="application/javascript" src="https://github.githubassets.com/assets/vendors-node_modules_primer_behaviors_dist_esm_dimensions_js-node_modules_github_hotkey_dist_-8755d2-f721427ba08d.js"></script>
<script crossorigin="anonymous" defer="defer" type="application/javascript" src="https://github.githubassets.com/assets/vendors-node_modules_github_session-resume_dist_index_js-node_modules_primer_behaviors_dist_e-ac74c6-4e7cf4e77afd.js"></script>
<script crossorigin="anonymous" defer="defer" type="application/javascript" src="https://github.githubassets.com/assets/vendors-node_modules_github_paste-markdown_dist_index_esm_js-node_modules_github_quote-select-854ff4-b4a2793be3fe.js"></script>
<script crossorigin="anonymous" defer="defer" type="application/javascript" src="https://github.githubassets.com/assets/app_assets_modules_github_details-dialog_ts-app_assets_modules_github_fetch_ts-add1ab03ecb3.js"></script>
<script crossorigin="anonymous" defer="defer" type="application/javascript" src="https://github.githubassets.com/assets/app_assets_modules_github_updatable-content_ts-ui_packages_hydro-analytics_hydro-analytics_ts-0a5a30c9b976.js"></script>
<script crossorigin="anonymous" defer="defer" type="application/javascript" src="https://github.githubassets.com/assets/app_assets_modules_github_onfocus_ts-app_assets_modules_github_sticky-scroll-into-view_ts-c56a5dfc8975.js"></script>
<script crossorigin="anonymous" defer="defer" type="application/javascript" src="https://github.githubassets.com/assets/app_assets_modules_github_behaviors_task-list_ts-app_assets_modules_github_sso_ts-ui_packages-7d50ad-9491f2be61ee.js"></script>
<script crossorigin="anonymous" defer="defer" type="application/javascript" src="https://github.githubassets.com/assets/app_assets_modules_github_behaviors_ajax-error_ts-app_assets_modules_github_behaviors_include-2e2258-d77f85c54572.js"></script>
<script crossorigin="anonymous" defer="defer" type="application/javascript" src="https://github.githubassets.com/assets/app_assets_modules_github_behaviors_commenting_edit_ts-app_assets_modules_github_behaviors_ht-83c235-f22ac6b94445.js"></script>
<script crossorigin="anonymous" defer="defer" type="application/javascript" src="https://github.githubassets.com/assets/behaviors-ba3118ed45b2.js"></script>
<script crossorigin="anonymous" defer="defer" type="application/javascript" src="https://github.githubassets.com/assets/vendors-node_modules_delegated-events_dist_index_js-node_modules_github_catalyst_lib_index_js-623425af41e1.js"></script>
<script crossorigin="anonymous" defer="defer" type="application/javascript" src="https://github.githubassets.com/assets/notifications-global-0104a8043aa4.js"></script>
<script crossorigin="anonymous" defer="defer" type="application/javascript" src="https://github.githubassets.com/assets/code-menu-6bd50a0647d6.js"></script>
  
  <script crossorigin="anonymous" defer="defer" type="application/javascript" src="https://github.githubassets.com/assets/react-lib-210c4b5934c3.js"></script>
<script crossorigin="anonymous" defer="defer" type="application/javascript" src="https://github.githubassets.com/assets/vendors-node_modules_primer_octicons-react_dist_index_esm_js-node_modules_primer_react_lib-es-2e8e7c-b8c027e1cfac.js"></script>
<script crossorigin="anonymous" defer="defer" type="application/javascript" src="https://github.githubassets.com/assets/vendors-node_modules_primer_react_lib-esm_Box_Box_js-96a44addc402.js"></script>
<script crossorigin="anonymous" defer="defer" type="application/javascript" src="https://github.githubassets.com/assets/vendors-node_modules_primer_react_lib-esm_Button_Button_js-node_modules_primer_react_lib-esm_-f6da63-1976b80d3486.js"></script>
<script crossorigin="anonymous" defer="defer" type="application/javascript" src="https://github.githubassets.com/assets/vendors-node_modules_primer_react_node_modules_primer_octicons-react_dist_index_esm_js-03b6dd82d40a.js"></script>
<script crossorigin="anonymous" defer="defer" type="application/javascript" src="https://github.githubassets.com/assets/vendors-node_modules_primer_react_lib-esm_Button_index_js-node_modules_primer_react_lib-esm_O-701f13-047a44a18d3a.js"></script>
<script crossorigin="anonymous" defer="defer" type="application/javascript" src="https://github.githubassets.com/assets/vendors-node_modules_primer_react_lib-esm_ActionList_index_js-535c8ee1ebe8.js"></script>
<script crossorigin="anonymous" defer="defer" type="application/javascript" src="https://github.githubassets.com/assets/vendors-node_modules_primer_react_lib-esm_Text_Text_js-node_modules_primer_react_lib-esm_Text-85a14b-0f28951279b7.js"></script>
<script crossorigin="anonymous" defer="defer" type="application/javascript" src="https://github.githubassets.com/assets/vendors-node_modules_primer_react_lib-esm_ActionMenu_ActionMenu_js-2f08ef908241.js"></script>
<script crossorigin="anonymous" defer="defer" type="application/javascript" src="https://github.githubassets.com/assets/vendors-node_modules_primer_behaviors_dist_esm_scroll-into-view_js-node_modules_primer_react_-04bb1b-a6096689d2d5.js"></script>
<script crossorigin="anonymous" defer="defer" type="application/javascript" src="https://github.githubassets.com/assets/vendors-node_modules_primer_react_lib-esm_FormControl_FormControl_js-9b048a5a5ceb.js"></script>
<script crossorigin="anonymous" defer="defer" type="application/javascript" src="https://github.githubassets.com/assets/vendors-node_modules_react-router-dom_dist_index_js-4a785319b497.js"></script>
<script crossorigin="anonymous" defer="defer" type="application/javascript" src="https://github.githubassets.com/assets/vendors-node_modules_primer_react_lib-esm_PageLayout_PageLayout_js-7693f4e3427d.js"></script>
<script crossorigin="anonymous" defer="defer" type="application/javascript" src="https://github.githubassets.com/assets/vendors-node_modules_primer_react_lib-esm_Dialog_js-node_modules_primer_react_lib-esm_Flash_F-ad64b6-f3217651e114.js"></script>
<script crossorigin="anonymous" defer="defer" type="application/javascript" src="https://github.githubassets.com/assets/vendors-node_modules_primer_react_lib-esm_UnderlineNav2_index_js-b739f40cf454.js"></script>
<script crossorigin="anonymous" defer="defer" type="application/javascript" src="https://github.githubassets.com/assets/vendors-node_modules_primer_react_lib-esm_Avatar_Avatar_js-node_modules_primer_react_lib-esm_-9bd36c-c9a87fd5afd0.js"></script>
<script crossorigin="anonymous" defer="defer" type="application/javascript" src="https://github.githubassets.com/assets/vendors-node_modules_primer_react_lib-esm_AvatarStack_AvatarStack_js-node_modules_primer_reac-6d3540-684005f5bdbe.js"></script>
<script crossorigin="anonymous" defer="defer" type="application/javascript" src="https://github.githubassets.com/assets/vendors-node_modules_primer_react_lib-esm_Breadcrumbs_Breadcrumbs_js-node_modules_primer_reac-31943d-f0539d68eb2b.js"></script>
<script crossorigin="anonymous" defer="defer" type="application/javascript" src="https://github.githubassets.com/assets/ui_packages_react-core_create-browser-history_ts-ui_packages_react-core_deferred-registry_ts--ebbb92-1ee1e572fd0e.js"></script>
<script crossorigin="anonymous" defer="defer" type="application/javascript" src="https://github.githubassets.com/assets/ui_packages_react-core_register-app_ts-afd2d748b726.js"></script>
<script crossorigin="anonymous" defer="defer" type="application/javascript" src="https://github.githubassets.com/assets/ui_packages_ref-selector_RefSelector_tsx-bd2f6d26f4a6.js"></script>
<script crossorigin="anonymous" defer="defer" type="application/javascript" src="https://github.githubassets.com/assets/app_assets_modules_github_blob-anchor_ts-app_assets_modules_github_filter-sort_ts-app_assets_-681869-f63e0555b81f.js"></script>
<script crossorigin="anonymous" defer="defer" type="application/javascript" src="https://github.githubassets.com/assets/ui_packages_commit-attribution_index_ts-ui_packages_commit-checks-status_index_ts-ui_packages-cc11d2-cf61178576ab.js"></script>
<script crossorigin="anonymous" defer="defer" type="application/javascript" src="https://github.githubassets.com/assets/app_assets_modules_react-code-view_pages_CodeView_tsx-388cefa74639.js"></script>
<script crossorigin="anonymous" defer="defer" type="application/javascript" src="https://github.githubassets.com/assets/react-code-view-1cc1e433849f.js"></script>


  <title>granada/Day 6/M5 - 05 - EXTRA - Clases - Solución.ipynb at main · cursodatafundamentals/granada</title>



  <meta name="route-pattern" content="/:user_id/:repository/blob/*name(/*path)">

    
  <meta name="current-catalog-service-hash" content="82c569b93da5c18ed649ebd4c2c79437db4611a6a1373e805a3cb001c64130b7">


  <meta name="request-id" content="CAC0:9C69:1FCAB33:20562ED:652E3503" data-turbo-transient="true" /><meta name="html-safe-nonce" content="c2cd6b6f244f34aaa68a9f9a8232467b725980f3a80ec8ef0694fbee2c8c3ae7" data-turbo-transient="true" /><meta name="visitor-payload" content="eyJyZWZlcnJlciI6Imh0dHBzOi8vZ2l0aHViLmNvbS9jdXJzb2RhdGFmdW5kYW1lbnRhbHMvZ3JhbmFkYS90cmVlL21haW4vRGF5JTIwNiIsInJlcXVlc3RfaWQiOiJDQUMwOjlDNjk6MUZDQUIzMzoyMDU2MkVEOjY1MkUzNTAzIiwidmlzaXRvcl9pZCI6IjI1MDMzMzE0MDk2NTI3ODI1MzUiLCJyZWdpb25fZWRnZSI6ImZyYSIsInJlZ2lvbl9yZW5kZXIiOiJpYWQifQ==" data-turbo-transient="true" /><meta name="visitor-hmac" content="b4a8b1deee2d40724aaf97b6f13dbdde38aa7921df4c5368a4e1a6a8cd5de061" data-turbo-transient="true" />


    <meta name="hovercard-subject-tag" content="repository:699691449" data-turbo-transient>


  <meta name="github-keyboard-shortcuts" content="repository,source-code,file-tree" data-turbo-transient="true" />
  

  <meta name="selected-link" value="repo_source" data-turbo-transient>
  <link rel="assets" href="https://github.githubassets.com/">

    <meta name="google-site-verification" content="c1kuD-K2HIVF635lypcsWPoD4kilo5-jA_wBFyT4uMY">
  <meta name="google-site-verification" content="KT5gs8h0wvaagLKAVWq8bbeNwnZZK1r1XQysX3xurLU">
  <meta name="google-site-verification" content="ZzhVyEFwb7w3e0-uOTltm8Jsck2F5StVihD0exw2fsA">
  <meta name="google-site-verification" content="GXs5KoUUkNCoaAZn7wPN-t01Pywp9M3sEjnt_3_ZWPc">
  <meta name="google-site-verification" content="Apib7-x98H0j5cPqHWwSMm6dNU4GmODRoqxLiDzdx9I">

<meta name="octolytics-url" content="https://collector.github.com/github/collect" /><meta name="octolytics-actor-id" content="146814397" /><meta name="octolytics-actor-login" content="Karlett19" /><meta name="octolytics-actor-hash" content="c2a11084f6d16e049031b6002930329bec14cf41007fa0ecb591f9c480e7207c" />

  <meta name="analytics-location" content="/&lt;user-name&gt;/&lt;repo-name&gt;/blob/show" data-turbo-transient="true" />

  




  

    <meta name="user-login" content="Karlett19">

  <link rel="sudo-modal" href="/sessions/sudo_modal">

    <meta name="viewport" content="width=device-width">
    
      <meta name="description" content="Contribute to cursodatafundamentals/granada development by creating an account on GitHub.">
      <link rel="search" type="application/opensearchdescription+xml" href="/opensearch.xml" title="GitHub">
    <link rel="fluid-icon" href="https://github.com/fluidicon.png" title="GitHub">
    <meta property="fb:app_id" content="1401488693436528">
    <meta name="apple-itunes-app" content="app-id=1477376905, app-argument=https://github.com/cursodatafundamentals/granada/blob/main/Day%206/M5%20-%2005%20-%20EXTRA%20-%20Clases%20-%20Soluci%C3%B3n.ipynb" />
      <meta name="twitter:image:src" content="https://avatars.githubusercontent.com/u/117397562?s=400&amp;v=4" /><meta name="twitter:site" content="@github" /><meta name="twitter:card" content="summary" /><meta name="twitter:title" content="granada/Day 6/M5 - 05 - EXTRA - Clases - Solución.ipynb at main · cursodatafundamentals/granada" /><meta name="twitter:description" content="Contribute to cursodatafundamentals/granada development by creating an account on GitHub." />
      <meta property="og:image" content="https://avatars.githubusercontent.com/u/117397562?s=400&amp;v=4" /><meta property="og:image:alt" content="Contribute to cursodatafundamentals/granada development by creating an account on GitHub." /><meta property="og:site_name" content="GitHub" /><meta property="og:type" content="object" /><meta property="og:title" content="granada/Day 6/M5 - 05 - EXTRA - Clases - Solución.ipynb at main · cursodatafundamentals/granada" /><meta property="og:url" content="https://github.com/cursodatafundamentals/granada/blob/main/Day%206/M5%20-%2005%20-%20EXTRA%20-%20Clases%20-%20Soluci%C3%B3n.ipynb" /><meta property="og:description" content="Contribute to cursodatafundamentals/granada development by creating an account on GitHub." />
      

      <link rel="shared-web-socket" href="wss://alive.github.com/_sockets/u/146814397/ws?session=eyJ2IjoiVjMiLCJ1IjoxNDY4MTQzOTcsInMiOjEyMjQ3MDA1ODIsImMiOjE4MDMyNjkxNiwidCI6MTY5NzUyNzA0M30=--5e9164b0474b14f4d92389f7716a932313d99b6e6eb9ce0460963cee4566f2ee" data-refresh-url="/_alive" data-session-id="3efdecbc8c2f3e3e2f620d91ad19d55efb83d7ddc330b648dbf06b6bb3925fc3">
      <link rel="shared-web-socket-src" href="/assets-cdn/worker/socket-worker-cee473359cfe.js">


        <meta name="hostname" content="github.com">


      <meta name="keyboard-shortcuts-preference" content="all">

        <meta name="expected-hostname" content="github.com">


  <meta http-equiv="x-pjax-version" content="26301029d0481b645581b66f4f58c823ad9e1213ca445ff1a89a5d0295868fcd" data-turbo-track="reload">
  <meta http-equiv="x-pjax-csp-version" content="ee14a7165914197d62e19f664bfb961fcfdfc1ec31939a5c7b137fbab1751c87" data-turbo-track="reload">
  <meta http-equiv="x-pjax-css-version" content="1458c31d8d601dcb2e73daab09a2ba4225945457af895b170da96b350d467b17" data-turbo-track="reload">
  <meta http-equiv="x-pjax-js-version" content="e923129332abb6f03979d28ab39e347adc1232bd430795e7866ca8750415d3a2" data-turbo-track="reload">

  <meta name="turbo-cache-control" content="no-preview" data-turbo-transient="">

      <meta name="turbo-cache-control" content="no-cache" data-turbo-transient>
    <meta data-hydrostats="publish">

  <meta name="go-import" content="github.com/cursodatafundamentals/granada git https://github.com/cursodatafundamentals/granada.git">

  <meta name="octolytics-dimension-user_id" content="117397562" /><meta name="octolytics-dimension-user_login" content="cursodatafundamentals" /><meta name="octolytics-dimension-repository_id" content="699691449" /><meta name="octolytics-dimension-repository_nwo" content="cursodatafundamentals/granada" /><meta name="octolytics-dimension-repository_public" content="false" /><meta name="octolytics-dimension-repository_is_fork" content="false" /><meta name="octolytics-dimension-repository_network_root_id" content="699691449" /><meta name="octolytics-dimension-repository_network_root_nwo" content="cursodatafundamentals/granada" />



  <meta name="turbo-body-classes" content="logged-in env-production page-responsive">


  <meta name="browser-stats-url" content="https://api.github.com/_private/browser/stats">

  <meta name="browser-errors-url" content="https://api.github.com/_private/browser/errors">

  <meta name="browser-optimizely-client-errors-url" content="https://api.github.com/_private/browser/optimizely_client/errors">

  <link rel="mask-icon" href="https://github.githubassets.com/pinned-octocat.svg" color="#000000">
  <link rel="alternate icon" class="js-site-favicon" type="image/png" href="https://github.githubassets.com/favicons/favicon.png">
  <link rel="icon" class="js-site-favicon" type="image/svg+xml" href="https://github.githubassets.com/favicons/favicon.svg">

<meta name="theme-color" content="#1e2327">
<meta name="color-scheme" content="light dark" />


  <link rel="manifest" href="/manifest.json" crossOrigin="use-credentials">

  </head>

  <body class="logged-in env-production page-responsive" style="word-wrap: break-word;">
    <div data-turbo-body class="logged-in env-production page-responsive" style="word-wrap: break-word;">
      


    <div class="position-relative js-header-wrapper ">
      <a href="#start-of-content" class="p-3 color-bg-accent-emphasis color-fg-on-emphasis show-on-focus js-skip-to-content">Skip to content</a>
      <span data-view-component="true" class="progress-pjax-loader Progress position-fixed width-full">
    <span style="width: 0%;" data-view-component="true" class="Progress-item progress-pjax-loader-bar left-0 top-0 color-bg-accent-emphasis"></span>
</span>      
      


      

        <script crossorigin="anonymous" defer="defer" type="application/javascript" src="https://github.githubassets.com/assets/vendors-node_modules_allex_crc32_lib_crc32_esm_js-node_modules_github_mini-throttle_dist_deco-b38cad-fb30c470f64b.js"></script>
<script crossorigin="anonymous" defer="defer" type="application/javascript" src="https://github.githubassets.com/assets/vendors-node_modules_github_clipboard-copy-element_dist_index_esm_js-node_modules_delegated-e-b37f7d-4db36910a4bc.js"></script>
<script crossorigin="anonymous" defer="defer" type="application/javascript" src="https://github.githubassets.com/assets/app_assets_modules_github_command-palette_items_help-item_ts-app_assets_modules_github_comman-48ad9d-00e5140a09e8.js"></script>
<script crossorigin="anonymous" defer="defer" type="application/javascript" src="https://github.githubassets.com/assets/command-palette-46bb1d1be80b.js"></script>

            <header class="AppHeader">
    

    <div class="AppHeader-globalBar pb-2 js-global-bar">
      <div class="AppHeader-globalBar-start">
          <deferred-side-panel data-url="/_side-panels/global">
  <include-fragment data-target="deferred-side-panel.fragment">
      
  <button aria-label="Open global navigation menu" data-action="click:deferred-side-panel#loadPanel click:deferred-side-panel#panelOpened" data-show-dialog-id="dialog-02d8ad9f-9b3f-45b9-95e4-def687801c18" id="dialog-show-dialog-02d8ad9f-9b3f-45b9-95e4-def687801c18" type="button" data-view-component="true" class="Button Button--iconOnly Button--secondary Button--medium AppHeader-button color-bg-transparent p-0 color-fg-muted">    <svg aria-hidden="true" height="16" viewBox="0 0 16 16" version="1.1" width="16" data-view-component="true" class="octicon octicon-three-bars Button-visual">
    <path d="M1 2.75A.75.75 0 0 1 1.75 2h12.5a.75.75 0 0 1 0 1.5H1.75A.75.75 0 0 1 1 2.75Zm0 5A.75.75 0 0 1 1.75 7h12.5a.75.75 0 0 1 0 1.5H1.75A.75.75 0 0 1 1 7.75ZM1.75 12h12.5a.75.75 0 0 1 0 1.5H1.75a.75.75 0 0 1 0-1.5Z"></path>
</svg>
</button>  

<div class="Overlay--hidden Overlay-backdrop--side Overlay-backdrop--placement-left" data-modal-dialog-overlay>
  <modal-dialog data-target="deferred-side-panel.panel" role="dialog" id="dialog-02d8ad9f-9b3f-45b9-95e4-def687801c18" aria-modal="true" aria-disabled="true" aria-labelledby="dialog-02d8ad9f-9b3f-45b9-95e4-def687801c18-title" aria-describedby="dialog-02d8ad9f-9b3f-45b9-95e4-def687801c18-description" data-view-component="true" class="Overlay Overlay-whenNarrow Overlay--size-small-portrait Overlay--motion-scaleFade SidePanel">
    <div styles="flex-direction: row;" data-view-component="true" class="Overlay-header">
  <div class="Overlay-headerContentWrap">
    <div class="Overlay-titleWrap">
      <h1 class="Overlay-title sr-only" id="dialog-02d8ad9f-9b3f-45b9-95e4-def687801c18-title">
        Global navigation
      </h1>
            <div data-view-component="true" class="d-flex">
      <div data-view-component="true" class="AppHeader-logo position-relative">
        <svg aria-hidden="true" height="24" viewBox="0 0 16 16" version="1.1" width="24" data-view-component="true" class="octicon octicon-mark-github">
    <path d="M8 0c4.42 0 8 3.58 8 8a8.013 8.013 0 0 1-5.45 7.59c-.4.08-.55-.17-.55-.38 0-.27.01-1.13.01-2.2 0-.75-.25-1.23-.54-1.48 1.78-.2 3.65-.88 3.65-3.95 0-.88-.31-1.59-.82-2.15.08-.2.36-1.02-.08-2.12 0 0-.67-.22-2.2.82-.64-.18-1.32-.27-2-.27-.68 0-1.36.09-2 .27-1.53-1.03-2.2-.82-2.2-.82-.44 1.1-.16 1.92-.08 2.12-.51.56-.82 1.28-.82 2.15 0 3.06 1.86 3.75 3.64 3.95-.23.2-.44.55-.51 1.07-.46.21-1.61.55-2.33-.66-.15-.24-.6-.83-1.23-.82-.67.01-.27.38.01.53.34.19.73.9.82 1.13.16.45.68 1.31 2.69.94 0 .67.01 1.3.01 1.49 0 .21-.15.45-.55.38A7.995 7.995 0 0 1 0 8c0-4.42 3.58-8 8-8Z"></path>
</svg>
</div></div>
    </div>
    <div class="Overlay-actionWrap">
      <button data-close-dialog-id="dialog-02d8ad9f-9b3f-45b9-95e4-def687801c18" aria-label="Close" type="button" data-view-component="true" class="close-button Overlay-closeButton"><svg aria-hidden="true" height="16" viewBox="0 0 16 16" version="1.1" width="16" data-view-component="true" class="octicon octicon-x">
    <path d="M3.72 3.72a.75.75 0 0 1 1.06 0L8 6.94l3.22-3.22a.749.749 0 0 1 1.275.326.749.749 0 0 1-.215.734L9.06 8l3.22 3.22a.749.749 0 0 1-.326 1.275.749.749 0 0 1-.734-.215L8 9.06l-3.22 3.22a.751.751 0 0 1-1.042-.018.751.751 0 0 1-.018-1.042L6.94 8 3.72 4.78a.75.75 0 0 1 0-1.06Z"></path>
</svg></button>
    </div>
  </div>
</div>
      <div data-view-component="true" class="Overlay-body d-flex flex-column height-full px-2">    <div data-view-component="true" class="d-flex flex-column height-full mb-3">
        <nav aria-label="Site navigation" data-view-component="true" class="ActionList">
  
  <nav-list>
    <ul data-view-component="true" class="ActionListWrap">
        
          
<li data-item-id="" data-targets="nav-list.items" data-view-component="true" class="ActionListItem">
    
    <a data-hotkey="g d" data-analytics-event="{&quot;category&quot;:&quot;Global navigation&quot;,&quot;action&quot;:&quot;HOME&quot;,&quot;label&quot;:null}" id="item-b8816779-0095-49b8-8d65-39b4752db628" href="/dashboard" data-view-component="true" class="ActionListContent ActionListContent--visual16">
        <span class="ActionListItem-visual ActionListItem-visual--leading">
          <svg aria-hidden="true" height="16" viewBox="0 0 16 16" version="1.1" width="16" data-view-component="true" class="octicon octicon-home">
    <path d="M6.906.664a1.749 1.749 0 0 1 2.187 0l5.25 4.2c.415.332.657.835.657 1.367v7.019A1.75 1.75 0 0 1 13.25 15h-3.5a.75.75 0 0 1-.75-.75V9H7v5.25a.75.75 0 0 1-.75.75h-3.5A1.75 1.75 0 0 1 1 13.25V6.23c0-.531.242-1.034.657-1.366l5.25-4.2Zm1.25 1.171a.25.25 0 0 0-.312 0l-5.25 4.2a.25.25 0 0 0-.094.196v7.019c0 .138.112.25.25.25H5.5V8.25a.75.75 0 0 1 .75-.75h3.5a.75.75 0 0 1 .75.75v5.25h2.75a.25.25 0 0 0 .25-.25V6.23a.25.25 0 0 0-.094-.195Z"></path>
</svg>
        </span>
      
        <span data-view-component="true" class="ActionListItem-label">
          Home
</span></a>
  
  
</li>

        
          
<li data-item-id="" data-targets="nav-list.items" data-view-component="true" class="ActionListItem">
    
    <a data-hotkey="g i" data-analytics-event="{&quot;category&quot;:&quot;Global navigation&quot;,&quot;action&quot;:&quot;ISSUES&quot;,&quot;label&quot;:null}" id="item-a78221e4-c185-4d23-8a1c-f15924ae6a66" href="/issues" data-view-component="true" class="ActionListContent ActionListContent--visual16">
        <span class="ActionListItem-visual ActionListItem-visual--leading">
          <svg aria-hidden="true" height="16" viewBox="0 0 16 16" version="1.1" width="16" data-view-component="true" class="octicon octicon-issue-opened">
    <path d="M8 9.5a1.5 1.5 0 1 0 0-3 1.5 1.5 0 0 0 0 3Z"></path><path d="M8 0a8 8 0 1 1 0 16A8 8 0 0 1 8 0ZM1.5 8a6.5 6.5 0 1 0 13 0 6.5 6.5 0 0 0-13 0Z"></path>
</svg>
        </span>
      
        <span data-view-component="true" class="ActionListItem-label">
          Issues
</span></a>
  
  
</li>

        
          
<li data-item-id="" data-targets="nav-list.items" data-view-component="true" class="ActionListItem">
    
    <a data-hotkey="g p" data-analytics-event="{&quot;category&quot;:&quot;Global navigation&quot;,&quot;action&quot;:&quot;PULL_REQUESTS&quot;,&quot;label&quot;:null}" id="item-f1f76042-4b0b-437a-b08e-b1497c82b99f" href="/pulls" data-view-component="true" class="ActionListContent ActionListContent--visual16">
        <span class="ActionListItem-visual ActionListItem-visual--leading">
          <svg aria-hidden="true" height="16" viewBox="0 0 16 16" version="1.1" width="16" data-view-component="true" class="octicon octicon-git-pull-request">
    <path d="M1.5 3.25a2.25 2.25 0 1 1 3 2.122v5.256a2.251 2.251 0 1 1-1.5 0V5.372A2.25 2.25 0 0 1 1.5 3.25Zm5.677-.177L9.573.677A.25.25 0 0 1 10 .854V2.5h1A2.5 2.5 0 0 1 13.5 5v5.628a2.251 2.251 0 1 1-1.5 0V5a1 1 0 0 0-1-1h-1v1.646a.25.25 0 0 1-.427.177L7.177 3.427a.25.25 0 0 1 0-.354ZM3.75 2.5a.75.75 0 1 0 0 1.5.75.75 0 0 0 0-1.5Zm0 9.5a.75.75 0 1 0 0 1.5.75.75 0 0 0 0-1.5Zm8.25.75a.75.75 0 1 0 1.5 0 .75.75 0 0 0-1.5 0Z"></path>
</svg>
        </span>
      
        <span data-view-component="true" class="ActionListItem-label">
          Pull requests
</span></a>
  
  
</li>

        
          
<li data-item-id="" data-targets="nav-list.items" data-view-component="true" class="ActionListItem">
    
    <a data-analytics-event="{&quot;category&quot;:&quot;Global navigation&quot;,&quot;action&quot;:&quot;DISCUSSIONS&quot;,&quot;label&quot;:null}" id="item-6aa1774f-30fa-4d0a-ba2f-6873150bc0f9" href="/discussions" data-view-component="true" class="ActionListContent ActionListContent--visual16">
        <span class="ActionListItem-visual ActionListItem-visual--leading">
          <svg aria-hidden="true" height="16" viewBox="0 0 16 16" version="1.1" width="16" data-view-component="true" class="octicon octicon-comment-discussion">
    <path d="M1.75 1h8.5c.966 0 1.75.784 1.75 1.75v5.5A1.75 1.75 0 0 1 10.25 10H7.061l-2.574 2.573A1.458 1.458 0 0 1 2 11.543V10h-.25A1.75 1.75 0 0 1 0 8.25v-5.5C0 1.784.784 1 1.75 1ZM1.5 2.75v5.5c0 .138.112.25.25.25h1a.75.75 0 0 1 .75.75v2.19l2.72-2.72a.749.749 0 0 1 .53-.22h3.5a.25.25 0 0 0 .25-.25v-5.5a.25.25 0 0 0-.25-.25h-8.5a.25.25 0 0 0-.25.25Zm13 2a.25.25 0 0 0-.25-.25h-.5a.75.75 0 0 1 0-1.5h.5c.966 0 1.75.784 1.75 1.75v5.5A1.75 1.75 0 0 1 14.25 12H14v1.543a1.458 1.458 0 0 1-2.487 1.03L9.22 12.28a.749.749 0 0 1 .326-1.275.749.749 0 0 1 .734.215l2.22 2.22v-2.19a.75.75 0 0 1 .75-.75h1a.25.25 0 0 0 .25-.25Z"></path>
</svg>
        </span>
      
        <span data-view-component="true" class="ActionListItem-label">
          Discussions
</span></a>
  
  
</li>

        
          
<li data-item-id="" data-targets="nav-list.items" data-view-component="true" class="ActionListItem">
    
    <a data-analytics-event="{&quot;category&quot;:&quot;Global navigation&quot;,&quot;action&quot;:&quot;CODESPACES&quot;,&quot;label&quot;:null}" id="item-b8fd74f5-cf93-4410-bff0-9aefb02b72c8" href="https://github.com/codespaces" data-view-component="true" class="ActionListContent ActionListContent--visual16">
        <span class="ActionListItem-visual ActionListItem-visual--leading">
          <svg aria-hidden="true" height="16" viewBox="0 0 16 16" version="1.1" width="16" data-view-component="true" class="octicon octicon-codespaces">
    <path d="M0 11.25c0-.966.784-1.75 1.75-1.75h12.5c.966 0 1.75.784 1.75 1.75v3A1.75 1.75 0 0 1 14.25 16H1.75A1.75 1.75 0 0 1 0 14.25Zm2-9.5C2 .784 2.784 0 3.75 0h8.5C13.216 0 14 .784 14 1.75v5a1.75 1.75 0 0 1-1.75 1.75h-8.5A1.75 1.75 0 0 1 2 6.75Zm1.75-.25a.25.25 0 0 0-.25.25v5c0 .138.112.25.25.25h8.5a.25.25 0 0 0 .25-.25v-5a.25.25 0 0 0-.25-.25Zm-2 9.5a.25.25 0 0 0-.25.25v3c0 .138.112.25.25.25h12.5a.25.25 0 0 0 .25-.25v-3a.25.25 0 0 0-.25-.25Z"></path><path d="M7 12.75a.75.75 0 0 1 .75-.75h4.5a.75.75 0 0 1 0 1.5h-4.5a.75.75 0 0 1-.75-.75Zm-4 0a.75.75 0 0 1 .75-.75h.5a.75.75 0 0 1 0 1.5h-.5a.75.75 0 0 1-.75-.75Z"></path>
</svg>
        </span>
      
        <span data-view-component="true" class="ActionListItem-label">
          Codespaces
</span></a>
  
  
</li>

        
          <li role="presentation" aria-hidden="true" data-view-component="true" class="ActionList-sectionDivider"></li>
        
          
<li data-item-id="" data-targets="nav-list.items" data-view-component="true" class="ActionListItem">
    
    <a data-analytics-event="{&quot;category&quot;:&quot;Global navigation&quot;,&quot;action&quot;:&quot;EXPLORE&quot;,&quot;label&quot;:null}" id="item-af8d1b9c-dbcd-417a-9f9c-e10014f16a83" href="/explore" data-view-component="true" class="ActionListContent ActionListContent--visual16">
        <span class="ActionListItem-visual ActionListItem-visual--leading">
          <svg aria-hidden="true" height="16" viewBox="0 0 16 16" version="1.1" width="16" data-view-component="true" class="octicon octicon-telescope">
    <path d="M14.184 1.143v-.001l1.422 2.464a1.75 1.75 0 0 1-.757 2.451L3.104 11.713a1.75 1.75 0 0 1-2.275-.702l-.447-.775a1.75 1.75 0 0 1 .53-2.32L11.682.573a1.748 1.748 0 0 1 2.502.57Zm-4.709 9.32h-.001l2.644 3.863a.75.75 0 1 1-1.238.848l-1.881-2.75v2.826a.75.75 0 0 1-1.5 0v-2.826l-1.881 2.75a.75.75 0 1 1-1.238-.848l2.049-2.992a.746.746 0 0 1 .293-.253l1.809-.87a.749.749 0 0 1 .944.252ZM9.436 3.92h-.001l-4.97 3.39.942 1.63 5.42-2.61Zm3.091-2.108h.001l-1.85 1.26 1.505 2.605 2.016-.97a.247.247 0 0 0 .13-.151.247.247 0 0 0-.022-.199l-1.422-2.464a.253.253 0 0 0-.161-.119.254.254 0 0 0-.197.038ZM1.756 9.157a.25.25 0 0 0-.075.33l.447.775a.25.25 0 0 0 .325.1l1.598-.769-.83-1.436-1.465 1Z"></path>
</svg>
        </span>
      
        <span data-view-component="true" class="ActionListItem-label">
          Explore
</span></a>
  
  
</li>

        
          
<li data-item-id="" data-targets="nav-list.items" data-view-component="true" class="ActionListItem">
    
    <a data-analytics-event="{&quot;category&quot;:&quot;Global navigation&quot;,&quot;action&quot;:&quot;MARKETPLACE&quot;,&quot;label&quot;:null}" id="item-00e4745f-3d1f-4fd4-a72d-6047acf52b1c" href="/marketplace" data-view-component="true" class="ActionListContent ActionListContent--visual16">
        <span class="ActionListItem-visual ActionListItem-visual--leading">
          <svg aria-hidden="true" height="16" viewBox="0 0 16 16" version="1.1" width="16" data-view-component="true" class="octicon octicon-gift">
    <path d="M2 2.75A2.75 2.75 0 0 1 4.75 0c.983 0 1.873.42 2.57 1.232.268.318.497.668.68 1.042.183-.375.411-.725.68-1.044C9.376.42 10.266 0 11.25 0a2.75 2.75 0 0 1 2.45 4h.55c.966 0 1.75.784 1.75 1.75v2c0 .698-.409 1.301-1 1.582v4.918A1.75 1.75 0 0 1 13.25 16H2.75A1.75 1.75 0 0 1 1 14.25V9.332C.409 9.05 0 8.448 0 7.75v-2C0 4.784.784 4 1.75 4h.55c-.192-.375-.3-.8-.3-1.25ZM7.25 9.5H2.5v4.75c0 .138.112.25.25.25h4.5Zm1.5 0v5h4.5a.25.25 0 0 0 .25-.25V9.5Zm0-4V8h5.5a.25.25 0 0 0 .25-.25v-2a.25.25 0 0 0-.25-.25Zm-7 0a.25.25 0 0 0-.25.25v2c0 .138.112.25.25.25h5.5V5.5h-5.5Zm3-4a1.25 1.25 0 0 0 0 2.5h2.309c-.233-.818-.542-1.401-.878-1.793-.43-.502-.915-.707-1.431-.707ZM8.941 4h2.309a1.25 1.25 0 0 0 0-2.5c-.516 0-1 .205-1.43.707-.337.392-.646.975-.879 1.793Z"></path>
</svg>
        </span>
      
        <span data-view-component="true" class="ActionListItem-label">
          Marketplace
</span></a>
  
  
</li>

</ul>  </nav-list>
</nav>

        <div data-view-component="true" class="my-3 d-flex flex-justify-center height-full">
          <svg style="box-sizing: content-box; color: var(--color-icon-primary);" width="16" height="16" viewBox="0 0 16 16" fill="none" data-view-component="true" class="anim-rotate">
  <circle cx="8" cy="8" r="7" stroke="currentColor" stroke-opacity="0.25" stroke-width="2" vector-effect="non-scaling-stroke" fill="none" />
  <path d="M15 8a7.002 7.002 0 00-7-7" stroke="currentColor" stroke-width="2" stroke-linecap="round" vector-effect="non-scaling-stroke" />
</svg>
</div>
</div>

      <div data-view-component="true" class="px-2">      <p class="color-fg-subtle text-small text-light">&copy; 2023 GitHub, Inc.</p>

      <div data-view-component="true" class="d-flex text-small text-light">
          <a target="_blank" href="/about" data-view-component="true" class="Link mr-2">About</a>
          <a target="_blank" href="https://github.blog" data-view-component="true" class="Link mr-2">Blog</a>
          <a target="_blank" href="https://docs.github.com/site-policy/github-terms/github-terms-of-service" data-view-component="true" class="Link mr-2">Terms</a>
          <a target="_blank" href="https://docs.github.com/site-policy/privacy-policies/github-privacy-statement" data-view-component="true" class="Link mr-2">Privacy</a>
          <a target="_blank" href="/security" data-view-component="true" class="Link mr-2">Security</a>
        <a target="_blank" href="https://www.githubstatus.com/" data-view-component="true" class="Link mr-3">Status</a>
</div></div>
</div>
      
</modal-dialog></div>

  </include-fragment>
</deferred-side-panel>

        <a
          class="AppHeader-logo ml-2"
          href="https://github.com/"
          data-hotkey="g d"
          aria-label="Homepage "
          data-turbo="false"
          data-analytics-event="{&quot;category&quot;:&quot;Header&quot;,&quot;action&quot;:&quot;go to dashboard&quot;,&quot;label&quot;:&quot;icon:logo&quot;}"
        >
          <svg height="32" aria-hidden="true" viewBox="0 0 16 16" version="1.1" width="32" data-view-component="true" class="octicon octicon-mark-github v-align-middle color-fg-default">
    <path d="M8 0c4.42 0 8 3.58 8 8a8.013 8.013 0 0 1-5.45 7.59c-.4.08-.55-.17-.55-.38 0-.27.01-1.13.01-2.2 0-.75-.25-1.23-.54-1.48 1.78-.2 3.65-.88 3.65-3.95 0-.88-.31-1.59-.82-2.15.08-.2.36-1.02-.08-2.12 0 0-.67-.22-2.2.82-.64-.18-1.32-.27-2-.27-.68 0-1.36.09-2 .27-1.53-1.03-2.2-.82-2.2-.82-.44 1.1-.16 1.92-.08 2.12-.51.56-.82 1.28-.82 2.15 0 3.06 1.86 3.75 3.64 3.95-.23.2-.44.55-.51 1.07-.46.21-1.61.55-2.33-.66-.15-.24-.6-.83-1.23-.82-.67.01-.27.38.01.53.34.19.73.9.82 1.13.16.45.68 1.31 2.69.94 0 .67.01 1.3.01 1.49 0 .21-.15.45-.55.38A7.995 7.995 0 0 1 0 8c0-4.42 3.58-8 8-8Z"></path>
</svg>
        </a>

          <div class="AppHeader-context" >
  <div class="AppHeader-context-compact">
        <button aria-expanded="false" aria-haspopup="dialog" aria-label="Page context: cursodatafundamentals / granada" id="dialog-show-context-region-dialog" data-show-dialog-id="context-region-dialog" type="button" data-view-component="true" class="AppHeader-context-compact-trigger Truncate Button--secondary Button--medium Button box-shadow-none">    <span class="Button-content">
      <span class="Button-label"><span class="AppHeader-context-compact-lead">
                <span class="AppHeader-context-compact-parentItem">cursodatafundamentals</span>
                <span class="AppHeader-context-compact-separator">&nbsp;/</span>

            </span>

            <strong class="AppHeader-context-compact-mainItem d-flex flex-items-center Truncate" >
  <span class="Truncate-text ">granada</span>

    <svg aria-hidden="true" height="12" viewBox="0 0 16 16" version="1.1" width="12" data-view-component="true" class="octicon octicon-lock ml-1">
    <path d="M4 4a4 4 0 0 1 8 0v2h.25c.966 0 1.75.784 1.75 1.75v5.5A1.75 1.75 0 0 1 12.25 15h-8.5A1.75 1.75 0 0 1 2 13.25v-5.5C2 6.784 2.784 6 3.75 6H4Zm8.25 3.5h-8.5a.25.25 0 0 0-.25.25v5.5c0 .138.112.25.25.25h8.5a.25.25 0 0 0 .25-.25v-5.5a.25.25 0 0 0-.25-.25ZM10.5 6V4a2.5 2.5 0 1 0-5 0v2Z"></path>
</svg>
</strong></span>
    </span>
</button>  

<div class="Overlay--hidden Overlay-backdrop--center" data-modal-dialog-overlay>
  <modal-dialog role="dialog" id="context-region-dialog" aria-modal="true" aria-disabled="true" aria-labelledby="context-region-dialog-title" aria-describedby="context-region-dialog-description" data-view-component="true" class="Overlay Overlay-whenNarrow Overlay--size-medium Overlay--motion-scaleFade">
    <div data-view-component="true" class="Overlay-header">
  <div class="Overlay-headerContentWrap">
    <div class="Overlay-titleWrap">
      <h1 class="Overlay-title " id="context-region-dialog-title">
        Navigate back to
      </h1>
    </div>
    <div class="Overlay-actionWrap">
      <button data-close-dialog-id="context-region-dialog" aria-label="Close" type="button" data-view-component="true" class="close-button Overlay-closeButton"><svg aria-hidden="true" height="16" viewBox="0 0 16 16" version="1.1" width="16" data-view-component="true" class="octicon octicon-x">
    <path d="M3.72 3.72a.75.75 0 0 1 1.06 0L8 6.94l3.22-3.22a.749.749 0 0 1 1.275.326.749.749 0 0 1-.215.734L9.06 8l3.22 3.22a.749.749 0 0 1-.326 1.275.749.749 0 0 1-.734-.215L8 9.06l-3.22 3.22a.751.751 0 0 1-1.042-.018.751.751 0 0 1-.018-1.042L6.94 8 3.72 4.78a.75.75 0 0 1 0-1.06Z"></path>
</svg></button>
    </div>
  </div>
</div>
      <div data-view-component="true" class="Overlay-body">          <ul role="list" class="list-style-none" >
    <li>
      <a data-analytics-event="{&quot;category&quot;:&quot;SiteHeaderComponent&quot;,&quot;action&quot;:&quot;context_region_crumb&quot;,&quot;label&quot;:&quot;cursodatafundamentals&quot;,&quot;screen_size&quot;:&quot;compact&quot;}" href="/cursodatafundamentals" data-view-component="true" class="Link--primary Truncate d-flex flex-items-center py-1">
        <span class="AppHeader-context-item-label Truncate-text ">
            <svg aria-hidden="true" height="12" viewBox="0 0 16 16" version="1.1" width="12" data-view-component="true" class="octicon octicon-person mr-1">
    <path d="M10.561 8.073a6.005 6.005 0 0 1 3.432 5.142.75.75 0 1 1-1.498.07 4.5 4.5 0 0 0-8.99 0 .75.75 0 0 1-1.498-.07 6.004 6.004 0 0 1 3.431-5.142 3.999 3.999 0 1 1 5.123 0ZM10.5 5a2.5 2.5 0 1 0-5 0 2.5 2.5 0 0 0 5 0Z"></path>
</svg>

          cursodatafundamentals
        </span>

</a>
    </li>
    <li>
      <a data-analytics-event="{&quot;category&quot;:&quot;SiteHeaderComponent&quot;,&quot;action&quot;:&quot;context_region_crumb&quot;,&quot;label&quot;:&quot;granada&quot;,&quot;screen_size&quot;:&quot;compact&quot;}" href="/cursodatafundamentals/granada" data-view-component="true" class="Link--primary Truncate d-flex flex-items-center py-1">
        <span class="AppHeader-context-item-label Truncate-text ">
            <svg aria-hidden="true" height="12" viewBox="0 0 16 16" version="1.1" width="12" data-view-component="true" class="octicon octicon-repo mr-1">
    <path d="M2 2.5A2.5 2.5 0 0 1 4.5 0h8.75a.75.75 0 0 1 .75.75v12.5a.75.75 0 0 1-.75.75h-2.5a.75.75 0 0 1 0-1.5h1.75v-2h-8a1 1 0 0 0-.714 1.7.75.75 0 1 1-1.072 1.05A2.495 2.495 0 0 1 2 11.5Zm10.5-1h-8a1 1 0 0 0-1 1v6.708A2.486 2.486 0 0 1 4.5 9h8ZM5 12.25a.25.25 0 0 1 .25-.25h3.5a.25.25 0 0 1 .25.25v3.25a.25.25 0 0 1-.4.2l-1.45-1.087a.249.249 0 0 0-.3 0L5.4 15.7a.25.25 0 0 1-.4-.2Z"></path>
</svg>

          granada
        </span>

          <svg aria-hidden="true" height="12" viewBox="0 0 16 16" version="1.1" width="12" data-view-component="true" class="octicon octicon-lock ml-1">
    <path d="M4 4a4 4 0 0 1 8 0v2h.25c.966 0 1.75.784 1.75 1.75v5.5A1.75 1.75 0 0 1 12.25 15h-8.5A1.75 1.75 0 0 1 2 13.25v-5.5C2 6.784 2.784 6 3.75 6H4Zm8.25 3.5h-8.5a.25.25 0 0 0-.25.25v5.5c0 .138.112.25.25.25h8.5a.25.25 0 0 0 .25-.25v-5.5a.25.25 0 0 0-.25-.25ZM10.5 6V4a2.5 2.5 0 1 0-5 0v2Z"></path>
</svg>
</a>
    </li>
</ul>

</div>
      
</modal-dialog></div>
  </div>

  <div class="AppHeader-context-full">
    <nav role="navigation" aria-label="Page context">
      <ul role="list" class="list-style-none" >
    <li>
      <a data-analytics-event="{&quot;category&quot;:&quot;SiteHeaderComponent&quot;,&quot;action&quot;:&quot;context_region_crumb&quot;,&quot;label&quot;:&quot;cursodatafundamentals&quot;,&quot;screen_size&quot;:&quot;full&quot;}" data-hovercard-type="user" data-hovercard-url="/users/cursodatafundamentals/hovercard" data-octo-click="hovercard-link-click" data-octo-dimensions="link_type:self" href="/cursodatafundamentals" data-view-component="true" class="AppHeader-context-item">
        <span class="AppHeader-context-item-label  ">

          cursodatafundamentals
        </span>

</a>
        <span class="AppHeader-context-item-separator">/</span>
    </li>
    <li>
      <a data-analytics-event="{&quot;category&quot;:&quot;SiteHeaderComponent&quot;,&quot;action&quot;:&quot;context_region_crumb&quot;,&quot;label&quot;:&quot;granada&quot;,&quot;screen_size&quot;:&quot;full&quot;}" href="/cursodatafundamentals/granada" data-view-component="true" class="AppHeader-context-item">
        <span class="AppHeader-context-item-label  ">

          granada
        </span>

          <svg aria-hidden="true" height="12" viewBox="0 0 16 16" version="1.1" width="12" data-view-component="true" class="octicon octicon-lock ml-1">
    <path d="M4 4a4 4 0 0 1 8 0v2h.25c.966 0 1.75.784 1.75 1.75v5.5A1.75 1.75 0 0 1 12.25 15h-8.5A1.75 1.75 0 0 1 2 13.25v-5.5C2 6.784 2.784 6 3.75 6H4Zm8.25 3.5h-8.5a.25.25 0 0 0-.25.25v5.5c0 .138.112.25.25.25h8.5a.25.25 0 0 0 .25-.25v-5.5a.25.25 0 0 0-.25-.25ZM10.5 6V4a2.5 2.5 0 1 0-5 0v2Z"></path>
</svg>
</a>
    </li>
</ul>

    </nav>
  </div>
</div>

      </div>
      <div class="AppHeader-globalBar-end">
          <div class="AppHeader-search" >
              


<qbsearch-input class="search-input" data-scope="repo:cursodatafundamentals/granada" data-custom-scopes-path="/search/custom_scopes" data-delete-custom-scopes-csrf="UBL_ytx-ptlNdnByGRmncKFyEY80Zb4b1i0PLyymdNBCjKaa7nezrHfR9ZbNkM9Cla09d8oxOU5tEjmHD6zb8Q" data-max-custom-scopes="10" data-header-redesign-enabled="true" data-initial-value="" data-blackbird-suggestions-path="/search/suggestions" data-jump-to-suggestions-path="/_graphql/GetSuggestedNavigationDestinations" data-current-repository="cursodatafundamentals/granada" data-current-org="" data-current-owner="cursodatafundamentals" data-logged-in="true">
  <div
    class="search-input-container search-with-dialog position-relative d-flex flex-row flex-items-center height-auto color-bg-transparent border-0 color-fg-subtle mx-0"
    data-action="click:qbsearch-input#searchInputContainerClicked"
  >
      
            <button type="button" data-action="click:qbsearch-input#handleExpand" class="AppHeader-button AppHeader-search-whenNarrow" aria-label="Search or jump to…" aria-expanded="false" aria-haspopup="dialog">
            <svg aria-hidden="true" height="16" viewBox="0 0 16 16" version="1.1" width="16" data-view-component="true" class="octicon octicon-search">
    <path d="M10.68 11.74a6 6 0 0 1-7.922-8.982 6 6 0 0 1 8.982 7.922l3.04 3.04a.749.749 0 0 1-.326 1.275.749.749 0 0 1-.734-.215ZM11.5 7a4.499 4.499 0 1 0-8.997 0A4.499 4.499 0 0 0 11.5 7Z"></path>
</svg>
          </button>


<div class="AppHeader-search-whenRegular">
  <div class="AppHeader-search-wrap AppHeader-search-wrap--hasTrailing">
    <div class="AppHeader-search-control">
      <label
        for="AppHeader-searchInput"
        aria-label="Search or jump to…"
        class="AppHeader-search-visual--leading"
      >
        <svg aria-hidden="true" height="16" viewBox="0 0 16 16" version="1.1" width="16" data-view-component="true" class="octicon octicon-search">
    <path d="M10.68 11.74a6 6 0 0 1-7.922-8.982 6 6 0 0 1 8.982 7.922l3.04 3.04a.749.749 0 0 1-.326 1.275.749.749 0 0 1-.734-.215ZM11.5 7a4.499 4.499 0 1 0-8.997 0A4.499 4.499 0 0 0 11.5 7Z"></path>
</svg>
      </label>

                <button
            type="button"
            data-target="qbsearch-input.inputButton"
            data-action="click:qbsearch-input#handleExpand"
            class="AppHeader-searchButton form-control input-contrast text-left color-fg-subtle no-wrap"
            data-hotkey="s,/"
            data-analytics-event="{&quot;category&quot;:&quot;Global navigation&quot;,&quot;action&quot;:&quot;SEARCH&quot;,&quot;label&quot;:null}"
          >
            <div class="overflow-hidden">
              <span id="qb-input-query" data-target="qbsearch-input.inputButtonText">
                  Type <kbd class="AppHeader-search-kbd">/</kbd> to search
              </span>
            </div>
          </button>

    </div>


      <button type="button" id="AppHeader-commandPalette-button" class="AppHeader-search-action--trailing js-activate-command-palette" data-analytics-event="{&quot;category&quot;:&quot;SiteHeaderComponent&quot;,&quot;action&quot;:&quot;command_palette&quot;,&quot;label&quot;:&quot;open command palette&quot;}">
        <svg aria-hidden="true" height="16" viewBox="0 0 16 16" version="1.1" width="16" data-view-component="true" class="octicon octicon-command-palette">
    <path d="m6.354 8.04-4.773 4.773a.75.75 0 1 0 1.061 1.06L7.945 8.57a.75.75 0 0 0 0-1.06L2.642 2.206a.75.75 0 0 0-1.06 1.061L6.353 8.04ZM8.75 11.5a.75.75 0 0 0 0 1.5h5.5a.75.75 0 0 0 0-1.5h-5.5Z"></path>
</svg>
      </button>

      <tool-tip id="tooltip-ce4a7b04-05ba-490f-86fe-8a8d35b0f79b" for="AppHeader-commandPalette-button" popover="manual" data-direction="s" data-type="label" data-view-component="true" class="sr-only position-absolute">Command palette</tool-tip>
  </div>
</div>

    <input type="hidden" name="type" class="js-site-search-type-field">

    
<div class="Overlay--hidden " data-modal-dialog-overlay>
  <modal-dialog data-action="close:qbsearch-input#handleClose cancel:qbsearch-input#handleClose" data-target="qbsearch-input.searchSuggestionsDialog" role="dialog" id="search-suggestions-dialog" aria-modal="true" aria-labelledby="search-suggestions-dialog-header" data-view-component="true" class="Overlay Overlay--width-medium Overlay--height-auto">
      <h1 id="search-suggestions-dialog-header" class="sr-only">Search code, repositories, users, issues, pull requests...</h1>
    <div class="Overlay-body Overlay-body--paddingNone">
      
          <div data-view-component="true">        <div class="search-suggestions position-absolute width-full color-shadow-large border color-fg-default color-bg-default overflow-hidden d-flex flex-column query-builder-container"
          style="border-radius: 12px;"
          data-target="qbsearch-input.queryBuilderContainer"
          hidden
        >
          <!-- '"` --><!-- </textarea></xmp> --></option></form><form id="query-builder-test-form" action="" accept-charset="UTF-8" method="get">
  <query-builder data-target="qbsearch-input.queryBuilder" id="query-builder-query-builder-test" data-filter-key=":" data-view-component="true" class="QueryBuilder search-query-builder">
    <div class="FormControl FormControl--fullWidth">
      <label id="query-builder-test-label" for="query-builder-test" class="FormControl-label sr-only">
        Search
      </label>
      <div
        class="QueryBuilder-StyledInput width-fit "
        data-target="query-builder.styledInput"
      >
          <span id="query-builder-test-leadingvisual-wrap" class="FormControl-input-leadingVisualWrap QueryBuilder-leadingVisualWrap">
            <svg aria-hidden="true" height="16" viewBox="0 0 16 16" version="1.1" width="16" data-view-component="true" class="octicon octicon-search FormControl-input-leadingVisual">
    <path d="M10.68 11.74a6 6 0 0 1-7.922-8.982 6 6 0 0 1 8.982 7.922l3.04 3.04a.749.749 0 0 1-.326 1.275.749.749 0 0 1-.734-.215ZM11.5 7a4.499 4.499 0 1 0-8.997 0A4.499 4.499 0 0 0 11.5 7Z"></path>
</svg>
          </span>
        <div data-target="query-builder.styledInputContainer" class="QueryBuilder-StyledInputContainer">
          <div
            aria-hidden="true"
            class="QueryBuilder-StyledInputContent"
            data-target="query-builder.styledInputContent"
          ></div>
          <div class="QueryBuilder-InputWrapper">
            <div aria-hidden="true" class="QueryBuilder-Sizer" data-target="query-builder.sizer"></div>
            <input id="query-builder-test" name="query-builder-test" value="" autocomplete="off" type="text" role="combobox" spellcheck="false" aria-expanded="false" aria-describedby="validation-eb457736-d818-4c1e-bbb0-5746ba922705" data-target="query-builder.input" data-action="
          input:query-builder#inputChange
          blur:query-builder#inputBlur
          keydown:query-builder#inputKeydown
          focus:query-builder#inputFocus
        " data-view-component="true" class="FormControl-input QueryBuilder-Input FormControl-medium" />
          </div>
        </div>
          <span class="sr-only" id="query-builder-test-clear">Clear</span>
          
  <button role="button" id="query-builder-test-clear-button" aria-labelledby="query-builder-test-clear query-builder-test-label" data-target="query-builder.clearButton" data-action="
                click:query-builder#clear
                focus:query-builder#clearButtonFocus
                blur:query-builder#clearButtonBlur
              " variant="small" hidden="hidden" type="button" data-view-component="true" class="Button Button--iconOnly Button--invisible Button--medium mr-1 px-2 py-0 d-flex flex-items-center rounded-1 color-fg-muted">    <svg aria-hidden="true" height="16" viewBox="0 0 16 16" version="1.1" width="16" data-view-component="true" class="octicon octicon-x-circle-fill Button-visual">
    <path d="M2.343 13.657A8 8 0 1 1 13.658 2.343 8 8 0 0 1 2.343 13.657ZM6.03 4.97a.751.751 0 0 0-1.042.018.751.751 0 0 0-.018 1.042L6.94 8 4.97 9.97a.749.749 0 0 0 .326 1.275.749.749 0 0 0 .734-.215L8 9.06l1.97 1.97a.749.749 0 0 0 1.275-.326.749.749 0 0 0-.215-.734L9.06 8l1.97-1.97a.749.749 0 0 0-.326-1.275.749.749 0 0 0-.734.215L8 6.94Z"></path>
</svg>
</button>  

      </div>
      <template id="search-icon">
  <svg aria-hidden="true" height="16" viewBox="0 0 16 16" version="1.1" width="16" data-view-component="true" class="octicon octicon-search">
    <path d="M10.68 11.74a6 6 0 0 1-7.922-8.982 6 6 0 0 1 8.982 7.922l3.04 3.04a.749.749 0 0 1-.326 1.275.749.749 0 0 1-.734-.215ZM11.5 7a4.499 4.499 0 1 0-8.997 0A4.499 4.499 0 0 0 11.5 7Z"></path>
</svg>
</template>

<template id="code-icon">
  <svg aria-hidden="true" height="16" viewBox="0 0 16 16" version="1.1" width="16" data-view-component="true" class="octicon octicon-code">
    <path d="m11.28 3.22 4.25 4.25a.75.75 0 0 1 0 1.06l-4.25 4.25a.749.749 0 0 1-1.275-.326.749.749 0 0 1 .215-.734L13.94 8l-3.72-3.72a.749.749 0 0 1 .326-1.275.749.749 0 0 1 .734.215Zm-6.56 0a.751.751 0 0 1 1.042.018.751.751 0 0 1 .018 1.042L2.06 8l3.72 3.72a.749.749 0 0 1-.326 1.275.749.749 0 0 1-.734-.215L.47 8.53a.75.75 0 0 1 0-1.06Z"></path>
</svg>
</template>

<template id="file-code-icon">
  <svg aria-hidden="true" height="16" viewBox="0 0 16 16" version="1.1" width="16" data-view-component="true" class="octicon octicon-file-code">
    <path d="M4 1.75C4 .784 4.784 0 5.75 0h5.586c.464 0 .909.184 1.237.513l2.914 2.914c.329.328.513.773.513 1.237v8.586A1.75 1.75 0 0 1 14.25 15h-9a.75.75 0 0 1 0-1.5h9a.25.25 0 0 0 .25-.25V6h-2.75A1.75 1.75 0 0 1 10 4.25V1.5H5.75a.25.25 0 0 0-.25.25v2.5a.75.75 0 0 1-1.5 0Zm1.72 4.97a.75.75 0 0 1 1.06 0l2 2a.75.75 0 0 1 0 1.06l-2 2a.749.749 0 0 1-1.275-.326.749.749 0 0 1 .215-.734l1.47-1.47-1.47-1.47a.75.75 0 0 1 0-1.06ZM3.28 7.78 1.81 9.25l1.47 1.47a.751.751 0 0 1-.018 1.042.751.751 0 0 1-1.042.018l-2-2a.75.75 0 0 1 0-1.06l2-2a.751.751 0 0 1 1.042.018.751.751 0 0 1 .018 1.042Zm8.22-6.218V4.25c0 .138.112.25.25.25h2.688l-.011-.013-2.914-2.914-.013-.011Z"></path>
</svg>
</template>

<template id="history-icon">
  <svg aria-hidden="true" height="16" viewBox="0 0 16 16" version="1.1" width="16" data-view-component="true" class="octicon octicon-history">
    <path d="m.427 1.927 1.215 1.215a8.002 8.002 0 1 1-1.6 5.685.75.75 0 1 1 1.493-.154 6.5 6.5 0 1 0 1.18-4.458l1.358 1.358A.25.25 0 0 1 3.896 6H.25A.25.25 0 0 1 0 5.75V2.104a.25.25 0 0 1 .427-.177ZM7.75 4a.75.75 0 0 1 .75.75v2.992l2.028.812a.75.75 0 0 1-.557 1.392l-2.5-1A.751.751 0 0 1 7 8.25v-3.5A.75.75 0 0 1 7.75 4Z"></path>
</svg>
</template>

<template id="repo-icon">
  <svg aria-hidden="true" height="16" viewBox="0 0 16 16" version="1.1" width="16" data-view-component="true" class="octicon octicon-repo">
    <path d="M2 2.5A2.5 2.5 0 0 1 4.5 0h8.75a.75.75 0 0 1 .75.75v12.5a.75.75 0 0 1-.75.75h-2.5a.75.75 0 0 1 0-1.5h1.75v-2h-8a1 1 0 0 0-.714 1.7.75.75 0 1 1-1.072 1.05A2.495 2.495 0 0 1 2 11.5Zm10.5-1h-8a1 1 0 0 0-1 1v6.708A2.486 2.486 0 0 1 4.5 9h8ZM5 12.25a.25.25 0 0 1 .25-.25h3.5a.25.25 0 0 1 .25.25v3.25a.25.25 0 0 1-.4.2l-1.45-1.087a.249.249 0 0 0-.3 0L5.4 15.7a.25.25 0 0 1-.4-.2Z"></path>
</svg>
</template>

<template id="bookmark-icon">
  <svg aria-hidden="true" height="16" viewBox="0 0 16 16" version="1.1" width="16" data-view-component="true" class="octicon octicon-bookmark">
    <path d="M3 2.75C3 1.784 3.784 1 4.75 1h6.5c.966 0 1.75.784 1.75 1.75v11.5a.75.75 0 0 1-1.227.579L8 11.722l-3.773 3.107A.751.751 0 0 1 3 14.25Zm1.75-.25a.25.25 0 0 0-.25.25v9.91l3.023-2.489a.75.75 0 0 1 .954 0l3.023 2.49V2.75a.25.25 0 0 0-.25-.25Z"></path>
</svg>
</template>

<template id="plus-circle-icon">
  <svg aria-hidden="true" height="16" viewBox="0 0 16 16" version="1.1" width="16" data-view-component="true" class="octicon octicon-plus-circle">
    <path d="M8 0a8 8 0 1 1 0 16A8 8 0 0 1 8 0ZM1.5 8a6.5 6.5 0 1 0 13 0 6.5 6.5 0 0 0-13 0Zm7.25-3.25v2.5h2.5a.75.75 0 0 1 0 1.5h-2.5v2.5a.75.75 0 0 1-1.5 0v-2.5h-2.5a.75.75 0 0 1 0-1.5h2.5v-2.5a.75.75 0 0 1 1.5 0Z"></path>
</svg>
</template>

<template id="circle-icon">
  <svg aria-hidden="true" height="16" viewBox="0 0 16 16" version="1.1" width="16" data-view-component="true" class="octicon octicon-dot-fill">
    <path d="M8 4a4 4 0 1 1 0 8 4 4 0 0 1 0-8Z"></path>
</svg>
</template>

<template id="trash-icon">
  <svg aria-hidden="true" height="16" viewBox="0 0 16 16" version="1.1" width="16" data-view-component="true" class="octicon octicon-trash">
    <path d="M11 1.75V3h2.25a.75.75 0 0 1 0 1.5H2.75a.75.75 0 0 1 0-1.5H5V1.75C5 .784 5.784 0 6.75 0h2.5C10.216 0 11 .784 11 1.75ZM4.496 6.675l.66 6.6a.25.25 0 0 0 .249.225h5.19a.25.25 0 0 0 .249-.225l.66-6.6a.75.75 0 0 1 1.492.149l-.66 6.6A1.748 1.748 0 0 1 10.595 15h-5.19a1.75 1.75 0 0 1-1.741-1.575l-.66-6.6a.75.75 0 1 1 1.492-.15ZM6.5 1.75V3h3V1.75a.25.25 0 0 0-.25-.25h-2.5a.25.25 0 0 0-.25.25Z"></path>
</svg>
</template>

<template id="team-icon">
  <svg aria-hidden="true" height="16" viewBox="0 0 16 16" version="1.1" width="16" data-view-component="true" class="octicon octicon-people">
    <path d="M2 5.5a3.5 3.5 0 1 1 5.898 2.549 5.508 5.508 0 0 1 3.034 4.084.75.75 0 1 1-1.482.235 4 4 0 0 0-7.9 0 .75.75 0 0 1-1.482-.236A5.507 5.507 0 0 1 3.102 8.05 3.493 3.493 0 0 1 2 5.5ZM11 4a3.001 3.001 0 0 1 2.22 5.018 5.01 5.01 0 0 1 2.56 3.012.749.749 0 0 1-.885.954.752.752 0 0 1-.549-.514 3.507 3.507 0 0 0-2.522-2.372.75.75 0 0 1-.574-.73v-.352a.75.75 0 0 1 .416-.672A1.5 1.5 0 0 0 11 5.5.75.75 0 0 1 11 4Zm-5.5-.5a2 2 0 1 0-.001 3.999A2 2 0 0 0 5.5 3.5Z"></path>
</svg>
</template>

<template id="project-icon">
  <svg aria-hidden="true" height="16" viewBox="0 0 16 16" version="1.1" width="16" data-view-component="true" class="octicon octicon-project">
    <path d="M1.75 0h12.5C15.216 0 16 .784 16 1.75v12.5A1.75 1.75 0 0 1 14.25 16H1.75A1.75 1.75 0 0 1 0 14.25V1.75C0 .784.784 0 1.75 0ZM1.5 1.75v12.5c0 .138.112.25.25.25h12.5a.25.25 0 0 0 .25-.25V1.75a.25.25 0 0 0-.25-.25H1.75a.25.25 0 0 0-.25.25ZM11.75 3a.75.75 0 0 1 .75.75v7.5a.75.75 0 0 1-1.5 0v-7.5a.75.75 0 0 1 .75-.75Zm-8.25.75a.75.75 0 0 1 1.5 0v5.5a.75.75 0 0 1-1.5 0ZM8 3a.75.75 0 0 1 .75.75v3.5a.75.75 0 0 1-1.5 0v-3.5A.75.75 0 0 1 8 3Z"></path>
</svg>
</template>

<template id="pencil-icon">
  <svg aria-hidden="true" height="16" viewBox="0 0 16 16" version="1.1" width="16" data-view-component="true" class="octicon octicon-pencil">
    <path d="M11.013 1.427a1.75 1.75 0 0 1 2.474 0l1.086 1.086a1.75 1.75 0 0 1 0 2.474l-8.61 8.61c-.21.21-.47.364-.756.445l-3.251.93a.75.75 0 0 1-.927-.928l.929-3.25c.081-.286.235-.547.445-.758l8.61-8.61Zm.176 4.823L9.75 4.81l-6.286 6.287a.253.253 0 0 0-.064.108l-.558 1.953 1.953-.558a.253.253 0 0 0 .108-.064Zm1.238-3.763a.25.25 0 0 0-.354 0L10.811 3.75l1.439 1.44 1.263-1.263a.25.25 0 0 0 0-.354Z"></path>
</svg>
</template>

        <div class="position-relative">
                <ul
                  role="listbox"
                  class="ActionListWrap QueryBuilder-ListWrap"
                  aria-label="Suggestions"
                  data-action="
                    combobox-commit:query-builder#comboboxCommit
                    mousedown:query-builder#resultsMousedown
                  "
                  data-target="query-builder.resultsList"
                  data-persist-list=false
                  id="query-builder-test-results"
                ></ul>
        </div>
      <div class="FormControl-inlineValidation" id="validation-eb457736-d818-4c1e-bbb0-5746ba922705" hidden="hidden">
        <span class="FormControl-inlineValidation--visual">
          <svg aria-hidden="true" height="12" viewBox="0 0 12 12" version="1.1" width="12" data-view-component="true" class="octicon octicon-alert-fill">
    <path d="M4.855.708c.5-.896 1.79-.896 2.29 0l4.675 8.351a1.312 1.312 0 0 1-1.146 1.954H1.33A1.313 1.313 0 0 1 .183 9.058ZM7 7V3H5v4Zm-1 3a1 1 0 1 0 0-2 1 1 0 0 0 0 2Z"></path>
</svg>
        </span>
        <span></span>
</div>    </div>
    <div data-target="query-builder.screenReaderFeedback" aria-live="polite" aria-atomic="true" class="sr-only"></div>
</query-builder></form>
          <div class="d-flex flex-row color-fg-muted px-3 text-small color-bg-default search-feedback-prompt">
            <a target="_blank" href="https://docs.github.com/en/search-github/github-code-search/understanding-github-code-search-syntax" data-view-component="true" class="Link color-fg-accent text-normal ml-2">
              Search syntax tips
</a>            <div class="d-flex flex-1"></div>
                <button data-action="click:qbsearch-input#showFeedbackDialog" type="button" data-view-component="true" class="Button--link Button--medium Button color-fg-accent text-normal ml-2">    <span class="Button-content">
      <span class="Button-label">Give feedback</span>
    </span>
</button>  
          </div>
        </div>
</div>

    </div>
</modal-dialog></div>
  </div>
  <div data-action="click:qbsearch-input#retract" class="dark-backdrop position-fixed" hidden data-target="qbsearch-input.darkBackdrop"></div>
  <div class="color-fg-default">
    
<div class="Overlay--hidden Overlay-backdrop--center" data-modal-dialog-overlay>
  <modal-dialog data-target="qbsearch-input.feedbackDialog" data-action="close:qbsearch-input#handleDialogClose cancel:qbsearch-input#handleDialogClose" role="dialog" id="feedback-dialog" aria-modal="true" aria-disabled="true" aria-labelledby="feedback-dialog-title" aria-describedby="feedback-dialog-description" data-view-component="true" class="Overlay Overlay-whenNarrow Overlay--size-medium Overlay--motion-scaleFade">
    <div data-view-component="true" class="Overlay-header">
  <div class="Overlay-headerContentWrap">
    <div class="Overlay-titleWrap">
      <h1 class="Overlay-title " id="feedback-dialog-title">
        Provide feedback
      </h1>
    </div>
    <div class="Overlay-actionWrap">
      <button data-close-dialog-id="feedback-dialog" aria-label="Close" type="button" data-view-component="true" class="close-button Overlay-closeButton"><svg aria-hidden="true" height="16" viewBox="0 0 16 16" version="1.1" width="16" data-view-component="true" class="octicon octicon-x">
    <path d="M3.72 3.72a.75.75 0 0 1 1.06 0L8 6.94l3.22-3.22a.749.749 0 0 1 1.275.326.749.749 0 0 1-.215.734L9.06 8l3.22 3.22a.749.749 0 0 1-.326 1.275.749.749 0 0 1-.734-.215L8 9.06l-3.22 3.22a.751.751 0 0 1-1.042-.018.751.751 0 0 1-.018-1.042L6.94 8 3.72 4.78a.75.75 0 0 1 0-1.06Z"></path>
</svg></button>
    </div>
  </div>
</div>
      <div data-view-component="true" class="Overlay-body">        <!-- '"` --><!-- </textarea></xmp> --></option></form><form id="code-search-feedback-form" data-turbo="false" action="/search/feedback" accept-charset="UTF-8" method="post"><input type="hidden" name="authenticity_token" value="fHoNysmVAMoKhObvrb3BOqKyp9LUcDsqyaMgphx8hTfRky8fvJ772o7r7rQ8zoifACeDHEdRXeHLYqk45Dx40Q" />
          <p>We read every piece of feedback, and take your input very seriously.</p>
          <textarea name="feedback" class="form-control width-full mb-2" style="height: 120px" id="feedback"></textarea>
          <input name="include_email" id="include_email" aria-label="Include my email address so I can be contacted" class="form-control mr-2" type="checkbox">
          <label for="include_email" style="font-weight: normal">Include my email address so I can be contacted</label>
</form></div>
      <div data-view-component="true" class="Overlay-footer Overlay-footer--alignEnd">          <button data-close-dialog-id="feedback-dialog" type="button" data-view-component="true" class="btn">    Cancel
</button>
          <button form="code-search-feedback-form" data-action="click:qbsearch-input#submitFeedback" type="submit" data-view-component="true" class="btn-primary btn">    Submit feedback
</button>
</div>
</modal-dialog></div>

    <custom-scopes data-target="qbsearch-input.customScopesManager">
    
<div class="Overlay--hidden Overlay-backdrop--center" data-modal-dialog-overlay>
  <modal-dialog data-target="custom-scopes.customScopesModalDialog" data-action="close:qbsearch-input#handleDialogClose cancel:qbsearch-input#handleDialogClose" role="dialog" id="custom-scopes-dialog" aria-modal="true" aria-disabled="true" aria-labelledby="custom-scopes-dialog-title" aria-describedby="custom-scopes-dialog-description" data-view-component="true" class="Overlay Overlay-whenNarrow Overlay--size-medium Overlay--motion-scaleFade">
    <div data-view-component="true" class="Overlay-header Overlay-header--divided">
  <div class="Overlay-headerContentWrap">
    <div class="Overlay-titleWrap">
      <h1 class="Overlay-title " id="custom-scopes-dialog-title">
        Saved searches
      </h1>
        <h2 id="custom-scopes-dialog-description" class="Overlay-description">Use saved searches to filter your results more quickly</h2>
    </div>
    <div class="Overlay-actionWrap">
      <button data-close-dialog-id="custom-scopes-dialog" aria-label="Close" type="button" data-view-component="true" class="close-button Overlay-closeButton"><svg aria-hidden="true" height="16" viewBox="0 0 16 16" version="1.1" width="16" data-view-component="true" class="octicon octicon-x">
    <path d="M3.72 3.72a.75.75 0 0 1 1.06 0L8 6.94l3.22-3.22a.749.749 0 0 1 1.275.326.749.749 0 0 1-.215.734L9.06 8l3.22 3.22a.749.749 0 0 1-.326 1.275.749.749 0 0 1-.734-.215L8 9.06l-3.22 3.22a.751.751 0 0 1-1.042-.018.751.751 0 0 1-.018-1.042L6.94 8 3.72 4.78a.75.75 0 0 1 0-1.06Z"></path>
</svg></button>
    </div>
  </div>
</div>
      <div data-view-component="true" class="Overlay-body">        <div data-target="custom-scopes.customScopesModalDialogFlash"></div>

        <div hidden class="create-custom-scope-form" data-target="custom-scopes.createCustomScopeForm">
        <!-- '"` --><!-- </textarea></xmp> --></option></form><form id="custom-scopes-dialog-form" data-turbo="false" action="/search/custom_scopes" accept-charset="UTF-8" method="post"><input type="hidden" name="authenticity_token" value="J8SCqTfx3vfCHg2YRJMJ57W_-y741AcdFPV15sAZT-9yjqbCTuQKd6Dlc8Pu-rk2BuFn4ZWqc_LZCCHC6Xq6bg" />
          <div data-target="custom-scopes.customScopesModalDialogFlash"></div>

          <input type="hidden" id="custom_scope_id" name="custom_scope_id" data-target="custom-scopes.customScopesIdField">

          <div class="form-group">
            <label for="custom_scope_name">Name</label>
            <auto-check src="/search/custom_scopes/check_name" required>
              <input
                type="text"
                name="custom_scope_name"
                id="custom_scope_name"
                data-target="custom-scopes.customScopesNameField"
                class="form-control"
                autocomplete="off"
                placeholder="github-ruby"
                required
                maxlength="50">
              <input type="hidden" value="5T4tQHGz2eSDkbaNlj_mmkeLjc7EW62UgL_9i8-q8C3iWPl6BRI2oZoV2-cm3Uk7J9uI6qqulRORKzKXPa5wDg" data-csrf="true" />
            </auto-check>
          </div>

          <div class="form-group">
            <label for="custom_scope_query">Query</label>
            <input
              type="text"
              name="custom_scope_query"
              id="custom_scope_query"
              data-target="custom-scopes.customScopesQueryField"
              class="form-control"
              autocomplete="off"
              placeholder="(repo:mona/a OR repo:mona/b) AND lang:python"
              required
              maxlength="500">
          </div>

          <p class="text-small color-fg-muted">
            To see all available qualifiers, see our <a class="Link--inTextBlock" href="https://docs.github.com/en/search-github/github-code-search/understanding-github-code-search-syntax">documentation</a>.
          </p>
</form>        </div>

        <div data-target="custom-scopes.manageCustomScopesForm">
          <div data-target="custom-scopes.list"></div>
        </div>

</div>
      <div data-view-component="true" class="Overlay-footer Overlay-footer--alignEnd Overlay-footer--divided">          <button data-action="click:custom-scopes#customScopesCancel" type="button" data-view-component="true" class="btn">    Cancel
</button>
          <button form="custom-scopes-dialog-form" data-action="click:custom-scopes#customScopesSubmit" data-target="custom-scopes.customScopesSubmitButton" type="submit" data-view-component="true" class="btn-primary btn">    Create saved search
</button>
</div>
</modal-dialog></div>
    </custom-scopes>
  </div>
</qbsearch-input><input type="hidden" value="pKZXhZsF7qe8lNlg5mrIyto-PcSaeXfgwRgloKXsWPB7Q35y4SEQlJNvPxsllUhzH3FVBK0ikC_CApeojrVdEw" data-csrf="true" class="js-data-jump-to-suggestions-path-csrf" />

          </div>

        <div class="AppHeader-actions position-relative">
          <action-menu data-select-variant="none" data-view-component="true">
  <focus-group direction="vertical" mnemonics retain>
    <div data-view-component="true" class="Button-withTooltip">  <button id="global-create-menu-button" popovertarget="global-create-menu-overlay" aria-label="Create something new" aria-controls="global-create-menu-list" aria-haspopup="true" type="button" data-view-component="true" class="AppHeader-button Button--secondary Button--small Button width-auto color-fg-muted">    <span class="Button-content">
        <span class="Button-visual Button-leadingVisual">
          <svg aria-hidden="true" height="16" viewBox="0 0 16 16" version="1.1" width="16" data-view-component="true" class="octicon octicon-plus">
    <path d="M7.75 2a.75.75 0 0 1 .75.75V7h4.25a.75.75 0 0 1 0 1.5H8.5v4.25a.75.75 0 0 1-1.5 0V8.5H2.75a.75.75 0 0 1 0-1.5H7V2.75A.75.75 0 0 1 7.75 2Z"></path>
</svg>
        </span>
      <span class="Button-label"><svg aria-hidden="true" height="16" viewBox="0 0 16 16" version="1.1" width="16" data-view-component="true" class="octicon octicon-triangle-down">
    <path d="m4.427 7.427 3.396 3.396a.25.25 0 0 0 .354 0l3.396-3.396A.25.25 0 0 0 11.396 7H4.604a.25.25 0 0 0-.177.427Z"></path>
</svg></span>
    </span>
</button>  <tool-tip id="tooltip-eb95cb42-9abb-420f-b3a7-106191b93a73" for="global-create-menu-button" popover="manual" data-direction="s" data-type="description" data-view-component="true" class="sr-only position-absolute">Create new...</tool-tip>
</div>

<anchored-position id="global-create-menu-overlay" anchor="global-create-menu-button" align="end" side="outside-bottom" anchor-offset="normal" popover="auto" data-view-component="true">
  <div data-view-component="true" class="Overlay Overlay--size-auto">
    
      
        <div data-view-component="true">
  <ul aria-labelledby="global-create-menu-button" id="global-create-menu-list" role="menu" data-view-component="true" class="ActionListWrap--inset ActionListWrap">
      <li data-analytics-event="{&quot;category&quot;:&quot;SiteHeaderComponent&quot;,&quot;action&quot;:&quot;add_dropdown&quot;,&quot;label&quot;:&quot;new repository&quot;}" data-targets="action-list.items" role="none" data-view-component="true" class="ActionListItem">
    
    <a href="/new" tabindex="-1" id="item-b2ca9e5f-f927-44ea-8882-757124b8ed0a" role="menuitem" data-view-component="true" class="ActionListContent ActionListContent--visual16">
        <span class="ActionListItem-visual ActionListItem-visual--leading">
          <svg aria-hidden="true" height="16" viewBox="0 0 16 16" version="1.1" width="16" data-view-component="true" class="octicon octicon-repo">
    <path d="M2 2.5A2.5 2.5 0 0 1 4.5 0h8.75a.75.75 0 0 1 .75.75v12.5a.75.75 0 0 1-.75.75h-2.5a.75.75 0 0 1 0-1.5h1.75v-2h-8a1 1 0 0 0-.714 1.7.75.75 0 1 1-1.072 1.05A2.495 2.495 0 0 1 2 11.5Zm10.5-1h-8a1 1 0 0 0-1 1v6.708A2.486 2.486 0 0 1 4.5 9h8ZM5 12.25a.25.25 0 0 1 .25-.25h3.5a.25.25 0 0 1 .25.25v3.25a.25.25 0 0 1-.4.2l-1.45-1.087a.249.249 0 0 0-.3 0L5.4 15.7a.25.25 0 0 1-.4-.2Z"></path>
</svg>
        </span>
      
        <span data-view-component="true" class="ActionListItem-label">
              New repository

</span></a>
  
  
</li>
      <li data-analytics-event="{&quot;category&quot;:&quot;SiteHeaderComponent&quot;,&quot;action&quot;:&quot;add_dropdown&quot;,&quot;label&quot;:&quot;import repository&quot;}" data-targets="action-list.items" role="none" data-view-component="true" class="ActionListItem">
    
    <a href="/new/import" tabindex="-1" id="item-564e70b2-ffe1-4c7f-a506-89e98daddada" role="menuitem" data-view-component="true" class="ActionListContent ActionListContent--visual16">
        <span class="ActionListItem-visual ActionListItem-visual--leading">
          <svg aria-hidden="true" height="16" viewBox="0 0 16 16" version="1.1" width="16" data-view-component="true" class="octicon octicon-repo-push">
    <path d="M1 2.5A2.5 2.5 0 0 1 3.5 0h8.75a.75.75 0 0 1 .75.75v3.5a.75.75 0 0 1-1.5 0V1.5h-8a1 1 0 0 0-1 1v6.708A2.493 2.493 0 0 1 3.5 9h3.25a.75.75 0 0 1 0 1.5H3.5a1 1 0 0 0 0 2h5.75a.75.75 0 0 1 0 1.5H3.5A2.5 2.5 0 0 1 1 11.5Zm13.23 7.79h-.001l-1.224-1.224v6.184a.75.75 0 0 1-1.5 0V9.066L10.28 10.29a.75.75 0 0 1-1.06-1.061l2.505-2.504a.75.75 0 0 1 1.06 0L15.29 9.23a.751.751 0 0 1-.018 1.042.751.751 0 0 1-1.042.018Z"></path>
</svg>
        </span>
      
        <span data-view-component="true" class="ActionListItem-label">
                Import repository

</span></a>
  
  
</li>
      <li role="presentation" aria-hidden="true" data-view-component="true" class="ActionList-sectionDivider"></li>
      <li data-analytics-event="{&quot;category&quot;:&quot;SiteHeaderComponent&quot;,&quot;action&quot;:&quot;add_dropdown&quot;,&quot;label&quot;:&quot;new codespace&quot;}" data-targets="action-list.items" role="none" data-view-component="true" class="ActionListItem">
    
    <a href="/codespaces/new" tabindex="-1" id="item-89430611-43f0-4c51-baab-9f0d26de90f9" role="menuitem" data-view-component="true" class="ActionListContent ActionListContent--visual16">
        <span class="ActionListItem-visual ActionListItem-visual--leading">
          <svg aria-hidden="true" height="16" viewBox="0 0 16 16" version="1.1" width="16" data-view-component="true" class="octicon octicon-codespaces">
    <path d="M0 11.25c0-.966.784-1.75 1.75-1.75h12.5c.966 0 1.75.784 1.75 1.75v3A1.75 1.75 0 0 1 14.25 16H1.75A1.75 1.75 0 0 1 0 14.25Zm2-9.5C2 .784 2.784 0 3.75 0h8.5C13.216 0 14 .784 14 1.75v5a1.75 1.75 0 0 1-1.75 1.75h-8.5A1.75 1.75 0 0 1 2 6.75Zm1.75-.25a.25.25 0 0 0-.25.25v5c0 .138.112.25.25.25h8.5a.25.25 0 0 0 .25-.25v-5a.25.25 0 0 0-.25-.25Zm-2 9.5a.25.25 0 0 0-.25.25v3c0 .138.112.25.25.25h12.5a.25.25 0 0 0 .25-.25v-3a.25.25 0 0 0-.25-.25Z"></path><path d="M7 12.75a.75.75 0 0 1 .75-.75h4.5a.75.75 0 0 1 0 1.5h-4.5a.75.75 0 0 1-.75-.75Zm-4 0a.75.75 0 0 1 .75-.75h.5a.75.75 0 0 1 0 1.5h-.5a.75.75 0 0 1-.75-.75Z"></path>
</svg>
        </span>
      
        <span data-view-component="true" class="ActionListItem-label">
                New codespace

</span></a>
  
  
</li>
      <li data-analytics-event="{&quot;category&quot;:&quot;SiteHeaderComponent&quot;,&quot;action&quot;:&quot;add_dropdown&quot;,&quot;label&quot;:&quot;new gist&quot;}" data-targets="action-list.items" role="none" data-view-component="true" class="ActionListItem">
    
    <a href="https://gist.github.com/" tabindex="-1" id="item-146fbcec-c117-4896-849e-8bff35e39a25" role="menuitem" data-view-component="true" class="ActionListContent ActionListContent--visual16">
        <span class="ActionListItem-visual ActionListItem-visual--leading">
          <svg aria-hidden="true" height="16" viewBox="0 0 16 16" version="1.1" width="16" data-view-component="true" class="octicon octicon-code">
    <path d="m11.28 3.22 4.25 4.25a.75.75 0 0 1 0 1.06l-4.25 4.25a.749.749 0 0 1-1.275-.326.749.749 0 0 1 .215-.734L13.94 8l-3.72-3.72a.749.749 0 0 1 .326-1.275.749.749 0 0 1 .734.215Zm-6.56 0a.751.751 0 0 1 1.042.018.751.751 0 0 1 .018 1.042L2.06 8l3.72 3.72a.749.749 0 0 1-.326 1.275.749.749 0 0 1-.734-.215L.47 8.53a.75.75 0 0 1 0-1.06Z"></path>
</svg>
        </span>
      
        <span data-view-component="true" class="ActionListItem-label">
                New gist

</span></a>
  
  
</li>
      <li role="presentation" aria-hidden="true" data-view-component="true" class="ActionList-sectionDivider"></li>
      <li data-targets="action-list.items" role="none" data-view-component="true" class="ActionListItem">
    
    <a href="/account/organizations/new" tabindex="-1" data-dont-follow-via-test="true" data-analytics-event="{&quot;category&quot;:&quot;SiteHeaderComponent&quot;,&quot;action&quot;:&quot;add_dropdown&quot;,&quot;label&quot;:&quot;new organization&quot;}" id="item-6dd0923f-0782-4750-8fb5-c19579db9cf1" role="menuitem" data-view-component="true" class="ActionListContent ActionListContent--visual16">
        <span class="ActionListItem-visual ActionListItem-visual--leading">
          <svg aria-hidden="true" height="16" viewBox="0 0 16 16" version="1.1" width="16" data-view-component="true" class="octicon octicon-organization">
    <path d="M1.75 16A1.75 1.75 0 0 1 0 14.25V1.75C0 .784.784 0 1.75 0h8.5C11.216 0 12 .784 12 1.75v12.5c0 .085-.006.168-.018.25h2.268a.25.25 0 0 0 .25-.25V8.285a.25.25 0 0 0-.111-.208l-1.055-.703a.749.749 0 1 1 .832-1.248l1.055.703c.487.325.779.871.779 1.456v5.965A1.75 1.75 0 0 1 14.25 16h-3.5a.766.766 0 0 1-.197-.026c-.099.017-.2.026-.303.026h-3a.75.75 0 0 1-.75-.75V14h-1v1.25a.75.75 0 0 1-.75.75Zm-.25-1.75c0 .138.112.25.25.25H4v-1.25a.75.75 0 0 1 .75-.75h2.5a.75.75 0 0 1 .75.75v1.25h2.25a.25.25 0 0 0 .25-.25V1.75a.25.25 0 0 0-.25-.25h-8.5a.25.25 0 0 0-.25.25ZM3.75 6h.5a.75.75 0 0 1 0 1.5h-.5a.75.75 0 0 1 0-1.5ZM3 3.75A.75.75 0 0 1 3.75 3h.5a.75.75 0 0 1 0 1.5h-.5A.75.75 0 0 1 3 3.75Zm4 3A.75.75 0 0 1 7.75 6h.5a.75.75 0 0 1 0 1.5h-.5A.75.75 0 0 1 7 6.75ZM7.75 3h.5a.75.75 0 0 1 0 1.5h-.5a.75.75 0 0 1 0-1.5ZM3 9.75A.75.75 0 0 1 3.75 9h.5a.75.75 0 0 1 0 1.5h-.5A.75.75 0 0 1 3 9.75ZM7.75 9h.5a.75.75 0 0 1 0 1.5h-.5a.75.75 0 0 1 0-1.5Z"></path>
</svg>
        </span>
      
        <span data-view-component="true" class="ActionListItem-label">
                New organization

</span></a>
  
  
</li>
</ul>  
</div>

</div></anchored-position>  </focus-group>
</action-menu>

          <div data-view-component="true" class="Button-withTooltip">
  <a href="/issues" data-analytics-event="{&quot;category&quot;:&quot;Global navigation&quot;,&quot;action&quot;:&quot;ISSUES_HEADER&quot;,&quot;label&quot;:null}" id="icon-button-84c71a74-2d30-4f0d-abd9-9ede6e762dc7" aria-labelledby="tooltip-ef7cb839-48d0-4d1f-b1db-51ee1d2e484c" data-view-component="true" class="Button Button--iconOnly Button--secondary Button--medium AppHeader-button color-fg-muted">    <svg aria-hidden="true" height="16" viewBox="0 0 16 16" version="1.1" width="16" data-view-component="true" class="octicon octicon-issue-opened Button-visual">
    <path d="M8 9.5a1.5 1.5 0 1 0 0-3 1.5 1.5 0 0 0 0 3Z"></path><path d="M8 0a8 8 0 1 1 0 16A8 8 0 0 1 8 0ZM1.5 8a6.5 6.5 0 1 0 13 0 6.5 6.5 0 0 0-13 0Z"></path>
</svg>
</a>  <tool-tip id="tooltip-ef7cb839-48d0-4d1f-b1db-51ee1d2e484c" for="icon-button-84c71a74-2d30-4f0d-abd9-9ede6e762dc7" popover="manual" data-direction="s" data-type="label" data-view-component="true" class="sr-only position-absolute">Issues</tool-tip>
</div>
          <div data-view-component="true" class="Button-withTooltip">
  <a href="/pulls" data-analytics-event="{&quot;category&quot;:&quot;Global navigation&quot;,&quot;action&quot;:&quot;PULL_REQUESTS_HEADER&quot;,&quot;label&quot;:null}" id="icon-button-32c8ffc5-3e03-4d5a-b50f-9353ecad1356" aria-labelledby="tooltip-90e3840f-a595-46a8-a39e-bc836ca2221c" data-view-component="true" class="Button Button--iconOnly Button--secondary Button--medium AppHeader-button color-fg-muted">    <svg aria-hidden="true" height="16" viewBox="0 0 16 16" version="1.1" width="16" data-view-component="true" class="octicon octicon-git-pull-request Button-visual">
    <path d="M1.5 3.25a2.25 2.25 0 1 1 3 2.122v5.256a2.251 2.251 0 1 1-1.5 0V5.372A2.25 2.25 0 0 1 1.5 3.25Zm5.677-.177L9.573.677A.25.25 0 0 1 10 .854V2.5h1A2.5 2.5 0 0 1 13.5 5v5.628a2.251 2.251 0 1 1-1.5 0V5a1 1 0 0 0-1-1h-1v1.646a.25.25 0 0 1-.427.177L7.177 3.427a.25.25 0 0 1 0-.354ZM3.75 2.5a.75.75 0 1 0 0 1.5.75.75 0 0 0 0-1.5Zm0 9.5a.75.75 0 1 0 0 1.5.75.75 0 0 0 0-1.5Zm8.25.75a.75.75 0 1 0 1.5 0 .75.75 0 0 0-1.5 0Z"></path>
</svg>
</a>  <tool-tip id="tooltip-90e3840f-a595-46a8-a39e-bc836ca2221c" for="icon-button-32c8ffc5-3e03-4d5a-b50f-9353ecad1356" popover="manual" data-direction="s" data-type="label" data-view-component="true" class="sr-only position-absolute">Pull requests</tool-tip>
</div>

            <div style="left: -205px; top: 34px;" data-view-component="true" class="js-notice Popover position-absolute d-none d-sm-none d-md-block d-lg-block">
  <div data-view-component="true" class="Popover-message Box Popover-message--top-right Popover-message--large p-4 mt-2 mx-auto text-left color-shadow-large">
    <h4 data-view-component="true" class="f5 mb-2">    Issues and Pull Requests
</h4>
        Now available from the navigation bar for immediate access everywhere.

    <div class="mt-3">
      <!-- '"` --><!-- </textarea></xmp> --></option></form><form data-remote="true" class="js-notice-dismiss" data-turbo="false" action="/settings/dismiss-notice/global_nav_button_onboarding" accept-charset="UTF-8" method="post"><input type="hidden" name="authenticity_token" value="DrMEU5zutPaGjnzU6eXMRX7T_yRMnSB_yLja-nusq0D3nZxPy_YhtDgrNthVh2878_QF0bCWgEW4SrYuhOba9g" autocomplete="off" />
          <button type="submit" data-view-component="true" class="Button--secondary Button--small Button">    <span class="Button-content">
      <span class="Button-label">Okay, got it!</span>
    </span>
</button>  

</form>    </div>

</div></div>
        </div>

        

<notification-indicator data-channel="eyJjIjoibm90aWZpY2F0aW9uLWNoYW5nZWQ6MTQ2ODE0Mzk3IiwidCI6MTY5NzUyNzA0M30=--b0d3e53ba52a68c84adcff9755551c1cbdc7ee8db42e32528c338baac6d3ab7a" data-indicator-mode="none" data-tooltip-global="You have unread notifications" data-tooltip-unavailable="Notifications are unavailable at the moment." data-tooltip-none="You have no unread notifications" data-header-redesign-enabled="true" data-fetch-indicator-src="/notifications/indicator" data-fetch-indicator-enabled="true" data-view-component="true" class="js-socket-channel">
  <a id="AppHeader-notifications-button" href="/notifications"
    class="AppHeader-button Button--secondary"

    style="width:32px;height:32px;"

    data-hotkey="g n"
    data-target="notification-indicator.link"
    aria-label="Notifications"

      data-analytics-event="{&quot;category&quot;:&quot;SiteHeaderComponent&quot;,&quot;action&quot;:&quot;notifications&quot;,&quot;label&quot;:null}"
  >

    <span
      data-target="notification-indicator.badge"
      class="mail-status unread d-none" hidden>
    </span>

      <svg aria-hidden="true" height="16" viewBox="0 0 16 16" version="1.1" width="16" data-view-component="true" class="octicon octicon-inbox color-fg-muted mr-0">
    <path d="M2.8 2.06A1.75 1.75 0 0 1 4.41 1h7.18c.7 0 1.333.417 1.61 1.06l2.74 6.395c.04.093.06.194.06.295v4.5A1.75 1.75 0 0 1 14.25 15H1.75A1.75 1.75 0 0 1 0 13.25v-4.5c0-.101.02-.202.06-.295Zm1.61.44a.25.25 0 0 0-.23.152L1.887 8H4.75a.75.75 0 0 1 .6.3L6.625 10h2.75l1.275-1.7a.75.75 0 0 1 .6-.3h2.863L11.82 2.652a.25.25 0 0 0-.23-.152Zm10.09 7h-2.875l-1.275 1.7a.75.75 0 0 1-.6.3h-3.5a.75.75 0 0 1-.6-.3L4.375 9.5H1.5v3.75c0 .138.112.25.25.25h12.5a.25.25 0 0 0 .25-.25Z"></path>
</svg>
  </a>

    <tool-tip data-target="notification-indicator.tooltip" id="tooltip-ed26bb83-65ed-44b5-b1de-a95e9cad4d5b" for="AppHeader-notifications-button" popover="manual" data-direction="s" data-type="description" data-view-component="true" class="sr-only position-absolute">Notifications</tool-tip>
</notification-indicator>

        

        <div class="AppHeader-user">
          <deferred-side-panel data-url="/_side-panels/user?memex_enabled=true&amp;repository=granada&amp;user=Karlett19&amp;user_can_create_organizations=true&amp;user_id=146814397">
  <include-fragment data-target="deferred-side-panel.fragment">
      <user-drawer-side-panel>
      <button aria-label="Open user account menu" data-action="click:deferred-side-panel#loadPanel click:deferred-side-panel#panelOpened" data-show-dialog-id="dialog-bb96bf4b-c0d5-40f9-92fe-e2817380e006" id="dialog-show-dialog-bb96bf4b-c0d5-40f9-92fe-e2817380e006" type="button" data-view-component="true" class="AppHeader-logo Button--invisible Button--medium Button Button--invisible-noVisuals color-bg-transparent p-0">    <span class="Button-content">
      <span class="Button-label"><img src="https://avatars.githubusercontent.com/u/146814397?v=4" alt="" size="32" height="32" width="32" data-view-component="true" class="avatar circle" /></span>
    </span>
</button>  

<div class="Overlay--hidden Overlay-backdrop--side Overlay-backdrop--placement-right" data-modal-dialog-overlay>
  <modal-dialog data-target="deferred-side-panel.panel" role="dialog" id="dialog-bb96bf4b-c0d5-40f9-92fe-e2817380e006" aria-modal="true" aria-disabled="true" aria-labelledby="dialog-bb96bf4b-c0d5-40f9-92fe-e2817380e006-title" aria-describedby="dialog-bb96bf4b-c0d5-40f9-92fe-e2817380e006-description" data-view-component="true" class="Overlay Overlay-whenNarrow Overlay--size-small-portrait Overlay--motion-scaleFade SidePanel">
    <div styles="flex-direction: row;" data-view-component="true" class="Overlay-header">
  <div class="Overlay-headerContentWrap">
    <div class="Overlay-titleWrap">
      <h1 class="Overlay-title sr-only" id="dialog-bb96bf4b-c0d5-40f9-92fe-e2817380e006-title">
        Account menu
      </h1>
            <div data-view-component="true" class="d-flex">
      <div data-view-component="true" class="AppHeader-logo position-relative">
        <img src="https://avatars.githubusercontent.com/u/146814397?v=4" alt="" size="32" height="32" width="32" data-view-component="true" class="avatar circle" />
</div>        <div data-view-component="true" class="overflow-hidden d-flex width-full">        <div data-view-component="true" class="lh-condensed overflow-hidden d-flex flex-column flex-justify-center ml-2 f5 mr-auto width-full">
          <span data-view-component="true" class="Truncate text-bold">
    <span data-view-component="true" class="Truncate-text">
            Karlett19
</span>
</span>          </div>
</div>
</div>
    </div>
    <div class="Overlay-actionWrap">
      <button data-close-dialog-id="dialog-bb96bf4b-c0d5-40f9-92fe-e2817380e006" aria-label="Close" type="button" data-view-component="true" class="close-button Overlay-closeButton"><svg aria-hidden="true" height="16" viewBox="0 0 16 16" version="1.1" width="16" data-view-component="true" class="octicon octicon-x">
    <path d="M3.72 3.72a.75.75 0 0 1 1.06 0L8 6.94l3.22-3.22a.749.749 0 0 1 1.275.326.749.749 0 0 1-.215.734L9.06 8l3.22 3.22a.749.749 0 0 1-.326 1.275.749.749 0 0 1-.734-.215L8 9.06l-3.22 3.22a.751.751 0 0 1-1.042-.018.751.751 0 0 1-.018-1.042L6.94 8 3.72 4.78a.75.75 0 0 1 0-1.06Z"></path>
</svg></button>
    </div>
  </div>
</div>
      <div data-view-component="true" class="Overlay-body d-flex flex-column height-full px-2">    <div data-view-component="true" class="d-flex flex-column height-full mb-3">
        <nav aria-label="User navigation" data-view-component="true" class="ActionList">
  
  <nav-list>
    <ul data-view-component="true" class="ActionListWrap">
        
          
<li data-item-id="" data-targets="nav-list.items" data-view-component="true" class="ActionListItem">
    
    <button id="item-e456dbef-8d88-4717-9575-646822101886" type="button" data-view-component="true" class="ActionListContent ActionListContent--visual16">
        <span class="ActionListItem-visual ActionListItem-visual--leading">
          <span data-view-component="true" class="d-flex flex-items-center">    <svg style="box-sizing: content-box; color: var(--color-icon-primary);" width="16" height="16" viewBox="0 0 16 16" fill="none" data-view-component="true" class="anim-rotate">
  <circle cx="8" cy="8" r="7" stroke="currentColor" stroke-opacity="0.25" stroke-width="2" vector-effect="non-scaling-stroke" fill="none" />
  <path d="M15 8a7.002 7.002 0 00-7-7" stroke="currentColor" stroke-width="2" stroke-linecap="round" vector-effect="non-scaling-stroke" />
</svg>
</span>
        </span>
      
        <span data-view-component="true" class="ActionListItem-label">
          

  <span class="color-fg-muted">
    Loading...
  </span>

</span></button>
  
  
</li>

        
          <li role="presentation" aria-hidden="true" data-view-component="true" class="ActionList-sectionDivider"></li>
        
          
<li data-item-id="" data-targets="nav-list.items" data-view-component="true" class="ActionListItem">
    
    <a data-analytics-event="{&quot;category&quot;:&quot;Global navigation&quot;,&quot;action&quot;:&quot;PROFILE&quot;,&quot;label&quot;:null}" id="item-cf09619c-1049-464d-ab10-1f5b80233020" href="https://github.com/Karlett19" data-view-component="true" class="ActionListContent ActionListContent--visual16">
        <span class="ActionListItem-visual ActionListItem-visual--leading">
          <svg aria-hidden="true" height="16" viewBox="0 0 16 16" version="1.1" width="16" data-view-component="true" class="octicon octicon-person">
    <path d="M10.561 8.073a6.005 6.005 0 0 1 3.432 5.142.75.75 0 1 1-1.498.07 4.5 4.5 0 0 0-8.99 0 .75.75 0 0 1-1.498-.07 6.004 6.004 0 0 1 3.431-5.142 3.999 3.999 0 1 1 5.123 0ZM10.5 5a2.5 2.5 0 1 0-5 0 2.5 2.5 0 0 0 5 0Z"></path>
</svg>
        </span>
      
        <span data-view-component="true" class="ActionListItem-label">
          Your profile
</span></a>
  
  
</li>

        
          
<li data-item-id="" data-targets="nav-list.items" data-view-component="true" class="ActionListItem">
    
    <button id="item-9d18cdca-f09b-47f2-ace3-2245f9f14d06" type="button" data-view-component="true" class="ActionListContent ActionListContent--visual16">
        <span class="ActionListItem-visual ActionListItem-visual--leading">
          <span data-view-component="true" class="d-flex flex-items-center">    <svg style="box-sizing: content-box; color: var(--color-icon-primary);" width="16" height="16" viewBox="0 0 16 16" fill="none" data-view-component="true" class="anim-rotate">
  <circle cx="8" cy="8" r="7" stroke="currentColor" stroke-opacity="0.25" stroke-width="2" vector-effect="non-scaling-stroke" fill="none" />
  <path d="M15 8a7.002 7.002 0 00-7-7" stroke="currentColor" stroke-width="2" stroke-linecap="round" vector-effect="non-scaling-stroke" />
</svg>
</span>
        </span>
      
        <span data-view-component="true" class="ActionListItem-label">
          

  <span class="color-fg-muted">
    Loading...
  </span>

</span></button>
  
  
</li>

        
          <li role="presentation" aria-hidden="true" data-view-component="true" class="ActionList-sectionDivider"></li>
        
          
<li data-item-id="" data-targets="nav-list.items" data-view-component="true" class="ActionListItem">
    
    <a data-analytics-event="{&quot;category&quot;:&quot;Global navigation&quot;,&quot;action&quot;:&quot;YOUR_REPOSITORIES&quot;,&quot;label&quot;:null}" id="item-85eaeb7a-9302-44b6-af6b-917f9c63e02d" href="/Karlett19?tab=repositories" data-view-component="true" class="ActionListContent ActionListContent--visual16">
        <span class="ActionListItem-visual ActionListItem-visual--leading">
          <svg aria-hidden="true" height="16" viewBox="0 0 16 16" version="1.1" width="16" data-view-component="true" class="octicon octicon-repo">
    <path d="M2 2.5A2.5 2.5 0 0 1 4.5 0h8.75a.75.75 0 0 1 .75.75v12.5a.75.75 0 0 1-.75.75h-2.5a.75.75 0 0 1 0-1.5h1.75v-2h-8a1 1 0 0 0-.714 1.7.75.75 0 1 1-1.072 1.05A2.495 2.495 0 0 1 2 11.5Zm10.5-1h-8a1 1 0 0 0-1 1v6.708A2.486 2.486 0 0 1 4.5 9h8ZM5 12.25a.25.25 0 0 1 .25-.25h3.5a.25.25 0 0 1 .25.25v3.25a.25.25 0 0 1-.4.2l-1.45-1.087a.249.249 0 0 0-.3 0L5.4 15.7a.25.25 0 0 1-.4-.2Z"></path>
</svg>
        </span>
      
        <span data-view-component="true" class="ActionListItem-label">
          Your repositories
</span></a>
  
  
</li>

        
          
<li data-item-id="" data-targets="nav-list.items" data-view-component="true" class="ActionListItem">
    
    <a data-analytics-event="{&quot;category&quot;:&quot;Global navigation&quot;,&quot;action&quot;:&quot;YOUR_PROJECTS&quot;,&quot;label&quot;:null}" id="item-55250c39-d65b-445e-99d7-8d43eed8a3d0" href="/Karlett19?tab=projects" data-view-component="true" class="ActionListContent ActionListContent--visual16">
        <span class="ActionListItem-visual ActionListItem-visual--leading">
          <svg aria-hidden="true" height="16" viewBox="0 0 16 16" version="1.1" width="16" data-view-component="true" class="octicon octicon-project">
    <path d="M1.75 0h12.5C15.216 0 16 .784 16 1.75v12.5A1.75 1.75 0 0 1 14.25 16H1.75A1.75 1.75 0 0 1 0 14.25V1.75C0 .784.784 0 1.75 0ZM1.5 1.75v12.5c0 .138.112.25.25.25h12.5a.25.25 0 0 0 .25-.25V1.75a.25.25 0 0 0-.25-.25H1.75a.25.25 0 0 0-.25.25ZM11.75 3a.75.75 0 0 1 .75.75v7.5a.75.75 0 0 1-1.5 0v-7.5a.75.75 0 0 1 .75-.75Zm-8.25.75a.75.75 0 0 1 1.5 0v5.5a.75.75 0 0 1-1.5 0ZM8 3a.75.75 0 0 1 .75.75v3.5a.75.75 0 0 1-1.5 0v-3.5A.75.75 0 0 1 8 3Z"></path>
</svg>
        </span>
      
        <span data-view-component="true" class="ActionListItem-label">
          Your projects
</span></a>
  
  
</li>

        
          
<li data-item-id="" data-targets="nav-list.items" data-view-component="true" class="ActionListItem">
    
    <button id="item-97a7dff3-a3bc-46c6-b8bf-ec2249dd72aa" type="button" data-view-component="true" class="ActionListContent ActionListContent--visual16">
        <span class="ActionListItem-visual ActionListItem-visual--leading">
          <span data-view-component="true" class="d-flex flex-items-center">    <svg style="box-sizing: content-box; color: var(--color-icon-primary);" width="16" height="16" viewBox="0 0 16 16" fill="none" data-view-component="true" class="anim-rotate">
  <circle cx="8" cy="8" r="7" stroke="currentColor" stroke-opacity="0.25" stroke-width="2" vector-effect="non-scaling-stroke" fill="none" />
  <path d="M15 8a7.002 7.002 0 00-7-7" stroke="currentColor" stroke-width="2" stroke-linecap="round" vector-effect="non-scaling-stroke" />
</svg>
</span>
        </span>
      
        <span data-view-component="true" class="ActionListItem-label">
          

  <span class="color-fg-muted">
    Loading...
  </span>

</span></button>
  
  
</li>

        
          
<li data-item-id="" data-targets="nav-list.items" data-view-component="true" class="ActionListItem">
    
    <a data-analytics-event="{&quot;category&quot;:&quot;Global navigation&quot;,&quot;action&quot;:&quot;YOUR_STARS&quot;,&quot;label&quot;:null}" id="item-16d64bed-3028-4577-b05e-0b1735fa2957" href="/Karlett19?tab=stars" data-view-component="true" class="ActionListContent ActionListContent--visual16">
        <span class="ActionListItem-visual ActionListItem-visual--leading">
          <svg aria-hidden="true" height="16" viewBox="0 0 16 16" version="1.1" width="16" data-view-component="true" class="octicon octicon-star">
    <path d="M8 .25a.75.75 0 0 1 .673.418l1.882 3.815 4.21.612a.75.75 0 0 1 .416 1.279l-3.046 2.97.719 4.192a.751.751 0 0 1-1.088.791L8 12.347l-3.766 1.98a.75.75 0 0 1-1.088-.79l.72-4.194L.818 6.374a.75.75 0 0 1 .416-1.28l4.21-.611L7.327.668A.75.75 0 0 1 8 .25Zm0 2.445L6.615 5.5a.75.75 0 0 1-.564.41l-3.097.45 2.24 2.184a.75.75 0 0 1 .216.664l-.528 3.084 2.769-1.456a.75.75 0 0 1 .698 0l2.77 1.456-.53-3.084a.75.75 0 0 1 .216-.664l2.24-2.183-3.096-.45a.75.75 0 0 1-.564-.41L8 2.694Z"></path>
</svg>
        </span>
      
        <span data-view-component="true" class="ActionListItem-label">
          Your stars
</span></a>
  
  
</li>

        
          
<li data-item-id="" data-targets="nav-list.items" data-view-component="true" class="ActionListItem">
    
    <a data-analytics-event="{&quot;category&quot;:&quot;Global navigation&quot;,&quot;action&quot;:&quot;SPONSORS&quot;,&quot;label&quot;:null}" id="item-d6117690-5265-4803-931d-c6caee724d96" href="/sponsors/accounts" data-view-component="true" class="ActionListContent ActionListContent--visual16">
        <span class="ActionListItem-visual ActionListItem-visual--leading">
          <svg aria-hidden="true" height="16" viewBox="0 0 16 16" version="1.1" width="16" data-view-component="true" class="octicon octicon-heart">
    <path d="m8 14.25.345.666a.75.75 0 0 1-.69 0l-.008-.004-.018-.01a7.152 7.152 0 0 1-.31-.17 22.055 22.055 0 0 1-3.434-2.414C2.045 10.731 0 8.35 0 5.5 0 2.836 2.086 1 4.25 1 5.797 1 7.153 1.802 8 3.02 8.847 1.802 10.203 1 11.75 1 13.914 1 16 2.836 16 5.5c0 2.85-2.045 5.231-3.885 6.818a22.066 22.066 0 0 1-3.744 2.584l-.018.01-.006.003h-.002ZM4.25 2.5c-1.336 0-2.75 1.164-2.75 3 0 2.15 1.58 4.144 3.365 5.682A20.58 20.58 0 0 0 8 13.393a20.58 20.58 0 0 0 3.135-2.211C12.92 9.644 14.5 7.65 14.5 5.5c0-1.836-1.414-3-2.75-3-1.373 0-2.609.986-3.029 2.456a.749.749 0 0 1-1.442 0C6.859 3.486 5.623 2.5 4.25 2.5Z"></path>
</svg>
        </span>
      
        <span data-view-component="true" class="ActionListItem-label">
          Your sponsors
</span></a>
  
  
</li>

        
          
<li data-item-id="" data-targets="nav-list.items" data-view-component="true" class="ActionListItem">
    
    <a data-analytics-event="{&quot;category&quot;:&quot;Global navigation&quot;,&quot;action&quot;:&quot;YOUR_GISTS&quot;,&quot;label&quot;:null}" id="item-e834c755-7382-4d0a-93bb-6cfa02bfb345" href="https://gist.github.com/mine" data-view-component="true" class="ActionListContent ActionListContent--visual16">
        <span class="ActionListItem-visual ActionListItem-visual--leading">
          <svg aria-hidden="true" height="16" viewBox="0 0 16 16" version="1.1" width="16" data-view-component="true" class="octicon octicon-code-square">
    <path d="M0 1.75C0 .784.784 0 1.75 0h12.5C15.216 0 16 .784 16 1.75v12.5A1.75 1.75 0 0 1 14.25 16H1.75A1.75 1.75 0 0 1 0 14.25Zm1.75-.25a.25.25 0 0 0-.25.25v12.5c0 .138.112.25.25.25h12.5a.25.25 0 0 0 .25-.25V1.75a.25.25 0 0 0-.25-.25Zm7.47 3.97a.75.75 0 0 1 1.06 0l2 2a.75.75 0 0 1 0 1.06l-2 2a.749.749 0 0 1-1.275-.326.749.749 0 0 1 .215-.734L10.69 8 9.22 6.53a.75.75 0 0 1 0-1.06ZM6.78 6.53 5.31 8l1.47 1.47a.749.749 0 0 1-.326 1.275.749.749 0 0 1-.734-.215l-2-2a.75.75 0 0 1 0-1.06l2-2a.751.751 0 0 1 1.042.018.751.751 0 0 1 .018 1.042Z"></path>
</svg>
        </span>
      
        <span data-view-component="true" class="ActionListItem-label">
          Your gists
</span></a>
  
  
</li>

        
          <li role="presentation" aria-hidden="true" data-view-component="true" class="ActionList-sectionDivider"></li>
        
          
<li data-item-id="" data-targets="nav-list.items" data-view-component="true" class="ActionListItem">
    
    <button id="item-636b7506-950a-43a4-99b2-0efc57e43e2d" type="button" data-view-component="true" class="ActionListContent ActionListContent--visual16">
        <span class="ActionListItem-visual ActionListItem-visual--leading">
          <span data-view-component="true" class="d-flex flex-items-center">    <svg style="box-sizing: content-box; color: var(--color-icon-primary);" width="16" height="16" viewBox="0 0 16 16" fill="none" data-view-component="true" class="anim-rotate">
  <circle cx="8" cy="8" r="7" stroke="currentColor" stroke-opacity="0.25" stroke-width="2" vector-effect="non-scaling-stroke" fill="none" />
  <path d="M15 8a7.002 7.002 0 00-7-7" stroke="currentColor" stroke-width="2" stroke-linecap="round" vector-effect="non-scaling-stroke" />
</svg>
</span>
        </span>
      
        <span data-view-component="true" class="ActionListItem-label">
          

  <span class="color-fg-muted">
    Loading...
  </span>

</span></button>
  
  
</li>

        
          
<li data-item-id="" data-targets="nav-list.items" data-view-component="true" class="ActionListItem">
    
    <button id="item-d5da14ed-20b1-41f0-8009-a10a59b4c878" type="button" data-view-component="true" class="ActionListContent ActionListContent--visual16">
        <span class="ActionListItem-visual ActionListItem-visual--leading">
          <span data-view-component="true" class="d-flex flex-items-center">    <svg style="box-sizing: content-box; color: var(--color-icon-primary);" width="16" height="16" viewBox="0 0 16 16" fill="none" data-view-component="true" class="anim-rotate">
  <circle cx="8" cy="8" r="7" stroke="currentColor" stroke-opacity="0.25" stroke-width="2" vector-effect="non-scaling-stroke" fill="none" />
  <path d="M15 8a7.002 7.002 0 00-7-7" stroke="currentColor" stroke-width="2" stroke-linecap="round" vector-effect="non-scaling-stroke" />
</svg>
</span>
        </span>
      
        <span data-view-component="true" class="ActionListItem-label">
          

  <span class="color-fg-muted">
    Loading...
  </span>

</span></button>
  
  
</li>

        
          
<li data-item-id="" data-targets="nav-list.items" data-view-component="true" class="ActionListItem">
    
    <button id="item-72f5f12a-cf82-4c2a-a3d1-0b3df77c5006" type="button" data-view-component="true" class="ActionListContent ActionListContent--visual16">
        <span class="ActionListItem-visual ActionListItem-visual--leading">
          <span data-view-component="true" class="d-flex flex-items-center">    <svg style="box-sizing: content-box; color: var(--color-icon-primary);" width="16" height="16" viewBox="0 0 16 16" fill="none" data-view-component="true" class="anim-rotate">
  <circle cx="8" cy="8" r="7" stroke="currentColor" stroke-opacity="0.25" stroke-width="2" vector-effect="non-scaling-stroke" fill="none" />
  <path d="M15 8a7.002 7.002 0 00-7-7" stroke="currentColor" stroke-width="2" stroke-linecap="round" vector-effect="non-scaling-stroke" />
</svg>
</span>
        </span>
      
        <span data-view-component="true" class="ActionListItem-label">
          

  <span class="color-fg-muted">
    Loading...
  </span>

</span></button>
  
  
</li>

        
          
<li data-item-id="" data-targets="nav-list.items" data-view-component="true" class="ActionListItem">
    
    <a data-analytics-event="{&quot;category&quot;:&quot;Global navigation&quot;,&quot;action&quot;:&quot;SETTINGS&quot;,&quot;label&quot;:null}" id="item-7cefef0a-e9a2-48b0-8a68-4ef78859884e" href="/settings/profile" data-view-component="true" class="ActionListContent ActionListContent--visual16">
        <span class="ActionListItem-visual ActionListItem-visual--leading">
          <svg aria-hidden="true" height="16" viewBox="0 0 16 16" version="1.1" width="16" data-view-component="true" class="octicon octicon-gear">
    <path d="M8 0a8.2 8.2 0 0 1 .701.031C9.444.095 9.99.645 10.16 1.29l.288 1.107c.018.066.079.158.212.224.231.114.454.243.668.386.123.082.233.09.299.071l1.103-.303c.644-.176 1.392.021 1.82.63.27.385.506.792.704 1.218.315.675.111 1.422-.364 1.891l-.814.806c-.049.048-.098.147-.088.294.016.257.016.515 0 .772-.01.147.038.246.088.294l.814.806c.475.469.679 1.216.364 1.891a7.977 7.977 0 0 1-.704 1.217c-.428.61-1.176.807-1.82.63l-1.102-.302c-.067-.019-.177-.011-.3.071a5.909 5.909 0 0 1-.668.386c-.133.066-.194.158-.211.224l-.29 1.106c-.168.646-.715 1.196-1.458 1.26a8.006 8.006 0 0 1-1.402 0c-.743-.064-1.289-.614-1.458-1.26l-.289-1.106c-.018-.066-.079-.158-.212-.224a5.738 5.738 0 0 1-.668-.386c-.123-.082-.233-.09-.299-.071l-1.103.303c-.644.176-1.392-.021-1.82-.63a8.12 8.12 0 0 1-.704-1.218c-.315-.675-.111-1.422.363-1.891l.815-.806c.05-.048.098-.147.088-.294a6.214 6.214 0 0 1 0-.772c.01-.147-.038-.246-.088-.294l-.815-.806C.635 6.045.431 5.298.746 4.623a7.92 7.92 0 0 1 .704-1.217c.428-.61 1.176-.807 1.82-.63l1.102.302c.067.019.177.011.3-.071.214-.143.437-.272.668-.386.133-.066.194-.158.211-.224l.29-1.106C6.009.645 6.556.095 7.299.03 7.53.01 7.764 0 8 0Zm-.571 1.525c-.036.003-.108.036-.137.146l-.289 1.105c-.147.561-.549.967-.998 1.189-.173.086-.34.183-.5.29-.417.278-.97.423-1.529.27l-1.103-.303c-.109-.03-.175.016-.195.045-.22.312-.412.644-.573.99-.014.031-.021.11.059.19l.815.806c.411.406.562.957.53 1.456a4.709 4.709 0 0 0 0 .582c.032.499-.119 1.05-.53 1.456l-.815.806c-.081.08-.073.159-.059.19.162.346.353.677.573.989.02.03.085.076.195.046l1.102-.303c.56-.153 1.113-.008 1.53.27.161.107.328.204.501.29.447.222.85.629.997 1.189l.289 1.105c.029.109.101.143.137.146a6.6 6.6 0 0 0 1.142 0c.036-.003.108-.036.137-.146l.289-1.105c.147-.561.549-.967.998-1.189.173-.086.34-.183.5-.29.417-.278.97-.423 1.529-.27l1.103.303c.109.029.175-.016.195-.045.22-.313.411-.644.573-.99.014-.031.021-.11-.059-.19l-.815-.806c-.411-.406-.562-.957-.53-1.456a4.709 4.709 0 0 0 0-.582c-.032-.499.119-1.05.53-1.456l.815-.806c.081-.08.073-.159.059-.19a6.464 6.464 0 0 0-.573-.989c-.02-.03-.085-.076-.195-.046l-1.102.303c-.56.153-1.113.008-1.53-.27a4.44 4.44 0 0 0-.501-.29c-.447-.222-.85-.629-.997-1.189l-.289-1.105c-.029-.11-.101-.143-.137-.146a6.6 6.6 0 0 0-1.142 0ZM11 8a3 3 0 1 1-6 0 3 3 0 0 1 6 0ZM9.5 8a1.5 1.5 0 1 0-3.001.001A1.5 1.5 0 0 0 9.5 8Z"></path>
</svg>
        </span>
      
        <span data-view-component="true" class="ActionListItem-label">
          Settings
</span></a>
  
  
</li>

        
          <li role="presentation" aria-hidden="true" data-view-component="true" class="ActionList-sectionDivider"></li>
        
          
<li data-item-id="" data-targets="nav-list.items" data-view-component="true" class="ActionListItem">
    
    <a data-analytics-event="{&quot;category&quot;:&quot;Global navigation&quot;,&quot;action&quot;:&quot;DOCS&quot;,&quot;label&quot;:null}" id="item-8c408319-cf41-45c2-aa30-3f3a5eba0af4" href="https://docs.github.com" data-view-component="true" class="ActionListContent ActionListContent--visual16">
        <span class="ActionListItem-visual ActionListItem-visual--leading">
          <svg aria-hidden="true" height="16" viewBox="0 0 16 16" version="1.1" width="16" data-view-component="true" class="octicon octicon-book">
    <path d="M0 1.75A.75.75 0 0 1 .75 1h4.253c1.227 0 2.317.59 3 1.501A3.743 3.743 0 0 1 11.006 1h4.245a.75.75 0 0 1 .75.75v10.5a.75.75 0 0 1-.75.75h-4.507a2.25 2.25 0 0 0-1.591.659l-.622.621a.75.75 0 0 1-1.06 0l-.622-.621A2.25 2.25 0 0 0 5.258 13H.75a.75.75 0 0 1-.75-.75Zm7.251 10.324.004-5.073-.002-2.253A2.25 2.25 0 0 0 5.003 2.5H1.5v9h3.757a3.75 3.75 0 0 1 1.994.574ZM8.755 4.75l-.004 7.322a3.752 3.752 0 0 1 1.992-.572H14.5v-9h-3.495a2.25 2.25 0 0 0-2.25 2.25Z"></path>
</svg>
        </span>
      
        <span data-view-component="true" class="ActionListItem-label">
          GitHub Docs
</span></a>
  
  
</li>

        
          
<li data-item-id="" data-targets="nav-list.items" data-view-component="true" class="ActionListItem">
    
    <a data-analytics-event="{&quot;category&quot;:&quot;Global navigation&quot;,&quot;action&quot;:&quot;SUPPORT&quot;,&quot;label&quot;:null}" id="item-36e8aaf8-c128-4557-b024-aafdea74de83" href="https://support.github.com" data-view-component="true" class="ActionListContent ActionListContent--visual16">
        <span class="ActionListItem-visual ActionListItem-visual--leading">
          <svg aria-hidden="true" height="16" viewBox="0 0 16 16" version="1.1" width="16" data-view-component="true" class="octicon octicon-people">
    <path d="M2 5.5a3.5 3.5 0 1 1 5.898 2.549 5.508 5.508 0 0 1 3.034 4.084.75.75 0 1 1-1.482.235 4 4 0 0 0-7.9 0 .75.75 0 0 1-1.482-.236A5.507 5.507 0 0 1 3.102 8.05 3.493 3.493 0 0 1 2 5.5ZM11 4a3.001 3.001 0 0 1 2.22 5.018 5.01 5.01 0 0 1 2.56 3.012.749.749 0 0 1-.885.954.752.752 0 0 1-.549-.514 3.507 3.507 0 0 0-2.522-2.372.75.75 0 0 1-.574-.73v-.352a.75.75 0 0 1 .416-.672A1.5 1.5 0 0 0 11 5.5.75.75 0 0 1 11 4Zm-5.5-.5a2 2 0 1 0-.001 3.999A2 2 0 0 0 5.5 3.5Z"></path>
</svg>
        </span>
      
        <span data-view-component="true" class="ActionListItem-label">
          GitHub Support
</span></a>
  
  
</li>

        
          <li role="presentation" aria-hidden="true" data-view-component="true" class="ActionList-sectionDivider"></li>
        
          
<li data-item-id="" data-targets="nav-list.items" data-view-component="true" class="ActionListItem">
    
    <a data-analytics-event="{&quot;category&quot;:&quot;Global navigation&quot;,&quot;action&quot;:&quot;LOGOUT&quot;,&quot;label&quot;:null}" id="item-d576620c-1561-4942-803f-6e0e61f50891" href="/logout" data-view-component="true" class="ActionListContent">
      
        <span data-view-component="true" class="ActionListItem-label">
          Sign out
</span></a>
  
  
</li>

</ul>  </nav-list>
</nav>


</div>
</div>
      
</modal-dialog></div>
  </user-drawer-side-panel>

  </include-fragment>
</deferred-side-panel>
        </div>

        <div class="position-absolute mt-2">
            
<site-header-logged-in-user-menu>

</site-header-logged-in-user-menu>

        </div>
      </div>
    </div>


      <div class="AppHeader-localBar" >
        <nav data-pjax="#js-repo-pjax-container" aria-label="Repository" data-view-component="true" class="js-repo-nav js-sidenav-container-pjax js-responsive-underlinenav overflow-hidden UnderlineNav">

  <ul data-view-component="true" class="UnderlineNav-body list-style-none">
      <li data-view-component="true" class="d-inline-flex">
  <a id="code-tab" href="/cursodatafundamentals/granada" data-tab-item="i0code-tab" data-selected-links="repo_source repo_downloads repo_commits repo_releases repo_tags repo_branches repo_packages repo_deployments repo_attestations /cursodatafundamentals/granada" data-pjax="#repo-content-pjax-container" data-turbo-frame="repo-content-turbo-frame" data-hotkey="g c" data-analytics-event="{&quot;category&quot;:&quot;Underline navbar&quot;,&quot;action&quot;:&quot;Click tab&quot;,&quot;label&quot;:&quot;Code&quot;,&quot;target&quot;:&quot;UNDERLINE_NAV.TAB&quot;}" data-view-component="true" class="UnderlineNav-item no-wrap js-responsive-underlinenav-item js-selected-navigation-item">
    
              <svg aria-hidden="true" height="16" viewBox="0 0 16 16" version="1.1" width="16" data-view-component="true" class="octicon octicon-code UnderlineNav-octicon d-none d-sm-inline">
    <path d="m11.28 3.22 4.25 4.25a.75.75 0 0 1 0 1.06l-4.25 4.25a.749.749 0 0 1-1.275-.326.749.749 0 0 1 .215-.734L13.94 8l-3.72-3.72a.749.749 0 0 1 .326-1.275.749.749 0 0 1 .734.215Zm-6.56 0a.751.751 0 0 1 1.042.018.751.751 0 0 1 .018 1.042L2.06 8l3.72 3.72a.749.749 0 0 1-.326 1.275.749.749 0 0 1-.734-.215L.47 8.53a.75.75 0 0 1 0-1.06Z"></path>
</svg>
        <span data-content="Code">Code</span>
          <span id="code-repo-tab-count" data-pjax-replace="" data-turbo-replace="" title="Not available" data-view-component="true" class="Counter"></span>


    
</a></li>
      <li data-view-component="true" class="d-inline-flex">
  <a id="issues-tab" href="/cursodatafundamentals/granada/issues" data-tab-item="i1issues-tab" data-selected-links="repo_issues repo_labels repo_milestones /cursodatafundamentals/granada/issues" data-pjax="#repo-content-pjax-container" data-turbo-frame="repo-content-turbo-frame" data-hotkey="g i" data-analytics-event="{&quot;category&quot;:&quot;Underline navbar&quot;,&quot;action&quot;:&quot;Click tab&quot;,&quot;label&quot;:&quot;Issues&quot;,&quot;target&quot;:&quot;UNDERLINE_NAV.TAB&quot;}" data-view-component="true" class="UnderlineNav-item no-wrap js-responsive-underlinenav-item js-selected-navigation-item">
    
              <svg aria-hidden="true" height="16" viewBox="0 0 16 16" version="1.1" width="16" data-view-component="true" class="octicon octicon-issue-opened UnderlineNav-octicon d-none d-sm-inline">
    <path d="M8 9.5a1.5 1.5 0 1 0 0-3 1.5 1.5 0 0 0 0 3Z"></path><path d="M8 0a8 8 0 1 1 0 16A8 8 0 0 1 8 0ZM1.5 8a6.5 6.5 0 1 0 13 0 6.5 6.5 0 0 0-13 0Z"></path>
</svg>
        <span data-content="Issues">Issues</span>
          <span id="issues-repo-tab-count" data-pjax-replace="" data-turbo-replace="" title="0" hidden="hidden" data-view-component="true" class="Counter">0</span>


    
</a></li>
      <li data-view-component="true" class="d-inline-flex">
  <a id="pull-requests-tab" href="/cursodatafundamentals/granada/pulls" data-tab-item="i2pull-requests-tab" data-selected-links="repo_pulls checks /cursodatafundamentals/granada/pulls" data-pjax="#repo-content-pjax-container" data-turbo-frame="repo-content-turbo-frame" data-hotkey="g p" data-analytics-event="{&quot;category&quot;:&quot;Underline navbar&quot;,&quot;action&quot;:&quot;Click tab&quot;,&quot;label&quot;:&quot;Pull requests&quot;,&quot;target&quot;:&quot;UNDERLINE_NAV.TAB&quot;}" data-view-component="true" class="UnderlineNav-item no-wrap js-responsive-underlinenav-item js-selected-navigation-item">
    
              <svg aria-hidden="true" height="16" viewBox="0 0 16 16" version="1.1" width="16" data-view-component="true" class="octicon octicon-git-pull-request UnderlineNav-octicon d-none d-sm-inline">
    <path d="M1.5 3.25a2.25 2.25 0 1 1 3 2.122v5.256a2.251 2.251 0 1 1-1.5 0V5.372A2.25 2.25 0 0 1 1.5 3.25Zm5.677-.177L9.573.677A.25.25 0 0 1 10 .854V2.5h1A2.5 2.5 0 0 1 13.5 5v5.628a2.251 2.251 0 1 1-1.5 0V5a1 1 0 0 0-1-1h-1v1.646a.25.25 0 0 1-.427.177L7.177 3.427a.25.25 0 0 1 0-.354ZM3.75 2.5a.75.75 0 1 0 0 1.5.75.75 0 0 0 0-1.5Zm0 9.5a.75.75 0 1 0 0 1.5.75.75 0 0 0 0-1.5Zm8.25.75a.75.75 0 1 0 1.5 0 .75.75 0 0 0-1.5 0Z"></path>
</svg>
        <span data-content="Pull requests">Pull requests</span>
          <span id="pull-requests-repo-tab-count" data-pjax-replace="" data-turbo-replace="" title="0" hidden="hidden" data-view-component="true" class="Counter">0</span>


    
</a></li>
      <li data-view-component="true" class="d-inline-flex">
  <a id="actions-tab" href="/cursodatafundamentals/granada/actions" data-tab-item="i3actions-tab" data-selected-links="repo_actions /cursodatafundamentals/granada/actions" data-pjax="#repo-content-pjax-container" data-turbo-frame="repo-content-turbo-frame" data-hotkey="g a" data-analytics-event="{&quot;category&quot;:&quot;Underline navbar&quot;,&quot;action&quot;:&quot;Click tab&quot;,&quot;label&quot;:&quot;Actions&quot;,&quot;target&quot;:&quot;UNDERLINE_NAV.TAB&quot;}" data-view-component="true" class="UnderlineNav-item no-wrap js-responsive-underlinenav-item js-selected-navigation-item">
    
              <svg aria-hidden="true" height="16" viewBox="0 0 16 16" version="1.1" width="16" data-view-component="true" class="octicon octicon-play UnderlineNav-octicon d-none d-sm-inline">
    <path d="M8 0a8 8 0 1 1 0 16A8 8 0 0 1 8 0ZM1.5 8a6.5 6.5 0 1 0 13 0 6.5 6.5 0 0 0-13 0Zm4.879-2.773 4.264 2.559a.25.25 0 0 1 0 .428l-4.264 2.559A.25.25 0 0 1 6 10.559V5.442a.25.25 0 0 1 .379-.215Z"></path>
</svg>
        <span data-content="Actions">Actions</span>
          <span id="actions-repo-tab-count" data-pjax-replace="" data-turbo-replace="" title="Not available" data-view-component="true" class="Counter"></span>


    
</a></li>
      <li data-view-component="true" class="d-inline-flex">
  <a id="projects-tab" href="/cursodatafundamentals/granada/projects" data-tab-item="i4projects-tab" data-selected-links="repo_projects new_repo_project repo_project /cursodatafundamentals/granada/projects" data-pjax="#repo-content-pjax-container" data-turbo-frame="repo-content-turbo-frame" data-hotkey="g b" data-analytics-event="{&quot;category&quot;:&quot;Underline navbar&quot;,&quot;action&quot;:&quot;Click tab&quot;,&quot;label&quot;:&quot;Projects&quot;,&quot;target&quot;:&quot;UNDERLINE_NAV.TAB&quot;}" data-view-component="true" class="UnderlineNav-item no-wrap js-responsive-underlinenav-item js-selected-navigation-item">
    
              <svg aria-hidden="true" height="16" viewBox="0 0 16 16" version="1.1" width="16" data-view-component="true" class="octicon octicon-table UnderlineNav-octicon d-none d-sm-inline">
    <path d="M0 1.75C0 .784.784 0 1.75 0h12.5C15.216 0 16 .784 16 1.75v12.5A1.75 1.75 0 0 1 14.25 16H1.75A1.75 1.75 0 0 1 0 14.25ZM6.5 6.5v8h7.75a.25.25 0 0 0 .25-.25V6.5Zm8-1.5V1.75a.25.25 0 0 0-.25-.25H6.5V5Zm-13 1.5v7.75c0 .138.112.25.25.25H5v-8ZM5 5V1.5H1.75a.25.25 0 0 0-.25.25V5Z"></path>
</svg>
        <span data-content="Projects">Projects</span>
          <span id="projects-repo-tab-count" data-pjax-replace="" data-turbo-replace="" title="0" hidden="hidden" data-view-component="true" class="Counter">0</span>


    
</a></li>
      <li data-view-component="true" class="d-inline-flex">
  <a id="security-tab" href="/cursodatafundamentals/granada/security" data-tab-item="i5security-tab" data-selected-links="security overview alerts policy token_scanning code_scanning /cursodatafundamentals/granada/security" data-pjax="#repo-content-pjax-container" data-turbo-frame="repo-content-turbo-frame" data-hotkey="g s" data-analytics-event="{&quot;category&quot;:&quot;Underline navbar&quot;,&quot;action&quot;:&quot;Click tab&quot;,&quot;label&quot;:&quot;Security&quot;,&quot;target&quot;:&quot;UNDERLINE_NAV.TAB&quot;}" data-view-component="true" class="UnderlineNav-item no-wrap js-responsive-underlinenav-item js-selected-navigation-item">
    
              <svg aria-hidden="true" height="16" viewBox="0 0 16 16" version="1.1" width="16" data-view-component="true" class="octicon octicon-shield UnderlineNav-octicon d-none d-sm-inline">
    <path d="M7.467.133a1.748 1.748 0 0 1 1.066 0l5.25 1.68A1.75 1.75 0 0 1 15 3.48V7c0 1.566-.32 3.182-1.303 4.682-.983 1.498-2.585 2.813-5.032 3.855a1.697 1.697 0 0 1-1.33 0c-2.447-1.042-4.049-2.357-5.032-3.855C1.32 10.182 1 8.566 1 7V3.48a1.75 1.75 0 0 1 1.217-1.667Zm.61 1.429a.25.25 0 0 0-.153 0l-5.25 1.68a.25.25 0 0 0-.174.238V7c0 1.358.275 2.666 1.057 3.86.784 1.194 2.121 2.34 4.366 3.297a.196.196 0 0 0 .154 0c2.245-.956 3.582-2.104 4.366-3.298C13.225 9.666 13.5 8.36 13.5 7V3.48a.251.251 0 0 0-.174-.237l-5.25-1.68ZM8.75 4.75v3a.75.75 0 0 1-1.5 0v-3a.75.75 0 0 1 1.5 0ZM9 10.5a1 1 0 1 1-2 0 1 1 0 0 1 2 0Z"></path>
</svg>
        <span data-content="Security">Security</span>
          <include-fragment src="/cursodatafundamentals/granada/security/overall-count" accept="text/fragment+html"></include-fragment>

    
</a></li>
      <li data-view-component="true" class="d-inline-flex">
  <a id="insights-tab" href="/cursodatafundamentals/granada/network/dependencies" data-tab-item="i6insights-tab" data-selected-links="repo_graphs repo_contributors dependency_graph dependabot_updates pulse people community /cursodatafundamentals/granada/network/dependencies" data-pjax="#repo-content-pjax-container" data-turbo-frame="repo-content-turbo-frame" data-analytics-event="{&quot;category&quot;:&quot;Underline navbar&quot;,&quot;action&quot;:&quot;Click tab&quot;,&quot;label&quot;:&quot;Insights&quot;,&quot;target&quot;:&quot;UNDERLINE_NAV.TAB&quot;}" data-view-component="true" class="UnderlineNav-item no-wrap js-responsive-underlinenav-item js-selected-navigation-item">
    
              <svg aria-hidden="true" height="16" viewBox="0 0 16 16" version="1.1" width="16" data-view-component="true" class="octicon octicon-graph UnderlineNav-octicon d-none d-sm-inline">
    <path d="M1.5 1.75V13.5h13.75a.75.75 0 0 1 0 1.5H.75a.75.75 0 0 1-.75-.75V1.75a.75.75 0 0 1 1.5 0Zm14.28 2.53-5.25 5.25a.75.75 0 0 1-1.06 0L7 7.06 4.28 9.78a.751.751 0 0 1-1.042-.018.751.751 0 0 1-.018-1.042l3.25-3.25a.75.75 0 0 1 1.06 0L10 7.94l4.72-4.72a.751.751 0 0 1 1.042.018.751.751 0 0 1 .018 1.042Z"></path>
</svg>
        <span data-content="Insights">Insights</span>
          <span id="insights-repo-tab-count" data-pjax-replace="" data-turbo-replace="" title="Not available" data-view-component="true" class="Counter"></span>


    
</a></li>
</ul>
    <div style="visibility:hidden;" data-view-component="true" class="UnderlineNav-actions js-responsive-underlinenav-overflow position-absolute pr-3 pr-md-4 pr-lg-5 right-0">        <details data-view-component="true" class="details-overlay details-reset position-relative">
    <summary role="button" data-view-component="true">          <div class="UnderlineNav-item mr-0 border-0">
            <svg aria-hidden="true" height="16" viewBox="0 0 16 16" version="1.1" width="16" data-view-component="true" class="octicon octicon-kebab-horizontal">
    <path d="M8 9a1.5 1.5 0 1 0 0-3 1.5 1.5 0 0 0 0 3ZM1.5 9a1.5 1.5 0 1 0 0-3 1.5 1.5 0 0 0 0 3Zm13 0a1.5 1.5 0 1 0 0-3 1.5 1.5 0 0 0 0 3Z"></path>
</svg>
            <span class="sr-only">More</span>
          </div>
</summary>
    <details-menu role="menu" data-view-component="true" class="dropdown-menu dropdown-menu-sw">
          <ul>
              <li data-menu-item="i0code-tab" hidden>
                <a role="menuitem" class="js-selected-navigation-item dropdown-item" data-selected-links="repo_source repo_downloads repo_commits repo_releases repo_tags repo_branches repo_packages repo_deployments repo_attestations /cursodatafundamentals/granada" href="/cursodatafundamentals/granada">
                  Code
</a>              </li>
              <li data-menu-item="i1issues-tab" hidden>
                <a role="menuitem" class="js-selected-navigation-item dropdown-item" data-selected-links="repo_issues repo_labels repo_milestones /cursodatafundamentals/granada/issues" href="/cursodatafundamentals/granada/issues">
                  Issues
</a>              </li>
              <li data-menu-item="i2pull-requests-tab" hidden>
                <a role="menuitem" class="js-selected-navigation-item dropdown-item" data-selected-links="repo_pulls checks /cursodatafundamentals/granada/pulls" href="/cursodatafundamentals/granada/pulls">
                  Pull requests
</a>              </li>
              <li data-menu-item="i3actions-tab" hidden>
                <a role="menuitem" class="js-selected-navigation-item dropdown-item" data-selected-links="repo_actions /cursodatafundamentals/granada/actions" href="/cursodatafundamentals/granada/actions">
                  Actions
</a>              </li>
              <li data-menu-item="i4projects-tab" hidden>
                <a role="menuitem" class="js-selected-navigation-item dropdown-item" data-selected-links="repo_projects new_repo_project repo_project /cursodatafundamentals/granada/projects" href="/cursodatafundamentals/granada/projects">
                  Projects
</a>              </li>
              <li data-menu-item="i5security-tab" hidden>
                <a role="menuitem" class="js-selected-navigation-item dropdown-item" data-selected-links="security overview alerts policy token_scanning code_scanning /cursodatafundamentals/granada/security" href="/cursodatafundamentals/granada/security">
                  Security
</a>              </li>
              <li data-menu-item="i6insights-tab" hidden>
                <a role="menuitem" class="js-selected-navigation-item dropdown-item" data-selected-links="repo_graphs repo_contributors dependency_graph dependabot_updates pulse people community /cursodatafundamentals/granada/network/dependencies" href="/cursodatafundamentals/granada/network/dependencies">
                  Insights
</a>              </li>
          </ul>
</details-menu>
</details></div>
</nav>
      </div>
</header>


      <div hidden="hidden" data-view-component="true" class="js-stale-session-flash stale-session-flash flash flash-warn mb-3">
  
        <svg aria-hidden="true" height="16" viewBox="0 0 16 16" version="1.1" width="16" data-view-component="true" class="octicon octicon-alert">
    <path d="M6.457 1.047c.659-1.234 2.427-1.234 3.086 0l6.082 11.378A1.75 1.75 0 0 1 14.082 15H1.918a1.75 1.75 0 0 1-1.543-2.575Zm1.763.707a.25.25 0 0 0-.44 0L1.698 13.132a.25.25 0 0 0 .22.368h12.164a.25.25 0 0 0 .22-.368Zm.53 3.996v2.5a.75.75 0 0 1-1.5 0v-2.5a.75.75 0 0 1 1.5 0ZM9 11a1 1 0 1 1-2 0 1 1 0 0 1 2 0Z"></path>
</svg>
        <span class="js-stale-session-flash-signed-in" hidden>You signed in with another tab or window. <a class="Link--inTextBlock" href="">Reload</a> to refresh your session.</span>
        <span class="js-stale-session-flash-signed-out" hidden>You signed out in another tab or window. <a class="Link--inTextBlock" href="">Reload</a> to refresh your session.</span>
        <span class="js-stale-session-flash-switched" hidden>You switched accounts on another tab or window. <a class="Link--inTextBlock" href="">Reload</a> to refresh your session.</span>

    <div data-view-component="true" class="flash-close">
  <button id="icon-button-c8eb9966-eb2a-4b3e-9bfa-5e5a37fbc11c" aria-labelledby="tooltip-ab4bb4ad-669a-4b5b-8183-7fe61e114bee" type="button" data-view-component="true" class="Button Button--iconOnly Button--invisible Button--medium js-flash-close">    <svg aria-hidden="true" height="16" viewBox="0 0 16 16" version="1.1" width="16" data-view-component="true" class="octicon octicon-x Button-visual">
    <path d="M3.72 3.72a.75.75 0 0 1 1.06 0L8 6.94l3.22-3.22a.749.749 0 0 1 1.275.326.749.749 0 0 1-.215.734L9.06 8l3.22 3.22a.749.749 0 0 1-.326 1.275.749.749 0 0 1-.734-.215L8 9.06l-3.22 3.22a.751.751 0 0 1-1.042-.018.751.751 0 0 1-.018-1.042L6.94 8 3.72 4.78a.75.75 0 0 1 0-1.06Z"></path>
</svg>
</button>  <tool-tip id="tooltip-ab4bb4ad-669a-4b5b-8183-7fe61e114bee" for="icon-button-c8eb9966-eb2a-4b3e-9bfa-5e5a37fbc11c" popover="manual" data-direction="s" data-type="label" data-view-component="true" class="sr-only position-absolute">Dismiss alert</tool-tip>
</div>

  
</div>
          
    </div>

  <div id="start-of-content" class="show-on-focus"></div>








    <div id="js-flash-container" data-turbo-replace>





  <template class="js-flash-template">
    
<div class="flash flash-full   {{ className }}">
  <div class="px-2" >
    <button autofocus class="flash-close js-flash-close" type="button" aria-label="Dismiss this message">
      <svg aria-hidden="true" height="16" viewBox="0 0 16 16" version="1.1" width="16" data-view-component="true" class="octicon octicon-x">
    <path d="M3.72 3.72a.75.75 0 0 1 1.06 0L8 6.94l3.22-3.22a.749.749 0 0 1 1.275.326.749.749 0 0 1-.215.734L9.06 8l3.22 3.22a.749.749 0 0 1-.326 1.275.749.749 0 0 1-.734-.215L8 9.06l-3.22 3.22a.751.751 0 0 1-1.042-.018.751.751 0 0 1-.018-1.042L6.94 8 3.72 4.78a.75.75 0 0 1 0-1.06Z"></path>
</svg>
    </button>
    <div aria-atomic="true" role="alert" class="js-flash-alert">
      
      <div>{{ message }}</div>

    </div>
  </div>
</div>
  </template>
</div>


    
    <notification-shelf-watcher data-base-url="https://github.com/notifications/beta/shelf" data-channel="eyJjIjoibm90aWZpY2F0aW9uLWNoYW5nZWQ6MTQ2ODE0Mzk3IiwidCI6MTY5NzUyNzA0M30=--b0d3e53ba52a68c84adcff9755551c1cbdc7ee8db42e32528c338baac6d3ab7a" data-view-component="true" class="js-socket-channel"></notification-shelf-watcher>
  <div hidden data-initial data-target="notification-shelf-watcher.placeholder"></div>






      <details
  class="details-reset details-overlay details-overlay-dark js-command-palette-dialog"
  id="command-palette-pjax-container"
  data-turbo-replace
>
  <summary aria-label="Command palette trigger" tabindex="-1"></summary>
  <details-dialog class="command-palette-details-dialog d-flex flex-column flex-justify-center height-fit" aria-label="Command palette">
    <command-palette
      class="command-palette color-bg-default rounded-3 border color-shadow-small"
      return-to=/cursodatafundamentals/granada/blob/main/Day%206/M5%20-%2005%20-%20EXTRA%20-%20Clases%20-%20Soluci%C3%B3n.ipynb
      user-id="146814397"
      activation-hotkey="Mod+k,Mod+Alt+k"
      command-mode-hotkey="Mod+Shift+k"
      data-action="
        command-palette-input-ready:command-palette#inputReady
        command-palette-page-stack-updated:command-palette#updateInputScope
        itemsUpdated:command-palette#itemsUpdated
        keydown:command-palette#onKeydown
        loadingStateChanged:command-palette#loadingStateChanged
        selectedItemChanged:command-palette#selectedItemChanged
        pageFetchError:command-palette#pageFetchError
      ">

        <command-palette-mode
          data-char="#"
            data-scope-types="[&quot;&quot;]"
            data-placeholder="Search issues and pull requests"
        ></command-palette-mode>
        <command-palette-mode
          data-char="#"
            data-scope-types="[&quot;owner&quot;,&quot;repository&quot;]"
            data-placeholder="Search issues, pull requests, discussions, and projects"
        ></command-palette-mode>
        <command-palette-mode
          data-char="!"
            data-scope-types="[&quot;owner&quot;,&quot;repository&quot;]"
            data-placeholder="Search projects"
        ></command-palette-mode>
        <command-palette-mode
          data-char="@"
            data-scope-types="[&quot;&quot;]"
            data-placeholder="Search or jump to a user, organization, or repository"
        ></command-palette-mode>
        <command-palette-mode
          data-char="@"
            data-scope-types="[&quot;owner&quot;]"
            data-placeholder="Search or jump to a repository"
        ></command-palette-mode>
        <command-palette-mode
          data-char="/"
            data-scope-types="[&quot;repository&quot;]"
            data-placeholder="Search files"
        ></command-palette-mode>
        <command-palette-mode
          data-char="?"
        ></command-palette-mode>
        <command-palette-mode
          data-char="&gt;"
            data-placeholder="Run a command"
        ></command-palette-mode>
        <command-palette-mode
          data-char=""
            data-scope-types="[&quot;&quot;]"
            data-placeholder="Search or jump to..."
        ></command-palette-mode>
        <command-palette-mode
          data-char=""
            data-scope-types="[&quot;owner&quot;]"
            data-placeholder="Search or jump to..."
        ></command-palette-mode>
      <command-palette-mode
        class="js-command-palette-default-mode"
        data-char=""
        data-placeholder="Search or jump to..."
      ></command-palette-mode>

      <command-palette-input placeholder="Search or jump to..."

        data-action="
          command-palette-input:command-palette#onInput
          command-palette-select:command-palette#onSelect
          command-palette-descope:command-palette#onDescope
          command-palette-cleared:command-palette#onInputClear
        "
      >
        <div class="js-search-icon d-flex flex-items-center mr-2" style="height: 26px">
          <svg aria-hidden="true" height="16" viewBox="0 0 16 16" version="1.1" width="16" data-view-component="true" class="octicon octicon-search color-fg-muted">
    <path d="M10.68 11.74a6 6 0 0 1-7.922-8.982 6 6 0 0 1 8.982 7.922l3.04 3.04a.749.749 0 0 1-.326 1.275.749.749 0 0 1-.734-.215ZM11.5 7a4.499 4.499 0 1 0-8.997 0A4.499 4.499 0 0 0 11.5 7Z"></path>
</svg>
        </div>
        <div class="js-spinner d-flex flex-items-center mr-2 color-fg-muted" hidden>
          <svg aria-label="Loading" class="anim-rotate" viewBox="0 0 16 16" fill="none" width="16" height="16">
            <circle
              cx="8"
              cy="8"
              r="7"
              stroke="currentColor"
              stroke-opacity="0.25"
              stroke-width="2"
              vector-effect="non-scaling-stroke"
            ></circle>
            <path
              d="M15 8a7.002 7.002 0 00-7-7"
              stroke="currentColor"
              stroke-width="2"
              stroke-linecap="round"
              vector-effect="non-scaling-stroke"
            ></path>
          </svg>
        </div>
        <command-palette-scope >
          <div data-target="command-palette-scope.placeholder" hidden class="color-fg-subtle">/&nbsp;&nbsp;<span class="text-semibold color-fg-default">...</span>&nbsp;&nbsp;/&nbsp;&nbsp;</div>
              <command-palette-token
                data-text="cursodatafundamentals"
                data-id="U_kgDOBv9YOg"
                data-type="owner"
                data-value="cursodatafundamentals"
                data-targets="command-palette-scope.tokens"
                class="color-fg-default text-semibold"
                style="white-space:nowrap;line-height:20px;"
                >cursodatafundamen...<span class="color-fg-subtle text-normal">&nbsp;&nbsp;/&nbsp;&nbsp;</span></command-palette-token>
              <command-palette-token
                data-text="granada"
                data-id="R_kgDOKbRxuQ"
                data-type="repository"
                data-value="granada"
                data-targets="command-palette-scope.tokens"
                class="color-fg-default text-semibold"
                style="white-space:nowrap;line-height:20px;"
                >granada<span class="color-fg-subtle text-normal">&nbsp;&nbsp;/&nbsp;&nbsp;</span></command-palette-token>
        </command-palette-scope>
        <div class="command-palette-input-group flex-1 form-control border-0 box-shadow-none" style="z-index: 0">
          <div class="command-palette-typeahead position-absolute d-flex flex-items-center Truncate">
            <span class="typeahead-segment input-mirror" data-target="command-palette-input.mirror"></span>
            <span class="Truncate-text" data-target="command-palette-input.typeaheadText"></span>
            <span class="typeahead-segment" data-target="command-palette-input.typeaheadPlaceholder"></span>
          </div>
          <input
            class="js-overlay-input typeahead-input d-none"
            disabled
            tabindex="-1"
            aria-label="Hidden input for typeahead"
          >
          <input
            type="text"
            autocomplete="off"
            autocorrect="off"
            autocapitalize="off"
            spellcheck="false"
            class="js-input typeahead-input form-control border-0 box-shadow-none input-block width-full no-focus-indicator"
            aria-label="Command palette input"
            aria-haspopup="listbox"
            aria-expanded="false"
            aria-autocomplete="list"
            aria-controls="command-palette-page-stack"
            role="combobox"
            data-action="
              input:command-palette-input#onInput
              keydown:command-palette-input#onKeydown
            "
          >
        </div>
          <div data-view-component="true" class="position-relative d-inline-block">
    <button aria-keyshortcuts="Control+Backspace" data-action="click:command-palette-input#onClear keypress:command-palette-input#onClear" data-target="command-palette-input.clearButton" id="command-palette-clear-button" hidden="hidden" type="button" data-view-component="true" class="btn-octicon command-palette-input-clear-button">      <svg aria-hidden="true" height="16" viewBox="0 0 16 16" version="1.1" width="16" data-view-component="true" class="octicon octicon-x-circle-fill">
    <path d="M2.343 13.657A8 8 0 1 1 13.658 2.343 8 8 0 0 1 2.343 13.657ZM6.03 4.97a.751.751 0 0 0-1.042.018.751.751 0 0 0-.018 1.042L6.94 8 4.97 9.97a.749.749 0 0 0 .326 1.275.749.749 0 0 0 .734-.215L8 9.06l1.97 1.97a.749.749 0 0 0 1.275-.326.749.749 0 0 0-.215-.734L9.06 8l1.97-1.97a.749.749 0 0 0-.326-1.275.749.749 0 0 0-.734.215L8 6.94Z"></path>
</svg>
</button>    <tool-tip id="tooltip-479469e8-e050-45b5-87f1-3a5c4d522936" for="command-palette-clear-button" popover="manual" data-direction="w" data-type="label" data-view-component="true" class="sr-only position-absolute">Clear Command Palette</tool-tip>
</div>
      </command-palette-input>

      <command-palette-page-stack
        data-default-scope-id="R_kgDOKbRxuQ"
        data-default-scope-type="Repository"
        data-action="command-palette-page-octicons-cached:command-palette-page-stack#cacheOcticons"
      >
          <command-palette-tip
            class="color-fg-muted f6 px-3 py-1 my-2"
              data-scope-types="[&quot;&quot;,&quot;owner&quot;,&quot;repository&quot;]"
            data-mode=""
            data-value="">
            <div class="d-flex flex-items-start flex-justify-between">
              <div>
                <span class="text-bold">Tip:</span>
                  Type <kbd class="hx_kbd">#</kbd> to search pull requests
              </div>
              <div class="ml-2 flex-shrink-0">
                Type <kbd class="hx_kbd">?</kbd> for help and tips
              </div>
            </div>
          </command-palette-tip>
          <command-palette-tip
            class="color-fg-muted f6 px-3 py-1 my-2"
              data-scope-types="[&quot;&quot;,&quot;owner&quot;,&quot;repository&quot;]"
            data-mode=""
            data-value="">
            <div class="d-flex flex-items-start flex-justify-between">
              <div>
                <span class="text-bold">Tip:</span>
                  Type <kbd class="hx_kbd">#</kbd> to search issues
              </div>
              <div class="ml-2 flex-shrink-0">
                Type <kbd class="hx_kbd">?</kbd> for help and tips
              </div>
            </div>
          </command-palette-tip>
          <command-palette-tip
            class="color-fg-muted f6 px-3 py-1 my-2"
              data-scope-types="[&quot;owner&quot;,&quot;repository&quot;]"
            data-mode=""
            data-value="">
            <div class="d-flex flex-items-start flex-justify-between">
              <div>
                <span class="text-bold">Tip:</span>
                  Type <kbd class="hx_kbd">#</kbd> to search discussions
              </div>
              <div class="ml-2 flex-shrink-0">
                Type <kbd class="hx_kbd">?</kbd> for help and tips
              </div>
            </div>
          </command-palette-tip>
          <command-palette-tip
            class="color-fg-muted f6 px-3 py-1 my-2"
              data-scope-types="[&quot;owner&quot;,&quot;repository&quot;]"
            data-mode=""
            data-value="">
            <div class="d-flex flex-items-start flex-justify-between">
              <div>
                <span class="text-bold">Tip:</span>
                  Type <kbd class="hx_kbd">!</kbd> to search projects
              </div>
              <div class="ml-2 flex-shrink-0">
                Type <kbd class="hx_kbd">?</kbd> for help and tips
              </div>
            </div>
          </command-palette-tip>
          <command-palette-tip
            class="color-fg-muted f6 px-3 py-1 my-2"
              data-scope-types="[&quot;owner&quot;]"
            data-mode=""
            data-value="">
            <div class="d-flex flex-items-start flex-justify-between">
              <div>
                <span class="text-bold">Tip:</span>
                  Type <kbd class="hx_kbd">@</kbd> to search teams
              </div>
              <div class="ml-2 flex-shrink-0">
                Type <kbd class="hx_kbd">?</kbd> for help and tips
              </div>
            </div>
          </command-palette-tip>
          <command-palette-tip
            class="color-fg-muted f6 px-3 py-1 my-2"
              data-scope-types="[&quot;&quot;]"
            data-mode=""
            data-value="">
            <div class="d-flex flex-items-start flex-justify-between">
              <div>
                <span class="text-bold">Tip:</span>
                  Type <kbd class="hx_kbd">@</kbd> to search people and organizations
              </div>
              <div class="ml-2 flex-shrink-0">
                Type <kbd class="hx_kbd">?</kbd> for help and tips
              </div>
            </div>
          </command-palette-tip>
          <command-palette-tip
            class="color-fg-muted f6 px-3 py-1 my-2"
              data-scope-types="[&quot;&quot;,&quot;owner&quot;,&quot;repository&quot;]"
            data-mode=""
            data-value="">
            <div class="d-flex flex-items-start flex-justify-between">
              <div>
                <span class="text-bold">Tip:</span>
                  Type <kbd class="hx_kbd">&gt;</kbd> to activate command mode
              </div>
              <div class="ml-2 flex-shrink-0">
                Type <kbd class="hx_kbd">?</kbd> for help and tips
              </div>
            </div>
          </command-palette-tip>
          <command-palette-tip
            class="color-fg-muted f6 px-3 py-1 my-2"
              data-scope-types="[&quot;&quot;,&quot;owner&quot;,&quot;repository&quot;]"
            data-mode=""
            data-value="">
            <div class="d-flex flex-items-start flex-justify-between">
              <div>
                <span class="text-bold">Tip:</span>
                  Go to your accessibility settings to change your keyboard shortcuts
              </div>
              <div class="ml-2 flex-shrink-0">
                Type <kbd class="hx_kbd">?</kbd> for help and tips
              </div>
            </div>
          </command-palette-tip>
          <command-palette-tip
            class="color-fg-muted f6 px-3 py-1 my-2"
              data-scope-types="[&quot;&quot;,&quot;owner&quot;,&quot;repository&quot;]"
            data-mode="#"
            data-value="">
            <div class="d-flex flex-items-start flex-justify-between">
              <div>
                <span class="text-bold">Tip:</span>
                  Type author:@me to search your content
              </div>
              <div class="ml-2 flex-shrink-0">
                Type <kbd class="hx_kbd">?</kbd> for help and tips
              </div>
            </div>
          </command-palette-tip>
          <command-palette-tip
            class="color-fg-muted f6 px-3 py-1 my-2"
              data-scope-types="[&quot;&quot;,&quot;owner&quot;,&quot;repository&quot;]"
            data-mode="#"
            data-value="">
            <div class="d-flex flex-items-start flex-justify-between">
              <div>
                <span class="text-bold">Tip:</span>
                  Type is:pr to filter to pull requests
              </div>
              <div class="ml-2 flex-shrink-0">
                Type <kbd class="hx_kbd">?</kbd> for help and tips
              </div>
            </div>
          </command-palette-tip>
          <command-palette-tip
            class="color-fg-muted f6 px-3 py-1 my-2"
              data-scope-types="[&quot;&quot;,&quot;owner&quot;,&quot;repository&quot;]"
            data-mode="#"
            data-value="">
            <div class="d-flex flex-items-start flex-justify-between">
              <div>
                <span class="text-bold">Tip:</span>
                  Type is:issue to filter to issues
              </div>
              <div class="ml-2 flex-shrink-0">
                Type <kbd class="hx_kbd">?</kbd> for help and tips
              </div>
            </div>
          </command-palette-tip>
          <command-palette-tip
            class="color-fg-muted f6 px-3 py-1 my-2"
              data-scope-types="[&quot;owner&quot;,&quot;repository&quot;]"
            data-mode="#"
            data-value="">
            <div class="d-flex flex-items-start flex-justify-between">
              <div>
                <span class="text-bold">Tip:</span>
                  Type is:project to filter to projects
              </div>
              <div class="ml-2 flex-shrink-0">
                Type <kbd class="hx_kbd">?</kbd> for help and tips
              </div>
            </div>
          </command-palette-tip>
          <command-palette-tip
            class="color-fg-muted f6 px-3 py-1 my-2"
              data-scope-types="[&quot;&quot;,&quot;owner&quot;,&quot;repository&quot;]"
            data-mode="#"
            data-value="">
            <div class="d-flex flex-items-start flex-justify-between">
              <div>
                <span class="text-bold">Tip:</span>
                  Type is:open to filter to open content
              </div>
              <div class="ml-2 flex-shrink-0">
                Type <kbd class="hx_kbd">?</kbd> for help and tips
              </div>
            </div>
          </command-palette-tip>
        <command-palette-tip class="mx-3 my-2 flash flash-error d-flex flex-items-center" data-scope-types="*" data-on-error>
          <div>
            <svg aria-hidden="true" height="16" viewBox="0 0 16 16" version="1.1" width="16" data-view-component="true" class="octicon octicon-alert">
    <path d="M6.457 1.047c.659-1.234 2.427-1.234 3.086 0l6.082 11.378A1.75 1.75 0 0 1 14.082 15H1.918a1.75 1.75 0 0 1-1.543-2.575Zm1.763.707a.25.25 0 0 0-.44 0L1.698 13.132a.25.25 0 0 0 .22.368h12.164a.25.25 0 0 0 .22-.368Zm.53 3.996v2.5a.75.75 0 0 1-1.5 0v-2.5a.75.75 0 0 1 1.5 0ZM9 11a1 1 0 1 1-2 0 1 1 0 0 1 2 0Z"></path>
</svg>
          </div>
          <div class="px-2">
            We’ve encountered an error and some results aren't available at this time. Type a new search or try again later.
          </div>
        </command-palette-tip>
        <command-palette-tip class="h4 color-fg-default pl-3 pb-2 pt-3" data-on-empty data-scope-types="*" data-match-mode="[^?]|^$">
          No results matched your search
        </command-palette-tip>

        <div hidden>

            <div data-targets="command-palette-page-stack.localOcticons" data-octicon-id="arrow-right-color-fg-muted">
              <svg height="16" class="octicon octicon-arrow-right color-fg-muted" viewBox="0 0 16 16" version="1.1" width="16" aria-hidden="true"><path d="M8.22 2.97a.75.75 0 0 1 1.06 0l4.25 4.25a.75.75 0 0 1 0 1.06l-4.25 4.25a.751.751 0 0 1-1.042-.018.751.751 0 0 1-.018-1.042l2.97-2.97H3.75a.75.75 0 0 1 0-1.5h7.44L8.22 4.03a.75.75 0 0 1 0-1.06Z"></path></svg>
            </div>
            <div data-targets="command-palette-page-stack.localOcticons" data-octicon-id="arrow-right-color-fg-default">
              <svg height="16" class="octicon octicon-arrow-right color-fg-default" viewBox="0 0 16 16" version="1.1" width="16" aria-hidden="true"><path d="M8.22 2.97a.75.75 0 0 1 1.06 0l4.25 4.25a.75.75 0 0 1 0 1.06l-4.25 4.25a.751.751 0 0 1-1.042-.018.751.751 0 0 1-.018-1.042l2.97-2.97H3.75a.75.75 0 0 1 0-1.5h7.44L8.22 4.03a.75.75 0 0 1 0-1.06Z"></path></svg>
            </div>
            <div data-targets="command-palette-page-stack.localOcticons" data-octicon-id="codespaces-color-fg-muted">
              <svg height="16" class="octicon octicon-codespaces color-fg-muted" viewBox="0 0 16 16" version="1.1" width="16" aria-hidden="true"><path d="M0 11.25c0-.966.784-1.75 1.75-1.75h12.5c.966 0 1.75.784 1.75 1.75v3A1.75 1.75 0 0 1 14.25 16H1.75A1.75 1.75 0 0 1 0 14.25Zm2-9.5C2 .784 2.784 0 3.75 0h8.5C13.216 0 14 .784 14 1.75v5a1.75 1.75 0 0 1-1.75 1.75h-8.5A1.75 1.75 0 0 1 2 6.75Zm1.75-.25a.25.25 0 0 0-.25.25v5c0 .138.112.25.25.25h8.5a.25.25 0 0 0 .25-.25v-5a.25.25 0 0 0-.25-.25Zm-2 9.5a.25.25 0 0 0-.25.25v3c0 .138.112.25.25.25h12.5a.25.25 0 0 0 .25-.25v-3a.25.25 0 0 0-.25-.25Z"></path><path d="M7 12.75a.75.75 0 0 1 .75-.75h4.5a.75.75 0 0 1 0 1.5h-4.5a.75.75 0 0 1-.75-.75Zm-4 0a.75.75 0 0 1 .75-.75h.5a.75.75 0 0 1 0 1.5h-.5a.75.75 0 0 1-.75-.75Z"></path></svg>
            </div>
            <div data-targets="command-palette-page-stack.localOcticons" data-octicon-id="copy-color-fg-muted">
              <svg height="16" class="octicon octicon-copy color-fg-muted" viewBox="0 0 16 16" version="1.1" width="16" aria-hidden="true"><path d="M0 6.75C0 5.784.784 5 1.75 5h1.5a.75.75 0 0 1 0 1.5h-1.5a.25.25 0 0 0-.25.25v7.5c0 .138.112.25.25.25h7.5a.25.25 0 0 0 .25-.25v-1.5a.75.75 0 0 1 1.5 0v1.5A1.75 1.75 0 0 1 9.25 16h-7.5A1.75 1.75 0 0 1 0 14.25Z"></path><path d="M5 1.75C5 .784 5.784 0 6.75 0h7.5C15.216 0 16 .784 16 1.75v7.5A1.75 1.75 0 0 1 14.25 11h-7.5A1.75 1.75 0 0 1 5 9.25Zm1.75-.25a.25.25 0 0 0-.25.25v7.5c0 .138.112.25.25.25h7.5a.25.25 0 0 0 .25-.25v-7.5a.25.25 0 0 0-.25-.25Z"></path></svg>
            </div>
            <div data-targets="command-palette-page-stack.localOcticons" data-octicon-id="dash-color-fg-muted">
              <svg height="16" class="octicon octicon-dash color-fg-muted" viewBox="0 0 16 16" version="1.1" width="16" aria-hidden="true"><path d="M2 7.75A.75.75 0 0 1 2.75 7h10a.75.75 0 0 1 0 1.5h-10A.75.75 0 0 1 2 7.75Z"></path></svg>
            </div>
            <div data-targets="command-palette-page-stack.localOcticons" data-octicon-id="file-color-fg-muted">
              <svg height="16" class="octicon octicon-file color-fg-muted" viewBox="0 0 16 16" version="1.1" width="16" aria-hidden="true"><path d="M2 1.75C2 .784 2.784 0 3.75 0h6.586c.464 0 .909.184 1.237.513l2.914 2.914c.329.328.513.773.513 1.237v9.586A1.75 1.75 0 0 1 13.25 16h-9.5A1.75 1.75 0 0 1 2 14.25Zm1.75-.25a.25.25 0 0 0-.25.25v12.5c0 .138.112.25.25.25h9.5a.25.25 0 0 0 .25-.25V6h-2.75A1.75 1.75 0 0 1 9 4.25V1.5Zm6.75.062V4.25c0 .138.112.25.25.25h2.688l-.011-.013-2.914-2.914-.013-.011Z"></path></svg>
            </div>
            <div data-targets="command-palette-page-stack.localOcticons" data-octicon-id="gear-color-fg-muted">
              <svg height="16" class="octicon octicon-gear color-fg-muted" viewBox="0 0 16 16" version="1.1" width="16" aria-hidden="true"><path d="M8 0a8.2 8.2 0 0 1 .701.031C9.444.095 9.99.645 10.16 1.29l.288 1.107c.018.066.079.158.212.224.231.114.454.243.668.386.123.082.233.09.299.071l1.103-.303c.644-.176 1.392.021 1.82.63.27.385.506.792.704 1.218.315.675.111 1.422-.364 1.891l-.814.806c-.049.048-.098.147-.088.294.016.257.016.515 0 .772-.01.147.038.246.088.294l.814.806c.475.469.679 1.216.364 1.891a7.977 7.977 0 0 1-.704 1.217c-.428.61-1.176.807-1.82.63l-1.102-.302c-.067-.019-.177-.011-.3.071a5.909 5.909 0 0 1-.668.386c-.133.066-.194.158-.211.224l-.29 1.106c-.168.646-.715 1.196-1.458 1.26a8.006 8.006 0 0 1-1.402 0c-.743-.064-1.289-.614-1.458-1.26l-.289-1.106c-.018-.066-.079-.158-.212-.224a5.738 5.738 0 0 1-.668-.386c-.123-.082-.233-.09-.299-.071l-1.103.303c-.644.176-1.392-.021-1.82-.63a8.12 8.12 0 0 1-.704-1.218c-.315-.675-.111-1.422.363-1.891l.815-.806c.05-.048.098-.147.088-.294a6.214 6.214 0 0 1 0-.772c.01-.147-.038-.246-.088-.294l-.815-.806C.635 6.045.431 5.298.746 4.623a7.92 7.92 0 0 1 .704-1.217c.428-.61 1.176-.807 1.82-.63l1.102.302c.067.019.177.011.3-.071.214-.143.437-.272.668-.386.133-.066.194-.158.211-.224l.29-1.106C6.009.645 6.556.095 7.299.03 7.53.01 7.764 0 8 0Zm-.571 1.525c-.036.003-.108.036-.137.146l-.289 1.105c-.147.561-.549.967-.998 1.189-.173.086-.34.183-.5.29-.417.278-.97.423-1.529.27l-1.103-.303c-.109-.03-.175.016-.195.045-.22.312-.412.644-.573.99-.014.031-.021.11.059.19l.815.806c.411.406.562.957.53 1.456a4.709 4.709 0 0 0 0 .582c.032.499-.119 1.05-.53 1.456l-.815.806c-.081.08-.073.159-.059.19.162.346.353.677.573.989.02.03.085.076.195.046l1.102-.303c.56-.153 1.113-.008 1.53.27.161.107.328.204.501.29.447.222.85.629.997 1.189l.289 1.105c.029.109.101.143.137.146a6.6 6.6 0 0 0 1.142 0c.036-.003.108-.036.137-.146l.289-1.105c.147-.561.549-.967.998-1.189.173-.086.34-.183.5-.29.417-.278.97-.423 1.529-.27l1.103.303c.109.029.175-.016.195-.045.22-.313.411-.644.573-.99.014-.031.021-.11-.059-.19l-.815-.806c-.411-.406-.562-.957-.53-1.456a4.709 4.709 0 0 0 0-.582c-.032-.499.119-1.05.53-1.456l.815-.806c.081-.08.073-.159.059-.19a6.464 6.464 0 0 0-.573-.989c-.02-.03-.085-.076-.195-.046l-1.102.303c-.56.153-1.113.008-1.53-.27a4.44 4.44 0 0 0-.501-.29c-.447-.222-.85-.629-.997-1.189l-.289-1.105c-.029-.11-.101-.143-.137-.146a6.6 6.6 0 0 0-1.142 0ZM11 8a3 3 0 1 1-6 0 3 3 0 0 1 6 0ZM9.5 8a1.5 1.5 0 1 0-3.001.001A1.5 1.5 0 0 0 9.5 8Z"></path></svg>
            </div>
            <div data-targets="command-palette-page-stack.localOcticons" data-octicon-id="lock-color-fg-muted">
              <svg height="16" class="octicon octicon-lock color-fg-muted" viewBox="0 0 16 16" version="1.1" width="16" aria-hidden="true"><path d="M4 4a4 4 0 0 1 8 0v2h.25c.966 0 1.75.784 1.75 1.75v5.5A1.75 1.75 0 0 1 12.25 15h-8.5A1.75 1.75 0 0 1 2 13.25v-5.5C2 6.784 2.784 6 3.75 6H4Zm8.25 3.5h-8.5a.25.25 0 0 0-.25.25v5.5c0 .138.112.25.25.25h8.5a.25.25 0 0 0 .25-.25v-5.5a.25.25 0 0 0-.25-.25ZM10.5 6V4a2.5 2.5 0 1 0-5 0v2Z"></path></svg>
            </div>
            <div data-targets="command-palette-page-stack.localOcticons" data-octicon-id="moon-color-fg-muted">
              <svg height="16" class="octicon octicon-moon color-fg-muted" viewBox="0 0 16 16" version="1.1" width="16" aria-hidden="true"><path d="M9.598 1.591a.749.749 0 0 1 .785-.175 7.001 7.001 0 1 1-8.967 8.967.75.75 0 0 1 .961-.96 5.5 5.5 0 0 0 7.046-7.046.75.75 0 0 1 .175-.786Zm1.616 1.945a7 7 0 0 1-7.678 7.678 5.499 5.499 0 1 0 7.678-7.678Z"></path></svg>
            </div>
            <div data-targets="command-palette-page-stack.localOcticons" data-octicon-id="person-color-fg-muted">
              <svg height="16" class="octicon octicon-person color-fg-muted" viewBox="0 0 16 16" version="1.1" width="16" aria-hidden="true"><path d="M10.561 8.073a6.005 6.005 0 0 1 3.432 5.142.75.75 0 1 1-1.498.07 4.5 4.5 0 0 0-8.99 0 .75.75 0 0 1-1.498-.07 6.004 6.004 0 0 1 3.431-5.142 3.999 3.999 0 1 1 5.123 0ZM10.5 5a2.5 2.5 0 1 0-5 0 2.5 2.5 0 0 0 5 0Z"></path></svg>
            </div>
            <div data-targets="command-palette-page-stack.localOcticons" data-octicon-id="pencil-color-fg-muted">
              <svg height="16" class="octicon octicon-pencil color-fg-muted" viewBox="0 0 16 16" version="1.1" width="16" aria-hidden="true"><path d="M11.013 1.427a1.75 1.75 0 0 1 2.474 0l1.086 1.086a1.75 1.75 0 0 1 0 2.474l-8.61 8.61c-.21.21-.47.364-.756.445l-3.251.93a.75.75 0 0 1-.927-.928l.929-3.25c.081-.286.235-.547.445-.758l8.61-8.61Zm.176 4.823L9.75 4.81l-6.286 6.287a.253.253 0 0 0-.064.108l-.558 1.953 1.953-.558a.253.253 0 0 0 .108-.064Zm1.238-3.763a.25.25 0 0 0-.354 0L10.811 3.75l1.439 1.44 1.263-1.263a.25.25 0 0 0 0-.354Z"></path></svg>
            </div>
            <div data-targets="command-palette-page-stack.localOcticons" data-octicon-id="issue-opened-open">
              <svg height="16" class="octicon octicon-issue-opened open" viewBox="0 0 16 16" version="1.1" width="16" aria-hidden="true"><path d="M8 9.5a1.5 1.5 0 1 0 0-3 1.5 1.5 0 0 0 0 3Z"></path><path d="M8 0a8 8 0 1 1 0 16A8 8 0 0 1 8 0ZM1.5 8a6.5 6.5 0 1 0 13 0 6.5 6.5 0 0 0-13 0Z"></path></svg>
            </div>
            <div data-targets="command-palette-page-stack.localOcticons" data-octicon-id="git-pull-request-draft-color-fg-muted">
              <svg height="16" class="octicon octicon-git-pull-request-draft color-fg-muted" viewBox="0 0 16 16" version="1.1" width="16" aria-hidden="true"><path d="M3.25 1A2.25 2.25 0 0 1 4 5.372v5.256a2.251 2.251 0 1 1-1.5 0V5.372A2.251 2.251 0 0 1 3.25 1Zm9.5 14a2.25 2.25 0 1 1 0-4.5 2.25 2.25 0 0 1 0 4.5ZM2.5 3.25a.75.75 0 1 0 1.5 0 .75.75 0 0 0-1.5 0ZM3.25 12a.75.75 0 1 0 0 1.5.75.75 0 0 0 0-1.5Zm9.5 0a.75.75 0 1 0 0 1.5.75.75 0 0 0 0-1.5ZM14 7.5a1.25 1.25 0 1 1-2.5 0 1.25 1.25 0 0 1 2.5 0Zm0-4.25a1.25 1.25 0 1 1-2.5 0 1.25 1.25 0 0 1 2.5 0Z"></path></svg>
            </div>
            <div data-targets="command-palette-page-stack.localOcticons" data-octicon-id="search-color-fg-muted">
              <svg height="16" class="octicon octicon-search color-fg-muted" viewBox="0 0 16 16" version="1.1" width="16" aria-hidden="true"><path d="M10.68 11.74a6 6 0 0 1-7.922-8.982 6 6 0 0 1 8.982 7.922l3.04 3.04a.749.749 0 0 1-.326 1.275.749.749 0 0 1-.734-.215ZM11.5 7a4.499 4.499 0 1 0-8.997 0A4.499 4.499 0 0 0 11.5 7Z"></path></svg>
            </div>
            <div data-targets="command-palette-page-stack.localOcticons" data-octicon-id="sun-color-fg-muted">
              <svg height="16" class="octicon octicon-sun color-fg-muted" viewBox="0 0 16 16" version="1.1" width="16" aria-hidden="true"><path d="M8 12a4 4 0 1 1 0-8 4 4 0 0 1 0 8Zm0-1.5a2.5 2.5 0 1 0 0-5 2.5 2.5 0 0 0 0 5Zm5.657-8.157a.75.75 0 0 1 0 1.061l-1.061 1.06a.749.749 0 0 1-1.275-.326.749.749 0 0 1 .215-.734l1.06-1.06a.75.75 0 0 1 1.06 0Zm-9.193 9.193a.75.75 0 0 1 0 1.06l-1.06 1.061a.75.75 0 1 1-1.061-1.06l1.06-1.061a.75.75 0 0 1 1.061 0ZM8 0a.75.75 0 0 1 .75.75v1.5a.75.75 0 0 1-1.5 0V.75A.75.75 0 0 1 8 0ZM3 8a.75.75 0 0 1-.75.75H.75a.75.75 0 0 1 0-1.5h1.5A.75.75 0 0 1 3 8Zm13 0a.75.75 0 0 1-.75.75h-1.5a.75.75 0 0 1 0-1.5h1.5A.75.75 0 0 1 16 8Zm-8 5a.75.75 0 0 1 .75.75v1.5a.75.75 0 0 1-1.5 0v-1.5A.75.75 0 0 1 8 13Zm3.536-1.464a.75.75 0 0 1 1.06 0l1.061 1.06a.75.75 0 0 1-1.06 1.061l-1.061-1.06a.75.75 0 0 1 0-1.061ZM2.343 2.343a.75.75 0 0 1 1.061 0l1.06 1.061a.751.751 0 0 1-.018 1.042.751.751 0 0 1-1.042.018l-1.06-1.06a.75.75 0 0 1 0-1.06Z"></path></svg>
            </div>
            <div data-targets="command-palette-page-stack.localOcticons" data-octicon-id="sync-color-fg-muted">
              <svg height="16" class="octicon octicon-sync color-fg-muted" viewBox="0 0 16 16" version="1.1" width="16" aria-hidden="true"><path d="M1.705 8.005a.75.75 0 0 1 .834.656 5.5 5.5 0 0 0 9.592 2.97l-1.204-1.204a.25.25 0 0 1 .177-.427h3.646a.25.25 0 0 1 .25.25v3.646a.25.25 0 0 1-.427.177l-1.38-1.38A7.002 7.002 0 0 1 1.05 8.84a.75.75 0 0 1 .656-.834ZM8 2.5a5.487 5.487 0 0 0-4.131 1.869l1.204 1.204A.25.25 0 0 1 4.896 6H1.25A.25.25 0 0 1 1 5.75V2.104a.25.25 0 0 1 .427-.177l1.38 1.38A7.002 7.002 0 0 1 14.95 7.16a.75.75 0 0 1-1.49.178A5.5 5.5 0 0 0 8 2.5Z"></path></svg>
            </div>
            <div data-targets="command-palette-page-stack.localOcticons" data-octicon-id="trash-color-fg-muted">
              <svg height="16" class="octicon octicon-trash color-fg-muted" viewBox="0 0 16 16" version="1.1" width="16" aria-hidden="true"><path d="M11 1.75V3h2.25a.75.75 0 0 1 0 1.5H2.75a.75.75 0 0 1 0-1.5H5V1.75C5 .784 5.784 0 6.75 0h2.5C10.216 0 11 .784 11 1.75ZM4.496 6.675l.66 6.6a.25.25 0 0 0 .249.225h5.19a.25.25 0 0 0 .249-.225l.66-6.6a.75.75 0 0 1 1.492.149l-.66 6.6A1.748 1.748 0 0 1 10.595 15h-5.19a1.75 1.75 0 0 1-1.741-1.575l-.66-6.6a.75.75 0 1 1 1.492-.15ZM6.5 1.75V3h3V1.75a.25.25 0 0 0-.25-.25h-2.5a.25.25 0 0 0-.25.25Z"></path></svg>
            </div>
            <div data-targets="command-palette-page-stack.localOcticons" data-octicon-id="key-color-fg-muted">
              <svg height="16" class="octicon octicon-key color-fg-muted" viewBox="0 0 16 16" version="1.1" width="16" aria-hidden="true"><path d="M10.5 0a5.499 5.499 0 1 1-1.288 10.848l-.932.932a.749.749 0 0 1-.53.22H7v.75a.749.749 0 0 1-.22.53l-.5.5a.749.749 0 0 1-.53.22H5v.75a.749.749 0 0 1-.22.53l-.5.5a.749.749 0 0 1-.53.22h-2A1.75 1.75 0 0 1 0 14.25v-2c0-.199.079-.389.22-.53l4.932-4.932A5.5 5.5 0 0 1 10.5 0Zm-4 5.5c-.001.431.069.86.205 1.269a.75.75 0 0 1-.181.768L1.5 12.56v1.69c0 .138.112.25.25.25h1.69l.06-.06v-1.19a.75.75 0 0 1 .75-.75h1.19l.06-.06v-1.19a.75.75 0 0 1 .75-.75h1.19l1.023-1.025a.75.75 0 0 1 .768-.18A4 4 0 1 0 6.5 5.5ZM11 6a1 1 0 1 1 0-2 1 1 0 0 1 0 2Z"></path></svg>
            </div>
            <div data-targets="command-palette-page-stack.localOcticons" data-octicon-id="comment-discussion-color-fg-muted">
              <svg height="16" class="octicon octicon-comment-discussion color-fg-muted" viewBox="0 0 16 16" version="1.1" width="16" aria-hidden="true"><path d="M1.75 1h8.5c.966 0 1.75.784 1.75 1.75v5.5A1.75 1.75 0 0 1 10.25 10H7.061l-2.574 2.573A1.458 1.458 0 0 1 2 11.543V10h-.25A1.75 1.75 0 0 1 0 8.25v-5.5C0 1.784.784 1 1.75 1ZM1.5 2.75v5.5c0 .138.112.25.25.25h1a.75.75 0 0 1 .75.75v2.19l2.72-2.72a.749.749 0 0 1 .53-.22h3.5a.25.25 0 0 0 .25-.25v-5.5a.25.25 0 0 0-.25-.25h-8.5a.25.25 0 0 0-.25.25Zm13 2a.25.25 0 0 0-.25-.25h-.5a.75.75 0 0 1 0-1.5h.5c.966 0 1.75.784 1.75 1.75v5.5A1.75 1.75 0 0 1 14.25 12H14v1.543a1.458 1.458 0 0 1-2.487 1.03L9.22 12.28a.749.749 0 0 1 .326-1.275.749.749 0 0 1 .734.215l2.22 2.22v-2.19a.75.75 0 0 1 .75-.75h1a.25.25 0 0 0 .25-.25Z"></path></svg>
            </div>
            <div data-targets="command-palette-page-stack.localOcticons" data-octicon-id="bell-color-fg-muted">
              <svg height="16" class="octicon octicon-bell color-fg-muted" viewBox="0 0 16 16" version="1.1" width="16" aria-hidden="true"><path d="M8 16a2 2 0 0 0 1.985-1.75c.017-.137-.097-.25-.235-.25h-3.5c-.138 0-.252.113-.235.25A2 2 0 0 0 8 16ZM3 5a5 5 0 0 1 10 0v2.947c0 .05.015.098.042.139l1.703 2.555A1.519 1.519 0 0 1 13.482 13H2.518a1.516 1.516 0 0 1-1.263-2.36l1.703-2.554A.255.255 0 0 0 3 7.947Zm5-3.5A3.5 3.5 0 0 0 4.5 5v2.947c0 .346-.102.683-.294.97l-1.703 2.556a.017.017 0 0 0-.003.01l.001.006c0 .002.002.004.004.006l.006.004.007.001h10.964l.007-.001.006-.004.004-.006.001-.007a.017.017 0 0 0-.003-.01l-1.703-2.554a1.745 1.745 0 0 1-.294-.97V5A3.5 3.5 0 0 0 8 1.5Z"></path></svg>
            </div>
            <div data-targets="command-palette-page-stack.localOcticons" data-octicon-id="bell-slash-color-fg-muted">
              <svg height="16" class="octicon octicon-bell-slash color-fg-muted" viewBox="0 0 16 16" version="1.1" width="16" aria-hidden="true"><path d="m4.182 4.31.016.011 10.104 7.316.013.01 1.375.996a.75.75 0 1 1-.88 1.214L13.626 13H2.518a1.516 1.516 0 0 1-1.263-2.36l1.703-2.554A.255.255 0 0 0 3 7.947V5.305L.31 3.357a.75.75 0 1 1 .88-1.214Zm7.373 7.19L4.5 6.391v1.556c0 .346-.102.683-.294.97l-1.703 2.556a.017.017 0 0 0-.003.01c0 .005.002.009.005.012l.006.004.007.001ZM8 1.5c-.997 0-1.895.416-2.534 1.086A.75.75 0 1 1 4.38 1.55 5 5 0 0 1 13 5v2.373a.75.75 0 0 1-1.5 0V5A3.5 3.5 0 0 0 8 1.5ZM8 16a2 2 0 0 1-1.985-1.75c-.017-.137.097-.25.235-.25h3.5c.138 0 .252.113.235.25A2 2 0 0 1 8 16Z"></path></svg>
            </div>
            <div data-targets="command-palette-page-stack.localOcticons" data-octicon-id="paintbrush-color-fg-muted">
              <svg height="16" class="octicon octicon-paintbrush color-fg-muted" viewBox="0 0 16 16" version="1.1" width="16" aria-hidden="true"><path d="M11.134 1.535c.7-.509 1.416-.942 2.076-1.155.649-.21 1.463-.267 2.069.34.603.601.568 1.411.368 2.07-.202.668-.624 1.39-1.125 2.096-1.011 1.424-2.496 2.987-3.775 4.249-1.098 1.084-2.132 1.839-3.04 2.3a3.744 3.744 0 0 1-1.055 3.217c-.431.431-1.065.691-1.657.861-.614.177-1.294.287-1.914.357A21.151 21.151 0 0 1 .797 16H.743l.007-.75H.749L.742 16a.75.75 0 0 1-.743-.742l.743-.008-.742.007v-.054a21.25 21.25 0 0 1 .13-2.284c.067-.647.187-1.287.358-1.914.17-.591.43-1.226.86-1.657a3.746 3.746 0 0 1 3.227-1.054c.466-.893 1.225-1.907 2.314-2.982 1.271-1.255 2.833-2.75 4.245-3.777ZM1.62 13.089c-.051.464-.086.929-.104 1.395.466-.018.932-.053 1.396-.104a10.511 10.511 0 0 0 1.668-.309c.526-.151.856-.325 1.011-.48a2.25 2.25 0 1 0-3.182-3.182c-.155.155-.329.485-.48 1.01a10.515 10.515 0 0 0-.309 1.67Zm10.396-10.34c-1.224.89-2.605 2.189-3.822 3.384l1.718 1.718c1.21-1.205 2.51-2.597 3.387-3.833.47-.662.78-1.227.912-1.662.134-.444.032-.551.009-.575h-.001V1.78c-.014-.014-.113-.113-.548.027-.432.14-.995.462-1.655.942Zm-4.832 7.266-.001.001a9.859 9.859 0 0 0 1.63-1.142L7.155 7.216a9.7 9.7 0 0 0-1.161 1.607c.482.302.889.71 1.19 1.192Z"></path></svg>
            </div>

            <command-palette-item-group
              data-group-id="top"
              data-group-title="Top result"
              data-group-hint=""
              data-group-limits="{}"
              data-default-priority="0"
            >
            </command-palette-item-group>
            <command-palette-item-group
              data-group-id="commands"
              data-group-title="Commands"
              data-group-hint="Type &gt; to filter"
              data-group-limits="{&quot;static_items_page&quot;:50,&quot;issue&quot;:50,&quot;pull_request&quot;:50,&quot;discussion&quot;:50}"
              data-default-priority="1"
            >
            </command-palette-item-group>
            <command-palette-item-group
              data-group-id="global_commands"
              data-group-title="Global Commands"
              data-group-hint="Type &gt; to filter"
              data-group-limits="{&quot;issue&quot;:0,&quot;pull_request&quot;:0,&quot;discussion&quot;:0}"
              data-default-priority="2"
            >
            </command-palette-item-group>
            <command-palette-item-group
              data-group-id="this_page"
              data-group-title="This Page"
              data-group-hint=""
              data-group-limits="{}"
              data-default-priority="3"
            >
            </command-palette-item-group>
            <command-palette-item-group
              data-group-id="files"
              data-group-title="Files"
              data-group-hint=""
              data-group-limits="{}"
              data-default-priority="4"
            >
            </command-palette-item-group>
            <command-palette-item-group
              data-group-id="default"
              data-group-title="Default"
              data-group-hint=""
              data-group-limits="{&quot;static_items_page&quot;:50}"
              data-default-priority="5"
            >
            </command-palette-item-group>
            <command-palette-item-group
              data-group-id="pages"
              data-group-title="Pages"
              data-group-hint=""
              data-group-limits="{&quot;repository&quot;:10}"
              data-default-priority="6"
            >
            </command-palette-item-group>
            <command-palette-item-group
              data-group-id="access_policies"
              data-group-title="Access Policies"
              data-group-hint=""
              data-group-limits="{}"
              data-default-priority="7"
            >
            </command-palette-item-group>
            <command-palette-item-group
              data-group-id="organizations"
              data-group-title="Organizations"
              data-group-hint=""
              data-group-limits="{}"
              data-default-priority="8"
            >
            </command-palette-item-group>
            <command-palette-item-group
              data-group-id="repositories"
              data-group-title="Repositories"
              data-group-hint=""
              data-group-limits="{}"
              data-default-priority="9"
            >
            </command-palette-item-group>
            <command-palette-item-group
              data-group-id="references"
              data-group-title="Issues, pull requests, and discussions"
              data-group-hint="Type # to filter"
              data-group-limits="{}"
              data-default-priority="10"
            >
            </command-palette-item-group>
            <command-palette-item-group
              data-group-id="teams"
              data-group-title="Teams"
              data-group-hint=""
              data-group-limits="{}"
              data-default-priority="11"
            >
            </command-palette-item-group>
            <command-palette-item-group
              data-group-id="users"
              data-group-title="Users"
              data-group-hint=""
              data-group-limits="{}"
              data-default-priority="12"
            >
            </command-palette-item-group>
            <command-palette-item-group
              data-group-id="memex_projects"
              data-group-title="Projects"
              data-group-hint=""
              data-group-limits="{}"
              data-default-priority="13"
            >
            </command-palette-item-group>
            <command-palette-item-group
              data-group-id="projects"
              data-group-title="Projects (classic)"
              data-group-hint=""
              data-group-limits="{}"
              data-default-priority="14"
            >
            </command-palette-item-group>
            <command-palette-item-group
              data-group-id="footer"
              data-group-title="Footer"
              data-group-hint=""
              data-group-limits="{}"
              data-default-priority="15"
            >
            </command-palette-item-group>
            <command-palette-item-group
              data-group-id="modes_help"
              data-group-title="Modes"
              data-group-hint=""
              data-group-limits="{}"
              data-default-priority="16"
            >
            </command-palette-item-group>
            <command-palette-item-group
              data-group-id="filters_help"
              data-group-title="Use filters in issues, pull requests, discussions, and projects"
              data-group-hint=""
              data-group-limits="{}"
              data-default-priority="17"
            >
            </command-palette-item-group>

            <command-palette-page
              data-page-title="cursodatafundamentals"
              data-scope-id="U_kgDOBv9YOg"
              data-scope-type="owner"
              data-targets="command-palette-page-stack.defaultPages"
              hidden
            >
            </command-palette-page>
            <command-palette-page
              data-page-title="granada"
              data-scope-id="R_kgDOKbRxuQ"
              data-scope-type="repository"
              data-targets="command-palette-page-stack.defaultPages"
              hidden
            >
            </command-palette-page>
        </div>

        <command-palette-page data-is-root>
        </command-palette-page>
          <command-palette-page
            data-page-title="cursodatafundamentals"
            data-scope-id="U_kgDOBv9YOg"
            data-scope-type="owner"
          >
          </command-palette-page>
          <command-palette-page
            data-page-title="granada"
            data-scope-id="R_kgDOKbRxuQ"
            data-scope-type="repository"
          >
          </command-palette-page>
      </command-palette-page-stack>

      <server-defined-provider data-type="search-links" data-targets="command-palette.serverDefinedProviderElements"></server-defined-provider>
      <server-defined-provider data-type="help" data-targets="command-palette.serverDefinedProviderElements">
          <command-palette-help
            data-group="modes_help"
              data-prefix="#"
              data-scope-types="[&quot;&quot;]"
          >
            <span data-target="command-palette-help.titleElement">Search for <strong>issues</strong> and <strong>pull requests</strong></span>
              <span data-target="command-palette-help.hintElement">
                <kbd class="hx_kbd">#</kbd>
              </span>
          </command-palette-help>
          <command-palette-help
            data-group="modes_help"
              data-prefix="#"
              data-scope-types="[&quot;owner&quot;,&quot;repository&quot;]"
          >
            <span data-target="command-palette-help.titleElement">Search for <strong>issues, pull requests, discussions,</strong> and <strong>projects</strong></span>
              <span data-target="command-palette-help.hintElement">
                <kbd class="hx_kbd">#</kbd>
              </span>
          </command-palette-help>
          <command-palette-help
            data-group="modes_help"
              data-prefix="@"
              data-scope-types="[&quot;&quot;]"
          >
            <span data-target="command-palette-help.titleElement">Search for <strong>organizations, repositories,</strong> and <strong>users</strong></span>
              <span data-target="command-palette-help.hintElement">
                <kbd class="hx_kbd">@</kbd>
              </span>
          </command-palette-help>
          <command-palette-help
            data-group="modes_help"
              data-prefix="!"
              data-scope-types="[&quot;owner&quot;,&quot;repository&quot;]"
          >
            <span data-target="command-palette-help.titleElement">Search for <strong>projects</strong></span>
              <span data-target="command-palette-help.hintElement">
                <kbd class="hx_kbd">!</kbd>
              </span>
          </command-palette-help>
          <command-palette-help
            data-group="modes_help"
              data-prefix="/"
              data-scope-types="[&quot;repository&quot;]"
          >
            <span data-target="command-palette-help.titleElement">Search for <strong>files</strong></span>
              <span data-target="command-palette-help.hintElement">
                <kbd class="hx_kbd">/</kbd>
              </span>
          </command-palette-help>
          <command-palette-help
            data-group="modes_help"
              data-prefix="&gt;"
          >
            <span data-target="command-palette-help.titleElement">Activate <strong>command mode</strong></span>
              <span data-target="command-palette-help.hintElement">
                <kbd class="hx_kbd">&gt;</kbd>
              </span>
          </command-palette-help>
          <command-palette-help
            data-group="filters_help"
              data-prefix="# author:@me"
          >
            <span data-target="command-palette-help.titleElement">Search your issues, pull requests, and discussions</span>
              <span data-target="command-palette-help.hintElement">
                <kbd class="hx_kbd"># author:@me</kbd>
              </span>
          </command-palette-help>
          <command-palette-help
            data-group="filters_help"
              data-prefix="# author:@me"
          >
            <span data-target="command-palette-help.titleElement">Search your issues, pull requests, and discussions</span>
              <span data-target="command-palette-help.hintElement">
                <kbd class="hx_kbd"># author:@me</kbd>
              </span>
          </command-palette-help>
          <command-palette-help
            data-group="filters_help"
              data-prefix="# is:pr"
          >
            <span data-target="command-palette-help.titleElement">Filter to pull requests</span>
              <span data-target="command-palette-help.hintElement">
                <kbd class="hx_kbd"># is:pr</kbd>
              </span>
          </command-palette-help>
          <command-palette-help
            data-group="filters_help"
              data-prefix="# is:issue"
          >
            <span data-target="command-palette-help.titleElement">Filter to issues</span>
              <span data-target="command-palette-help.hintElement">
                <kbd class="hx_kbd"># is:issue</kbd>
              </span>
          </command-palette-help>
          <command-palette-help
            data-group="filters_help"
              data-prefix="# is:discussion"
              data-scope-types="[&quot;owner&quot;,&quot;repository&quot;]"
          >
            <span data-target="command-palette-help.titleElement">Filter to discussions</span>
              <span data-target="command-palette-help.hintElement">
                <kbd class="hx_kbd"># is:discussion</kbd>
              </span>
          </command-palette-help>
          <command-palette-help
            data-group="filters_help"
              data-prefix="# is:project"
              data-scope-types="[&quot;owner&quot;,&quot;repository&quot;]"
          >
            <span data-target="command-palette-help.titleElement">Filter to projects</span>
              <span data-target="command-palette-help.hintElement">
                <kbd class="hx_kbd"># is:project</kbd>
              </span>
          </command-palette-help>
          <command-palette-help
            data-group="filters_help"
              data-prefix="# is:open"
          >
            <span data-target="command-palette-help.titleElement">Filter to open issues, pull requests, and discussions</span>
              <span data-target="command-palette-help.hintElement">
                <kbd class="hx_kbd"># is:open</kbd>
              </span>
          </command-palette-help>
      </server-defined-provider>

        <server-defined-provider
          data-type="commands"
          data-fetch-debounce="0"
            data-src="/command_palette/commands"
          data-supported-modes="[]"
            data-supports-commands
          
          data-targets="command-palette.serverDefinedProviderElements"
          ></server-defined-provider>
        <server-defined-provider
          data-type="prefetched"
          data-fetch-debounce="0"
            data-src="/command_palette/jump_to_page_navigation"
          data-supported-modes="[&quot;&quot;]"
            data-supported-scope-types="[&quot;&quot;,&quot;owner&quot;,&quot;repository&quot;]"
          
          data-targets="command-palette.serverDefinedProviderElements"
          ></server-defined-provider>
        <server-defined-provider
          data-type="remote"
          data-fetch-debounce="200"
            data-src="/command_palette/issues"
          data-supported-modes="[&quot;#&quot;,&quot;#&quot;]"
            data-supported-scope-types="[&quot;owner&quot;,&quot;repository&quot;,&quot;&quot;]"
          
          data-targets="command-palette.serverDefinedProviderElements"
          ></server-defined-provider>
        <server-defined-provider
          data-type="remote"
          data-fetch-debounce="200"
            data-src="/command_palette/jump_to"
          data-supported-modes="[&quot;@&quot;,&quot;@&quot;]"
            data-supported-scope-types="[&quot;&quot;,&quot;owner&quot;]"
          
          data-targets="command-palette.serverDefinedProviderElements"
          ></server-defined-provider>
        <server-defined-provider
          data-type="remote"
          data-fetch-debounce="200"
            data-src="/command_palette/jump_to_members_only"
          data-supported-modes="[&quot;@&quot;,&quot;@&quot;,&quot;&quot;,&quot;&quot;]"
            data-supported-scope-types="[&quot;&quot;,&quot;owner&quot;]"
          
          data-targets="command-palette.serverDefinedProviderElements"
          ></server-defined-provider>
        <server-defined-provider
          data-type="prefetched"
          data-fetch-debounce="0"
            data-src="/command_palette/jump_to_members_only_prefetched"
          data-supported-modes="[&quot;@&quot;,&quot;@&quot;,&quot;&quot;,&quot;&quot;]"
            data-supported-scope-types="[&quot;&quot;,&quot;owner&quot;]"
          
          data-targets="command-palette.serverDefinedProviderElements"
          ></server-defined-provider>
        <server-defined-provider
          data-type="files"
          data-fetch-debounce="0"
            data-src="/command_palette/files"
          data-supported-modes="[&quot;/&quot;]"
            data-supported-scope-types="[&quot;repository&quot;]"
          
          data-targets="command-palette.serverDefinedProviderElements"
          ></server-defined-provider>
        <server-defined-provider
          data-type="remote"
          data-fetch-debounce="200"
            data-src="/command_palette/discussions"
          data-supported-modes="[&quot;#&quot;]"
            data-supported-scope-types="[&quot;owner&quot;,&quot;repository&quot;]"
          
          data-targets="command-palette.serverDefinedProviderElements"
          ></server-defined-provider>
        <server-defined-provider
          data-type="remote"
          data-fetch-debounce="200"
            data-src="/command_palette/projects"
          data-supported-modes="[&quot;#&quot;,&quot;!&quot;]"
            data-supported-scope-types="[&quot;owner&quot;,&quot;repository&quot;]"
          
          data-targets="command-palette.serverDefinedProviderElements"
          ></server-defined-provider>
        <server-defined-provider
          data-type="prefetched"
          data-fetch-debounce="0"
            data-src="/command_palette/recent_issues"
          data-supported-modes="[&quot;#&quot;,&quot;#&quot;]"
            data-supported-scope-types="[&quot;owner&quot;,&quot;repository&quot;,&quot;&quot;]"
          
          data-targets="command-palette.serverDefinedProviderElements"
          ></server-defined-provider>
        <server-defined-provider
          data-type="remote"
          data-fetch-debounce="200"
            data-src="/command_palette/teams"
          data-supported-modes="[&quot;@&quot;,&quot;&quot;]"
            data-supported-scope-types="[&quot;owner&quot;]"
          
          data-targets="command-palette.serverDefinedProviderElements"
          ></server-defined-provider>
        <server-defined-provider
          data-type="remote"
          data-fetch-debounce="200"
            data-src="/command_palette/name_with_owner_repository"
          data-supported-modes="[&quot;@&quot;,&quot;@&quot;,&quot;&quot;,&quot;&quot;]"
            data-supported-scope-types="[&quot;&quot;,&quot;owner&quot;]"
          
          data-targets="command-palette.serverDefinedProviderElements"
          ></server-defined-provider>
    </command-palette>
  </details-dialog>
</details>

<div class="position-fixed bottom-0 left-0 ml-5 mb-5 js-command-palette-toasts" style="z-index: 1000">
  <div hidden class="Toast Toast--loading">
    <span class="Toast-icon">
      <svg class="Toast--spinner" viewBox="0 0 32 32" width="18" height="18" aria-hidden="true">
        <path
          fill="#959da5"
          d="M16 0 A16 16 0 0 0 16 32 A16 16 0 0 0 16 0 M16 4 A12 12 0 0 1 16 28 A12 12 0 0 1 16 4"
        />
        <path fill="#ffffff" d="M16 0 A16 16 0 0 1 32 16 L28 16 A12 12 0 0 0 16 4z"></path>
      </svg>
    </span>
    <span class="Toast-content"></span>
  </div>

  <div hidden class="anim-fade-in fast Toast Toast--error">
    <span class="Toast-icon">
      <svg aria-hidden="true" height="16" viewBox="0 0 16 16" version="1.1" width="16" data-view-component="true" class="octicon octicon-stop">
    <path d="M4.47.22A.749.749 0 0 1 5 0h6c.199 0 .389.079.53.22l4.25 4.25c.141.14.22.331.22.53v6a.749.749 0 0 1-.22.53l-4.25 4.25A.749.749 0 0 1 11 16H5a.749.749 0 0 1-.53-.22L.22 11.53A.749.749 0 0 1 0 11V5c0-.199.079-.389.22-.53Zm.84 1.28L1.5 5.31v5.38l3.81 3.81h5.38l3.81-3.81V5.31L10.69 1.5ZM8 4a.75.75 0 0 1 .75.75v3.5a.75.75 0 0 1-1.5 0v-3.5A.75.75 0 0 1 8 4Zm0 8a1 1 0 1 1 0-2 1 1 0 0 1 0 2Z"></path>
</svg>
    </span>
    <span class="Toast-content"></span>
  </div>

  <div hidden class="anim-fade-in fast Toast Toast--warning">
    <span class="Toast-icon">
      <svg aria-hidden="true" height="16" viewBox="0 0 16 16" version="1.1" width="16" data-view-component="true" class="octicon octicon-alert">
    <path d="M6.457 1.047c.659-1.234 2.427-1.234 3.086 0l6.082 11.378A1.75 1.75 0 0 1 14.082 15H1.918a1.75 1.75 0 0 1-1.543-2.575Zm1.763.707a.25.25 0 0 0-.44 0L1.698 13.132a.25.25 0 0 0 .22.368h12.164a.25.25 0 0 0 .22-.368Zm.53 3.996v2.5a.75.75 0 0 1-1.5 0v-2.5a.75.75 0 0 1 1.5 0ZM9 11a1 1 0 1 1-2 0 1 1 0 0 1 2 0Z"></path>
</svg>
    </span>
    <span class="Toast-content"></span>
  </div>


  <div hidden class="anim-fade-in fast Toast Toast--success">
    <span class="Toast-icon">
      <svg aria-hidden="true" height="16" viewBox="0 0 16 16" version="1.1" width="16" data-view-component="true" class="octicon octicon-check">
    <path d="M13.78 4.22a.75.75 0 0 1 0 1.06l-7.25 7.25a.75.75 0 0 1-1.06 0L2.22 9.28a.751.751 0 0 1 .018-1.042.751.751 0 0 1 1.042-.018L6 10.94l6.72-6.72a.75.75 0 0 1 1.06 0Z"></path>
</svg>
    </span>
    <span class="Toast-content"></span>
  </div>

  <div hidden class="anim-fade-in fast Toast">
    <span class="Toast-icon">
      <svg aria-hidden="true" height="16" viewBox="0 0 16 16" version="1.1" width="16" data-view-component="true" class="octicon octicon-info">
    <path d="M0 8a8 8 0 1 1 16 0A8 8 0 0 1 0 8Zm8-6.5a6.5 6.5 0 1 0 0 13 6.5 6.5 0 0 0 0-13ZM6.5 7.75A.75.75 0 0 1 7.25 7h1a.75.75 0 0 1 .75.75v2.75h.25a.75.75 0 0 1 0 1.5h-2a.75.75 0 0 1 0-1.5h.25v-2h-.25a.75.75 0 0 1-.75-.75ZM8 6a1 1 0 1 1 0-2 1 1 0 0 1 0 2Z"></path>
</svg>
    </span>
    <span class="Toast-content"></span>
  </div>
</div>


  <div
    class="application-main "
    data-commit-hovercards-enabled
    data-discussion-hovercards-enabled
    data-issue-and-pr-hovercards-enabled
  >
        <div itemscope itemtype="http://schema.org/SoftwareSourceCode" class="">
    <main id="js-repo-pjax-container" >
      
      
      






    
  <div id="repository-container-header" data-turbo-replace hidden></div>




<turbo-frame id="repo-content-turbo-frame" target="_top" data-turbo-action="advance" class="">
    <div id="repo-content-pjax-container" class="repository-content " >
      <a href="https://github.dev/" class="d-none js-github-dev-shortcut" data-hotkey=".,Alt+Meta+≥,Control+Alt+.">Open in github.dev</a>
  <a href="https://github.dev/" class="d-none js-github-dev-new-tab-shortcut" data-hotkey="Shift+.,Shift+&gt;,&gt;" target="_blank" rel="noopener noreferrer">Open in a new github.dev tab</a>
    <a class="d-none" data-hotkey=",,Alt+Meta+≤,Control+Alt+," target="_blank" href="/codespaces/new/cursodatafundamentals/granada/tree/main?resume=1">Open in codespace</a>



    
      
    





<react-app
  app-name="react-code-view"
  initial-path="/cursodatafundamentals/granada/blob/main/Day%206/M5%20-%2005%20-%20EXTRA%20-%20Clases%20-%20Soluci%C3%B3n.ipynb"
  style="min-height: calc(100vh - 62px)"
  data-ssr="true"
  data-lazy="false"
  data-alternate="false"
>
  
  <script type="application/json" data-target="react-app.embeddedData">{"payload":{"allShortcutsEnabled":true,"fileTree":{"Day 6":{"items":[{"name":"M5 - 04 - Funciones - Solución.ipynb","path":"Day 6/M5 - 04 - Funciones - Solución.ipynb","contentType":"file"},{"name":"M5 - 04 - Funciones.ipynb","path":"Day 6/M5 - 04 - Funciones.ipynb","contentType":"file"},{"name":"M5 - 05 - Clases.ipynb","path":"Day 6/M5 - 05 - Clases.ipynb","contentType":"file"},{"name":"M5 - 05 - EXTRA - Clases - Solución.ipynb","path":"Day 6/M5 - 05 - EXTRA - Clases - Solución.ipynb","contentType":"file"}],"totalCount":4},"":{"items":[{"name":"Day 1","path":"Day 1","contentType":"directory"},{"name":"Day 2","path":"Day 2","contentType":"directory"},{"name":"Day 3","path":"Day 3","contentType":"directory"},{"name":"Day 4","path":"Day 4","contentType":"directory"},{"name":"Day 5","path":"Day 5","contentType":"directory"},{"name":"Day 6","path":"Day 6","contentType":"directory"},{"name":"Presentaciones","path":"Presentaciones","contentType":"directory"},{"name":"README.md","path":"README.md","contentType":"file"}],"totalCount":8}},"fileTreeProcessingTime":5.784686,"foldersToFetch":[],"reducedMotionEnabled":"system","repo":{"id":699691449,"defaultBranch":"main","name":"granada","ownerLogin":"cursodatafundamentals","currentUserCanPush":true,"isFork":false,"isEmpty":false,"createdAt":"2023-10-03T08:30:52.000+02:00","ownerAvatar":"https://avatars.githubusercontent.com/u/117397562?v=4","public":false,"private":true,"isOrgOwned":false},"symbolsExpanded":false,"treeExpanded":true,"refInfo":{"name":"main","listCacheKey":"v0:1697525773.0","canEdit":true,"refType":"branch","currentOid":"47c067b42a9421b6e3e8110a62ee352395acb1c3"},"path":"Day 6/M5 - 05 - EXTRA - Clases - Solución.ipynb","currentUser":{"id":146814397,"login":"Karlett19","userEmail":"richmondcastillo19@gmail.com"},"blob":{"rawLines":["{\"nbformat\":4,\"nbformat_minor\":0,\"metadata\":{\"colab\":{\"provenance\":[{\"file_id\":\"1lI_3G2so2Z8_8vHd-mzJM9OCxvPa1omm\",\"timestamp\":1666618510181}],\"collapsed_sections\":[\"fLXurYusBZHX\"]},\"kernelspec\":{\"name\":\"python3\",\"display_name\":\"Python 3\"},\"language_info\":{\"name\":\"python\"}},\"cells\":[{\"cell_type\":\"markdown\",\"source\":[\"# Clases en Python\"],\"metadata\":{\"id\":\"ctRYcUPu3-Rl\"}},{\"cell_type\":\"markdown\",\"metadata\":{\"id\":\"fLXurYusBZHX\"},\"source\":[\"### Definir una clase\\n\",\"\\n\",\"Para crear un objeto primero debemos definir la clase que lo contiene. Podemos pensar en la *clase* como el molde con el que crear nuevos objetos de ese tipo:\\n\",\"\\n\",\"![queque.png](data:image/png;base64,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)\"]},{\"cell_type\":\"markdown\",\"metadata\":{\"id\":\"7yVRTFjTBZHY\"},\"source\":[\"\u003e Usaremos la palabra reservada `class` para crear nuevas clases.\"]},{\"cell_type\":\"code\",\"execution_count\":null,\"metadata\":{\"id\":\"ybMynzYS36Dp\"},\"outputs\":[],\"source\":[\"class Persona():\\n\",\"    \\n\",\"    # La función __init__ está predeterminada en python y se ejecuta una vez cuando creamos la clase.\\n\",\"    # Todas las funciones deben incluir la clase a la que pertenecen dentro de sus parametros: self.\\n\",\"    \\n\",\"    def __init__(self):\\n\",\"        \\n\",\"        # Las variables dentro de una clase se indican con el prefijo self\\n\",\"        self.nombre = \\\"Juan\\\"\\n\",\"        self.apellido = \\\"Sanchís\\\"\\n\",\"        \\n\",\"    def presentarse(self):\\n\",\"        \\n\",\"        # Cuando ejecutemos la siguiente función la clase Persona() imprimirá un saludo\\n\",\"        print(\\\"¡Hola!, me llamo\\\", self.nombre, self.apellido)\"]},{\"cell_type\":\"code\",\"source\":[\"# Creamos una variable de tipo Persona\\n\",\"persona = Persona()\"],\"metadata\":{\"id\":\"62rN84ca4UPB\"},\"execution_count\":null,\"outputs\":[]},{\"cell_type\":\"code\",\"source\":[\"# Ejecutamos la función de presentarse\\n\",\"persona.presentarse()\"],\"metadata\":{\"id\":\"yKl7eBEy4X6D\"},\"execution_count\":null,\"outputs\":[]},{\"cell_type\":\"markdown\",\"source\":[\"Ahora hemos cambiado la clase. La hemos hecho genérica para que sirva para cualquier Persona, no solo para Juan Sanchís.\"],\"metadata\":{\"id\":\"8mlbCekO6nt9\"}},{\"cell_type\":\"code\",\"source\":[\"class Persona():\\n\",\"    \\n\",\"    # La función __init__ está predeterminada en python y se ejecuta una vez cuando creamos la clase.\\n\",\"    # Todas las funciones deben incluir la clase a la que pertenecen dentro de sus parametros: self.\\n\",\"    \\n\",\"    def __init__(self, nombre, apellido):\\n\",\"        \\n\",\"        # Las variables dentro de una clase se indican con el prefijo self\\n\",\"        self.nombre = nombre\\n\",\"        self.apellido = apellido\\n\",\"        \\n\",\"    def presentarse(self):\\n\",\"        \\n\",\"        # Cuando ejecutemos la siguiente función la clase Persona() imprimirá un saludo\\n\",\"        print(\\\"¡Hola!, me llamo\\\", self.nombre, self.apellido)\"],\"metadata\":{\"id\":\"wb-Ej5_M6lvY\"},\"execution_count\":null,\"outputs\":[]},{\"cell_type\":\"code\",\"source\":[\"# Creamos una variable de tipo Persona\\n\",\"# Pista: Ahora se le pasa como parámetro el nombre y el apellido\\n\",\"persona2 =\"],\"metadata\":{\"id\":\"2mk2g9rq69pl\"},\"execution_count\":null,\"outputs\":[]},{\"cell_type\":\"markdown\",\"source\":[\"\u003cdetails\u003e\u003csummary\u003eClick aquí para la solución\u003c/summary\u003e\\n\",\"\\n\",\"```python\\n\",\"persona2 = Persona(nombre = \\\"Susana\\\", apellido = \\\"García\\\")\\n\",\"    \\n\",\"```\\n\",\"\\n\",\"\u003c/details\u003e\\n\"],\"metadata\":{\"id\":\"Q0-2V8qxgZh2\"}},{\"cell_type\":\"code\",\"source\":[\"# Ahora implementa el método saludar_a_alguien dentro de la nueva clase Persona\\n\",\"# Que reciba como parámetro de entrada el nombre de la persona a la que saludamos\\n\",\"\\n\",\"class Persona():\\n\",\"    \\n\",\"    # La función __init__ está predeterminada en python y se ejecuta una vez cuando creamos la clase.\\n\",\"    # Todas las funciones deben incluir la clase a la que pertenecen dentro de sus parametros: self.\\n\",\"    \\n\",\"    def __init__(self, nombre, apellido):\\n\",\"        \\n\",\"        # Las variables dentro de una clase se indican con el prefijo self\\n\",\"        self.nombre = nombre\\n\",\"        self.apellido = apellido\\n\",\"        \\n\",\"    def presentarse(self):\\n\",\"        \\n\",\"        # Cuando ejecutemos la siguiente función la clase Persona() imprimirá un saludo\\n\",\"        print(\\\"¡Hola!, me llamo\\\", self.nombre, self.apellido)\\n\",\"\\n\",\"    # Introducir aquí el nuevo método:\\n\",\"    \"],\"metadata\":{\"id\":\"c3OIgxw84i7F\"},\"execution_count\":null,\"outputs\":[]},{\"cell_type\":\"markdown\",\"source\":[\"\u003cdetails\u003e\u003csummary\u003eClick aquí para la solución\u003c/summary\u003e\\n\",\"\\n\",\"```python\\n\",\"class Persona():\\n\",\"    \\n\",\"    # La función __init__ está predeterminada en python y se ejecuta una vez cuando creamos la clase.\\n\",\"    # Todas las funciones deben incluir la clase a la que pertenecen dentro de sus parametros: self.\\n\",\"    \\n\",\"    def __init__(self, nombre, apellido):\\n\",\"        \\n\",\"        # Las variables dentro de una clase se indican con el prefijo self\\n\",\"        self.nombre = nombre\\n\",\"        self.apellido = apellido\\n\",\"        \\n\",\"    def presentarse(self):\\n\",\"        \\n\",\"        # Cuando ejecutemos la siguiente función la clase Persona() imprimirá un saludo\\n\",\"        print(\\\"¡Hola!, me llamo\\\", self.nombre, self.apellido)\\n\",\"        \\n\",\"    def saludar_a_alguien(self, nombre):\\n\",\"        \\n\",\"        # Cuando ejecutemos la siguiente función la clase Persona() imprimirá un saludo personalizado\\n\",\"        print(\\\"Hola\\\", nombre, \\\", me llamo\\\", self.nombre)\\n\",\"    \\n\",\"```\\n\",\"\\n\",\"\u003c/details\u003e\\n\"],\"metadata\":{\"id\":\"EDpOuv5s7Hc3\"}},{\"cell_type\":\"code\",\"source\":[\"#Comprueba tu solución:\\n\",\"# Debe imprimir: Hola Lola, soy David\\n\",\"persona3 = Persona(nombre = \\\"David\\\", apellido = \\\"Perez\\\")\\n\",\"persona3.saludar_a_alguien(\\\"Lola\\\")\"],\"metadata\":{\"id\":\"fxLrhAYG5Hxu\"},\"execution_count\":null,\"outputs\":[]},{\"cell_type\":\"markdown\",\"metadata\":{\"id\":\"pDM0cmTlgoQX\"},\"source\":[\"## 🔦 Usos de doble subguión `__`\\n\",\"\\n\",\"Los nombres que comienzan y terminan con dos subguiones `__` están reservados para uso interno de Python, así que no se deberían utilizar en código propio. Estos nombres se conocen como **dunder** que proviene de \\\"*double-underscore*\\\".\\n\",\"\\n\",\"Veamos un ejemplo en el que se muestra el nombre de una función y su documentación:\"]},{\"cell_type\":\"code\",\"execution_count\":null,\"metadata\":{\"id\":\"9SJmEB2dgoQX\"},\"outputs\":[],\"source\":[\"def amazing():\\n\",\"    '''This is the amazing function.\\n\",\"    Want to see it again?'''\\n\",\"    print('This function is named:', amazing.__name__)\\n\",\"    print('And its docstring is:', amazing.__doc__)\"]},{\"cell_type\":\"code\",\"execution_count\":null,\"metadata\":{\"id\":\"0pw5fQ7EgoQY\",\"outputId\":\"eda85ec0-ec1a-4f2f-f3d8-bddbd74bae1c\"},\"outputs\":[{\"name\":\"stdout\",\"output_type\":\"stream\",\"text\":[\"This function is named: amazing\\n\",\"And its docstring is: This is the amazing function.\\n\",\"    Want to see it again?\\n\"]}],\"source\":[\"amazing()\"]},{\"cell_type\":\"markdown\",\"metadata\":{\"id\":\"ZycBYZltgoQY\"},\"source\":[\"\u003e El programa principal se asigna a una variable especial llamada `__main__`.\"]},{\"cell_type\":\"markdown\",\"source\":[\"### Ejercicio Clase Circulo:\\n\",\"Dada la siguiente clase:\"],\"metadata\":{\"id\":\"8DpgzS8jb54u\"}},{\"cell_type\":\"code\",\"source\":[\"# Hemos creado la clase Circulo\\n\",\"import matplotlib.pyplot as plt\\n\",\"\\n\",\"class Circulo(object):\\n\",\"    \\n\",\"    # Constructor\\n\",\"    def __init__(self, radius=3, color='blue'):\\n\",\"        self.radius = radius\\n\",\"        self.color = color \\n\",\"    \\n\",\"    # Method\\n\",\"    def anyadir_radio(self, r):\\n\",\"        self.radius = self.radius + r\\n\",\"        return(self.radius)\\n\",\"    \\n\",\"    # Method\\n\",\"    def dibujarCirculo(self):\\n\",\"        plt.gca().add_patch(plt.Circle((0, 0), radius=self.radius, fc=self.color))\\n\",\"        plt.axis('scaled')\\n\",\"        plt.show()  \"],\"metadata\":{\"id\":\"TSefjMtGb-S1\"},\"execution_count\":null,\"outputs\":[]},{\"cell_type\":\"markdown\",\"metadata\":{\"id\":\"QgdiuOOobLTr\"},\"source\":[\"\u003ch3 id=\\\"Circulo\\\"\u003eCreando un instancia de la clase Circulo\u003c/h2\u003e\\n\"]},{\"cell_type\":\"markdown\",\"metadata\":{\"id\":\"kf0zv-oDbLTr\"},\"source\":[\"Vamos a crear el objecto \u003ccode\u003eCirculoRojo\u003c/code\u003e de tipo Circulo para hacer lo siguiente:\\n\"]},{\"cell_type\":\"code\",\"execution_count\":null,\"metadata\":{\"id\":\"_v3OlJlFbLTs\"},\"outputs\":[],\"source\":[\"# Creamos un objecto CirculoRojo\\n\",\"\\n\",\"CirculoRojo = Circulo(10, 'red')\"]},{\"cell_type\":\"markdown\",\"metadata\":{\"id\":\"zd4FyKCrbLTs\"},\"source\":[\"Podemos usar la función \u003ccode\u003edir\u003c/code\u003e para obtener una lista de las funciones del objeto. Muchos de ellos son funciones predeterminadas de Python.\\n\"]},{\"cell_type\":\"code\",\"execution_count\":null,\"metadata\":{\"id\":\"wcy1DuinbLTs\"},\"outputs\":[],\"source\":[\"# Descubrimos las funciones que se pueden utilizar en el objeto CirculoRojo\\n\",\"\\n\",\"dir(CirculoRojo)\"]},{\"cell_type\":\"markdown\",\"metadata\":{\"id\":\"4y-6IIbKbLTs\"},\"source\":[\"Podemos mirar los datos de los atributos del objeto:\"]},{\"cell_type\":\"code\",\"execution_count\":null,\"metadata\":{\"id\":\"fcJW4AzWbLTs\"},\"outputs\":[],\"source\":[\"# Imprimimos el atributo radio del objeto\\n\",\"\\n\",\"CirculoRojo.radius\"]},{\"cell_type\":\"code\",\"execution_count\":null,\"metadata\":{\"id\":\"ovIV164DbLTt\"},\"outputs\":[],\"source\":[\"# Imprimimos el atributo color del objeto\\n\",\"\\n\",\"CirculoRojo.color\"]},{\"cell_type\":\"markdown\",\"metadata\":{\"id\":\"HauoSjpmbLTt\"},\"source\":[\"Podemos cambiar los datos de los atributos del objecto:\\n\"]},{\"cell_type\":\"code\",\"execution_count\":null,\"metadata\":{\"id\":\"7J9SFa3nbLTt\"},\"outputs\":[],\"source\":[\"# Establecemos el atributo radio del objeto\\n\",\"\\n\",\"CirculoRojo.radius = 1\\n\",\"CirculoRojo.radius\"]},{\"cell_type\":\"markdown\",\"metadata\":{\"id\":\"XiXwhf40bLTt\"},\"source\":[\"Podemos dibujar el objecto usando la función \u003ccode\u003edrawCirculo()\u003c/code\u003e:\\n\"]},{\"cell_type\":\"code\",\"execution_count\":null,\"metadata\":{\"id\":\"goK0JZXlbLTt\"},\"outputs\":[],\"source\":[\"# Llamamos a la función dibujarCirculo\\n\",\"\\n\",\"CirculoRojo.dibujarCirculo()\"]},{\"cell_type\":\"markdown\",\"metadata\":{\"id\":\"7l7BSh4obLT0\"},\"source\":[\"\u003ch2 id=\\\"rect\\\"\u003eEjercicios\u003c/h2\u003e\\n\"]},{\"cell_type\":\"markdown\",\"metadata\":{\"id\":\"U-MqJBG_bLT1\"},\"source\":[\"\u003ch4\u003e Análisis de Texto \u003c/h4\u003e\\n\"]},{\"cell_type\":\"markdown\",\"metadata\":{\"id\":\"K9kkeApgbLT1\"},\"source\":[\"Has sido contratado por tu amigo, un entusiasta de la lingüística, para crear una herramienta de utilidad que pueda realizar análisis en un fragmento de texto determinado. Completa la clase\\n\",\"'analysedText' con los siguientes métodos -\\n\",\"\\n\",\"\u003cul\u003e\\n\",\"    \u003cli\u003e Constructor (__init__) - Este método debe tomar el argumento \u003ccode\u003etext\u003c/code\u003e, ponerlo en minúsculas y eliminar todos los signos de puntuación. Solo se usa la siguiente puntuación: punto (.), signo de exclamación (!), coma (,) y signo de interrogación (?). Asigna este texto recién formateado a un nuevo atributo llamado \u003ccode\u003efmtText\u003c/code\u003e.\\n\",\"    \u003cli\u003e freqAll - Este método debe crear y \u003cstrong\u003edevolver\u003c/strong\u003e un diccionario de todas las palabras únicas del texto, junto con la cantidad de veces que aparecen en el texto. Cada clave del diccionario debe ser la palabra única que aparece en el texto y el valor asociado debe ser el número de veces que aparece en el texto. Crea este diccionario a partir del atributo \u003ccode\u003efmtText\u003c/code\u003e.\\n\",\"    \u003cli\u003e freqOf - Este método debe tomar una palabra como argumento y \u003cstrong\u003edevolver\u003c/strong\u003e el número de apariciones de esa palabra en \u003ccode\u003efmtText\u003c/code\u003e.\\n\",\"\u003c/ul\u003e\\n\",\" Se te ha dado el código básico. Los comentarios pueden ser ignorados para el propósito del ejercicio. \u003cbr\u003e\\n\",\" \u003ci\u003e Pista: Algunas funciones útiles son \u003ccode\u003ereplace()\u003c/code\u003e, \u003ccode\u003elower()\u003c/code\u003e, \u003ccode\u003esplit()\u003c/code\u003e, \u003ccode\u003ecount()\u003c/code\u003e \u003c/i\u003e\u003cbr\u003e\\n\"]},{\"cell_type\":\"markdown\",\"metadata\":{\"id\":\"XZ3B1rUwbLT1\"},\"source\":[\"\u003cdetails\u003e\u003csummary\u003ePista para implementar el Constructor\u003c/summary\u003e\\n\",\"\\n\",\"La función \u003ccode\u003elower()\u003c/code\u003e convierte todos los caracteres en el string a minúsculas.\\n\",\"\\n\",\"La función \u003ccode\u003ereplace()\u003c/code\u003e toma dos argumentos: el texto para buscar y el texto para reemplazarlo. Intenta llamar a esta función para cada puntuación que quieras eliminar y reemplázala con un carácter en blanco, \u003ccode\u003e''\u003c/code\u003e.\\n\",\"\\n\",\"Puedes definir un atributo de clase y asignarle un valor con la siguiente fórmula genérica: \u003ccode\u003eself.attribute_name = value\u003c/code\u003e.\\n\",\"\\n\",\"\u003c/details\u003e\\n\"]},{\"cell_type\":\"markdown\",\"metadata\":{\"id\":\"HmXeHSxwbLT1\"},\"source\":[\"\u003cdetails\u003e\u003csummary\u003ePista para implementar freqAll\u003c/summary\u003e\\n\",\"\\n\",\"Puedes crear una lista de todas las palabras en \u003ccode\u003efmtText\u003c/code\u003e usando \u003ccode\u003esplit()\u003c/code\u003e y usando el carácter de espacio en blanco, \u003ccode\u003e' '\u003c/code\u003e como delimitador.\\n\",\"\\n\",\"Usar \u003ccode\u003eset()\u003c/code\u003e con una lista como argumento devolverá un conjunto con todos los elementos únicos en la lista. Intenta iterar sobre los elementos de este conjunto para crear las claves de un diccionario. La función \u003ccode\u003ecount()\u003c/code\u003e devolverá el número de apariciones del argumento en la lista. Por ejemplo, \u003ccode\u003e\\\\[\\\"hi\\\", \\\"hi\\\", \\\"hello\\\"].count(\\\"hi\\\")\u003c/code\u003e devolverá 2. Esto se puede usar para establecer los valores para cada par clave-valor en el diccionario.\\n\",\"\\n\",\"\u003c/details\u003e\\n\"]},{\"cell_type\":\"markdown\",\"metadata\":{\"id\":\"awkGq2BcbLT2\"},\"source\":[\"\u003cdetails\u003e\u003csummary\u003ePista para implementar freqOf\u003c/summary\u003e\\n\",\"\\n\",\"Intenta llamar al método \u003ccode\u003efreqAll\u003c/code\u003e que implementaste anteriormente y asígnalo a una variable. Ahora tendrás un diccionario con las palabras únicas que aparecen en fmtText como claves y la cantidad de veces que aparecen como valor.\\n\",\"\\n\",\"Puedes usar este diccionario para devolver el número de apariciones de la palabra que se proporcionó como argumento para el método \u003ccode\u003efreqOf\u003c/code\u003e.\\n\",\"\\n\",\"Si la palabra dada como argumento no aparece en el texto, devuelve 0. Puedes verificar si un string es una clave en el diccionario usando la siguiente fórmula de código: \u003ccode\u003eif item in my_dictionary:\u003c/code\u003e\\n\",\"\\n\",\"\u003c/details\u003e\\n\"]},{\"cell_type\":\"code\",\"execution_count\":null,\"metadata\":{\"id\":\"RCYMd3ZCbLT2\"},\"outputs\":[],\"source\":[\"class analysedText(object):\\n\",\"    \\n\",\"    def __init__ (self, text):\\n\",\"\\n\",\"        # TODO: Elimina los caracteres de puntuación como !\\\"#$%\u0026'()*+,-./:;\u003c=\u003e?@[\\\\]^_`{|}~ de \u003ctext\u003e y ponlo en minúsculas.\\n\",\"\\n\",\"        # TODO: Asigna el texto formateado a un nuevo atributo llamado \\\"fmtText\\\"\\n\",\"        \\n\",\"        pass \\n\",\"    \\n\",\"    def freqAll(self):    \\n\",\"\\n\",\"        # TODO: Separa el texto en una lista palabras\\n\",\"\\n\",\"        # TODO: Crea un diccionario con las palabras únicas del texto como claves\\n\",\"        # y el número de veces que aparecen en el texto como valores\\n\",\"      \\n\",\"        pass # devuelve el diccionario creado\\n\",\"    \\n\",\"    def freqOf(self, word):\\n\",\"\\n\",\"        # TODO: devuelve el número de apariciones de \u003cword\u003e en \u003cfmtText\u003e\\n\",\"\\n\",\"        pass\\n\",\"        \"]},{\"cell_type\":\"markdown\",\"metadata\":{\"id\":\"u1Xuoc-ebLT2\"},\"source\":[\"Puedes ejecutar la celda de código a continuación para probar tus funciones y asegurarte de que funcionan correctamente. Primero ejecuta la celda de código en la que implementaste tu solución, luego ejecuta la celda de código para probar tu implementación.\\n\"]},{\"cell_type\":\"code\",\"execution_count\":null,\"metadata\":{\"id\":\"CyTzhvgVbLT2\"},\"outputs\":[],\"source\":[\"import sys\\n\",\"\\n\",\"sampleMap = {'eirmod': 1,'sed': 1, 'amet': 2, 'diam': 5, 'consetetur': 1, 'labore': 1, 'tempor': 1, 'dolor': 1, 'magna': 2, 'et': 3, 'nonumy': 1, 'ipsum': 1, 'lorem': 2}\\n\",\"\\n\",\"def testMsg(passed):\\n\",\"    if passed:\\n\",\"       return 'Test Exitoso'\\n\",\"    else :\\n\",\"       return 'Test Fallido'\\n\",\"\\n\",\"print(\\\"Constructor: \\\")\\n\",\"try:\\n\",\"    samplePassage = analysedText(\\\"Lorem ipsum dolor! diam amet, consetetur Lorem magna. sed diam nonumy eirmod tempor. diam et labore? et diam magna. et diam amet.\\\")\\n\",\"    print(testMsg(samplePassage.fmtText == \\\"lorem ipsum dolor diam amet consetetur lorem magna sed diam nonumy eirmod tempor diam et labore et diam magna et diam amet\\\"))\\n\",\"except:\\n\",\"    print(\\\"Error detectado. Revisa tu función \\\" )\\n\",\"print(\\\"freqAll: \\\")\\n\",\"try:\\n\",\"    wordMap = samplePassage.freqAll()\\n\",\"    print(testMsg(wordMap==sampleMap))\\n\",\"except:\\n\",\"    print(\\\"Error detectado. Revisa tu función \\\" )\\n\",\"print(\\\"freqOf: \\\")\\n\",\"try:\\n\",\"    passed = True\\n\",\"    for word in sampleMap:\\n\",\"        if samplePassage.freqOf(word) != sampleMap[word]:\\n\",\"            passed = False\\n\",\"            break\\n\",\"    print(testMsg(passed))\\n\",\"    \\n\",\"except:\\n\",\"    print(\\\"Error detectado. Revisa tu función  \\\" )\\n\",\"    \"]},{\"cell_type\":\"markdown\",\"metadata\":{\"id\":\"DfuQc2LwbLT3\"},\"source\":[\"\u003cdetails\u003e\u003csummary\u003eClic aquí para la solución\u003c/summary\u003e\\n\",\"\\n\",\"```python\\n\",\"class analysedText(object):\\n\",\"    \\n\",\"    def __init__ (self, text):\\n\",\"        # eliminamos la puntuación\\n\",\"        formattedText = text.replace('.','').replace('!','').replace('?','').replace(',','')\\n\",\"        \\n\",\"        # pasamos el texto a minúsculas\\n\",\"        formattedText = formattedText.lower()\\n\",\"        \\n\",\"        self.fmtText = formattedText\\n\",\"        \\n\",\"    def freqAll(self):        \\n\",\"        # separamos el texto en palabras\\n\",\"        wordList = self.fmtText.split(' ')\\n\",\"        \\n\",\"        # Creamos un diccionario\\n\",\"        freqMap = {}\\n\",\"        for word in set(wordList): # usamos set para eliminar duplicados en la lista\\n\",\"            freqMap[word] = wordList.count(word)\\n\",\"        \\n\",\"        return freqMap\\n\",\"    \\n\",\"    def freqOf(self,word):\\n\",\"        # obtenemos el mapa de frecuencia\\n\",\"        freqDict = self.freqAll()\\n\",\"        \\n\",\"        if word in freqDict:\\n\",\"            return freqDict[word]\\n\",\"        else:\\n\",\"            return 0\\n\",\"    \\n\",\"```\\n\",\"\\n\",\"\u003c/details\u003e\\n\"]}]}"],"stylingDirectives":null,"csv":null,"csvError":null,"dependabotInfo":{"showConfigurationBanner":null,"configFilePath":null,"networkDependabotPath":"/cursodatafundamentals/granada/network/updates","dismissConfigurationNoticePath":"/settings/dismiss-notice/dependabot_configuration_notice","configurationNoticeDismissed":false,"repoAlertsPath":"/cursodatafundamentals/granada/security/dependabot","repoSecurityAndAnalysisPath":"/cursodatafundamentals/granada/settings/security_analysis","repoOwnerIsOrg":false,"currentUserCanAdminRepo":false},"displayName":"M5 - 05 - EXTRA - Clases - Solución.ipynb","displayUrl":"https://notebooks.githubusercontent.com/view/ipynb?browser=chrome\u0026bypass_fastly=true\u0026color_mode=auto\u0026commit=47c067b42a9421b6e3e8110a62ee352395acb1c3\u0026device=unknown_device\u0026docs_host=https%3A%2F%2Fdocs.github.com\u0026enc_url=68747470733a2f2f7261772e67697468756275736572636f6e74656e742e636f6d2f637572736f6461746166756e64616d656e74616c732f6772616e6164612f343763303637623432613934323162366533653831313061363265653335323339356163623163332f446179253230362f4d352532302d25323030352532302d25323045585452412532302d253230436c617365732532302d253230536f6c7563692543332542336e2e6970796e623f746f6b656e3d424441444c504d3354504c334a55505458585643474d54464659325436\u0026logged_in=true\u0026nwo=cursodatafundamentals%2Fgranada\u0026path=Day+6%2FM5+-+05+-+EXTRA+-+Clases+-+Soluci%C3%B3n.ipynb\u0026platform=windows\u0026repository_id=699691449\u0026repository_type=Repository\u0026version=117","headerInfo":{"blobSize":"188 KB","deleteInfo":{"deleteTooltip":"Delete this file"},"editInfo":{"editTooltip":"Edit this file"},"ghDesktopPath":"https://desktop.github.com","gitLfsPath":null,"onBranch":true,"shortPath":"e229a55","siteNavLoginPath":"/login?return_to=https%3A%2F%2Fgithub.com%2Fcursodatafundamentals%2Fgranada%2Fblob%2Fmain%2FDay%25206%2FM5%2520-%252005%2520-%2520EXTRA%2520-%2520Clases%2520-%2520Soluci%25C3%25B3n.ipynb","isCSV":false,"isRichtext":false,"toc":null,"lineInfo":{"truncatedLoc":"1","truncatedSloc":"1"},"mode":"file"},"image":false,"isCodeownersFile":null,"isPlain":false,"isValidLegacyIssueTemplate":false,"issueTemplateHelpUrl":"https://docs.github.com/articles/about-issue-and-pull-request-templates","issueTemplate":null,"discussionTemplate":null,"language":"Jupyter Notebook","languageID":185,"large":false,"loggedIn":true,"newDiscussionPath":"/cursodatafundamentals/granada/discussions/new","newIssuePath":"/cursodatafundamentals/granada/issues/new","planSupportInfo":{"repoIsFork":null,"repoOwnedByCurrentUser":null,"requestFullPath":"/cursodatafundamentals/granada/blob/main/Day%206/M5%20-%2005%20-%20EXTRA%20-%20Clases%20-%20Soluci%C3%B3n.ipynb","showFreeOrgGatedFeatureMessage":null,"showPlanSupportBanner":null,"upgradeDataAttributes":null,"upgradePath":null},"publishBannersInfo":{"dismissActionNoticePath":"/settings/dismiss-notice/publish_action_from_dockerfile","dismissStackNoticePath":"/settings/dismiss-notice/publish_stack_from_file","releasePath":"/cursodatafundamentals/granada/releases/new?marketplace=true","showPublishActionBanner":false,"showPublishStackBanner":false},"rawBlobUrl":"https://github.com/cursodatafundamentals/granada/raw/main/Day%206/M5%20-%2005%20-%20EXTRA%20-%20Clases%20-%20Soluci%C3%B3n.ipynb","renderImageOrRaw":false,"richText":null,"renderedFileInfo":{"identityUUID":"9395d5e5-7aaa-4493-95bd-ddb02bcde0a4","renderFileType":"ipynb","size":192580},"shortPath":null,"tabSize":8,"topBannersInfo":{"overridingGlobalFundingFile":false,"globalPreferredFundingPath":null,"repoOwner":"cursodatafundamentals","repoName":"granada","showInvalidCitationWarning":false,"citationHelpUrl":"https://docs.github.com/en/github/creating-cloning-and-archiving-repositories/creating-a-repository-on-github/about-citation-files","showDependabotConfigurationBanner":null,"actionsOnboardingTip":null},"truncated":false,"viewable":true,"workflowRedirectUrl":null,"symbols":{"timedOut":false,"notAnalyzed":true,"symbols":[]}},"copilotInfo":{"documentationUrl":"https://docs.github.com/copilot/overview-of-github-copilot/about-github-copilot-for-individuals","notices":{"codeViewPopover":{"dismissed":false,"dismissPath":"/settings/dismiss-notice/code_view_copilot_popover"}},"userAccess":{"accessAllowed":false,"hasSubscriptionEnded":false,"orgHasCFBAccess":false,"userHasCFIAccess":false,"userHasOrgs":false,"userIsOrgAdmin":false,"userIsOrgMember":false,"business":null,"featureRequestInfo":null}},"csrf_tokens":{"/cursodatafundamentals/granada/branches":{"post":"0xJP8MTlFF1i4pfWgqJJ2UFc0RzgRfHF7GuWdCzJ_WN6-I_URKXlLQHzHZmjd4L9JQo13SshlggjsbLL6T_ISg"},"/repos/preferences":{"post":"KOXlu_YSXP4O-KlWGMCV4zjm6qvWoJbIA29UkmutgYwHJWqbcZsAX6VNWzch1Xx7xCw1-zj6hByR6bm1tOVumA"}}},"title":"granada/Day 6/M5 - 05 - EXTRA - Clases - Solución.ipynb at main · cursodatafundamentals/granada","appPayload":{"helpUrl":"https://docs.github.com","findFileWorkerPath":"/assets-cdn/worker/find-file-worker-83d4418b406d.js","findInFileWorkerPath":"/assets-cdn/worker/find-in-file-worker-bcc43f789400.js","githubDevUrl":"https://github.dev/","enabled_features":{"code_nav_ui_events":false,"copilot_conversational_ux":false,"copilot_conversational_ux_streaming":true,"copilot_popover_file_editor_header":true,"copilot_smell_icebreaker_ux":false,"latest_commit_multi_author":true}}}</script>
  <div data-target="react-app.reactRoot"><style data-styled="true" data-styled-version="5.3.6">.fNPcqd{font-weight:600;font-size:32px;margin:0;font-size:14px;}/*!sc*/
.imcwCi{font-weight:600;font-size:32px;margin:0;font-size:16px;margin-left:8px;}/*!sc*/
.cgQnMS{font-weight:600;font-size:32px;margin:0;}/*!sc*/
.diwsLq{font-weight:600;font-size:32px;margin:0;font-weight:600;display:inline-block;max-width:100%;font-size:16px;}/*!sc*/
.jAEDJk{font-weight:600;font-size:32px;margin:0;font-weight:600;display:inline-block;max-width:100%;font-size:14px;}/*!sc*/
data-styled.g1[id="Heading__StyledHeading-sc-1c1dgg0-0"]{content:"fNPcqd,imcwCi,cgQnMS,diwsLq,jAEDJk,"}/*!sc*/
.fSWWem{padding:0;}/*!sc*/
.kPPmzM{max-width:100%;margin-left:auto;margin-right:auto;display:-webkit-box;display:-webkit-flex;display:-ms-flexbox;display:flex;-webkit-flex-wrap:wrap;-ms-flex-wrap:wrap;flex-wrap:wrap;}/*!sc*/
.cIAPDV{display:-webkit-box;display:-webkit-flex;display:-ms-flexbox;display:flex;-webkit-flex:1 1 100%;-ms-flex:1 1 100%;flex:1 1 100%;-webkit-flex-wrap:wrap;-ms-flex-wrap:wrap;flex-wrap:wrap;max-width:100%;}/*!sc*/
.gvCnwW{width:100%;}/*!sc*/
@media screen and (min-width:544px){.gvCnwW{width:100%;}}/*!sc*/
@media screen and (min-width:768px){.gvCnwW{width:auto;}}/*!sc*/
.ioxSsX{display:-webkit-box;display:-webkit-flex;display:-ms-flexbox;display:flex;-webkit-order:1;-ms-flex-order:1;order:1;width:100%;margin-left:0;margin-right:0;-webkit-flex-direction:column;-ms-flex-direction:column;flex-direction:column;margin-bottom:0;min-width:0;}/*!sc*/
@media screen and (min-width:544px){.ioxSsX{-webkit-flex-direction:column;-ms-flex-direction:column;flex-direction:column;}}/*!sc*/
@media screen and (min-width:768px){.ioxSsX{width:auto;margin-top:0 !important;margin-bottom:0 !important;position:-webkit-sticky;position:sticky;top:0px;max-height:var(--sticky-pane-height);-webkit-flex-direction:row-reverse;-ms-flex-direction:row-reverse;flex-direction:row-reverse;margin-right:0;}}/*!sc*/
@media screen and (min-width:769px){.ioxSsX{height:100vh;max-height:100vh !important;}}/*!sc*/
@media print,screen and (max-width:1011px) and (min-width:768px){.ioxSsX{display:none;}}/*!sc*/
.eUyHuk{margin-left:0;margin-right:0;display:none;margin-top:0;}/*!sc*/
@media screen and (min-width:768px){.eUyHuk{margin-left:0 !important;margin-right:0 !important;}}/*!sc*/
.hAeDYA{height:100%;position:relative;display:none;margin-left:0;}/*!sc*/
.ekKrwo{position:absolute;inset:0 -2px;cursor:col-resize;background-color:transparent;-webkit-transition-delay:0.1s;transition-delay:0.1s;}/*!sc*/
.ekKrwo:hover{background-color:rgba(175,184,193,0.2);}/*!sc*/
.gNdDUH{--pane-min-width:256px;--pane-max-width-diff:511px;--pane-max-width:calc(100vw - var(--pane-max-width-diff));width:100%;padding:0;}/*!sc*/
@media screen and (min-width:544px){}/*!sc*/
@media screen and (min-width:768px){.gNdDUH{width:clamp(var(--pane-min-width),var(--pane-width),var(--pane-max-width));overflow:auto;}}/*!sc*/
@media screen and (min-width:1280px){.gNdDUH{--pane-max-width-diff:959px;}}/*!sc*/
.jywUSN{max-height:100%;height:100%;display:-webkit-box;display:-webkit-flex;display:-ms-flexbox;display:flex;-webkit-flex-direction:column;-ms-flex-direction:column;flex-direction:column;}/*!sc*/
@media screen and (max-width:768px){.jywUSN{display:none;}}/*!sc*/
@media screen and (min-width:768px){.jywUSN{max-height:100vh;height:100vh;}}/*!sc*/
.hBSSUC{display:-webkit-box;display:-webkit-flex;display:-ms-flexbox;display:flex;-webkit-flex-direction:column;-ms-flex-direction:column;flex-direction:column;-webkit-align-items:center;-webkit-box-align:center;-ms-flex-align:center;align-items:center;padding-left:16px;padding-right:16px;padding-bottom:8px;padding-top:16px;}/*!sc*/
.iPurHz{display:-webkit-box;display:-webkit-flex;display:-ms-flexbox;display:flex;width:100%;margin-bottom:16px;-webkit-align-items:center;-webkit-box-align:center;-ms-flex-align:center;align-items:center;}/*!sc*/
.kkrdEu{-webkit-box-pack:center;-webkit-justify-content:center;-ms-flex-pack:center;justify-content:center;}/*!sc*/
.trpoQ{display:-webkit-box;display:-webkit-flex;display:-ms-flexbox;display:flex;pointer-events:none;}/*!sc*/
.hVHHYa{margin-left:24px;margin-right:24px;display:-webkit-box;display:-webkit-flex;display:-ms-flexbox;display:flex;width:100%;}/*!sc*/
.idZfsJ{-webkit-box-flex:1;-webkit-flex-grow:1;-ms-flex-positive:1;flex-grow:1;}/*!sc*/
.bKgizp{display:-webkit-box;display:-webkit-flex;display:-ms-flexbox;display:flex;width:100%;}/*!sc*/
.kYlvBX{margin-right:4px;color:#656d76;}/*!sc*/
.caeYDk{font-size:14px;min-width:0;overflow:hidden;text-overflow:ellipsis;white-space:nowrap;}/*!sc*/
.jahcnb{margin-left:8px;white-space:nowrap;}/*!sc*/
.jahcnb:hover button:not(:hover){border-left-color:var(--button-default-borderColor-hover,var(--color-btn-hover-border));}/*!sc*/
.ccToMy{margin-left:16px;margin-right:16px;margin-bottom:12px;}/*!sc*/
@media screen and (max-width:768px){.ccToMy{display:none;}}/*!sc*/
.cNvKlH{margin-right:-6px;}/*!sc*/
.cLfAnm{-webkit-box-flex:1;-webkit-flex-grow:1;-ms-flex-positive:1;flex-grow:1;max-height:100% !important;overflow-y:auto;-webkit-scrollbar-gutter:stable;-moz-scrollbar-gutter:stable;-ms-scrollbar-gutter:stable;scrollbar-gutter:stable;}/*!sc*/
@media screen and (max-width:768px){.cLfAnm{display:none;}}/*!sc*/
.erWCJP{padding-left:16px;padding-right:16px;padding-bottom:8px;}/*!sc*/
@media (min-height:600px) and (min-width:768px){.hwhShM{display:none;}}/*!sc*/
.cYPxpP{margin-top:8px;margin-left:16px;margin-right:16px;margin-bottom:12px;font-size:12px;-webkit-align-items:center;-webkit-box-align:center;-ms-flex-align:center;align-items:center;}/*!sc*/
@media (max-height:599px),(max-width:767px){.fBtiVT{display:none;}}/*!sc*/
.emFMJu{display:-webkit-box;display:-webkit-flex;display:-ms-flexbox;display:flex;-webkit-flex-direction:column;-ms-flex-direction:column;flex-direction:column;-webkit-order:2;-ms-flex-order:2;order:2;-webkit-flex-basis:0;-ms-flex-preferred-size:0;flex-basis:0;-webkit-box-flex:1;-webkit-flex-grow:1;-ms-flex-positive:1;flex-grow:1;-webkit-flex-shrink:1;-ms-flex-negative:1;flex-shrink:1;min-width:1px;margin-right:auto;}/*!sc*/
@media print{.emFMJu{display:-webkit-box !important;display:-webkit-flex !important;display:-ms-flexbox !important;display:flex !important;}}/*!sc*/
.hlUAHL{width:100%;max-width:100%;margin-left:auto;margin-right:auto;-webkit-box-flex:1;-webkit-flex-grow:1;-ms-flex-positive:1;flex-grow:1;padding:0;}/*!sc*/
.iStsmI{margin-left:auto;margin-right:auto;-webkit-flex-direction:column;-ms-flex-direction:column;flex-direction:column;padding-bottom:40px;max-width:100%;margin-top:0;}/*!sc*/
.eIgvIk{display:inherit;}/*!sc*/
.eVFfWF{width:100%;}/*!sc*/
.kgXdnT{padding:16px;padding-bottom:0;}/*!sc*/
.kzTa-dF{display:-webkit-box;display:-webkit-flex;display:-ms-flexbox;display:flex;-webkit-flex-direction:column;-ms-flex-direction:column;flex-direction:column;-webkit-box-pack:justify;-webkit-justify-content:space-between;-ms-flex-pack:justify;justify-content:space-between;gap:16px;width:100%;}/*!sc*/
.bbXCl{display:-webkit-box;display:-webkit-flex;display:-ms-flexbox;display:flex;-webkit-flex-direction:row;-ms-flex-direction:row;flex-direction:row;-webkit-align-items:start;-webkit-box-align:start;-ms-flex-align:start;align-items:start;-webkit-box-pack:justify;-webkit-justify-content:space-between;-ms-flex-pack:justify;justify-content:space-between;}/*!sc*/
.hGGMNu{display:-webkit-box;display:-webkit-flex;display:-ms-flexbox;display:flex;-webkit-flex-direction:row;-ms-flex-direction:row;flex-direction:row;-webkit-align-items:start;-webkit-box-align:start;-ms-flex-align:start;align-items:start;-webkit-box-pack:justify;-webkit-justify-content:space-between;-ms-flex-pack:justify;justify-content:space-between;justify-self:flex-end;}/*!sc*/
.eHRrYV{margin-left:8px;margin-right:8px;}/*!sc*/
.dKmYfk{font-size:14px;min-width:0;max-width:125px;overflow:hidden;text-overflow:ellipsis;white-space:nowrap;}/*!sc*/
.hSNzKh{justify-self:end;max-width:100%;}/*!sc*/
.eTvGbF{display:-webkit-box;display:-webkit-flex;display:-ms-flexbox;display:flex;-webkit-flex-direction:row;-ms-flex-direction:row;flex-direction:row;font-size:16px;min-width:0;-webkit-flex-shrink:1;-ms-flex-negative:1;flex-shrink:1;-webkit-flex-wrap:wrap;-ms-flex-wrap:wrap;flex-wrap:wrap;max-width:100%;-webkit-align-items:center;-webkit-box-align:center;-ms-flex-align:center;align-items:center;}/*!sc*/
.kzRgrI{max-width:100%;}/*!sc*/
.cmAPIB{max-width:100%;list-style:none;display:inline-block;}/*!sc*/
.jwXCBK{display:inline-block;max-width:100%;}/*!sc*/
.bDwCYs{padding:16px;padding-bottom:0;padding-left:16px;padding-right:16px;}/*!sc*/
.fywjmm{display:-webkit-box;display:-webkit-flex;display:-ms-flexbox;display:flex;gap:8px;-webkit-flex-direction:column;-ms-flex-direction:column;flex-direction:column;width:100%;}/*!sc*/
.dyczTK{display:-webkit-box;display:-webkit-flex;display:-ms-flexbox;display:flex;-webkit-align-items:start;-webkit-box-align:start;-ms-flex-align:start;align-items:start;-webkit-box-pack:justify;-webkit-justify-content:space-between;-ms-flex-pack:justify;justify-content:space-between;gap:8px;}/*!sc*/
.kszRgZ{-webkit-align-self:center;-ms-flex-item-align:center;align-self:center;display:-webkit-box;display:-webkit-flex;display:-ms-flexbox;display:flex;padding-right:8px;min-width:0;}/*!sc*/
.gtBUEp{min-height:32px;display:-webkit-box;display:-webkit-flex;display:-ms-flexbox;display:flex;-webkit-align-items:start;-webkit-box-align:start;-ms-flex-align:start;align-items:start;}/*!sc*/
.MERGN{margin-left:16px;margin-right:16px;}/*!sc*/
@media screen and (min-width:1440px){.MERGN{margin-left:16px;}}/*!sc*/
.cMYnca{display:-webkit-box;display:-webkit-flex;display:-ms-flexbox;display:flex;-webkit-flex-direction:column;-ms-flex-direction:column;flex-direction:column;}/*!sc*/
.kLxXov{display:-webkit-box;display:-webkit-flex;display:-ms-flexbox;display:flex;-webkit-flex-direction:column;-ms-flex-direction:column;flex-direction:column;border:1px solid;border-color:#d0d7de;border-radius:6px;margin-bottom:16px;}/*!sc*/
.eYedVD{display:-webkit-box;display:-webkit-flex;display:-ms-flexbox;display:flex;-webkit-flex-direction:row;-ms-flex-direction:row;flex-direction:row;-webkit-box-pack:justify;-webkit-justify-content:space-between;-ms-flex-pack:justify;justify-content:space-between;-webkit-align-items:center;-webkit-box-align:center;-ms-flex-align:center;align-items:center;gap:8px;min-width:273px;padding-right:8px;padding-left:16px;padding-top:8px;padding-bottom:8px;}/*!sc*/
.jGfYmh{display:-webkit-box;display:-webkit-flex;display:-ms-flexbox;display:flex;gap:8px;}/*!sc*/
.lhFvfi{display:-webkit-box;display:-webkit-flex;display:-ms-flexbox;display:flex;-webkit-align-items:center;-webkit-box-align:center;-ms-flex-align:center;align-items:center;}/*!sc*/
.bqgLjk{display:inherit;}/*!sc*/
@media screen and (min-width:544px){.bqgLjk{display:none;}}/*!sc*/
@media screen and (min-width:768px){.bqgLjk{display:none;}}/*!sc*/
.iJmJly{display:-webkit-box;display:-webkit-flex;display:-ms-flexbox;display:flex;-webkit-flex-direction:row;-ms-flex-direction:row;flex-direction:row;}/*!sc*/
.jACbi{width:100%;height:-webkit-fit-content;height:-moz-fit-content;height:fit-content;min-width:0;margin-right:0;}/*!sc*/
.bSdwWB{padding-left:4px;padding-bottom:16px;}/*!sc*/
.fleZSW{-webkit-align-items:center;-webkit-box-align:center;-ms-flex-align:center;align-items:center;}/*!sc*/
.bZpGqz{font-size:12px;-webkit-flex:auto;-ms-flex:auto;flex:auto;padding-right:16px;color:#656d76;min-width:0;}/*!sc*/
.gBKNLX{top:0px;z-index:1;background:var(--color-canvas-default);position:-webkit-sticky;position:sticky;}/*!sc*/
.ePiodO{display:-webkit-box;display:-webkit-flex;display:-ms-flexbox;display:flex;-webkit-flex-direction:column;-ms-flex-direction:column;flex-direction:column;width:100%;position:absolute;}/*!sc*/
.kQJlnf{display:none;min-width:0;padding-top:8px;padding-bottom:8px;}/*!sc*/
.gJICKO{margin-right:8px;margin-left:16px;text-overflow:ellipsis;overflow:hidden;display:-webkit-box;display:-webkit-flex;display:-ms-flexbox;display:flex;-webkit-flex-direction:row;-ms-flex-direction:row;flex-direction:row;-webkit-align-items:center;-webkit-box-align:center;-ms-flex-align:center;align-items:center;-webkit-box-pack:justify;-webkit-justify-content:space-between;-ms-flex-pack:justify;justify-content:space-between;width:100%;}/*!sc*/
.iZJewz{display:-webkit-box;display:-webkit-flex;display:-ms-flexbox;display:flex;-webkit-flex-direction:row;-ms-flex-direction:row;flex-direction:row;font-size:14px;min-width:0;-webkit-flex-shrink:1;-ms-flex-negative:1;flex-shrink:1;-webkit-flex-wrap:wrap;-ms-flex-wrap:wrap;flex-wrap:wrap;max-width:100%;-webkit-align-items:center;-webkit-box-align:center;-ms-flex-align:center;align-items:center;}/*!sc*/
.bvEDG{padding-left:8px;padding-top:8px;padding-bottom:8px;display:-webkit-box;display:-webkit-flex;display:-ms-flexbox;display:flex;-webkit-flex:1;-ms-flex:1;flex:1;-webkit-align-items:center;-webkit-box-align:center;-ms-flex-align:center;align-items:center;-webkit-box-pack:justify;-webkit-justify-content:space-between;-ms-flex-pack:justify;justify-content:space-between;background-color:#f6f8fa;border:1px solid var(--borderColor-default,var(--color-border-default));border-radius:6px 6px 0px 0px;}/*!sc*/
.bfkNRF{display:-webkit-box;display:-webkit-flex;display:-ms-flexbox;display:flex;-webkit-align-items:center;-webkit-box-align:center;-ms-flex-align:center;align-items:center;gap:8px;min-width:0;}/*!sc*/
.fXBLEV{display:block;position:relative;-webkit-box-flex:1;-webkit-flex-grow:1;-ms-flex-positive:1;flex-grow:1;margin-top:-1px;margin-bottom:-1px;--separator-color:transparent;}/*!sc*/
.fXBLEV:not(:last-child){margin-right:1px;}/*!sc*/
.fXBLEV:not(:last-child):after{background-color:var(--separator-color);content:"";position:absolute;right:-2px;top:8px;bottom:8px;width:1px;}/*!sc*/
.fXBLEV:focus-within:has(:focus-visible){--separator-color:transparent;}/*!sc*/
.fXBLEV:first-child{margin-left:-1px;}/*!sc*/
.fXBLEV:last-child{margin-right:-1px;}/*!sc*/
.jkTWSe{display:block;position:relative;-webkit-box-flex:1;-webkit-flex-grow:1;-ms-flex-positive:1;flex-grow:1;margin-top:-1px;margin-bottom:-1px;--separator-color:#d0d7de;}/*!sc*/
.jkTWSe:not(:last-child){margin-right:1px;}/*!sc*/
.jkTWSe:not(:last-child):after{background-color:var(--separator-color);content:"";position:absolute;right:-2px;top:8px;bottom:8px;width:1px;}/*!sc*/
.jkTWSe:focus-within:has(:focus-visible){--separator-color:transparent;}/*!sc*/
.jkTWSe:first-child{margin-left:-1px;}/*!sc*/
.jkTWSe:last-child{margin-right:-1px;}/*!sc*/
.iBylDf{display:-webkit-box;display:-webkit-flex;display:-ms-flexbox;display:flex;-webkit-align-items:center;-webkit-box-align:center;-ms-flex-align:center;align-items:center;gap:8px;margin-right:8px;}/*!sc*/
.kSGBPx{gap:8px;}/*!sc*/
.flDsrw{border:1px solid;border-top:none;border-color:#d0d7de;border-radius:0px 0px 6px 6px;min-width:273px;}/*!sc*/
.eJsjkT{background-color:var(--bgColor-default,var(--color-canvas-default));border:0px;border-width:0;border-radius:0px 0px 6px 6px;padding:0;min-width:0;margin-top:46px;overflow:auto;}/*!sc*/
.aZrVR{position:fixed;top:0;right:0;height:100%;width:15px;-webkit-transition:-webkit-transform 0.3s;-webkit-transition:transform 0.3s;transition:transform 0.3s;z-index:1;}/*!sc*/
.aZrVR:hover{-webkit-transform:scaleX(1.5);-ms-transform:scaleX(1.5);transform:scaleX(1.5);}/*!sc*/
.bAzdCq{display:-webkit-box;display:-webkit-flex;display:-ms-flexbox;display:flex;-webkit-flex-direction:column;-ms-flex-direction:column;flex-direction:column;-webkit-align-items:center;-webkit-box-align:center;-ms-flex-align:center;align-items:center;padding-top:16px;padding-bottom:16px;}/*!sc*/
data-styled.g2[id="Box-sc-g0xbh4-0"]{content:"fSWWem,kPPmzM,cIAPDV,gvCnwW,ioxSsX,eUyHuk,hAeDYA,ekKrwo,gNdDUH,jywUSN,hBSSUC,iPurHz,kkrdEu,trpoQ,hVHHYa,idZfsJ,bKgizp,kYlvBX,caeYDk,jahcnb,ccToMy,cNvKlH,cLfAnm,erWCJP,hwhShM,cYPxpP,fBtiVT,emFMJu,hlUAHL,iStsmI,eIgvIk,eVFfWF,kgXdnT,kzTa-dF,bbXCl,hGGMNu,eHRrYV,dKmYfk,hSNzKh,eTvGbF,kzRgrI,cmAPIB,jwXCBK,bDwCYs,fywjmm,dyczTK,kszRgZ,gtBUEp,MERGN,cMYnca,kLxXov,eYedVD,jGfYmh,lhFvfi,bqgLjk,iJmJly,jACbi,bSdwWB,fleZSW,bZpGqz,gBKNLX,ePiodO,kQJlnf,gJICKO,iZJewz,bvEDG,bfkNRF,fXBLEV,jkTWSe,iBylDf,kSGBPx,flDsrw,eJsjkT,aZrVR,bAzdCq,"}/*!sc*/
.rTZSs{position:absolute;width:1px;height:1px;padding:0;margin:-1px;overflow:hidden;-webkit-clip:rect(0,0,0,0);clip:rect(0,0,0,0);white-space:nowrap;border-width:0;}/*!sc*/
data-styled.g3[id="_VisuallyHidden__VisuallyHidden-sc-11jhm7a-0"]{content:"rTZSs,"}/*!sc*/
.fUpWeN{display:inline-block;overflow:hidden;text-overflow:ellipsis;vertical-align:top;white-space:nowrap;max-width:125px;max-width:100%;}/*!sc*/
data-styled.g5[id="Truncate__StyledTruncate-sc-23o1d2-0"]{content:"fUpWeN,"}/*!sc*/
.fIqerb{color:#0969da;-webkit-text-decoration:none;text-decoration:none;}/*!sc*/
.fIqerb:hover{-webkit-text-decoration:underline;text-decoration:underline;}/*!sc*/
.fIqerb:is(button){display:inline-block;padding:0;font-size:inherit;white-space:nowrap;cursor:pointer;-webkit-user-select:none;-moz-user-select:none;-ms-user-select:none;user-select:none;background-color:transparent;border:0;-webkit-appearance:none;-moz-appearance:none;appearance:none;}/*!sc*/
.eVjWum{color:#0969da;-webkit-text-decoration:none;text-decoration:none;font-weight:600;}/*!sc*/
.eVjWum:hover{-webkit-text-decoration:underline;text-decoration:underline;}/*!sc*/
.eVjWum:is(button){display:inline-block;padding:0;font-size:inherit;white-space:nowrap;cursor:pointer;-webkit-user-select:none;-moz-user-select:none;-ms-user-select:none;user-select:none;background-color:transparent;border:0;-webkit-appearance:none;-moz-appearance:none;appearance:none;}/*!sc*/
.dYxKVs{color:#0969da;-webkit-text-decoration:none;text-decoration:none;font-weight:400;}/*!sc*/
.dYxKVs:hover{-webkit-text-decoration:underline;text-decoration:underline;}/*!sc*/
.dYxKVs:is(button){display:inline-block;padding:0;font-size:inherit;white-space:nowrap;cursor:pointer;-webkit-user-select:none;-moz-user-select:none;-ms-user-select:none;user-select:none;background-color:transparent;border:0;-webkit-appearance:none;-moz-appearance:none;appearance:none;}/*!sc*/
data-styled.g7[id="Link__StyledLink-sc-14289xe-0"]{content:"fIqerb,eVjWum,dYxKVs,"}/*!sc*/
.hPEVNM{-webkit-animation:rotate-keyframes 1s linear infinite;animation:rotate-keyframes 1s linear infinite;}/*!sc*/
@-webkit-keyframes rotate-keyframes{100%{-webkit-transform:rotate(360deg);-ms-transform:rotate(360deg);transform:rotate(360deg);}}/*!sc*/
@keyframes rotate-keyframes{100%{-webkit-transform:rotate(360deg);-ms-transform:rotate(360deg);transform:rotate(360deg);}}/*!sc*/
data-styled.g24[id="Spinner__StyledSpinner-sc-1knt686-0"]{content:"hPEVNM,"}/*!sc*/
.cgNHBf{font-size:14px;line-height:20px;color:#1F2328;vertical-align:middle;background-color:#ffffff;border:1px solid var(--control-borderColor-rest,#d0d7de);border-radius:6px;outline:none;box-shadow:inset 0 1px 0 rgba(208,215,222,0.2);display:-webkit-inline-box;display:-webkit-inline-flex;display:-ms-inline-flexbox;display:inline-flex;-webkit-align-items:stretch;-webkit-box-align:stretch;-ms-flex-align:stretch;align-items:stretch;min-height:32px;display:-webkit-box;display:-webkit-flex;display:-ms-flexbox;display:flex;min-width:200px;}/*!sc*/
.cgNHBf input,.cgNHBf textarea{cursor:text;}/*!sc*/
.cgNHBf select{cursor:pointer;}/*!sc*/
.cgNHBf::-webkit-input-placeholder{color:#6e7781;}/*!sc*/
.cgNHBf::-moz-placeholder{color:#6e7781;}/*!sc*/
.cgNHBf:-ms-input-placeholder{color:#6e7781;}/*!sc*/
.cgNHBf::placeholder{color:#6e7781;}/*!sc*/
.cgNHBf:focus-within{border-color:#0969da;outline:none;box-shadow:inset 0 0 0 1px #0969da;}/*!sc*/
.cgNHBf > textarea{padding:12px;}/*!sc*/
@media (min-width:768px){.cgNHBf{font-size:14px;}}/*!sc*/
data-styled.g25[id="TextInputWrapper__TextInputBaseWrapper-sc-1mqhpbi-0"]{content:"cgNHBf,"}/*!sc*/
.cuQjCh{background-repeat:no-repeat;background-position:right 8px center;padding-left:12px;padding-right:12px;display:-webkit-box;display:-webkit-flex;display:-ms-flexbox;display:flex;min-width:200px;}/*!sc*/
.cuQjCh > :not(:last-child){margin-right:8px;}/*!sc*/
.cuQjCh .TextInput-icon,.cuQjCh .TextInput-action{-webkit-align-self:center;-ms-flex-item-align:center;align-self:center;color:#656d76;-webkit-flex-shrink:0;-ms-flex-negative:0;flex-shrink:0;}/*!sc*/
.cuQjCh > input,.cuQjCh > select{padding-left:0;padding-right:0;}/*!sc*/
data-styled.g26[id="TextInputWrapper-sc-1mqhpbi-1"]{content:"cuQjCh,"}/*!sc*/
.iBwhhC{border-radius:6px;border:1px solid;border-color:transparent;font-family:inherit;font-weight:500;font-size:14px;cursor:pointer;-webkit-appearance:none;-moz-appearance:none;appearance:none;-webkit-user-select:none;-moz-user-select:none;-ms-user-select:none;user-select:none;-webkit-text-decoration:none;text-decoration:none;text-align:center;display:-webkit-box;display:-webkit-flex;display:-ms-flexbox;display:flex;-webkit-align-items:center;-webkit-box-align:center;-ms-flex-align:center;align-items:center;-webkit-box-pack:justify;-webkit-justify-content:space-between;-ms-flex-pack:justify;justify-content:space-between;height:32px;padding:0 12px;gap:8px;min-width:-webkit-max-content;min-width:-moz-max-content;min-width:max-content;-webkit-transition:80ms cubic-bezier(0.65,0,0.35,1);transition:80ms cubic-bezier(0.65,0,0.35,1);-webkit-transition-property:color,fill,background-color,border-color;transition-property:color,fill,background-color,border-color;color:#0969da;background-color:transparent;box-shadow:none;}/*!sc*/
.iBwhhC:focus:not(:disabled){box-shadow:none;outline:2px solid #0969da;outline-offset:-2px;}/*!sc*/
.iBwhhC:focus:not(:disabled):not(:focus-visible){outline:solid 1px transparent;}/*!sc*/
.iBwhhC:focus-visible:not(:disabled){box-shadow:none;outline:2px solid #0969da;outline-offset:-2px;}/*!sc*/
.iBwhhC[href]{display:-webkit-inline-box;display:-webkit-inline-flex;display:-ms-inline-flexbox;display:inline-flex;}/*!sc*/
.iBwhhC[href]:hover{-webkit-text-decoration:none;text-decoration:none;}/*!sc*/
.iBwhhC:hover{-webkit-transition-duration:80ms;transition-duration:80ms;}/*!sc*/
.iBwhhC:active{-webkit-transition:none;transition:none;}/*!sc*/
.iBwhhC:disabled{cursor:not-allowed;box-shadow:none;color:#8c959f;}/*!sc*/
.iBwhhC:disabled [data-component=ButtonCounter],.iBwhhC:disabled [data-component="leadingVisual"],.iBwhhC:disabled [data-component="trailingAction"]{color:inherit;}/*!sc*/
@media (forced-colors:active){.iBwhhC:focus{outline:solid 1px transparent;}}/*!sc*/
.iBwhhC [data-component=ButtonCounter]{font-size:12px;}/*!sc*/
.iBwhhC[data-component=IconButton]{display:inline-grid;padding:unset;place-content:center;width:32px;min-width:unset;}/*!sc*/
.iBwhhC[data-size="small"]{padding:0 8px;height:28px;gap:4px;font-size:12px;}/*!sc*/
.iBwhhC[data-size="small"] [data-component="text"]{line-height:calc(20 / 12);}/*!sc*/
.iBwhhC[data-size="small"] [data-component=ButtonCounter]{font-size:12px;}/*!sc*/
.iBwhhC[data-size="small"] [data-component="buttonContent"] > :not(:last-child){margin-right:4px;}/*!sc*/
.iBwhhC[data-size="small"][data-component=IconButton]{width:28px;padding:unset;}/*!sc*/
.iBwhhC[data-size="large"]{padding:0 16px;height:40px;gap:8px;}/*!sc*/
.iBwhhC[data-size="large"] [data-component="buttonContent"] > :not(:last-child){margin-right:8px;}/*!sc*/
.iBwhhC[data-size="large"][data-component=IconButton]{width:40px;padding:unset;}/*!sc*/
.iBwhhC[data-block="block"]{width:100%;}/*!sc*/
.iBwhhC [data-component="leadingVisual"]{grid-area:leadingVisual;color:#656d76;}/*!sc*/
.iBwhhC [data-component="text"]{grid-area:text;line-height:calc(20/14);white-space:nowrap;}/*!sc*/
.iBwhhC [data-component="trailingVisual"]{grid-area:trailingVisual;}/*!sc*/
.iBwhhC [data-component="trailingAction"]{margin-right:-4px;color:#656d76;}/*!sc*/
.iBwhhC [data-component="buttonContent"]{-webkit-flex:1 0 auto;-ms-flex:1 0 auto;flex:1 0 auto;display:grid;grid-template-areas:"leadingVisual text trailingVisual";grid-template-columns:min-content minmax(0,auto) min-content;-webkit-align-items:center;-webkit-box-align:center;-ms-flex-align:center;align-items:center;-webkit-align-content:center;-ms-flex-line-pack:center;align-content:center;}/*!sc*/
.iBwhhC [data-component="buttonContent"] > :not(:last-child){margin-right:8px;}/*!sc*/
.iBwhhC:hover:not([disabled]){background-color:#f3f4f6;}/*!sc*/
.iBwhhC:active:not([disabled]){background-color:hsla(220,14%,94%,1);}/*!sc*/
.iBwhhC[aria-expanded=true]{background-color:hsla(220,14%,94%,1);}/*!sc*/
.iBwhhC[data-component="IconButton"][data-no-visuals]{color:#656d76;}/*!sc*/
.iBwhhC[data-no-visuals]{color:#0969da;}/*!sc*/
.iBwhhC:has([data-component="ButtonCounter"]){color:#0969da;}/*!sc*/
.iBwhhC:disabled[data-no-visuals]{color:#8c959f;}/*!sc*/
.iBwhhC:disabled[data-no-visuals] [data-component=ButtonCounter]{color:inherit;}/*!sc*/
.iBwhhC{color:#656d76;padding-left:8px;padding-right:8px;display:none;}/*!sc*/
@media screen and (max-width:768px){.iBwhhC{display:block;}}/*!sc*/
.bpzCPD{border-radius:6px;border:1px solid;border-color:transparent;font-family:inherit;font-weight:500;font-size:14px;cursor:pointer;-webkit-appearance:none;-moz-appearance:none;appearance:none;-webkit-user-select:none;-moz-user-select:none;-ms-user-select:none;user-select:none;-webkit-text-decoration:none;text-decoration:none;text-align:center;display:-webkit-box;display:-webkit-flex;display:-ms-flexbox;display:flex;-webkit-align-items:center;-webkit-box-align:center;-ms-flex-align:center;align-items:center;-webkit-box-pack:justify;-webkit-justify-content:space-between;-ms-flex-pack:justify;justify-content:space-between;height:32px;padding:0 12px;gap:8px;min-width:-webkit-max-content;min-width:-moz-max-content;min-width:max-content;-webkit-transition:80ms cubic-bezier(0.65,0,0.35,1);transition:80ms cubic-bezier(0.65,0,0.35,1);-webkit-transition-property:color,fill,background-color,border-color;transition-property:color,fill,background-color,border-color;color:#0969da;background-color:transparent;box-shadow:none;}/*!sc*/
.bpzCPD:focus:not(:disabled){box-shadow:none;outline:2px solid #0969da;outline-offset:-2px;}/*!sc*/
.bpzCPD:focus:not(:disabled):not(:focus-visible){outline:solid 1px transparent;}/*!sc*/
.bpzCPD:focus-visible:not(:disabled){box-shadow:none;outline:2px solid #0969da;outline-offset:-2px;}/*!sc*/
.bpzCPD[href]{display:-webkit-inline-box;display:-webkit-inline-flex;display:-ms-inline-flexbox;display:inline-flex;}/*!sc*/
.bpzCPD[href]:hover{-webkit-text-decoration:none;text-decoration:none;}/*!sc*/
.bpzCPD:hover{-webkit-transition-duration:80ms;transition-duration:80ms;}/*!sc*/
.bpzCPD:active{-webkit-transition:none;transition:none;}/*!sc*/
.bpzCPD:disabled{cursor:not-allowed;box-shadow:none;color:#8c959f;}/*!sc*/
.bpzCPD:disabled [data-component=ButtonCounter],.bpzCPD:disabled [data-component="leadingVisual"],.bpzCPD:disabled [data-component="trailingAction"]{color:inherit;}/*!sc*/
@media (forced-colors:active){.bpzCPD:focus{outline:solid 1px transparent;}}/*!sc*/
.bpzCPD [data-component=ButtonCounter]{font-size:12px;}/*!sc*/
.bpzCPD[data-component=IconButton]{display:inline-grid;padding:unset;place-content:center;width:32px;min-width:unset;}/*!sc*/
.bpzCPD[data-size="small"]{padding:0 8px;height:28px;gap:4px;font-size:12px;}/*!sc*/
.bpzCPD[data-size="small"] [data-component="text"]{line-height:calc(20 / 12);}/*!sc*/
.bpzCPD[data-size="small"] [data-component=ButtonCounter]{font-size:12px;}/*!sc*/
.bpzCPD[data-size="small"] [data-component="buttonContent"] > :not(:last-child){margin-right:4px;}/*!sc*/
.bpzCPD[data-size="small"][data-component=IconButton]{width:28px;padding:unset;}/*!sc*/
.bpzCPD[data-size="large"]{padding:0 16px;height:40px;gap:8px;}/*!sc*/
.bpzCPD[data-size="large"] [data-component="buttonContent"] > :not(:last-child){margin-right:8px;}/*!sc*/
.bpzCPD[data-size="large"][data-component=IconButton]{width:40px;padding:unset;}/*!sc*/
.bpzCPD[data-block="block"]{width:100%;}/*!sc*/
.bpzCPD [data-component="leadingVisual"]{grid-area:leadingVisual;color:#656d76;}/*!sc*/
.bpzCPD [data-component="text"]{grid-area:text;line-height:calc(20/14);white-space:nowrap;}/*!sc*/
.bpzCPD [data-component="trailingVisual"]{grid-area:trailingVisual;}/*!sc*/
.bpzCPD [data-component="trailingAction"]{margin-right:-4px;color:#656d76;}/*!sc*/
.bpzCPD [data-component="buttonContent"]{-webkit-flex:1 0 auto;-ms-flex:1 0 auto;flex:1 0 auto;display:grid;grid-template-areas:"leadingVisual text trailingVisual";grid-template-columns:min-content minmax(0,auto) min-content;-webkit-align-items:center;-webkit-box-align:center;-ms-flex-align:center;align-items:center;-webkit-align-content:center;-ms-flex-line-pack:center;align-content:center;}/*!sc*/
.bpzCPD [data-component="buttonContent"] > :not(:last-child){margin-right:8px;}/*!sc*/
.bpzCPD:hover:not([disabled]){background-color:#f3f4f6;}/*!sc*/
.bpzCPD:active:not([disabled]){background-color:hsla(220,14%,94%,1);}/*!sc*/
.bpzCPD[aria-expanded=true]{background-color:hsla(220,14%,94%,1);}/*!sc*/
.bpzCPD[data-component="IconButton"][data-no-visuals]{color:#656d76;}/*!sc*/
.bpzCPD[data-no-visuals]{color:#0969da;}/*!sc*/
.bpzCPD:has([data-component="ButtonCounter"]){color:#0969da;}/*!sc*/
.bpzCPD:disabled[data-no-visuals]{color:#8c959f;}/*!sc*/
.bpzCPD:disabled[data-no-visuals] [data-component=ButtonCounter]{color:inherit;}/*!sc*/
.bpzCPD[data-no-visuals="true"]{color:#656d76;height:32px;position:relative;}/*!sc*/
@media screen and (max-width:768px){.bpzCPD[data-no-visuals="true"]{display:none;}}/*!sc*/
.cpGorR{border-radius:6px;border:1px solid;border-color:rgba(31,35,40,0.15);font-family:inherit;font-weight:500;font-size:14px;cursor:pointer;-webkit-appearance:none;-moz-appearance:none;appearance:none;-webkit-user-select:none;-moz-user-select:none;-ms-user-select:none;user-select:none;-webkit-text-decoration:none;text-decoration:none;text-align:center;display:-webkit-box;display:-webkit-flex;display:-ms-flexbox;display:flex;-webkit-align-items:center;-webkit-box-align:center;-ms-flex-align:center;align-items:center;-webkit-box-pack:justify;-webkit-justify-content:space-between;-ms-flex-pack:justify;justify-content:space-between;height:32px;padding:0 12px;gap:8px;min-width:-webkit-max-content;min-width:-moz-max-content;min-width:max-content;-webkit-transition:80ms cubic-bezier(0.65,0,0.35,1);transition:80ms cubic-bezier(0.65,0,0.35,1);-webkit-transition-property:color,fill,background-color,border-color;transition-property:color,fill,background-color,border-color;color:#24292f;background-color:#f6f8fa;box-shadow:0 1px 0 rgba(31,35,40,0.04),inset 0 1px 0 rgba(255,255,255,0.25);}/*!sc*/
.cpGorR:focus:not(:disabled){box-shadow:none;outline:2px solid #0969da;outline-offset:-2px;}/*!sc*/
.cpGorR:focus:not(:disabled):not(:focus-visible){outline:solid 1px transparent;}/*!sc*/
.cpGorR:focus-visible:not(:disabled){box-shadow:none;outline:2px solid #0969da;outline-offset:-2px;}/*!sc*/
.cpGorR[href]{display:-webkit-inline-box;display:-webkit-inline-flex;display:-ms-inline-flexbox;display:inline-flex;}/*!sc*/
.cpGorR[href]:hover{-webkit-text-decoration:none;text-decoration:none;}/*!sc*/
.cpGorR:hover{-webkit-transition-duration:80ms;transition-duration:80ms;}/*!sc*/
.cpGorR:active{-webkit-transition:none;transition:none;}/*!sc*/
.cpGorR:disabled{cursor:not-allowed;box-shadow:none;color:#8c959f;}/*!sc*/
.cpGorR:disabled [data-component=ButtonCounter]{color:inherit;}/*!sc*/
@media (forced-colors:active){.cpGorR:focus{outline:solid 1px transparent;}}/*!sc*/
.cpGorR [data-component=ButtonCounter]{font-size:12px;}/*!sc*/
.cpGorR[data-component=IconButton]{display:inline-grid;padding:unset;place-content:center;width:32px;min-width:unset;}/*!sc*/
.cpGorR[data-size="small"]{padding:0 8px;height:28px;gap:4px;font-size:12px;}/*!sc*/
.cpGorR[data-size="small"] [data-component="text"]{line-height:calc(20 / 12);}/*!sc*/
.cpGorR[data-size="small"] [data-component=ButtonCounter]{font-size:12px;}/*!sc*/
.cpGorR[data-size="small"] [data-component="buttonContent"] > :not(:last-child){margin-right:4px;}/*!sc*/
.cpGorR[data-size="small"][data-component=IconButton]{width:28px;padding:unset;}/*!sc*/
.cpGorR[data-size="large"]{padding:0 16px;height:40px;gap:8px;}/*!sc*/
.cpGorR[data-size="large"] [data-component="buttonContent"] > :not(:last-child){margin-right:8px;}/*!sc*/
.cpGorR[data-size="large"][data-component=IconButton]{width:40px;padding:unset;}/*!sc*/
.cpGorR[data-block="block"]{width:100%;}/*!sc*/
.cpGorR [data-component="leadingVisual"]{grid-area:leadingVisual;}/*!sc*/
.cpGorR [data-component="text"]{grid-area:text;line-height:calc(20/14);white-space:nowrap;}/*!sc*/
.cpGorR [data-component="trailingVisual"]{grid-area:trailingVisual;}/*!sc*/
.cpGorR [data-component="trailingAction"]{margin-right:-4px;}/*!sc*/
.cpGorR [data-component="buttonContent"]{-webkit-flex:1 0 auto;-ms-flex:1 0 auto;flex:1 0 auto;display:grid;grid-template-areas:"leadingVisual text trailingVisual";grid-template-columns:min-content minmax(0,auto) min-content;-webkit-align-items:center;-webkit-box-align:center;-ms-flex-align:center;align-items:center;-webkit-align-content:center;-ms-flex-line-pack:center;align-content:center;}/*!sc*/
.cpGorR [data-component="buttonContent"] > :not(:last-child){margin-right:8px;}/*!sc*/
.cpGorR:hover:not([disabled]){background-color:#f3f4f6;border-color:rgba(31,35,40,0.15);}/*!sc*/
.cpGorR:active:not([disabled]){background-color:hsla(220,14%,93%,1);border-color:rgba(31,35,40,0.15);}/*!sc*/
.cpGorR[aria-expanded=true]{background-color:hsla(220,14%,93%,1);border-color:rgba(31,35,40,0.15);}/*!sc*/
.cpGorR [data-component="leadingVisual"],.cpGorR [data-component="trailingVisual"],.cpGorR [data-component="trailingAction"]{color:#656d76;}/*!sc*/
.cpGorR{display:-webkit-box;display:-webkit-flex;display:-ms-flexbox;display:flex;min-width:0;}/*!sc*/
.cpGorR svg{color:#656d76;}/*!sc*/
.cpGorR > span{width:inherit;}/*!sc*/
.jOqXES{border-radius:6px;border:1px solid;border-color:rgba(31,35,40,0.15);font-family:inherit;font-weight:500;font-size:14px;cursor:pointer;-webkit-appearance:none;-moz-appearance:none;appearance:none;-webkit-user-select:none;-moz-user-select:none;-ms-user-select:none;user-select:none;-webkit-text-decoration:none;text-decoration:none;text-align:center;display:-webkit-box;display:-webkit-flex;display:-ms-flexbox;display:flex;-webkit-align-items:center;-webkit-box-align:center;-ms-flex-align:center;align-items:center;-webkit-box-pack:justify;-webkit-justify-content:space-between;-ms-flex-pack:justify;justify-content:space-between;height:32px;padding:0 12px;gap:8px;min-width:-webkit-max-content;min-width:-moz-max-content;min-width:max-content;-webkit-transition:80ms cubic-bezier(0.65,0,0.35,1);transition:80ms cubic-bezier(0.65,0,0.35,1);-webkit-transition-property:color,fill,background-color,border-color;transition-property:color,fill,background-color,border-color;color:#24292f;background-color:#f6f8fa;box-shadow:0 1px 0 rgba(31,35,40,0.04),inset 0 1px 0 rgba(255,255,255,0.25);}/*!sc*/
.jOqXES:focus:not(:disabled){box-shadow:none;outline:2px solid #0969da;outline-offset:-2px;}/*!sc*/
.jOqXES:focus:not(:disabled):not(:focus-visible){outline:solid 1px transparent;}/*!sc*/
.jOqXES:focus-visible:not(:disabled){box-shadow:none;outline:2px solid #0969da;outline-offset:-2px;}/*!sc*/
.jOqXES[href]{display:-webkit-inline-box;display:-webkit-inline-flex;display:-ms-inline-flexbox;display:inline-flex;}/*!sc*/
.jOqXES[href]:hover{-webkit-text-decoration:none;text-decoration:none;}/*!sc*/
.jOqXES:hover{-webkit-transition-duration:80ms;transition-duration:80ms;}/*!sc*/
.jOqXES:active{-webkit-transition:none;transition:none;}/*!sc*/
.jOqXES:disabled{cursor:not-allowed;box-shadow:none;color:#8c959f;}/*!sc*/
.jOqXES:disabled [data-component=ButtonCounter]{color:inherit;}/*!sc*/
@media (forced-colors:active){.jOqXES:focus{outline:solid 1px transparent;}}/*!sc*/
.jOqXES [data-component=ButtonCounter]{font-size:12px;}/*!sc*/
.jOqXES[data-component=IconButton]{display:inline-grid;padding:unset;place-content:center;width:32px;min-width:unset;}/*!sc*/
.jOqXES[data-size="small"]{padding:0 8px;height:28px;gap:4px;font-size:12px;}/*!sc*/
.jOqXES[data-size="small"] [data-component="text"]{line-height:calc(20 / 12);}/*!sc*/
.jOqXES[data-size="small"] [data-component=ButtonCounter]{font-size:12px;}/*!sc*/
.jOqXES[data-size="small"] [data-component="buttonContent"] > :not(:last-child){margin-right:4px;}/*!sc*/
.jOqXES[data-size="small"][data-component=IconButton]{width:28px;padding:unset;}/*!sc*/
.jOqXES[data-size="large"]{padding:0 16px;height:40px;gap:8px;}/*!sc*/
.jOqXES[data-size="large"] [data-component="buttonContent"] > :not(:last-child){margin-right:8px;}/*!sc*/
.jOqXES[data-size="large"][data-component=IconButton]{width:40px;padding:unset;}/*!sc*/
.jOqXES[data-block="block"]{width:100%;}/*!sc*/
.jOqXES [data-component="leadingVisual"]{grid-area:leadingVisual;}/*!sc*/
.jOqXES [data-component="text"]{grid-area:text;line-height:calc(20/14);white-space:nowrap;}/*!sc*/
.jOqXES [data-component="trailingVisual"]{grid-area:trailingVisual;}/*!sc*/
.jOqXES [data-component="trailingAction"]{margin-right:-4px;}/*!sc*/
.jOqXES [data-component="buttonContent"]{-webkit-flex:1 0 auto;-ms-flex:1 0 auto;flex:1 0 auto;display:grid;grid-template-areas:"leadingVisual text trailingVisual";grid-template-columns:min-content minmax(0,auto) min-content;-webkit-align-items:center;-webkit-box-align:center;-ms-flex-align:center;align-items:center;-webkit-align-content:center;-ms-flex-line-pack:center;align-content:center;}/*!sc*/
.jOqXES [data-component="buttonContent"] > :not(:last-child){margin-right:8px;}/*!sc*/
.jOqXES:hover:not([disabled]){background-color:#f3f4f6;border-color:rgba(31,35,40,0.15);}/*!sc*/
.jOqXES:active:not([disabled]){background-color:hsla(220,14%,93%,1);border-color:rgba(31,35,40,0.15);}/*!sc*/
.jOqXES[aria-expanded=true]{background-color:hsla(220,14%,93%,1);border-color:rgba(31,35,40,0.15);}/*!sc*/
.jOqXES [data-component="leadingVisual"],.jOqXES [data-component="trailingVisual"],.jOqXES [data-component="trailingAction"]{color:#656d76;}/*!sc*/
.jOqXES[data-no-visuals="true"]{color:#6e7781;border-top-right-radius:0;border-bottom-right-radius:0;border-right:0;}/*!sc*/
.dQkDZk{border-radius:6px;border:1px solid;border-color:rgba(31,35,40,0.15);font-family:inherit;font-weight:500;font-size:14px;cursor:pointer;-webkit-appearance:none;-moz-appearance:none;appearance:none;-webkit-user-select:none;-moz-user-select:none;-ms-user-select:none;user-select:none;-webkit-text-decoration:none;text-decoration:none;text-align:center;display:-webkit-box;display:-webkit-flex;display:-ms-flexbox;display:flex;-webkit-align-items:center;-webkit-box-align:center;-ms-flex-align:center;align-items:center;-webkit-box-pack:justify;-webkit-justify-content:space-between;-ms-flex-pack:justify;justify-content:space-between;height:32px;padding:0 12px;gap:8px;min-width:-webkit-max-content;min-width:-moz-max-content;min-width:max-content;-webkit-transition:80ms cubic-bezier(0.65,0,0.35,1);transition:80ms cubic-bezier(0.65,0,0.35,1);-webkit-transition-property:color,fill,background-color,border-color;transition-property:color,fill,background-color,border-color;color:#24292f;background-color:#f6f8fa;box-shadow:0 1px 0 rgba(31,35,40,0.04),inset 0 1px 0 rgba(255,255,255,0.25);}/*!sc*/
.dQkDZk:focus:not(:disabled){box-shadow:none;outline:2px solid #0969da;outline-offset:-2px;}/*!sc*/
.dQkDZk:focus:not(:disabled):not(:focus-visible){outline:solid 1px transparent;}/*!sc*/
.dQkDZk:focus-visible:not(:disabled){box-shadow:none;outline:2px solid #0969da;outline-offset:-2px;}/*!sc*/
.dQkDZk[href]{display:-webkit-inline-box;display:-webkit-inline-flex;display:-ms-inline-flexbox;display:inline-flex;}/*!sc*/
.dQkDZk[href]:hover{-webkit-text-decoration:none;text-decoration:none;}/*!sc*/
.dQkDZk:hover{-webkit-transition-duration:80ms;transition-duration:80ms;}/*!sc*/
.dQkDZk:active{-webkit-transition:none;transition:none;}/*!sc*/
.dQkDZk:disabled{cursor:not-allowed;box-shadow:none;color:#8c959f;}/*!sc*/
.dQkDZk:disabled [data-component=ButtonCounter]{color:inherit;}/*!sc*/
@media (forced-colors:active){.dQkDZk:focus{outline:solid 1px transparent;}}/*!sc*/
.dQkDZk [data-component=ButtonCounter]{font-size:12px;}/*!sc*/
.dQkDZk[data-component=IconButton]{display:inline-grid;padding:unset;place-content:center;width:32px;min-width:unset;}/*!sc*/
.dQkDZk[data-size="small"]{padding:0 8px;height:28px;gap:4px;font-size:12px;}/*!sc*/
.dQkDZk[data-size="small"] [data-component="text"]{line-height:calc(20 / 12);}/*!sc*/
.dQkDZk[data-size="small"] [data-component=ButtonCounter]{font-size:12px;}/*!sc*/
.dQkDZk[data-size="small"] [data-component="buttonContent"] > :not(:last-child){margin-right:4px;}/*!sc*/
.dQkDZk[data-size="small"][data-component=IconButton]{width:28px;padding:unset;}/*!sc*/
.dQkDZk[data-size="large"]{padding:0 16px;height:40px;gap:8px;}/*!sc*/
.dQkDZk[data-size="large"] [data-component="buttonContent"] > :not(:last-child){margin-right:8px;}/*!sc*/
.dQkDZk[data-size="large"][data-component=IconButton]{width:40px;padding:unset;}/*!sc*/
.dQkDZk[data-block="block"]{width:100%;}/*!sc*/
.dQkDZk [data-component="leadingVisual"]{grid-area:leadingVisual;}/*!sc*/
.dQkDZk [data-component="text"]{grid-area:text;line-height:calc(20/14);white-space:nowrap;}/*!sc*/
.dQkDZk [data-component="trailingVisual"]{grid-area:trailingVisual;}/*!sc*/
.dQkDZk [data-component="trailingAction"]{margin-right:-4px;}/*!sc*/
.dQkDZk [data-component="buttonContent"]{-webkit-flex:1 0 auto;-ms-flex:1 0 auto;flex:1 0 auto;display:grid;grid-template-areas:"leadingVisual text trailingVisual";grid-template-columns:min-content minmax(0,auto) min-content;-webkit-align-items:center;-webkit-box-align:center;-ms-flex-align:center;align-items:center;-webkit-align-content:center;-ms-flex-line-pack:center;align-content:center;}/*!sc*/
.dQkDZk [data-component="buttonContent"] > :not(:last-child){margin-right:8px;}/*!sc*/
.dQkDZk:hover:not([disabled]){background-color:#f3f4f6;border-color:rgba(31,35,40,0.15);}/*!sc*/
.dQkDZk:active:not([disabled]){background-color:hsla(220,14%,93%,1);border-color:rgba(31,35,40,0.15);}/*!sc*/
.dQkDZk[aria-expanded=true]{background-color:hsla(220,14%,93%,1);border-color:rgba(31,35,40,0.15);}/*!sc*/
.dQkDZk [data-component="leadingVisual"],.dQkDZk [data-component="trailingVisual"],.dQkDZk [data-component="trailingAction"]{color:#656d76;}/*!sc*/
.dQkDZk[data-no-visuals="true"]{color:#6e7781;font-size:14px;font-weight:400;-webkit-flex-shrink:0;-ms-flex-negative:0;flex-shrink:0;border-top-left-radius:0;border-bottom-left-radius:0;}/*!sc*/
.iwngiV{border-radius:6px;border:1px solid;border-color:rgba(31,35,40,0.15);font-family:inherit;font-weight:500;font-size:14px;cursor:pointer;-webkit-appearance:none;-moz-appearance:none;appearance:none;-webkit-user-select:none;-moz-user-select:none;-ms-user-select:none;user-select:none;-webkit-text-decoration:none;text-decoration:none;text-align:center;display:-webkit-box;display:-webkit-flex;display:-ms-flexbox;display:flex;-webkit-align-items:center;-webkit-box-align:center;-ms-flex-align:center;align-items:center;-webkit-box-pack:justify;-webkit-justify-content:space-between;-ms-flex-pack:justify;justify-content:space-between;height:32px;padding:0 12px;gap:8px;min-width:-webkit-max-content;min-width:-moz-max-content;min-width:max-content;-webkit-transition:80ms cubic-bezier(0.65,0,0.35,1);transition:80ms cubic-bezier(0.65,0,0.35,1);-webkit-transition-property:color,fill,background-color,border-color;transition-property:color,fill,background-color,border-color;color:#24292f;background-color:#f6f8fa;box-shadow:0 1px 0 rgba(31,35,40,0.04),inset 0 1px 0 rgba(255,255,255,0.25);}/*!sc*/
.iwngiV:focus:not(:disabled){box-shadow:none;outline:2px solid #0969da;outline-offset:-2px;}/*!sc*/
.iwngiV:focus:not(:disabled):not(:focus-visible){outline:solid 1px transparent;}/*!sc*/
.iwngiV:focus-visible:not(:disabled){box-shadow:none;outline:2px solid #0969da;outline-offset:-2px;}/*!sc*/
.iwngiV[href]{display:-webkit-inline-box;display:-webkit-inline-flex;display:-ms-inline-flexbox;display:inline-flex;}/*!sc*/
.iwngiV[href]:hover{-webkit-text-decoration:none;text-decoration:none;}/*!sc*/
.iwngiV:hover{-webkit-transition-duration:80ms;transition-duration:80ms;}/*!sc*/
.iwngiV:active{-webkit-transition:none;transition:none;}/*!sc*/
.iwngiV:disabled{cursor:not-allowed;box-shadow:none;color:#8c959f;}/*!sc*/
.iwngiV:disabled [data-component=ButtonCounter]{color:inherit;}/*!sc*/
@media (forced-colors:active){.iwngiV:focus{outline:solid 1px transparent;}}/*!sc*/
.iwngiV [data-component=ButtonCounter]{font-size:12px;}/*!sc*/
.iwngiV[data-component=IconButton]{display:inline-grid;padding:unset;place-content:center;width:32px;min-width:unset;}/*!sc*/
.iwngiV[data-size="small"]{padding:0 8px;height:28px;gap:4px;font-size:12px;}/*!sc*/
.iwngiV[data-size="small"] [data-component="text"]{line-height:calc(20 / 12);}/*!sc*/
.iwngiV[data-size="small"] [data-component=ButtonCounter]{font-size:12px;}/*!sc*/
.iwngiV[data-size="small"] [data-component="buttonContent"] > :not(:last-child){margin-right:4px;}/*!sc*/
.iwngiV[data-size="small"][data-component=IconButton]{width:28px;padding:unset;}/*!sc*/
.iwngiV[data-size="large"]{padding:0 16px;height:40px;gap:8px;}/*!sc*/
.iwngiV[data-size="large"] [data-component="buttonContent"] > :not(:last-child){margin-right:8px;}/*!sc*/
.iwngiV[data-size="large"][data-component=IconButton]{width:40px;padding:unset;}/*!sc*/
.iwngiV[data-block="block"]{width:100%;}/*!sc*/
.iwngiV [data-component="leadingVisual"]{grid-area:leadingVisual;}/*!sc*/
.iwngiV [data-component="text"]{grid-area:text;line-height:calc(20/14);white-space:nowrap;}/*!sc*/
.iwngiV [data-component="trailingVisual"]{grid-area:trailingVisual;}/*!sc*/
.iwngiV [data-component="trailingAction"]{margin-right:-4px;}/*!sc*/
.iwngiV [data-component="buttonContent"]{-webkit-flex:1 0 auto;-ms-flex:1 0 auto;flex:1 0 auto;display:grid;grid-template-areas:"leadingVisual text trailingVisual";grid-template-columns:min-content minmax(0,auto) min-content;-webkit-align-items:center;-webkit-box-align:center;-ms-flex-align:center;align-items:center;-webkit-align-content:center;-ms-flex-line-pack:center;align-content:center;}/*!sc*/
.iwngiV [data-component="buttonContent"] > :not(:last-child){margin-right:8px;}/*!sc*/
.iwngiV:hover:not([disabled]){background-color:#f3f4f6;border-color:rgba(31,35,40,0.15);}/*!sc*/
.iwngiV:active:not([disabled]){background-color:hsla(220,14%,93%,1);border-color:rgba(31,35,40,0.15);}/*!sc*/
.iwngiV[aria-expanded=true]{background-color:hsla(220,14%,93%,1);border-color:rgba(31,35,40,0.15);}/*!sc*/
.iwngiV [data-component="leadingVisual"],.iwngiV [data-component="trailingVisual"],.iwngiV [data-component="trailingAction"]{color:#656d76;}/*!sc*/
.iwngiV{display:-webkit-box;display:-webkit-flex;display:-ms-flexbox;display:flex;}/*!sc*/
.iwngiV svg{color:#656d76;}/*!sc*/
.iwngiV > span{width:inherit;}/*!sc*/
.hMBGua{border-radius:6px;border:1px solid;border-color:rgba(31,35,40,0.15);font-family:inherit;font-weight:500;font-size:14px;cursor:pointer;-webkit-appearance:none;-moz-appearance:none;appearance:none;-webkit-user-select:none;-moz-user-select:none;-ms-user-select:none;user-select:none;-webkit-text-decoration:none;text-decoration:none;text-align:center;display:-webkit-box;display:-webkit-flex;display:-ms-flexbox;display:flex;-webkit-align-items:center;-webkit-box-align:center;-ms-flex-align:center;align-items:center;-webkit-box-pack:justify;-webkit-justify-content:space-between;-ms-flex-pack:justify;justify-content:space-between;height:32px;padding:0 12px;gap:8px;min-width:-webkit-max-content;min-width:-moz-max-content;min-width:max-content;-webkit-transition:80ms cubic-bezier(0.65,0,0.35,1);transition:80ms cubic-bezier(0.65,0,0.35,1);-webkit-transition-property:color,fill,background-color,border-color;transition-property:color,fill,background-color,border-color;color:#24292f;background-color:#f6f8fa;box-shadow:0 1px 0 rgba(31,35,40,0.04),inset 0 1px 0 rgba(255,255,255,0.25);}/*!sc*/
.hMBGua:focus:not(:disabled){box-shadow:none;outline:2px solid #0969da;outline-offset:-2px;}/*!sc*/
.hMBGua:focus:not(:disabled):not(:focus-visible){outline:solid 1px transparent;}/*!sc*/
.hMBGua:focus-visible:not(:disabled){box-shadow:none;outline:2px solid #0969da;outline-offset:-2px;}/*!sc*/
.hMBGua[href]{display:-webkit-inline-box;display:-webkit-inline-flex;display:-ms-inline-flexbox;display:inline-flex;}/*!sc*/
.hMBGua[href]:hover{-webkit-text-decoration:none;text-decoration:none;}/*!sc*/
.hMBGua:hover{-webkit-transition-duration:80ms;transition-duration:80ms;}/*!sc*/
.hMBGua:active{-webkit-transition:none;transition:none;}/*!sc*/
.hMBGua:disabled{cursor:not-allowed;box-shadow:none;color:#8c959f;}/*!sc*/
.hMBGua:disabled [data-component=ButtonCounter]{color:inherit;}/*!sc*/
@media (forced-colors:active){.hMBGua:focus{outline:solid 1px transparent;}}/*!sc*/
.hMBGua [data-component=ButtonCounter]{font-size:12px;}/*!sc*/
.hMBGua[data-component=IconButton]{display:inline-grid;padding:unset;place-content:center;width:32px;min-width:unset;}/*!sc*/
.hMBGua[data-size="small"]{padding:0 8px;height:28px;gap:4px;font-size:12px;}/*!sc*/
.hMBGua[data-size="small"] [data-component="text"]{line-height:calc(20 / 12);}/*!sc*/
.hMBGua[data-size="small"] [data-component=ButtonCounter]{font-size:12px;}/*!sc*/
.hMBGua[data-size="small"] [data-component="buttonContent"] > :not(:last-child){margin-right:4px;}/*!sc*/
.hMBGua[data-size="small"][data-component=IconButton]{width:28px;padding:unset;}/*!sc*/
.hMBGua[data-size="large"]{padding:0 16px;height:40px;gap:8px;}/*!sc*/
.hMBGua[data-size="large"] [data-component="buttonContent"] > :not(:last-child){margin-right:8px;}/*!sc*/
.hMBGua[data-size="large"][data-component=IconButton]{width:40px;padding:unset;}/*!sc*/
.hMBGua[data-block="block"]{width:100%;}/*!sc*/
.hMBGua [data-component="leadingVisual"]{grid-area:leadingVisual;}/*!sc*/
.hMBGua [data-component="text"]{grid-area:text;line-height:calc(20/14);white-space:nowrap;}/*!sc*/
.hMBGua [data-component="trailingVisual"]{grid-area:trailingVisual;}/*!sc*/
.hMBGua [data-component="trailingAction"]{margin-right:-4px;}/*!sc*/
.hMBGua [data-component="buttonContent"]{-webkit-flex:1 0 auto;-ms-flex:1 0 auto;flex:1 0 auto;display:grid;grid-template-areas:"leadingVisual text trailingVisual";grid-template-columns:min-content minmax(0,auto) min-content;-webkit-align-items:center;-webkit-box-align:center;-ms-flex-align:center;align-items:center;-webkit-align-content:center;-ms-flex-line-pack:center;align-content:center;}/*!sc*/
.hMBGua [data-component="buttonContent"] > :not(:last-child){margin-right:8px;}/*!sc*/
.hMBGua:hover:not([disabled]){background-color:#f3f4f6;border-color:rgba(31,35,40,0.15);}/*!sc*/
.hMBGua:active:not([disabled]){background-color:hsla(220,14%,93%,1);border-color:rgba(31,35,40,0.15);}/*!sc*/
.hMBGua[aria-expanded=true]{background-color:hsla(220,14%,93%,1);border-color:rgba(31,35,40,0.15);}/*!sc*/
.hMBGua [data-component="leadingVisual"],.hMBGua [data-component="trailingVisual"],.hMBGua [data-component="trailingAction"]{color:#656d76;}/*!sc*/
.hMBGua[data-no-visuals="true"]{border-top-left-radius:0;border-bottom-left-radius:0;display:none;}/*!sc*/
.bDzORU{border-radius:6px;border:1px solid;border-color:rgba(31,35,40,0.15);font-family:inherit;font-weight:500;font-size:14px;cursor:pointer;-webkit-appearance:none;-moz-appearance:none;appearance:none;-webkit-user-select:none;-moz-user-select:none;-ms-user-select:none;user-select:none;-webkit-text-decoration:none;text-decoration:none;text-align:center;display:-webkit-box;display:-webkit-flex;display:-ms-flexbox;display:flex;-webkit-align-items:center;-webkit-box-align:center;-ms-flex-align:center;align-items:center;-webkit-box-pack:justify;-webkit-justify-content:space-between;-ms-flex-pack:justify;justify-content:space-between;height:32px;padding:0 12px;gap:8px;min-width:-webkit-max-content;min-width:-moz-max-content;min-width:max-content;-webkit-transition:80ms cubic-bezier(0.65,0,0.35,1);transition:80ms cubic-bezier(0.65,0,0.35,1);-webkit-transition-property:color,fill,background-color,border-color;transition-property:color,fill,background-color,border-color;color:#24292f;background-color:#f6f8fa;box-shadow:0 1px 0 rgba(31,35,40,0.04),inset 0 1px 0 rgba(255,255,255,0.25);}/*!sc*/
.bDzORU:focus:not(:disabled){box-shadow:none;outline:2px solid #0969da;outline-offset:-2px;}/*!sc*/
.bDzORU:focus:not(:disabled):not(:focus-visible){outline:solid 1px transparent;}/*!sc*/
.bDzORU:focus-visible:not(:disabled){box-shadow:none;outline:2px solid #0969da;outline-offset:-2px;}/*!sc*/
.bDzORU[href]{display:-webkit-inline-box;display:-webkit-inline-flex;display:-ms-inline-flexbox;display:inline-flex;}/*!sc*/
.bDzORU[href]:hover{-webkit-text-decoration:none;text-decoration:none;}/*!sc*/
.bDzORU:hover{-webkit-transition-duration:80ms;transition-duration:80ms;}/*!sc*/
.bDzORU:active{-webkit-transition:none;transition:none;}/*!sc*/
.bDzORU:disabled{cursor:not-allowed;box-shadow:none;color:#8c959f;}/*!sc*/
.bDzORU:disabled [data-component=ButtonCounter]{color:inherit;}/*!sc*/
@media (forced-colors:active){.bDzORU:focus{outline:solid 1px transparent;}}/*!sc*/
.bDzORU [data-component=ButtonCounter]{font-size:12px;}/*!sc*/
.bDzORU[data-component=IconButton]{display:inline-grid;padding:unset;place-content:center;width:32px;min-width:unset;}/*!sc*/
.bDzORU[data-size="small"]{padding:0 8px;height:28px;gap:4px;font-size:12px;}/*!sc*/
.bDzORU[data-size="small"] [data-component="text"]{line-height:calc(20 / 12);}/*!sc*/
.bDzORU[data-size="small"] [data-component=ButtonCounter]{font-size:12px;}/*!sc*/
.bDzORU[data-size="small"] [data-component="buttonContent"] > :not(:last-child){margin-right:4px;}/*!sc*/
.bDzORU[data-size="small"][data-component=IconButton]{width:28px;padding:unset;}/*!sc*/
.bDzORU[data-size="large"]{padding:0 16px;height:40px;gap:8px;}/*!sc*/
.bDzORU[data-size="large"] [data-component="buttonContent"] > :not(:last-child){margin-right:8px;}/*!sc*/
.bDzORU[data-size="large"][data-component=IconButton]{width:40px;padding:unset;}/*!sc*/
.bDzORU[data-block="block"]{width:100%;}/*!sc*/
.bDzORU [data-component="leadingVisual"]{grid-area:leadingVisual;}/*!sc*/
.bDzORU [data-component="text"]{grid-area:text;line-height:calc(20/14);white-space:nowrap;}/*!sc*/
.bDzORU [data-component="trailingVisual"]{grid-area:trailingVisual;}/*!sc*/
.bDzORU [data-component="trailingAction"]{margin-right:-4px;}/*!sc*/
.bDzORU [data-component="buttonContent"]{-webkit-flex:1 0 auto;-ms-flex:1 0 auto;flex:1 0 auto;display:grid;grid-template-areas:"leadingVisual text trailingVisual";grid-template-columns:min-content minmax(0,auto) min-content;-webkit-align-items:center;-webkit-box-align:center;-ms-flex-align:center;align-items:center;-webkit-align-content:center;-ms-flex-line-pack:center;align-content:center;}/*!sc*/
.bDzORU [data-component="buttonContent"] > :not(:last-child){margin-right:8px;}/*!sc*/
.bDzORU:hover:not([disabled]){background-color:#f3f4f6;border-color:rgba(31,35,40,0.15);}/*!sc*/
.bDzORU:active:not([disabled]){background-color:hsla(220,14%,93%,1);border-color:rgba(31,35,40,0.15);}/*!sc*/
.bDzORU[aria-expanded=true]{background-color:hsla(220,14%,93%,1);border-color:rgba(31,35,40,0.15);}/*!sc*/
.bDzORU [data-component="leadingVisual"],.bDzORU [data-component="trailingVisual"],.bDzORU [data-component="trailingAction"]{color:#656d76;}/*!sc*/
.bDzORU[data-no-visuals="true"]{color:#656d76;}/*!sc*/
.cdPrCH{border-radius:6px;border:1px solid;border-color:transparent;font-family:inherit;font-weight:500;font-size:14px;cursor:pointer;-webkit-appearance:none;-moz-appearance:none;appearance:none;-webkit-user-select:none;-moz-user-select:none;-ms-user-select:none;user-select:none;-webkit-text-decoration:none;text-decoration:none;text-align:center;display:-webkit-box;display:-webkit-flex;display:-ms-flexbox;display:flex;-webkit-align-items:center;-webkit-box-align:center;-ms-flex-align:center;align-items:center;-webkit-box-pack:justify;-webkit-justify-content:space-between;-ms-flex-pack:justify;justify-content:space-between;height:32px;padding:0 12px;gap:8px;min-width:-webkit-max-content;min-width:-moz-max-content;min-width:max-content;-webkit-transition:80ms cubic-bezier(0.65,0,0.35,1);transition:80ms cubic-bezier(0.65,0,0.35,1);-webkit-transition-property:color,fill,background-color,border-color;transition-property:color,fill,background-color,border-color;color:#0969da;background-color:transparent;box-shadow:none;}/*!sc*/
.cdPrCH:focus:not(:disabled){box-shadow:none;outline:2px solid #0969da;outline-offset:-2px;}/*!sc*/
.cdPrCH:focus:not(:disabled):not(:focus-visible){outline:solid 1px transparent;}/*!sc*/
.cdPrCH:focus-visible:not(:disabled){box-shadow:none;outline:2px solid #0969da;outline-offset:-2px;}/*!sc*/
.cdPrCH[href]{display:-webkit-inline-box;display:-webkit-inline-flex;display:-ms-inline-flexbox;display:inline-flex;}/*!sc*/
.cdPrCH[href]:hover{-webkit-text-decoration:none;text-decoration:none;}/*!sc*/
.cdPrCH:hover{-webkit-transition-duration:80ms;transition-duration:80ms;}/*!sc*/
.cdPrCH:active{-webkit-transition:none;transition:none;}/*!sc*/
.cdPrCH:disabled{cursor:not-allowed;box-shadow:none;color:#8c959f;}/*!sc*/
.cdPrCH:disabled [data-component=ButtonCounter],.cdPrCH:disabled [data-component="leadingVisual"],.cdPrCH:disabled [data-component="trailingAction"]{color:inherit;}/*!sc*/
@media (forced-colors:active){.cdPrCH:focus{outline:solid 1px transparent;}}/*!sc*/
.cdPrCH [data-component=ButtonCounter]{font-size:12px;}/*!sc*/
.cdPrCH[data-component=IconButton]{display:inline-grid;padding:unset;place-content:center;width:32px;min-width:unset;}/*!sc*/
.cdPrCH[data-size="small"]{padding:0 8px;height:28px;gap:4px;font-size:12px;}/*!sc*/
.cdPrCH[data-size="small"] [data-component="text"]{line-height:calc(20 / 12);}/*!sc*/
.cdPrCH[data-size="small"] [data-component=ButtonCounter]{font-size:12px;}/*!sc*/
.cdPrCH[data-size="small"] [data-component="buttonContent"] > :not(:last-child){margin-right:4px;}/*!sc*/
.cdPrCH[data-size="small"][data-component=IconButton]{width:28px;padding:unset;}/*!sc*/
.cdPrCH[data-size="large"]{padding:0 16px;height:40px;gap:8px;}/*!sc*/
.cdPrCH[data-size="large"] [data-component="buttonContent"] > :not(:last-child){margin-right:8px;}/*!sc*/
.cdPrCH[data-size="large"][data-component=IconButton]{width:40px;padding:unset;}/*!sc*/
.cdPrCH[data-block="block"]{width:100%;}/*!sc*/
.cdPrCH [data-component="leadingVisual"]{grid-area:leadingVisual;color:#656d76;}/*!sc*/
.cdPrCH [data-component="text"]{grid-area:text;line-height:calc(20/14);white-space:nowrap;}/*!sc*/
.cdPrCH [data-component="trailingVisual"]{grid-area:trailingVisual;}/*!sc*/
.cdPrCH [data-component="trailingAction"]{margin-right:-4px;color:#656d76;}/*!sc*/
.cdPrCH [data-component="buttonContent"]{-webkit-flex:1 0 auto;-ms-flex:1 0 auto;flex:1 0 auto;display:grid;grid-template-areas:"leadingVisual text trailingVisual";grid-template-columns:min-content minmax(0,auto) min-content;-webkit-align-items:center;-webkit-box-align:center;-ms-flex-align:center;align-items:center;-webkit-align-content:center;-ms-flex-line-pack:center;align-content:center;}/*!sc*/
.cdPrCH [data-component="buttonContent"] > :not(:last-child){margin-right:8px;}/*!sc*/
.cdPrCH:hover:not([disabled]){background-color:#f3f4f6;}/*!sc*/
.cdPrCH:active:not([disabled]){background-color:hsla(220,14%,94%,1);}/*!sc*/
.cdPrCH[aria-expanded=true]{background-color:hsla(220,14%,94%,1);}/*!sc*/
.cdPrCH[data-component="IconButton"][data-no-visuals]{color:#656d76;}/*!sc*/
.cdPrCH[data-no-visuals]{color:#0969da;}/*!sc*/
.cdPrCH:has([data-component="ButtonCounter"]){color:#0969da;}/*!sc*/
.cdPrCH:disabled[data-no-visuals]{color:#8c959f;}/*!sc*/
.cdPrCH:disabled[data-no-visuals] [data-component=ButtonCounter]{color:inherit;}/*!sc*/
.cdPrCH[data-size="small"][data-no-visuals="true"]{margin-left:8px;}/*!sc*/
.iUmUix{border-radius:6px;border:1px solid;border-color:transparent;font-family:inherit;font-weight:500;font-size:14px;cursor:pointer;-webkit-appearance:none;-moz-appearance:none;appearance:none;-webkit-user-select:none;-moz-user-select:none;-ms-user-select:none;user-select:none;-webkit-text-decoration:none;text-decoration:none;text-align:center;display:-webkit-box;display:-webkit-flex;display:-ms-flexbox;display:flex;-webkit-align-items:center;-webkit-box-align:center;-ms-flex-align:center;align-items:center;-webkit-box-pack:justify;-webkit-justify-content:space-between;-ms-flex-pack:justify;justify-content:space-between;height:32px;padding:0 12px;gap:8px;min-width:-webkit-max-content;min-width:-moz-max-content;min-width:max-content;-webkit-transition:80ms cubic-bezier(0.65,0,0.35,1);transition:80ms cubic-bezier(0.65,0,0.35,1);-webkit-transition-property:color,fill,background-color,border-color;transition-property:color,fill,background-color,border-color;color:#1F2328;background-color:transparent;box-shadow:none;}/*!sc*/
.iUmUix:focus:not(:disabled){box-shadow:none;outline:2px solid #0969da;outline-offset:-2px;}/*!sc*/
.iUmUix:focus:not(:disabled):not(:focus-visible){outline:solid 1px transparent;}/*!sc*/
.iUmUix:focus-visible:not(:disabled){box-shadow:none;outline:2px solid #0969da;outline-offset:-2px;}/*!sc*/
.iUmUix[href]{display:-webkit-inline-box;display:-webkit-inline-flex;display:-ms-inline-flexbox;display:inline-flex;}/*!sc*/
.iUmUix[href]:hover{-webkit-text-decoration:none;text-decoration:none;}/*!sc*/
.iUmUix:hover{-webkit-transition-duration:80ms;transition-duration:80ms;}/*!sc*/
.iUmUix:active{-webkit-transition:none;transition:none;}/*!sc*/
.iUmUix:disabled{cursor:not-allowed;box-shadow:none;color:#8c959f;}/*!sc*/
.iUmUix:disabled [data-component=ButtonCounter],.iUmUix:disabled [data-component="leadingVisual"],.iUmUix:disabled [data-component="trailingAction"]{color:inherit;}/*!sc*/
@media (forced-colors:active){.iUmUix:focus{outline:solid 1px transparent;}}/*!sc*/
.iUmUix [data-component=ButtonCounter]{font-size:12px;}/*!sc*/
.iUmUix[data-component=IconButton]{display:inline-grid;padding:unset;place-content:center;width:32px;min-width:unset;}/*!sc*/
.iUmUix[data-size="small"]{padding:0 8px;height:28px;gap:4px;font-size:12px;}/*!sc*/
.iUmUix[data-size="small"] [data-component="text"]{line-height:calc(20 / 12);}/*!sc*/
.iUmUix[data-size="small"] [data-component=ButtonCounter]{font-size:12px;}/*!sc*/
.iUmUix[data-size="small"] [data-component="buttonContent"] > :not(:last-child){margin-right:4px;}/*!sc*/
.iUmUix[data-size="small"][data-component=IconButton]{width:28px;padding:unset;}/*!sc*/
.iUmUix[data-size="large"]{padding:0 16px;height:40px;gap:8px;}/*!sc*/
.iUmUix[data-size="large"] [data-component="buttonContent"] > :not(:last-child){margin-right:8px;}/*!sc*/
.iUmUix[data-size="large"][data-component=IconButton]{width:40px;padding:unset;}/*!sc*/
.iUmUix[data-block="block"]{width:100%;}/*!sc*/
.iUmUix [data-component="leadingVisual"]{grid-area:leadingVisual;color:#656d76;}/*!sc*/
.iUmUix [data-component="text"]{grid-area:text;line-height:calc(20/14);white-space:nowrap;}/*!sc*/
.iUmUix [data-component="trailingVisual"]{grid-area:trailingVisual;}/*!sc*/
.iUmUix [data-component="trailingAction"]{margin-right:-4px;color:#656d76;}/*!sc*/
.iUmUix [data-component="buttonContent"]{-webkit-flex:1 0 auto;-ms-flex:1 0 auto;flex:1 0 auto;display:grid;grid-template-areas:"leadingVisual text trailingVisual";grid-template-columns:min-content minmax(0,auto) min-content;-webkit-align-items:center;-webkit-box-align:center;-ms-flex-align:center;align-items:center;-webkit-align-content:center;-ms-flex-line-pack:center;align-content:center;}/*!sc*/
.iUmUix [data-component="buttonContent"] > :not(:last-child){margin-right:8px;}/*!sc*/
.iUmUix:hover:not([disabled]){background-color:#f3f4f6;-webkit-text-decoration:none;text-decoration:none;}/*!sc*/
.iUmUix:active:not([disabled]){background-color:hsla(220,14%,94%,1);-webkit-text-decoration:none;text-decoration:none;}/*!sc*/
.iUmUix[aria-expanded=true]{background-color:hsla(220,14%,94%,1);}/*!sc*/
.iUmUix[data-component="IconButton"][data-no-visuals]{color:#656d76;}/*!sc*/
.iUmUix[data-no-visuals]{color:#0969da;}/*!sc*/
.iUmUix:has([data-component="ButtonCounter"]){color:#0969da;}/*!sc*/
.iUmUix:disabled[data-no-visuals]{color:#8c959f;}/*!sc*/
.iUmUix:disabled[data-no-visuals] [data-component=ButtonCounter]{color:inherit;}/*!sc*/
.iUmUix:focus:not([disabled]){-webkit-text-decoration:none;text-decoration:none;}/*!sc*/
.gWBIfb{border-radius:6px;border:1px solid;border-color:transparent;font-family:inherit;font-weight:500;font-size:14px;cursor:pointer;-webkit-appearance:none;-moz-appearance:none;appearance:none;-webkit-user-select:none;-moz-user-select:none;-ms-user-select:none;user-select:none;-webkit-text-decoration:none;text-decoration:none;text-align:center;display:-webkit-box;display:-webkit-flex;display:-ms-flexbox;display:flex;-webkit-align-items:center;-webkit-box-align:center;-ms-flex-align:center;align-items:center;-webkit-box-pack:justify;-webkit-justify-content:space-between;-ms-flex-pack:justify;justify-content:space-between;height:32px;padding:0 12px;gap:8px;min-width:-webkit-max-content;min-width:-moz-max-content;min-width:max-content;-webkit-transition:80ms cubic-bezier(0.65,0,0.35,1);transition:80ms cubic-bezier(0.65,0,0.35,1);-webkit-transition-property:color,fill,background-color,border-color;transition-property:color,fill,background-color,border-color;color:#0969da;background-color:transparent;box-shadow:none;}/*!sc*/
.gWBIfb:focus:not(:disabled){box-shadow:none;outline:2px solid #0969da;outline-offset:-2px;}/*!sc*/
.gWBIfb:focus:not(:disabled):not(:focus-visible){outline:solid 1px transparent;}/*!sc*/
.gWBIfb:focus-visible:not(:disabled){box-shadow:none;outline:2px solid #0969da;outline-offset:-2px;}/*!sc*/
.gWBIfb[href]{display:-webkit-inline-box;display:-webkit-inline-flex;display:-ms-inline-flexbox;display:inline-flex;}/*!sc*/
.gWBIfb[href]:hover{-webkit-text-decoration:none;text-decoration:none;}/*!sc*/
.gWBIfb:hover{-webkit-transition-duration:80ms;transition-duration:80ms;}/*!sc*/
.gWBIfb:active{-webkit-transition:none;transition:none;}/*!sc*/
.gWBIfb:disabled{cursor:not-allowed;box-shadow:none;color:#8c959f;}/*!sc*/
.gWBIfb:disabled [data-component=ButtonCounter],.gWBIfb:disabled [data-component="leadingVisual"],.gWBIfb:disabled [data-component="trailingAction"]{color:inherit;}/*!sc*/
@media (forced-colors:active){.gWBIfb:focus{outline:solid 1px transparent;}}/*!sc*/
.gWBIfb [data-component=ButtonCounter]{font-size:12px;}/*!sc*/
.gWBIfb[data-component=IconButton]{display:inline-grid;padding:unset;place-content:center;width:32px;min-width:unset;}/*!sc*/
.gWBIfb[data-size="small"]{padding:0 8px;height:28px;gap:4px;font-size:12px;color:#1F2328;display:none;}/*!sc*/
.gWBIfb[data-size="small"] [data-component="text"]{line-height:calc(20 / 12);}/*!sc*/
.gWBIfb[data-size="small"] [data-component=ButtonCounter]{font-size:12px;}/*!sc*/
.gWBIfb[data-size="small"] [data-component="buttonContent"] > :not(:last-child){margin-right:4px;}/*!sc*/
.gWBIfb[data-size="small"][data-component=IconButton]{width:28px;padding:unset;}/*!sc*/
@media screen and (min-width:544px){.gWBIfb[data-size="small"]{display:none;}}/*!sc*/
@media screen and (min-width:768px){.gWBIfb[data-size="small"]{display:block;}}/*!sc*/
@media screen and (min-width:1012px){.gWBIfb[data-size="small"]{display:block;}}/*!sc*/
.gWBIfb[data-size="large"]{padding:0 16px;height:40px;gap:8px;}/*!sc*/
.gWBIfb[data-size="large"] [data-component="buttonContent"] > :not(:last-child){margin-right:8px;}/*!sc*/
.gWBIfb[data-size="large"][data-component=IconButton]{width:40px;padding:unset;}/*!sc*/
.gWBIfb[data-block="block"]{width:100%;}/*!sc*/
.gWBIfb [data-component="leadingVisual"]{grid-area:leadingVisual;color:#656d76;}/*!sc*/
.gWBIfb [data-component="text"]{grid-area:text;line-height:calc(20/14);white-space:nowrap;}/*!sc*/
.gWBIfb [data-component="trailingVisual"]{grid-area:trailingVisual;}/*!sc*/
.gWBIfb [data-component="trailingAction"]{margin-right:-4px;color:#656d76;}/*!sc*/
.gWBIfb [data-component="buttonContent"]{-webkit-flex:1 0 auto;-ms-flex:1 0 auto;flex:1 0 auto;display:grid;grid-template-areas:"leadingVisual text trailingVisual";grid-template-columns:min-content minmax(0,auto) min-content;-webkit-align-items:center;-webkit-box-align:center;-ms-flex-align:center;align-items:center;-webkit-align-content:center;-ms-flex-line-pack:center;align-content:center;}/*!sc*/
.gWBIfb [data-component="buttonContent"] > :not(:last-child){margin-right:8px;}/*!sc*/
.gWBIfb:hover:not([disabled]){background-color:#f3f4f6;}/*!sc*/
.gWBIfb:active:not([disabled]){background-color:hsla(220,14%,94%,1);}/*!sc*/
.gWBIfb[aria-expanded=true]{background-color:hsla(220,14%,94%,1);}/*!sc*/
.gWBIfb[data-component="IconButton"][data-no-visuals]{color:#656d76;}/*!sc*/
.gWBIfb[data-no-visuals]{color:#0969da;}/*!sc*/
.gWBIfb:has([data-component="ButtonCounter"]){color:#0969da;}/*!sc*/
.gWBIfb:disabled[data-no-visuals]{color:#8c959f;}/*!sc*/
.gWBIfb:disabled[data-no-visuals] [data-component=ButtonCounter]{color:inherit;}/*!sc*/
.iVkWL{border-radius:6px;border:1px solid;border-color:transparent;font-family:inherit;font-weight:500;font-size:14px;cursor:pointer;-webkit-appearance:none;-moz-appearance:none;appearance:none;-webkit-user-select:none;-moz-user-select:none;-ms-user-select:none;user-select:none;-webkit-text-decoration:none;text-decoration:none;text-align:center;display:-webkit-box;display:-webkit-flex;display:-ms-flexbox;display:flex;-webkit-align-items:center;-webkit-box-align:center;-ms-flex-align:center;align-items:center;-webkit-box-pack:justify;-webkit-justify-content:space-between;-ms-flex-pack:justify;justify-content:space-between;height:32px;padding:0 12px;gap:8px;min-width:-webkit-max-content;min-width:-moz-max-content;min-width:max-content;-webkit-transition:80ms cubic-bezier(0.65,0,0.35,1);transition:80ms cubic-bezier(0.65,0,0.35,1);-webkit-transition-property:color,fill,background-color,border-color;transition-property:color,fill,background-color,border-color;color:#0969da;background-color:transparent;box-shadow:none;}/*!sc*/
.iVkWL:focus:not(:disabled){box-shadow:none;outline:2px solid #0969da;outline-offset:-2px;}/*!sc*/
.iVkWL:focus:not(:disabled):not(:focus-visible){outline:solid 1px transparent;}/*!sc*/
.iVkWL:focus-visible:not(:disabled){box-shadow:none;outline:2px solid #0969da;outline-offset:-2px;}/*!sc*/
.iVkWL[href]{display:-webkit-inline-box;display:-webkit-inline-flex;display:-ms-inline-flexbox;display:inline-flex;}/*!sc*/
.iVkWL[href]:hover{-webkit-text-decoration:none;text-decoration:none;}/*!sc*/
.iVkWL:hover{-webkit-transition-duration:80ms;transition-duration:80ms;}/*!sc*/
.iVkWL:active{-webkit-transition:none;transition:none;}/*!sc*/
.iVkWL:disabled{cursor:not-allowed;box-shadow:none;color:#8c959f;}/*!sc*/
.iVkWL:disabled [data-component=ButtonCounter],.iVkWL:disabled [data-component="leadingVisual"],.iVkWL:disabled [data-component="trailingAction"]{color:inherit;}/*!sc*/
@media (forced-colors:active){.iVkWL:focus{outline:solid 1px transparent;}}/*!sc*/
.iVkWL [data-component=ButtonCounter]{font-size:12px;}/*!sc*/
.iVkWL[data-component=IconButton]{display:inline-grid;padding:unset;place-content:center;width:32px;min-width:unset;}/*!sc*/
.iVkWL[data-size="small"]{padding:0 8px;height:28px;gap:4px;font-size:12px;color:#1F2328;margin-left:8px;}/*!sc*/
.iVkWL[data-size="small"] [data-component="text"]{line-height:calc(20 / 12);}/*!sc*/
.iVkWL[data-size="small"] [data-component=ButtonCounter]{font-size:12px;}/*!sc*/
.iVkWL[data-size="small"] [data-component="buttonContent"] > :not(:last-child){margin-right:4px;}/*!sc*/
.iVkWL[data-size="small"][data-component=IconButton]{width:28px;padding:unset;}/*!sc*/
.iVkWL[data-size="large"]{padding:0 16px;height:40px;gap:8px;}/*!sc*/
.iVkWL[data-size="large"] [data-component="buttonContent"] > :not(:last-child){margin-right:8px;}/*!sc*/
.iVkWL[data-size="large"][data-component=IconButton]{width:40px;padding:unset;}/*!sc*/
.iVkWL[data-block="block"]{width:100%;}/*!sc*/
.iVkWL [data-component="leadingVisual"]{grid-area:leadingVisual;color:#656d76;}/*!sc*/
.iVkWL [data-component="text"]{grid-area:text;line-height:calc(20/14);white-space:nowrap;}/*!sc*/
.iVkWL [data-component="trailingVisual"]{grid-area:trailingVisual;}/*!sc*/
.iVkWL [data-component="trailingAction"]{margin-right:-4px;color:#656d76;}/*!sc*/
.iVkWL [data-component="buttonContent"]{-webkit-flex:1 0 auto;-ms-flex:1 0 auto;flex:1 0 auto;display:grid;grid-template-areas:"leadingVisual text trailingVisual";grid-template-columns:min-content minmax(0,auto) min-content;-webkit-align-items:center;-webkit-box-align:center;-ms-flex-align:center;align-items:center;-webkit-align-content:center;-ms-flex-line-pack:center;align-content:center;}/*!sc*/
.iVkWL [data-component="buttonContent"] > :not(:last-child){margin-right:8px;}/*!sc*/
.iVkWL:hover:not([disabled]){background-color:#f3f4f6;}/*!sc*/
.iVkWL:active:not([disabled]){background-color:hsla(220,14%,94%,1);}/*!sc*/
.iVkWL[aria-expanded=true]{background-color:hsla(220,14%,94%,1);}/*!sc*/
.iVkWL[data-component="IconButton"][data-no-visuals]{color:#656d76;}/*!sc*/
.iVkWL[data-no-visuals]{color:#0969da;}/*!sc*/
.iVkWL:has([data-component="ButtonCounter"]){color:#0969da;}/*!sc*/
.iVkWL:disabled[data-no-visuals]{color:#8c959f;}/*!sc*/
.iVkWL:disabled[data-no-visuals] [data-component=ButtonCounter]{color:inherit;}/*!sc*/
.jxAJvV{border-radius:6px;border:1px solid;border-color:rgba(31,35,40,0.15);font-family:inherit;font-weight:500;font-size:14px;cursor:pointer;-webkit-appearance:none;-moz-appearance:none;appearance:none;-webkit-user-select:none;-moz-user-select:none;-ms-user-select:none;user-select:none;-webkit-text-decoration:none;text-decoration:none;text-align:center;display:-webkit-box;display:-webkit-flex;display:-ms-flexbox;display:flex;-webkit-align-items:center;-webkit-box-align:center;-ms-flex-align:center;align-items:center;-webkit-box-pack:justify;-webkit-justify-content:space-between;-ms-flex-pack:justify;justify-content:space-between;height:32px;padding:0 12px;gap:8px;min-width:-webkit-max-content;min-width:-moz-max-content;min-width:max-content;-webkit-transition:80ms cubic-bezier(0.65,0,0.35,1);transition:80ms cubic-bezier(0.65,0,0.35,1);-webkit-transition-property:color,fill,background-color,border-color;transition-property:color,fill,background-color,border-color;color:#24292f;background-color:#f6f8fa;box-shadow:0 1px 0 rgba(31,35,40,0.04),inset 0 1px 0 rgba(255,255,255,0.25);padding-left:8px;padding-right:8px;}/*!sc*/
.jxAJvV:focus:not(:disabled){box-shadow:none;outline:2px solid #0969da;outline-offset:-2px;}/*!sc*/
.jxAJvV:focus:not(:disabled):not(:focus-visible){outline:solid 1px transparent;}/*!sc*/
.jxAJvV:focus-visible:not(:disabled){box-shadow:none;outline:2px solid #0969da;outline-offset:-2px;}/*!sc*/
.jxAJvV[href]{display:-webkit-inline-box;display:-webkit-inline-flex;display:-ms-inline-flexbox;display:inline-flex;}/*!sc*/
.jxAJvV[href]:hover{-webkit-text-decoration:none;text-decoration:none;}/*!sc*/
.jxAJvV:hover{-webkit-transition-duration:80ms;transition-duration:80ms;}/*!sc*/
.jxAJvV:active{-webkit-transition:none;transition:none;}/*!sc*/
.jxAJvV:disabled{cursor:not-allowed;box-shadow:none;color:#8c959f;}/*!sc*/
.jxAJvV:disabled [data-component=ButtonCounter]{color:inherit;}/*!sc*/
@media (forced-colors:active){.jxAJvV:focus{outline:solid 1px transparent;}}/*!sc*/
.jxAJvV [data-component=ButtonCounter]{font-size:12px;}/*!sc*/
.jxAJvV[data-component=IconButton]{display:inline-grid;padding:unset;place-content:center;width:32px;min-width:unset;}/*!sc*/
.jxAJvV[data-size="small"]{padding:0 8px;height:28px;gap:4px;font-size:12px;}/*!sc*/
.jxAJvV[data-size="small"] [data-component="text"]{line-height:calc(20 / 12);}/*!sc*/
.jxAJvV[data-size="small"] [data-component=ButtonCounter]{font-size:12px;}/*!sc*/
.jxAJvV[data-size="small"] [data-component="buttonContent"] > :not(:last-child){margin-right:4px;}/*!sc*/
.jxAJvV[data-size="small"][data-component=IconButton]{width:28px;padding:unset;}/*!sc*/
.jxAJvV[data-size="large"]{padding:0 16px;height:40px;gap:8px;}/*!sc*/
.jxAJvV[data-size="large"] [data-component="buttonContent"] > :not(:last-child){margin-right:8px;}/*!sc*/
.jxAJvV[data-size="large"][data-component=IconButton]{width:40px;padding:unset;}/*!sc*/
.jxAJvV[data-block="block"]{width:100%;}/*!sc*/
.jxAJvV [data-component="leadingVisual"]{grid-area:leadingVisual;}/*!sc*/
.jxAJvV [data-component="text"]{grid-area:text;line-height:calc(20/14);white-space:nowrap;}/*!sc*/
.jxAJvV [data-component="trailingVisual"]{grid-area:trailingVisual;}/*!sc*/
.jxAJvV [data-component="trailingAction"]{margin-right:-4px;}/*!sc*/
.jxAJvV [data-component="buttonContent"]{-webkit-flex:1 0 auto;-ms-flex:1 0 auto;flex:1 0 auto;display:grid;grid-template-areas:"leadingVisual text trailingVisual";grid-template-columns:min-content minmax(0,auto) min-content;-webkit-align-items:center;-webkit-box-align:center;-ms-flex-align:center;align-items:center;-webkit-align-content:center;-ms-flex-line-pack:center;align-content:center;}/*!sc*/
.jxAJvV [data-component="buttonContent"] > :not(:last-child){margin-right:8px;}/*!sc*/
.jxAJvV:hover:not([disabled]){background-color:#f3f4f6;border-color:rgba(31,35,40,0.15);}/*!sc*/
.jxAJvV:active:not([disabled]){background-color:hsla(220,14%,93%,1);border-color:rgba(31,35,40,0.15);}/*!sc*/
.jxAJvV[aria-expanded=true]{background-color:hsla(220,14%,93%,1);border-color:rgba(31,35,40,0.15);}/*!sc*/
.jxAJvV [data-component="leadingVisual"],.jxAJvV [data-component="trailingVisual"],.jxAJvV [data-component="trailingAction"]{color:#656d76;}/*!sc*/
.jxAJvV linkButtonSx:hover:not([disabled]){-webkit-text-decoration:none;text-decoration:none;}/*!sc*/
.jxAJvV linkButtonSx:focus:not([disabled]){-webkit-text-decoration:none;text-decoration:none;}/*!sc*/
.jxAJvV linkButtonSx:active:not([disabled]){-webkit-text-decoration:none;text-decoration:none;}/*!sc*/
.iCOrao{border-radius:6px;border:1px solid;border-color:rgba(31,35,40,0.15);font-family:inherit;font-weight:500;font-size:14px;cursor:pointer;-webkit-appearance:none;-moz-appearance:none;appearance:none;-webkit-user-select:none;-moz-user-select:none;-ms-user-select:none;user-select:none;-webkit-text-decoration:none;text-decoration:none;text-align:center;display:-webkit-box;display:-webkit-flex;display:-ms-flexbox;display:flex;-webkit-align-items:center;-webkit-box-align:center;-ms-flex-align:center;align-items:center;-webkit-box-pack:justify;-webkit-justify-content:space-between;-ms-flex-pack:justify;justify-content:space-between;height:32px;padding:0 12px;gap:8px;min-width:-webkit-max-content;min-width:-moz-max-content;min-width:max-content;-webkit-transition:80ms cubic-bezier(0.65,0,0.35,1);transition:80ms cubic-bezier(0.65,0,0.35,1);-webkit-transition-property:color,fill,background-color,border-color;transition-property:color,fill,background-color,border-color;color:#24292f;background-color:#f6f8fa;box-shadow:0 1px 0 rgba(31,35,40,0.04),inset 0 1px 0 rgba(255,255,255,0.25);}/*!sc*/
.iCOrao:focus:not(:disabled){box-shadow:none;outline:2px solid #0969da;outline-offset:-2px;}/*!sc*/
.iCOrao:focus:not(:disabled):not(:focus-visible){outline:solid 1px transparent;}/*!sc*/
.iCOrao:focus-visible:not(:disabled){box-shadow:none;outline:2px solid #0969da;outline-offset:-2px;}/*!sc*/
.iCOrao[href]{display:-webkit-inline-box;display:-webkit-inline-flex;display:-ms-inline-flexbox;display:inline-flex;}/*!sc*/
.iCOrao[href]:hover{-webkit-text-decoration:none;text-decoration:none;}/*!sc*/
.iCOrao:hover{-webkit-transition-duration:80ms;transition-duration:80ms;}/*!sc*/
.iCOrao:active{-webkit-transition:none;transition:none;}/*!sc*/
.iCOrao:disabled{cursor:not-allowed;box-shadow:none;color:#8c959f;}/*!sc*/
.iCOrao:disabled [data-component=ButtonCounter]{color:inherit;}/*!sc*/
@media (forced-colors:active){.iCOrao:focus{outline:solid 1px transparent;}}/*!sc*/
.iCOrao [data-component=ButtonCounter]{font-size:12px;}/*!sc*/
.iCOrao[data-component=IconButton]{display:inline-grid;padding:unset;place-content:center;width:32px;min-width:unset;}/*!sc*/
.iCOrao[data-size="small"]{padding:0 8px;height:28px;gap:4px;font-size:12px;}/*!sc*/
.iCOrao[data-size="small"] [data-component="text"]{line-height:calc(20 / 12);}/*!sc*/
.iCOrao[data-size="small"] [data-component=ButtonCounter]{font-size:12px;}/*!sc*/
.iCOrao[data-size="small"] [data-component="buttonContent"] > :not(:last-child){margin-right:4px;}/*!sc*/
.iCOrao[data-size="small"][data-component=IconButton]{width:28px;padding:unset;}/*!sc*/
.iCOrao[data-size="large"]{padding:0 16px;height:40px;gap:8px;}/*!sc*/
.iCOrao[data-size="large"] [data-component="buttonContent"] > :not(:last-child){margin-right:8px;}/*!sc*/
.iCOrao[data-size="large"][data-component=IconButton]{width:40px;padding:unset;}/*!sc*/
.iCOrao[data-block="block"]{width:100%;}/*!sc*/
.iCOrao [data-component="leadingVisual"]{grid-area:leadingVisual;}/*!sc*/
.iCOrao [data-component="text"]{grid-area:text;line-height:calc(20/14);white-space:nowrap;}/*!sc*/
.iCOrao [data-component="trailingVisual"]{grid-area:trailingVisual;}/*!sc*/
.iCOrao [data-component="trailingAction"]{margin-right:-4px;}/*!sc*/
.iCOrao [data-component="buttonContent"]{-webkit-flex:1 0 auto;-ms-flex:1 0 auto;flex:1 0 auto;display:grid;grid-template-areas:"leadingVisual text trailingVisual";grid-template-columns:min-content minmax(0,auto) min-content;-webkit-align-items:center;-webkit-box-align:center;-ms-flex-align:center;align-items:center;-webkit-align-content:center;-ms-flex-line-pack:center;align-content:center;}/*!sc*/
.iCOrao [data-component="buttonContent"] > :not(:last-child){margin-right:8px;}/*!sc*/
.iCOrao:hover:not([disabled]){background-color:#f3f4f6;border-color:rgba(31,35,40,0.15);}/*!sc*/
.iCOrao:active:not([disabled]){background-color:hsla(220,14%,93%,1);border-color:rgba(31,35,40,0.15);}/*!sc*/
.iCOrao[aria-expanded=true]{background-color:hsla(220,14%,93%,1);border-color:rgba(31,35,40,0.15);}/*!sc*/
.iCOrao [data-component="leadingVisual"],.iCOrao [data-component="trailingVisual"],.iCOrao [data-component="trailingAction"]{color:#656d76;}/*!sc*/
.WblXz{border-radius:6px;border:1px solid;border-color:rgba(31,35,40,0.15);font-family:inherit;font-weight:500;font-size:14px;cursor:pointer;-webkit-appearance:none;-moz-appearance:none;appearance:none;-webkit-user-select:none;-moz-user-select:none;-ms-user-select:none;user-select:none;-webkit-text-decoration:none;text-decoration:none;text-align:center;display:-webkit-box;display:-webkit-flex;display:-ms-flexbox;display:flex;-webkit-align-items:center;-webkit-box-align:center;-ms-flex-align:center;align-items:center;-webkit-box-pack:justify;-webkit-justify-content:space-between;-ms-flex-pack:justify;justify-content:space-between;height:32px;padding:0 12px;gap:8px;min-width:-webkit-max-content;min-width:-moz-max-content;min-width:max-content;-webkit-transition:80ms cubic-bezier(0.65,0,0.35,1);transition:80ms cubic-bezier(0.65,0,0.35,1);-webkit-transition-property:color,fill,background-color,border-color;transition-property:color,fill,background-color,border-color;color:#24292f;background-color:#f6f8fa;box-shadow:0 1px 0 rgba(31,35,40,0.04),inset 0 1px 0 rgba(255,255,255,0.25);}/*!sc*/
.WblXz:focus:not(:disabled){box-shadow:none;outline:2px solid #0969da;outline-offset:-2px;}/*!sc*/
.WblXz:focus:not(:disabled):not(:focus-visible){outline:solid 1px transparent;}/*!sc*/
.WblXz:focus-visible:not(:disabled){box-shadow:none;outline:2px solid #0969da;outline-offset:-2px;}/*!sc*/
.WblXz[href]{display:-webkit-inline-box;display:-webkit-inline-flex;display:-ms-inline-flexbox;display:inline-flex;}/*!sc*/
.WblXz[href]:hover{-webkit-text-decoration:none;text-decoration:none;}/*!sc*/
.WblXz:hover{-webkit-transition-duration:80ms;transition-duration:80ms;}/*!sc*/
.WblXz:active{-webkit-transition:none;transition:none;}/*!sc*/
.WblXz:disabled{cursor:not-allowed;box-shadow:none;color:#8c959f;}/*!sc*/
.WblXz:disabled [data-component=ButtonCounter]{color:inherit;}/*!sc*/
@media (forced-colors:active){.WblXz:focus{outline:solid 1px transparent;}}/*!sc*/
.WblXz [data-component=ButtonCounter]{font-size:12px;}/*!sc*/
.WblXz[data-component=IconButton]{display:inline-grid;padding:unset;place-content:center;width:32px;min-width:unset;}/*!sc*/
.WblXz[data-size="small"]{padding:0 8px;height:28px;gap:4px;font-size:12px;}/*!sc*/
.WblXz[data-size="small"] [data-component="text"]{line-height:calc(20 / 12);}/*!sc*/
.WblXz[data-size="small"] [data-component=ButtonCounter]{font-size:12px;}/*!sc*/
.WblXz[data-size="small"] [data-component="buttonContent"] > :not(:last-child){margin-right:4px;}/*!sc*/
.WblXz[data-size="small"][data-component=IconButton]{width:28px;padding:unset;}/*!sc*/
.WblXz[data-size="large"]{padding:0 16px;height:40px;gap:8px;}/*!sc*/
.WblXz[data-size="large"] [data-component="buttonContent"] > :not(:last-child){margin-right:8px;}/*!sc*/
.WblXz[data-size="large"][data-component=IconButton]{width:40px;padding:unset;}/*!sc*/
.WblXz[data-block="block"]{width:100%;}/*!sc*/
.WblXz [data-component="leadingVisual"]{grid-area:leadingVisual;}/*!sc*/
.WblXz [data-component="text"]{grid-area:text;line-height:calc(20/14);white-space:nowrap;}/*!sc*/
.WblXz [data-component="trailingVisual"]{grid-area:trailingVisual;}/*!sc*/
.WblXz [data-component="trailingAction"]{margin-right:-4px;}/*!sc*/
.WblXz [data-component="buttonContent"]{-webkit-flex:1 0 auto;-ms-flex:1 0 auto;flex:1 0 auto;display:grid;grid-template-areas:"leadingVisual text trailingVisual";grid-template-columns:min-content minmax(0,auto) min-content;-webkit-align-items:center;-webkit-box-align:center;-ms-flex-align:center;align-items:center;-webkit-align-content:center;-ms-flex-line-pack:center;align-content:center;}/*!sc*/
.WblXz [data-component="buttonContent"] > :not(:last-child){margin-right:8px;}/*!sc*/
.WblXz:hover:not([disabled]){background-color:#f3f4f6;border-color:rgba(31,35,40,0.15);}/*!sc*/
.WblXz:active:not([disabled]){background-color:hsla(220,14%,93%,1);border-color:rgba(31,35,40,0.15);}/*!sc*/
.WblXz[aria-expanded=true]{background-color:hsla(220,14%,93%,1);border-color:rgba(31,35,40,0.15);}/*!sc*/
.WblXz [data-component="leadingVisual"],.WblXz [data-component="trailingVisual"],.WblXz [data-component="trailingAction"]{color:#656d76;}/*!sc*/
.WblXz[data-size="small"][data-no-visuals="true"]{border-top-left-radius:0;border-bottom-left-radius:0;}/*!sc*/
.ftQSWB{border-radius:6px;border:1px solid;border-color:rgba(31,35,40,0.15);font-family:inherit;font-weight:500;font-size:14px;cursor:pointer;-webkit-appearance:none;-moz-appearance:none;appearance:none;-webkit-user-select:none;-moz-user-select:none;-ms-user-select:none;user-select:none;-webkit-text-decoration:none;text-decoration:none;text-align:center;display:-webkit-box;display:-webkit-flex;display:-ms-flexbox;display:flex;-webkit-align-items:center;-webkit-box-align:center;-ms-flex-align:center;align-items:center;-webkit-box-pack:justify;-webkit-justify-content:space-between;-ms-flex-pack:justify;justify-content:space-between;height:32px;padding:0 12px;gap:8px;min-width:-webkit-max-content;min-width:-moz-max-content;min-width:max-content;-webkit-transition:80ms cubic-bezier(0.65,0,0.35,1);transition:80ms cubic-bezier(0.65,0,0.35,1);-webkit-transition-property:color,fill,background-color,border-color;transition-property:color,fill,background-color,border-color;color:#24292f;background-color:#f6f8fa;box-shadow:0 1px 0 rgba(31,35,40,0.04),inset 0 1px 0 rgba(255,255,255,0.25);}/*!sc*/
.ftQSWB:focus:not(:disabled){box-shadow:none;outline:2px solid #0969da;outline-offset:-2px;}/*!sc*/
.ftQSWB:focus:not(:disabled):not(:focus-visible){outline:solid 1px transparent;}/*!sc*/
.ftQSWB:focus-visible:not(:disabled){box-shadow:none;outline:2px solid #0969da;outline-offset:-2px;}/*!sc*/
.ftQSWB[href]{display:-webkit-inline-box;display:-webkit-inline-flex;display:-ms-inline-flexbox;display:inline-flex;}/*!sc*/
.ftQSWB[href]:hover{-webkit-text-decoration:none;text-decoration:none;}/*!sc*/
.ftQSWB:hover{-webkit-transition-duration:80ms;transition-duration:80ms;}/*!sc*/
.ftQSWB:active{-webkit-transition:none;transition:none;}/*!sc*/
.ftQSWB:disabled{cursor:not-allowed;box-shadow:none;color:#8c959f;}/*!sc*/
.ftQSWB:disabled [data-component=ButtonCounter]{color:inherit;}/*!sc*/
@media (forced-colors:active){.ftQSWB:focus{outline:solid 1px transparent;}}/*!sc*/
.ftQSWB [data-component=ButtonCounter]{font-size:12px;}/*!sc*/
.ftQSWB[data-component=IconButton]{display:inline-grid;padding:unset;place-content:center;width:32px;min-width:unset;}/*!sc*/
.ftQSWB[data-size="small"]{padding:0 8px;height:28px;gap:4px;font-size:12px;}/*!sc*/
.ftQSWB[data-size="small"] [data-component="text"]{line-height:calc(20 / 12);}/*!sc*/
.ftQSWB[data-size="small"] [data-component=ButtonCounter]{font-size:12px;}/*!sc*/
.ftQSWB[data-size="small"] [data-component="buttonContent"] > :not(:last-child){margin-right:4px;}/*!sc*/
.ftQSWB[data-size="small"][data-component=IconButton]{width:28px;padding:unset;}/*!sc*/
.ftQSWB[data-size="large"]{padding:0 16px;height:40px;gap:8px;}/*!sc*/
.ftQSWB[data-size="large"] [data-component="buttonContent"] > :not(:last-child){margin-right:8px;}/*!sc*/
.ftQSWB[data-size="large"][data-component=IconButton]{width:40px;padding:unset;}/*!sc*/
.ftQSWB[data-block="block"]{width:100%;}/*!sc*/
.ftQSWB [data-component="leadingVisual"]{grid-area:leadingVisual;}/*!sc*/
.ftQSWB [data-component="text"]{grid-area:text;line-height:calc(20/14);white-space:nowrap;}/*!sc*/
.ftQSWB [data-component="trailingVisual"]{grid-area:trailingVisual;}/*!sc*/
.ftQSWB [data-component="trailingAction"]{margin-right:-4px;}/*!sc*/
.ftQSWB [data-component="buttonContent"]{-webkit-flex:1 0 auto;-ms-flex:1 0 auto;flex:1 0 auto;display:grid;grid-template-areas:"leadingVisual text trailingVisual";grid-template-columns:min-content minmax(0,auto) min-content;-webkit-align-items:center;-webkit-box-align:center;-ms-flex-align:center;align-items:center;-webkit-align-content:center;-ms-flex-line-pack:center;align-content:center;}/*!sc*/
.ftQSWB [data-component="buttonContent"] > :not(:last-child){margin-right:8px;}/*!sc*/
.ftQSWB:hover:not([disabled]){background-color:#f3f4f6;border-color:rgba(31,35,40,0.15);}/*!sc*/
.ftQSWB:active:not([disabled]){background-color:hsla(220,14%,93%,1);border-color:rgba(31,35,40,0.15);}/*!sc*/
.ftQSWB[aria-expanded=true]{background-color:hsla(220,14%,93%,1);border-color:rgba(31,35,40,0.15);}/*!sc*/
.ftQSWB [data-component="leadingVisual"],.ftQSWB [data-component="trailingVisual"],.ftQSWB [data-component="trailingAction"]{color:#656d76;}/*!sc*/
.ftQSWB[data-size="small"][data-no-visuals="true"]{border-top-right-radius:0;border-bottom-right-radius:0;border-right-width:0;}/*!sc*/
.ftQSWB[data-size="small"][data-no-visuals="true"]:hover:not([disabled]){-webkit-text-decoration:none;text-decoration:none;}/*!sc*/
.ftQSWB[data-size="small"][data-no-visuals="true"]:focus:not([disabled]){-webkit-text-decoration:none;text-decoration:none;}/*!sc*/
.ftQSWB[data-size="small"][data-no-visuals="true"]:active:not([disabled]){-webkit-text-decoration:none;text-decoration:none;}/*!sc*/
.ksLyfZ{border-radius:6px;border:1px solid;border-color:transparent;font-family:inherit;font-weight:500;font-size:14px;cursor:pointer;-webkit-appearance:none;-moz-appearance:none;appearance:none;-webkit-user-select:none;-moz-user-select:none;-ms-user-select:none;user-select:none;-webkit-text-decoration:none;text-decoration:none;text-align:center;display:-webkit-box;display:-webkit-flex;display:-ms-flexbox;display:flex;-webkit-align-items:center;-webkit-box-align:center;-ms-flex-align:center;align-items:center;-webkit-box-pack:justify;-webkit-justify-content:space-between;-ms-flex-pack:justify;justify-content:space-between;height:32px;padding:0 12px;gap:8px;min-width:-webkit-max-content;min-width:-moz-max-content;min-width:max-content;-webkit-transition:80ms cubic-bezier(0.65,0,0.35,1);transition:80ms cubic-bezier(0.65,0,0.35,1);-webkit-transition-property:color,fill,background-color,border-color;transition-property:color,fill,background-color,border-color;color:#0969da;background-color:transparent;box-shadow:none;}/*!sc*/
.ksLyfZ:focus:not(:disabled){box-shadow:none;outline:2px solid #0969da;outline-offset:-2px;}/*!sc*/
.ksLyfZ:focus:not(:disabled):not(:focus-visible){outline:solid 1px transparent;}/*!sc*/
.ksLyfZ:focus-visible:not(:disabled){box-shadow:none;outline:2px solid #0969da;outline-offset:-2px;}/*!sc*/
.ksLyfZ[href]{display:-webkit-inline-box;display:-webkit-inline-flex;display:-ms-inline-flexbox;display:inline-flex;}/*!sc*/
.ksLyfZ[href]:hover{-webkit-text-decoration:none;text-decoration:none;}/*!sc*/
.ksLyfZ:hover{-webkit-transition-duration:80ms;transition-duration:80ms;}/*!sc*/
.ksLyfZ:active{-webkit-transition:none;transition:none;}/*!sc*/
.ksLyfZ:disabled{cursor:not-allowed;box-shadow:none;color:#8c959f;}/*!sc*/
.ksLyfZ:disabled [data-component=ButtonCounter],.ksLyfZ:disabled [data-component="leadingVisual"],.ksLyfZ:disabled [data-component="trailingAction"]{color:inherit;}/*!sc*/
@media (forced-colors:active){.ksLyfZ:focus{outline:solid 1px transparent;}}/*!sc*/
.ksLyfZ [data-component=ButtonCounter]{font-size:12px;}/*!sc*/
.ksLyfZ[data-component=IconButton]{display:inline-grid;padding:unset;place-content:center;width:32px;min-width:unset;}/*!sc*/
.ksLyfZ[data-size="small"]{padding:0 8px;height:28px;gap:4px;font-size:12px;}/*!sc*/
.ksLyfZ[data-size="small"] [data-component="text"]{line-height:calc(20 / 12);}/*!sc*/
.ksLyfZ[data-size="small"] [data-component=ButtonCounter]{font-size:12px;}/*!sc*/
.ksLyfZ[data-size="small"] [data-component="buttonContent"] > :not(:last-child){margin-right:4px;}/*!sc*/
.ksLyfZ[data-size="small"][data-component=IconButton]{width:28px;padding:unset;}/*!sc*/
.ksLyfZ[data-size="large"]{padding:0 16px;height:40px;gap:8px;}/*!sc*/
.ksLyfZ[data-size="large"] [data-component="buttonContent"] > :not(:last-child){margin-right:8px;}/*!sc*/
.ksLyfZ[data-size="large"][data-component=IconButton]{width:40px;padding:unset;}/*!sc*/
.ksLyfZ[data-block="block"]{width:100%;}/*!sc*/
.ksLyfZ [data-component="leadingVisual"]{grid-area:leadingVisual;color:#656d76;}/*!sc*/
.ksLyfZ [data-component="text"]{grid-area:text;line-height:calc(20/14);white-space:nowrap;}/*!sc*/
.ksLyfZ [data-component="trailingVisual"]{grid-area:trailingVisual;}/*!sc*/
.ksLyfZ [data-component="trailingAction"]{margin-right:-4px;color:#656d76;}/*!sc*/
.ksLyfZ [data-component="buttonContent"]{-webkit-flex:1 0 auto;-ms-flex:1 0 auto;flex:1 0 auto;display:grid;grid-template-areas:"leadingVisual text trailingVisual";grid-template-columns:min-content minmax(0,auto) min-content;-webkit-align-items:center;-webkit-box-align:center;-ms-flex-align:center;align-items:center;-webkit-align-content:center;-ms-flex-line-pack:center;align-content:center;}/*!sc*/
.ksLyfZ [data-component="buttonContent"] > :not(:last-child){margin-right:8px;}/*!sc*/
.ksLyfZ:hover:not([disabled]){background-color:#f3f4f6;}/*!sc*/
.ksLyfZ:active:not([disabled]){background-color:hsla(220,14%,94%,1);}/*!sc*/
.ksLyfZ[aria-expanded=true]{background-color:hsla(220,14%,94%,1);}/*!sc*/
.ksLyfZ[data-component="IconButton"][data-no-visuals]{color:#656d76;}/*!sc*/
.ksLyfZ[data-no-visuals]{color:#0969da;}/*!sc*/
.ksLyfZ:has([data-component="ButtonCounter"]){color:#0969da;}/*!sc*/
.ksLyfZ:disabled[data-no-visuals]{color:#8c959f;}/*!sc*/
.ksLyfZ:disabled[data-no-visuals] [data-component=ButtonCounter]{color:inherit;}/*!sc*/
.ksLyfZ[data-size="small"][data-no-visuals="true"]{color:#656d76;}/*!sc*/
data-styled.g27[id="types__StyledButton-sc-ws60qy-0"]{content:"iBwhhC,bpzCPD,cpGorR,jOqXES,dQkDZk,iwngiV,hMBGua,bDzORU,cdPrCH,iUmUix,gWBIfb,iVkWL,jxAJvV,iCOrao,WblXz,ftQSWB,ksLyfZ,"}/*!sc*/
.hFFfJn{position:relative;display:inline-block;}/*!sc*/
.hFFfJn::before{position:absolute;z-index:1000001;display:none;width:0px;height:0px;color:#24292f;pointer-events:none;content:'';border:6px solid transparent;opacity:0;}/*!sc*/
.hFFfJn::after{position:absolute;z-index:1000000;display:none;padding:0.5em 0.75em;font:normal normal 11px/1.5 -apple-system,BlinkMacSystemFont,"Segoe UI","Noto Sans",Helvetica,Arial,sans-serif,"Apple Color Emoji","Segoe UI Emoji";-webkit-font-smoothing:subpixel-antialiased;color:#ffffff;text-align:center;-webkit-text-decoration:none;text-decoration:none;text-shadow:none;text-transform:none;-webkit-letter-spacing:normal;-moz-letter-spacing:normal;-ms-letter-spacing:normal;letter-spacing:normal;word-wrap:break-word;white-space:pre;pointer-events:none;content:attr(aria-label);background:#24292f;border-radius:3px;opacity:0;}/*!sc*/
@-webkit-keyframes tooltip-appear{from{opacity:0;}to{opacity:1;}}/*!sc*/
@keyframes tooltip-appear{from{opacity:0;}to{opacity:1;}}/*!sc*/
.hFFfJn:hover::before,.hFFfJn:active::before,.hFFfJn:focus::before,.hFFfJn:focus-within::before,.hFFfJn:hover::after,.hFFfJn:active::after,.hFFfJn:focus::after,.hFFfJn:focus-within::after{display:inline-block;-webkit-text-decoration:none;text-decoration:none;-webkit-animation-name:tooltip-appear;animation-name:tooltip-appear;-webkit-animation-duration:0.1s;animation-duration:0.1s;-webkit-animation-fill-mode:forwards;animation-fill-mode:forwards;-webkit-animation-timing-function:ease-in;animation-timing-function:ease-in;-webkit-animation-delay:0.4s;animation-delay:0.4s;}/*!sc*/
.hFFfJn.tooltipped-no-delay:hover::before,.hFFfJn.tooltipped-no-delay:active::before,.hFFfJn.tooltipped-no-delay:focus::before,.hFFfJn.tooltipped-no-delay:focus-within::before,.hFFfJn.tooltipped-no-delay:hover::after,.hFFfJn.tooltipped-no-delay:active::after,.hFFfJn.tooltipped-no-delay:focus::after,.hFFfJn.tooltipped-no-delay:focus-within::after{-webkit-animation-delay:0s;animation-delay:0s;}/*!sc*/
.hFFfJn.tooltipped-multiline:hover::after,.hFFfJn.tooltipped-multiline:active::after,.hFFfJn.tooltipped-multiline:focus::after,.hFFfJn.tooltipped-multiline:focus-within::after{display:table-cell;}/*!sc*/
.hFFfJn.tooltipped-s::after,.hFFfJn.tooltipped-se::after,.hFFfJn.tooltipped-sw::after{top:100%;right:50%;margin-top:6px;}/*!sc*/
.hFFfJn.tooltipped-s::before,.hFFfJn.tooltipped-se::before,.hFFfJn.tooltipped-sw::before{top:auto;right:50%;bottom:-7px;margin-right:-6px;border-bottom-color:#24292f;}/*!sc*/
.hFFfJn.tooltipped-se::after{right:auto;left:50%;margin-left:-16px;}/*!sc*/
.hFFfJn.tooltipped-sw::after{margin-right:-16px;}/*!sc*/
.hFFfJn.tooltipped-n::after,.hFFfJn.tooltipped-ne::after,.hFFfJn.tooltipped-nw::after{right:50%;bottom:100%;margin-bottom:6px;}/*!sc*/
.hFFfJn.tooltipped-n::before,.hFFfJn.tooltipped-ne::before,.hFFfJn.tooltipped-nw::before{top:-7px;right:50%;bottom:auto;margin-right:-6px;border-top-color:#24292f;}/*!sc*/
.hFFfJn.tooltipped-ne::after{right:auto;left:50%;margin-left:-16px;}/*!sc*/
.hFFfJn.tooltipped-nw::after{margin-right:-16px;}/*!sc*/
.hFFfJn.tooltipped-s::after,.hFFfJn.tooltipped-n::after{-webkit-transform:translateX(50%);-ms-transform:translateX(50%);transform:translateX(50%);}/*!sc*/
.hFFfJn.tooltipped-w::after{right:100%;bottom:50%;margin-right:6px;-webkit-transform:translateY(50%);-ms-transform:translateY(50%);transform:translateY(50%);}/*!sc*/
.hFFfJn.tooltipped-w::before{top:50%;bottom:50%;left:-7px;margin-top:-6px;border-left-color:#24292f;}/*!sc*/
.hFFfJn.tooltipped-e::after{bottom:50%;left:100%;margin-left:6px;-webkit-transform:translateY(50%);-ms-transform:translateY(50%);transform:translateY(50%);}/*!sc*/
.hFFfJn.tooltipped-e::before{top:50%;right:-7px;bottom:50%;margin-top:-6px;border-right-color:#24292f;}/*!sc*/
.hFFfJn.tooltipped-multiline::after{width:-webkit-max-content;width:-moz-max-content;width:max-content;max-width:250px;word-wrap:break-word;white-space:pre-line;border-collapse:separate;}/*!sc*/
.hFFfJn.tooltipped-multiline.tooltipped-s::after,.hFFfJn.tooltipped-multiline.tooltipped-n::after{right:auto;left:50%;-webkit-transform:translateX(-50%);-ms-transform:translateX(-50%);transform:translateX(-50%);}/*!sc*/
.hFFfJn.tooltipped-multiline.tooltipped-w::after,.hFFfJn.tooltipped-multiline.tooltipped-e::after{right:100%;}/*!sc*/
.hFFfJn.tooltipped-align-right-2::after{right:0;margin-right:0;}/*!sc*/
.hFFfJn.tooltipped-align-right-2::before{right:15px;}/*!sc*/
.hFFfJn.tooltipped-align-left-2::after{left:0;margin-left:0;}/*!sc*/
.hFFfJn.tooltipped-align-left-2::before{left:10px;}/*!sc*/
data-styled.g28[id="Tooltip__TooltipBase-sc-uha8qm-0"]{content:"hFFfJn,"}/*!sc*/
.cDLBls{border:0;font-size:inherit;font-family:inherit;background-color:transparent;-webkit-appearance:none;color:inherit;width:100%;}/*!sc*/
.cDLBls:focus{outline:0;}/*!sc*/
data-styled.g29[id="UnstyledTextInput-sc-14ypya-0"]{content:"cDLBls,"}/*!sc*/
.bOMzPg{min-width:0;}/*!sc*/
.ivLLle{padding-left:4px;padding-right:4px;font-weight:400;color:#656d76;font-size:16px;}/*!sc*/
.ghRVGj{color:#1F2328;}/*!sc*/
.dZAxGI{padding-left:4px;padding-right:4px;font-weight:400;color:#656d76;font-size:14px;}/*!sc*/
data-styled.g35[id="Text-sc-17v1xeu-0"]{content:"bOMzPg,ivLLle,ghRVGj,gPDEWA,dZAxGI,"}/*!sc*/
.cjbBGq{display:-webkit-inline-box;display:-webkit-inline-flex;display:-ms-inline-flexbox;display:inline-flex;vertical-align:middle;isolation:isolate;}/*!sc*/
.cjbBGq.cjbBGq > *{margin-inline-end:-1px;position:relative;border-radius:0;}/*!sc*/
.cjbBGq.cjbBGq > *:first-child{border-top-left-radius:6px;border-bottom-left-radius:6px;}/*!sc*/
.cjbBGq.cjbBGq > *:last-child{border-top-right-radius:6px;border-bottom-right-radius:6px;}/*!sc*/
.cjbBGq.cjbBGq > *:focus,.cjbBGq.cjbBGq > *:active,.cjbBGq.cjbBGq > *:hover{z-index:1;}/*!sc*/
data-styled.g84[id="ButtonGroup-sc-1gxhls1-0"]{content:"cjbBGq,"}/*!sc*/
.bDmUQT{--segmented-control-button-inner-padding:12px;--segmented-control-button-bg-inset:4px;--segmented-control-outer-radius:6px;background-color:transparent;border-color:transparent;border-radius:var(--segmented-control-outer-radius);border-width:0;color:currentColor;cursor:pointer;font-family:inherit;font-size:inherit;font-weight:600;padding:0;height:100%;width:100%;}/*!sc*/
.bDmUQT .segmentedControl-content{-webkit-align-items:center;-webkit-box-align:center;-ms-flex-align:center;align-items:center;background-color:#ffffff;border-color:#8c959f;border-style:solid;border-width:1px;border-radius:var(--segmented-control-outer-radius);display:-webkit-box;display:-webkit-flex;display:-ms-flexbox;display:flex;height:100%;-webkit-box-pack:center;-webkit-justify-content:center;-ms-flex-pack:center;justify-content:center;padding-left:var(--segmented-control-button-inner-padding);padding-right:var(--segmented-control-button-inner-padding);}/*!sc*/
.bDmUQT svg{fill:#656d76;}/*!sc*/
.bDmUQT:focus:focus-visible:not(:last-child):after{width:0;}/*!sc*/
.bDmUQT .segmentedControl-text:after{content:"Preview";display:block;font-weight:600;height:0;overflow:hidden;pointer-events:none;-webkit-user-select:none;-moz-user-select:none;-ms-user-select:none;user-select:none;visibility:hidden;}/*!sc*/
@media (pointer:coarse){.bDmUQT:before{content:"";position:absolute;left:0;right:0;-webkit-transform:translateY(-50%);-ms-transform:translateY(-50%);transform:translateY(-50%);top:50%;min-height:44px;}}/*!sc*/
.fzMylw{--segmented-control-button-inner-padding:12px;--segmented-control-button-bg-inset:4px;--segmented-control-outer-radius:6px;background-color:transparent;border-color:transparent;border-radius:var(--segmented-control-outer-radius);border-width:0;color:currentColor;cursor:pointer;font-family:inherit;font-size:inherit;font-weight:400;padding:var(--segmented-control-button-bg-inset);height:100%;width:100%;}/*!sc*/
.fzMylw .segmentedControl-content{-webkit-align-items:center;-webkit-box-align:center;-ms-flex-align:center;align-items:center;background-color:transparent;border-color:transparent;border-style:solid;border-width:1px;border-radius:calc(var(--segmented-control-outer-radius) - var(--segmented-control-button-bg-inset) / 2);display:-webkit-box;display:-webkit-flex;display:-ms-flexbox;display:flex;height:100%;-webkit-box-pack:center;-webkit-justify-content:center;-ms-flex-pack:center;justify-content:center;padding-left:calc(var(--segmented-control-button-inner-padding) - var(--segmented-control-button-bg-inset));padding-right:calc(var(--segmented-control-button-inner-padding) - var(--segmented-control-button-bg-inset));}/*!sc*/
.fzMylw svg{fill:#656d76;}/*!sc*/
.fzMylw:hover .segmentedControl-content{background-color:rgba(175,184,193,0.2);}/*!sc*/
.fzMylw:active .segmentedControl-content{background-color:rgba(175,184,193,0.4);}/*!sc*/
.fzMylw:focus:focus-visible:not(:last-child):after{width:0;}/*!sc*/
.fzMylw .segmentedControl-text:after{content:"Code";display:block;font-weight:600;height:0;overflow:hidden;pointer-events:none;-webkit-user-select:none;-moz-user-select:none;-ms-user-select:none;user-select:none;visibility:hidden;}/*!sc*/
@media (pointer:coarse){.fzMylw:before{content:"";position:absolute;left:0;right:0;-webkit-transform:translateY(-50%);-ms-transform:translateY(-50%);transform:translateY(-50%);top:50%;min-height:44px;}}/*!sc*/
.hBvGcq{--segmented-control-button-inner-padding:12px;--segmented-control-button-bg-inset:4px;--segmented-control-outer-radius:6px;background-color:transparent;border-color:transparent;border-radius:var(--segmented-control-outer-radius);border-width:0;color:currentColor;cursor:pointer;font-family:inherit;font-size:inherit;font-weight:400;padding:var(--segmented-control-button-bg-inset);height:100%;width:100%;}/*!sc*/
.hBvGcq .segmentedControl-content{-webkit-align-items:center;-webkit-box-align:center;-ms-flex-align:center;align-items:center;background-color:transparent;border-color:transparent;border-style:solid;border-width:1px;border-radius:calc(var(--segmented-control-outer-radius) - var(--segmented-control-button-bg-inset) / 2);display:-webkit-box;display:-webkit-flex;display:-ms-flexbox;display:flex;height:100%;-webkit-box-pack:center;-webkit-justify-content:center;-ms-flex-pack:center;justify-content:center;padding-left:calc(var(--segmented-control-button-inner-padding) - var(--segmented-control-button-bg-inset));padding-right:calc(var(--segmented-control-button-inner-padding) - var(--segmented-control-button-bg-inset));}/*!sc*/
.hBvGcq svg{fill:#656d76;}/*!sc*/
.hBvGcq:hover .segmentedControl-content{background-color:rgba(175,184,193,0.2);}/*!sc*/
.hBvGcq:active .segmentedControl-content{background-color:rgba(175,184,193,0.4);}/*!sc*/
.hBvGcq:focus:focus-visible:not(:last-child):after{width:0;}/*!sc*/
.hBvGcq .segmentedControl-text:after{content:"Blame";display:block;font-weight:600;height:0;overflow:hidden;pointer-events:none;-webkit-user-select:none;-moz-user-select:none;-ms-user-select:none;user-select:none;visibility:hidden;}/*!sc*/
@media (pointer:coarse){.hBvGcq:before{content:"";position:absolute;left:0;right:0;-webkit-transform:translateY(-50%);-ms-transform:translateY(-50%);transform:translateY(-50%);top:50%;min-height:44px;}}/*!sc*/
data-styled.g91[id="SegmentedControlButton__SegmentedControlButtonStyled-sc-8lkgxl-0"]{content:"bDmUQT,fzMylw,hBvGcq,"}/*!sc*/
.iYVwMz{background-color:#eaeef2;border-radius:6px;display:-webkit-inline-box;display:-webkit-inline-flex;display:-ms-inline-flexbox;display:inline-flex;font-size:14px;height:28px;margin:0;padding:0;}/*!sc*/
data-styled.g93[id="SegmentedControl__SegmentedControlList-sc-1rzig82-0"]{content:"iYVwMz,"}/*!sc*/
body[data-page-layout-dragging="true"]{cursor:col-resize;}/*!sc*/
body[data-page-layout-dragging="true"] *{-webkit-user-select:none;-moz-user-select:none;-ms-user-select:none;user-select:none;}/*!sc*/
data-styled.g97[id="sc-global-gbKrvU1"]{content:"sc-global-gbKrvU1,"}/*!sc*/
.gtekST{list-style:none;padding:0;margin:0;}/*!sc*/
.gtekST .PRIVATE_TreeView-item{outline:none;}/*!sc*/
.gtekST .PRIVATE_TreeView-item:focus-visible > div,.gtekST .PRIVATE_TreeView-item.focus-visible > div{box-shadow:inset 0 0 0 2px #0969da;}/*!sc*/
@media (forced-colors:active){.gtekST .PRIVATE_TreeView-item:focus-visible > div,.gtekST .PRIVATE_TreeView-item.focus-visible > div{outline:2px solid HighlightText;outline-offset:-2;}}/*!sc*/
.gtekST .PRIVATE_TreeView-item-container{--level:1;--toggle-width:1rem;position:relative;display:grid;grid-template-columns:calc(calc(var(--level) - 1) * (var(--toggle-width) / 2)) var(--toggle-width) 1fr;grid-template-areas:'spacer toggle content';width:100%;min-height:2rem;font-size:14px;color:#1F2328;border-radius:6px;cursor:pointer;}/*!sc*/
.gtekST .PRIVATE_TreeView-item-container:hover{background-color:rgba(208,215,222,0.32);}/*!sc*/
@media (forced-colors:active){.gtekST .PRIVATE_TreeView-item-container:hover{outline:2px solid transparent;outline-offset:-2px;}}/*!sc*/
@media (pointer:coarse){.gtekST .PRIVATE_TreeView-item-container{--toggle-width:1.5rem;min-height:2.75rem;}}/*!sc*/
.gtekST .PRIVATE_TreeView-item-container:has(.PRIVATE_TreeView-item-skeleton):hover{background-color:transparent;cursor:default;}/*!sc*/
@media (forced-colors:active){.gtekST .PRIVATE_TreeView-item-container:has(.PRIVATE_TreeView-item-skeleton):hover{outline:none;}}/*!sc*/
.gtekST[data-omit-spacer='true'] .PRIVATE_TreeView-item-container{grid-template-columns:0 0 1fr;}/*!sc*/
.gtekST .PRIVATE_TreeView-item[aria-current='true'] > .PRIVATE_TreeView-item-container{background-color:rgba(208,215,222,0.24);}/*!sc*/
.gtekST .PRIVATE_TreeView-item[aria-current='true'] > .PRIVATE_TreeView-item-container::after{content:'';position:absolute;top:calc(50% - 0.75rem);left:-8px;width:0.25rem;height:1.5rem;background-color:#0969da;border-radius:6px;}/*!sc*/
@media (forced-colors:active){.gtekST .PRIVATE_TreeView-item[aria-current='true'] > .PRIVATE_TreeView-item-container::after{background-color:HighlightText;}}/*!sc*/
.gtekST .PRIVATE_TreeView-item-toggle{grid-area:toggle;display:-webkit-box;display:-webkit-flex;display:-ms-flexbox;display:flex;-webkit-align-items:center;-webkit-box-align:center;-ms-flex-align:center;align-items:center;-webkit-box-pack:center;-webkit-justify-content:center;-ms-flex-pack:center;justify-content:center;height:100%;color:#656d76;}/*!sc*/
.gtekST .PRIVATE_TreeView-item-toggle--hover:hover{background-color:rgba(208,215,222,0.32);}/*!sc*/
.gtekST .PRIVATE_TreeView-item-toggle--end{border-top-left-radius:6px;border-bottom-left-radius:6px;}/*!sc*/
.gtekST .PRIVATE_TreeView-item-content{grid-area:content;display:-webkit-box;display:-webkit-flex;display:-ms-flexbox;display:flex;-webkit-align-items:center;-webkit-box-align:center;-ms-flex-align:center;align-items:center;height:100%;padding:0 8px;gap:8px;}/*!sc*/
.gtekST .PRIVATE_TreeView-item-content-text{-webkit-flex:1 1 auto;-ms-flex:1 1 auto;flex:1 1 auto;width:0;overflow:hidden;white-space:nowrap;text-overflow:ellipsis;}/*!sc*/
.gtekST .PRIVATE_TreeView-item-visual{display:-webkit-box;display:-webkit-flex;display:-ms-flexbox;display:flex;color:#656d76;}/*!sc*/
.gtekST .PRIVATE_TreeView-item-level-line{width:100%;height:100%;border-right:1px solid;border-color:rgba(31,35,40,0.15);}/*!sc*/
@media (hover:hover){.gtekST .PRIVATE_TreeView-item-level-line{border-color:transparent;}.gtekST:hover .PRIVATE_TreeView-item-level-line,.gtekST:focus-within .PRIVATE_TreeView-item-level-line{border-color:rgba(31,35,40,0.15);}}/*!sc*/
.gtekST .PRIVATE_TreeView-directory-icon{display:grid;color:#54aeff;}/*!sc*/
.gtekST .PRIVATE_VisuallyHidden{position:absolute;width:1px;height:1px;padding:0;margin:-1px;overflow:hidden;-webkit-clip:rect(0,0,0,0);clip:rect(0,0,0,0);white-space:nowrap;border-width:0;}/*!sc*/
data-styled.g104[id="TreeView__UlBox-sc-4ex6b6-0"]{content:"gtekST,"}/*!sc*/
</style><meta data-hydrostats="publish"/> <!-- --> <!-- --> <!-- --> <button hidden="" data-testid="header-permalink-button" data-hotkey-scope="read-only-cursor-text-area"></button><button hidden=""></button><div class="Box-sc-g0xbh4-0"><div style="--sticky-pane-height:100vh" class="Box-sc-g0xbh4-0 fSWWem"><div class="Box-sc-g0xbh4-0 kPPmzM"><div class="Box-sc-g0xbh4-0 cIAPDV"><div tabindex="0" class="Box-sc-g0xbh4-0 gvCnwW"><div class="Box-sc-g0xbh4-0 ioxSsX"><div class="Box-sc-g0xbh4-0 eUyHuk"></div><div class="Box-sc-g0xbh4-0 hAeDYA"><div role="separator" class="Box-sc-g0xbh4-0 ekKrwo"></div></div><div style="--pane-width:320px" class="Box-sc-g0xbh4-0 gNdDUH"><span class="_VisuallyHidden__VisuallyHidden-sc-11jhm7a-0 rTZSs"><form><label for=":Rdjal5:-width-input">Pane width</label><p id=":Rdjal5:-input-hint">Use a value between <!-- -->0<!-- -->% and <!-- -->0<!-- -->%</p><input id=":Rdjal5:-width-input" aria-describedby=":Rdjal5:-input-hint" name="pane-width" inputMode="numeric" pattern="[0-9]*" autoCorrect="off" autoComplete="off" type="text" value=""/><button type="submit">Change width</button></form></span><div class="Box-sc-g0xbh4-0 react-tree-pane-contents"><div id="repos-file-tree" class="Box-sc-g0xbh4-0 jywUSN"><div class="Box-sc-g0xbh4-0 hBSSUC"><div class="Box-sc-g0xbh4-0 iPurHz"><h2 class="Heading__StyledHeading-sc-1c1dgg0-0 fNPcqd"><button type="button" aria-label="Expand side panel" data-testid="expand-file-tree-button-mobile" class="types__StyledButton-sc-ws60qy-0 iBwhhC"><span data-component="buttonContent" class="Box-sc-g0xbh4-0 kkrdEu"><span data-component="leadingVisual" class="Box-sc-g0xbh4-0 trpoQ"><svg aria-hidden="true" focusable="false" role="img" class="octicon octicon-arrow-left" viewBox="0 0 16 16" width="16" height="16" fill="currentColor" style="display:inline-block;user-select:none;vertical-align:text-bottom;overflow:visible"><path d="M7.78 12.53a.75.75 0 0 1-1.06 0L2.47 8.28a.75.75 0 0 1 0-1.06l4.25-4.25a.751.751 0 0 1 1.042.018.751.751 0 0 1 .018 1.042L4.81 7h7.44a.75.75 0 0 1 0 1.5H4.81l2.97 2.97a.75.75 0 0 1 0 1.06Z"></path></svg></span><span data-component="text">Files</span></span></button><button data-component="IconButton" type="button" data-testid="collapse-file-tree-button" aria-label="Side panel" aria-expanded="true" aria-controls="repos-file-tree" class="types__StyledButton-sc-ws60qy-0 bpzCPD" data-no-visuals="true"><svg aria-hidden="true" focusable="false" role="img" class="octicon octicon-sidebar-expand" viewBox="0 0 16 16" width="16" height="16" fill="currentColor" style="display:inline-block;user-select:none;vertical-align:text-bottom;overflow:visible"><path d="m4.177 7.823 2.396-2.396A.25.25 0 0 1 7 5.604v4.792a.25.25 0 0 1-.427.177L4.177 8.177a.25.25 0 0 1 0-.354Z"></path><path d="M0 1.75C0 .784.784 0 1.75 0h12.5C15.216 0 16 .784 16 1.75v12.5A1.75 1.75 0 0 1 14.25 16H1.75A1.75 1.75 0 0 1 0 14.25Zm1.75-.25a.25.25 0 0 0-.25.25v12.5c0 .138.112.25.25.25H9.5v-13Zm12.5 13a.25.25 0 0 0 .25-.25V1.75a.25.25 0 0 0-.25-.25H11v13Z"></path></svg></button><button hidden="" data-testid="" data-hotkey-scope="read-only-cursor-text-area"></button></h2><h2 class="Heading__StyledHeading-sc-1c1dgg0-0 imcwCi">Files</h2></div><div class="Box-sc-g0xbh4-0 hVHHYa"><div class="Box-sc-g0xbh4-0 idZfsJ"><button type="button" id="branch-picker-repos-header-ref-selector" aria-haspopup="true" tabindex="0" aria-label="main branch" data-testid="anchor-button" class="types__StyledButton-sc-ws60qy-0 cpGorR react-repos-tree-pane-ref-selector width-full ref-selector-class"><span data-component="buttonContent" class="Box-sc-g0xbh4-0 kkrdEu"><span data-component="text"><div class="Box-sc-g0xbh4-0 bKgizp"><div class="Box-sc-g0xbh4-0 kYlvBX"><svg aria-hidden="true" focusable="false" role="img" class="octicon octicon-git-branch" viewBox="0 0 16 16" width="16" height="16" fill="currentColor" style="display:inline-block;user-select:none;vertical-align:text-bottom;overflow:visible"><path d="M9.5 3.25a2.25 2.25 0 1 1 3 2.122V6A2.5 2.5 0 0 1 10 8.5H6a1 1 0 0 0-1 1v1.128a2.251 2.251 0 1 1-1.5 0V5.372a2.25 2.25 0 1 1 1.5 0v1.836A2.493 2.493 0 0 1 6 7h4a1 1 0 0 0 1-1v-.628A2.25 2.25 0 0 1 9.5 3.25Zm-6 0a.75.75 0 1 0 1.5 0 .75.75 0 0 0-1.5 0Zm8.25-.75a.75.75 0 1 0 0 1.5.75.75 0 0 0 0-1.5ZM4.25 12a.75.75 0 1 0 0 1.5.75.75 0 0 0 0-1.5Z"></path></svg></div><div class="Box-sc-g0xbh4-0 caeYDk"><span class="Text-sc-17v1xeu-0 bOMzPg"> <!-- -->main</span></div></div></span><span data-component="trailingVisual" class="Box-sc-g0xbh4-0 trpoQ"><svg aria-hidden="true" focusable="false" role="img" class="octicon octicon-triangle-down" viewBox="0 0 16 16" width="16" height="16" fill="currentColor" style="display:inline-block;user-select:none;vertical-align:text-bottom;overflow:visible"><path d="m4.427 7.427 3.396 3.396a.25.25 0 0 0 .354 0l3.396-3.396A.25.25 0 0 0 11.396 7H4.604a.25.25 0 0 0-.177.427Z"></path></svg></span></span></button><button hidden="" data-hotkey-scope="read-only-cursor-text-area"></button></div><div class="Box-sc-g0xbh4-0 jahcnb"><span role="tooltip" aria-label="Add file" class="Tooltip__TooltipBase-sc-uha8qm-0 hFFfJn tooltipped-s"><a sx="[object Object]" data-component="IconButton" type="button" aria-label="Add file" data-no-visuals="true" class="types__StyledButton-sc-ws60qy-0 jOqXES" href="/cursodatafundamentals/granada/new/main/Day%206"><svg aria-hidden="true" focusable="false" role="img" class="octicon octicon-plus" viewBox="0 0 16 16" width="16" height="16" fill="currentColor" style="display:inline-block;user-select:none;vertical-align:text-bottom;overflow:visible"><path d="M7.75 2a.75.75 0 0 1 .75.75V7h4.25a.75.75 0 0 1 0 1.5H8.5v4.25a.75.75 0 0 1-1.5 0V8.5H2.75a.75.75 0 0 1 0-1.5H7V2.75A.75.75 0 0 1 7.75 2Z"></path></svg></a></span><button data-component="IconButton" type="button" aria-label="Search this repository" data-no-visuals="true" class="types__StyledButton-sc-ws60qy-0 dQkDZk"><svg aria-hidden="true" focusable="false" role="img" class="octicon octicon-search" viewBox="0 0 16 16" width="16" height="16" fill="currentColor" style="display:inline-block;user-select:none;vertical-align:text-bottom;overflow:visible"><path d="M10.68 11.74a6 6 0 0 1-7.922-8.982 6 6 0 0 1 8.982 7.922l3.04 3.04a.749.749 0 0 1-.326 1.275.749.749 0 0 1-.734-.215ZM11.5 7a4.499 4.499 0 1 0-8.997 0A4.499 4.499 0 0 0 11.5 7Z"></path></svg></button><button hidden="" data-testid="" data-hotkey-scope="read-only-cursor-text-area"></button></div></div></div><div class="Box-sc-g0xbh4-0 ccToMy"><button hidden="" data-testid="" data-hotkey-scope="read-only-cursor-text-area"></button><button hidden=""></button><span class="TextInputWrapper__TextInputBaseWrapper-sc-1mqhpbi-0 TextInputWrapper-sc-1mqhpbi-1 cgNHBf cuQjCh TextInput-wrapper" aria-busy="false"><span class="TextInput-icon"><svg aria-hidden="true" focusable="false" role="img" class="octicon octicon-search" viewBox="0 0 16 16" width="16" height="16" fill="currentColor" style="display:inline-block;user-select:none;vertical-align:text-bottom;overflow:visible"><path d="M10.68 11.74a6 6 0 0 1-7.922-8.982 6 6 0 0 1 8.982 7.922l3.04 3.04a.749.749 0 0 1-.326 1.275.749.749 0 0 1-.734-.215ZM11.5 7a4.499 4.499 0 1 0-8.997 0A4.499 4.499 0 0 0 11.5 7Z"></path></svg></span><input type="text" aria-label="Go to file" role="combobox" aria-controls="file-results-list" aria-expanded="false" aria-haspopup="dialog" autoCorrect="off" spellcheck="false" placeholder="Go to file" data-component="input" class="UnstyledTextInput-sc-14ypya-0 cDLBls" value=""/><span class="TextInput-icon"><div class="Box-sc-g0xbh4-0 cNvKlH"><kbd>t</kbd></div></span></span></div><div class="Box-sc-g0xbh4-0 cLfAnm"><div class="react-tree-show-tree-items"><div data-testid="repos-file-tree-container" class="Box-sc-g0xbh4-0 erWCJP"><nav aria-label="File Tree Navigation"><span role="status" aria-live="polite" aria-atomic="true" class="_VisuallyHidden__VisuallyHidden-sc-11jhm7a-0 rTZSs"></span><ul role="tree" aria-label="Files" class="TreeView__UlBox-sc-4ex6b6-0 gtekST"><li class="PRIVATE_TreeView-item" tabindex="0" id="Day 1-item" role="treeitem" aria-labelledby=":Rqcndjal5:" aria-describedby=":Rqcndjal5H1: :Rqcndjal5H2:" aria-level="1" aria-expanded="false" aria-selected="false"><div class="PRIVATE_TreeView-item-container" style="--level:1;content-visibility:auto;contain-intrinsic-size:auto 2rem"><div style="grid-area:spacer;display:flex"><div style="width:100%;display:flex"></div></div><div class="PRIVATE_TreeView-item-toggle PRIVATE_TreeView-item-toggle--hover PRIVATE_TreeView-item-toggle--end"><svg aria-hidden="true" focusable="false" role="img" class="octicon octicon-chevron-right" viewBox="0 0 12 12" width="12" height="12" fill="currentColor" style="display:inline-block;user-select:none;vertical-align:text-bottom;overflow:visible"><path d="M4.7 10c-.2 0-.4-.1-.5-.2-.3-.3-.3-.8 0-1.1L6.9 6 4.2 3.3c-.3-.3-.3-.8 0-1.1.3-.3.8-.3 1.1 0l3.3 3.2c.3.3.3.8 0 1.1L5.3 9.7c-.2.2-.4.3-.6.3Z"></path></svg></div><div id=":Rqcndjal5:" class="PRIVATE_TreeView-item-content"><div class="PRIVATE_VisuallyHidden" aria-hidden="true" id=":Rqcndjal5H1:"></div><div class="PRIVATE_TreeView-item-visual" aria-hidden="true"><div class="PRIVATE_TreeView-directory-icon"><svg aria-hidden="true" focusable="false" role="img" class="octicon octicon-file-directory-fill" viewBox="0 0 16 16" width="16" height="16" fill="currentColor" style="display:inline-block;user-select:none;vertical-align:text-bottom;overflow:visible"><path d="M1.75 1A1.75 1.75 0 0 0 0 2.75v10.5C0 14.216.784 15 1.75 15h12.5A1.75 1.75 0 0 0 16 13.25v-8.5A1.75 1.75 0 0 0 14.25 3H7.5a.25.25 0 0 1-.2-.1l-.9-1.2C6.07 1.26 5.55 1 5 1H1.75Z"></path></svg></div></div><span class="PRIVATE_TreeView-item-content-text"><span>Day 1</span></span></div></div></li><li class="PRIVATE_TreeView-item" tabindex="0" id="Day 2-item" role="treeitem" aria-labelledby=":R1acndjal5:" aria-describedby=":R1acndjal5H1: :R1acndjal5H2:" aria-level="1" aria-expanded="false" aria-selected="false"><div class="PRIVATE_TreeView-item-container" style="--level:1;content-visibility:auto;contain-intrinsic-size:auto 2rem"><div style="grid-area:spacer;display:flex"><div style="width:100%;display:flex"></div></div><div class="PRIVATE_TreeView-item-toggle PRIVATE_TreeView-item-toggle--hover PRIVATE_TreeView-item-toggle--end"><svg aria-hidden="true" focusable="false" role="img" class="octicon octicon-chevron-right" viewBox="0 0 12 12" width="12" height="12" fill="currentColor" style="display:inline-block;user-select:none;vertical-align:text-bottom;overflow:visible"><path d="M4.7 10c-.2 0-.4-.1-.5-.2-.3-.3-.3-.8 0-1.1L6.9 6 4.2 3.3c-.3-.3-.3-.8 0-1.1.3-.3.8-.3 1.1 0l3.3 3.2c.3.3.3.8 0 1.1L5.3 9.7c-.2.2-.4.3-.6.3Z"></path></svg></div><div id=":R1acndjal5:" class="PRIVATE_TreeView-item-content"><div class="PRIVATE_VisuallyHidden" aria-hidden="true" id=":R1acndjal5H1:"></div><div class="PRIVATE_TreeView-item-visual" aria-hidden="true"><div class="PRIVATE_TreeView-directory-icon"><svg aria-hidden="true" focusable="false" role="img" class="octicon octicon-file-directory-fill" viewBox="0 0 16 16" width="16" height="16" fill="currentColor" style="display:inline-block;user-select:none;vertical-align:text-bottom;overflow:visible"><path d="M1.75 1A1.75 1.75 0 0 0 0 2.75v10.5C0 14.216.784 15 1.75 15h12.5A1.75 1.75 0 0 0 16 13.25v-8.5A1.75 1.75 0 0 0 14.25 3H7.5a.25.25 0 0 1-.2-.1l-.9-1.2C6.07 1.26 5.55 1 5 1H1.75Z"></path></svg></div></div><span class="PRIVATE_TreeView-item-content-text"><span>Day 2</span></span></div></div></li><li class="PRIVATE_TreeView-item" tabindex="0" id="Day 3-item" role="treeitem" aria-labelledby=":R1qcndjal5:" aria-describedby=":R1qcndjal5H1: :R1qcndjal5H2:" aria-level="1" aria-expanded="false" aria-selected="false"><div class="PRIVATE_TreeView-item-container" style="--level:1;content-visibility:auto;contain-intrinsic-size:auto 2rem"><div style="grid-area:spacer;display:flex"><div style="width:100%;display:flex"></div></div><div class="PRIVATE_TreeView-item-toggle PRIVATE_TreeView-item-toggle--hover PRIVATE_TreeView-item-toggle--end"><svg aria-hidden="true" focusable="false" role="img" class="octicon octicon-chevron-right" viewBox="0 0 12 12" width="12" height="12" fill="currentColor" style="display:inline-block;user-select:none;vertical-align:text-bottom;overflow:visible"><path d="M4.7 10c-.2 0-.4-.1-.5-.2-.3-.3-.3-.8 0-1.1L6.9 6 4.2 3.3c-.3-.3-.3-.8 0-1.1.3-.3.8-.3 1.1 0l3.3 3.2c.3.3.3.8 0 1.1L5.3 9.7c-.2.2-.4.3-.6.3Z"></path></svg></div><div id=":R1qcndjal5:" class="PRIVATE_TreeView-item-content"><div class="PRIVATE_VisuallyHidden" aria-hidden="true" id=":R1qcndjal5H1:"></div><div class="PRIVATE_TreeView-item-visual" aria-hidden="true"><div class="PRIVATE_TreeView-directory-icon"><svg aria-hidden="true" focusable="false" role="img" class="octicon octicon-file-directory-fill" viewBox="0 0 16 16" width="16" height="16" fill="currentColor" style="display:inline-block;user-select:none;vertical-align:text-bottom;overflow:visible"><path d="M1.75 1A1.75 1.75 0 0 0 0 2.75v10.5C0 14.216.784 15 1.75 15h12.5A1.75 1.75 0 0 0 16 13.25v-8.5A1.75 1.75 0 0 0 14.25 3H7.5a.25.25 0 0 1-.2-.1l-.9-1.2C6.07 1.26 5.55 1 5 1H1.75Z"></path></svg></div></div><span class="PRIVATE_TreeView-item-content-text"><span>Day 3</span></span></div></div></li><li class="PRIVATE_TreeView-item" tabindex="0" id="Day 4-item" role="treeitem" aria-labelledby=":R2acndjal5:" aria-describedby=":R2acndjal5H1: :R2acndjal5H2:" aria-level="1" aria-expanded="false" aria-selected="false"><div class="PRIVATE_TreeView-item-container" style="--level:1;content-visibility:auto;contain-intrinsic-size:auto 2rem"><div style="grid-area:spacer;display:flex"><div style="width:100%;display:flex"></div></div><div class="PRIVATE_TreeView-item-toggle PRIVATE_TreeView-item-toggle--hover PRIVATE_TreeView-item-toggle--end"><svg aria-hidden="true" focusable="false" role="img" class="octicon octicon-chevron-right" viewBox="0 0 12 12" width="12" height="12" fill="currentColor" style="display:inline-block;user-select:none;vertical-align:text-bottom;overflow:visible"><path d="M4.7 10c-.2 0-.4-.1-.5-.2-.3-.3-.3-.8 0-1.1L6.9 6 4.2 3.3c-.3-.3-.3-.8 0-1.1.3-.3.8-.3 1.1 0l3.3 3.2c.3.3.3.8 0 1.1L5.3 9.7c-.2.2-.4.3-.6.3Z"></path></svg></div><div id=":R2acndjal5:" class="PRIVATE_TreeView-item-content"><div class="PRIVATE_VisuallyHidden" aria-hidden="true" id=":R2acndjal5H1:"></div><div class="PRIVATE_TreeView-item-visual" aria-hidden="true"><div class="PRIVATE_TreeView-directory-icon"><svg aria-hidden="true" focusable="false" role="img" class="octicon octicon-file-directory-fill" viewBox="0 0 16 16" width="16" height="16" fill="currentColor" style="display:inline-block;user-select:none;vertical-align:text-bottom;overflow:visible"><path d="M1.75 1A1.75 1.75 0 0 0 0 2.75v10.5C0 14.216.784 15 1.75 15h12.5A1.75 1.75 0 0 0 16 13.25v-8.5A1.75 1.75 0 0 0 14.25 3H7.5a.25.25 0 0 1-.2-.1l-.9-1.2C6.07 1.26 5.55 1 5 1H1.75Z"></path></svg></div></div><span class="PRIVATE_TreeView-item-content-text"><span>Day 4</span></span></div></div></li><li class="PRIVATE_TreeView-item" tabindex="0" id="Day 5-item" role="treeitem" aria-labelledby=":R2qcndjal5:" aria-describedby=":R2qcndjal5H1: :R2qcndjal5H2:" aria-level="1" aria-expanded="false" aria-selected="false"><div class="PRIVATE_TreeView-item-container" style="--level:1;content-visibility:auto;contain-intrinsic-size:auto 2rem"><div style="grid-area:spacer;display:flex"><div style="width:100%;display:flex"></div></div><div class="PRIVATE_TreeView-item-toggle PRIVATE_TreeView-item-toggle--hover PRIVATE_TreeView-item-toggle--end"><svg aria-hidden="true" focusable="false" role="img" class="octicon octicon-chevron-right" viewBox="0 0 12 12" width="12" height="12" fill="currentColor" style="display:inline-block;user-select:none;vertical-align:text-bottom;overflow:visible"><path d="M4.7 10c-.2 0-.4-.1-.5-.2-.3-.3-.3-.8 0-1.1L6.9 6 4.2 3.3c-.3-.3-.3-.8 0-1.1.3-.3.8-.3 1.1 0l3.3 3.2c.3.3.3.8 0 1.1L5.3 9.7c-.2.2-.4.3-.6.3Z"></path></svg></div><div id=":R2qcndjal5:" class="PRIVATE_TreeView-item-content"><div class="PRIVATE_VisuallyHidden" aria-hidden="true" id=":R2qcndjal5H1:"></div><div class="PRIVATE_TreeView-item-visual" aria-hidden="true"><div class="PRIVATE_TreeView-directory-icon"><svg aria-hidden="true" focusable="false" role="img" class="octicon octicon-file-directory-fill" viewBox="0 0 16 16" width="16" height="16" fill="currentColor" style="display:inline-block;user-select:none;vertical-align:text-bottom;overflow:visible"><path d="M1.75 1A1.75 1.75 0 0 0 0 2.75v10.5C0 14.216.784 15 1.75 15h12.5A1.75 1.75 0 0 0 16 13.25v-8.5A1.75 1.75 0 0 0 14.25 3H7.5a.25.25 0 0 1-.2-.1l-.9-1.2C6.07 1.26 5.55 1 5 1H1.75Z"></path></svg></div></div><span class="PRIVATE_TreeView-item-content-text"><span>Day 5</span></span></div></div></li><li class="PRIVATE_TreeView-item" tabindex="0" id="Day 6-item" role="treeitem" aria-labelledby=":R3acndjal5:" aria-describedby=":R3acndjal5H1: :R3acndjal5H2:" aria-level="1" aria-expanded="true" aria-selected="false"><div class="PRIVATE_TreeView-item-container" style="--level:1;content-visibility:auto;contain-intrinsic-size:auto 2rem"><div style="grid-area:spacer;display:flex"><div style="width:100%;display:flex"></div></div><div class="PRIVATE_TreeView-item-toggle PRIVATE_TreeView-item-toggle--hover PRIVATE_TreeView-item-toggle--end"><svg aria-hidden="true" focusable="false" role="img" class="octicon octicon-chevron-down" viewBox="0 0 12 12" width="12" height="12" fill="currentColor" style="display:inline-block;user-select:none;vertical-align:text-bottom;overflow:visible"><path d="M6 8.825c-.2 0-.4-.1-.5-.2l-3.3-3.3c-.3-.3-.3-.8 0-1.1.3-.3.8-.3 1.1 0l2.7 2.7 2.7-2.7c.3-.3.8-.3 1.1 0 .3.3.3.8 0 1.1l-3.2 3.2c-.2.2-.4.3-.6.3Z"></path></svg></div><div id=":R3acndjal5:" class="PRIVATE_TreeView-item-content"><div class="PRIVATE_VisuallyHidden" aria-hidden="true" id=":R3acndjal5H1:"></div><div class="PRIVATE_TreeView-item-visual" aria-hidden="true"><div class="PRIVATE_TreeView-directory-icon"><svg aria-hidden="true" focusable="false" role="img" class="octicon octicon-file-directory-open-fill" viewBox="0 0 16 16" width="16" height="16" fill="currentColor" style="display:inline-block;user-select:none;vertical-align:text-bottom;overflow:visible"><path d="M.513 1.513A1.75 1.75 0 0 1 1.75 1h3.5c.55 0 1.07.26 1.4.7l.9 1.2a.25.25 0 0 0 .2.1H13a1 1 0 0 1 1 1v.5H2.75a.75.75 0 0 0 0 1.5h11.978a1 1 0 0 1 .994 1.117L15 13.25A1.75 1.75 0 0 1 13.25 15H1.75A1.75 1.75 0 0 1 0 13.25V2.75c0-.464.184-.91.513-1.237Z"></path></svg></div></div><span class="PRIVATE_TreeView-item-content-text"><span>Day 6</span></span></div></div><ul role="group" style="list-style:none;padding:0;margin:0"><li class="PRIVATE_TreeView-item" tabindex="0" id="Day 6/M5 - 04 - Funciones - Solución.ipynb-item" role="treeitem" aria-labelledby=":Rbbacndjal5:" aria-describedby=":Rbbacndjal5H1: :Rbbacndjal5H2:" aria-level="2" aria-selected="false"><div class="PRIVATE_TreeView-item-container" style="--level:2;content-visibility:auto;contain-intrinsic-size:auto 2rem"><div style="grid-area:spacer;display:flex"><div style="width:100%;display:flex"><div class="PRIVATE_TreeView-item-level-line"></div></div></div><div id=":Rbbacndjal5:" class="PRIVATE_TreeView-item-content"><div class="PRIVATE_VisuallyHidden" aria-hidden="true" id=":Rbbacndjal5H1:"></div><div class="PRIVATE_TreeView-item-visual" aria-hidden="true"><svg aria-hidden="true" focusable="false" role="img" class="octicon octicon-file" viewBox="0 0 16 16" width="16" height="16" fill="currentColor" style="display:inline-block;user-select:none;vertical-align:text-bottom;overflow:visible"><path d="M2 1.75C2 .784 2.784 0 3.75 0h6.586c.464 0 .909.184 1.237.513l2.914 2.914c.329.328.513.773.513 1.237v9.586A1.75 1.75 0 0 1 13.25 16h-9.5A1.75 1.75 0 0 1 2 14.25Zm1.75-.25a.25.25 0 0 0-.25.25v12.5c0 .138.112.25.25.25h9.5a.25.25 0 0 0 .25-.25V6h-2.75A1.75 1.75 0 0 1 9 4.25V1.5Zm6.75.062V4.25c0 .138.112.25.25.25h2.688l-.011-.013-2.914-2.914-.013-.011Z"></path></svg></div><span class="PRIVATE_TreeView-item-content-text"><span>M5 - 04 - Funciones - Solución.ipynb</span></span></div></div></li><li class="PRIVATE_TreeView-item" tabindex="0" id="Day 6/M5 - 04 - Funciones.ipynb-item" role="treeitem" aria-labelledby=":Rjbacndjal5:" aria-describedby=":Rjbacndjal5H1: :Rjbacndjal5H2:" aria-level="2" aria-selected="false"><div class="PRIVATE_TreeView-item-container" style="--level:2;content-visibility:auto;contain-intrinsic-size:auto 2rem"><div style="grid-area:spacer;display:flex"><div style="width:100%;display:flex"><div class="PRIVATE_TreeView-item-level-line"></div></div></div><div id=":Rjbacndjal5:" class="PRIVATE_TreeView-item-content"><div class="PRIVATE_VisuallyHidden" aria-hidden="true" id=":Rjbacndjal5H1:"></div><div class="PRIVATE_TreeView-item-visual" aria-hidden="true"><svg aria-hidden="true" focusable="false" role="img" class="octicon octicon-file" viewBox="0 0 16 16" width="16" height="16" fill="currentColor" style="display:inline-block;user-select:none;vertical-align:text-bottom;overflow:visible"><path d="M2 1.75C2 .784 2.784 0 3.75 0h6.586c.464 0 .909.184 1.237.513l2.914 2.914c.329.328.513.773.513 1.237v9.586A1.75 1.75 0 0 1 13.25 16h-9.5A1.75 1.75 0 0 1 2 14.25Zm1.75-.25a.25.25 0 0 0-.25.25v12.5c0 .138.112.25.25.25h9.5a.25.25 0 0 0 .25-.25V6h-2.75A1.75 1.75 0 0 1 9 4.25V1.5Zm6.75.062V4.25c0 .138.112.25.25.25h2.688l-.011-.013-2.914-2.914-.013-.011Z"></path></svg></div><span class="PRIVATE_TreeView-item-content-text"><span>M5 - 04 - Funciones.ipynb</span></span></div></div></li><li class="PRIVATE_TreeView-item" tabindex="0" id="Day 6/M5 - 05 - Clases.ipynb-item" role="treeitem" aria-labelledby=":Rrbacndjal5:" aria-describedby=":Rrbacndjal5H1: :Rrbacndjal5H2:" aria-level="2" aria-selected="false"><div class="PRIVATE_TreeView-item-container" style="--level:2;content-visibility:auto;contain-intrinsic-size:auto 2rem"><div style="grid-area:spacer;display:flex"><div style="width:100%;display:flex"><div class="PRIVATE_TreeView-item-level-line"></div></div></div><div id=":Rrbacndjal5:" class="PRIVATE_TreeView-item-content"><div class="PRIVATE_VisuallyHidden" aria-hidden="true" id=":Rrbacndjal5H1:"></div><div class="PRIVATE_TreeView-item-visual" aria-hidden="true"><svg aria-hidden="true" focusable="false" role="img" class="octicon octicon-file" viewBox="0 0 16 16" width="16" height="16" fill="currentColor" style="display:inline-block;user-select:none;vertical-align:text-bottom;overflow:visible"><path d="M2 1.75C2 .784 2.784 0 3.75 0h6.586c.464 0 .909.184 1.237.513l2.914 2.914c.329.328.513.773.513 1.237v9.586A1.75 1.75 0 0 1 13.25 16h-9.5A1.75 1.75 0 0 1 2 14.25Zm1.75-.25a.25.25 0 0 0-.25.25v12.5c0 .138.112.25.25.25h9.5a.25.25 0 0 0 .25-.25V6h-2.75A1.75 1.75 0 0 1 9 4.25V1.5Zm6.75.062V4.25c0 .138.112.25.25.25h2.688l-.011-.013-2.914-2.914-.013-.011Z"></path></svg></div><span class="PRIVATE_TreeView-item-content-text"><span>M5 - 05 - Clases.ipynb</span></span></div></div></li><li class="PRIVATE_TreeView-item" tabindex="0" id="Day 6/M5 - 05 - EXTRA - Clases - Solución.ipynb-item" role="treeitem" aria-labelledby=":R13bacndjal5:" aria-describedby=":R13bacndjal5H1: :R13bacndjal5H2:" aria-level="2" aria-current="true" aria-selected="false"><div class="PRIVATE_TreeView-item-container" style="--level:2"><div style="grid-area:spacer;display:flex"><div style="width:100%;display:flex"><div class="PRIVATE_TreeView-item-level-line"></div></div></div><div id=":R13bacndjal5:" class="PRIVATE_TreeView-item-content"><div class="PRIVATE_VisuallyHidden" aria-hidden="true" id=":R13bacndjal5H1:"></div><div class="PRIVATE_TreeView-item-visual" aria-hidden="true"><svg aria-hidden="true" focusable="false" role="img" class="octicon octicon-file" viewBox="0 0 16 16" width="16" height="16" fill="currentColor" style="display:inline-block;user-select:none;vertical-align:text-bottom;overflow:visible"><path d="M2 1.75C2 .784 2.784 0 3.75 0h6.586c.464 0 .909.184 1.237.513l2.914 2.914c.329.328.513.773.513 1.237v9.586A1.75 1.75 0 0 1 13.25 16h-9.5A1.75 1.75 0 0 1 2 14.25Zm1.75-.25a.25.25 0 0 0-.25.25v12.5c0 .138.112.25.25.25h9.5a.25.25 0 0 0 .25-.25V6h-2.75A1.75 1.75 0 0 1 9 4.25V1.5Zm6.75.062V4.25c0 .138.112.25.25.25h2.688l-.011-.013-2.914-2.914-.013-.011Z"></path></svg></div><span class="PRIVATE_TreeView-item-content-text"><span>M5 - 05 - EXTRA - Clases - Solución.ipynb</span></span></div></div></li></ul></li><li class="PRIVATE_TreeView-item" tabindex="0" id="Presentaciones-item" role="treeitem" aria-labelledby=":R3qcndjal5:" aria-describedby=":R3qcndjal5H1: :R3qcndjal5H2:" aria-level="1" aria-expanded="false" aria-selected="false"><div class="PRIVATE_TreeView-item-container" style="--level:1;content-visibility:auto;contain-intrinsic-size:auto 2rem"><div style="grid-area:spacer;display:flex"><div style="width:100%;display:flex"></div></div><div class="PRIVATE_TreeView-item-toggle PRIVATE_TreeView-item-toggle--hover PRIVATE_TreeView-item-toggle--end"><svg aria-hidden="true" focusable="false" role="img" class="octicon octicon-chevron-right" viewBox="0 0 12 12" width="12" height="12" fill="currentColor" style="display:inline-block;user-select:none;vertical-align:text-bottom;overflow:visible"><path d="M4.7 10c-.2 0-.4-.1-.5-.2-.3-.3-.3-.8 0-1.1L6.9 6 4.2 3.3c-.3-.3-.3-.8 0-1.1.3-.3.8-.3 1.1 0l3.3 3.2c.3.3.3.8 0 1.1L5.3 9.7c-.2.2-.4.3-.6.3Z"></path></svg></div><div id=":R3qcndjal5:" class="PRIVATE_TreeView-item-content"><div class="PRIVATE_VisuallyHidden" aria-hidden="true" id=":R3qcndjal5H1:"></div><div class="PRIVATE_TreeView-item-visual" aria-hidden="true"><div class="PRIVATE_TreeView-directory-icon"><svg aria-hidden="true" focusable="false" role="img" class="octicon octicon-file-directory-fill" viewBox="0 0 16 16" width="16" height="16" fill="currentColor" style="display:inline-block;user-select:none;vertical-align:text-bottom;overflow:visible"><path d="M1.75 1A1.75 1.75 0 0 0 0 2.75v10.5C0 14.216.784 15 1.75 15h12.5A1.75 1.75 0 0 0 16 13.25v-8.5A1.75 1.75 0 0 0 14.25 3H7.5a.25.25 0 0 1-.2-.1l-.9-1.2C6.07 1.26 5.55 1 5 1H1.75Z"></path></svg></div></div><span class="PRIVATE_TreeView-item-content-text"><span>Presentaciones</span></span></div></div></li><li class="PRIVATE_TreeView-item" tabindex="0" id="README.md-item" role="treeitem" aria-labelledby=":R4acndjal5:" aria-describedby=":R4acndjal5H1: :R4acndjal5H2:" aria-level="1" aria-selected="false"><div class="PRIVATE_TreeView-item-container" style="--level:1;content-visibility:auto;contain-intrinsic-size:auto 2rem"><div style="grid-area:spacer;display:flex"><div style="width:100%;display:flex"></div></div><div id=":R4acndjal5:" class="PRIVATE_TreeView-item-content"><div class="PRIVATE_VisuallyHidden" aria-hidden="true" id=":R4acndjal5H1:"></div><div class="PRIVATE_TreeView-item-visual" aria-hidden="true"><svg aria-hidden="true" focusable="false" role="img" class="octicon octicon-file" viewBox="0 0 16 16" width="16" height="16" fill="currentColor" style="display:inline-block;user-select:none;vertical-align:text-bottom;overflow:visible"><path d="M2 1.75C2 .784 2.784 0 3.75 0h6.586c.464 0 .909.184 1.237.513l2.914 2.914c.329.328.513.773.513 1.237v9.586A1.75 1.75 0 0 1 13.25 16h-9.5A1.75 1.75 0 0 1 2 14.25Zm1.75-.25a.25.25 0 0 0-.25.25v12.5c0 .138.112.25.25.25h9.5a.25.25 0 0 0 .25-.25V6h-2.75A1.75 1.75 0 0 1 9 4.25V1.5Zm6.75.062V4.25c0 .138.112.25.25.25h2.688l-.011-.013-2.914-2.914-.013-.011Z"></path></svg></div><span class="PRIVATE_TreeView-item-content-text"><span>README.md</span></span></div></div></li></ul></nav></div></div><div class="Box-sc-g0xbh4-0 hwhShM"><div class="Box-sc-g0xbh4-0 cYPxpP"><a href="https://docs.github.com/repositories/working-with-files/using-files/navigating-code-on-github" target="_blank" class="Link__StyledLink-sc-14289xe-0 fIqerb">Documentation</a> • <a href="https://github.com/orgs/community/discussions/54546" target="_blank" class="Link__StyledLink-sc-14289xe-0 fIqerb">Share feedback</a></div></div></div><div class="Box-sc-g0xbh4-0 fBtiVT"><div class="Box-sc-g0xbh4-0 cYPxpP"><a href="https://docs.github.com/repositories/working-with-files/using-files/navigating-code-on-github" target="_blank" class="Link__StyledLink-sc-14289xe-0 fIqerb">Documentation</a> • <a href="https://github.com/orgs/community/discussions/54546" target="_blank" class="Link__StyledLink-sc-14289xe-0 fIqerb">Share feedback</a></div></div></div></div></div></div></div><main class="Box-sc-g0xbh4-0 emFMJu"><div class="Box-sc-g0xbh4-0"></div><div class="Box-sc-g0xbh4-0 hlUAHL"><div data-selector="repos-split-pane-content" tabindex="0" class="Box-sc-g0xbh4-0 iStsmI"><div class="Box-sc-g0xbh4-0 eIgvIk"><div class="Box-sc-g0xbh4-0 eVFfWF container"><div class="Box-sc-g0xbh4-0 kgXdnT react-code-view-header--narrow"><div class="Box-sc-g0xbh4-0 kzTa-dF"><div class="Box-sc-g0xbh4-0 bbXCl"><h2 class="Heading__StyledHeading-sc-1c1dgg0-0 fNPcqd"><button type="button" aria-label="Expand side panel" data-testid="expand-file-tree-button-mobile" class="types__StyledButton-sc-ws60qy-0 iBwhhC"><span data-component="buttonContent" class="Box-sc-g0xbh4-0 kkrdEu"><span data-component="leadingVisual" class="Box-sc-g0xbh4-0 trpoQ"><svg aria-hidden="true" focusable="false" role="img" class="octicon octicon-arrow-left" viewBox="0 0 16 16" width="16" height="16" fill="currentColor" style="display:inline-block;user-select:none;vertical-align:text-bottom;overflow:visible"><path d="M7.78 12.53a.75.75 0 0 1-1.06 0L2.47 8.28a.75.75 0 0 1 0-1.06l4.25-4.25a.751.751 0 0 1 1.042.018.751.751 0 0 1 .018 1.042L4.81 7h7.44a.75.75 0 0 1 0 1.5H4.81l2.97 2.97a.75.75 0 0 1 0 1.06Z"></path></svg></span><span data-component="text">Files</span></span></button><button data-component="IconButton" type="button" data-testid="collapse-file-tree-button" aria-label="Side panel" aria-expanded="true" aria-controls="repos-file-tree" class="types__StyledButton-sc-ws60qy-0 bpzCPD" data-no-visuals="true"><svg aria-hidden="true" focusable="false" role="img" class="octicon octicon-sidebar-expand" viewBox="0 0 16 16" width="16" height="16" fill="currentColor" style="display:inline-block;user-select:none;vertical-align:text-bottom;overflow:visible"><path d="m4.177 7.823 2.396-2.396A.25.25 0 0 1 7 5.604v4.792a.25.25 0 0 1-.427.177L4.177 8.177a.25.25 0 0 1 0-.354Z"></path><path d="M0 1.75C0 .784.784 0 1.75 0h12.5C15.216 0 16 .784 16 1.75v12.5A1.75 1.75 0 0 1 14.25 16H1.75A1.75 1.75 0 0 1 0 14.25Zm1.75-.25a.25.25 0 0 0-.25.25v12.5c0 .138.112.25.25.25H9.5v-13Zm12.5 13a.25.25 0 0 0 .25-.25V1.75a.25.25 0 0 0-.25-.25H11v13Z"></path></svg></button><button hidden="" data-testid="" data-hotkey-scope="read-only-cursor-text-area"></button></h2><div class="Box-sc-g0xbh4-0 hGGMNu"><div class="Box-sc-g0xbh4-0 eHRrYV"><button type="button" id="branch-picker-repos-header-ref-selector-narrow" aria-haspopup="true" tabindex="0" aria-label="main branch" data-testid="anchor-button" class="types__StyledButton-sc-ws60qy-0 iwngiV ref-selector-class"><span data-component="buttonContent" class="Box-sc-g0xbh4-0 kkrdEu"><span data-component="text"><div class="Box-sc-g0xbh4-0 bKgizp"><div class="Box-sc-g0xbh4-0 kYlvBX"><svg aria-hidden="true" focusable="false" role="img" class="octicon octicon-git-branch" viewBox="0 0 16 16" width="16" height="16" fill="currentColor" style="display:inline-block;user-select:none;vertical-align:text-bottom;overflow:visible"><path d="M9.5 3.25a2.25 2.25 0 1 1 3 2.122V6A2.5 2.5 0 0 1 10 8.5H6a1 1 0 0 0-1 1v1.128a2.251 2.251 0 1 1-1.5 0V5.372a2.25 2.25 0 1 1 1.5 0v1.836A2.493 2.493 0 0 1 6 7h4a1 1 0 0 0 1-1v-.628A2.25 2.25 0 0 1 9.5 3.25Zm-6 0a.75.75 0 1 0 1.5 0 .75.75 0 0 0-1.5 0Zm8.25-.75a.75.75 0 1 0 0 1.5.75.75 0 0 0 0-1.5ZM4.25 12a.75.75 0 1 0 0 1.5.75.75 0 0 0 0-1.5Z"></path></svg></div><div class="Box-sc-g0xbh4-0 dKmYfk"><span class="Text-sc-17v1xeu-0 bOMzPg"> <!-- -->main</span></div></div></span><span data-component="trailingVisual" class="Box-sc-g0xbh4-0 trpoQ"><svg aria-hidden="true" focusable="false" role="img" class="octicon octicon-triangle-down" viewBox="0 0 16 16" width="16" height="16" fill="currentColor" style="display:inline-block;user-select:none;vertical-align:text-bottom;overflow:visible"><path d="m4.427 7.427 3.396 3.396a.25.25 0 0 0 .354 0l3.396-3.396A.25.25 0 0 0 11.396 7H4.604a.25.25 0 0 0-.177.427Z"></path></svg></span></span></button><button hidden="" data-hotkey-scope="read-only-cursor-text-area"></button></div> <button type="button" data-no-visuals="true" class="types__StyledButton-sc-ws60qy-0 hMBGua"><span data-component="buttonContent" class="Box-sc-g0xbh4-0 kkrdEu"><span data-component="text">Blame</span></span></button><button hidden="" data-testid="" data-hotkey-scope="read-only-cursor-text-area"></button><button data-component="IconButton" type="button" aria-label="More file actions" class="types__StyledButton-sc-ws60qy-0 bDzORU js-blob-dropdown-click" title="More file actions" data-testid="more-file-actions-button" id=":R9aaqjal5:" aria-haspopup="true" tabindex="0" data-no-visuals="true"><svg aria-hidden="true" focusable="false" role="img" class="octicon octicon-kebab-horizontal" viewBox="0 0 16 16" width="16" height="16" fill="currentColor" style="display:inline-block;user-select:none;vertical-align:text-bottom;overflow:visible"><path d="M8 9a1.5 1.5 0 1 0 0-3 1.5 1.5 0 0 0 0 3ZM1.5 9a1.5 1.5 0 1 0 0-3 1.5 1.5 0 0 0 0 3Zm13 0a1.5 1.5 0 1 0 0-3 1.5 1.5 0 0 0 0 3Z"></path></svg></button> </div></div><div class="Box-sc-g0xbh4-0 hSNzKh"><div class="Box-sc-g0xbh4-0 eTvGbF"><nav data-testid="breadcrumbs" aria-labelledby="repos-header-breadcrumb-mobile-heading" id="repos-header-breadcrumb-mobile" class="Box-sc-g0xbh4-0 kzRgrI"><h2 class="Heading__StyledHeading-sc-1c1dgg0-0 cgQnMS sr-only" data-testid="screen-reader-heading" id="repos-header-breadcrumb-mobile-heading">Breadcrumbs</h2><ol class="Box-sc-g0xbh4-0 cmAPIB"><li class="Box-sc-g0xbh4-0 jwXCBK"><a sx="[object Object]" data-testid="breadcrumbs-repo-link" class="Link__StyledLink-sc-14289xe-0 eVjWum" href="/cursodatafundamentals/granada/tree/main">granada</a></li><li class="Box-sc-g0xbh4-0 jwXCBK"><span aria-hidden="true" class="Text-sc-17v1xeu-0 ivLLle">/</span><a sx="[object Object]" class="Link__StyledLink-sc-14289xe-0 dYxKVs" href="/cursodatafundamentals/granada/tree/main/Day%206">Day 6</a></li></ol></nav><div data-testid="breadcrumbs-filename" class="Box-sc-g0xbh4-0 jwXCBK"><span aria-hidden="true" class="Text-sc-17v1xeu-0 ivLLle">/</span><h1 tabindex="-1" id="file-name-id-mobile" class="Heading__StyledHeading-sc-1c1dgg0-0 diwsLq">M5 - 05 - EXTRA - Clases - Solución.ipynb</h1></div><button data-component="IconButton" type="button" aria-label="Copy path" data-testid="breadcrumb-copy-path-button" data-size="small" data-no-visuals="true" class="types__StyledButton-sc-ws60qy-0 cdPrCH"><svg aria-hidden="true" focusable="false" role="img" class="octicon octicon-copy" viewBox="0 0 16 16" width="16" height="16" fill="currentColor" style="display:inline-block;user-select:none;vertical-align:text-bottom;overflow:visible"><path d="M0 6.75C0 5.784.784 5 1.75 5h1.5a.75.75 0 0 1 0 1.5h-1.5a.25.25 0 0 0-.25.25v7.5c0 .138.112.25.25.25h7.5a.25.25 0 0 0 .25-.25v-1.5a.75.75 0 0 1 1.5 0v1.5A1.75 1.75 0 0 1 9.25 16h-7.5A1.75 1.75 0 0 1 0 14.25Z"></path><path d="M5 1.75C5 .784 5.784 0 6.75 0h7.5C15.216 0 16 .784 16 1.75v7.5A1.75 1.75 0 0 1 14.25 11h-7.5A1.75 1.75 0 0 1 5 9.25Zm1.75-.25a.25.25 0 0 0-.25.25v7.5c0 .138.112.25.25.25h7.5a.25.25 0 0 0 .25-.25v-7.5a.25.25 0 0 0-.25-.25Z"></path></svg></button></div></div></div></div><div id="StickyHeader" class="Box-sc-g0xbh4-0 bDwCYs react-code-view-header--wide"><div class="Box-sc-g0xbh4-0 fywjmm"><div class="Box-sc-g0xbh4-0 dyczTK"><div class="Box-sc-g0xbh4-0 kszRgZ"><div class="Box-sc-g0xbh4-0 eTvGbF"><nav data-testid="breadcrumbs" aria-labelledby="repos-header-breadcrumb-wide-heading" id="repos-header-breadcrumb-wide" class="Box-sc-g0xbh4-0 kzRgrI"><h2 class="Heading__StyledHeading-sc-1c1dgg0-0 cgQnMS sr-only" data-testid="screen-reader-heading" id="repos-header-breadcrumb-wide-heading">Breadcrumbs</h2><ol class="Box-sc-g0xbh4-0 cmAPIB"><li class="Box-sc-g0xbh4-0 jwXCBK"><a sx="[object Object]" data-testid="breadcrumbs-repo-link" class="Link__StyledLink-sc-14289xe-0 eVjWum" href="/cursodatafundamentals/granada/tree/main">granada</a></li><li class="Box-sc-g0xbh4-0 jwXCBK"><span aria-hidden="true" class="Text-sc-17v1xeu-0 ivLLle">/</span><a sx="[object Object]" class="Link__StyledLink-sc-14289xe-0 dYxKVs" href="/cursodatafundamentals/granada/tree/main/Day%206">Day 6</a></li></ol></nav><div data-testid="breadcrumbs-filename" class="Box-sc-g0xbh4-0 jwXCBK"><span aria-hidden="true" class="Text-sc-17v1xeu-0 ivLLle">/</span><h1 tabindex="-1" id="file-name-id-wide" class="Heading__StyledHeading-sc-1c1dgg0-0 diwsLq">M5 - 05 - EXTRA - Clases - Solución.ipynb</h1></div><button data-component="IconButton" type="button" aria-label="Copy path" data-testid="breadcrumb-copy-path-button" data-size="small" data-no-visuals="true" class="types__StyledButton-sc-ws60qy-0 cdPrCH"><svg aria-hidden="true" focusable="false" role="img" class="octicon octicon-copy" viewBox="0 0 16 16" width="16" height="16" fill="currentColor" style="display:inline-block;user-select:none;vertical-align:text-bottom;overflow:visible"><path d="M0 6.75C0 5.784.784 5 1.75 5h1.5a.75.75 0 0 1 0 1.5h-1.5a.25.25 0 0 0-.25.25v7.5c0 .138.112.25.25.25h7.5a.25.25 0 0 0 .25-.25v-1.5a.75.75 0 0 1 1.5 0v1.5A1.75 1.75 0 0 1 9.25 16h-7.5A1.75 1.75 0 0 1 0 14.25Z"></path><path d="M5 1.75C5 .784 5.784 0 6.75 0h7.5C15.216 0 16 .784 16 1.75v7.5A1.75 1.75 0 0 1 14.25 11h-7.5A1.75 1.75 0 0 1 5 9.25Zm1.75-.25a.25.25 0 0 0-.25.25v7.5c0 .138.112.25.25.25h7.5a.25.25 0 0 0 .25-.25v-7.5a.25.25 0 0 0-.25-.25Z"></path></svg></button></div></div><div class="Box-sc-g0xbh4-0 gtBUEp"><div class="d-flex gap-2"> <button type="button" data-no-visuals="true" class="types__StyledButton-sc-ws60qy-0 hMBGua"><span data-component="buttonContent" class="Box-sc-g0xbh4-0 kkrdEu"><span data-component="text">Blame</span></span></button><button hidden="" data-testid="" data-hotkey-scope="read-only-cursor-text-area"></button><button data-component="IconButton" type="button" aria-label="More file actions" class="types__StyledButton-sc-ws60qy-0 bDzORU js-blob-dropdown-click" title="More file actions" data-testid="more-file-actions-button" id=":R9pkqjal5:" aria-haspopup="true" tabindex="0" data-no-visuals="true"><svg aria-hidden="true" focusable="false" role="img" class="octicon octicon-kebab-horizontal" viewBox="0 0 16 16" width="16" height="16" fill="currentColor" style="display:inline-block;user-select:none;vertical-align:text-bottom;overflow:visible"><path d="M8 9a1.5 1.5 0 1 0 0-3 1.5 1.5 0 0 0 0 3ZM1.5 9a1.5 1.5 0 1 0 0-3 1.5 1.5 0 0 0 0 3Zm13 0a1.5 1.5 0 1 0 0-3 1.5 1.5 0 0 0 0 3Z"></path></svg></button> </div></div></div></div></div></div></div><div class="Box-sc-g0xbh4-0 MERGN react-code-view-bottom-padding"> <div class="Box-sc-g0xbh4-0 cMYnca"></div><div class="Box-sc-g0xbh4-0"></div> <!-- --> <!-- --> </div><div class="Box-sc-g0xbh4-0 MERGN"> <!-- --> <!-- --> <div class="Box-sc-g0xbh4-0 kLxXov"><div class="Box-sc-g0xbh4-0 eYedVD"><h2 class="Heading__StyledHeading-sc-1c1dgg0-0 cgQnMS sr-only" data-testid="screen-reader-heading">Latest commit</h2><div style="width:120px" class="Skeleton Skeleton--text" data-testid="loading"> </div><div class="Box-sc-g0xbh4-0 jGfYmh"><div data-testid="latest-commit-details" class="Box-sc-g0xbh4-0 lhFvfi"></div><h2 class="Heading__StyledHeading-sc-1c1dgg0-0 cgQnMS sr-only" data-testid="screen-reader-heading">History</h2><a aria-label="Commit history" class="types__StyledButton-sc-ws60qy-0 iUmUix react-last-commit-history-group" href="/cursodatafundamentals/granada/commits/main/Day%206/M5%20-%2005%20-%20EXTRA%20-%20Clases%20-%20Soluci%C3%B3n.ipynb" data-size="small"><span data-component="buttonContent" class="Box-sc-g0xbh4-0 kkrdEu"><span data-component="leadingVisual" class="Box-sc-g0xbh4-0 trpoQ"><svg aria-hidden="true" focusable="false" role="img" class="octicon octicon-history" viewBox="0 0 16 16" width="16" height="16" fill="currentColor" style="display:inline-block;user-select:none;vertical-align:text-bottom;overflow:visible"><path d="m.427 1.927 1.215 1.215a8.002 8.002 0 1 1-1.6 5.685.75.75 0 1 1 1.493-.154 6.5 6.5 0 1 0 1.18-4.458l1.358 1.358A.25.25 0 0 1 3.896 6H.25A.25.25 0 0 1 0 5.75V2.104a.25.25 0 0 1 .427-.177ZM7.75 4a.75.75 0 0 1 .75.75v2.992l2.028.812a.75.75 0 0 1-.557 1.392l-2.5-1A.751.751 0 0 1 7 8.25v-3.5A.75.75 0 0 1 7.75 4Z"></path></svg></span><span data-component="text"><span class="Text-sc-17v1xeu-0 ghRVGj">History</span></span></span></a><div class="Box-sc-g0xbh4-0 bqgLjk"></div><span role="tooltip" aria-label="Commit history" class="Tooltip__TooltipBase-sc-uha8qm-0 hFFfJn tooltipped-n"><a aria-label="Commit history" class="types__StyledButton-sc-ws60qy-0 iUmUix react-last-commit-history-icon" href="/cursodatafundamentals/granada/commits/main/Day%206/M5%20-%2005%20-%20EXTRA%20-%20Clases%20-%20Soluci%C3%B3n.ipynb"><span data-component="buttonContent" class="Box-sc-g0xbh4-0 kkrdEu"><span data-component="leadingVisual" class="Box-sc-g0xbh4-0 trpoQ"><svg aria-hidden="true" focusable="false" role="img" class="octicon octicon-history" viewBox="0 0 16 16" width="16" height="16" fill="currentColor" style="display:inline-block;user-select:none;vertical-align:text-bottom;overflow:visible"><path d="m.427 1.927 1.215 1.215a8.002 8.002 0 1 1-1.6 5.685.75.75 0 1 1 1.493-.154 6.5 6.5 0 1 0 1.18-4.458l1.358 1.358A.25.25 0 0 1 3.896 6H.25A.25.25 0 0 1 0 5.75V2.104a.25.25 0 0 1 .427-.177ZM7.75 4a.75.75 0 0 1 .75.75v2.992l2.028.812a.75.75 0 0 1-.557 1.392l-2.5-1A.751.751 0 0 1 7 8.25v-3.5A.75.75 0 0 1 7.75 4Z"></path></svg></span></span></a></span></div></div></div><div class="Box-sc-g0xbh4-0 iJmJly"><div class="Box-sc-g0xbh4-0 jACbi container"><div class="Box-sc-g0xbh4-0 bSdwWB react-code-size-details-banner"><div class="Box-sc-g0xbh4-0 fleZSW react-code-size-details-banner"><div class="Box-sc-g0xbh4-0 bZpGqz text-mono"><div title="188 KB" data-testid="blob-size" class="Truncate__StyledTruncate-sc-23o1d2-0 fUpWeN"><span class="Text-sc-17v1xeu-0 gPDEWA">1 lines (1 loc) · 188 KB</span></div></div></div><div class="Box-sc-g0xbh4-0 react-code-size-details-banner"><button type="button" id=":R2bqlajal5:" aria-haspopup="true" tabindex="0" data-testid="copilot-popover-button" data-size="small" class="types__StyledButton-sc-ws60qy-0 gWBIfb"><span data-component="buttonContent" class="Box-sc-g0xbh4-0 kkrdEu"><span data-component="leadingVisual" class="Box-sc-g0xbh4-0 trpoQ"><svg aria-hidden="true" focusable="false" role="img" class="octicon octicon-copilot" viewBox="0 0 16 16" width="16" height="16" fill="currentColor" style="display:inline-block;user-select:none;vertical-align:text-bottom;overflow:visible"><path d="M6.25 9a.75.75 0 0 1 .75.75v1.5a.75.75 0 0 1-1.5 0v-1.5A.75.75 0 0 1 6.25 9Zm4.25.75a.75.75 0 0 0-1.5 0v1.5a.75.75 0 0 0 1.5 0v-1.5Z"></path><path d="M7.86 1.77c.05.053.097.107.14.164.043-.057.09-.111.14-.164.681-.731 1.737-.9 2.943-.765 1.23.136 2.145.527 2.724 1.26.566.716.693 1.614.693 2.485 0 .572-.053 1.147-.254 1.655l.168.838.066.033A2.75 2.75 0 0 1 16 9.736V11c0 .24-.086.438-.156.567-.073.131-.16.253-.259.366-.18.21-.404.413-.605.58a10.19 10.19 0 0 1-.792.597l-.015.01-.006.004-.028.018a8.849 8.849 0 0 1-.456.281c-.307.177-.749.41-1.296.642C11.296 14.528 9.756 15 8 15c-1.756 0-3.296-.472-4.387-.935a12.28 12.28 0 0 1-1.296-.641 8.849 8.849 0 0 1-.456-.281l-.028-.02-.006-.003-.015-.01a10.593 10.593 0 0 1-.792-.596 5.264 5.264 0 0 1-.605-.58 2.133 2.133 0 0 1-.259-.367A1.189 1.189 0 0 1 0 11V9.736a2.75 2.75 0 0 1 1.52-2.46l.067-.033.167-.838C1.553 5.897 1.5 5.322 1.5 4.75c0-.87.127-1.77.693-2.485.579-.733 1.494-1.124 2.724-1.26 1.206-.134 2.262.034 2.944.765ZM3 7.824v4.261c.02.013.043.025.065.038.264.152.65.356 1.134.562.972.412 2.307.815 3.801.815 1.494 0 2.83-.403 3.8-.815.412-.174.813-.375 1.2-.6v-4.26l-.023-.116c-.49.21-1.075.291-1.727.291-1.146 0-2.06-.328-2.71-.991A3.233 3.233 0 0 1 8 6.266c-.144.269-.321.52-.54.743C6.81 7.672 5.896 8 4.75 8c-.652 0-1.236-.082-1.726-.291L3 7.824Zm6.237-5.031c-.204.218-.359.678-.242 1.614.091.726.303 1.23.618 1.553.299.304.784.54 1.638.54.922 0 1.28-.199 1.442-.38.179-.2.308-.578.308-1.37 0-.765-.123-1.242-.37-1.555-.233-.296-.693-.586-1.713-.7-1.044-.116-1.488.091-1.681.298Zm-2.472 0c-.193-.207-.637-.414-1.681-.298-1.02.114-1.48.404-1.713.7-.247.313-.37.79-.37 1.555 0 .792.129 1.17.308 1.37.162.181.52.38 1.442.38.854 0 1.339-.236 1.638-.54.315-.323.527-.827.618-1.553.117-.936-.038-1.396-.242-1.614Z"></path></svg></span><span data-component="text">Code 55% faster with GitHub Copilot</span></span></button></div></div><div class="Box-sc-g0xbh4-0 gBKNLX react-blob-view-header-sticky" id="repos-sticky-header"><div class="Box-sc-g0xbh4-0 ePiodO"><div class="Box-sc-g0xbh4-0 react-blob-sticky-header"><div class="Box-sc-g0xbh4-0 kQJlnf"><div class="Box-sc-g0xbh4-0 gJICKO"><div class="Box-sc-g0xbh4-0 iZJewz"><nav data-testid="breadcrumbs" aria-labelledby="sticky-breadcrumb-heading" id="sticky-breadcrumb" class="Box-sc-g0xbh4-0 kzRgrI"><h2 class="Heading__StyledHeading-sc-1c1dgg0-0 cgQnMS sr-only" data-testid="screen-reader-heading" id="sticky-breadcrumb-heading">Breadcrumbs</h2><ol class="Box-sc-g0xbh4-0 cmAPIB"><li class="Box-sc-g0xbh4-0 jwXCBK"><a sx="[object Object]" data-testid="breadcrumbs-repo-link" class="Link__StyledLink-sc-14289xe-0 eVjWum" href="/cursodatafundamentals/granada/tree/main">granada</a></li><li class="Box-sc-g0xbh4-0 jwXCBK"><span aria-hidden="true" class="Text-sc-17v1xeu-0 dZAxGI">/</span><a sx="[object Object]" class="Link__StyledLink-sc-14289xe-0 dYxKVs" href="/cursodatafundamentals/granada/tree/main/Day%206">Day 6</a></li></ol></nav><div data-testid="breadcrumbs-filename" class="Box-sc-g0xbh4-0 jwXCBK"><span aria-hidden="true" class="Text-sc-17v1xeu-0 dZAxGI">/</span><h1 tabindex="-1" id="sticky-file-name-id" class="Heading__StyledHeading-sc-1c1dgg0-0 jAEDJk">M5 - 05 - EXTRA - Clases - Solución.ipynb</h1></div></div><button type="button" data-size="small" class="types__StyledButton-sc-ws60qy-0 iVkWL"><span data-component="buttonContent" class="Box-sc-g0xbh4-0 kkrdEu"><span data-component="leadingVisual" class="Box-sc-g0xbh4-0 trpoQ"><svg aria-hidden="true" focusable="false" role="img" class="octicon octicon-arrow-up" viewBox="0 0 16 16" width="16" height="16" fill="currentColor" style="display:inline-block;user-select:none;vertical-align:text-bottom;overflow:visible"><path d="M3.47 7.78a.75.75 0 0 1 0-1.06l4.25-4.25a.75.75 0 0 1 1.06 0l4.25 4.25a.751.751 0 0 1-.018 1.042.751.751 0 0 1-1.042.018L9 4.81v7.44a.75.75 0 0 1-1.5 0V4.81L4.53 7.78a.75.75 0 0 1-1.06 0Z"></path></svg></span><span data-component="text">Top</span></span></button></div></div></div><div class="Box-sc-g0xbh4-0 bvEDG"><h2 class="Heading__StyledHeading-sc-1c1dgg0-0 cgQnMS sr-only" data-testid="screen-reader-heading">File metadata and controls</h2><div class="Box-sc-g0xbh4-0 bfkNRF"><ul aria-label="File view" class="SegmentedControl__SegmentedControlList-sc-1rzig82-0 iYVwMz"><li class="Box-sc-g0xbh4-0 fXBLEV"><button aria-current="true" class="SegmentedControlButton__SegmentedControlButtonStyled-sc-8lkgxl-0 bDmUQT"><span class="segmentedControl-content"><div class="Box-sc-g0xbh4-0 segmentedControl-text">Preview</div></span></button></li><li class="Box-sc-g0xbh4-0 jkTWSe"><button aria-current="false" class="SegmentedControlButton__SegmentedControlButtonStyled-sc-8lkgxl-0 fzMylw"><span class="segmentedControl-content"><div class="Box-sc-g0xbh4-0 segmentedControl-text">Code</div></span></button></li><li class="Box-sc-g0xbh4-0 jkTWSe"><button aria-current="false" class="SegmentedControlButton__SegmentedControlButtonStyled-sc-8lkgxl-0 hBvGcq"><span class="segmentedControl-content"><div class="Box-sc-g0xbh4-0 segmentedControl-text">Blame</div></span></button></li></ul><button hidden="" data-testid="" data-hotkey-scope="read-only-cursor-text-area"></button><button hidden="" data-testid="" data-hotkey-scope="read-only-cursor-text-area"></button><button hidden="" data-testid="" data-hotkey-scope="read-only-cursor-text-area"></button><div class="Box-sc-g0xbh4-0 fleZSW react-code-size-details-in-header"><div class="Box-sc-g0xbh4-0 bZpGqz text-mono"><div title="188 KB" data-testid="blob-size" class="Truncate__StyledTruncate-sc-23o1d2-0 fUpWeN"><span class="Text-sc-17v1xeu-0 gPDEWA">1 lines (1 loc) · 188 KB</span></div></div></div><div class="Box-sc-g0xbh4-0 react-code-size-details-in-header"><button type="button" id=":R79jqlajal5:" aria-haspopup="true" tabindex="0" data-testid="copilot-popover-button" data-size="small" class="types__StyledButton-sc-ws60qy-0 gWBIfb"><span data-component="buttonContent" class="Box-sc-g0xbh4-0 kkrdEu"><span data-component="leadingVisual" class="Box-sc-g0xbh4-0 trpoQ"><svg aria-hidden="true" focusable="false" role="img" class="octicon octicon-copilot" viewBox="0 0 16 16" width="16" height="16" fill="currentColor" style="display:inline-block;user-select:none;vertical-align:text-bottom;overflow:visible"><path d="M6.25 9a.75.75 0 0 1 .75.75v1.5a.75.75 0 0 1-1.5 0v-1.5A.75.75 0 0 1 6.25 9Zm4.25.75a.75.75 0 0 0-1.5 0v1.5a.75.75 0 0 0 1.5 0v-1.5Z"></path><path d="M7.86 1.77c.05.053.097.107.14.164.043-.057.09-.111.14-.164.681-.731 1.737-.9 2.943-.765 1.23.136 2.145.527 2.724 1.26.566.716.693 1.614.693 2.485 0 .572-.053 1.147-.254 1.655l.168.838.066.033A2.75 2.75 0 0 1 16 9.736V11c0 .24-.086.438-.156.567-.073.131-.16.253-.259.366-.18.21-.404.413-.605.58a10.19 10.19 0 0 1-.792.597l-.015.01-.006.004-.028.018a8.849 8.849 0 0 1-.456.281c-.307.177-.749.41-1.296.642C11.296 14.528 9.756 15 8 15c-1.756 0-3.296-.472-4.387-.935a12.28 12.28 0 0 1-1.296-.641 8.849 8.849 0 0 1-.456-.281l-.028-.02-.006-.003-.015-.01a10.593 10.593 0 0 1-.792-.596 5.264 5.264 0 0 1-.605-.58 2.133 2.133 0 0 1-.259-.367A1.189 1.189 0 0 1 0 11V9.736a2.75 2.75 0 0 1 1.52-2.46l.067-.033.167-.838C1.553 5.897 1.5 5.322 1.5 4.75c0-.87.127-1.77.693-2.485.579-.733 1.494-1.124 2.724-1.26 1.206-.134 2.262.034 2.944.765ZM3 7.824v4.261c.02.013.043.025.065.038.264.152.65.356 1.134.562.972.412 2.307.815 3.801.815 1.494 0 2.83-.403 3.8-.815.412-.174.813-.375 1.2-.6v-4.26l-.023-.116c-.49.21-1.075.291-1.727.291-1.146 0-2.06-.328-2.71-.991A3.233 3.233 0 0 1 8 6.266c-.144.269-.321.52-.54.743C6.81 7.672 5.896 8 4.75 8c-.652 0-1.236-.082-1.726-.291L3 7.824Zm6.237-5.031c-.204.218-.359.678-.242 1.614.091.726.303 1.23.618 1.553.299.304.784.54 1.638.54.922 0 1.28-.199 1.442-.38.179-.2.308-.578.308-1.37 0-.765-.123-1.242-.37-1.555-.233-.296-.693-.586-1.713-.7-1.044-.116-1.488.091-1.681.298Zm-2.472 0c-.193-.207-.637-.414-1.681-.298-1.02.114-1.48.404-1.713.7-.247.313-.37.79-.37 1.555 0 .792.129 1.17.308 1.37.162.181.52.38 1.442.38.854 0 1.339-.236 1.638-.54.315-.323.527-.827.618-1.553.117-.936-.038-1.396-.242-1.614Z"></path></svg></span><span data-component="text">Code 55% faster with GitHub Copilot</span></span></button></div></div><div class="Box-sc-g0xbh4-0 iBylDf"><div class="Box-sc-g0xbh4-0 kSGBPx react-blob-header-edit-and-raw-actions"><div class="ButtonGroup-sc-1gxhls1-0 cjbBGq"><a href="https://github.com/cursodatafundamentals/granada/raw/main/Day%206/M5%20-%2005%20-%20EXTRA%20-%20Clases%20-%20Soluci%C3%B3n.ipynb" data-testid="raw-button" data-size="small" data-no-visuals="true" class="types__StyledButton-sc-ws60qy-0 jxAJvV"><span data-component="buttonContent" class="Box-sc-g0xbh4-0 kkrdEu"><span data-component="text">Raw</span></span></a><button data-component="IconButton" type="button" aria-label="Copy raw content" data-testid="copy-raw-button" data-size="small" data-no-visuals="true" class="types__StyledButton-sc-ws60qy-0 iCOrao"><svg aria-hidden="true" focusable="false" role="img" class="octicon octicon-copy" viewBox="0 0 16 16" width="16" height="16" fill="currentColor" style="display:inline-block;user-select:none;vertical-align:text-bottom;overflow:visible"><path d="M0 6.75C0 5.784.784 5 1.75 5h1.5a.75.75 0 0 1 0 1.5h-1.5a.25.25 0 0 0-.25.25v7.5c0 .138.112.25.25.25h7.5a.25.25 0 0 0 .25-.25v-1.5a.75.75 0 0 1 1.5 0v1.5A1.75 1.75 0 0 1 9.25 16h-7.5A1.75 1.75 0 0 1 0 14.25Z"></path><path d="M5 1.75C5 .784 5.784 0 6.75 0h7.5C15.216 0 16 .784 16 1.75v7.5A1.75 1.75 0 0 1 14.25 11h-7.5A1.75 1.75 0 0 1 5 9.25Zm1.75-.25a.25.25 0 0 0-.25.25v7.5c0 .138.112.25.25.25h7.5a.25.25 0 0 0 .25-.25v-7.5a.25.25 0 0 0-.25-.25Z"></path></svg></button><span role="tooltip" aria-label="Download raw file" class="Tooltip__TooltipBase-sc-uha8qm-0 hFFfJn tooltipped-n"><button data-component="IconButton" type="button" aria-label="Download raw content" data-testid="download-raw-button" data-size="small" data-no-visuals="true" class="types__StyledButton-sc-ws60qy-0 WblXz"><svg aria-hidden="true" focusable="false" role="img" class="octicon octicon-download" viewBox="0 0 16 16" width="16" height="16" fill="currentColor" style="display:inline-block;user-select:none;vertical-align:text-bottom;overflow:visible"><path d="M2.75 14A1.75 1.75 0 0 1 1 12.25v-2.5a.75.75 0 0 1 1.5 0v2.5c0 .138.112.25.25.25h10.5a.25.25 0 0 0 .25-.25v-2.5a.75.75 0 0 1 1.5 0v2.5A1.75 1.75 0 0 1 13.25 14Z"></path><path d="M7.25 7.689V2a.75.75 0 0 1 1.5 0v5.689l1.97-1.969a.749.749 0 1 1 1.06 1.06l-3.25 3.25a.749.749 0 0 1-1.06 0L4.22 6.78a.749.749 0 1 1 1.06-1.06l1.97 1.969Z"></path></svg></button></span></div><button hidden="" data-testid="raw-button-shortcut" data-hotkey-scope="read-only-cursor-text-area"></button><button hidden="" data-testid="copy-raw-button-shortcut" data-hotkey-scope="read-only-cursor-text-area"></button><button hidden="" data-testid="download-raw-button-shortcut" data-hotkey-scope="read-only-cursor-text-area"></button><a class="Link__StyledLink-sc-14289xe-0 fIqerb js-github-dev-shortcut d-none" href="https://github.dev/"></a><button hidden="" data-testid="" data-hotkey-scope="read-only-cursor-text-area"></button><a class="Link__StyledLink-sc-14289xe-0 fIqerb js-github-dev-new-tab-shortcut d-none" href="https://github.dev/" target="_blank"></a><button hidden="" data-testid="" data-hotkey-scope="read-only-cursor-text-area"></button><div class="ButtonGroup-sc-1gxhls1-0 cjbBGq"><span role="tooltip" aria-label="Edit this file" class="Tooltip__TooltipBase-sc-uha8qm-0 hFFfJn tooltipped-nw"><a sx="[object Object]" data-component="IconButton" type="button" aria-label="Edit file" data-testid="edit-button" data-size="small" data-no-visuals="true" class="types__StyledButton-sc-ws60qy-0 ftQSWB" href="/cursodatafundamentals/granada/edit/main/Day%206/M5%20-%2005%20-%20EXTRA%20-%20Clases%20-%20Soluci%C3%B3n.ipynb"><svg aria-hidden="true" focusable="false" role="img" class="octicon octicon-pencil" viewBox="0 0 16 16" width="16" height="16" fill="currentColor" style="display:inline-block;user-select:none;vertical-align:text-bottom;overflow:visible"><path d="M11.013 1.427a1.75 1.75 0 0 1 2.474 0l1.086 1.086a1.75 1.75 0 0 1 0 2.474l-8.61 8.61c-.21.21-.47.364-.756.445l-3.251.93a.75.75 0 0 1-.927-.928l.929-3.25c.081-.286.235-.547.445-.758l8.61-8.61Zm.176 4.823L9.75 4.81l-6.286 6.287a.253.253 0 0 0-.064.108l-.558 1.953 1.953-.558a.253.253 0 0 0 .108-.064Zm1.238-3.763a.25.25 0 0 0-.354 0L10.811 3.75l1.439 1.44 1.263-1.263a.25.25 0 0 0 0-.354Z"></path></svg></a></span><button data-component="IconButton" type="button" aria-label="More edit options" data-testid="more-edit-button" id=":Rl7pjqlajal5:" aria-haspopup="true" tabindex="0" data-size="small" data-no-visuals="true" class="types__StyledButton-sc-ws60qy-0 iCOrao"><svg aria-hidden="true" focusable="false" role="img" class="octicon octicon-triangle-down" viewBox="0 0 16 16" width="16" height="16" fill="currentColor" style="display:inline-block;user-select:none;vertical-align:text-bottom;overflow:visible"><path d="m4.427 7.427 3.396 3.396a.25.25 0 0 0 .354 0l3.396-3.396A.25.25 0 0 0 11.396 7H4.604a.25.25 0 0 0-.177.427Z"></path></svg></button></div><button hidden="" data-testid="" data-hotkey="e,E" data-hotkey-scope="read-only-cursor-text-area"></button></div><div class="Box-sc-g0xbh4-0 react-blob-header-edit-and-raw-actions-combined"><button data-component="IconButton" type="button" aria-label="Edit and raw actions" class="types__StyledButton-sc-ws60qy-0 ksLyfZ js-blob-dropdown-click" title="More file actions" data-testid="more-file-actions-button" id=":R1dpjqlajal5:" aria-haspopup="true" tabindex="0" data-size="small" data-no-visuals="true"><svg aria-hidden="true" focusable="false" role="img" class="octicon octicon-kebab-horizontal" viewBox="0 0 16 16" width="16" height="16" fill="currentColor" style="display:inline-block;user-select:none;vertical-align:text-bottom;overflow:visible"><path d="M8 9a1.5 1.5 0 1 0 0-3 1.5 1.5 0 0 0 0 3ZM1.5 9a1.5 1.5 0 1 0 0-3 1.5 1.5 0 0 0 0 3Zm13 0a1.5 1.5 0 1 0 0-3 1.5 1.5 0 0 0 0 3Z"></path></svg></button></div></div></div></div><div class="Box-sc-g0xbh4-0"></div></div><div class="Box-sc-g0xbh4-0 flDsrw"><section aria-labelledby="file-name-id-wide file-name-id-mobile" class="Box-sc-g0xbh4-0 eJsjkT"><!--$!--><template></template><div data-testid="suspense-spinner" class="Box-sc-g0xbh4-0 bAzdCq"><svg height="32px" width="32px" viewBox="0 0 16 16" fill="none" aria-label="Loading" class="Spinner__StyledSpinner-sc-1knt686-0 hPEVNM"><circle cx="8" cy="8" r="7" stroke="currentColor" stroke-opacity="0.25" stroke-width="2" vector-effect="non-scaling-stroke"></circle><path d="M15 8a7.002 7.002 0 00-7-7" stroke="currentColor" stroke-width="2" stroke-linecap="round" vector-effect="non-scaling-stroke"></path></svg></div><!--/$--></section></div></div></div> <!-- --> <!-- --> </div></div></div><div class="Box-sc-g0xbh4-0"></div></main></div></div></div><div id="find-result-marks-container" class="Box-sc-g0xbh4-0 aZrVR"></div><button hidden="" data-testid="" data-hotkey-scope="read-only-cursor-text-area"></button><button hidden=""></button></div> <!-- --> <!-- --> <!-- --> <script type="application/json" id="__PRIMER_DATA__">{"resolvedServerColorMode":"day"}</script></div>
</react-app>
</turbo-frame>



  </div>

</turbo-frame>

    </main>
  </div>

  </div>

          <footer class="footer width-full container-xl p-responsive" role="contentinfo">
  <h2 class='sr-only'>Footer</h2>

  <div class="position-relative d-flex flex-items-center pb-2 f6 color-fg-muted border-top color-border-muted flex-column-reverse flex-lg-row flex-wrap flex-lg-nowrap mt-6 pt-6">
    <div class="list-style-none d-flex flex-wrap col-0 col-lg-2 flex-justify-start flex-lg-justify-between mb-2 mb-lg-0">
      <div class="mt-2 mt-lg-0 d-flex flex-items-center">
        <a aria-label="Homepage" title="GitHub" class="footer-octicon mr-2" href="https://github.com">
          <svg aria-hidden="true" height="24" viewBox="0 0 16 16" version="1.1" width="24" data-view-component="true" class="octicon octicon-mark-github">
    <path d="M8 0c4.42 0 8 3.58 8 8a8.013 8.013 0 0 1-5.45 7.59c-.4.08-.55-.17-.55-.38 0-.27.01-1.13.01-2.2 0-.75-.25-1.23-.54-1.48 1.78-.2 3.65-.88 3.65-3.95 0-.88-.31-1.59-.82-2.15.08-.2.36-1.02-.08-2.12 0 0-.67-.22-2.2.82-.64-.18-1.32-.27-2-.27-.68 0-1.36.09-2 .27-1.53-1.03-2.2-.82-2.2-.82-.44 1.1-.16 1.92-.08 2.12-.51.56-.82 1.28-.82 2.15 0 3.06 1.86 3.75 3.64 3.95-.23.2-.44.55-.51 1.07-.46.21-1.61.55-2.33-.66-.15-.24-.6-.83-1.23-.82-.67.01-.27.38.01.53.34.19.73.9.82 1.13.16.45.68 1.31 2.69.94 0 .67.01 1.3.01 1.49 0 .21-.15.45-.55.38A7.995 7.995 0 0 1 0 8c0-4.42 3.58-8 8-8Z"></path>
</svg>
</a>        <span>
        &copy; 2023 GitHub, Inc.
        </span>
      </div>
    </div>

    <nav aria-label='Footer' class="col-12 col-lg-8">
      <h3 class='sr-only' id='sr-footer-heading'>Footer navigation</h3>
      <ul class="list-style-none d-flex flex-wrap col-12 flex-justify-center flex-lg-justify-between mb-2 mb-lg-0" aria-labelledby='sr-footer-heading'>
          <li class="mr-3 mr-lg-0"><a href="https://docs.github.com/site-policy/github-terms/github-terms-of-service" data-analytics-event="{&quot;category&quot;:&quot;Footer&quot;,&quot;action&quot;:&quot;go to terms&quot;,&quot;label&quot;:&quot;text:terms&quot;}">Terms</a></li>
          <li class="mr-3 mr-lg-0"><a href="https://docs.github.com/site-policy/privacy-policies/github-privacy-statement" data-analytics-event="{&quot;category&quot;:&quot;Footer&quot;,&quot;action&quot;:&quot;go to privacy&quot;,&quot;label&quot;:&quot;text:privacy&quot;}">Privacy</a></li>
          <li class="mr-3 mr-lg-0"><a data-analytics-event="{&quot;category&quot;:&quot;Footer&quot;,&quot;action&quot;:&quot;go to security&quot;,&quot;label&quot;:&quot;text:security&quot;}" href="https://github.com/security">Security</a></li>
          <li class="mr-3 mr-lg-0"><a href="https://www.githubstatus.com/" data-analytics-event="{&quot;category&quot;:&quot;Footer&quot;,&quot;action&quot;:&quot;go to status&quot;,&quot;label&quot;:&quot;text:status&quot;}">Status</a></li>
          <li class="mr-3 mr-lg-0"><a data-ga-click="Footer, go to help, text:Docs" href="https://docs.github.com">Docs</a></li>
          <li class="mr-3 mr-lg-0"><a href="https://support.github.com?tags=dotcom-footer" data-analytics-event="{&quot;category&quot;:&quot;Footer&quot;,&quot;action&quot;:&quot;go to contact&quot;,&quot;label&quot;:&quot;text:contact&quot;}">Contact GitHub</a></li>
          <li class="mr-3 mr-lg-0"><a href="https://github.com/pricing" data-analytics-event="{&quot;category&quot;:&quot;Footer&quot;,&quot;action&quot;:&quot;go to Pricing&quot;,&quot;label&quot;:&quot;text:Pricing&quot;}">Pricing</a></li>
        <li class="mr-3 mr-lg-0"><a href="https://docs.github.com" data-analytics-event="{&quot;category&quot;:&quot;Footer&quot;,&quot;action&quot;:&quot;go to api&quot;,&quot;label&quot;:&quot;text:api&quot;}">API</a></li>
        <li class="mr-3 mr-lg-0"><a href="https://services.github.com" data-analytics-event="{&quot;category&quot;:&quot;Footer&quot;,&quot;action&quot;:&quot;go to training&quot;,&quot;label&quot;:&quot;text:training&quot;}">Training</a></li>
          <li class="mr-3 mr-lg-0"><a href="https://github.blog" data-analytics-event="{&quot;category&quot;:&quot;Footer&quot;,&quot;action&quot;:&quot;go to blog&quot;,&quot;label&quot;:&quot;text:blog&quot;}">Blog</a></li>
          <li><a data-ga-click="Footer, go to about, text:about" href="https://github.com/about">About</a></li>
      </ul>
    </nav>
  </div>

  <div class="d-flex flex-justify-center pb-6">
    <span class="f6 color-fg-muted"></span>
  </div>
</footer>




  <div id="ajax-error-message" class="ajax-error-message flash flash-error" hidden>
    <svg aria-hidden="true" height="16" viewBox="0 0 16 16" version="1.1" width="16" data-view-component="true" class="octicon octicon-alert">
    <path d="M6.457 1.047c.659-1.234 2.427-1.234 3.086 0l6.082 11.378A1.75 1.75 0 0 1 14.082 15H1.918a1.75 1.75 0 0 1-1.543-2.575Zm1.763.707a.25.25 0 0 0-.44 0L1.698 13.132a.25.25 0 0 0 .22.368h12.164a.25.25 0 0 0 .22-.368Zm.53 3.996v2.5a.75.75 0 0 1-1.5 0v-2.5a.75.75 0 0 1 1.5 0ZM9 11a1 1 0 1 1-2 0 1 1 0 0 1 2 0Z"></path>
</svg>
    <button type="button" class="flash-close js-ajax-error-dismiss" aria-label="Dismiss error">
      <svg aria-hidden="true" height="16" viewBox="0 0 16 16" version="1.1" width="16" data-view-component="true" class="octicon octicon-x">
    <path d="M3.72 3.72a.75.75 0 0 1 1.06 0L8 6.94l3.22-3.22a.749.749 0 0 1 1.275.326.749.749 0 0 1-.215.734L9.06 8l3.22 3.22a.749.749 0 0 1-.326 1.275.749.749 0 0 1-.734-.215L8 9.06l-3.22 3.22a.751.751 0 0 1-1.042-.018.751.751 0 0 1-.018-1.042L6.94 8 3.72 4.78a.75.75 0 0 1 0-1.06Z"></path>
</svg>
    </button>
    You can’t perform that action at this time.
  </div>

    <template id="site-details-dialog">
  <details class="details-reset details-overlay details-overlay-dark lh-default color-fg-default hx_rsm" open>
    <summary role="button" aria-label="Close dialog"></summary>
    <details-dialog class="Box Box--overlay d-flex flex-column anim-fade-in fast hx_rsm-dialog hx_rsm-modal">
      <button class="Box-btn-octicon m-0 btn-octicon position-absolute right-0 top-0" type="button" aria-label="Close dialog" data-close-dialog>
        <svg aria-hidden="true" height="16" viewBox="0 0 16 16" version="1.1" width="16" data-view-component="true" class="octicon octicon-x">
    <path d="M3.72 3.72a.75.75 0 0 1 1.06 0L8 6.94l3.22-3.22a.749.749 0 0 1 1.275.326.749.749 0 0 1-.215.734L9.06 8l3.22 3.22a.749.749 0 0 1-.326 1.275.749.749 0 0 1-.734-.215L8 9.06l-3.22 3.22a.751.751 0 0 1-1.042-.018.751.751 0 0 1-.018-1.042L6.94 8 3.72 4.78a.75.75 0 0 1 0-1.06Z"></path>
</svg>
      </button>
      <div class="octocat-spinner my-6 js-details-dialog-spinner"></div>
    </details-dialog>
  </details>
</template>

    <div class="Popover js-hovercard-content position-absolute" style="display: none; outline: none;" tabindex="0">
  <div class="Popover-message Popover-message--bottom-left Popover-message--large Box color-shadow-large" style="width:360px;">
  </div>
</div>

    <template id="snippet-clipboard-copy-button">
  <div class="zeroclipboard-container position-absolute right-0 top-0">
    <clipboard-copy aria-label="Copy" class="ClipboardButton btn js-clipboard-copy m-2 p-0 tooltipped-no-delay" data-copy-feedback="Copied!" data-tooltip-direction="w">
      <svg aria-hidden="true" height="16" viewBox="0 0 16 16" version="1.1" width="16" data-view-component="true" class="octicon octicon-copy js-clipboard-copy-icon m-2">
    <path d="M0 6.75C0 5.784.784 5 1.75 5h1.5a.75.75 0 0 1 0 1.5h-1.5a.25.25 0 0 0-.25.25v7.5c0 .138.112.25.25.25h7.5a.25.25 0 0 0 .25-.25v-1.5a.75.75 0 0 1 1.5 0v1.5A1.75 1.75 0 0 1 9.25 16h-7.5A1.75 1.75 0 0 1 0 14.25Z"></path><path d="M5 1.75C5 .784 5.784 0 6.75 0h7.5C15.216 0 16 .784 16 1.75v7.5A1.75 1.75 0 0 1 14.25 11h-7.5A1.75 1.75 0 0 1 5 9.25Zm1.75-.25a.25.25 0 0 0-.25.25v7.5c0 .138.112.25.25.25h7.5a.25.25 0 0 0 .25-.25v-7.5a.25.25 0 0 0-.25-.25Z"></path>
</svg>
      <svg aria-hidden="true" height="16" viewBox="0 0 16 16" version="1.1" width="16" data-view-component="true" class="octicon octicon-check js-clipboard-check-icon color-fg-success d-none m-2">
    <path d="M13.78 4.22a.75.75 0 0 1 0 1.06l-7.25 7.25a.75.75 0 0 1-1.06 0L2.22 9.28a.751.751 0 0 1 .018-1.042.751.751 0 0 1 1.042-.018L6 10.94l6.72-6.72a.75.75 0 0 1 1.06 0Z"></path>
</svg>
    </clipboard-copy>
  </div>
</template>
<template id="snippet-clipboard-copy-button-unpositioned">
  <div class="zeroclipboard-container">
    <clipboard-copy aria-label="Copy" class="ClipboardButton btn btn-invisible js-clipboard-copy m-2 p-0 tooltipped-no-delay d-flex flex-justify-center flex-items-center" data-copy-feedback="Copied!" data-tooltip-direction="w">
      <svg aria-hidden="true" height="16" viewBox="0 0 16 16" version="1.1" width="16" data-view-component="true" class="octicon octicon-copy js-clipboard-copy-icon">
    <path d="M0 6.75C0 5.784.784 5 1.75 5h1.5a.75.75 0 0 1 0 1.5h-1.5a.25.25 0 0 0-.25.25v7.5c0 .138.112.25.25.25h7.5a.25.25 0 0 0 .25-.25v-1.5a.75.75 0 0 1 1.5 0v1.5A1.75 1.75 0 0 1 9.25 16h-7.5A1.75 1.75 0 0 1 0 14.25Z"></path><path d="M5 1.75C5 .784 5.784 0 6.75 0h7.5C15.216 0 16 .784 16 1.75v7.5A1.75 1.75 0 0 1 14.25 11h-7.5A1.75 1.75 0 0 1 5 9.25Zm1.75-.25a.25.25 0 0 0-.25.25v7.5c0 .138.112.25.25.25h7.5a.25.25 0 0 0 .25-.25v-7.5a.25.25 0 0 0-.25-.25Z"></path>
</svg>
      <svg aria-hidden="true" height="16" viewBox="0 0 16 16" version="1.1" width="16" data-view-component="true" class="octicon octicon-check js-clipboard-check-icon color-fg-success d-none">
    <path d="M13.78 4.22a.75.75 0 0 1 0 1.06l-7.25 7.25a.75.75 0 0 1-1.06 0L2.22 9.28a.751.751 0 0 1 .018-1.042.751.751 0 0 1 1.042-.018L6 10.94l6.72-6.72a.75.75 0 0 1 1.06 0Z"></path>
</svg>
    </clipboard-copy>
  </div>
</template>


    <style>
      .user-mention[href$="/Karlett19"] {
        color: var(--color-user-mention-fg);
        background-color: var(--color-user-mention-bg);
        border-radius: 2px;
        margin-left: -2px;
        margin-right: -2px;
        padding: 0 2px;
      }
    </style>


    </div>

    <div id="js-global-screen-reader-notice" class="sr-only" aria-live="polite" ></div>
  </body>
</html>

