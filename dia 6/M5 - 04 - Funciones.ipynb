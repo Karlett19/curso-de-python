





<!DOCTYPE html>
<html lang="en" data-color-mode="auto" data-light-theme="light" data-dark-theme="dark"  data-a11y-animated-images="system" data-a11y-link-underlines="false">

    <style>
  /* for each iteration, uncomment the CSS variable */

  /* light themes */
  [data-color-mode="light"][data-light-theme*="light"],
  [data-color-mode="auto"][data-light-theme*="light"] {
    /* iteration 1 */
    --border-color-iteration-1: #C8CCD0;
    /* iteration 2 */
    --border-color-iteration-2: #BABFC5;
    /* iteration 3 */
    --border-color-iteration-3: #A6ADB4;
    /* iteration final */
    --border-color-iteration-4: #868F99;

    /* the first value is the final step, which falls back to previous iterations */
    --control-borderColor-rest: var(--border-color-iteration-4, var(--border-color-iteration-3, var(--border-color-iteration-2, var(--border-color-iteration-1)))) !important;
  }

  /* dark themes */
  [data-color-mode="dark"][data-dark-theme*="dark"],
  [data-color-mode="auto"][data-light-theme*="dark"] {
    /* iteration 1 */
    --border-color-iteration-1: #363940;
    /* iteration 2 */
    --border-color-iteration-2: #3F434B;
    /* iteration 3 */
    --border-color-iteration-3: #4B5159;
    /* iteration final */
    --border-color-iteration-4: #666E79;

    /* the first value is the final step, which falls back to previous iterations */
    --control-borderColor-rest: var(--border-color-iteration-4, var(--border-color-iteration-3, var(--border-color-iteration-2, var(--border-color-iteration-1)))) !important;
  }

  [data-color-mode="dark"][data-dark-theme="dark_dimmed"],
  [data-color-mode="dark"][data-dark-theme="light_high_contrast"],
  [data-color-mode="dark"][data-dark-theme="dark_high_contrast"],
  [data-color-mode="light"][data-light-theme="dark_dimmed"],
  [data-color-mode="light"][data-light-theme="light_high_contrast"],
  [data-color-mode="light"][data-light-theme="dark_high_contrast"] {
    /* skip these themes, use the fallback */
    --control-borderColor-rest: initial !important;
  }

  @media (prefers-color-scheme: dark) {
    /* dark colors in dark mode */
    [data-color-mode="auto"][data-dark-theme*="dark"] {
      /* iteration 1 */
      --border-color-iteration-1: #363940;
      /* iteration 2 */
      --border-color-iteration-2: #3F434B;
      /* iteration 3 */
      --border-color-iteration-3: #4B5159;
      /* iteration final */
      --border-color-iteration-4: #666E79;

      /* the first value is the final step, which falls back to previous iterations */
      --control-borderColor-rest: var(--border-color-iteration-4, var(--border-color-iteration-3, var(--border-color-iteration-2, var(--border-color-iteration-1)))) !important;
    }

    /* light colors in dark mode */
    [data-color-mode="auto"][data-dark-theme*="light"] {
      /* iteration 1 */
      --border-color-iteration-1: #C8CCD0;
      /* iteration 2 */
      --border-color-iteration-2: #BABFC5;
      /* iteration 3 */
      --border-color-iteration-3: #A6ADB4;
      /* iteration final */
      --border-color-iteration-4: #868F99;

      /* the first value is the final step, which falls back to previous iterations */
      --control-borderColor-rest: var(--border-color-iteration-4, var(--border-color-iteration-3, var(--border-color-iteration-2, var(--border-color-iteration-1)))) !important;
      }

    [data-color-mode="auto"][data-dark-theme="dark_dimmed"],
    [data-color-mode="auto"][data-dark-theme="light_high_contrast"],
    [data-color-mode="auto"][data-dark-theme="dark_high_contrast"] {
      /* skip these themes, use the fallback */
      --control-borderColor-rest: initial !important;
    }
  }

  @media (prefers-color-scheme: light) {
    /* dark colors in light mode */
    [data-color-mode="auto"][data-light-theme*="dark"] {
      /* iteration 1 */
      --border-color-iteration-1: #363940;
      /* iteration 2 */
      --border-color-iteration-2: #3F434B;
      /* iteration 3 */
      --border-color-iteration-3: #4B5159;
      /* iteration final */
      --border-color-iteration-4: #666E79;

      /* the first value is the final step, which falls back to previous iterations */
      --control-borderColor-rest: var(--border-color-iteration-4, var(--border-color-iteration-3, var(--border-color-iteration-2, var(--border-color-iteration-1)))) !important;
    }

    /* light colors in light mode */
    [data-color-mode="auto"][data-light-theme*="light"] {
      /* iteration 1 */
      --border-color-iteration-1: #C8CCD0;
      /* iteration 2 */
      --border-color-iteration-2: #BABFC5;
      /* iteration 3 */
      --border-color-iteration-3: #A6ADB4;
      /* iteration final */
      --border-color-iteration-4: #868F99;

      /* the first value is the final step, which falls back to previous iterations */
      --control-borderColor-rest: var(--border-color-iteration-4, var(--border-color-iteration-3, var(--border-color-iteration-2, var(--border-color-iteration-1)))) !important;
    }

    [data-color-mode="auto"][data-light-theme="dark_dimmed"],
    [data-color-mode="auto"][data-light-theme="light_high_contrast"],
    [data-color-mode="auto"][data-light-theme="dark_high_contrast"] {
      /* skip these themes, use the fallback */
      --control-borderColor-rest: initial !important;
    }
  }
</style>


  <head>
    <meta charset="utf-8">
  <link rel="dns-prefetch" href="https://github.githubassets.com">
  <link rel="dns-prefetch" href="https://avatars.githubusercontent.com">
  <link rel="dns-prefetch" href="https://github-cloud.s3.amazonaws.com">
  <link rel="dns-prefetch" href="https://user-images.githubusercontent.com/">
  <link rel="preconnect" href="https://github.githubassets.com" crossorigin>
  <link rel="preconnect" href="https://avatars.githubusercontent.com">

  


  <link crossorigin="anonymous" media="all" rel="stylesheet" href="https://github.githubassets.com/assets/light-b92e9647318f.css" /><link crossorigin="anonymous" media="all" rel="stylesheet" href="https://github.githubassets.com/assets/dark-5d486a4ede8e.css" /><link data-color-theme="dark_dimmed" crossorigin="anonymous" media="all" rel="stylesheet" data-href="https://github.githubassets.com/assets/dark_dimmed-27c8d635e4e5.css" /><link data-color-theme="dark_high_contrast" crossorigin="anonymous" media="all" rel="stylesheet" data-href="https://github.githubassets.com/assets/dark_high_contrast-8438e75afd36.css" /><link data-color-theme="dark_colorblind" crossorigin="anonymous" media="all" rel="stylesheet" data-href="https://github.githubassets.com/assets/dark_colorblind-bf5665b96628.css" /><link data-color-theme="light_colorblind" crossorigin="anonymous" media="all" rel="stylesheet" data-href="https://github.githubassets.com/assets/light_colorblind-c414b5ba1dce.css" /><link data-color-theme="light_high_contrast" crossorigin="anonymous" media="all" rel="stylesheet" data-href="https://github.githubassets.com/assets/light_high_contrast-e5868b7374db.css" /><link data-color-theme="light_tritanopia" crossorigin="anonymous" media="all" rel="stylesheet" data-href="https://github.githubassets.com/assets/light_tritanopia-299ac9c64ec0.css" /><link data-color-theme="dark_tritanopia" crossorigin="anonymous" media="all" rel="stylesheet" data-href="https://github.githubassets.com/assets/dark_tritanopia-3a26e78ad0ff.css" />
    <link crossorigin="anonymous" media="all" rel="stylesheet" href="https://github.githubassets.com/assets/primer-primitives-363ec1831c26.css" />
    <link crossorigin="anonymous" media="all" rel="stylesheet" href="https://github.githubassets.com/assets/primer-d6dcdf72e61d.css" />
    <link crossorigin="anonymous" media="all" rel="stylesheet" href="https://github.githubassets.com/assets/global-faa25eb56e2e.css" />
    <link crossorigin="anonymous" media="all" rel="stylesheet" href="https://github.githubassets.com/assets/github-de916a7feed5.css" />
  <link crossorigin="anonymous" media="all" rel="stylesheet" href="https://github.githubassets.com/assets/code-71ecd5638fbf.css" />

  

  <script type="application/json" id="client-env">{"locale":"en","featureFlags":["copilot_conversational_ux_streaming","failbot_handle_non_errors","geojson_azure_maps","hovercard_show_on_focus","image_metric_tracking","repository_suggester_elastic_search","turbo_experiment_risky","sample_network_conn_type","star_button_focus"]}</script>
<script crossorigin="anonymous" defer="defer" type="application/javascript" src="https://github.githubassets.com/assets/wp-runtime-00c7b97f0987.js"></script>
<script crossorigin="anonymous" defer="defer" type="application/javascript" src="https://github.githubassets.com/assets/vendors-node_modules_dompurify_dist_purify_js-64d590970fa6.js"></script>
<script crossorigin="anonymous" defer="defer" type="application/javascript" src="https://github.githubassets.com/assets/vendors-node_modules_stacktrace-parser_dist_stack-trace-parser_esm_js-node_modules_github_bro-a4c183-18bf85b8e9f4.js"></script>
<script crossorigin="anonymous" defer="defer" type="application/javascript" src="https://github.githubassets.com/assets/ui_packages_soft-nav_soft-nav_ts-56133143b228.js"></script>
<script crossorigin="anonymous" defer="defer" type="application/javascript" src="https://github.githubassets.com/assets/environment-fc6543d75794.js"></script>
<script crossorigin="anonymous" defer="defer" type="application/javascript" src="https://github.githubassets.com/assets/vendors-node_modules_github_selector-observer_dist_index_esm_js-2646a2c533e3.js"></script>
<script crossorigin="anonymous" defer="defer" type="application/javascript" src="https://github.githubassets.com/assets/vendors-node_modules_primer_behaviors_dist_esm_focus-zone_js-d55308df5023.js"></script>
<script crossorigin="anonymous" defer="defer" type="application/javascript" src="https://github.githubassets.com/assets/vendors-node_modules_github_relative-time-element_dist_index_js-99e288659d4f.js"></script>
<script crossorigin="anonymous" defer="defer" type="application/javascript" src="https://github.githubassets.com/assets/vendors-node_modules_fzy_js_index_js-node_modules_github_combobox-nav_dist_index_js-node_modu-344bff-91b70bb50d68.js"></script>
<script crossorigin="anonymous" defer="defer" type="application/javascript" src="https://github.githubassets.com/assets/vendors-node_modules_delegated-events_dist_index_js-node_modules_github_details-dialog-elemen-29dc30-2a5b7c1aa525.js"></script>
<script crossorigin="anonymous" defer="defer" type="application/javascript" src="https://github.githubassets.com/assets/vendors-node_modules_github_filter-input-element_dist_index_js-node_modules_github_remote-inp-59c459-39506636d610.js"></script>
<script crossorigin="anonymous" defer="defer" type="application/javascript" src="https://github.githubassets.com/assets/vendors-node_modules_github_file-attachment-element_dist_index_js-node_modules_primer_view-co-2c6968-d14fe7eeba42.js"></script>
<script crossorigin="anonymous" defer="defer" type="application/javascript" src="https://github.githubassets.com/assets/github-elements-3485f2997bc6.js"></script>
<script crossorigin="anonymous" defer="defer" type="application/javascript" src="https://github.githubassets.com/assets/element-registry-981cc2eaa259.js"></script>
<script crossorigin="anonymous" defer="defer" type="application/javascript" src="https://github.githubassets.com/assets/vendors-node_modules_github_catalyst_lib_index_js-node_modules_github_hydro-analytics-client_-978abc0-d5b921292620.js"></script>
<script crossorigin="anonymous" defer="defer" type="application/javascript" src="https://github.githubassets.com/assets/vendors-node_modules_lit-html_lit-html_js-4ccebb6ebf7d.js"></script>
<script crossorigin="anonymous" defer="defer" type="application/javascript" src="https://github.githubassets.com/assets/vendors-node_modules_github_mini-throttle_dist_index_js-node_modules_github_alive-client_dist-bf5aa2-504c8d53fb8e.js"></script>
<script crossorigin="anonymous" defer="defer" type="application/javascript" src="https://github.githubassets.com/assets/vendors-node_modules_morphdom_dist_morphdom-esm_js-b1fdd7158cf0.js"></script>
<script crossorigin="anonymous" defer="defer" type="application/javascript" src="https://github.githubassets.com/assets/vendors-node_modules_github_turbo_dist_turbo_es2017-esm_js-9a3541181451.js"></script>
<script crossorigin="anonymous" defer="defer" type="application/javascript" src="https://github.githubassets.com/assets/vendors-node_modules_color-convert_index_js-35b3ae68c408.js"></script>
<script crossorigin="anonymous" defer="defer" type="application/javascript" src="https://github.githubassets.com/assets/vendors-node_modules_primer_behaviors_dist_esm_dimensions_js-node_modules_github_hotkey_dist_-8755d2-f721427ba08d.js"></script>
<script crossorigin="anonymous" defer="defer" type="application/javascript" src="https://github.githubassets.com/assets/vendors-node_modules_github_session-resume_dist_index_js-node_modules_primer_behaviors_dist_e-ac74c6-4e7cf4e77afd.js"></script>
<script crossorigin="anonymous" defer="defer" type="application/javascript" src="https://github.githubassets.com/assets/vendors-node_modules_github_paste-markdown_dist_index_esm_js-node_modules_github_quote-select-854ff4-b4a2793be3fe.js"></script>
<script crossorigin="anonymous" defer="defer" type="application/javascript" src="https://github.githubassets.com/assets/app_assets_modules_github_details-dialog_ts-app_assets_modules_github_fetch_ts-add1ab03ecb3.js"></script>
<script crossorigin="anonymous" defer="defer" type="application/javascript" src="https://github.githubassets.com/assets/app_assets_modules_github_updatable-content_ts-ui_packages_hydro-analytics_hydro-analytics_ts-0a5a30c9b976.js"></script>
<script crossorigin="anonymous" defer="defer" type="application/javascript" src="https://github.githubassets.com/assets/app_assets_modules_github_onfocus_ts-app_assets_modules_github_sticky-scroll-into-view_ts-c56a5dfc8975.js"></script>
<script crossorigin="anonymous" defer="defer" type="application/javascript" src="https://github.githubassets.com/assets/app_assets_modules_github_behaviors_task-list_ts-app_assets_modules_github_sso_ts-ui_packages-7d50ad-9491f2be61ee.js"></script>
<script crossorigin="anonymous" defer="defer" type="application/javascript" src="https://github.githubassets.com/assets/app_assets_modules_github_behaviors_ajax-error_ts-app_assets_modules_github_behaviors_include-2e2258-d77f85c54572.js"></script>
<script crossorigin="anonymous" defer="defer" type="application/javascript" src="https://github.githubassets.com/assets/app_assets_modules_github_behaviors_commenting_edit_ts-app_assets_modules_github_behaviors_ht-83c235-f22ac6b94445.js"></script>
<script crossorigin="anonymous" defer="defer" type="application/javascript" src="https://github.githubassets.com/assets/behaviors-ba3118ed45b2.js"></script>
<script crossorigin="anonymous" defer="defer" type="application/javascript" src="https://github.githubassets.com/assets/vendors-node_modules_delegated-events_dist_index_js-node_modules_github_catalyst_lib_index_js-623425af41e1.js"></script>
<script crossorigin="anonymous" defer="defer" type="application/javascript" src="https://github.githubassets.com/assets/notifications-global-0104a8043aa4.js"></script>
<script crossorigin="anonymous" defer="defer" type="application/javascript" src="https://github.githubassets.com/assets/code-menu-6bd50a0647d6.js"></script>
  
  <script crossorigin="anonymous" defer="defer" type="application/javascript" src="https://github.githubassets.com/assets/react-lib-210c4b5934c3.js"></script>
<script crossorigin="anonymous" defer="defer" type="application/javascript" src="https://github.githubassets.com/assets/vendors-node_modules_primer_octicons-react_dist_index_esm_js-node_modules_primer_react_lib-es-2e8e7c-b8c027e1cfac.js"></script>
<script crossorigin="anonymous" defer="defer" type="application/javascript" src="https://github.githubassets.com/assets/vendors-node_modules_primer_react_lib-esm_Box_Box_js-96a44addc402.js"></script>
<script crossorigin="anonymous" defer="defer" type="application/javascript" src="https://github.githubassets.com/assets/vendors-node_modules_primer_react_lib-esm_Button_Button_js-node_modules_primer_react_lib-esm_-f6da63-1976b80d3486.js"></script>
<script crossorigin="anonymous" defer="defer" type="application/javascript" src="https://github.githubassets.com/assets/vendors-node_modules_primer_react_node_modules_primer_octicons-react_dist_index_esm_js-03b6dd82d40a.js"></script>
<script crossorigin="anonymous" defer="defer" type="application/javascript" src="https://github.githubassets.com/assets/vendors-node_modules_primer_react_lib-esm_Button_index_js-node_modules_primer_react_lib-esm_O-701f13-047a44a18d3a.js"></script>
<script crossorigin="anonymous" defer="defer" type="application/javascript" src="https://github.githubassets.com/assets/vendors-node_modules_primer_react_lib-esm_ActionList_index_js-535c8ee1ebe8.js"></script>
<script crossorigin="anonymous" defer="defer" type="application/javascript" src="https://github.githubassets.com/assets/vendors-node_modules_primer_react_lib-esm_Text_Text_js-node_modules_primer_react_lib-esm_Text-85a14b-0f28951279b7.js"></script>
<script crossorigin="anonymous" defer="defer" type="application/javascript" src="https://github.githubassets.com/assets/vendors-node_modules_primer_react_lib-esm_ActionMenu_ActionMenu_js-2f08ef908241.js"></script>
<script crossorigin="anonymous" defer="defer" type="application/javascript" src="https://github.githubassets.com/assets/vendors-node_modules_primer_behaviors_dist_esm_scroll-into-view_js-node_modules_primer_react_-04bb1b-a6096689d2d5.js"></script>
<script crossorigin="anonymous" defer="defer" type="application/javascript" src="https://github.githubassets.com/assets/vendors-node_modules_primer_react_lib-esm_FormControl_FormControl_js-9b048a5a5ceb.js"></script>
<script crossorigin="anonymous" defer="defer" type="application/javascript" src="https://github.githubassets.com/assets/vendors-node_modules_react-router-dom_dist_index_js-4a785319b497.js"></script>
<script crossorigin="anonymous" defer="defer" type="application/javascript" src="https://github.githubassets.com/assets/vendors-node_modules_primer_react_lib-esm_PageLayout_PageLayout_js-7693f4e3427d.js"></script>
<script crossorigin="anonymous" defer="defer" type="application/javascript" src="https://github.githubassets.com/assets/vendors-node_modules_primer_react_lib-esm_Dialog_js-node_modules_primer_react_lib-esm_Flash_F-ad64b6-f3217651e114.js"></script>
<script crossorigin="anonymous" defer="defer" type="application/javascript" src="https://github.githubassets.com/assets/vendors-node_modules_primer_react_lib-esm_UnderlineNav2_index_js-b739f40cf454.js"></script>
<script crossorigin="anonymous" defer="defer" type="application/javascript" src="https://github.githubassets.com/assets/vendors-node_modules_primer_react_lib-esm_Avatar_Avatar_js-node_modules_primer_react_lib-esm_-9bd36c-c9a87fd5afd0.js"></script>
<script crossorigin="anonymous" defer="defer" type="application/javascript" src="https://github.githubassets.com/assets/vendors-node_modules_primer_react_lib-esm_AvatarStack_AvatarStack_js-node_modules_primer_reac-6d3540-684005f5bdbe.js"></script>
<script crossorigin="anonymous" defer="defer" type="application/javascript" src="https://github.githubassets.com/assets/vendors-node_modules_primer_react_lib-esm_Breadcrumbs_Breadcrumbs_js-node_modules_primer_reac-31943d-f0539d68eb2b.js"></script>
<script crossorigin="anonymous" defer="defer" type="application/javascript" src="https://github.githubassets.com/assets/ui_packages_react-core_create-browser-history_ts-ui_packages_react-core_deferred-registry_ts--ebbb92-1ee1e572fd0e.js"></script>
<script crossorigin="anonymous" defer="defer" type="application/javascript" src="https://github.githubassets.com/assets/ui_packages_react-core_register-app_ts-afd2d748b726.js"></script>
<script crossorigin="anonymous" defer="defer" type="application/javascript" src="https://github.githubassets.com/assets/ui_packages_ref-selector_RefSelector_tsx-bd2f6d26f4a6.js"></script>
<script crossorigin="anonymous" defer="defer" type="application/javascript" src="https://github.githubassets.com/assets/app_assets_modules_github_blob-anchor_ts-app_assets_modules_github_filter-sort_ts-app_assets_-681869-f63e0555b81f.js"></script>
<script crossorigin="anonymous" defer="defer" type="application/javascript" src="https://github.githubassets.com/assets/ui_packages_commit-attribution_index_ts-ui_packages_commit-checks-status_index_ts-ui_packages-cc11d2-cf61178576ab.js"></script>
<script crossorigin="anonymous" defer="defer" type="application/javascript" src="https://github.githubassets.com/assets/app_assets_modules_react-code-view_pages_CodeView_tsx-388cefa74639.js"></script>
<script crossorigin="anonymous" defer="defer" type="application/javascript" src="https://github.githubassets.com/assets/react-code-view-1cc1e433849f.js"></script>


  <title>granada/Day 6/M5 - 04 - Funciones.ipynb at main · cursodatafundamentals/granada</title>



  <meta name="route-pattern" content="/:user_id/:repository/blob/*name(/*path)">

    
  <meta name="current-catalog-service-hash" content="82c569b93da5c18ed649ebd4c2c79437db4611a6a1373e805a3cb001c64130b7">


  <meta name="request-id" content="CA5C:91E8:1F88FF8:201350C:652E34ED" data-turbo-transient="true" /><meta name="html-safe-nonce" content="c2cd6b6f244f34aaa68a9f9a8232467b725980f3a80ec8ef0694fbee2c8c3ae7" data-turbo-transient="true" /><meta name="visitor-payload" content="eyJyZWZlcnJlciI6Imh0dHBzOi8vZ2l0aHViLmNvbS9jdXJzb2RhdGFmdW5kYW1lbnRhbHMvZ3JhbmFkYS90cmVlL21haW4vRGF5JTIwNiIsInJlcXVlc3RfaWQiOiJDQTVDOjkxRTg6MUY4OEZGODoyMDEzNTBDOjY1MkUzNEVEIiwidmlzaXRvcl9pZCI6IjI1MDMzMzE0MDk2NTI3ODI1MzUiLCJyZWdpb25fZWRnZSI6ImZyYSIsInJlZ2lvbl9yZW5kZXIiOiJpYWQifQ==" data-turbo-transient="true" /><meta name="visitor-hmac" content="0601a4ea8e5ccf81d79358f19e68d8b5e2a5c8c90685ad74383e4dde42877b7b" data-turbo-transient="true" />


    <meta name="hovercard-subject-tag" content="repository:699691449" data-turbo-transient>


  <meta name="github-keyboard-shortcuts" content="repository,source-code,file-tree" data-turbo-transient="true" />
  

  <meta name="selected-link" value="repo_source" data-turbo-transient>
  <link rel="assets" href="https://github.githubassets.com/">

    <meta name="google-site-verification" content="c1kuD-K2HIVF635lypcsWPoD4kilo5-jA_wBFyT4uMY">
  <meta name="google-site-verification" content="KT5gs8h0wvaagLKAVWq8bbeNwnZZK1r1XQysX3xurLU">
  <meta name="google-site-verification" content="ZzhVyEFwb7w3e0-uOTltm8Jsck2F5StVihD0exw2fsA">
  <meta name="google-site-verification" content="GXs5KoUUkNCoaAZn7wPN-t01Pywp9M3sEjnt_3_ZWPc">
  <meta name="google-site-verification" content="Apib7-x98H0j5cPqHWwSMm6dNU4GmODRoqxLiDzdx9I">

<meta name="octolytics-url" content="https://collector.github.com/github/collect" /><meta name="octolytics-actor-id" content="146814397" /><meta name="octolytics-actor-login" content="Karlett19" /><meta name="octolytics-actor-hash" content="c2a11084f6d16e049031b6002930329bec14cf41007fa0ecb591f9c480e7207c" />

  <meta name="analytics-location" content="/&lt;user-name&gt;/&lt;repo-name&gt;/blob/show" data-turbo-transient="true" />

  




  

    <meta name="user-login" content="Karlett19">

  <link rel="sudo-modal" href="/sessions/sudo_modal">

    <meta name="viewport" content="width=device-width">
    
      <meta name="description" content="Contribute to cursodatafundamentals/granada development by creating an account on GitHub.">
      <link rel="search" type="application/opensearchdescription+xml" href="/opensearch.xml" title="GitHub">
    <link rel="fluid-icon" href="https://github.com/fluidicon.png" title="GitHub">
    <meta property="fb:app_id" content="1401488693436528">
    <meta name="apple-itunes-app" content="app-id=1477376905, app-argument=https://github.com/cursodatafundamentals/granada/blob/main/Day%206/M5%20-%2004%20-%20Funciones.ipynb" />
      <meta name="twitter:image:src" content="https://avatars.githubusercontent.com/u/117397562?s=400&amp;v=4" /><meta name="twitter:site" content="@github" /><meta name="twitter:card" content="summary" /><meta name="twitter:title" content="granada/Day 6/M5 - 04 - Funciones.ipynb at main · cursodatafundamentals/granada" /><meta name="twitter:description" content="Contribute to cursodatafundamentals/granada development by creating an account on GitHub." />
      <meta property="og:image" content="https://avatars.githubusercontent.com/u/117397562?s=400&amp;v=4" /><meta property="og:image:alt" content="Contribute to cursodatafundamentals/granada development by creating an account on GitHub." /><meta property="og:site_name" content="GitHub" /><meta property="og:type" content="object" /><meta property="og:title" content="granada/Day 6/M5 - 04 - Funciones.ipynb at main · cursodatafundamentals/granada" /><meta property="og:url" content="https://github.com/cursodatafundamentals/granada/blob/main/Day%206/M5%20-%2004%20-%20Funciones.ipynb" /><meta property="og:description" content="Contribute to cursodatafundamentals/granada development by creating an account on GitHub." />
      

      <link rel="shared-web-socket" href="wss://alive.github.com/_sockets/u/146814397/ws?session=eyJ2IjoiVjMiLCJ1IjoxNDY4MTQzOTcsInMiOjEyMjQ3MDA1ODIsImMiOjIxNzYwNzA3OTgsInQiOjE2OTc1MjcwMjF9--a04ae86df063b40af1508437496c7855900942e5cc359af2e6afc3f49d8875be" data-refresh-url="/_alive" data-session-id="3efdecbc8c2f3e3e2f620d91ad19d55efb83d7ddc330b648dbf06b6bb3925fc3">
      <link rel="shared-web-socket-src" href="/assets-cdn/worker/socket-worker-cee473359cfe.js">


        <meta name="hostname" content="github.com">


      <meta name="keyboard-shortcuts-preference" content="all">

        <meta name="expected-hostname" content="github.com">


  <meta http-equiv="x-pjax-version" content="26301029d0481b645581b66f4f58c823ad9e1213ca445ff1a89a5d0295868fcd" data-turbo-track="reload">
  <meta http-equiv="x-pjax-csp-version" content="ee14a7165914197d62e19f664bfb961fcfdfc1ec31939a5c7b137fbab1751c87" data-turbo-track="reload">
  <meta http-equiv="x-pjax-css-version" content="1458c31d8d601dcb2e73daab09a2ba4225945457af895b170da96b350d467b17" data-turbo-track="reload">
  <meta http-equiv="x-pjax-js-version" content="e923129332abb6f03979d28ab39e347adc1232bd430795e7866ca8750415d3a2" data-turbo-track="reload">

  <meta name="turbo-cache-control" content="no-preview" data-turbo-transient="">

      <meta name="turbo-cache-control" content="no-cache" data-turbo-transient>
    <meta data-hydrostats="publish">

  <meta name="go-import" content="github.com/cursodatafundamentals/granada git https://github.com/cursodatafundamentals/granada.git">

  <meta name="octolytics-dimension-user_id" content="117397562" /><meta name="octolytics-dimension-user_login" content="cursodatafundamentals" /><meta name="octolytics-dimension-repository_id" content="699691449" /><meta name="octolytics-dimension-repository_nwo" content="cursodatafundamentals/granada" /><meta name="octolytics-dimension-repository_public" content="false" /><meta name="octolytics-dimension-repository_is_fork" content="false" /><meta name="octolytics-dimension-repository_network_root_id" content="699691449" /><meta name="octolytics-dimension-repository_network_root_nwo" content="cursodatafundamentals/granada" />



  <meta name="turbo-body-classes" content="logged-in env-production page-responsive">


  <meta name="browser-stats-url" content="https://api.github.com/_private/browser/stats">

  <meta name="browser-errors-url" content="https://api.github.com/_private/browser/errors">

  <meta name="browser-optimizely-client-errors-url" content="https://api.github.com/_private/browser/optimizely_client/errors">

  <link rel="mask-icon" href="https://github.githubassets.com/pinned-octocat.svg" color="#000000">
  <link rel="alternate icon" class="js-site-favicon" type="image/png" href="https://github.githubassets.com/favicons/favicon.png">
  <link rel="icon" class="js-site-favicon" type="image/svg+xml" href="https://github.githubassets.com/favicons/favicon.svg">

<meta name="theme-color" content="#1e2327">
<meta name="color-scheme" content="light dark" />


  <link rel="manifest" href="/manifest.json" crossOrigin="use-credentials">

  </head>

  <body class="logged-in env-production page-responsive" style="word-wrap: break-word;">
    <div data-turbo-body class="logged-in env-production page-responsive" style="word-wrap: break-word;">
      


    <div class="position-relative js-header-wrapper ">
      <a href="#start-of-content" class="p-3 color-bg-accent-emphasis color-fg-on-emphasis show-on-focus js-skip-to-content">Skip to content</a>
      <span data-view-component="true" class="progress-pjax-loader Progress position-fixed width-full">
    <span style="width: 0%;" data-view-component="true" class="Progress-item progress-pjax-loader-bar left-0 top-0 color-bg-accent-emphasis"></span>
</span>      
      


      

        <script crossorigin="anonymous" defer="defer" type="application/javascript" src="https://github.githubassets.com/assets/vendors-node_modules_allex_crc32_lib_crc32_esm_js-node_modules_github_mini-throttle_dist_deco-b38cad-fb30c470f64b.js"></script>
<script crossorigin="anonymous" defer="defer" type="application/javascript" src="https://github.githubassets.com/assets/vendors-node_modules_github_clipboard-copy-element_dist_index_esm_js-node_modules_delegated-e-b37f7d-4db36910a4bc.js"></script>
<script crossorigin="anonymous" defer="defer" type="application/javascript" src="https://github.githubassets.com/assets/app_assets_modules_github_command-palette_items_help-item_ts-app_assets_modules_github_comman-48ad9d-00e5140a09e8.js"></script>
<script crossorigin="anonymous" defer="defer" type="application/javascript" src="https://github.githubassets.com/assets/command-palette-46bb1d1be80b.js"></script>

            <header class="AppHeader">
    

    <div class="AppHeader-globalBar pb-2 js-global-bar">
      <div class="AppHeader-globalBar-start">
          <deferred-side-panel data-url="/_side-panels/global">
  <include-fragment data-target="deferred-side-panel.fragment">
      
  <button aria-label="Open global navigation menu" data-action="click:deferred-side-panel#loadPanel click:deferred-side-panel#panelOpened" data-show-dialog-id="dialog-35617085-30b6-4345-b982-7e22547b428c" id="dialog-show-dialog-35617085-30b6-4345-b982-7e22547b428c" type="button" data-view-component="true" class="Button Button--iconOnly Button--secondary Button--medium AppHeader-button color-bg-transparent p-0 color-fg-muted">    <svg aria-hidden="true" height="16" viewBox="0 0 16 16" version="1.1" width="16" data-view-component="true" class="octicon octicon-three-bars Button-visual">
    <path d="M1 2.75A.75.75 0 0 1 1.75 2h12.5a.75.75 0 0 1 0 1.5H1.75A.75.75 0 0 1 1 2.75Zm0 5A.75.75 0 0 1 1.75 7h12.5a.75.75 0 0 1 0 1.5H1.75A.75.75 0 0 1 1 7.75ZM1.75 12h12.5a.75.75 0 0 1 0 1.5H1.75a.75.75 0 0 1 0-1.5Z"></path>
</svg>
</button>  

<div class="Overlay--hidden Overlay-backdrop--side Overlay-backdrop--placement-left" data-modal-dialog-overlay>
  <modal-dialog data-target="deferred-side-panel.panel" role="dialog" id="dialog-35617085-30b6-4345-b982-7e22547b428c" aria-modal="true" aria-disabled="true" aria-labelledby="dialog-35617085-30b6-4345-b982-7e22547b428c-title" aria-describedby="dialog-35617085-30b6-4345-b982-7e22547b428c-description" data-view-component="true" class="Overlay Overlay-whenNarrow Overlay--size-small-portrait Overlay--motion-scaleFade SidePanel">
    <div styles="flex-direction: row;" data-view-component="true" class="Overlay-header">
  <div class="Overlay-headerContentWrap">
    <div class="Overlay-titleWrap">
      <h1 class="Overlay-title sr-only" id="dialog-35617085-30b6-4345-b982-7e22547b428c-title">
        Global navigation
      </h1>
            <div data-view-component="true" class="d-flex">
      <div data-view-component="true" class="AppHeader-logo position-relative">
        <svg aria-hidden="true" height="24" viewBox="0 0 16 16" version="1.1" width="24" data-view-component="true" class="octicon octicon-mark-github">
    <path d="M8 0c4.42 0 8 3.58 8 8a8.013 8.013 0 0 1-5.45 7.59c-.4.08-.55-.17-.55-.38 0-.27.01-1.13.01-2.2 0-.75-.25-1.23-.54-1.48 1.78-.2 3.65-.88 3.65-3.95 0-.88-.31-1.59-.82-2.15.08-.2.36-1.02-.08-2.12 0 0-.67-.22-2.2.82-.64-.18-1.32-.27-2-.27-.68 0-1.36.09-2 .27-1.53-1.03-2.2-.82-2.2-.82-.44 1.1-.16 1.92-.08 2.12-.51.56-.82 1.28-.82 2.15 0 3.06 1.86 3.75 3.64 3.95-.23.2-.44.55-.51 1.07-.46.21-1.61.55-2.33-.66-.15-.24-.6-.83-1.23-.82-.67.01-.27.38.01.53.34.19.73.9.82 1.13.16.45.68 1.31 2.69.94 0 .67.01 1.3.01 1.49 0 .21-.15.45-.55.38A7.995 7.995 0 0 1 0 8c0-4.42 3.58-8 8-8Z"></path>
</svg>
</div></div>
    </div>
    <div class="Overlay-actionWrap">
      <button data-close-dialog-id="dialog-35617085-30b6-4345-b982-7e22547b428c" aria-label="Close" type="button" data-view-component="true" class="close-button Overlay-closeButton"><svg aria-hidden="true" height="16" viewBox="0 0 16 16" version="1.1" width="16" data-view-component="true" class="octicon octicon-x">
    <path d="M3.72 3.72a.75.75 0 0 1 1.06 0L8 6.94l3.22-3.22a.749.749 0 0 1 1.275.326.749.749 0 0 1-.215.734L9.06 8l3.22 3.22a.749.749 0 0 1-.326 1.275.749.749 0 0 1-.734-.215L8 9.06l-3.22 3.22a.751.751 0 0 1-1.042-.018.751.751 0 0 1-.018-1.042L6.94 8 3.72 4.78a.75.75 0 0 1 0-1.06Z"></path>
</svg></button>
    </div>
  </div>
</div>
      <div data-view-component="true" class="Overlay-body d-flex flex-column height-full px-2">    <div data-view-component="true" class="d-flex flex-column height-full mb-3">
        <nav aria-label="Site navigation" data-view-component="true" class="ActionList">
  
  <nav-list>
    <ul data-view-component="true" class="ActionListWrap">
        
          
<li data-item-id="" data-targets="nav-list.items" data-view-component="true" class="ActionListItem">
    
    <a data-hotkey="g d" data-analytics-event="{&quot;category&quot;:&quot;Global navigation&quot;,&quot;action&quot;:&quot;HOME&quot;,&quot;label&quot;:null}" id="item-4750e430-c905-495c-be87-e4ecda2ff67b" href="/dashboard" data-view-component="true" class="ActionListContent ActionListContent--visual16">
        <span class="ActionListItem-visual ActionListItem-visual--leading">
          <svg aria-hidden="true" height="16" viewBox="0 0 16 16" version="1.1" width="16" data-view-component="true" class="octicon octicon-home">
    <path d="M6.906.664a1.749 1.749 0 0 1 2.187 0l5.25 4.2c.415.332.657.835.657 1.367v7.019A1.75 1.75 0 0 1 13.25 15h-3.5a.75.75 0 0 1-.75-.75V9H7v5.25a.75.75 0 0 1-.75.75h-3.5A1.75 1.75 0 0 1 1 13.25V6.23c0-.531.242-1.034.657-1.366l5.25-4.2Zm1.25 1.171a.25.25 0 0 0-.312 0l-5.25 4.2a.25.25 0 0 0-.094.196v7.019c0 .138.112.25.25.25H5.5V8.25a.75.75 0 0 1 .75-.75h3.5a.75.75 0 0 1 .75.75v5.25h2.75a.25.25 0 0 0 .25-.25V6.23a.25.25 0 0 0-.094-.195Z"></path>
</svg>
        </span>
      
        <span data-view-component="true" class="ActionListItem-label">
          Home
</span></a>
  
  
</li>

        
          
<li data-item-id="" data-targets="nav-list.items" data-view-component="true" class="ActionListItem">
    
    <a data-hotkey="g i" data-analytics-event="{&quot;category&quot;:&quot;Global navigation&quot;,&quot;action&quot;:&quot;ISSUES&quot;,&quot;label&quot;:null}" id="item-708f70ac-52e2-4a35-8ab8-7291edab28d1" href="/issues" data-view-component="true" class="ActionListContent ActionListContent--visual16">
        <span class="ActionListItem-visual ActionListItem-visual--leading">
          <svg aria-hidden="true" height="16" viewBox="0 0 16 16" version="1.1" width="16" data-view-component="true" class="octicon octicon-issue-opened">
    <path d="M8 9.5a1.5 1.5 0 1 0 0-3 1.5 1.5 0 0 0 0 3Z"></path><path d="M8 0a8 8 0 1 1 0 16A8 8 0 0 1 8 0ZM1.5 8a6.5 6.5 0 1 0 13 0 6.5 6.5 0 0 0-13 0Z"></path>
</svg>
        </span>
      
        <span data-view-component="true" class="ActionListItem-label">
          Issues
</span></a>
  
  
</li>

        
          
<li data-item-id="" data-targets="nav-list.items" data-view-component="true" class="ActionListItem">
    
    <a data-hotkey="g p" data-analytics-event="{&quot;category&quot;:&quot;Global navigation&quot;,&quot;action&quot;:&quot;PULL_REQUESTS&quot;,&quot;label&quot;:null}" id="item-e776e823-b2c8-4754-a1b7-e5983503c120" href="/pulls" data-view-component="true" class="ActionListContent ActionListContent--visual16">
        <span class="ActionListItem-visual ActionListItem-visual--leading">
          <svg aria-hidden="true" height="16" viewBox="0 0 16 16" version="1.1" width="16" data-view-component="true" class="octicon octicon-git-pull-request">
    <path d="M1.5 3.25a2.25 2.25 0 1 1 3 2.122v5.256a2.251 2.251 0 1 1-1.5 0V5.372A2.25 2.25 0 0 1 1.5 3.25Zm5.677-.177L9.573.677A.25.25 0 0 1 10 .854V2.5h1A2.5 2.5 0 0 1 13.5 5v5.628a2.251 2.251 0 1 1-1.5 0V5a1 1 0 0 0-1-1h-1v1.646a.25.25 0 0 1-.427.177L7.177 3.427a.25.25 0 0 1 0-.354ZM3.75 2.5a.75.75 0 1 0 0 1.5.75.75 0 0 0 0-1.5Zm0 9.5a.75.75 0 1 0 0 1.5.75.75 0 0 0 0-1.5Zm8.25.75a.75.75 0 1 0 1.5 0 .75.75 0 0 0-1.5 0Z"></path>
</svg>
        </span>
      
        <span data-view-component="true" class="ActionListItem-label">
          Pull requests
</span></a>
  
  
</li>

        
          
<li data-item-id="" data-targets="nav-list.items" data-view-component="true" class="ActionListItem">
    
    <a data-analytics-event="{&quot;category&quot;:&quot;Global navigation&quot;,&quot;action&quot;:&quot;DISCUSSIONS&quot;,&quot;label&quot;:null}" id="item-daa88c2b-7750-468d-befe-207512611232" href="/discussions" data-view-component="true" class="ActionListContent ActionListContent--visual16">
        <span class="ActionListItem-visual ActionListItem-visual--leading">
          <svg aria-hidden="true" height="16" viewBox="0 0 16 16" version="1.1" width="16" data-view-component="true" class="octicon octicon-comment-discussion">
    <path d="M1.75 1h8.5c.966 0 1.75.784 1.75 1.75v5.5A1.75 1.75 0 0 1 10.25 10H7.061l-2.574 2.573A1.458 1.458 0 0 1 2 11.543V10h-.25A1.75 1.75 0 0 1 0 8.25v-5.5C0 1.784.784 1 1.75 1ZM1.5 2.75v5.5c0 .138.112.25.25.25h1a.75.75 0 0 1 .75.75v2.19l2.72-2.72a.749.749 0 0 1 .53-.22h3.5a.25.25 0 0 0 .25-.25v-5.5a.25.25 0 0 0-.25-.25h-8.5a.25.25 0 0 0-.25.25Zm13 2a.25.25 0 0 0-.25-.25h-.5a.75.75 0 0 1 0-1.5h.5c.966 0 1.75.784 1.75 1.75v5.5A1.75 1.75 0 0 1 14.25 12H14v1.543a1.458 1.458 0 0 1-2.487 1.03L9.22 12.28a.749.749 0 0 1 .326-1.275.749.749 0 0 1 .734.215l2.22 2.22v-2.19a.75.75 0 0 1 .75-.75h1a.25.25 0 0 0 .25-.25Z"></path>
</svg>
        </span>
      
        <span data-view-component="true" class="ActionListItem-label">
          Discussions
</span></a>
  
  
</li>

        
          
<li data-item-id="" data-targets="nav-list.items" data-view-component="true" class="ActionListItem">
    
    <a data-analytics-event="{&quot;category&quot;:&quot;Global navigation&quot;,&quot;action&quot;:&quot;CODESPACES&quot;,&quot;label&quot;:null}" id="item-04e5cab7-c29e-49d0-865a-75cb2c911004" href="https://github.com/codespaces" data-view-component="true" class="ActionListContent ActionListContent--visual16">
        <span class="ActionListItem-visual ActionListItem-visual--leading">
          <svg aria-hidden="true" height="16" viewBox="0 0 16 16" version="1.1" width="16" data-view-component="true" class="octicon octicon-codespaces">
    <path d="M0 11.25c0-.966.784-1.75 1.75-1.75h12.5c.966 0 1.75.784 1.75 1.75v3A1.75 1.75 0 0 1 14.25 16H1.75A1.75 1.75 0 0 1 0 14.25Zm2-9.5C2 .784 2.784 0 3.75 0h8.5C13.216 0 14 .784 14 1.75v5a1.75 1.75 0 0 1-1.75 1.75h-8.5A1.75 1.75 0 0 1 2 6.75Zm1.75-.25a.25.25 0 0 0-.25.25v5c0 .138.112.25.25.25h8.5a.25.25 0 0 0 .25-.25v-5a.25.25 0 0 0-.25-.25Zm-2 9.5a.25.25 0 0 0-.25.25v3c0 .138.112.25.25.25h12.5a.25.25 0 0 0 .25-.25v-3a.25.25 0 0 0-.25-.25Z"></path><path d="M7 12.75a.75.75 0 0 1 .75-.75h4.5a.75.75 0 0 1 0 1.5h-4.5a.75.75 0 0 1-.75-.75Zm-4 0a.75.75 0 0 1 .75-.75h.5a.75.75 0 0 1 0 1.5h-.5a.75.75 0 0 1-.75-.75Z"></path>
</svg>
        </span>
      
        <span data-view-component="true" class="ActionListItem-label">
          Codespaces
</span></a>
  
  
</li>

        
          <li role="presentation" aria-hidden="true" data-view-component="true" class="ActionList-sectionDivider"></li>
        
          
<li data-item-id="" data-targets="nav-list.items" data-view-component="true" class="ActionListItem">
    
    <a data-analytics-event="{&quot;category&quot;:&quot;Global navigation&quot;,&quot;action&quot;:&quot;EXPLORE&quot;,&quot;label&quot;:null}" id="item-d5ccfef1-9210-4c53-9c8c-9b1d7c163b1e" href="/explore" data-view-component="true" class="ActionListContent ActionListContent--visual16">
        <span class="ActionListItem-visual ActionListItem-visual--leading">
          <svg aria-hidden="true" height="16" viewBox="0 0 16 16" version="1.1" width="16" data-view-component="true" class="octicon octicon-telescope">
    <path d="M14.184 1.143v-.001l1.422 2.464a1.75 1.75 0 0 1-.757 2.451L3.104 11.713a1.75 1.75 0 0 1-2.275-.702l-.447-.775a1.75 1.75 0 0 1 .53-2.32L11.682.573a1.748 1.748 0 0 1 2.502.57Zm-4.709 9.32h-.001l2.644 3.863a.75.75 0 1 1-1.238.848l-1.881-2.75v2.826a.75.75 0 0 1-1.5 0v-2.826l-1.881 2.75a.75.75 0 1 1-1.238-.848l2.049-2.992a.746.746 0 0 1 .293-.253l1.809-.87a.749.749 0 0 1 .944.252ZM9.436 3.92h-.001l-4.97 3.39.942 1.63 5.42-2.61Zm3.091-2.108h.001l-1.85 1.26 1.505 2.605 2.016-.97a.247.247 0 0 0 .13-.151.247.247 0 0 0-.022-.199l-1.422-2.464a.253.253 0 0 0-.161-.119.254.254 0 0 0-.197.038ZM1.756 9.157a.25.25 0 0 0-.075.33l.447.775a.25.25 0 0 0 .325.1l1.598-.769-.83-1.436-1.465 1Z"></path>
</svg>
        </span>
      
        <span data-view-component="true" class="ActionListItem-label">
          Explore
</span></a>
  
  
</li>

        
          
<li data-item-id="" data-targets="nav-list.items" data-view-component="true" class="ActionListItem">
    
    <a data-analytics-event="{&quot;category&quot;:&quot;Global navigation&quot;,&quot;action&quot;:&quot;MARKETPLACE&quot;,&quot;label&quot;:null}" id="item-4edff46e-e776-4c63-bd95-6457cc8b8233" href="/marketplace" data-view-component="true" class="ActionListContent ActionListContent--visual16">
        <span class="ActionListItem-visual ActionListItem-visual--leading">
          <svg aria-hidden="true" height="16" viewBox="0 0 16 16" version="1.1" width="16" data-view-component="true" class="octicon octicon-gift">
    <path d="M2 2.75A2.75 2.75 0 0 1 4.75 0c.983 0 1.873.42 2.57 1.232.268.318.497.668.68 1.042.183-.375.411-.725.68-1.044C9.376.42 10.266 0 11.25 0a2.75 2.75 0 0 1 2.45 4h.55c.966 0 1.75.784 1.75 1.75v2c0 .698-.409 1.301-1 1.582v4.918A1.75 1.75 0 0 1 13.25 16H2.75A1.75 1.75 0 0 1 1 14.25V9.332C.409 9.05 0 8.448 0 7.75v-2C0 4.784.784 4 1.75 4h.55c-.192-.375-.3-.8-.3-1.25ZM7.25 9.5H2.5v4.75c0 .138.112.25.25.25h4.5Zm1.5 0v5h4.5a.25.25 0 0 0 .25-.25V9.5Zm0-4V8h5.5a.25.25 0 0 0 .25-.25v-2a.25.25 0 0 0-.25-.25Zm-7 0a.25.25 0 0 0-.25.25v2c0 .138.112.25.25.25h5.5V5.5h-5.5Zm3-4a1.25 1.25 0 0 0 0 2.5h2.309c-.233-.818-.542-1.401-.878-1.793-.43-.502-.915-.707-1.431-.707ZM8.941 4h2.309a1.25 1.25 0 0 0 0-2.5c-.516 0-1 .205-1.43.707-.337.392-.646.975-.879 1.793Z"></path>
</svg>
        </span>
      
        <span data-view-component="true" class="ActionListItem-label">
          Marketplace
</span></a>
  
  
</li>

</ul>  </nav-list>
</nav>

        <div data-view-component="true" class="my-3 d-flex flex-justify-center height-full">
          <svg style="box-sizing: content-box; color: var(--color-icon-primary);" width="16" height="16" viewBox="0 0 16 16" fill="none" data-view-component="true" class="anim-rotate">
  <circle cx="8" cy="8" r="7" stroke="currentColor" stroke-opacity="0.25" stroke-width="2" vector-effect="non-scaling-stroke" fill="none" />
  <path d="M15 8a7.002 7.002 0 00-7-7" stroke="currentColor" stroke-width="2" stroke-linecap="round" vector-effect="non-scaling-stroke" />
</svg>
</div>
</div>

      <div data-view-component="true" class="px-2">      <p class="color-fg-subtle text-small text-light">&copy; 2023 GitHub, Inc.</p>

      <div data-view-component="true" class="d-flex text-small text-light">
          <a target="_blank" href="/about" data-view-component="true" class="Link mr-2">About</a>
          <a target="_blank" href="https://github.blog" data-view-component="true" class="Link mr-2">Blog</a>
          <a target="_blank" href="https://docs.github.com/site-policy/github-terms/github-terms-of-service" data-view-component="true" class="Link mr-2">Terms</a>
          <a target="_blank" href="https://docs.github.com/site-policy/privacy-policies/github-privacy-statement" data-view-component="true" class="Link mr-2">Privacy</a>
          <a target="_blank" href="/security" data-view-component="true" class="Link mr-2">Security</a>
        <a target="_blank" href="https://www.githubstatus.com/" data-view-component="true" class="Link mr-3">Status</a>
</div></div>
</div>
      
</modal-dialog></div>

  </include-fragment>
</deferred-side-panel>

        <a
          class="AppHeader-logo ml-2"
          href="https://github.com/"
          data-hotkey="g d"
          aria-label="Homepage "
          data-turbo="false"
          data-analytics-event="{&quot;category&quot;:&quot;Header&quot;,&quot;action&quot;:&quot;go to dashboard&quot;,&quot;label&quot;:&quot;icon:logo&quot;}"
        >
          <svg height="32" aria-hidden="true" viewBox="0 0 16 16" version="1.1" width="32" data-view-component="true" class="octicon octicon-mark-github v-align-middle color-fg-default">
    <path d="M8 0c4.42 0 8 3.58 8 8a8.013 8.013 0 0 1-5.45 7.59c-.4.08-.55-.17-.55-.38 0-.27.01-1.13.01-2.2 0-.75-.25-1.23-.54-1.48 1.78-.2 3.65-.88 3.65-3.95 0-.88-.31-1.59-.82-2.15.08-.2.36-1.02-.08-2.12 0 0-.67-.22-2.2.82-.64-.18-1.32-.27-2-.27-.68 0-1.36.09-2 .27-1.53-1.03-2.2-.82-2.2-.82-.44 1.1-.16 1.92-.08 2.12-.51.56-.82 1.28-.82 2.15 0 3.06 1.86 3.75 3.64 3.95-.23.2-.44.55-.51 1.07-.46.21-1.61.55-2.33-.66-.15-.24-.6-.83-1.23-.82-.67.01-.27.38.01.53.34.19.73.9.82 1.13.16.45.68 1.31 2.69.94 0 .67.01 1.3.01 1.49 0 .21-.15.45-.55.38A7.995 7.995 0 0 1 0 8c0-4.42 3.58-8 8-8Z"></path>
</svg>
        </a>

          <div class="AppHeader-context" >
  <div class="AppHeader-context-compact">
        <button aria-expanded="false" aria-haspopup="dialog" aria-label="Page context: cursodatafundamentals / granada" id="dialog-show-context-region-dialog" data-show-dialog-id="context-region-dialog" type="button" data-view-component="true" class="AppHeader-context-compact-trigger Truncate Button--secondary Button--medium Button box-shadow-none">    <span class="Button-content">
      <span class="Button-label"><span class="AppHeader-context-compact-lead">
                <span class="AppHeader-context-compact-parentItem">cursodatafundamentals</span>
                <span class="AppHeader-context-compact-separator">&nbsp;/</span>

            </span>

            <strong class="AppHeader-context-compact-mainItem d-flex flex-items-center Truncate" >
  <span class="Truncate-text ">granada</span>

    <svg aria-hidden="true" height="12" viewBox="0 0 16 16" version="1.1" width="12" data-view-component="true" class="octicon octicon-lock ml-1">
    <path d="M4 4a4 4 0 0 1 8 0v2h.25c.966 0 1.75.784 1.75 1.75v5.5A1.75 1.75 0 0 1 12.25 15h-8.5A1.75 1.75 0 0 1 2 13.25v-5.5C2 6.784 2.784 6 3.75 6H4Zm8.25 3.5h-8.5a.25.25 0 0 0-.25.25v5.5c0 .138.112.25.25.25h8.5a.25.25 0 0 0 .25-.25v-5.5a.25.25 0 0 0-.25-.25ZM10.5 6V4a2.5 2.5 0 1 0-5 0v2Z"></path>
</svg>
</strong></span>
    </span>
</button>  

<div class="Overlay--hidden Overlay-backdrop--center" data-modal-dialog-overlay>
  <modal-dialog role="dialog" id="context-region-dialog" aria-modal="true" aria-disabled="true" aria-labelledby="context-region-dialog-title" aria-describedby="context-region-dialog-description" data-view-component="true" class="Overlay Overlay-whenNarrow Overlay--size-medium Overlay--motion-scaleFade">
    <div data-view-component="true" class="Overlay-header">
  <div class="Overlay-headerContentWrap">
    <div class="Overlay-titleWrap">
      <h1 class="Overlay-title " id="context-region-dialog-title">
        Navigate back to
      </h1>
    </div>
    <div class="Overlay-actionWrap">
      <button data-close-dialog-id="context-region-dialog" aria-label="Close" type="button" data-view-component="true" class="close-button Overlay-closeButton"><svg aria-hidden="true" height="16" viewBox="0 0 16 16" version="1.1" width="16" data-view-component="true" class="octicon octicon-x">
    <path d="M3.72 3.72a.75.75 0 0 1 1.06 0L8 6.94l3.22-3.22a.749.749 0 0 1 1.275.326.749.749 0 0 1-.215.734L9.06 8l3.22 3.22a.749.749 0 0 1-.326 1.275.749.749 0 0 1-.734-.215L8 9.06l-3.22 3.22a.751.751 0 0 1-1.042-.018.751.751 0 0 1-.018-1.042L6.94 8 3.72 4.78a.75.75 0 0 1 0-1.06Z"></path>
</svg></button>
    </div>
  </div>
</div>
      <div data-view-component="true" class="Overlay-body">          <ul role="list" class="list-style-none" >
    <li>
      <a data-analytics-event="{&quot;category&quot;:&quot;SiteHeaderComponent&quot;,&quot;action&quot;:&quot;context_region_crumb&quot;,&quot;label&quot;:&quot;cursodatafundamentals&quot;,&quot;screen_size&quot;:&quot;compact&quot;}" href="/cursodatafundamentals" data-view-component="true" class="Link--primary Truncate d-flex flex-items-center py-1">
        <span class="AppHeader-context-item-label Truncate-text ">
            <svg aria-hidden="true" height="12" viewBox="0 0 16 16" version="1.1" width="12" data-view-component="true" class="octicon octicon-person mr-1">
    <path d="M10.561 8.073a6.005 6.005 0 0 1 3.432 5.142.75.75 0 1 1-1.498.07 4.5 4.5 0 0 0-8.99 0 .75.75 0 0 1-1.498-.07 6.004 6.004 0 0 1 3.431-5.142 3.999 3.999 0 1 1 5.123 0ZM10.5 5a2.5 2.5 0 1 0-5 0 2.5 2.5 0 0 0 5 0Z"></path>
</svg>

          cursodatafundamentals
        </span>

</a>
    </li>
    <li>
      <a data-analytics-event="{&quot;category&quot;:&quot;SiteHeaderComponent&quot;,&quot;action&quot;:&quot;context_region_crumb&quot;,&quot;label&quot;:&quot;granada&quot;,&quot;screen_size&quot;:&quot;compact&quot;}" href="/cursodatafundamentals/granada" data-view-component="true" class="Link--primary Truncate d-flex flex-items-center py-1">
        <span class="AppHeader-context-item-label Truncate-text ">
            <svg aria-hidden="true" height="12" viewBox="0 0 16 16" version="1.1" width="12" data-view-component="true" class="octicon octicon-repo mr-1">
    <path d="M2 2.5A2.5 2.5 0 0 1 4.5 0h8.75a.75.75 0 0 1 .75.75v12.5a.75.75 0 0 1-.75.75h-2.5a.75.75 0 0 1 0-1.5h1.75v-2h-8a1 1 0 0 0-.714 1.7.75.75 0 1 1-1.072 1.05A2.495 2.495 0 0 1 2 11.5Zm10.5-1h-8a1 1 0 0 0-1 1v6.708A2.486 2.486 0 0 1 4.5 9h8ZM5 12.25a.25.25 0 0 1 .25-.25h3.5a.25.25 0 0 1 .25.25v3.25a.25.25 0 0 1-.4.2l-1.45-1.087a.249.249 0 0 0-.3 0L5.4 15.7a.25.25 0 0 1-.4-.2Z"></path>
</svg>

          granada
        </span>

          <svg aria-hidden="true" height="12" viewBox="0 0 16 16" version="1.1" width="12" data-view-component="true" class="octicon octicon-lock ml-1">
    <path d="M4 4a4 4 0 0 1 8 0v2h.25c.966 0 1.75.784 1.75 1.75v5.5A1.75 1.75 0 0 1 12.25 15h-8.5A1.75 1.75 0 0 1 2 13.25v-5.5C2 6.784 2.784 6 3.75 6H4Zm8.25 3.5h-8.5a.25.25 0 0 0-.25.25v5.5c0 .138.112.25.25.25h8.5a.25.25 0 0 0 .25-.25v-5.5a.25.25 0 0 0-.25-.25ZM10.5 6V4a2.5 2.5 0 1 0-5 0v2Z"></path>
</svg>
</a>
    </li>
</ul>

</div>
      
</modal-dialog></div>
  </div>

  <div class="AppHeader-context-full">
    <nav role="navigation" aria-label="Page context">
      <ul role="list" class="list-style-none" >
    <li>
      <a data-analytics-event="{&quot;category&quot;:&quot;SiteHeaderComponent&quot;,&quot;action&quot;:&quot;context_region_crumb&quot;,&quot;label&quot;:&quot;cursodatafundamentals&quot;,&quot;screen_size&quot;:&quot;full&quot;}" data-hovercard-type="user" data-hovercard-url="/users/cursodatafundamentals/hovercard" data-octo-click="hovercard-link-click" data-octo-dimensions="link_type:self" href="/cursodatafundamentals" data-view-component="true" class="AppHeader-context-item">
        <span class="AppHeader-context-item-label  ">

          cursodatafundamentals
        </span>

</a>
        <span class="AppHeader-context-item-separator">/</span>
    </li>
    <li>
      <a data-analytics-event="{&quot;category&quot;:&quot;SiteHeaderComponent&quot;,&quot;action&quot;:&quot;context_region_crumb&quot;,&quot;label&quot;:&quot;granada&quot;,&quot;screen_size&quot;:&quot;full&quot;}" href="/cursodatafundamentals/granada" data-view-component="true" class="AppHeader-context-item">
        <span class="AppHeader-context-item-label  ">

          granada
        </span>

          <svg aria-hidden="true" height="12" viewBox="0 0 16 16" version="1.1" width="12" data-view-component="true" class="octicon octicon-lock ml-1">
    <path d="M4 4a4 4 0 0 1 8 0v2h.25c.966 0 1.75.784 1.75 1.75v5.5A1.75 1.75 0 0 1 12.25 15h-8.5A1.75 1.75 0 0 1 2 13.25v-5.5C2 6.784 2.784 6 3.75 6H4Zm8.25 3.5h-8.5a.25.25 0 0 0-.25.25v5.5c0 .138.112.25.25.25h8.5a.25.25 0 0 0 .25-.25v-5.5a.25.25 0 0 0-.25-.25ZM10.5 6V4a2.5 2.5 0 1 0-5 0v2Z"></path>
</svg>
</a>
    </li>
</ul>

    </nav>
  </div>
</div>

      </div>
      <div class="AppHeader-globalBar-end">
          <div class="AppHeader-search" >
              


<qbsearch-input class="search-input" data-scope="repo:cursodatafundamentals/granada" data-custom-scopes-path="/search/custom_scopes" data-delete-custom-scopes-csrf="6BvDNQ89GliWS5BLIkom-0MCEv_hQPZRR8Tos7X5cff6hZplPTQPLazsFa_2w07Jd90-Bx8UcQT8-94blvPe1g" data-max-custom-scopes="10" data-header-redesign-enabled="true" data-initial-value="" data-blackbird-suggestions-path="/search/suggestions" data-jump-to-suggestions-path="/_graphql/GetSuggestedNavigationDestinations" data-current-repository="cursodatafundamentals/granada" data-current-org="" data-current-owner="cursodatafundamentals" data-logged-in="true">
  <div
    class="search-input-container search-with-dialog position-relative d-flex flex-row flex-items-center height-auto color-bg-transparent border-0 color-fg-subtle mx-0"
    data-action="click:qbsearch-input#searchInputContainerClicked"
  >
      
            <button type="button" data-action="click:qbsearch-input#handleExpand" class="AppHeader-button AppHeader-search-whenNarrow" aria-label="Search or jump to…" aria-expanded="false" aria-haspopup="dialog">
            <svg aria-hidden="true" height="16" viewBox="0 0 16 16" version="1.1" width="16" data-view-component="true" class="octicon octicon-search">
    <path d="M10.68 11.74a6 6 0 0 1-7.922-8.982 6 6 0 0 1 8.982 7.922l3.04 3.04a.749.749 0 0 1-.326 1.275.749.749 0 0 1-.734-.215ZM11.5 7a4.499 4.499 0 1 0-8.997 0A4.499 4.499 0 0 0 11.5 7Z"></path>
</svg>
          </button>


<div class="AppHeader-search-whenRegular">
  <div class="AppHeader-search-wrap AppHeader-search-wrap--hasTrailing">
    <div class="AppHeader-search-control">
      <label
        for="AppHeader-searchInput"
        aria-label="Search or jump to…"
        class="AppHeader-search-visual--leading"
      >
        <svg aria-hidden="true" height="16" viewBox="0 0 16 16" version="1.1" width="16" data-view-component="true" class="octicon octicon-search">
    <path d="M10.68 11.74a6 6 0 0 1-7.922-8.982 6 6 0 0 1 8.982 7.922l3.04 3.04a.749.749 0 0 1-.326 1.275.749.749 0 0 1-.734-.215ZM11.5 7a4.499 4.499 0 1 0-8.997 0A4.499 4.499 0 0 0 11.5 7Z"></path>
</svg>
      </label>

                <button
            type="button"
            data-target="qbsearch-input.inputButton"
            data-action="click:qbsearch-input#handleExpand"
            class="AppHeader-searchButton form-control input-contrast text-left color-fg-subtle no-wrap"
            data-hotkey="s,/"
            data-analytics-event="{&quot;category&quot;:&quot;Global navigation&quot;,&quot;action&quot;:&quot;SEARCH&quot;,&quot;label&quot;:null}"
          >
            <div class="overflow-hidden">
              <span id="qb-input-query" data-target="qbsearch-input.inputButtonText">
                  Type <kbd class="AppHeader-search-kbd">/</kbd> to search
              </span>
            </div>
          </button>

    </div>


      <button type="button" id="AppHeader-commandPalette-button" class="AppHeader-search-action--trailing js-activate-command-palette" data-analytics-event="{&quot;category&quot;:&quot;SiteHeaderComponent&quot;,&quot;action&quot;:&quot;command_palette&quot;,&quot;label&quot;:&quot;open command palette&quot;}">
        <svg aria-hidden="true" height="16" viewBox="0 0 16 16" version="1.1" width="16" data-view-component="true" class="octicon octicon-command-palette">
    <path d="m6.354 8.04-4.773 4.773a.75.75 0 1 0 1.061 1.06L7.945 8.57a.75.75 0 0 0 0-1.06L2.642 2.206a.75.75 0 0 0-1.06 1.061L6.353 8.04ZM8.75 11.5a.75.75 0 0 0 0 1.5h5.5a.75.75 0 0 0 0-1.5h-5.5Z"></path>
</svg>
      </button>

      <tool-tip id="tooltip-a597774d-80eb-4b64-b29e-64f062365a02" for="AppHeader-commandPalette-button" popover="manual" data-direction="s" data-type="label" data-view-component="true" class="sr-only position-absolute">Command palette</tool-tip>
  </div>
</div>

    <input type="hidden" name="type" class="js-site-search-type-field">

    
<div class="Overlay--hidden " data-modal-dialog-overlay>
  <modal-dialog data-action="close:qbsearch-input#handleClose cancel:qbsearch-input#handleClose" data-target="qbsearch-input.searchSuggestionsDialog" role="dialog" id="search-suggestions-dialog" aria-modal="true" aria-labelledby="search-suggestions-dialog-header" data-view-component="true" class="Overlay Overlay--width-medium Overlay--height-auto">
      <h1 id="search-suggestions-dialog-header" class="sr-only">Search code, repositories, users, issues, pull requests...</h1>
    <div class="Overlay-body Overlay-body--paddingNone">
      
          <div data-view-component="true">        <div class="search-suggestions position-absolute width-full color-shadow-large border color-fg-default color-bg-default overflow-hidden d-flex flex-column query-builder-container"
          style="border-radius: 12px;"
          data-target="qbsearch-input.queryBuilderContainer"
          hidden
        >
          <!-- '"` --><!-- </textarea></xmp> --></option></form><form id="query-builder-test-form" action="" accept-charset="UTF-8" method="get">
  <query-builder data-target="qbsearch-input.queryBuilder" id="query-builder-query-builder-test" data-filter-key=":" data-view-component="true" class="QueryBuilder search-query-builder">
    <div class="FormControl FormControl--fullWidth">
      <label id="query-builder-test-label" for="query-builder-test" class="FormControl-label sr-only">
        Search
      </label>
      <div
        class="QueryBuilder-StyledInput width-fit "
        data-target="query-builder.styledInput"
      >
          <span id="query-builder-test-leadingvisual-wrap" class="FormControl-input-leadingVisualWrap QueryBuilder-leadingVisualWrap">
            <svg aria-hidden="true" height="16" viewBox="0 0 16 16" version="1.1" width="16" data-view-component="true" class="octicon octicon-search FormControl-input-leadingVisual">
    <path d="M10.68 11.74a6 6 0 0 1-7.922-8.982 6 6 0 0 1 8.982 7.922l3.04 3.04a.749.749 0 0 1-.326 1.275.749.749 0 0 1-.734-.215ZM11.5 7a4.499 4.499 0 1 0-8.997 0A4.499 4.499 0 0 0 11.5 7Z"></path>
</svg>
          </span>
        <div data-target="query-builder.styledInputContainer" class="QueryBuilder-StyledInputContainer">
          <div
            aria-hidden="true"
            class="QueryBuilder-StyledInputContent"
            data-target="query-builder.styledInputContent"
          ></div>
          <div class="QueryBuilder-InputWrapper">
            <div aria-hidden="true" class="QueryBuilder-Sizer" data-target="query-builder.sizer"></div>
            <input id="query-builder-test" name="query-builder-test" value="" autocomplete="off" type="text" role="combobox" spellcheck="false" aria-expanded="false" aria-describedby="validation-0299f926-8530-4cfb-98fc-a07434c5e0e6" data-target="query-builder.input" data-action="
          input:query-builder#inputChange
          blur:query-builder#inputBlur
          keydown:query-builder#inputKeydown
          focus:query-builder#inputFocus
        " data-view-component="true" class="FormControl-input QueryBuilder-Input FormControl-medium" />
          </div>
        </div>
          <span class="sr-only" id="query-builder-test-clear">Clear</span>
          
  <button role="button" id="query-builder-test-clear-button" aria-labelledby="query-builder-test-clear query-builder-test-label" data-target="query-builder.clearButton" data-action="
                click:query-builder#clear
                focus:query-builder#clearButtonFocus
                blur:query-builder#clearButtonBlur
              " variant="small" hidden="hidden" type="button" data-view-component="true" class="Button Button--iconOnly Button--invisible Button--medium mr-1 px-2 py-0 d-flex flex-items-center rounded-1 color-fg-muted">    <svg aria-hidden="true" height="16" viewBox="0 0 16 16" version="1.1" width="16" data-view-component="true" class="octicon octicon-x-circle-fill Button-visual">
    <path d="M2.343 13.657A8 8 0 1 1 13.658 2.343 8 8 0 0 1 2.343 13.657ZM6.03 4.97a.751.751 0 0 0-1.042.018.751.751 0 0 0-.018 1.042L6.94 8 4.97 9.97a.749.749 0 0 0 .326 1.275.749.749 0 0 0 .734-.215L8 9.06l1.97 1.97a.749.749 0 0 0 1.275-.326.749.749 0 0 0-.215-.734L9.06 8l1.97-1.97a.749.749 0 0 0-.326-1.275.749.749 0 0 0-.734.215L8 6.94Z"></path>
</svg>
</button>  

      </div>
      <template id="search-icon">
  <svg aria-hidden="true" height="16" viewBox="0 0 16 16" version="1.1" width="16" data-view-component="true" class="octicon octicon-search">
    <path d="M10.68 11.74a6 6 0 0 1-7.922-8.982 6 6 0 0 1 8.982 7.922l3.04 3.04a.749.749 0 0 1-.326 1.275.749.749 0 0 1-.734-.215ZM11.5 7a4.499 4.499 0 1 0-8.997 0A4.499 4.499 0 0 0 11.5 7Z"></path>
</svg>
</template>

<template id="code-icon">
  <svg aria-hidden="true" height="16" viewBox="0 0 16 16" version="1.1" width="16" data-view-component="true" class="octicon octicon-code">
    <path d="m11.28 3.22 4.25 4.25a.75.75 0 0 1 0 1.06l-4.25 4.25a.749.749 0 0 1-1.275-.326.749.749 0 0 1 .215-.734L13.94 8l-3.72-3.72a.749.749 0 0 1 .326-1.275.749.749 0 0 1 .734.215Zm-6.56 0a.751.751 0 0 1 1.042.018.751.751 0 0 1 .018 1.042L2.06 8l3.72 3.72a.749.749 0 0 1-.326 1.275.749.749 0 0 1-.734-.215L.47 8.53a.75.75 0 0 1 0-1.06Z"></path>
</svg>
</template>

<template id="file-code-icon">
  <svg aria-hidden="true" height="16" viewBox="0 0 16 16" version="1.1" width="16" data-view-component="true" class="octicon octicon-file-code">
    <path d="M4 1.75C4 .784 4.784 0 5.75 0h5.586c.464 0 .909.184 1.237.513l2.914 2.914c.329.328.513.773.513 1.237v8.586A1.75 1.75 0 0 1 14.25 15h-9a.75.75 0 0 1 0-1.5h9a.25.25 0 0 0 .25-.25V6h-2.75A1.75 1.75 0 0 1 10 4.25V1.5H5.75a.25.25 0 0 0-.25.25v2.5a.75.75 0 0 1-1.5 0Zm1.72 4.97a.75.75 0 0 1 1.06 0l2 2a.75.75 0 0 1 0 1.06l-2 2a.749.749 0 0 1-1.275-.326.749.749 0 0 1 .215-.734l1.47-1.47-1.47-1.47a.75.75 0 0 1 0-1.06ZM3.28 7.78 1.81 9.25l1.47 1.47a.751.751 0 0 1-.018 1.042.751.751 0 0 1-1.042.018l-2-2a.75.75 0 0 1 0-1.06l2-2a.751.751 0 0 1 1.042.018.751.751 0 0 1 .018 1.042Zm8.22-6.218V4.25c0 .138.112.25.25.25h2.688l-.011-.013-2.914-2.914-.013-.011Z"></path>
</svg>
</template>

<template id="history-icon">
  <svg aria-hidden="true" height="16" viewBox="0 0 16 16" version="1.1" width="16" data-view-component="true" class="octicon octicon-history">
    <path d="m.427 1.927 1.215 1.215a8.002 8.002 0 1 1-1.6 5.685.75.75 0 1 1 1.493-.154 6.5 6.5 0 1 0 1.18-4.458l1.358 1.358A.25.25 0 0 1 3.896 6H.25A.25.25 0 0 1 0 5.75V2.104a.25.25 0 0 1 .427-.177ZM7.75 4a.75.75 0 0 1 .75.75v2.992l2.028.812a.75.75 0 0 1-.557 1.392l-2.5-1A.751.751 0 0 1 7 8.25v-3.5A.75.75 0 0 1 7.75 4Z"></path>
</svg>
</template>

<template id="repo-icon">
  <svg aria-hidden="true" height="16" viewBox="0 0 16 16" version="1.1" width="16" data-view-component="true" class="octicon octicon-repo">
    <path d="M2 2.5A2.5 2.5 0 0 1 4.5 0h8.75a.75.75 0 0 1 .75.75v12.5a.75.75 0 0 1-.75.75h-2.5a.75.75 0 0 1 0-1.5h1.75v-2h-8a1 1 0 0 0-.714 1.7.75.75 0 1 1-1.072 1.05A2.495 2.495 0 0 1 2 11.5Zm10.5-1h-8a1 1 0 0 0-1 1v6.708A2.486 2.486 0 0 1 4.5 9h8ZM5 12.25a.25.25 0 0 1 .25-.25h3.5a.25.25 0 0 1 .25.25v3.25a.25.25 0 0 1-.4.2l-1.45-1.087a.249.249 0 0 0-.3 0L5.4 15.7a.25.25 0 0 1-.4-.2Z"></path>
</svg>
</template>

<template id="bookmark-icon">
  <svg aria-hidden="true" height="16" viewBox="0 0 16 16" version="1.1" width="16" data-view-component="true" class="octicon octicon-bookmark">
    <path d="M3 2.75C3 1.784 3.784 1 4.75 1h6.5c.966 0 1.75.784 1.75 1.75v11.5a.75.75 0 0 1-1.227.579L8 11.722l-3.773 3.107A.751.751 0 0 1 3 14.25Zm1.75-.25a.25.25 0 0 0-.25.25v9.91l3.023-2.489a.75.75 0 0 1 .954 0l3.023 2.49V2.75a.25.25 0 0 0-.25-.25Z"></path>
</svg>
</template>

<template id="plus-circle-icon">
  <svg aria-hidden="true" height="16" viewBox="0 0 16 16" version="1.1" width="16" data-view-component="true" class="octicon octicon-plus-circle">
    <path d="M8 0a8 8 0 1 1 0 16A8 8 0 0 1 8 0ZM1.5 8a6.5 6.5 0 1 0 13 0 6.5 6.5 0 0 0-13 0Zm7.25-3.25v2.5h2.5a.75.75 0 0 1 0 1.5h-2.5v2.5a.75.75 0 0 1-1.5 0v-2.5h-2.5a.75.75 0 0 1 0-1.5h2.5v-2.5a.75.75 0 0 1 1.5 0Z"></path>
</svg>
</template>

<template id="circle-icon">
  <svg aria-hidden="true" height="16" viewBox="0 0 16 16" version="1.1" width="16" data-view-component="true" class="octicon octicon-dot-fill">
    <path d="M8 4a4 4 0 1 1 0 8 4 4 0 0 1 0-8Z"></path>
</svg>
</template>

<template id="trash-icon">
  <svg aria-hidden="true" height="16" viewBox="0 0 16 16" version="1.1" width="16" data-view-component="true" class="octicon octicon-trash">
    <path d="M11 1.75V3h2.25a.75.75 0 0 1 0 1.5H2.75a.75.75 0 0 1 0-1.5H5V1.75C5 .784 5.784 0 6.75 0h2.5C10.216 0 11 .784 11 1.75ZM4.496 6.675l.66 6.6a.25.25 0 0 0 .249.225h5.19a.25.25 0 0 0 .249-.225l.66-6.6a.75.75 0 0 1 1.492.149l-.66 6.6A1.748 1.748 0 0 1 10.595 15h-5.19a1.75 1.75 0 0 1-1.741-1.575l-.66-6.6a.75.75 0 1 1 1.492-.15ZM6.5 1.75V3h3V1.75a.25.25 0 0 0-.25-.25h-2.5a.25.25 0 0 0-.25.25Z"></path>
</svg>
</template>

<template id="team-icon">
  <svg aria-hidden="true" height="16" viewBox="0 0 16 16" version="1.1" width="16" data-view-component="true" class="octicon octicon-people">
    <path d="M2 5.5a3.5 3.5 0 1 1 5.898 2.549 5.508 5.508 0 0 1 3.034 4.084.75.75 0 1 1-1.482.235 4 4 0 0 0-7.9 0 .75.75 0 0 1-1.482-.236A5.507 5.507 0 0 1 3.102 8.05 3.493 3.493 0 0 1 2 5.5ZM11 4a3.001 3.001 0 0 1 2.22 5.018 5.01 5.01 0 0 1 2.56 3.012.749.749 0 0 1-.885.954.752.752 0 0 1-.549-.514 3.507 3.507 0 0 0-2.522-2.372.75.75 0 0 1-.574-.73v-.352a.75.75 0 0 1 .416-.672A1.5 1.5 0 0 0 11 5.5.75.75 0 0 1 11 4Zm-5.5-.5a2 2 0 1 0-.001 3.999A2 2 0 0 0 5.5 3.5Z"></path>
</svg>
</template>

<template id="project-icon">
  <svg aria-hidden="true" height="16" viewBox="0 0 16 16" version="1.1" width="16" data-view-component="true" class="octicon octicon-project">
    <path d="M1.75 0h12.5C15.216 0 16 .784 16 1.75v12.5A1.75 1.75 0 0 1 14.25 16H1.75A1.75 1.75 0 0 1 0 14.25V1.75C0 .784.784 0 1.75 0ZM1.5 1.75v12.5c0 .138.112.25.25.25h12.5a.25.25 0 0 0 .25-.25V1.75a.25.25 0 0 0-.25-.25H1.75a.25.25 0 0 0-.25.25ZM11.75 3a.75.75 0 0 1 .75.75v7.5a.75.75 0 0 1-1.5 0v-7.5a.75.75 0 0 1 .75-.75Zm-8.25.75a.75.75 0 0 1 1.5 0v5.5a.75.75 0 0 1-1.5 0ZM8 3a.75.75 0 0 1 .75.75v3.5a.75.75 0 0 1-1.5 0v-3.5A.75.75 0 0 1 8 3Z"></path>
</svg>
</template>

<template id="pencil-icon">
  <svg aria-hidden="true" height="16" viewBox="0 0 16 16" version="1.1" width="16" data-view-component="true" class="octicon octicon-pencil">
    <path d="M11.013 1.427a1.75 1.75 0 0 1 2.474 0l1.086 1.086a1.75 1.75 0 0 1 0 2.474l-8.61 8.61c-.21.21-.47.364-.756.445l-3.251.93a.75.75 0 0 1-.927-.928l.929-3.25c.081-.286.235-.547.445-.758l8.61-8.61Zm.176 4.823L9.75 4.81l-6.286 6.287a.253.253 0 0 0-.064.108l-.558 1.953 1.953-.558a.253.253 0 0 0 .108-.064Zm1.238-3.763a.25.25 0 0 0-.354 0L10.811 3.75l1.439 1.44 1.263-1.263a.25.25 0 0 0 0-.354Z"></path>
</svg>
</template>

        <div class="position-relative">
                <ul
                  role="listbox"
                  class="ActionListWrap QueryBuilder-ListWrap"
                  aria-label="Suggestions"
                  data-action="
                    combobox-commit:query-builder#comboboxCommit
                    mousedown:query-builder#resultsMousedown
                  "
                  data-target="query-builder.resultsList"
                  data-persist-list=false
                  id="query-builder-test-results"
                ></ul>
        </div>
      <div class="FormControl-inlineValidation" id="validation-0299f926-8530-4cfb-98fc-a07434c5e0e6" hidden="hidden">
        <span class="FormControl-inlineValidation--visual">
          <svg aria-hidden="true" height="12" viewBox="0 0 12 12" version="1.1" width="12" data-view-component="true" class="octicon octicon-alert-fill">
    <path d="M4.855.708c.5-.896 1.79-.896 2.29 0l4.675 8.351a1.312 1.312 0 0 1-1.146 1.954H1.33A1.313 1.313 0 0 1 .183 9.058ZM7 7V3H5v4Zm-1 3a1 1 0 1 0 0-2 1 1 0 0 0 0 2Z"></path>
</svg>
        </span>
        <span></span>
</div>    </div>
    <div data-target="query-builder.screenReaderFeedback" aria-live="polite" aria-atomic="true" class="sr-only"></div>
</query-builder></form>
          <div class="d-flex flex-row color-fg-muted px-3 text-small color-bg-default search-feedback-prompt">
            <a target="_blank" href="https://docs.github.com/en/search-github/github-code-search/understanding-github-code-search-syntax" data-view-component="true" class="Link color-fg-accent text-normal ml-2">
              Search syntax tips
</a>            <div class="d-flex flex-1"></div>
                <button data-action="click:qbsearch-input#showFeedbackDialog" type="button" data-view-component="true" class="Button--link Button--medium Button color-fg-accent text-normal ml-2">    <span class="Button-content">
      <span class="Button-label">Give feedback</span>
    </span>
</button>  
          </div>
        </div>
</div>

    </div>
</modal-dialog></div>
  </div>
  <div data-action="click:qbsearch-input#retract" class="dark-backdrop position-fixed" hidden data-target="qbsearch-input.darkBackdrop"></div>
  <div class="color-fg-default">
    
<div class="Overlay--hidden Overlay-backdrop--center" data-modal-dialog-overlay>
  <modal-dialog data-target="qbsearch-input.feedbackDialog" data-action="close:qbsearch-input#handleDialogClose cancel:qbsearch-input#handleDialogClose" role="dialog" id="feedback-dialog" aria-modal="true" aria-disabled="true" aria-labelledby="feedback-dialog-title" aria-describedby="feedback-dialog-description" data-view-component="true" class="Overlay Overlay-whenNarrow Overlay--size-medium Overlay--motion-scaleFade">
    <div data-view-component="true" class="Overlay-header">
  <div class="Overlay-headerContentWrap">
    <div class="Overlay-titleWrap">
      <h1 class="Overlay-title " id="feedback-dialog-title">
        Provide feedback
      </h1>
    </div>
    <div class="Overlay-actionWrap">
      <button data-close-dialog-id="feedback-dialog" aria-label="Close" type="button" data-view-component="true" class="close-button Overlay-closeButton"><svg aria-hidden="true" height="16" viewBox="0 0 16 16" version="1.1" width="16" data-view-component="true" class="octicon octicon-x">
    <path d="M3.72 3.72a.75.75 0 0 1 1.06 0L8 6.94l3.22-3.22a.749.749 0 0 1 1.275.326.749.749 0 0 1-.215.734L9.06 8l3.22 3.22a.749.749 0 0 1-.326 1.275.749.749 0 0 1-.734-.215L8 9.06l-3.22 3.22a.751.751 0 0 1-1.042-.018.751.751 0 0 1-.018-1.042L6.94 8 3.72 4.78a.75.75 0 0 1 0-1.06Z"></path>
</svg></button>
    </div>
  </div>
</div>
      <div data-view-component="true" class="Overlay-body">        <!-- '"` --><!-- </textarea></xmp> --></option></form><form id="code-search-feedback-form" data-turbo="false" action="/search/feedback" accept-charset="UTF-8" method="post"><input type="hidden" name="authenticity_token" value="NFa3cMK8I06Ru8AF4zSkvzCY_Sfm17FIINNvVIRPGqSZv5Wlt7fYXhXUyF5yR-0akg3Z6XX214MiEubKfA_nQg" />
          <p>We read every piece of feedback, and take your input very seriously.</p>
          <textarea name="feedback" class="form-control width-full mb-2" style="height: 120px" id="feedback"></textarea>
          <input name="include_email" id="include_email" aria-label="Include my email address so I can be contacted" class="form-control mr-2" type="checkbox">
          <label for="include_email" style="font-weight: normal">Include my email address so I can be contacted</label>
</form></div>
      <div data-view-component="true" class="Overlay-footer Overlay-footer--alignEnd">          <button data-close-dialog-id="feedback-dialog" type="button" data-view-component="true" class="btn">    Cancel
</button>
          <button form="code-search-feedback-form" data-action="click:qbsearch-input#submitFeedback" type="submit" data-view-component="true" class="btn-primary btn">    Submit feedback
</button>
</div>
</modal-dialog></div>

    <custom-scopes data-target="qbsearch-input.customScopesManager">
    
<div class="Overlay--hidden Overlay-backdrop--center" data-modal-dialog-overlay>
  <modal-dialog data-target="custom-scopes.customScopesModalDialog" data-action="close:qbsearch-input#handleDialogClose cancel:qbsearch-input#handleDialogClose" role="dialog" id="custom-scopes-dialog" aria-modal="true" aria-disabled="true" aria-labelledby="custom-scopes-dialog-title" aria-describedby="custom-scopes-dialog-description" data-view-component="true" class="Overlay Overlay-whenNarrow Overlay--size-medium Overlay--motion-scaleFade">
    <div data-view-component="true" class="Overlay-header Overlay-header--divided">
  <div class="Overlay-headerContentWrap">
    <div class="Overlay-titleWrap">
      <h1 class="Overlay-title " id="custom-scopes-dialog-title">
        Saved searches
      </h1>
        <h2 id="custom-scopes-dialog-description" class="Overlay-description">Use saved searches to filter your results more quickly</h2>
    </div>
    <div class="Overlay-actionWrap">
      <button data-close-dialog-id="custom-scopes-dialog" aria-label="Close" type="button" data-view-component="true" class="close-button Overlay-closeButton"><svg aria-hidden="true" height="16" viewBox="0 0 16 16" version="1.1" width="16" data-view-component="true" class="octicon octicon-x">
    <path d="M3.72 3.72a.75.75 0 0 1 1.06 0L8 6.94l3.22-3.22a.749.749 0 0 1 1.275.326.749.749 0 0 1-.215.734L9.06 8l3.22 3.22a.749.749 0 0 1-.326 1.275.749.749 0 0 1-.734-.215L8 9.06l-3.22 3.22a.751.751 0 0 1-1.042-.018.751.751 0 0 1-.018-1.042L6.94 8 3.72 4.78a.75.75 0 0 1 0-1.06Z"></path>
</svg></button>
    </div>
  </div>
</div>
      <div data-view-component="true" class="Overlay-body">        <div data-target="custom-scopes.customScopesModalDialogFlash"></div>

        <div hidden class="create-custom-scope-form" data-target="custom-scopes.createCustomScopeForm">
        <!-- '"` --><!-- </textarea></xmp> --></option></form><form id="custom-scopes-dialog-form" data-turbo="false" action="/search/custom_scopes" accept-charset="UTF-8" method="post"><input type="hidden" name="authenticity_token" value="DFBaMwpfW0oFnbLFTCjOZuKOKR721raSPSQG4SkQY-RZGn5Yc0qPymdmzJ7mQX63UdC10Zuown3w2VLFAHOWZQ" />
          <div data-target="custom-scopes.customScopesModalDialogFlash"></div>

          <input type="hidden" id="custom_scope_id" name="custom_scope_id" data-target="custom-scopes.customScopesIdField">

          <div class="form-group">
            <label for="custom_scope_name">Name</label>
            <auto-check src="/search/custom_scopes/check_name" required>
              <input
                type="text"
                name="custom_scope_name"
                id="custom_scope_name"
                data-target="custom-scopes.customScopesNameField"
                class="form-control"
                autocomplete="off"
                placeholder="github-ruby"
                required
                maxlength="50">
              <input type="hidden" value="5tV1znNcwEzABbHk0DQOfPECNg1VoPcKbsI48Te9eT_hs6H0B_0vCdmB3I5g1qHdkVIzKTtVz41_Vvftxbn5HA" data-csrf="true" />
            </auto-check>
          </div>

          <div class="form-group">
            <label for="custom_scope_query">Query</label>
            <input
              type="text"
              name="custom_scope_query"
              id="custom_scope_query"
              data-target="custom-scopes.customScopesQueryField"
              class="form-control"
              autocomplete="off"
              placeholder="(repo:mona/a OR repo:mona/b) AND lang:python"
              required
              maxlength="500">
          </div>

          <p class="text-small color-fg-muted">
            To see all available qualifiers, see our <a class="Link--inTextBlock" href="https://docs.github.com/en/search-github/github-code-search/understanding-github-code-search-syntax">documentation</a>.
          </p>
</form>        </div>

        <div data-target="custom-scopes.manageCustomScopesForm">
          <div data-target="custom-scopes.list"></div>
        </div>

</div>
      <div data-view-component="true" class="Overlay-footer Overlay-footer--alignEnd Overlay-footer--divided">          <button data-action="click:custom-scopes#customScopesCancel" type="button" data-view-component="true" class="btn">    Cancel
</button>
          <button form="custom-scopes-dialog-form" data-action="click:custom-scopes#customScopesSubmit" data-target="custom-scopes.customScopesSubmitButton" type="submit" data-view-component="true" class="btn-primary btn">    Create saved search
</button>
</div>
</modal-dialog></div>
    </custom-scopes>
  </div>
</qbsearch-input><input type="hidden" value="wTrQkhAsPZdr3l9Y0K_v6JbakdkiYUtbDabrwG7v5p4e3_llagjDpEQluSMTUG9RU5X5GRU6rJQOvFnIRbbjfQ" data-csrf="true" class="js-data-jump-to-suggestions-path-csrf" />

          </div>

        <div class="AppHeader-actions position-relative">
          <action-menu data-select-variant="none" data-view-component="true">
  <focus-group direction="vertical" mnemonics retain>
    <div data-view-component="true" class="Button-withTooltip">  <button id="global-create-menu-button" popovertarget="global-create-menu-overlay" aria-label="Create something new" aria-controls="global-create-menu-list" aria-haspopup="true" type="button" data-view-component="true" class="AppHeader-button Button--secondary Button--small Button width-auto color-fg-muted">    <span class="Button-content">
        <span class="Button-visual Button-leadingVisual">
          <svg aria-hidden="true" height="16" viewBox="0 0 16 16" version="1.1" width="16" data-view-component="true" class="octicon octicon-plus">
    <path d="M7.75 2a.75.75 0 0 1 .75.75V7h4.25a.75.75 0 0 1 0 1.5H8.5v4.25a.75.75 0 0 1-1.5 0V8.5H2.75a.75.75 0 0 1 0-1.5H7V2.75A.75.75 0 0 1 7.75 2Z"></path>
</svg>
        </span>
      <span class="Button-label"><svg aria-hidden="true" height="16" viewBox="0 0 16 16" version="1.1" width="16" data-view-component="true" class="octicon octicon-triangle-down">
    <path d="m4.427 7.427 3.396 3.396a.25.25 0 0 0 .354 0l3.396-3.396A.25.25 0 0 0 11.396 7H4.604a.25.25 0 0 0-.177.427Z"></path>
</svg></span>
    </span>
</button>  <tool-tip id="tooltip-f97b042a-16cd-44b0-81f9-c013444ff906" for="global-create-menu-button" popover="manual" data-direction="s" data-type="description" data-view-component="true" class="sr-only position-absolute">Create new...</tool-tip>
</div>

<anchored-position id="global-create-menu-overlay" anchor="global-create-menu-button" align="end" side="outside-bottom" anchor-offset="normal" popover="auto" data-view-component="true">
  <div data-view-component="true" class="Overlay Overlay--size-auto">
    
      
        <div data-view-component="true">
  <ul aria-labelledby="global-create-menu-button" id="global-create-menu-list" role="menu" data-view-component="true" class="ActionListWrap--inset ActionListWrap">
      <li data-analytics-event="{&quot;category&quot;:&quot;SiteHeaderComponent&quot;,&quot;action&quot;:&quot;add_dropdown&quot;,&quot;label&quot;:&quot;new repository&quot;}" data-targets="action-list.items" role="none" data-view-component="true" class="ActionListItem">
    
    <a href="/new" tabindex="-1" id="item-e3ac23f4-b07c-46d3-ab7a-0fcfda41289a" role="menuitem" data-view-component="true" class="ActionListContent ActionListContent--visual16">
        <span class="ActionListItem-visual ActionListItem-visual--leading">
          <svg aria-hidden="true" height="16" viewBox="0 0 16 16" version="1.1" width="16" data-view-component="true" class="octicon octicon-repo">
    <path d="M2 2.5A2.5 2.5 0 0 1 4.5 0h8.75a.75.75 0 0 1 .75.75v12.5a.75.75 0 0 1-.75.75h-2.5a.75.75 0 0 1 0-1.5h1.75v-2h-8a1 1 0 0 0-.714 1.7.75.75 0 1 1-1.072 1.05A2.495 2.495 0 0 1 2 11.5Zm10.5-1h-8a1 1 0 0 0-1 1v6.708A2.486 2.486 0 0 1 4.5 9h8ZM5 12.25a.25.25 0 0 1 .25-.25h3.5a.25.25 0 0 1 .25.25v3.25a.25.25 0 0 1-.4.2l-1.45-1.087a.249.249 0 0 0-.3 0L5.4 15.7a.25.25 0 0 1-.4-.2Z"></path>
</svg>
        </span>
      
        <span data-view-component="true" class="ActionListItem-label">
              New repository

</span></a>
  
  
</li>
      <li data-analytics-event="{&quot;category&quot;:&quot;SiteHeaderComponent&quot;,&quot;action&quot;:&quot;add_dropdown&quot;,&quot;label&quot;:&quot;import repository&quot;}" data-targets="action-list.items" role="none" data-view-component="true" class="ActionListItem">
    
    <a href="/new/import" tabindex="-1" id="item-f9dbdadd-d238-48cf-9039-f479aa050aed" role="menuitem" data-view-component="true" class="ActionListContent ActionListContent--visual16">
        <span class="ActionListItem-visual ActionListItem-visual--leading">
          <svg aria-hidden="true" height="16" viewBox="0 0 16 16" version="1.1" width="16" data-view-component="true" class="octicon octicon-repo-push">
    <path d="M1 2.5A2.5 2.5 0 0 1 3.5 0h8.75a.75.75 0 0 1 .75.75v3.5a.75.75 0 0 1-1.5 0V1.5h-8a1 1 0 0 0-1 1v6.708A2.493 2.493 0 0 1 3.5 9h3.25a.75.75 0 0 1 0 1.5H3.5a1 1 0 0 0 0 2h5.75a.75.75 0 0 1 0 1.5H3.5A2.5 2.5 0 0 1 1 11.5Zm13.23 7.79h-.001l-1.224-1.224v6.184a.75.75 0 0 1-1.5 0V9.066L10.28 10.29a.75.75 0 0 1-1.06-1.061l2.505-2.504a.75.75 0 0 1 1.06 0L15.29 9.23a.751.751 0 0 1-.018 1.042.751.751 0 0 1-1.042.018Z"></path>
</svg>
        </span>
      
        <span data-view-component="true" class="ActionListItem-label">
                Import repository

</span></a>
  
  
</li>
      <li role="presentation" aria-hidden="true" data-view-component="true" class="ActionList-sectionDivider"></li>
      <li data-analytics-event="{&quot;category&quot;:&quot;SiteHeaderComponent&quot;,&quot;action&quot;:&quot;add_dropdown&quot;,&quot;label&quot;:&quot;new codespace&quot;}" data-targets="action-list.items" role="none" data-view-component="true" class="ActionListItem">
    
    <a href="/codespaces/new" tabindex="-1" id="item-4ad12c5a-cb0d-4eb8-b173-68eeb24445b0" role="menuitem" data-view-component="true" class="ActionListContent ActionListContent--visual16">
        <span class="ActionListItem-visual ActionListItem-visual--leading">
          <svg aria-hidden="true" height="16" viewBox="0 0 16 16" version="1.1" width="16" data-view-component="true" class="octicon octicon-codespaces">
    <path d="M0 11.25c0-.966.784-1.75 1.75-1.75h12.5c.966 0 1.75.784 1.75 1.75v3A1.75 1.75 0 0 1 14.25 16H1.75A1.75 1.75 0 0 1 0 14.25Zm2-9.5C2 .784 2.784 0 3.75 0h8.5C13.216 0 14 .784 14 1.75v5a1.75 1.75 0 0 1-1.75 1.75h-8.5A1.75 1.75 0 0 1 2 6.75Zm1.75-.25a.25.25 0 0 0-.25.25v5c0 .138.112.25.25.25h8.5a.25.25 0 0 0 .25-.25v-5a.25.25 0 0 0-.25-.25Zm-2 9.5a.25.25 0 0 0-.25.25v3c0 .138.112.25.25.25h12.5a.25.25 0 0 0 .25-.25v-3a.25.25 0 0 0-.25-.25Z"></path><path d="M7 12.75a.75.75 0 0 1 .75-.75h4.5a.75.75 0 0 1 0 1.5h-4.5a.75.75 0 0 1-.75-.75Zm-4 0a.75.75 0 0 1 .75-.75h.5a.75.75 0 0 1 0 1.5h-.5a.75.75 0 0 1-.75-.75Z"></path>
</svg>
        </span>
      
        <span data-view-component="true" class="ActionListItem-label">
                New codespace

</span></a>
  
  
</li>
      <li data-analytics-event="{&quot;category&quot;:&quot;SiteHeaderComponent&quot;,&quot;action&quot;:&quot;add_dropdown&quot;,&quot;label&quot;:&quot;new gist&quot;}" data-targets="action-list.items" role="none" data-view-component="true" class="ActionListItem">
    
    <a href="https://gist.github.com/" tabindex="-1" id="item-031e01f9-cfec-4de5-ad4a-c36f3d7c1782" role="menuitem" data-view-component="true" class="ActionListContent ActionListContent--visual16">
        <span class="ActionListItem-visual ActionListItem-visual--leading">
          <svg aria-hidden="true" height="16" viewBox="0 0 16 16" version="1.1" width="16" data-view-component="true" class="octicon octicon-code">
    <path d="m11.28 3.22 4.25 4.25a.75.75 0 0 1 0 1.06l-4.25 4.25a.749.749 0 0 1-1.275-.326.749.749 0 0 1 .215-.734L13.94 8l-3.72-3.72a.749.749 0 0 1 .326-1.275.749.749 0 0 1 .734.215Zm-6.56 0a.751.751 0 0 1 1.042.018.751.751 0 0 1 .018 1.042L2.06 8l3.72 3.72a.749.749 0 0 1-.326 1.275.749.749 0 0 1-.734-.215L.47 8.53a.75.75 0 0 1 0-1.06Z"></path>
</svg>
        </span>
      
        <span data-view-component="true" class="ActionListItem-label">
                New gist

</span></a>
  
  
</li>
      <li role="presentation" aria-hidden="true" data-view-component="true" class="ActionList-sectionDivider"></li>
      <li data-targets="action-list.items" role="none" data-view-component="true" class="ActionListItem">
    
    <a href="/account/organizations/new" tabindex="-1" data-dont-follow-via-test="true" data-analytics-event="{&quot;category&quot;:&quot;SiteHeaderComponent&quot;,&quot;action&quot;:&quot;add_dropdown&quot;,&quot;label&quot;:&quot;new organization&quot;}" id="item-a06eda29-e7bf-4813-a302-3a4abd427bf7" role="menuitem" data-view-component="true" class="ActionListContent ActionListContent--visual16">
        <span class="ActionListItem-visual ActionListItem-visual--leading">
          <svg aria-hidden="true" height="16" viewBox="0 0 16 16" version="1.1" width="16" data-view-component="true" class="octicon octicon-organization">
    <path d="M1.75 16A1.75 1.75 0 0 1 0 14.25V1.75C0 .784.784 0 1.75 0h8.5C11.216 0 12 .784 12 1.75v12.5c0 .085-.006.168-.018.25h2.268a.25.25 0 0 0 .25-.25V8.285a.25.25 0 0 0-.111-.208l-1.055-.703a.749.749 0 1 1 .832-1.248l1.055.703c.487.325.779.871.779 1.456v5.965A1.75 1.75 0 0 1 14.25 16h-3.5a.766.766 0 0 1-.197-.026c-.099.017-.2.026-.303.026h-3a.75.75 0 0 1-.75-.75V14h-1v1.25a.75.75 0 0 1-.75.75Zm-.25-1.75c0 .138.112.25.25.25H4v-1.25a.75.75 0 0 1 .75-.75h2.5a.75.75 0 0 1 .75.75v1.25h2.25a.25.25 0 0 0 .25-.25V1.75a.25.25 0 0 0-.25-.25h-8.5a.25.25 0 0 0-.25.25ZM3.75 6h.5a.75.75 0 0 1 0 1.5h-.5a.75.75 0 0 1 0-1.5ZM3 3.75A.75.75 0 0 1 3.75 3h.5a.75.75 0 0 1 0 1.5h-.5A.75.75 0 0 1 3 3.75Zm4 3A.75.75 0 0 1 7.75 6h.5a.75.75 0 0 1 0 1.5h-.5A.75.75 0 0 1 7 6.75ZM7.75 3h.5a.75.75 0 0 1 0 1.5h-.5a.75.75 0 0 1 0-1.5ZM3 9.75A.75.75 0 0 1 3.75 9h.5a.75.75 0 0 1 0 1.5h-.5A.75.75 0 0 1 3 9.75ZM7.75 9h.5a.75.75 0 0 1 0 1.5h-.5a.75.75 0 0 1 0-1.5Z"></path>
</svg>
        </span>
      
        <span data-view-component="true" class="ActionListItem-label">
                New organization

</span></a>
  
  
</li>
</ul>  
</div>

</div></anchored-position>  </focus-group>
</action-menu>

          <div data-view-component="true" class="Button-withTooltip">
  <a href="/issues" data-analytics-event="{&quot;category&quot;:&quot;Global navigation&quot;,&quot;action&quot;:&quot;ISSUES_HEADER&quot;,&quot;label&quot;:null}" id="icon-button-c6527bf4-7154-4651-8afa-376a900dead9" aria-labelledby="tooltip-0780de24-1830-4f31-899b-d96379278914" data-view-component="true" class="Button Button--iconOnly Button--secondary Button--medium AppHeader-button color-fg-muted">    <svg aria-hidden="true" height="16" viewBox="0 0 16 16" version="1.1" width="16" data-view-component="true" class="octicon octicon-issue-opened Button-visual">
    <path d="M8 9.5a1.5 1.5 0 1 0 0-3 1.5 1.5 0 0 0 0 3Z"></path><path d="M8 0a8 8 0 1 1 0 16A8 8 0 0 1 8 0ZM1.5 8a6.5 6.5 0 1 0 13 0 6.5 6.5 0 0 0-13 0Z"></path>
</svg>
</a>  <tool-tip id="tooltip-0780de24-1830-4f31-899b-d96379278914" for="icon-button-c6527bf4-7154-4651-8afa-376a900dead9" popover="manual" data-direction="s" data-type="label" data-view-component="true" class="sr-only position-absolute">Issues</tool-tip>
</div>
          <div data-view-component="true" class="Button-withTooltip">
  <a href="/pulls" data-analytics-event="{&quot;category&quot;:&quot;Global navigation&quot;,&quot;action&quot;:&quot;PULL_REQUESTS_HEADER&quot;,&quot;label&quot;:null}" id="icon-button-6189f534-099b-4300-aa8a-fe014545684f" aria-labelledby="tooltip-6af329da-a5cb-4d59-95f2-35baa712dd04" data-view-component="true" class="Button Button--iconOnly Button--secondary Button--medium AppHeader-button color-fg-muted">    <svg aria-hidden="true" height="16" viewBox="0 0 16 16" version="1.1" width="16" data-view-component="true" class="octicon octicon-git-pull-request Button-visual">
    <path d="M1.5 3.25a2.25 2.25 0 1 1 3 2.122v5.256a2.251 2.251 0 1 1-1.5 0V5.372A2.25 2.25 0 0 1 1.5 3.25Zm5.677-.177L9.573.677A.25.25 0 0 1 10 .854V2.5h1A2.5 2.5 0 0 1 13.5 5v5.628a2.251 2.251 0 1 1-1.5 0V5a1 1 0 0 0-1-1h-1v1.646a.25.25 0 0 1-.427.177L7.177 3.427a.25.25 0 0 1 0-.354ZM3.75 2.5a.75.75 0 1 0 0 1.5.75.75 0 0 0 0-1.5Zm0 9.5a.75.75 0 1 0 0 1.5.75.75 0 0 0 0-1.5Zm8.25.75a.75.75 0 1 0 1.5 0 .75.75 0 0 0-1.5 0Z"></path>
</svg>
</a>  <tool-tip id="tooltip-6af329da-a5cb-4d59-95f2-35baa712dd04" for="icon-button-6189f534-099b-4300-aa8a-fe014545684f" popover="manual" data-direction="s" data-type="label" data-view-component="true" class="sr-only position-absolute">Pull requests</tool-tip>
</div>

            <div style="left: -205px; top: 34px;" data-view-component="true" class="js-notice Popover position-absolute d-none d-sm-none d-md-block d-lg-block">
  <div data-view-component="true" class="Popover-message Box Popover-message--top-right Popover-message--large p-4 mt-2 mx-auto text-left color-shadow-large">
    <h4 data-view-component="true" class="f5 mb-2">    Issues and Pull Requests
</h4>
        Now available from the navigation bar for immediate access everywhere.

    <div class="mt-3">
      <!-- '"` --><!-- </textarea></xmp> --></option></form><form data-remote="true" class="js-notice-dismiss" data-turbo="false" action="/settings/dismiss-notice/global_nav_button_onboarding" accept-charset="UTF-8" method="post"><input type="hidden" name="authenticity_token" value="DtHijgnKHg0J9O1o9EHSE_aU4INAcfG-sOurJoiwxcX3_3qSXtKLT7dRp2RII3Fte7Madrx6UYTAGcfyd_q0cw" autocomplete="off" />
          <button type="submit" data-view-component="true" class="Button--secondary Button--small Button">    <span class="Button-content">
      <span class="Button-label">Okay, got it!</span>
    </span>
</button>  

</form>    </div>

</div></div>
        </div>

        

<notification-indicator data-channel="eyJjIjoibm90aWZpY2F0aW9uLWNoYW5nZWQ6MTQ2ODE0Mzk3IiwidCI6MTY5NzUyNzAyMX0=--d6a3f3ceffea7ce456d17a3ff2bc0b14695dae7957c3a0c8126882a4834eca0e" data-indicator-mode="none" data-tooltip-global="You have unread notifications" data-tooltip-unavailable="Notifications are unavailable at the moment." data-tooltip-none="You have no unread notifications" data-header-redesign-enabled="true" data-fetch-indicator-src="/notifications/indicator" data-fetch-indicator-enabled="true" data-view-component="true" class="js-socket-channel">
  <a id="AppHeader-notifications-button" href="/notifications"
    class="AppHeader-button Button--secondary"

    style="width:32px;height:32px;"

    data-hotkey="g n"
    data-target="notification-indicator.link"
    aria-label="Notifications"

      data-analytics-event="{&quot;category&quot;:&quot;SiteHeaderComponent&quot;,&quot;action&quot;:&quot;notifications&quot;,&quot;label&quot;:null}"
  >

    <span
      data-target="notification-indicator.badge"
      class="mail-status unread d-none" hidden>
    </span>

      <svg aria-hidden="true" height="16" viewBox="0 0 16 16" version="1.1" width="16" data-view-component="true" class="octicon octicon-inbox color-fg-muted mr-0">
    <path d="M2.8 2.06A1.75 1.75 0 0 1 4.41 1h7.18c.7 0 1.333.417 1.61 1.06l2.74 6.395c.04.093.06.194.06.295v4.5A1.75 1.75 0 0 1 14.25 15H1.75A1.75 1.75 0 0 1 0 13.25v-4.5c0-.101.02-.202.06-.295Zm1.61.44a.25.25 0 0 0-.23.152L1.887 8H4.75a.75.75 0 0 1 .6.3L6.625 10h2.75l1.275-1.7a.75.75 0 0 1 .6-.3h2.863L11.82 2.652a.25.25 0 0 0-.23-.152Zm10.09 7h-2.875l-1.275 1.7a.75.75 0 0 1-.6.3h-3.5a.75.75 0 0 1-.6-.3L4.375 9.5H1.5v3.75c0 .138.112.25.25.25h12.5a.25.25 0 0 0 .25-.25Z"></path>
</svg>
  </a>

    <tool-tip data-target="notification-indicator.tooltip" id="tooltip-b370f793-e782-482e-8bb8-b207862001bc" for="AppHeader-notifications-button" popover="manual" data-direction="s" data-type="description" data-view-component="true" class="sr-only position-absolute">Notifications</tool-tip>
</notification-indicator>

        

        <div class="AppHeader-user">
          <deferred-side-panel data-url="/_side-panels/user?memex_enabled=true&amp;repository=granada&amp;user=Karlett19&amp;user_can_create_organizations=true&amp;user_id=146814397">
  <include-fragment data-target="deferred-side-panel.fragment">
      <user-drawer-side-panel>
      <button aria-label="Open user account menu" data-action="click:deferred-side-panel#loadPanel click:deferred-side-panel#panelOpened" data-show-dialog-id="dialog-26fb4702-cb20-4fe3-b464-b2845f6d1e7e" id="dialog-show-dialog-26fb4702-cb20-4fe3-b464-b2845f6d1e7e" type="button" data-view-component="true" class="AppHeader-logo Button--invisible Button--medium Button Button--invisible-noVisuals color-bg-transparent p-0">    <span class="Button-content">
      <span class="Button-label"><img src="https://avatars.githubusercontent.com/u/146814397?v=4" alt="" size="32" height="32" width="32" data-view-component="true" class="avatar circle" /></span>
    </span>
</button>  

<div class="Overlay--hidden Overlay-backdrop--side Overlay-backdrop--placement-right" data-modal-dialog-overlay>
  <modal-dialog data-target="deferred-side-panel.panel" role="dialog" id="dialog-26fb4702-cb20-4fe3-b464-b2845f6d1e7e" aria-modal="true" aria-disabled="true" aria-labelledby="dialog-26fb4702-cb20-4fe3-b464-b2845f6d1e7e-title" aria-describedby="dialog-26fb4702-cb20-4fe3-b464-b2845f6d1e7e-description" data-view-component="true" class="Overlay Overlay-whenNarrow Overlay--size-small-portrait Overlay--motion-scaleFade SidePanel">
    <div styles="flex-direction: row;" data-view-component="true" class="Overlay-header">
  <div class="Overlay-headerContentWrap">
    <div class="Overlay-titleWrap">
      <h1 class="Overlay-title sr-only" id="dialog-26fb4702-cb20-4fe3-b464-b2845f6d1e7e-title">
        Account menu
      </h1>
            <div data-view-component="true" class="d-flex">
      <div data-view-component="true" class="AppHeader-logo position-relative">
        <img src="https://avatars.githubusercontent.com/u/146814397?v=4" alt="" size="32" height="32" width="32" data-view-component="true" class="avatar circle" />
</div>        <div data-view-component="true" class="overflow-hidden d-flex width-full">        <div data-view-component="true" class="lh-condensed overflow-hidden d-flex flex-column flex-justify-center ml-2 f5 mr-auto width-full">
          <span data-view-component="true" class="Truncate text-bold">
    <span data-view-component="true" class="Truncate-text">
            Karlett19
</span>
</span>          </div>
</div>
</div>
    </div>
    <div class="Overlay-actionWrap">
      <button data-close-dialog-id="dialog-26fb4702-cb20-4fe3-b464-b2845f6d1e7e" aria-label="Close" type="button" data-view-component="true" class="close-button Overlay-closeButton"><svg aria-hidden="true" height="16" viewBox="0 0 16 16" version="1.1" width="16" data-view-component="true" class="octicon octicon-x">
    <path d="M3.72 3.72a.75.75 0 0 1 1.06 0L8 6.94l3.22-3.22a.749.749 0 0 1 1.275.326.749.749 0 0 1-.215.734L9.06 8l3.22 3.22a.749.749 0 0 1-.326 1.275.749.749 0 0 1-.734-.215L8 9.06l-3.22 3.22a.751.751 0 0 1-1.042-.018.751.751 0 0 1-.018-1.042L6.94 8 3.72 4.78a.75.75 0 0 1 0-1.06Z"></path>
</svg></button>
    </div>
  </div>
</div>
      <div data-view-component="true" class="Overlay-body d-flex flex-column height-full px-2">    <div data-view-component="true" class="d-flex flex-column height-full mb-3">
        <nav aria-label="User navigation" data-view-component="true" class="ActionList">
  
  <nav-list>
    <ul data-view-component="true" class="ActionListWrap">
        
          
<li data-item-id="" data-targets="nav-list.items" data-view-component="true" class="ActionListItem">
    
    <button id="item-b8105d05-c2b3-416d-becc-e67aff4ab968" type="button" data-view-component="true" class="ActionListContent ActionListContent--visual16">
        <span class="ActionListItem-visual ActionListItem-visual--leading">
          <span data-view-component="true" class="d-flex flex-items-center">    <svg style="box-sizing: content-box; color: var(--color-icon-primary);" width="16" height="16" viewBox="0 0 16 16" fill="none" data-view-component="true" class="anim-rotate">
  <circle cx="8" cy="8" r="7" stroke="currentColor" stroke-opacity="0.25" stroke-width="2" vector-effect="non-scaling-stroke" fill="none" />
  <path d="M15 8a7.002 7.002 0 00-7-7" stroke="currentColor" stroke-width="2" stroke-linecap="round" vector-effect="non-scaling-stroke" />
</svg>
</span>
        </span>
      
        <span data-view-component="true" class="ActionListItem-label">
          

  <span class="color-fg-muted">
    Loading...
  </span>

</span></button>
  
  
</li>

        
          <li role="presentation" aria-hidden="true" data-view-component="true" class="ActionList-sectionDivider"></li>
        
          
<li data-item-id="" data-targets="nav-list.items" data-view-component="true" class="ActionListItem">
    
    <a data-analytics-event="{&quot;category&quot;:&quot;Global navigation&quot;,&quot;action&quot;:&quot;PROFILE&quot;,&quot;label&quot;:null}" id="item-d84590ab-cdfb-405c-bc7b-a4f222da8ac7" href="https://github.com/Karlett19" data-view-component="true" class="ActionListContent ActionListContent--visual16">
        <span class="ActionListItem-visual ActionListItem-visual--leading">
          <svg aria-hidden="true" height="16" viewBox="0 0 16 16" version="1.1" width="16" data-view-component="true" class="octicon octicon-person">
    <path d="M10.561 8.073a6.005 6.005 0 0 1 3.432 5.142.75.75 0 1 1-1.498.07 4.5 4.5 0 0 0-8.99 0 .75.75 0 0 1-1.498-.07 6.004 6.004 0 0 1 3.431-5.142 3.999 3.999 0 1 1 5.123 0ZM10.5 5a2.5 2.5 0 1 0-5 0 2.5 2.5 0 0 0 5 0Z"></path>
</svg>
        </span>
      
        <span data-view-component="true" class="ActionListItem-label">
          Your profile
</span></a>
  
  
</li>

        
          
<li data-item-id="" data-targets="nav-list.items" data-view-component="true" class="ActionListItem">
    
    <button id="item-eb510c4d-8338-4cb1-bc30-d04fbfc9a25e" type="button" data-view-component="true" class="ActionListContent ActionListContent--visual16">
        <span class="ActionListItem-visual ActionListItem-visual--leading">
          <span data-view-component="true" class="d-flex flex-items-center">    <svg style="box-sizing: content-box; color: var(--color-icon-primary);" width="16" height="16" viewBox="0 0 16 16" fill="none" data-view-component="true" class="anim-rotate">
  <circle cx="8" cy="8" r="7" stroke="currentColor" stroke-opacity="0.25" stroke-width="2" vector-effect="non-scaling-stroke" fill="none" />
  <path d="M15 8a7.002 7.002 0 00-7-7" stroke="currentColor" stroke-width="2" stroke-linecap="round" vector-effect="non-scaling-stroke" />
</svg>
</span>
        </span>
      
        <span data-view-component="true" class="ActionListItem-label">
          

  <span class="color-fg-muted">
    Loading...
  </span>

</span></button>
  
  
</li>

        
          <li role="presentation" aria-hidden="true" data-view-component="true" class="ActionList-sectionDivider"></li>
        
          
<li data-item-id="" data-targets="nav-list.items" data-view-component="true" class="ActionListItem">
    
    <a data-analytics-event="{&quot;category&quot;:&quot;Global navigation&quot;,&quot;action&quot;:&quot;YOUR_REPOSITORIES&quot;,&quot;label&quot;:null}" id="item-c5ca5ade-f59d-4411-b162-175f1ba3b147" href="/Karlett19?tab=repositories" data-view-component="true" class="ActionListContent ActionListContent--visual16">
        <span class="ActionListItem-visual ActionListItem-visual--leading">
          <svg aria-hidden="true" height="16" viewBox="0 0 16 16" version="1.1" width="16" data-view-component="true" class="octicon octicon-repo">
    <path d="M2 2.5A2.5 2.5 0 0 1 4.5 0h8.75a.75.75 0 0 1 .75.75v12.5a.75.75 0 0 1-.75.75h-2.5a.75.75 0 0 1 0-1.5h1.75v-2h-8a1 1 0 0 0-.714 1.7.75.75 0 1 1-1.072 1.05A2.495 2.495 0 0 1 2 11.5Zm10.5-1h-8a1 1 0 0 0-1 1v6.708A2.486 2.486 0 0 1 4.5 9h8ZM5 12.25a.25.25 0 0 1 .25-.25h3.5a.25.25 0 0 1 .25.25v3.25a.25.25 0 0 1-.4.2l-1.45-1.087a.249.249 0 0 0-.3 0L5.4 15.7a.25.25 0 0 1-.4-.2Z"></path>
</svg>
        </span>
      
        <span data-view-component="true" class="ActionListItem-label">
          Your repositories
</span></a>
  
  
</li>

        
          
<li data-item-id="" data-targets="nav-list.items" data-view-component="true" class="ActionListItem">
    
    <a data-analytics-event="{&quot;category&quot;:&quot;Global navigation&quot;,&quot;action&quot;:&quot;YOUR_PROJECTS&quot;,&quot;label&quot;:null}" id="item-0182de44-1b3d-443c-981f-52b7663d9640" href="/Karlett19?tab=projects" data-view-component="true" class="ActionListContent ActionListContent--visual16">
        <span class="ActionListItem-visual ActionListItem-visual--leading">
          <svg aria-hidden="true" height="16" viewBox="0 0 16 16" version="1.1" width="16" data-view-component="true" class="octicon octicon-project">
    <path d="M1.75 0h12.5C15.216 0 16 .784 16 1.75v12.5A1.75 1.75 0 0 1 14.25 16H1.75A1.75 1.75 0 0 1 0 14.25V1.75C0 .784.784 0 1.75 0ZM1.5 1.75v12.5c0 .138.112.25.25.25h12.5a.25.25 0 0 0 .25-.25V1.75a.25.25 0 0 0-.25-.25H1.75a.25.25 0 0 0-.25.25ZM11.75 3a.75.75 0 0 1 .75.75v7.5a.75.75 0 0 1-1.5 0v-7.5a.75.75 0 0 1 .75-.75Zm-8.25.75a.75.75 0 0 1 1.5 0v5.5a.75.75 0 0 1-1.5 0ZM8 3a.75.75 0 0 1 .75.75v3.5a.75.75 0 0 1-1.5 0v-3.5A.75.75 0 0 1 8 3Z"></path>
</svg>
        </span>
      
        <span data-view-component="true" class="ActionListItem-label">
          Your projects
</span></a>
  
  
</li>

        
          
<li data-item-id="" data-targets="nav-list.items" data-view-component="true" class="ActionListItem">
    
    <button id="item-8fb75627-ec0f-4130-8f05-f13639a64c6f" type="button" data-view-component="true" class="ActionListContent ActionListContent--visual16">
        <span class="ActionListItem-visual ActionListItem-visual--leading">
          <span data-view-component="true" class="d-flex flex-items-center">    <svg style="box-sizing: content-box; color: var(--color-icon-primary);" width="16" height="16" viewBox="0 0 16 16" fill="none" data-view-component="true" class="anim-rotate">
  <circle cx="8" cy="8" r="7" stroke="currentColor" stroke-opacity="0.25" stroke-width="2" vector-effect="non-scaling-stroke" fill="none" />
  <path d="M15 8a7.002 7.002 0 00-7-7" stroke="currentColor" stroke-width="2" stroke-linecap="round" vector-effect="non-scaling-stroke" />
</svg>
</span>
        </span>
      
        <span data-view-component="true" class="ActionListItem-label">
          

  <span class="color-fg-muted">
    Loading...
  </span>

</span></button>
  
  
</li>

        
          
<li data-item-id="" data-targets="nav-list.items" data-view-component="true" class="ActionListItem">
    
    <a data-analytics-event="{&quot;category&quot;:&quot;Global navigation&quot;,&quot;action&quot;:&quot;YOUR_STARS&quot;,&quot;label&quot;:null}" id="item-912716ac-3aa1-4abc-956f-3e10b37f8558" href="/Karlett19?tab=stars" data-view-component="true" class="ActionListContent ActionListContent--visual16">
        <span class="ActionListItem-visual ActionListItem-visual--leading">
          <svg aria-hidden="true" height="16" viewBox="0 0 16 16" version="1.1" width="16" data-view-component="true" class="octicon octicon-star">
    <path d="M8 .25a.75.75 0 0 1 .673.418l1.882 3.815 4.21.612a.75.75 0 0 1 .416 1.279l-3.046 2.97.719 4.192a.751.751 0 0 1-1.088.791L8 12.347l-3.766 1.98a.75.75 0 0 1-1.088-.79l.72-4.194L.818 6.374a.75.75 0 0 1 .416-1.28l4.21-.611L7.327.668A.75.75 0 0 1 8 .25Zm0 2.445L6.615 5.5a.75.75 0 0 1-.564.41l-3.097.45 2.24 2.184a.75.75 0 0 1 .216.664l-.528 3.084 2.769-1.456a.75.75 0 0 1 .698 0l2.77 1.456-.53-3.084a.75.75 0 0 1 .216-.664l2.24-2.183-3.096-.45a.75.75 0 0 1-.564-.41L8 2.694Z"></path>
</svg>
        </span>
      
        <span data-view-component="true" class="ActionListItem-label">
          Your stars
</span></a>
  
  
</li>

        
          
<li data-item-id="" data-targets="nav-list.items" data-view-component="true" class="ActionListItem">
    
    <a data-analytics-event="{&quot;category&quot;:&quot;Global navigation&quot;,&quot;action&quot;:&quot;SPONSORS&quot;,&quot;label&quot;:null}" id="item-ad76a719-e73d-420d-823b-ce0bcf2f48d4" href="/sponsors/accounts" data-view-component="true" class="ActionListContent ActionListContent--visual16">
        <span class="ActionListItem-visual ActionListItem-visual--leading">
          <svg aria-hidden="true" height="16" viewBox="0 0 16 16" version="1.1" width="16" data-view-component="true" class="octicon octicon-heart">
    <path d="m8 14.25.345.666a.75.75 0 0 1-.69 0l-.008-.004-.018-.01a7.152 7.152 0 0 1-.31-.17 22.055 22.055 0 0 1-3.434-2.414C2.045 10.731 0 8.35 0 5.5 0 2.836 2.086 1 4.25 1 5.797 1 7.153 1.802 8 3.02 8.847 1.802 10.203 1 11.75 1 13.914 1 16 2.836 16 5.5c0 2.85-2.045 5.231-3.885 6.818a22.066 22.066 0 0 1-3.744 2.584l-.018.01-.006.003h-.002ZM4.25 2.5c-1.336 0-2.75 1.164-2.75 3 0 2.15 1.58 4.144 3.365 5.682A20.58 20.58 0 0 0 8 13.393a20.58 20.58 0 0 0 3.135-2.211C12.92 9.644 14.5 7.65 14.5 5.5c0-1.836-1.414-3-2.75-3-1.373 0-2.609.986-3.029 2.456a.749.749 0 0 1-1.442 0C6.859 3.486 5.623 2.5 4.25 2.5Z"></path>
</svg>
        </span>
      
        <span data-view-component="true" class="ActionListItem-label">
          Your sponsors
</span></a>
  
  
</li>

        
          
<li data-item-id="" data-targets="nav-list.items" data-view-component="true" class="ActionListItem">
    
    <a data-analytics-event="{&quot;category&quot;:&quot;Global navigation&quot;,&quot;action&quot;:&quot;YOUR_GISTS&quot;,&quot;label&quot;:null}" id="item-6dfeb78d-90a5-4cc1-9bf8-26c4c9c91199" href="https://gist.github.com/mine" data-view-component="true" class="ActionListContent ActionListContent--visual16">
        <span class="ActionListItem-visual ActionListItem-visual--leading">
          <svg aria-hidden="true" height="16" viewBox="0 0 16 16" version="1.1" width="16" data-view-component="true" class="octicon octicon-code-square">
    <path d="M0 1.75C0 .784.784 0 1.75 0h12.5C15.216 0 16 .784 16 1.75v12.5A1.75 1.75 0 0 1 14.25 16H1.75A1.75 1.75 0 0 1 0 14.25Zm1.75-.25a.25.25 0 0 0-.25.25v12.5c0 .138.112.25.25.25h12.5a.25.25 0 0 0 .25-.25V1.75a.25.25 0 0 0-.25-.25Zm7.47 3.97a.75.75 0 0 1 1.06 0l2 2a.75.75 0 0 1 0 1.06l-2 2a.749.749 0 0 1-1.275-.326.749.749 0 0 1 .215-.734L10.69 8 9.22 6.53a.75.75 0 0 1 0-1.06ZM6.78 6.53 5.31 8l1.47 1.47a.749.749 0 0 1-.326 1.275.749.749 0 0 1-.734-.215l-2-2a.75.75 0 0 1 0-1.06l2-2a.751.751 0 0 1 1.042.018.751.751 0 0 1 .018 1.042Z"></path>
</svg>
        </span>
      
        <span data-view-component="true" class="ActionListItem-label">
          Your gists
</span></a>
  
  
</li>

        
          <li role="presentation" aria-hidden="true" data-view-component="true" class="ActionList-sectionDivider"></li>
        
          
<li data-item-id="" data-targets="nav-list.items" data-view-component="true" class="ActionListItem">
    
    <button id="item-94aa5194-ecd3-49d6-b0f6-f324d488f62a" type="button" data-view-component="true" class="ActionListContent ActionListContent--visual16">
        <span class="ActionListItem-visual ActionListItem-visual--leading">
          <span data-view-component="true" class="d-flex flex-items-center">    <svg style="box-sizing: content-box; color: var(--color-icon-primary);" width="16" height="16" viewBox="0 0 16 16" fill="none" data-view-component="true" class="anim-rotate">
  <circle cx="8" cy="8" r="7" stroke="currentColor" stroke-opacity="0.25" stroke-width="2" vector-effect="non-scaling-stroke" fill="none" />
  <path d="M15 8a7.002 7.002 0 00-7-7" stroke="currentColor" stroke-width="2" stroke-linecap="round" vector-effect="non-scaling-stroke" />
</svg>
</span>
        </span>
      
        <span data-view-component="true" class="ActionListItem-label">
          

  <span class="color-fg-muted">
    Loading...
  </span>

</span></button>
  
  
</li>

        
          
<li data-item-id="" data-targets="nav-list.items" data-view-component="true" class="ActionListItem">
    
    <button id="item-85a63fda-4199-45d7-a2c1-69d7697351b0" type="button" data-view-component="true" class="ActionListContent ActionListContent--visual16">
        <span class="ActionListItem-visual ActionListItem-visual--leading">
          <span data-view-component="true" class="d-flex flex-items-center">    <svg style="box-sizing: content-box; color: var(--color-icon-primary);" width="16" height="16" viewBox="0 0 16 16" fill="none" data-view-component="true" class="anim-rotate">
  <circle cx="8" cy="8" r="7" stroke="currentColor" stroke-opacity="0.25" stroke-width="2" vector-effect="non-scaling-stroke" fill="none" />
  <path d="M15 8a7.002 7.002 0 00-7-7" stroke="currentColor" stroke-width="2" stroke-linecap="round" vector-effect="non-scaling-stroke" />
</svg>
</span>
        </span>
      
        <span data-view-component="true" class="ActionListItem-label">
          

  <span class="color-fg-muted">
    Loading...
  </span>

</span></button>
  
  
</li>

        
          
<li data-item-id="" data-targets="nav-list.items" data-view-component="true" class="ActionListItem">
    
    <button id="item-8fa12aa2-9de1-4eb8-8775-2e45dbaa723d" type="button" data-view-component="true" class="ActionListContent ActionListContent--visual16">
        <span class="ActionListItem-visual ActionListItem-visual--leading">
          <span data-view-component="true" class="d-flex flex-items-center">    <svg style="box-sizing: content-box; color: var(--color-icon-primary);" width="16" height="16" viewBox="0 0 16 16" fill="none" data-view-component="true" class="anim-rotate">
  <circle cx="8" cy="8" r="7" stroke="currentColor" stroke-opacity="0.25" stroke-width="2" vector-effect="non-scaling-stroke" fill="none" />
  <path d="M15 8a7.002 7.002 0 00-7-7" stroke="currentColor" stroke-width="2" stroke-linecap="round" vector-effect="non-scaling-stroke" />
</svg>
</span>
        </span>
      
        <span data-view-component="true" class="ActionListItem-label">
          

  <span class="color-fg-muted">
    Loading...
  </span>

</span></button>
  
  
</li>

        
          
<li data-item-id="" data-targets="nav-list.items" data-view-component="true" class="ActionListItem">
    
    <a data-analytics-event="{&quot;category&quot;:&quot;Global navigation&quot;,&quot;action&quot;:&quot;SETTINGS&quot;,&quot;label&quot;:null}" id="item-1c8ad5a9-3428-4891-a921-c9c01a3c55b6" href="/settings/profile" data-view-component="true" class="ActionListContent ActionListContent--visual16">
        <span class="ActionListItem-visual ActionListItem-visual--leading">
          <svg aria-hidden="true" height="16" viewBox="0 0 16 16" version="1.1" width="16" data-view-component="true" class="octicon octicon-gear">
    <path d="M8 0a8.2 8.2 0 0 1 .701.031C9.444.095 9.99.645 10.16 1.29l.288 1.107c.018.066.079.158.212.224.231.114.454.243.668.386.123.082.233.09.299.071l1.103-.303c.644-.176 1.392.021 1.82.63.27.385.506.792.704 1.218.315.675.111 1.422-.364 1.891l-.814.806c-.049.048-.098.147-.088.294.016.257.016.515 0 .772-.01.147.038.246.088.294l.814.806c.475.469.679 1.216.364 1.891a7.977 7.977 0 0 1-.704 1.217c-.428.61-1.176.807-1.82.63l-1.102-.302c-.067-.019-.177-.011-.3.071a5.909 5.909 0 0 1-.668.386c-.133.066-.194.158-.211.224l-.29 1.106c-.168.646-.715 1.196-1.458 1.26a8.006 8.006 0 0 1-1.402 0c-.743-.064-1.289-.614-1.458-1.26l-.289-1.106c-.018-.066-.079-.158-.212-.224a5.738 5.738 0 0 1-.668-.386c-.123-.082-.233-.09-.299-.071l-1.103.303c-.644.176-1.392-.021-1.82-.63a8.12 8.12 0 0 1-.704-1.218c-.315-.675-.111-1.422.363-1.891l.815-.806c.05-.048.098-.147.088-.294a6.214 6.214 0 0 1 0-.772c.01-.147-.038-.246-.088-.294l-.815-.806C.635 6.045.431 5.298.746 4.623a7.92 7.92 0 0 1 .704-1.217c.428-.61 1.176-.807 1.82-.63l1.102.302c.067.019.177.011.3-.071.214-.143.437-.272.668-.386.133-.066.194-.158.211-.224l.29-1.106C6.009.645 6.556.095 7.299.03 7.53.01 7.764 0 8 0Zm-.571 1.525c-.036.003-.108.036-.137.146l-.289 1.105c-.147.561-.549.967-.998 1.189-.173.086-.34.183-.5.29-.417.278-.97.423-1.529.27l-1.103-.303c-.109-.03-.175.016-.195.045-.22.312-.412.644-.573.99-.014.031-.021.11.059.19l.815.806c.411.406.562.957.53 1.456a4.709 4.709 0 0 0 0 .582c.032.499-.119 1.05-.53 1.456l-.815.806c-.081.08-.073.159-.059.19.162.346.353.677.573.989.02.03.085.076.195.046l1.102-.303c.56-.153 1.113-.008 1.53.27.161.107.328.204.501.29.447.222.85.629.997 1.189l.289 1.105c.029.109.101.143.137.146a6.6 6.6 0 0 0 1.142 0c.036-.003.108-.036.137-.146l.289-1.105c.147-.561.549-.967.998-1.189.173-.086.34-.183.5-.29.417-.278.97-.423 1.529-.27l1.103.303c.109.029.175-.016.195-.045.22-.313.411-.644.573-.99.014-.031.021-.11-.059-.19l-.815-.806c-.411-.406-.562-.957-.53-1.456a4.709 4.709 0 0 0 0-.582c-.032-.499.119-1.05.53-1.456l.815-.806c.081-.08.073-.159.059-.19a6.464 6.464 0 0 0-.573-.989c-.02-.03-.085-.076-.195-.046l-1.102.303c-.56.153-1.113.008-1.53-.27a4.44 4.44 0 0 0-.501-.29c-.447-.222-.85-.629-.997-1.189l-.289-1.105c-.029-.11-.101-.143-.137-.146a6.6 6.6 0 0 0-1.142 0ZM11 8a3 3 0 1 1-6 0 3 3 0 0 1 6 0ZM9.5 8a1.5 1.5 0 1 0-3.001.001A1.5 1.5 0 0 0 9.5 8Z"></path>
</svg>
        </span>
      
        <span data-view-component="true" class="ActionListItem-label">
          Settings
</span></a>
  
  
</li>

        
          <li role="presentation" aria-hidden="true" data-view-component="true" class="ActionList-sectionDivider"></li>
        
          
<li data-item-id="" data-targets="nav-list.items" data-view-component="true" class="ActionListItem">
    
    <a data-analytics-event="{&quot;category&quot;:&quot;Global navigation&quot;,&quot;action&quot;:&quot;DOCS&quot;,&quot;label&quot;:null}" id="item-69efcd93-b187-4c05-9e5f-161cb14e87c6" href="https://docs.github.com" data-view-component="true" class="ActionListContent ActionListContent--visual16">
        <span class="ActionListItem-visual ActionListItem-visual--leading">
          <svg aria-hidden="true" height="16" viewBox="0 0 16 16" version="1.1" width="16" data-view-component="true" class="octicon octicon-book">
    <path d="M0 1.75A.75.75 0 0 1 .75 1h4.253c1.227 0 2.317.59 3 1.501A3.743 3.743 0 0 1 11.006 1h4.245a.75.75 0 0 1 .75.75v10.5a.75.75 0 0 1-.75.75h-4.507a2.25 2.25 0 0 0-1.591.659l-.622.621a.75.75 0 0 1-1.06 0l-.622-.621A2.25 2.25 0 0 0 5.258 13H.75a.75.75 0 0 1-.75-.75Zm7.251 10.324.004-5.073-.002-2.253A2.25 2.25 0 0 0 5.003 2.5H1.5v9h3.757a3.75 3.75 0 0 1 1.994.574ZM8.755 4.75l-.004 7.322a3.752 3.752 0 0 1 1.992-.572H14.5v-9h-3.495a2.25 2.25 0 0 0-2.25 2.25Z"></path>
</svg>
        </span>
      
        <span data-view-component="true" class="ActionListItem-label">
          GitHub Docs
</span></a>
  
  
</li>

        
          
<li data-item-id="" data-targets="nav-list.items" data-view-component="true" class="ActionListItem">
    
    <a data-analytics-event="{&quot;category&quot;:&quot;Global navigation&quot;,&quot;action&quot;:&quot;SUPPORT&quot;,&quot;label&quot;:null}" id="item-14de3e6b-a22a-4b3a-93e3-4b64046985f7" href="https://support.github.com" data-view-component="true" class="ActionListContent ActionListContent--visual16">
        <span class="ActionListItem-visual ActionListItem-visual--leading">
          <svg aria-hidden="true" height="16" viewBox="0 0 16 16" version="1.1" width="16" data-view-component="true" class="octicon octicon-people">
    <path d="M2 5.5a3.5 3.5 0 1 1 5.898 2.549 5.508 5.508 0 0 1 3.034 4.084.75.75 0 1 1-1.482.235 4 4 0 0 0-7.9 0 .75.75 0 0 1-1.482-.236A5.507 5.507 0 0 1 3.102 8.05 3.493 3.493 0 0 1 2 5.5ZM11 4a3.001 3.001 0 0 1 2.22 5.018 5.01 5.01 0 0 1 2.56 3.012.749.749 0 0 1-.885.954.752.752 0 0 1-.549-.514 3.507 3.507 0 0 0-2.522-2.372.75.75 0 0 1-.574-.73v-.352a.75.75 0 0 1 .416-.672A1.5 1.5 0 0 0 11 5.5.75.75 0 0 1 11 4Zm-5.5-.5a2 2 0 1 0-.001 3.999A2 2 0 0 0 5.5 3.5Z"></path>
</svg>
        </span>
      
        <span data-view-component="true" class="ActionListItem-label">
          GitHub Support
</span></a>
  
  
</li>

        
          <li role="presentation" aria-hidden="true" data-view-component="true" class="ActionList-sectionDivider"></li>
        
          
<li data-item-id="" data-targets="nav-list.items" data-view-component="true" class="ActionListItem">
    
    <a data-analytics-event="{&quot;category&quot;:&quot;Global navigation&quot;,&quot;action&quot;:&quot;LOGOUT&quot;,&quot;label&quot;:null}" id="item-430aaa2e-e6c8-4cce-9605-b23c8287a5a7" href="/logout" data-view-component="true" class="ActionListContent">
      
        <span data-view-component="true" class="ActionListItem-label">
          Sign out
</span></a>
  
  
</li>

</ul>  </nav-list>
</nav>


</div>
</div>
      
</modal-dialog></div>
  </user-drawer-side-panel>

  </include-fragment>
</deferred-side-panel>
        </div>

        <div class="position-absolute mt-2">
            
<site-header-logged-in-user-menu>

</site-header-logged-in-user-menu>

        </div>
      </div>
    </div>


      <div class="AppHeader-localBar" >
        <nav data-pjax="#js-repo-pjax-container" aria-label="Repository" data-view-component="true" class="js-repo-nav js-sidenav-container-pjax js-responsive-underlinenav overflow-hidden UnderlineNav">

  <ul data-view-component="true" class="UnderlineNav-body list-style-none">
      <li data-view-component="true" class="d-inline-flex">
  <a id="code-tab" href="/cursodatafundamentals/granada" data-tab-item="i0code-tab" data-selected-links="repo_source repo_downloads repo_commits repo_releases repo_tags repo_branches repo_packages repo_deployments repo_attestations /cursodatafundamentals/granada" data-pjax="#repo-content-pjax-container" data-turbo-frame="repo-content-turbo-frame" data-hotkey="g c" data-analytics-event="{&quot;category&quot;:&quot;Underline navbar&quot;,&quot;action&quot;:&quot;Click tab&quot;,&quot;label&quot;:&quot;Code&quot;,&quot;target&quot;:&quot;UNDERLINE_NAV.TAB&quot;}" data-view-component="true" class="UnderlineNav-item no-wrap js-responsive-underlinenav-item js-selected-navigation-item">
    
              <svg aria-hidden="true" height="16" viewBox="0 0 16 16" version="1.1" width="16" data-view-component="true" class="octicon octicon-code UnderlineNav-octicon d-none d-sm-inline">
    <path d="m11.28 3.22 4.25 4.25a.75.75 0 0 1 0 1.06l-4.25 4.25a.749.749 0 0 1-1.275-.326.749.749 0 0 1 .215-.734L13.94 8l-3.72-3.72a.749.749 0 0 1 .326-1.275.749.749 0 0 1 .734.215Zm-6.56 0a.751.751 0 0 1 1.042.018.751.751 0 0 1 .018 1.042L2.06 8l3.72 3.72a.749.749 0 0 1-.326 1.275.749.749 0 0 1-.734-.215L.47 8.53a.75.75 0 0 1 0-1.06Z"></path>
</svg>
        <span data-content="Code">Code</span>
          <span id="code-repo-tab-count" data-pjax-replace="" data-turbo-replace="" title="Not available" data-view-component="true" class="Counter"></span>


    
</a></li>
      <li data-view-component="true" class="d-inline-flex">
  <a id="issues-tab" href="/cursodatafundamentals/granada/issues" data-tab-item="i1issues-tab" data-selected-links="repo_issues repo_labels repo_milestones /cursodatafundamentals/granada/issues" data-pjax="#repo-content-pjax-container" data-turbo-frame="repo-content-turbo-frame" data-hotkey="g i" data-analytics-event="{&quot;category&quot;:&quot;Underline navbar&quot;,&quot;action&quot;:&quot;Click tab&quot;,&quot;label&quot;:&quot;Issues&quot;,&quot;target&quot;:&quot;UNDERLINE_NAV.TAB&quot;}" data-view-component="true" class="UnderlineNav-item no-wrap js-responsive-underlinenav-item js-selected-navigation-item">
    
              <svg aria-hidden="true" height="16" viewBox="0 0 16 16" version="1.1" width="16" data-view-component="true" class="octicon octicon-issue-opened UnderlineNav-octicon d-none d-sm-inline">
    <path d="M8 9.5a1.5 1.5 0 1 0 0-3 1.5 1.5 0 0 0 0 3Z"></path><path d="M8 0a8 8 0 1 1 0 16A8 8 0 0 1 8 0ZM1.5 8a6.5 6.5 0 1 0 13 0 6.5 6.5 0 0 0-13 0Z"></path>
</svg>
        <span data-content="Issues">Issues</span>
          <span id="issues-repo-tab-count" data-pjax-replace="" data-turbo-replace="" title="0" hidden="hidden" data-view-component="true" class="Counter">0</span>


    
</a></li>
      <li data-view-component="true" class="d-inline-flex">
  <a id="pull-requests-tab" href="/cursodatafundamentals/granada/pulls" data-tab-item="i2pull-requests-tab" data-selected-links="repo_pulls checks /cursodatafundamentals/granada/pulls" data-pjax="#repo-content-pjax-container" data-turbo-frame="repo-content-turbo-frame" data-hotkey="g p" data-analytics-event="{&quot;category&quot;:&quot;Underline navbar&quot;,&quot;action&quot;:&quot;Click tab&quot;,&quot;label&quot;:&quot;Pull requests&quot;,&quot;target&quot;:&quot;UNDERLINE_NAV.TAB&quot;}" data-view-component="true" class="UnderlineNav-item no-wrap js-responsive-underlinenav-item js-selected-navigation-item">
    
              <svg aria-hidden="true" height="16" viewBox="0 0 16 16" version="1.1" width="16" data-view-component="true" class="octicon octicon-git-pull-request UnderlineNav-octicon d-none d-sm-inline">
    <path d="M1.5 3.25a2.25 2.25 0 1 1 3 2.122v5.256a2.251 2.251 0 1 1-1.5 0V5.372A2.25 2.25 0 0 1 1.5 3.25Zm5.677-.177L9.573.677A.25.25 0 0 1 10 .854V2.5h1A2.5 2.5 0 0 1 13.5 5v5.628a2.251 2.251 0 1 1-1.5 0V5a1 1 0 0 0-1-1h-1v1.646a.25.25 0 0 1-.427.177L7.177 3.427a.25.25 0 0 1 0-.354ZM3.75 2.5a.75.75 0 1 0 0 1.5.75.75 0 0 0 0-1.5Zm0 9.5a.75.75 0 1 0 0 1.5.75.75 0 0 0 0-1.5Zm8.25.75a.75.75 0 1 0 1.5 0 .75.75 0 0 0-1.5 0Z"></path>
</svg>
        <span data-content="Pull requests">Pull requests</span>
          <span id="pull-requests-repo-tab-count" data-pjax-replace="" data-turbo-replace="" title="0" hidden="hidden" data-view-component="true" class="Counter">0</span>


    
</a></li>
      <li data-view-component="true" class="d-inline-flex">
  <a id="actions-tab" href="/cursodatafundamentals/granada/actions" data-tab-item="i3actions-tab" data-selected-links="repo_actions /cursodatafundamentals/granada/actions" data-pjax="#repo-content-pjax-container" data-turbo-frame="repo-content-turbo-frame" data-hotkey="g a" data-analytics-event="{&quot;category&quot;:&quot;Underline navbar&quot;,&quot;action&quot;:&quot;Click tab&quot;,&quot;label&quot;:&quot;Actions&quot;,&quot;target&quot;:&quot;UNDERLINE_NAV.TAB&quot;}" data-view-component="true" class="UnderlineNav-item no-wrap js-responsive-underlinenav-item js-selected-navigation-item">
    
              <svg aria-hidden="true" height="16" viewBox="0 0 16 16" version="1.1" width="16" data-view-component="true" class="octicon octicon-play UnderlineNav-octicon d-none d-sm-inline">
    <path d="M8 0a8 8 0 1 1 0 16A8 8 0 0 1 8 0ZM1.5 8a6.5 6.5 0 1 0 13 0 6.5 6.5 0 0 0-13 0Zm4.879-2.773 4.264 2.559a.25.25 0 0 1 0 .428l-4.264 2.559A.25.25 0 0 1 6 10.559V5.442a.25.25 0 0 1 .379-.215Z"></path>
</svg>
        <span data-content="Actions">Actions</span>
          <span id="actions-repo-tab-count" data-pjax-replace="" data-turbo-replace="" title="Not available" data-view-component="true" class="Counter"></span>


    
</a></li>
      <li data-view-component="true" class="d-inline-flex">
  <a id="projects-tab" href="/cursodatafundamentals/granada/projects" data-tab-item="i4projects-tab" data-selected-links="repo_projects new_repo_project repo_project /cursodatafundamentals/granada/projects" data-pjax="#repo-content-pjax-container" data-turbo-frame="repo-content-turbo-frame" data-hotkey="g b" data-analytics-event="{&quot;category&quot;:&quot;Underline navbar&quot;,&quot;action&quot;:&quot;Click tab&quot;,&quot;label&quot;:&quot;Projects&quot;,&quot;target&quot;:&quot;UNDERLINE_NAV.TAB&quot;}" data-view-component="true" class="UnderlineNav-item no-wrap js-responsive-underlinenav-item js-selected-navigation-item">
    
              <svg aria-hidden="true" height="16" viewBox="0 0 16 16" version="1.1" width="16" data-view-component="true" class="octicon octicon-table UnderlineNav-octicon d-none d-sm-inline">
    <path d="M0 1.75C0 .784.784 0 1.75 0h12.5C15.216 0 16 .784 16 1.75v12.5A1.75 1.75 0 0 1 14.25 16H1.75A1.75 1.75 0 0 1 0 14.25ZM6.5 6.5v8h7.75a.25.25 0 0 0 .25-.25V6.5Zm8-1.5V1.75a.25.25 0 0 0-.25-.25H6.5V5Zm-13 1.5v7.75c0 .138.112.25.25.25H5v-8ZM5 5V1.5H1.75a.25.25 0 0 0-.25.25V5Z"></path>
</svg>
        <span data-content="Projects">Projects</span>
          <span id="projects-repo-tab-count" data-pjax-replace="" data-turbo-replace="" title="0" hidden="hidden" data-view-component="true" class="Counter">0</span>


    
</a></li>
      <li data-view-component="true" class="d-inline-flex">
  <a id="security-tab" href="/cursodatafundamentals/granada/security" data-tab-item="i5security-tab" data-selected-links="security overview alerts policy token_scanning code_scanning /cursodatafundamentals/granada/security" data-pjax="#repo-content-pjax-container" data-turbo-frame="repo-content-turbo-frame" data-hotkey="g s" data-analytics-event="{&quot;category&quot;:&quot;Underline navbar&quot;,&quot;action&quot;:&quot;Click tab&quot;,&quot;label&quot;:&quot;Security&quot;,&quot;target&quot;:&quot;UNDERLINE_NAV.TAB&quot;}" data-view-component="true" class="UnderlineNav-item no-wrap js-responsive-underlinenav-item js-selected-navigation-item">
    
              <svg aria-hidden="true" height="16" viewBox="0 0 16 16" version="1.1" width="16" data-view-component="true" class="octicon octicon-shield UnderlineNav-octicon d-none d-sm-inline">
    <path d="M7.467.133a1.748 1.748 0 0 1 1.066 0l5.25 1.68A1.75 1.75 0 0 1 15 3.48V7c0 1.566-.32 3.182-1.303 4.682-.983 1.498-2.585 2.813-5.032 3.855a1.697 1.697 0 0 1-1.33 0c-2.447-1.042-4.049-2.357-5.032-3.855C1.32 10.182 1 8.566 1 7V3.48a1.75 1.75 0 0 1 1.217-1.667Zm.61 1.429a.25.25 0 0 0-.153 0l-5.25 1.68a.25.25 0 0 0-.174.238V7c0 1.358.275 2.666 1.057 3.86.784 1.194 2.121 2.34 4.366 3.297a.196.196 0 0 0 .154 0c2.245-.956 3.582-2.104 4.366-3.298C13.225 9.666 13.5 8.36 13.5 7V3.48a.251.251 0 0 0-.174-.237l-5.25-1.68ZM8.75 4.75v3a.75.75 0 0 1-1.5 0v-3a.75.75 0 0 1 1.5 0ZM9 10.5a1 1 0 1 1-2 0 1 1 0 0 1 2 0Z"></path>
</svg>
        <span data-content="Security">Security</span>
          <include-fragment src="/cursodatafundamentals/granada/security/overall-count" accept="text/fragment+html"></include-fragment>

    
</a></li>
      <li data-view-component="true" class="d-inline-flex">
  <a id="insights-tab" href="/cursodatafundamentals/granada/network/dependencies" data-tab-item="i6insights-tab" data-selected-links="repo_graphs repo_contributors dependency_graph dependabot_updates pulse people community /cursodatafundamentals/granada/network/dependencies" data-pjax="#repo-content-pjax-container" data-turbo-frame="repo-content-turbo-frame" data-analytics-event="{&quot;category&quot;:&quot;Underline navbar&quot;,&quot;action&quot;:&quot;Click tab&quot;,&quot;label&quot;:&quot;Insights&quot;,&quot;target&quot;:&quot;UNDERLINE_NAV.TAB&quot;}" data-view-component="true" class="UnderlineNav-item no-wrap js-responsive-underlinenav-item js-selected-navigation-item">
    
              <svg aria-hidden="true" height="16" viewBox="0 0 16 16" version="1.1" width="16" data-view-component="true" class="octicon octicon-graph UnderlineNav-octicon d-none d-sm-inline">
    <path d="M1.5 1.75V13.5h13.75a.75.75 0 0 1 0 1.5H.75a.75.75 0 0 1-.75-.75V1.75a.75.75 0 0 1 1.5 0Zm14.28 2.53-5.25 5.25a.75.75 0 0 1-1.06 0L7 7.06 4.28 9.78a.751.751 0 0 1-1.042-.018.751.751 0 0 1-.018-1.042l3.25-3.25a.75.75 0 0 1 1.06 0L10 7.94l4.72-4.72a.751.751 0 0 1 1.042.018.751.751 0 0 1 .018 1.042Z"></path>
</svg>
        <span data-content="Insights">Insights</span>
          <span id="insights-repo-tab-count" data-pjax-replace="" data-turbo-replace="" title="Not available" data-view-component="true" class="Counter"></span>


    
</a></li>
</ul>
    <div style="visibility:hidden;" data-view-component="true" class="UnderlineNav-actions js-responsive-underlinenav-overflow position-absolute pr-3 pr-md-4 pr-lg-5 right-0">        <details data-view-component="true" class="details-overlay details-reset position-relative">
    <summary role="button" data-view-component="true">          <div class="UnderlineNav-item mr-0 border-0">
            <svg aria-hidden="true" height="16" viewBox="0 0 16 16" version="1.1" width="16" data-view-component="true" class="octicon octicon-kebab-horizontal">
    <path d="M8 9a1.5 1.5 0 1 0 0-3 1.5 1.5 0 0 0 0 3ZM1.5 9a1.5 1.5 0 1 0 0-3 1.5 1.5 0 0 0 0 3Zm13 0a1.5 1.5 0 1 0 0-3 1.5 1.5 0 0 0 0 3Z"></path>
</svg>
            <span class="sr-only">More</span>
          </div>
</summary>
    <details-menu role="menu" data-view-component="true" class="dropdown-menu dropdown-menu-sw">
          <ul>
              <li data-menu-item="i0code-tab" hidden>
                <a role="menuitem" class="js-selected-navigation-item dropdown-item" data-selected-links="repo_source repo_downloads repo_commits repo_releases repo_tags repo_branches repo_packages repo_deployments repo_attestations /cursodatafundamentals/granada" href="/cursodatafundamentals/granada">
                  Code
</a>              </li>
              <li data-menu-item="i1issues-tab" hidden>
                <a role="menuitem" class="js-selected-navigation-item dropdown-item" data-selected-links="repo_issues repo_labels repo_milestones /cursodatafundamentals/granada/issues" href="/cursodatafundamentals/granada/issues">
                  Issues
</a>              </li>
              <li data-menu-item="i2pull-requests-tab" hidden>
                <a role="menuitem" class="js-selected-navigation-item dropdown-item" data-selected-links="repo_pulls checks /cursodatafundamentals/granada/pulls" href="/cursodatafundamentals/granada/pulls">
                  Pull requests
</a>              </li>
              <li data-menu-item="i3actions-tab" hidden>
                <a role="menuitem" class="js-selected-navigation-item dropdown-item" data-selected-links="repo_actions /cursodatafundamentals/granada/actions" href="/cursodatafundamentals/granada/actions">
                  Actions
</a>              </li>
              <li data-menu-item="i4projects-tab" hidden>
                <a role="menuitem" class="js-selected-navigation-item dropdown-item" data-selected-links="repo_projects new_repo_project repo_project /cursodatafundamentals/granada/projects" href="/cursodatafundamentals/granada/projects">
                  Projects
</a>              </li>
              <li data-menu-item="i5security-tab" hidden>
                <a role="menuitem" class="js-selected-navigation-item dropdown-item" data-selected-links="security overview alerts policy token_scanning code_scanning /cursodatafundamentals/granada/security" href="/cursodatafundamentals/granada/security">
                  Security
</a>              </li>
              <li data-menu-item="i6insights-tab" hidden>
                <a role="menuitem" class="js-selected-navigation-item dropdown-item" data-selected-links="repo_graphs repo_contributors dependency_graph dependabot_updates pulse people community /cursodatafundamentals/granada/network/dependencies" href="/cursodatafundamentals/granada/network/dependencies">
                  Insights
</a>              </li>
          </ul>
</details-menu>
</details></div>
</nav>
      </div>
</header>


      <div hidden="hidden" data-view-component="true" class="js-stale-session-flash stale-session-flash flash flash-warn mb-3">
  
        <svg aria-hidden="true" height="16" viewBox="0 0 16 16" version="1.1" width="16" data-view-component="true" class="octicon octicon-alert">
    <path d="M6.457 1.047c.659-1.234 2.427-1.234 3.086 0l6.082 11.378A1.75 1.75 0 0 1 14.082 15H1.918a1.75 1.75 0 0 1-1.543-2.575Zm1.763.707a.25.25 0 0 0-.44 0L1.698 13.132a.25.25 0 0 0 .22.368h12.164a.25.25 0 0 0 .22-.368Zm.53 3.996v2.5a.75.75 0 0 1-1.5 0v-2.5a.75.75 0 0 1 1.5 0ZM9 11a1 1 0 1 1-2 0 1 1 0 0 1 2 0Z"></path>
</svg>
        <span class="js-stale-session-flash-signed-in" hidden>You signed in with another tab or window. <a class="Link--inTextBlock" href="">Reload</a> to refresh your session.</span>
        <span class="js-stale-session-flash-signed-out" hidden>You signed out in another tab or window. <a class="Link--inTextBlock" href="">Reload</a> to refresh your session.</span>
        <span class="js-stale-session-flash-switched" hidden>You switched accounts on another tab or window. <a class="Link--inTextBlock" href="">Reload</a> to refresh your session.</span>

    <div data-view-component="true" class="flash-close">
  <button id="icon-button-3bf5daaa-79d0-48d9-90ca-cb631a4587c5" aria-labelledby="tooltip-f3c3c1e7-a1c4-43ec-9db1-6d33e8830b0e" type="button" data-view-component="true" class="Button Button--iconOnly Button--invisible Button--medium js-flash-close">    <svg aria-hidden="true" height="16" viewBox="0 0 16 16" version="1.1" width="16" data-view-component="true" class="octicon octicon-x Button-visual">
    <path d="M3.72 3.72a.75.75 0 0 1 1.06 0L8 6.94l3.22-3.22a.749.749 0 0 1 1.275.326.749.749 0 0 1-.215.734L9.06 8l3.22 3.22a.749.749 0 0 1-.326 1.275.749.749 0 0 1-.734-.215L8 9.06l-3.22 3.22a.751.751 0 0 1-1.042-.018.751.751 0 0 1-.018-1.042L6.94 8 3.72 4.78a.75.75 0 0 1 0-1.06Z"></path>
</svg>
</button>  <tool-tip id="tooltip-f3c3c1e7-a1c4-43ec-9db1-6d33e8830b0e" for="icon-button-3bf5daaa-79d0-48d9-90ca-cb631a4587c5" popover="manual" data-direction="s" data-type="label" data-view-component="true" class="sr-only position-absolute">Dismiss alert</tool-tip>
</div>

  
</div>
          
    </div>

  <div id="start-of-content" class="show-on-focus"></div>








    <div id="js-flash-container" data-turbo-replace>





  <template class="js-flash-template">
    
<div class="flash flash-full   {{ className }}">
  <div class="px-2" >
    <button autofocus class="flash-close js-flash-close" type="button" aria-label="Dismiss this message">
      <svg aria-hidden="true" height="16" viewBox="0 0 16 16" version="1.1" width="16" data-view-component="true" class="octicon octicon-x">
    <path d="M3.72 3.72a.75.75 0 0 1 1.06 0L8 6.94l3.22-3.22a.749.749 0 0 1 1.275.326.749.749 0 0 1-.215.734L9.06 8l3.22 3.22a.749.749 0 0 1-.326 1.275.749.749 0 0 1-.734-.215L8 9.06l-3.22 3.22a.751.751 0 0 1-1.042-.018.751.751 0 0 1-.018-1.042L6.94 8 3.72 4.78a.75.75 0 0 1 0-1.06Z"></path>
</svg>
    </button>
    <div aria-atomic="true" role="alert" class="js-flash-alert">
      
      <div>{{ message }}</div>

    </div>
  </div>
</div>
  </template>
</div>


    
    <notification-shelf-watcher data-base-url="https://github.com/notifications/beta/shelf" data-channel="eyJjIjoibm90aWZpY2F0aW9uLWNoYW5nZWQ6MTQ2ODE0Mzk3IiwidCI6MTY5NzUyNzAyMX0=--d6a3f3ceffea7ce456d17a3ff2bc0b14695dae7957c3a0c8126882a4834eca0e" data-view-component="true" class="js-socket-channel"></notification-shelf-watcher>
  <div hidden data-initial data-target="notification-shelf-watcher.placeholder"></div>






      <details
  class="details-reset details-overlay details-overlay-dark js-command-palette-dialog"
  id="command-palette-pjax-container"
  data-turbo-replace
>
  <summary aria-label="Command palette trigger" tabindex="-1"></summary>
  <details-dialog class="command-palette-details-dialog d-flex flex-column flex-justify-center height-fit" aria-label="Command palette">
    <command-palette
      class="command-palette color-bg-default rounded-3 border color-shadow-small"
      return-to=/cursodatafundamentals/granada/blob/main/Day%206/M5%20-%2004%20-%20Funciones.ipynb
      user-id="146814397"
      activation-hotkey="Mod+k,Mod+Alt+k"
      command-mode-hotkey="Mod+Shift+k"
      data-action="
        command-palette-input-ready:command-palette#inputReady
        command-palette-page-stack-updated:command-palette#updateInputScope
        itemsUpdated:command-palette#itemsUpdated
        keydown:command-palette#onKeydown
        loadingStateChanged:command-palette#loadingStateChanged
        selectedItemChanged:command-palette#selectedItemChanged
        pageFetchError:command-palette#pageFetchError
      ">

        <command-palette-mode
          data-char="#"
            data-scope-types="[&quot;&quot;]"
            data-placeholder="Search issues and pull requests"
        ></command-palette-mode>
        <command-palette-mode
          data-char="#"
            data-scope-types="[&quot;owner&quot;,&quot;repository&quot;]"
            data-placeholder="Search issues, pull requests, discussions, and projects"
        ></command-palette-mode>
        <command-palette-mode
          data-char="!"
            data-scope-types="[&quot;owner&quot;,&quot;repository&quot;]"
            data-placeholder="Search projects"
        ></command-palette-mode>
        <command-palette-mode
          data-char="@"
            data-scope-types="[&quot;&quot;]"
            data-placeholder="Search or jump to a user, organization, or repository"
        ></command-palette-mode>
        <command-palette-mode
          data-char="@"
            data-scope-types="[&quot;owner&quot;]"
            data-placeholder="Search or jump to a repository"
        ></command-palette-mode>
        <command-palette-mode
          data-char="/"
            data-scope-types="[&quot;repository&quot;]"
            data-placeholder="Search files"
        ></command-palette-mode>
        <command-palette-mode
          data-char="?"
        ></command-palette-mode>
        <command-palette-mode
          data-char="&gt;"
            data-placeholder="Run a command"
        ></command-palette-mode>
        <command-palette-mode
          data-char=""
            data-scope-types="[&quot;&quot;]"
            data-placeholder="Search or jump to..."
        ></command-palette-mode>
        <command-palette-mode
          data-char=""
            data-scope-types="[&quot;owner&quot;]"
            data-placeholder="Search or jump to..."
        ></command-palette-mode>
      <command-palette-mode
        class="js-command-palette-default-mode"
        data-char=""
        data-placeholder="Search or jump to..."
      ></command-palette-mode>

      <command-palette-input placeholder="Search or jump to..."

        data-action="
          command-palette-input:command-palette#onInput
          command-palette-select:command-palette#onSelect
          command-palette-descope:command-palette#onDescope
          command-palette-cleared:command-palette#onInputClear
        "
      >
        <div class="js-search-icon d-flex flex-items-center mr-2" style="height: 26px">
          <svg aria-hidden="true" height="16" viewBox="0 0 16 16" version="1.1" width="16" data-view-component="true" class="octicon octicon-search color-fg-muted">
    <path d="M10.68 11.74a6 6 0 0 1-7.922-8.982 6 6 0 0 1 8.982 7.922l3.04 3.04a.749.749 0 0 1-.326 1.275.749.749 0 0 1-.734-.215ZM11.5 7a4.499 4.499 0 1 0-8.997 0A4.499 4.499 0 0 0 11.5 7Z"></path>
</svg>
        </div>
        <div class="js-spinner d-flex flex-items-center mr-2 color-fg-muted" hidden>
          <svg aria-label="Loading" class="anim-rotate" viewBox="0 0 16 16" fill="none" width="16" height="16">
            <circle
              cx="8"
              cy="8"
              r="7"
              stroke="currentColor"
              stroke-opacity="0.25"
              stroke-width="2"
              vector-effect="non-scaling-stroke"
            ></circle>
            <path
              d="M15 8a7.002 7.002 0 00-7-7"
              stroke="currentColor"
              stroke-width="2"
              stroke-linecap="round"
              vector-effect="non-scaling-stroke"
            ></path>
          </svg>
        </div>
        <command-palette-scope >
          <div data-target="command-palette-scope.placeholder" hidden class="color-fg-subtle">/&nbsp;&nbsp;<span class="text-semibold color-fg-default">...</span>&nbsp;&nbsp;/&nbsp;&nbsp;</div>
              <command-palette-token
                data-text="cursodatafundamentals"
                data-id="U_kgDOBv9YOg"
                data-type="owner"
                data-value="cursodatafundamentals"
                data-targets="command-palette-scope.tokens"
                class="color-fg-default text-semibold"
                style="white-space:nowrap;line-height:20px;"
                >cursodatafundamen...<span class="color-fg-subtle text-normal">&nbsp;&nbsp;/&nbsp;&nbsp;</span></command-palette-token>
              <command-palette-token
                data-text="granada"
                data-id="R_kgDOKbRxuQ"
                data-type="repository"
                data-value="granada"
                data-targets="command-palette-scope.tokens"
                class="color-fg-default text-semibold"
                style="white-space:nowrap;line-height:20px;"
                >granada<span class="color-fg-subtle text-normal">&nbsp;&nbsp;/&nbsp;&nbsp;</span></command-palette-token>
        </command-palette-scope>
        <div class="command-palette-input-group flex-1 form-control border-0 box-shadow-none" style="z-index: 0">
          <div class="command-palette-typeahead position-absolute d-flex flex-items-center Truncate">
            <span class="typeahead-segment input-mirror" data-target="command-palette-input.mirror"></span>
            <span class="Truncate-text" data-target="command-palette-input.typeaheadText"></span>
            <span class="typeahead-segment" data-target="command-palette-input.typeaheadPlaceholder"></span>
          </div>
          <input
            class="js-overlay-input typeahead-input d-none"
            disabled
            tabindex="-1"
            aria-label="Hidden input for typeahead"
          >
          <input
            type="text"
            autocomplete="off"
            autocorrect="off"
            autocapitalize="off"
            spellcheck="false"
            class="js-input typeahead-input form-control border-0 box-shadow-none input-block width-full no-focus-indicator"
            aria-label="Command palette input"
            aria-haspopup="listbox"
            aria-expanded="false"
            aria-autocomplete="list"
            aria-controls="command-palette-page-stack"
            role="combobox"
            data-action="
              input:command-palette-input#onInput
              keydown:command-palette-input#onKeydown
            "
          >
        </div>
          <div data-view-component="true" class="position-relative d-inline-block">
    <button aria-keyshortcuts="Control+Backspace" data-action="click:command-palette-input#onClear keypress:command-palette-input#onClear" data-target="command-palette-input.clearButton" id="command-palette-clear-button" hidden="hidden" type="button" data-view-component="true" class="btn-octicon command-palette-input-clear-button">      <svg aria-hidden="true" height="16" viewBox="0 0 16 16" version="1.1" width="16" data-view-component="true" class="octicon octicon-x-circle-fill">
    <path d="M2.343 13.657A8 8 0 1 1 13.658 2.343 8 8 0 0 1 2.343 13.657ZM6.03 4.97a.751.751 0 0 0-1.042.018.751.751 0 0 0-.018 1.042L6.94 8 4.97 9.97a.749.749 0 0 0 .326 1.275.749.749 0 0 0 .734-.215L8 9.06l1.97 1.97a.749.749 0 0 0 1.275-.326.749.749 0 0 0-.215-.734L9.06 8l1.97-1.97a.749.749 0 0 0-.326-1.275.749.749 0 0 0-.734.215L8 6.94Z"></path>
</svg>
</button>    <tool-tip id="tooltip-3e72ef95-1146-41d5-aaf5-59cf61dac923" for="command-palette-clear-button" popover="manual" data-direction="w" data-type="label" data-view-component="true" class="sr-only position-absolute">Clear Command Palette</tool-tip>
</div>
      </command-palette-input>

      <command-palette-page-stack
        data-default-scope-id="R_kgDOKbRxuQ"
        data-default-scope-type="Repository"
        data-action="command-palette-page-octicons-cached:command-palette-page-stack#cacheOcticons"
      >
          <command-palette-tip
            class="color-fg-muted f6 px-3 py-1 my-2"
              data-scope-types="[&quot;&quot;,&quot;owner&quot;,&quot;repository&quot;]"
            data-mode=""
            data-value="">
            <div class="d-flex flex-items-start flex-justify-between">
              <div>
                <span class="text-bold">Tip:</span>
                  Type <kbd class="hx_kbd">#</kbd> to search pull requests
              </div>
              <div class="ml-2 flex-shrink-0">
                Type <kbd class="hx_kbd">?</kbd> for help and tips
              </div>
            </div>
          </command-palette-tip>
          <command-palette-tip
            class="color-fg-muted f6 px-3 py-1 my-2"
              data-scope-types="[&quot;&quot;,&quot;owner&quot;,&quot;repository&quot;]"
            data-mode=""
            data-value="">
            <div class="d-flex flex-items-start flex-justify-between">
              <div>
                <span class="text-bold">Tip:</span>
                  Type <kbd class="hx_kbd">#</kbd> to search issues
              </div>
              <div class="ml-2 flex-shrink-0">
                Type <kbd class="hx_kbd">?</kbd> for help and tips
              </div>
            </div>
          </command-palette-tip>
          <command-palette-tip
            class="color-fg-muted f6 px-3 py-1 my-2"
              data-scope-types="[&quot;owner&quot;,&quot;repository&quot;]"
            data-mode=""
            data-value="">
            <div class="d-flex flex-items-start flex-justify-between">
              <div>
                <span class="text-bold">Tip:</span>
                  Type <kbd class="hx_kbd">#</kbd> to search discussions
              </div>
              <div class="ml-2 flex-shrink-0">
                Type <kbd class="hx_kbd">?</kbd> for help and tips
              </div>
            </div>
          </command-palette-tip>
          <command-palette-tip
            class="color-fg-muted f6 px-3 py-1 my-2"
              data-scope-types="[&quot;owner&quot;,&quot;repository&quot;]"
            data-mode=""
            data-value="">
            <div class="d-flex flex-items-start flex-justify-between">
              <div>
                <span class="text-bold">Tip:</span>
                  Type <kbd class="hx_kbd">!</kbd> to search projects
              </div>
              <div class="ml-2 flex-shrink-0">
                Type <kbd class="hx_kbd">?</kbd> for help and tips
              </div>
            </div>
          </command-palette-tip>
          <command-palette-tip
            class="color-fg-muted f6 px-3 py-1 my-2"
              data-scope-types="[&quot;owner&quot;]"
            data-mode=""
            data-value="">
            <div class="d-flex flex-items-start flex-justify-between">
              <div>
                <span class="text-bold">Tip:</span>
                  Type <kbd class="hx_kbd">@</kbd> to search teams
              </div>
              <div class="ml-2 flex-shrink-0">
                Type <kbd class="hx_kbd">?</kbd> for help and tips
              </div>
            </div>
          </command-palette-tip>
          <command-palette-tip
            class="color-fg-muted f6 px-3 py-1 my-2"
              data-scope-types="[&quot;&quot;]"
            data-mode=""
            data-value="">
            <div class="d-flex flex-items-start flex-justify-between">
              <div>
                <span class="text-bold">Tip:</span>
                  Type <kbd class="hx_kbd">@</kbd> to search people and organizations
              </div>
              <div class="ml-2 flex-shrink-0">
                Type <kbd class="hx_kbd">?</kbd> for help and tips
              </div>
            </div>
          </command-palette-tip>
          <command-palette-tip
            class="color-fg-muted f6 px-3 py-1 my-2"
              data-scope-types="[&quot;&quot;,&quot;owner&quot;,&quot;repository&quot;]"
            data-mode=""
            data-value="">
            <div class="d-flex flex-items-start flex-justify-between">
              <div>
                <span class="text-bold">Tip:</span>
                  Type <kbd class="hx_kbd">&gt;</kbd> to activate command mode
              </div>
              <div class="ml-2 flex-shrink-0">
                Type <kbd class="hx_kbd">?</kbd> for help and tips
              </div>
            </div>
          </command-palette-tip>
          <command-palette-tip
            class="color-fg-muted f6 px-3 py-1 my-2"
              data-scope-types="[&quot;&quot;,&quot;owner&quot;,&quot;repository&quot;]"
            data-mode=""
            data-value="">
            <div class="d-flex flex-items-start flex-justify-between">
              <div>
                <span class="text-bold">Tip:</span>
                  Go to your accessibility settings to change your keyboard shortcuts
              </div>
              <div class="ml-2 flex-shrink-0">
                Type <kbd class="hx_kbd">?</kbd> for help and tips
              </div>
            </div>
          </command-palette-tip>
          <command-palette-tip
            class="color-fg-muted f6 px-3 py-1 my-2"
              data-scope-types="[&quot;&quot;,&quot;owner&quot;,&quot;repository&quot;]"
            data-mode="#"
            data-value="">
            <div class="d-flex flex-items-start flex-justify-between">
              <div>
                <span class="text-bold">Tip:</span>
                  Type author:@me to search your content
              </div>
              <div class="ml-2 flex-shrink-0">
                Type <kbd class="hx_kbd">?</kbd> for help and tips
              </div>
            </div>
          </command-palette-tip>
          <command-palette-tip
            class="color-fg-muted f6 px-3 py-1 my-2"
              data-scope-types="[&quot;&quot;,&quot;owner&quot;,&quot;repository&quot;]"
            data-mode="#"
            data-value="">
            <div class="d-flex flex-items-start flex-justify-between">
              <div>
                <span class="text-bold">Tip:</span>
                  Type is:pr to filter to pull requests
              </div>
              <div class="ml-2 flex-shrink-0">
                Type <kbd class="hx_kbd">?</kbd> for help and tips
              </div>
            </div>
          </command-palette-tip>
          <command-palette-tip
            class="color-fg-muted f6 px-3 py-1 my-2"
              data-scope-types="[&quot;&quot;,&quot;owner&quot;,&quot;repository&quot;]"
            data-mode="#"
            data-value="">
            <div class="d-flex flex-items-start flex-justify-between">
              <div>
                <span class="text-bold">Tip:</span>
                  Type is:issue to filter to issues
              </div>
              <div class="ml-2 flex-shrink-0">
                Type <kbd class="hx_kbd">?</kbd> for help and tips
              </div>
            </div>
          </command-palette-tip>
          <command-palette-tip
            class="color-fg-muted f6 px-3 py-1 my-2"
              data-scope-types="[&quot;owner&quot;,&quot;repository&quot;]"
            data-mode="#"
            data-value="">
            <div class="d-flex flex-items-start flex-justify-between">
              <div>
                <span class="text-bold">Tip:</span>
                  Type is:project to filter to projects
              </div>
              <div class="ml-2 flex-shrink-0">
                Type <kbd class="hx_kbd">?</kbd> for help and tips
              </div>
            </div>
          </command-palette-tip>
          <command-palette-tip
            class="color-fg-muted f6 px-3 py-1 my-2"
              data-scope-types="[&quot;&quot;,&quot;owner&quot;,&quot;repository&quot;]"
            data-mode="#"
            data-value="">
            <div class="d-flex flex-items-start flex-justify-between">
              <div>
                <span class="text-bold">Tip:</span>
                  Type is:open to filter to open content
              </div>
              <div class="ml-2 flex-shrink-0">
                Type <kbd class="hx_kbd">?</kbd> for help and tips
              </div>
            </div>
          </command-palette-tip>
        <command-palette-tip class="mx-3 my-2 flash flash-error d-flex flex-items-center" data-scope-types="*" data-on-error>
          <div>
            <svg aria-hidden="true" height="16" viewBox="0 0 16 16" version="1.1" width="16" data-view-component="true" class="octicon octicon-alert">
    <path d="M6.457 1.047c.659-1.234 2.427-1.234 3.086 0l6.082 11.378A1.75 1.75 0 0 1 14.082 15H1.918a1.75 1.75 0 0 1-1.543-2.575Zm1.763.707a.25.25 0 0 0-.44 0L1.698 13.132a.25.25 0 0 0 .22.368h12.164a.25.25 0 0 0 .22-.368Zm.53 3.996v2.5a.75.75 0 0 1-1.5 0v-2.5a.75.75 0 0 1 1.5 0ZM9 11a1 1 0 1 1-2 0 1 1 0 0 1 2 0Z"></path>
</svg>
          </div>
          <div class="px-2">
            We’ve encountered an error and some results aren't available at this time. Type a new search or try again later.
          </div>
        </command-palette-tip>
        <command-palette-tip class="h4 color-fg-default pl-3 pb-2 pt-3" data-on-empty data-scope-types="*" data-match-mode="[^?]|^$">
          No results matched your search
        </command-palette-tip>

        <div hidden>

            <div data-targets="command-palette-page-stack.localOcticons" data-octicon-id="arrow-right-color-fg-muted">
              <svg height="16" class="octicon octicon-arrow-right color-fg-muted" viewBox="0 0 16 16" version="1.1" width="16" aria-hidden="true"><path d="M8.22 2.97a.75.75 0 0 1 1.06 0l4.25 4.25a.75.75 0 0 1 0 1.06l-4.25 4.25a.751.751 0 0 1-1.042-.018.751.751 0 0 1-.018-1.042l2.97-2.97H3.75a.75.75 0 0 1 0-1.5h7.44L8.22 4.03a.75.75 0 0 1 0-1.06Z"></path></svg>
            </div>
            <div data-targets="command-palette-page-stack.localOcticons" data-octicon-id="arrow-right-color-fg-default">
              <svg height="16" class="octicon octicon-arrow-right color-fg-default" viewBox="0 0 16 16" version="1.1" width="16" aria-hidden="true"><path d="M8.22 2.97a.75.75 0 0 1 1.06 0l4.25 4.25a.75.75 0 0 1 0 1.06l-4.25 4.25a.751.751 0 0 1-1.042-.018.751.751 0 0 1-.018-1.042l2.97-2.97H3.75a.75.75 0 0 1 0-1.5h7.44L8.22 4.03a.75.75 0 0 1 0-1.06Z"></path></svg>
            </div>
            <div data-targets="command-palette-page-stack.localOcticons" data-octicon-id="codespaces-color-fg-muted">
              <svg height="16" class="octicon octicon-codespaces color-fg-muted" viewBox="0 0 16 16" version="1.1" width="16" aria-hidden="true"><path d="M0 11.25c0-.966.784-1.75 1.75-1.75h12.5c.966 0 1.75.784 1.75 1.75v3A1.75 1.75 0 0 1 14.25 16H1.75A1.75 1.75 0 0 1 0 14.25Zm2-9.5C2 .784 2.784 0 3.75 0h8.5C13.216 0 14 .784 14 1.75v5a1.75 1.75 0 0 1-1.75 1.75h-8.5A1.75 1.75 0 0 1 2 6.75Zm1.75-.25a.25.25 0 0 0-.25.25v5c0 .138.112.25.25.25h8.5a.25.25 0 0 0 .25-.25v-5a.25.25 0 0 0-.25-.25Zm-2 9.5a.25.25 0 0 0-.25.25v3c0 .138.112.25.25.25h12.5a.25.25 0 0 0 .25-.25v-3a.25.25 0 0 0-.25-.25Z"></path><path d="M7 12.75a.75.75 0 0 1 .75-.75h4.5a.75.75 0 0 1 0 1.5h-4.5a.75.75 0 0 1-.75-.75Zm-4 0a.75.75 0 0 1 .75-.75h.5a.75.75 0 0 1 0 1.5h-.5a.75.75 0 0 1-.75-.75Z"></path></svg>
            </div>
            <div data-targets="command-palette-page-stack.localOcticons" data-octicon-id="copy-color-fg-muted">
              <svg height="16" class="octicon octicon-copy color-fg-muted" viewBox="0 0 16 16" version="1.1" width="16" aria-hidden="true"><path d="M0 6.75C0 5.784.784 5 1.75 5h1.5a.75.75 0 0 1 0 1.5h-1.5a.25.25 0 0 0-.25.25v7.5c0 .138.112.25.25.25h7.5a.25.25 0 0 0 .25-.25v-1.5a.75.75 0 0 1 1.5 0v1.5A1.75 1.75 0 0 1 9.25 16h-7.5A1.75 1.75 0 0 1 0 14.25Z"></path><path d="M5 1.75C5 .784 5.784 0 6.75 0h7.5C15.216 0 16 .784 16 1.75v7.5A1.75 1.75 0 0 1 14.25 11h-7.5A1.75 1.75 0 0 1 5 9.25Zm1.75-.25a.25.25 0 0 0-.25.25v7.5c0 .138.112.25.25.25h7.5a.25.25 0 0 0 .25-.25v-7.5a.25.25 0 0 0-.25-.25Z"></path></svg>
            </div>
            <div data-targets="command-palette-page-stack.localOcticons" data-octicon-id="dash-color-fg-muted">
              <svg height="16" class="octicon octicon-dash color-fg-muted" viewBox="0 0 16 16" version="1.1" width="16" aria-hidden="true"><path d="M2 7.75A.75.75 0 0 1 2.75 7h10a.75.75 0 0 1 0 1.5h-10A.75.75 0 0 1 2 7.75Z"></path></svg>
            </div>
            <div data-targets="command-palette-page-stack.localOcticons" data-octicon-id="file-color-fg-muted">
              <svg height="16" class="octicon octicon-file color-fg-muted" viewBox="0 0 16 16" version="1.1" width="16" aria-hidden="true"><path d="M2 1.75C2 .784 2.784 0 3.75 0h6.586c.464 0 .909.184 1.237.513l2.914 2.914c.329.328.513.773.513 1.237v9.586A1.75 1.75 0 0 1 13.25 16h-9.5A1.75 1.75 0 0 1 2 14.25Zm1.75-.25a.25.25 0 0 0-.25.25v12.5c0 .138.112.25.25.25h9.5a.25.25 0 0 0 .25-.25V6h-2.75A1.75 1.75 0 0 1 9 4.25V1.5Zm6.75.062V4.25c0 .138.112.25.25.25h2.688l-.011-.013-2.914-2.914-.013-.011Z"></path></svg>
            </div>
            <div data-targets="command-palette-page-stack.localOcticons" data-octicon-id="gear-color-fg-muted">
              <svg height="16" class="octicon octicon-gear color-fg-muted" viewBox="0 0 16 16" version="1.1" width="16" aria-hidden="true"><path d="M8 0a8.2 8.2 0 0 1 .701.031C9.444.095 9.99.645 10.16 1.29l.288 1.107c.018.066.079.158.212.224.231.114.454.243.668.386.123.082.233.09.299.071l1.103-.303c.644-.176 1.392.021 1.82.63.27.385.506.792.704 1.218.315.675.111 1.422-.364 1.891l-.814.806c-.049.048-.098.147-.088.294.016.257.016.515 0 .772-.01.147.038.246.088.294l.814.806c.475.469.679 1.216.364 1.891a7.977 7.977 0 0 1-.704 1.217c-.428.61-1.176.807-1.82.63l-1.102-.302c-.067-.019-.177-.011-.3.071a5.909 5.909 0 0 1-.668.386c-.133.066-.194.158-.211.224l-.29 1.106c-.168.646-.715 1.196-1.458 1.26a8.006 8.006 0 0 1-1.402 0c-.743-.064-1.289-.614-1.458-1.26l-.289-1.106c-.018-.066-.079-.158-.212-.224a5.738 5.738 0 0 1-.668-.386c-.123-.082-.233-.09-.299-.071l-1.103.303c-.644.176-1.392-.021-1.82-.63a8.12 8.12 0 0 1-.704-1.218c-.315-.675-.111-1.422.363-1.891l.815-.806c.05-.048.098-.147.088-.294a6.214 6.214 0 0 1 0-.772c.01-.147-.038-.246-.088-.294l-.815-.806C.635 6.045.431 5.298.746 4.623a7.92 7.92 0 0 1 .704-1.217c.428-.61 1.176-.807 1.82-.63l1.102.302c.067.019.177.011.3-.071.214-.143.437-.272.668-.386.133-.066.194-.158.211-.224l.29-1.106C6.009.645 6.556.095 7.299.03 7.53.01 7.764 0 8 0Zm-.571 1.525c-.036.003-.108.036-.137.146l-.289 1.105c-.147.561-.549.967-.998 1.189-.173.086-.34.183-.5.29-.417.278-.97.423-1.529.27l-1.103-.303c-.109-.03-.175.016-.195.045-.22.312-.412.644-.573.99-.014.031-.021.11.059.19l.815.806c.411.406.562.957.53 1.456a4.709 4.709 0 0 0 0 .582c.032.499-.119 1.05-.53 1.456l-.815.806c-.081.08-.073.159-.059.19.162.346.353.677.573.989.02.03.085.076.195.046l1.102-.303c.56-.153 1.113-.008 1.53.27.161.107.328.204.501.29.447.222.85.629.997 1.189l.289 1.105c.029.109.101.143.137.146a6.6 6.6 0 0 0 1.142 0c.036-.003.108-.036.137-.146l.289-1.105c.147-.561.549-.967.998-1.189.173-.086.34-.183.5-.29.417-.278.97-.423 1.529-.27l1.103.303c.109.029.175-.016.195-.045.22-.313.411-.644.573-.99.014-.031.021-.11-.059-.19l-.815-.806c-.411-.406-.562-.957-.53-1.456a4.709 4.709 0 0 0 0-.582c-.032-.499.119-1.05.53-1.456l.815-.806c.081-.08.073-.159.059-.19a6.464 6.464 0 0 0-.573-.989c-.02-.03-.085-.076-.195-.046l-1.102.303c-.56.153-1.113.008-1.53-.27a4.44 4.44 0 0 0-.501-.29c-.447-.222-.85-.629-.997-1.189l-.289-1.105c-.029-.11-.101-.143-.137-.146a6.6 6.6 0 0 0-1.142 0ZM11 8a3 3 0 1 1-6 0 3 3 0 0 1 6 0ZM9.5 8a1.5 1.5 0 1 0-3.001.001A1.5 1.5 0 0 0 9.5 8Z"></path></svg>
            </div>
            <div data-targets="command-palette-page-stack.localOcticons" data-octicon-id="lock-color-fg-muted">
              <svg height="16" class="octicon octicon-lock color-fg-muted" viewBox="0 0 16 16" version="1.1" width="16" aria-hidden="true"><path d="M4 4a4 4 0 0 1 8 0v2h.25c.966 0 1.75.784 1.75 1.75v5.5A1.75 1.75 0 0 1 12.25 15h-8.5A1.75 1.75 0 0 1 2 13.25v-5.5C2 6.784 2.784 6 3.75 6H4Zm8.25 3.5h-8.5a.25.25 0 0 0-.25.25v5.5c0 .138.112.25.25.25h8.5a.25.25 0 0 0 .25-.25v-5.5a.25.25 0 0 0-.25-.25ZM10.5 6V4a2.5 2.5 0 1 0-5 0v2Z"></path></svg>
            </div>
            <div data-targets="command-palette-page-stack.localOcticons" data-octicon-id="moon-color-fg-muted">
              <svg height="16" class="octicon octicon-moon color-fg-muted" viewBox="0 0 16 16" version="1.1" width="16" aria-hidden="true"><path d="M9.598 1.591a.749.749 0 0 1 .785-.175 7.001 7.001 0 1 1-8.967 8.967.75.75 0 0 1 .961-.96 5.5 5.5 0 0 0 7.046-7.046.75.75 0 0 1 .175-.786Zm1.616 1.945a7 7 0 0 1-7.678 7.678 5.499 5.499 0 1 0 7.678-7.678Z"></path></svg>
            </div>
            <div data-targets="command-palette-page-stack.localOcticons" data-octicon-id="person-color-fg-muted">
              <svg height="16" class="octicon octicon-person color-fg-muted" viewBox="0 0 16 16" version="1.1" width="16" aria-hidden="true"><path d="M10.561 8.073a6.005 6.005 0 0 1 3.432 5.142.75.75 0 1 1-1.498.07 4.5 4.5 0 0 0-8.99 0 .75.75 0 0 1-1.498-.07 6.004 6.004 0 0 1 3.431-5.142 3.999 3.999 0 1 1 5.123 0ZM10.5 5a2.5 2.5 0 1 0-5 0 2.5 2.5 0 0 0 5 0Z"></path></svg>
            </div>
            <div data-targets="command-palette-page-stack.localOcticons" data-octicon-id="pencil-color-fg-muted">
              <svg height="16" class="octicon octicon-pencil color-fg-muted" viewBox="0 0 16 16" version="1.1" width="16" aria-hidden="true"><path d="M11.013 1.427a1.75 1.75 0 0 1 2.474 0l1.086 1.086a1.75 1.75 0 0 1 0 2.474l-8.61 8.61c-.21.21-.47.364-.756.445l-3.251.93a.75.75 0 0 1-.927-.928l.929-3.25c.081-.286.235-.547.445-.758l8.61-8.61Zm.176 4.823L9.75 4.81l-6.286 6.287a.253.253 0 0 0-.064.108l-.558 1.953 1.953-.558a.253.253 0 0 0 .108-.064Zm1.238-3.763a.25.25 0 0 0-.354 0L10.811 3.75l1.439 1.44 1.263-1.263a.25.25 0 0 0 0-.354Z"></path></svg>
            </div>
            <div data-targets="command-palette-page-stack.localOcticons" data-octicon-id="issue-opened-open">
              <svg height="16" class="octicon octicon-issue-opened open" viewBox="0 0 16 16" version="1.1" width="16" aria-hidden="true"><path d="M8 9.5a1.5 1.5 0 1 0 0-3 1.5 1.5 0 0 0 0 3Z"></path><path d="M8 0a8 8 0 1 1 0 16A8 8 0 0 1 8 0ZM1.5 8a6.5 6.5 0 1 0 13 0 6.5 6.5 0 0 0-13 0Z"></path></svg>
            </div>
            <div data-targets="command-palette-page-stack.localOcticons" data-octicon-id="git-pull-request-draft-color-fg-muted">
              <svg height="16" class="octicon octicon-git-pull-request-draft color-fg-muted" viewBox="0 0 16 16" version="1.1" width="16" aria-hidden="true"><path d="M3.25 1A2.25 2.25 0 0 1 4 5.372v5.256a2.251 2.251 0 1 1-1.5 0V5.372A2.251 2.251 0 0 1 3.25 1Zm9.5 14a2.25 2.25 0 1 1 0-4.5 2.25 2.25 0 0 1 0 4.5ZM2.5 3.25a.75.75 0 1 0 1.5 0 .75.75 0 0 0-1.5 0ZM3.25 12a.75.75 0 1 0 0 1.5.75.75 0 0 0 0-1.5Zm9.5 0a.75.75 0 1 0 0 1.5.75.75 0 0 0 0-1.5ZM14 7.5a1.25 1.25 0 1 1-2.5 0 1.25 1.25 0 0 1 2.5 0Zm0-4.25a1.25 1.25 0 1 1-2.5 0 1.25 1.25 0 0 1 2.5 0Z"></path></svg>
            </div>
            <div data-targets="command-palette-page-stack.localOcticons" data-octicon-id="search-color-fg-muted">
              <svg height="16" class="octicon octicon-search color-fg-muted" viewBox="0 0 16 16" version="1.1" width="16" aria-hidden="true"><path d="M10.68 11.74a6 6 0 0 1-7.922-8.982 6 6 0 0 1 8.982 7.922l3.04 3.04a.749.749 0 0 1-.326 1.275.749.749 0 0 1-.734-.215ZM11.5 7a4.499 4.499 0 1 0-8.997 0A4.499 4.499 0 0 0 11.5 7Z"></path></svg>
            </div>
            <div data-targets="command-palette-page-stack.localOcticons" data-octicon-id="sun-color-fg-muted">
              <svg height="16" class="octicon octicon-sun color-fg-muted" viewBox="0 0 16 16" version="1.1" width="16" aria-hidden="true"><path d="M8 12a4 4 0 1 1 0-8 4 4 0 0 1 0 8Zm0-1.5a2.5 2.5 0 1 0 0-5 2.5 2.5 0 0 0 0 5Zm5.657-8.157a.75.75 0 0 1 0 1.061l-1.061 1.06a.749.749 0 0 1-1.275-.326.749.749 0 0 1 .215-.734l1.06-1.06a.75.75 0 0 1 1.06 0Zm-9.193 9.193a.75.75 0 0 1 0 1.06l-1.06 1.061a.75.75 0 1 1-1.061-1.06l1.06-1.061a.75.75 0 0 1 1.061 0ZM8 0a.75.75 0 0 1 .75.75v1.5a.75.75 0 0 1-1.5 0V.75A.75.75 0 0 1 8 0ZM3 8a.75.75 0 0 1-.75.75H.75a.75.75 0 0 1 0-1.5h1.5A.75.75 0 0 1 3 8Zm13 0a.75.75 0 0 1-.75.75h-1.5a.75.75 0 0 1 0-1.5h1.5A.75.75 0 0 1 16 8Zm-8 5a.75.75 0 0 1 .75.75v1.5a.75.75 0 0 1-1.5 0v-1.5A.75.75 0 0 1 8 13Zm3.536-1.464a.75.75 0 0 1 1.06 0l1.061 1.06a.75.75 0 0 1-1.06 1.061l-1.061-1.06a.75.75 0 0 1 0-1.061ZM2.343 2.343a.75.75 0 0 1 1.061 0l1.06 1.061a.751.751 0 0 1-.018 1.042.751.751 0 0 1-1.042.018l-1.06-1.06a.75.75 0 0 1 0-1.06Z"></path></svg>
            </div>
            <div data-targets="command-palette-page-stack.localOcticons" data-octicon-id="sync-color-fg-muted">
              <svg height="16" class="octicon octicon-sync color-fg-muted" viewBox="0 0 16 16" version="1.1" width="16" aria-hidden="true"><path d="M1.705 8.005a.75.75 0 0 1 .834.656 5.5 5.5 0 0 0 9.592 2.97l-1.204-1.204a.25.25 0 0 1 .177-.427h3.646a.25.25 0 0 1 .25.25v3.646a.25.25 0 0 1-.427.177l-1.38-1.38A7.002 7.002 0 0 1 1.05 8.84a.75.75 0 0 1 .656-.834ZM8 2.5a5.487 5.487 0 0 0-4.131 1.869l1.204 1.204A.25.25 0 0 1 4.896 6H1.25A.25.25 0 0 1 1 5.75V2.104a.25.25 0 0 1 .427-.177l1.38 1.38A7.002 7.002 0 0 1 14.95 7.16a.75.75 0 0 1-1.49.178A5.5 5.5 0 0 0 8 2.5Z"></path></svg>
            </div>
            <div data-targets="command-palette-page-stack.localOcticons" data-octicon-id="trash-color-fg-muted">
              <svg height="16" class="octicon octicon-trash color-fg-muted" viewBox="0 0 16 16" version="1.1" width="16" aria-hidden="true"><path d="M11 1.75V3h2.25a.75.75 0 0 1 0 1.5H2.75a.75.75 0 0 1 0-1.5H5V1.75C5 .784 5.784 0 6.75 0h2.5C10.216 0 11 .784 11 1.75ZM4.496 6.675l.66 6.6a.25.25 0 0 0 .249.225h5.19a.25.25 0 0 0 .249-.225l.66-6.6a.75.75 0 0 1 1.492.149l-.66 6.6A1.748 1.748 0 0 1 10.595 15h-5.19a1.75 1.75 0 0 1-1.741-1.575l-.66-6.6a.75.75 0 1 1 1.492-.15ZM6.5 1.75V3h3V1.75a.25.25 0 0 0-.25-.25h-2.5a.25.25 0 0 0-.25.25Z"></path></svg>
            </div>
            <div data-targets="command-palette-page-stack.localOcticons" data-octicon-id="key-color-fg-muted">
              <svg height="16" class="octicon octicon-key color-fg-muted" viewBox="0 0 16 16" version="1.1" width="16" aria-hidden="true"><path d="M10.5 0a5.499 5.499 0 1 1-1.288 10.848l-.932.932a.749.749 0 0 1-.53.22H7v.75a.749.749 0 0 1-.22.53l-.5.5a.749.749 0 0 1-.53.22H5v.75a.749.749 0 0 1-.22.53l-.5.5a.749.749 0 0 1-.53.22h-2A1.75 1.75 0 0 1 0 14.25v-2c0-.199.079-.389.22-.53l4.932-4.932A5.5 5.5 0 0 1 10.5 0Zm-4 5.5c-.001.431.069.86.205 1.269a.75.75 0 0 1-.181.768L1.5 12.56v1.69c0 .138.112.25.25.25h1.69l.06-.06v-1.19a.75.75 0 0 1 .75-.75h1.19l.06-.06v-1.19a.75.75 0 0 1 .75-.75h1.19l1.023-1.025a.75.75 0 0 1 .768-.18A4 4 0 1 0 6.5 5.5ZM11 6a1 1 0 1 1 0-2 1 1 0 0 1 0 2Z"></path></svg>
            </div>
            <div data-targets="command-palette-page-stack.localOcticons" data-octicon-id="comment-discussion-color-fg-muted">
              <svg height="16" class="octicon octicon-comment-discussion color-fg-muted" viewBox="0 0 16 16" version="1.1" width="16" aria-hidden="true"><path d="M1.75 1h8.5c.966 0 1.75.784 1.75 1.75v5.5A1.75 1.75 0 0 1 10.25 10H7.061l-2.574 2.573A1.458 1.458 0 0 1 2 11.543V10h-.25A1.75 1.75 0 0 1 0 8.25v-5.5C0 1.784.784 1 1.75 1ZM1.5 2.75v5.5c0 .138.112.25.25.25h1a.75.75 0 0 1 .75.75v2.19l2.72-2.72a.749.749 0 0 1 .53-.22h3.5a.25.25 0 0 0 .25-.25v-5.5a.25.25 0 0 0-.25-.25h-8.5a.25.25 0 0 0-.25.25Zm13 2a.25.25 0 0 0-.25-.25h-.5a.75.75 0 0 1 0-1.5h.5c.966 0 1.75.784 1.75 1.75v5.5A1.75 1.75 0 0 1 14.25 12H14v1.543a1.458 1.458 0 0 1-2.487 1.03L9.22 12.28a.749.749 0 0 1 .326-1.275.749.749 0 0 1 .734.215l2.22 2.22v-2.19a.75.75 0 0 1 .75-.75h1a.25.25 0 0 0 .25-.25Z"></path></svg>
            </div>
            <div data-targets="command-palette-page-stack.localOcticons" data-octicon-id="bell-color-fg-muted">
              <svg height="16" class="octicon octicon-bell color-fg-muted" viewBox="0 0 16 16" version="1.1" width="16" aria-hidden="true"><path d="M8 16a2 2 0 0 0 1.985-1.75c.017-.137-.097-.25-.235-.25h-3.5c-.138 0-.252.113-.235.25A2 2 0 0 0 8 16ZM3 5a5 5 0 0 1 10 0v2.947c0 .05.015.098.042.139l1.703 2.555A1.519 1.519 0 0 1 13.482 13H2.518a1.516 1.516 0 0 1-1.263-2.36l1.703-2.554A.255.255 0 0 0 3 7.947Zm5-3.5A3.5 3.5 0 0 0 4.5 5v2.947c0 .346-.102.683-.294.97l-1.703 2.556a.017.017 0 0 0-.003.01l.001.006c0 .002.002.004.004.006l.006.004.007.001h10.964l.007-.001.006-.004.004-.006.001-.007a.017.017 0 0 0-.003-.01l-1.703-2.554a1.745 1.745 0 0 1-.294-.97V5A3.5 3.5 0 0 0 8 1.5Z"></path></svg>
            </div>
            <div data-targets="command-palette-page-stack.localOcticons" data-octicon-id="bell-slash-color-fg-muted">
              <svg height="16" class="octicon octicon-bell-slash color-fg-muted" viewBox="0 0 16 16" version="1.1" width="16" aria-hidden="true"><path d="m4.182 4.31.016.011 10.104 7.316.013.01 1.375.996a.75.75 0 1 1-.88 1.214L13.626 13H2.518a1.516 1.516 0 0 1-1.263-2.36l1.703-2.554A.255.255 0 0 0 3 7.947V5.305L.31 3.357a.75.75 0 1 1 .88-1.214Zm7.373 7.19L4.5 6.391v1.556c0 .346-.102.683-.294.97l-1.703 2.556a.017.017 0 0 0-.003.01c0 .005.002.009.005.012l.006.004.007.001ZM8 1.5c-.997 0-1.895.416-2.534 1.086A.75.75 0 1 1 4.38 1.55 5 5 0 0 1 13 5v2.373a.75.75 0 0 1-1.5 0V5A3.5 3.5 0 0 0 8 1.5ZM8 16a2 2 0 0 1-1.985-1.75c-.017-.137.097-.25.235-.25h3.5c.138 0 .252.113.235.25A2 2 0 0 1 8 16Z"></path></svg>
            </div>
            <div data-targets="command-palette-page-stack.localOcticons" data-octicon-id="paintbrush-color-fg-muted">
              <svg height="16" class="octicon octicon-paintbrush color-fg-muted" viewBox="0 0 16 16" version="1.1" width="16" aria-hidden="true"><path d="M11.134 1.535c.7-.509 1.416-.942 2.076-1.155.649-.21 1.463-.267 2.069.34.603.601.568 1.411.368 2.07-.202.668-.624 1.39-1.125 2.096-1.011 1.424-2.496 2.987-3.775 4.249-1.098 1.084-2.132 1.839-3.04 2.3a3.744 3.744 0 0 1-1.055 3.217c-.431.431-1.065.691-1.657.861-.614.177-1.294.287-1.914.357A21.151 21.151 0 0 1 .797 16H.743l.007-.75H.749L.742 16a.75.75 0 0 1-.743-.742l.743-.008-.742.007v-.054a21.25 21.25 0 0 1 .13-2.284c.067-.647.187-1.287.358-1.914.17-.591.43-1.226.86-1.657a3.746 3.746 0 0 1 3.227-1.054c.466-.893 1.225-1.907 2.314-2.982 1.271-1.255 2.833-2.75 4.245-3.777ZM1.62 13.089c-.051.464-.086.929-.104 1.395.466-.018.932-.053 1.396-.104a10.511 10.511 0 0 0 1.668-.309c.526-.151.856-.325 1.011-.48a2.25 2.25 0 1 0-3.182-3.182c-.155.155-.329.485-.48 1.01a10.515 10.515 0 0 0-.309 1.67Zm10.396-10.34c-1.224.89-2.605 2.189-3.822 3.384l1.718 1.718c1.21-1.205 2.51-2.597 3.387-3.833.47-.662.78-1.227.912-1.662.134-.444.032-.551.009-.575h-.001V1.78c-.014-.014-.113-.113-.548.027-.432.14-.995.462-1.655.942Zm-4.832 7.266-.001.001a9.859 9.859 0 0 0 1.63-1.142L7.155 7.216a9.7 9.7 0 0 0-1.161 1.607c.482.302.889.71 1.19 1.192Z"></path></svg>
            </div>

            <command-palette-item-group
              data-group-id="top"
              data-group-title="Top result"
              data-group-hint=""
              data-group-limits="{}"
              data-default-priority="0"
            >
            </command-palette-item-group>
            <command-palette-item-group
              data-group-id="commands"
              data-group-title="Commands"
              data-group-hint="Type &gt; to filter"
              data-group-limits="{&quot;static_items_page&quot;:50,&quot;issue&quot;:50,&quot;pull_request&quot;:50,&quot;discussion&quot;:50}"
              data-default-priority="1"
            >
            </command-palette-item-group>
            <command-palette-item-group
              data-group-id="global_commands"
              data-group-title="Global Commands"
              data-group-hint="Type &gt; to filter"
              data-group-limits="{&quot;issue&quot;:0,&quot;pull_request&quot;:0,&quot;discussion&quot;:0}"
              data-default-priority="2"
            >
            </command-palette-item-group>
            <command-palette-item-group
              data-group-id="this_page"
              data-group-title="This Page"
              data-group-hint=""
              data-group-limits="{}"
              data-default-priority="3"
            >
            </command-palette-item-group>
            <command-palette-item-group
              data-group-id="files"
              data-group-title="Files"
              data-group-hint=""
              data-group-limits="{}"
              data-default-priority="4"
            >
            </command-palette-item-group>
            <command-palette-item-group
              data-group-id="default"
              data-group-title="Default"
              data-group-hint=""
              data-group-limits="{&quot;static_items_page&quot;:50}"
              data-default-priority="5"
            >
            </command-palette-item-group>
            <command-palette-item-group
              data-group-id="pages"
              data-group-title="Pages"
              data-group-hint=""
              data-group-limits="{&quot;repository&quot;:10}"
              data-default-priority="6"
            >
            </command-palette-item-group>
            <command-palette-item-group
              data-group-id="access_policies"
              data-group-title="Access Policies"
              data-group-hint=""
              data-group-limits="{}"
              data-default-priority="7"
            >
            </command-palette-item-group>
            <command-palette-item-group
              data-group-id="organizations"
              data-group-title="Organizations"
              data-group-hint=""
              data-group-limits="{}"
              data-default-priority="8"
            >
            </command-palette-item-group>
            <command-palette-item-group
              data-group-id="repositories"
              data-group-title="Repositories"
              data-group-hint=""
              data-group-limits="{}"
              data-default-priority="9"
            >
            </command-palette-item-group>
            <command-palette-item-group
              data-group-id="references"
              data-group-title="Issues, pull requests, and discussions"
              data-group-hint="Type # to filter"
              data-group-limits="{}"
              data-default-priority="10"
            >
            </command-palette-item-group>
            <command-palette-item-group
              data-group-id="teams"
              data-group-title="Teams"
              data-group-hint=""
              data-group-limits="{}"
              data-default-priority="11"
            >
            </command-palette-item-group>
            <command-palette-item-group
              data-group-id="users"
              data-group-title="Users"
              data-group-hint=""
              data-group-limits="{}"
              data-default-priority="12"
            >
            </command-palette-item-group>
            <command-palette-item-group
              data-group-id="memex_projects"
              data-group-title="Projects"
              data-group-hint=""
              data-group-limits="{}"
              data-default-priority="13"
            >
            </command-palette-item-group>
            <command-palette-item-group
              data-group-id="projects"
              data-group-title="Projects (classic)"
              data-group-hint=""
              data-group-limits="{}"
              data-default-priority="14"
            >
            </command-palette-item-group>
            <command-palette-item-group
              data-group-id="footer"
              data-group-title="Footer"
              data-group-hint=""
              data-group-limits="{}"
              data-default-priority="15"
            >
            </command-palette-item-group>
            <command-palette-item-group
              data-group-id="modes_help"
              data-group-title="Modes"
              data-group-hint=""
              data-group-limits="{}"
              data-default-priority="16"
            >
            </command-palette-item-group>
            <command-palette-item-group
              data-group-id="filters_help"
              data-group-title="Use filters in issues, pull requests, discussions, and projects"
              data-group-hint=""
              data-group-limits="{}"
              data-default-priority="17"
            >
            </command-palette-item-group>

            <command-palette-page
              data-page-title="cursodatafundamentals"
              data-scope-id="U_kgDOBv9YOg"
              data-scope-type="owner"
              data-targets="command-palette-page-stack.defaultPages"
              hidden
            >
            </command-palette-page>
            <command-palette-page
              data-page-title="granada"
              data-scope-id="R_kgDOKbRxuQ"
              data-scope-type="repository"
              data-targets="command-palette-page-stack.defaultPages"
              hidden
            >
            </command-palette-page>
        </div>

        <command-palette-page data-is-root>
        </command-palette-page>
          <command-palette-page
            data-page-title="cursodatafundamentals"
            data-scope-id="U_kgDOBv9YOg"
            data-scope-type="owner"
          >
          </command-palette-page>
          <command-palette-page
            data-page-title="granada"
            data-scope-id="R_kgDOKbRxuQ"
            data-scope-type="repository"
          >
          </command-palette-page>
      </command-palette-page-stack>

      <server-defined-provider data-type="search-links" data-targets="command-palette.serverDefinedProviderElements"></server-defined-provider>
      <server-defined-provider data-type="help" data-targets="command-palette.serverDefinedProviderElements">
          <command-palette-help
            data-group="modes_help"
              data-prefix="#"
              data-scope-types="[&quot;&quot;]"
          >
            <span data-target="command-palette-help.titleElement">Search for <strong>issues</strong> and <strong>pull requests</strong></span>
              <span data-target="command-palette-help.hintElement">
                <kbd class="hx_kbd">#</kbd>
              </span>
          </command-palette-help>
          <command-palette-help
            data-group="modes_help"
              data-prefix="#"
              data-scope-types="[&quot;owner&quot;,&quot;repository&quot;]"
          >
            <span data-target="command-palette-help.titleElement">Search for <strong>issues, pull requests, discussions,</strong> and <strong>projects</strong></span>
              <span data-target="command-palette-help.hintElement">
                <kbd class="hx_kbd">#</kbd>
              </span>
          </command-palette-help>
          <command-palette-help
            data-group="modes_help"
              data-prefix="@"
              data-scope-types="[&quot;&quot;]"
          >
            <span data-target="command-palette-help.titleElement">Search for <strong>organizations, repositories,</strong> and <strong>users</strong></span>
              <span data-target="command-palette-help.hintElement">
                <kbd class="hx_kbd">@</kbd>
              </span>
          </command-palette-help>
          <command-palette-help
            data-group="modes_help"
              data-prefix="!"
              data-scope-types="[&quot;owner&quot;,&quot;repository&quot;]"
          >
            <span data-target="command-palette-help.titleElement">Search for <strong>projects</strong></span>
              <span data-target="command-palette-help.hintElement">
                <kbd class="hx_kbd">!</kbd>
              </span>
          </command-palette-help>
          <command-palette-help
            data-group="modes_help"
              data-prefix="/"
              data-scope-types="[&quot;repository&quot;]"
          >
            <span data-target="command-palette-help.titleElement">Search for <strong>files</strong></span>
              <span data-target="command-palette-help.hintElement">
                <kbd class="hx_kbd">/</kbd>
              </span>
          </command-palette-help>
          <command-palette-help
            data-group="modes_help"
              data-prefix="&gt;"
          >
            <span data-target="command-palette-help.titleElement">Activate <strong>command mode</strong></span>
              <span data-target="command-palette-help.hintElement">
                <kbd class="hx_kbd">&gt;</kbd>
              </span>
          </command-palette-help>
          <command-palette-help
            data-group="filters_help"
              data-prefix="# author:@me"
          >
            <span data-target="command-palette-help.titleElement">Search your issues, pull requests, and discussions</span>
              <span data-target="command-palette-help.hintElement">
                <kbd class="hx_kbd"># author:@me</kbd>
              </span>
          </command-palette-help>
          <command-palette-help
            data-group="filters_help"
              data-prefix="# author:@me"
          >
            <span data-target="command-palette-help.titleElement">Search your issues, pull requests, and discussions</span>
              <span data-target="command-palette-help.hintElement">
                <kbd class="hx_kbd"># author:@me</kbd>
              </span>
          </command-palette-help>
          <command-palette-help
            data-group="filters_help"
              data-prefix="# is:pr"
          >
            <span data-target="command-palette-help.titleElement">Filter to pull requests</span>
              <span data-target="command-palette-help.hintElement">
                <kbd class="hx_kbd"># is:pr</kbd>
              </span>
          </command-palette-help>
          <command-palette-help
            data-group="filters_help"
              data-prefix="# is:issue"
          >
            <span data-target="command-palette-help.titleElement">Filter to issues</span>
              <span data-target="command-palette-help.hintElement">
                <kbd class="hx_kbd"># is:issue</kbd>
              </span>
          </command-palette-help>
          <command-palette-help
            data-group="filters_help"
              data-prefix="# is:discussion"
              data-scope-types="[&quot;owner&quot;,&quot;repository&quot;]"
          >
            <span data-target="command-palette-help.titleElement">Filter to discussions</span>
              <span data-target="command-palette-help.hintElement">
                <kbd class="hx_kbd"># is:discussion</kbd>
              </span>
          </command-palette-help>
          <command-palette-help
            data-group="filters_help"
              data-prefix="# is:project"
              data-scope-types="[&quot;owner&quot;,&quot;repository&quot;]"
          >
            <span data-target="command-palette-help.titleElement">Filter to projects</span>
              <span data-target="command-palette-help.hintElement">
                <kbd class="hx_kbd"># is:project</kbd>
              </span>
          </command-palette-help>
          <command-palette-help
            data-group="filters_help"
              data-prefix="# is:open"
          >
            <span data-target="command-palette-help.titleElement">Filter to open issues, pull requests, and discussions</span>
              <span data-target="command-palette-help.hintElement">
                <kbd class="hx_kbd"># is:open</kbd>
              </span>
          </command-palette-help>
      </server-defined-provider>

        <server-defined-provider
          data-type="commands"
          data-fetch-debounce="0"
            data-src="/command_palette/commands"
          data-supported-modes="[]"
            data-supports-commands
          
          data-targets="command-palette.serverDefinedProviderElements"
          ></server-defined-provider>
        <server-defined-provider
          data-type="prefetched"
          data-fetch-debounce="0"
            data-src="/command_palette/jump_to_page_navigation"
          data-supported-modes="[&quot;&quot;]"
            data-supported-scope-types="[&quot;&quot;,&quot;owner&quot;,&quot;repository&quot;]"
          
          data-targets="command-palette.serverDefinedProviderElements"
          ></server-defined-provider>
        <server-defined-provider
          data-type="remote"
          data-fetch-debounce="200"
            data-src="/command_palette/issues"
          data-supported-modes="[&quot;#&quot;,&quot;#&quot;]"
            data-supported-scope-types="[&quot;owner&quot;,&quot;repository&quot;,&quot;&quot;]"
          
          data-targets="command-palette.serverDefinedProviderElements"
          ></server-defined-provider>
        <server-defined-provider
          data-type="remote"
          data-fetch-debounce="200"
            data-src="/command_palette/jump_to"
          data-supported-modes="[&quot;@&quot;,&quot;@&quot;]"
            data-supported-scope-types="[&quot;&quot;,&quot;owner&quot;]"
          
          data-targets="command-palette.serverDefinedProviderElements"
          ></server-defined-provider>
        <server-defined-provider
          data-type="remote"
          data-fetch-debounce="200"
            data-src="/command_palette/jump_to_members_only"
          data-supported-modes="[&quot;@&quot;,&quot;@&quot;,&quot;&quot;,&quot;&quot;]"
            data-supported-scope-types="[&quot;&quot;,&quot;owner&quot;]"
          
          data-targets="command-palette.serverDefinedProviderElements"
          ></server-defined-provider>
        <server-defined-provider
          data-type="prefetched"
          data-fetch-debounce="0"
            data-src="/command_palette/jump_to_members_only_prefetched"
          data-supported-modes="[&quot;@&quot;,&quot;@&quot;,&quot;&quot;,&quot;&quot;]"
            data-supported-scope-types="[&quot;&quot;,&quot;owner&quot;]"
          
          data-targets="command-palette.serverDefinedProviderElements"
          ></server-defined-provider>
        <server-defined-provider
          data-type="files"
          data-fetch-debounce="0"
            data-src="/command_palette/files"
          data-supported-modes="[&quot;/&quot;]"
            data-supported-scope-types="[&quot;repository&quot;]"
          
          data-targets="command-palette.serverDefinedProviderElements"
          ></server-defined-provider>
        <server-defined-provider
          data-type="remote"
          data-fetch-debounce="200"
            data-src="/command_palette/discussions"
          data-supported-modes="[&quot;#&quot;]"
            data-supported-scope-types="[&quot;owner&quot;,&quot;repository&quot;]"
          
          data-targets="command-palette.serverDefinedProviderElements"
          ></server-defined-provider>
        <server-defined-provider
          data-type="remote"
          data-fetch-debounce="200"
            data-src="/command_palette/projects"
          data-supported-modes="[&quot;#&quot;,&quot;!&quot;]"
            data-supported-scope-types="[&quot;owner&quot;,&quot;repository&quot;]"
          
          data-targets="command-palette.serverDefinedProviderElements"
          ></server-defined-provider>
        <server-defined-provider
          data-type="prefetched"
          data-fetch-debounce="0"
            data-src="/command_palette/recent_issues"
          data-supported-modes="[&quot;#&quot;,&quot;#&quot;]"
            data-supported-scope-types="[&quot;owner&quot;,&quot;repository&quot;,&quot;&quot;]"
          
          data-targets="command-palette.serverDefinedProviderElements"
          ></server-defined-provider>
        <server-defined-provider
          data-type="remote"
          data-fetch-debounce="200"
            data-src="/command_palette/teams"
          data-supported-modes="[&quot;@&quot;,&quot;&quot;]"
            data-supported-scope-types="[&quot;owner&quot;]"
          
          data-targets="command-palette.serverDefinedProviderElements"
          ></server-defined-provider>
        <server-defined-provider
          data-type="remote"
          data-fetch-debounce="200"
            data-src="/command_palette/name_with_owner_repository"
          data-supported-modes="[&quot;@&quot;,&quot;@&quot;,&quot;&quot;,&quot;&quot;]"
            data-supported-scope-types="[&quot;&quot;,&quot;owner&quot;]"
          
          data-targets="command-palette.serverDefinedProviderElements"
          ></server-defined-provider>
    </command-palette>
  </details-dialog>
</details>

<div class="position-fixed bottom-0 left-0 ml-5 mb-5 js-command-palette-toasts" style="z-index: 1000">
  <div hidden class="Toast Toast--loading">
    <span class="Toast-icon">
      <svg class="Toast--spinner" viewBox="0 0 32 32" width="18" height="18" aria-hidden="true">
        <path
          fill="#959da5"
          d="M16 0 A16 16 0 0 0 16 32 A16 16 0 0 0 16 0 M16 4 A12 12 0 0 1 16 28 A12 12 0 0 1 16 4"
        />
        <path fill="#ffffff" d="M16 0 A16 16 0 0 1 32 16 L28 16 A12 12 0 0 0 16 4z"></path>
      </svg>
    </span>
    <span class="Toast-content"></span>
  </div>

  <div hidden class="anim-fade-in fast Toast Toast--error">
    <span class="Toast-icon">
      <svg aria-hidden="true" height="16" viewBox="0 0 16 16" version="1.1" width="16" data-view-component="true" class="octicon octicon-stop">
    <path d="M4.47.22A.749.749 0 0 1 5 0h6c.199 0 .389.079.53.22l4.25 4.25c.141.14.22.331.22.53v6a.749.749 0 0 1-.22.53l-4.25 4.25A.749.749 0 0 1 11 16H5a.749.749 0 0 1-.53-.22L.22 11.53A.749.749 0 0 1 0 11V5c0-.199.079-.389.22-.53Zm.84 1.28L1.5 5.31v5.38l3.81 3.81h5.38l3.81-3.81V5.31L10.69 1.5ZM8 4a.75.75 0 0 1 .75.75v3.5a.75.75 0 0 1-1.5 0v-3.5A.75.75 0 0 1 8 4Zm0 8a1 1 0 1 1 0-2 1 1 0 0 1 0 2Z"></path>
</svg>
    </span>
    <span class="Toast-content"></span>
  </div>

  <div hidden class="anim-fade-in fast Toast Toast--warning">
    <span class="Toast-icon">
      <svg aria-hidden="true" height="16" viewBox="0 0 16 16" version="1.1" width="16" data-view-component="true" class="octicon octicon-alert">
    <path d="M6.457 1.047c.659-1.234 2.427-1.234 3.086 0l6.082 11.378A1.75 1.75 0 0 1 14.082 15H1.918a1.75 1.75 0 0 1-1.543-2.575Zm1.763.707a.25.25 0 0 0-.44 0L1.698 13.132a.25.25 0 0 0 .22.368h12.164a.25.25 0 0 0 .22-.368Zm.53 3.996v2.5a.75.75 0 0 1-1.5 0v-2.5a.75.75 0 0 1 1.5 0ZM9 11a1 1 0 1 1-2 0 1 1 0 0 1 2 0Z"></path>
</svg>
    </span>
    <span class="Toast-content"></span>
  </div>


  <div hidden class="anim-fade-in fast Toast Toast--success">
    <span class="Toast-icon">
      <svg aria-hidden="true" height="16" viewBox="0 0 16 16" version="1.1" width="16" data-view-component="true" class="octicon octicon-check">
    <path d="M13.78 4.22a.75.75 0 0 1 0 1.06l-7.25 7.25a.75.75 0 0 1-1.06 0L2.22 9.28a.751.751 0 0 1 .018-1.042.751.751 0 0 1 1.042-.018L6 10.94l6.72-6.72a.75.75 0 0 1 1.06 0Z"></path>
</svg>
    </span>
    <span class="Toast-content"></span>
  </div>

  <div hidden class="anim-fade-in fast Toast">
    <span class="Toast-icon">
      <svg aria-hidden="true" height="16" viewBox="0 0 16 16" version="1.1" width="16" data-view-component="true" class="octicon octicon-info">
    <path d="M0 8a8 8 0 1 1 16 0A8 8 0 0 1 0 8Zm8-6.5a6.5 6.5 0 1 0 0 13 6.5 6.5 0 0 0 0-13ZM6.5 7.75A.75.75 0 0 1 7.25 7h1a.75.75 0 0 1 .75.75v2.75h.25a.75.75 0 0 1 0 1.5h-2a.75.75 0 0 1 0-1.5h.25v-2h-.25a.75.75 0 0 1-.75-.75ZM8 6a1 1 0 1 1 0-2 1 1 0 0 1 0 2Z"></path>
</svg>
    </span>
    <span class="Toast-content"></span>
  </div>
</div>


  <div
    class="application-main "
    data-commit-hovercards-enabled
    data-discussion-hovercards-enabled
    data-issue-and-pr-hovercards-enabled
  >
        <div itemscope itemtype="http://schema.org/SoftwareSourceCode" class="">
    <main id="js-repo-pjax-container" >
      
      
      






    
  <div id="repository-container-header" data-turbo-replace hidden></div>




<turbo-frame id="repo-content-turbo-frame" target="_top" data-turbo-action="advance" class="">
    <div id="repo-content-pjax-container" class="repository-content " >
      <a href="https://github.dev/" class="d-none js-github-dev-shortcut" data-hotkey=".,Alt+Meta+≥,Control+Alt+.">Open in github.dev</a>
  <a href="https://github.dev/" class="d-none js-github-dev-new-tab-shortcut" data-hotkey="Shift+.,Shift+&gt;,&gt;" target="_blank" rel="noopener noreferrer">Open in a new github.dev tab</a>
    <a class="d-none" data-hotkey=",,Alt+Meta+≤,Control+Alt+," target="_blank" href="/codespaces/new/cursodatafundamentals/granada/tree/main?resume=1">Open in codespace</a>



    
      
    





<react-app
  app-name="react-code-view"
  initial-path="/cursodatafundamentals/granada/blob/main/Day%206/M5%20-%2004%20-%20Funciones.ipynb"
  style="min-height: calc(100vh - 62px)"
  data-ssr="true"
  data-lazy="false"
  data-alternate="false"
>
  
  <script type="application/json" data-target="react-app.embeddedData">{"payload":{"allShortcutsEnabled":true,"fileTree":{"Day 6":{"items":[{"name":"M5 - 04 - Funciones - Solución.ipynb","path":"Day 6/M5 - 04 - Funciones - Solución.ipynb","contentType":"file"},{"name":"M5 - 04 - Funciones.ipynb","path":"Day 6/M5 - 04 - Funciones.ipynb","contentType":"file"},{"name":"M5 - 05 - Clases.ipynb","path":"Day 6/M5 - 05 - Clases.ipynb","contentType":"file"},{"name":"M5 - 05 - EXTRA - Clases - Solución.ipynb","path":"Day 6/M5 - 05 - EXTRA - Clases - Solución.ipynb","contentType":"file"}],"totalCount":4},"":{"items":[{"name":"Day 1","path":"Day 1","contentType":"directory"},{"name":"Day 2","path":"Day 2","contentType":"directory"},{"name":"Day 3","path":"Day 3","contentType":"directory"},{"name":"Day 4","path":"Day 4","contentType":"directory"},{"name":"Day 5","path":"Day 5","contentType":"directory"},{"name":"Day 6","path":"Day 6","contentType":"directory"},{"name":"Presentaciones","path":"Presentaciones","contentType":"directory"},{"name":"README.md","path":"README.md","contentType":"file"}],"totalCount":8}},"fileTreeProcessingTime":8.706435,"foldersToFetch":[],"reducedMotionEnabled":"system","repo":{"id":699691449,"defaultBranch":"main","name":"granada","ownerLogin":"cursodatafundamentals","currentUserCanPush":true,"isFork":false,"isEmpty":false,"createdAt":"2023-10-03T08:30:52.000+02:00","ownerAvatar":"https://avatars.githubusercontent.com/u/117397562?v=4","public":false,"private":true,"isOrgOwned":false},"symbolsExpanded":false,"treeExpanded":true,"refInfo":{"name":"main","listCacheKey":"v0:1697525773.0","canEdit":true,"refType":"branch","currentOid":"47c067b42a9421b6e3e8110a62ee352395acb1c3"},"path":"Day 6/M5 - 04 - Funciones.ipynb","currentUser":{"id":146814397,"login":"Karlett19","userEmail":"richmondcastillo19@gmail.com"},"blob":{"rawLines":["{\"nbformat\":4,\"nbformat_minor\":0,\"metadata\":{\"colab\":{\"provenance\":[],\"collapsed_sections\":[],\"authorship_tag\":\"ABX9TyPxgXJo14hDWqxeodSB/dWn\"},\"kernelspec\":{\"name\":\"python3\",\"display_name\":\"Python 3\"},\"language_info\":{\"name\":\"python\"}},\"cells\":[{\"cell_type\":\"markdown\",\"metadata\":{\"id\":\"j77GqBujgoOa\"},\"source\":[\"# Funciones\"]},{\"cell_type\":\"markdown\",\"metadata\":{\"id\":\"COLMlqPKgoOh\"},\"source\":[\"### ¿Para qué necesito funciones?\"]},{\"cell_type\":\"markdown\",\"metadata\":{\"id\":\"z_rr4WEHgoOi\"},\"source\":[\"Hasta ahora todo lo que hemos hecho han sido breves fragmentos de código Python. Esto puede ser razonable para pequeñas tareas, pero nadie quiere reescribir los fragmentos de código cada vez. Necesitamos una manera de organizar nuestro código en piezas manejables.\\n\",\"\\n\",\"El primer paso para la **reutilización de código** es la **función**. Se trata de un trozo de código con nombre y separado del resto. Puede tomar cualquier número y tipo de *parámetros* y devolver cualquier número y tipo de *resultados*.\\n\",\"\\n\",\"Básicamente podemos hacer dos cosas con una función:\\n\",\"- *Definirla* (con cero o más parámetros).\\n\",\"- *Invocarla* (y obtener cero o más resultados).\"]},{\"cell_type\":\"markdown\",\"metadata\":{\"id\":\"2rkC8T2FgoOj\"},\"source\":[\"## Definir una función\\n\",\"\\n\",\"Para definir una función en Python debemos usar la palabra reservada `def` seguida del nombre de la función, paréntesis rodeando a los parámetros de entrada y finalmente dos puntos `:`\\n\",\"\\n\",\"![function-definition.png](data:image/png;base64,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)\"]},{\"cell_type\":\"markdown\",\"metadata\":{\"id\":\"12K_uvZKgoOl\"},\"source\":[\"Hagamos una primera función vacía y sin parámetros:\"]},{\"cell_type\":\"code\",\"execution_count\":null,\"metadata\":{\"id\":\"XnqXahm3goOn\"},\"outputs\":[],\"source\":[\"def no_hace_nada():\\n\",\"    pass\"]},{\"cell_type\":\"markdown\",\"metadata\":{\"id\":\"EFB64j3rgoOq\"},\"source\":[\"## Invocar a una función\\n\",\"\\n\",\"Para *invocar* (*llamar*) a una función basta con escribir su nombre y utilizar paréntesis. En el caso de la función sencilla que hemos visto se haría así:\"]},{\"cell_type\":\"code\",\"execution_count\":null,\"metadata\":{\"id\":\"v8M_cIPHgoOq\"},\"outputs\":[],\"source\":[\"no_hace_nada()\"]},{\"cell_type\":\"markdown\",\"metadata\":{\"id\":\"ZYJJevESgoOr\"},\"source\":[\"Dado que la función no \\\"hace nada\\\" es razonable que no obtengamos ningún resultado. Vamos a definir otra función que sí tenga algún efecto:\"]},{\"cell_type\":\"code\",\"execution_count\":null,\"metadata\":{\"id\":\"941ngV6VgoOr\"},\"outputs\":[],\"source\":[\"def haz_un_sonido():\\n\",\"    print('PI PI')\"]},{\"cell_type\":\"code\",\"execution_count\":null,\"metadata\":{\"id\":\"OscfNhLcgoOs\",\"outputId\":\"8bdcb282-d67c-4ef6-ca53-5f87afad594d\",\"colab\":{\"base_uri\":\"https://localhost:8080/\"},\"executionInfo\":{\"status\":\"ok\",\"timestamp\":1666372565054,\"user_tz\":-120,\"elapsed\":5,\"user\":{\"displayName\":\"Luis Sastre Roca\",\"userId\":\"16085014804845980263\"}}},\"outputs\":[{\"output_type\":\"stream\",\"name\":\"stdout\",\"text\":[\"PI PI\\n\"]}],\"source\":[\"haz_un_sonido()\"]},{\"cell_type\":\"markdown\",\"metadata\":{\"id\":\"lrRhb_w7goOs\"},\"source\":[\"\u003e Como era de esperar, al invocar a la función obtenemos un mensaje por pantalla, fruto de la ejecución del cuerpo de la función.\"]},{\"cell_type\":\"markdown\",\"metadata\":{\"id\":\"amvon3FJgoOt\"},\"source\":[\"Veamos ahora el caso de una función que *retorna* (*devuelve*) algún valor:\"]},{\"cell_type\":\"code\",\"execution_count\":null,\"metadata\":{\"id\":\"LcOxY1MngoOt\"},\"outputs\":[],\"source\":[\"def esVerdadero():\\n\",\"    return True\"]},{\"cell_type\":\"markdown\",\"metadata\":{\"id\":\"Iw_vxKdggoOu\"},\"source\":[\"Podemos hacer uso de esta función, por ejemplo, en sentencias condicionales:\"]},{\"cell_type\":\"code\",\"execution_count\":null,\"metadata\":{\"id\":\"0LGspn68goOw\",\"outputId\":\"6752486d-2f85-4758-d870-a628e98d64f9\"},\"outputs\":[{\"name\":\"stdout\",\"output_type\":\"stream\",\"text\":[\"🤝\\n\"]}],\"source\":[\"if esVerdadero():\\n\",\"    print('🤝')\\n\",\"else:\\n\",\"    print('👎')\"]},{\"cell_type\":\"markdown\",\"metadata\":{\"id\":\"o6rv9P8XgoOy\"},\"source\":[\"## Argumentos y parámetros\\n\",\"\\n\",\"Vamos a empezar a crear funciones que reciben parámetros. En este caso escribiremos una función `echo` que recibe el parámetro `anything` y muestra esa variable dos veces separada por un espacio:\"]},{\"cell_type\":\"code\",\"execution_count\":null,\"metadata\":{\"id\":\"BVR1ii4jgoOz\"},\"outputs\":[],\"source\":[\"def echo(anything):\\n\",\"    return anything + ' ' + anything\"]},{\"cell_type\":\"code\",\"execution_count\":null,\"metadata\":{\"id\":\"00NJ3JzggoO0\",\"outputId\":\"ac024490-9b82-4f9e-80d8-7ab431bf8ddf\"},\"outputs\":[{\"data\":{\"text/plain\":[\"'Hello world! Hello world!'\"]},\"execution_count\":9,\"metadata\":{},\"output_type\":\"execute_result\"}],\"source\":[\"echo('Hello world!')\"]},{\"cell_type\":\"markdown\",\"metadata\":{\"id\":\"9IFQAZ83goO0\"},\"source\":[\"En este caso, `'Hello world!'` sería un *argumento* de la función.\"]},{\"cell_type\":\"markdown\",\"metadata\":{\"id\":\"oPRU6ilegoO1\"},\"source\":[\"Cuando llamamos a una función con *argumentos*, los valores de estos argumentos se copian en los correspondientes *parámetros* dentro de la función:\"]},{\"cell_type\":\"markdown\",\"metadata\":{\"id\":\"sUjXLK19goO1\"},\"source\":[\"![args-params.png](data:image/png;base64,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)\"]},{\"cell_type\":\"markdown\",\"metadata\":{\"id\":\"530uD1rQgoO1\"},\"source\":[\"Veamos otra función con algo más de \\\"lógica\\\" en su cuerpo:\"]},{\"cell_type\":\"code\",\"execution_count\":null,\"metadata\":{\"id\":\"TrEpiNjPgoO1\"},\"outputs\":[],\"source\":[\"def fruit_detection(color):\\n\",\"    if color == 'red':\\n\",\"        return \\\"It's an apple\\\"\\n\",\"    elif color == 'yellow':\\n\",\"        return \\\"It's a banana\\\"\\n\",\"    elif color == 'green':\\n\",\"        return \\\"It's a kiwi\\\"\\n\",\"    else:\\n\",\"        return f\\\"I don't know about the color {color}\\\"\"]},{\"cell_type\":\"code\",\"execution_count\":null,\"metadata\":{\"id\":\"3WzQ2C4QgoO1\",\"outputId\":\"3a542cb0-0b1a-4c93-94ef-d9fa37503447\"},\"outputs\":[{\"data\":{\"text/plain\":[\"\\\"It's a kiwi\\\"\"]},\"execution_count\":11,\"metadata\":{},\"output_type\":\"execute_result\"}],\"source\":[\"fruit = fruit_detection('green')\\n\",\"fruit\"]},{\"cell_type\":\"markdown\",\"metadata\":{\"id\":\"h7RxCyhKgoO2\"},\"source\":[\"Aunque una función no tenga un `return` de forma explícita, siempre devolverá `None` de forma implícita:\"]},{\"cell_type\":\"code\",\"execution_count\":null,\"metadata\":{\"id\":\"0XzDjUO2goO2\",\"outputId\":\"5f40e7dc-99ab-4be9-e7c2-405f45d063fd\"},\"outputs\":[{\"name\":\"stdout\",\"output_type\":\"stream\",\"text\":[\"None\\n\"]}],\"source\":[\"print(do_nothing())\"]},{\"cell_type\":\"markdown\",\"metadata\":{\"id\":\"rsFD-rhKgoO3\"},\"source\":[\"### Ejercicio\\n\",\"\\n\",\"Escribir una función en Python que reproduzca lo siguiente:\\n\",\"\\n\",\"$f(x, y) = x^2 + y^2$\"]},{\"cell_type\":\"code\",\"execution_count\":null,\"metadata\":{\"id\":\"iQHZUVQrvLlU\"},\"outputs\":[],\"source\":[\"# Escribe aquí la función:\\n\",\"def funcion_de_ejercicio(x, y):\\n\",\"    \"]},{\"cell_type\":\"code\",\"source\":[\"#Comprueba tu solución:\\n\",\"print(funcion_de_ejercicio(3, 4))\"],\"metadata\":{\"id\":\"gwqhXgV0o5tb\"},\"execution_count\":null,\"outputs\":[]},{\"cell_type\":\"markdown\",\"metadata\":{\"id\":\"Pn7h44gOgoO5\"},\"source\":[\"### `None` es útil\\n\",\"\\n\",\"`None` es un valor especial de Python que almacena *el valor nulo*. No es lo mismo que `False` aunque lo parezca cuando lo evaluamos como *booleano*:\"]},{\"cell_type\":\"code\",\"execution_count\":null,\"metadata\":{\"id\":\"l9fh5TbogoO6\",\"outputId\":\"aa66fad5-4b5d-4a2d-8704-72d537c64d3f\"},\"outputs\":[{\"name\":\"stdout\",\"output_type\":\"stream\",\"text\":[\"It's no thing\\n\"]}],\"source\":[\"thing = None\\n\",\"if thing:\\n\",\"    print(\\\"It's some thing\\\")\\n\",\"else:\\n\",\"    print(\\\"It's no thing\\\")\"]},{\"cell_type\":\"markdown\",\"metadata\":{\"id\":\"5gGcKqNUgoO6\"},\"source\":[\"Para distinguir `None` del valor booleano `False` se recomienda el uso del operador `is`:\"]},{\"cell_type\":\"code\",\"execution_count\":null,\"metadata\":{\"id\":\"B4cqz29sgoO7\",\"outputId\":\"02b67673-d504-4380-88f9-0d5d9fff1e42\"},\"outputs\":[{\"name\":\"stdout\",\"output_type\":\"stream\",\"text\":[\"It's nothing\\n\"]}],\"source\":[\"thing = None\\n\",\"if thing is None:\\n\",\"    print(\\\"It's nothing\\\")\\n\",\"else:\\n\",\"    print(\\\"It's something\\\")\"]},{\"cell_type\":\"markdown\",\"metadata\":{\"id\":\"vWdjRcEfgoO7\"},\"source\":[\"Vamos a definir una función que imprime si su argumento es `None`, `True` o `False`:\"]},{\"cell_type\":\"code\",\"execution_count\":null,\"metadata\":{\"id\":\"4euxDWJMgoO8\"},\"outputs\":[],\"source\":[\"def whatis(thing):\\n\",\"    if thing is None:\\n\",\"        print(thing, 'is None')\\n\",\"    elif thing:\\n\",\"        print(thing, 'is True')\\n\",\"    else:\\n\",\"        print(thing, 'is False')\"]},{\"cell_type\":\"markdown\",\"metadata\":{\"id\":\"xWFVH2ltgoO-\"},\"source\":[\"Valores que evalúan en booleano como **falsos**:\"]},{\"cell_type\":\"code\",\"execution_count\":null,\"metadata\":{\"id\":\"yar_s-LrgoO_\",\"outputId\":\"ef6fc075-2dde-431f-d2ed-c6687b4cb980\"},\"outputs\":[{\"name\":\"stdout\",\"output_type\":\"stream\",\"text\":[\"0 is False\\n\"]}],\"source\":[\"whatis(0)\"]},{\"cell_type\":\"code\",\"execution_count\":null,\"metadata\":{\"id\":\"xgN9ydeJgoO_\",\"outputId\":\"61b1fc87-87f2-4ffd-f1f9-81f1ccfd8c92\"},\"outputs\":[{\"name\":\"stdout\",\"output_type\":\"stream\",\"text\":[\"0.0 is False\\n\"]}],\"source\":[\"whatis(0.0)\"]},{\"cell_type\":\"code\",\"execution_count\":null,\"metadata\":{\"id\":\"wXF1wKxQgoO_\",\"outputId\":\"e1dc3677-24c5-4143-bc5f-ed6ea407ce81\"},\"outputs\":[{\"name\":\"stdout\",\"output_type\":\"stream\",\"text\":[\" is False\\n\"]}],\"source\":[\"whatis('')  # cadena vacía\"]},{\"cell_type\":\"code\",\"execution_count\":null,\"metadata\":{\"id\":\"dAwBawrzgoPA\",\"outputId\":\"01eb259d-cba3-488a-a76b-10cc410f72ab\"},\"outputs\":[{\"name\":\"stdout\",\"output_type\":\"stream\",\"text\":[\"() is False\\n\"]}],\"source\":[\"whatis(())  # tupla vacía\"]},{\"cell_type\":\"code\",\"execution_count\":null,\"metadata\":{\"id\":\"ERJzCWCwgoPA\",\"outputId\":\"88d701f7-58fa-4390-fc91-62905c0e6193\"},\"outputs\":[{\"name\":\"stdout\",\"output_type\":\"stream\",\"text\":[\"[] is False\\n\"]}],\"source\":[\"whatis([])  # lista vacía\"]},{\"cell_type\":\"code\",\"execution_count\":null,\"metadata\":{\"id\":\"g8AQYAXagoPB\",\"outputId\":\"d64c3695-219b-4b07-89df-c24b481b6f64\"},\"outputs\":[{\"name\":\"stdout\",\"output_type\":\"stream\",\"text\":[\"{} is False\\n\"]}],\"source\":[\"whatis({})  # diccionario vacío\"]},{\"cell_type\":\"markdown\",\"metadata\":{\"id\":\"5JfognghgoPB\"},\"source\":[\"Valores que evalúan en booleano como **verdaderos**:\"]},{\"cell_type\":\"code\",\"execution_count\":null,\"metadata\":{\"id\":\"wCYN2vKSgoPC\",\"outputId\":\"63714523-a36a-4b74-ca0f-93eb720b9cad\"},\"outputs\":[{\"name\":\"stdout\",\"output_type\":\"stream\",\"text\":[\"1e-05 is True\\n\"]}],\"source\":[\"whatis(0.00001)\"]},{\"cell_type\":\"code\",\"execution_count\":null,\"metadata\":{\"id\":\"RfF5J2dCgoPC\",\"outputId\":\"f8b148e3-d1f4-432e-c049-c3a949079143\"},\"outputs\":[{\"name\":\"stdout\",\"output_type\":\"stream\",\"text\":[\"[0] is True\\n\"]}],\"source\":[\"whatis([0])\"]},{\"cell_type\":\"code\",\"execution_count\":null,\"metadata\":{\"id\":\"tbtrDYwLgoPD\",\"outputId\":\"ae4d1814-1542-4809-e78a-3d02c083f488\"},\"outputs\":[{\"name\":\"stdout\",\"output_type\":\"stream\",\"text\":[\"[''] is True\\n\"]}],\"source\":[\"whatis([''])\"]},{\"cell_type\":\"code\",\"execution_count\":null,\"metadata\":{\"id\":\"uDXB_GXHgoPE\",\"outputId\":\"bcb2dc19-dcfd-458d-fd27-6c0881d9481b\"},\"outputs\":[{\"name\":\"stdout\",\"output_type\":\"stream\",\"text\":[\"  is True\\n\"]}],\"source\":[\"whatis(' ')\"]},{\"cell_type\":\"markdown\",\"metadata\":{\"id\":\"RsoxZqSKgoPJ\"},\"source\":[\"### Especificar parámetros con valores por defecto\\n\",\"\\n\",\"Es posible especificar valores por defecto en los parámetros de una función. El valor por defecto se usará cuando en la llamada a la función no se haya proporcionado el correspondiente argumento.\"]},{\"cell_type\":\"code\",\"execution_count\":null,\"metadata\":{\"id\":\"daoPS614goPK\"},\"outputs\":[],\"source\":[\"def menu(wine, entree, dessert='Tiramisú'):\\n\",\"    return {'wine': wine, 'entree': entree, 'dessert': dessert}\"]},{\"cell_type\":\"code\",\"execution_count\":null,\"metadata\":{\"id\":\"Dchry5XUgoPK\",\"outputId\":\"0e35cc72-e826-462d-b2c6-5796019c1b72\"},\"outputs\":[{\"data\":{\"text/plain\":[\"{'wine': 'Ignios', 'entree': 'Ensalada', 'dessert': 'Tiramisú'}\"]},\"execution_count\":35,\"metadata\":{},\"output_type\":\"execute_result\"}],\"source\":[\"# Hacemos uso del valor por defecto del parámetro \\\"dessert\\\"\\n\",\"\\n\",\"menu('Ignios', 'Ensalada')\"]},{\"cell_type\":\"code\",\"execution_count\":null,\"metadata\":{\"id\":\"g12f1tmEgoPK\",\"outputId\":\"92d30f79-5482-463c-af5a-1d62bc536ce7\"},\"outputs\":[{\"data\":{\"text/plain\":[\"{'wine': 'Tajinaste', 'entree': 'Revuelto de setas', 'dessert': 'Helado'}\"]},\"execution_count\":36,\"metadata\":{},\"output_type\":\"execute_result\"}],\"source\":[\"# \\\"Sobreescribimos\\\" el valor de \\\"dessert\\\" especificando uno concreto\\n\",\"\\n\",\"menu('Tajinaste', 'Revuelto de setas', 'Helado')\"]},{\"cell_type\":\"markdown\",\"metadata\":{\"id\":\"j_45AqYPgoPK\"},\"source\":[\"\u003e Los valores por defecto en los parámetros se calculan cuando se **define** la función, no cuando se **ejecuta**.\"]},{\"cell_type\":\"markdown\",\"metadata\":{\"id\":\"myZMsvJ9goPL\"},\"source\":[\"En la siguiente función, uno esperaría que `result` tuviera una lista vacía en cada ejecución, pero como estamos modificando ese parámetro dentro de la función, este cambio perdura en el tiempo:\"]},{\"cell_type\":\"code\",\"execution_count\":null,\"metadata\":{\"id\":\"JWXHLCkigoPL\"},\"outputs\":[],\"source\":[\"def buggy(arg, result=[]):\\n\",\"    result.append(arg)\\n\",\"    print(result)\"]},{\"cell_type\":\"code\",\"execution_count\":null,\"metadata\":{\"id\":\"Nm6x7JFxgoPL\",\"outputId\":\"3b5ef21a-c05a-41a6-86f2-52371b5342a1\"},\"outputs\":[{\"name\":\"stdout\",\"output_type\":\"stream\",\"text\":[\"['a']\\n\"]}],\"source\":[\"buggy('a')\"]},{\"cell_type\":\"code\",\"execution_count\":null,\"metadata\":{\"id\":\"cWEWopjfgoPM\",\"outputId\":\"afdd8d07-0872-4401-8c53-83167f6b4a06\"},\"outputs\":[{\"name\":\"stdout\",\"output_type\":\"stream\",\"text\":[\"['a', 'b']\\n\"]}],\"source\":[\"buggy('b')  # se esperaría ['b']\"]},{\"cell_type\":\"markdown\",\"metadata\":{\"id\":\"llTyCtBOgoPM\"},\"source\":[\"Habría funcionado si hubiéramos escrito algo así:\"]},{\"cell_type\":\"code\",\"execution_count\":null,\"metadata\":{\"id\":\"YTkAUrmEgoPM\"},\"outputs\":[],\"source\":[\"def works(arg):\\n\",\"    result = []\\n\",\"    result.append(arg)\\n\",\"    return result\"]},{\"cell_type\":\"code\",\"execution_count\":null,\"metadata\":{\"id\":\"keLMuecagoPN\",\"outputId\":\"a4579cf4-41c7-4c15-a358-6e4cb5c8dee3\"},\"outputs\":[{\"data\":{\"text/plain\":[\"['a']\"]},\"execution_count\":41,\"metadata\":{},\"output_type\":\"execute_result\"}],\"source\":[\"works('a')\"]},{\"cell_type\":\"code\",\"execution_count\":null,\"metadata\":{\"scrolled\":true,\"id\":\"NwsA22TwgoPN\",\"outputId\":\"6d0ca929-9d2b-4f15-d934-aead9cc4f029\"},\"outputs\":[{\"data\":{\"text/plain\":[\"['b']\"]},\"execution_count\":42,\"metadata\":{},\"output_type\":\"execute_result\"}],\"source\":[\"works('b')\"]},{\"cell_type\":\"markdown\",\"metadata\":{\"id\":\"xgUyf53JgoPN\"},\"source\":[\"La forma de arreglar el código anterior utilizando un parámetro con valor por defecto sería indicar cuál es la primera llamada:\"]},{\"cell_type\":\"code\",\"execution_count\":null,\"metadata\":{\"id\":\"Io3KwBv9goPO\"},\"outputs\":[],\"source\":[\"def nonbuggy(arg, result=None):\\n\",\"    if result is None:\\n\",\"        result = []\\n\",\"    result.append(arg)\\n\",\"    print(result)\"]},{\"cell_type\":\"code\",\"execution_count\":null,\"metadata\":{\"id\":\"COO_aVCbgoPO\",\"outputId\":\"0aca022f-9e48-4d6b-fcc3-d6200fb246f4\"},\"outputs\":[{\"name\":\"stdout\",\"output_type\":\"stream\",\"text\":[\"['a']\\n\"]}],\"source\":[\"nonbuggy('a')\"]},{\"cell_type\":\"code\",\"execution_count\":null,\"metadata\":{\"id\":\"zzzRUbU-goPO\",\"outputId\":\"000d0539-daec-4538-9ae9-328edb3737a3\"},\"outputs\":[{\"name\":\"stdout\",\"output_type\":\"stream\",\"text\":[\"['b']\\n\"]}],\"source\":[\"nonbuggy('b')\"]},{\"cell_type\":\"markdown\",\"metadata\":{\"id\":\"4Gv0g1zlgoPO\"},\"source\":[\"\u003e Esto suele ser pregunta para entrevistas de trabajo en Python!\"]},{\"cell_type\":\"markdown\",\"metadata\":{\"id\":\"w_7BYXU_goPO\"},\"source\":[\"### Reunir/Desplegar argumentos posicionales\\n\",\"\\n\",\"Python ofrece la posibilidad de utilizar un asterisco `*` en los parámetros de las funciones. Sirve para **reunir** múltiples argumentos posicionales en una única tupla como valor del parámetro.\"]},{\"cell_type\":\"code\",\"execution_count\":null,\"metadata\":{\"id\":\"zNFhblpbgoPO\"},\"outputs\":[],\"source\":[\"def print_args(*args):\\n\",\"    print('Positional tuple:', args)\"]},{\"cell_type\":\"markdown\",\"metadata\":{\"id\":\"t9pDoHUmgoPP\"},\"source\":[\"Si llamamos a la función sin argumentos no obtendremos nada en `*args`:\"]},{\"cell_type\":\"code\",\"execution_count\":null,\"metadata\":{\"id\":\"pYWqF1mvgoPP\",\"outputId\":\"468f8cf1-ec9d-4035-c0db-d80bc785aa6c\"},\"outputs\":[{\"name\":\"stdout\",\"output_type\":\"stream\",\"text\":[\"Positional tuple: ()\\n\"]}],\"source\":[\"print_args()\"]},{\"cell_type\":\"markdown\",\"metadata\":{\"id\":\"IwSHjsJ6goPQ\"},\"source\":[\"Pero la parte interesante es que podemos pasar cualquier número de argumentos:\"]},{\"cell_type\":\"code\",\"execution_count\":null,\"metadata\":{\"id\":\"4Vzkw2tZgoPQ\",\"outputId\":\"1d66ecbf-c78e-4da9-8d99-822d014c7773\"},\"outputs\":[{\"name\":\"stdout\",\"output_type\":\"stream\",\"text\":[\"Positional tuple: (1, 2, 3, 'pescado', 'salado', 'es')\\n\"]}],\"source\":[\"print_args(1, 2, 3, 'pescado', 'salado', 'es')\"]},{\"cell_type\":\"markdown\",\"metadata\":{\"id\":\"nW8SB7TpgoPR\"},\"source\":[\"También podemos utilizar esta estrategia para establecer en una función una serie de parámetros como *requeridos* y recibir el *resto de argumentos* como opcionales y empaquetados:\"]},{\"cell_type\":\"code\",\"execution_count\":null,\"metadata\":{\"id\":\"MgRsDQNYgoPS\"},\"outputs\":[],\"source\":[\"def sum_all(v1, v2, *args):\\n\",\"    total = 0\\n\",\"    for value in (v1, v2) + args:  # args es una tupla\\n\",\"        total += value\\n\",\"    return total\"]},{\"cell_type\":\"code\",\"execution_count\":null,\"metadata\":{\"tags\":[\"raises-exception\"],\"id\":\"xC6SZDIogoPS\",\"outputId\":\"a790cb1a-46cc-4c19-bbfe-89794d3717ca\"},\"outputs\":[{\"ename\":\"TypeError\",\"evalue\":\"sum_all() missing 2 required positional arguments: 'v1' and 'v2'\",\"output_type\":\"error\",\"traceback\":[\"\\u001b[0;31m---------------------------------------------------------------------------\\u001b[0m\",\"\\u001b[0;31mTypeError\\u001b[0m                                 Traceback (most recent call last)\",\"\\u001b[0;32m\u003cipython-input-50-6e0e70053a1a\u003e\\u001b[0m in \\u001b[0;36m\u003cmodule\u003e\\u001b[0;34m\\u001b[0m\\n\\u001b[0;32m----\u003e 1\\u001b[0;31m \\u001b[0msum_all\\u001b[0m\\u001b[0;34m(\\u001b[0m\\u001b[0;34m)\\u001b[0m\\u001b[0;34m\\u001b[0m\\u001b[0;34m\\u001b[0m\\u001b[0m\\n\\u001b[0m\",\"\\u001b[0;31mTypeError\\u001b[0m: sum_all() missing 2 required positional arguments: 'v1' and 'v2'\"]}],\"source\":[\"sum_all()\"]},{\"cell_type\":\"code\",\"execution_count\":null,\"metadata\":{\"id\":\"ugyavw-dgoPT\",\"outputId\":\"0619ce36-730c-4fdf-9598-5d2eddb85ab3\"},\"outputs\":[{\"data\":{\"text/plain\":[\"3\"]},\"execution_count\":51,\"metadata\":{},\"output_type\":\"execute_result\"}],\"source\":[\"sum_all(1, 2)\"]},{\"cell_type\":\"code\",\"execution_count\":null,\"metadata\":{\"id\":\"6FsUrKM8goPT\",\"outputId\":\"81f5eded-ee03-4e6c-935f-ad5f2473d749\"},\"outputs\":[{\"data\":{\"text/plain\":[\"57\"]},\"execution_count\":52,\"metadata\":{},\"output_type\":\"execute_result\"}],\"source\":[\"sum_all(5, 9, 3, 8, 11, 21)\"]},{\"cell_type\":\"markdown\",\"metadata\":{\"id\":\"B7YgK6kmgoPU\"},\"source\":[\"Existe la posibilidad de usar el asterisco `*` en la llamada a la función para **desplegar** los argumentos posicionales:\"]},{\"cell_type\":\"code\",\"execution_count\":null,\"metadata\":{\"id\":\"SFX30XILgoPU\"},\"outputs\":[],\"source\":[\"def print_args(*args):\\n\",\"    print('Positional tuple:', args)\"]},{\"cell_type\":\"code\",\"execution_count\":null,\"metadata\":{\"id\":\"qpuTTz9ggoPV\",\"outputId\":\"680225e4-d87c-476d-a11e-aba74e0e0f1a\"},\"outputs\":[{\"name\":\"stdout\",\"output_type\":\"stream\",\"text\":[\"Positional tuple: (2, 5, 7, 'x')\\n\"]}],\"source\":[\"print_args(2, 5, 7, 'x')\"]},{\"cell_type\":\"code\",\"execution_count\":null,\"metadata\":{\"id\":\"diw6yWyigoPV\"},\"outputs\":[],\"source\":[\"args = (2, 5, 7, 'x')\"]},{\"cell_type\":\"code\",\"execution_count\":null,\"metadata\":{\"id\":\"gfxhimDUgoPW\",\"outputId\":\"59b1f98b-85c7-4f96-eb2a-46d58c3b1978\"},\"outputs\":[{\"name\":\"stdout\",\"output_type\":\"stream\",\"text\":[\"Positional tuple: ((2, 5, 7, 'x'),)\\n\"]}],\"source\":[\"print_args(args)\"]},{\"cell_type\":\"code\",\"execution_count\":null,\"metadata\":{\"id\":\"LwDZIAp3goPW\",\"outputId\":\"ac744f46-5296-416d-82e0-c0d57abb49b8\"},\"outputs\":[{\"name\":\"stdout\",\"output_type\":\"stream\",\"text\":[\"Positional tuple: (2, 5, 7, 'x')\\n\"]}],\"source\":[\"print_args(*args)  # despliegue de argumentos\"]},{\"cell_type\":\"markdown\",\"metadata\":{\"id\":\"KKEL-r_5goPk\"},\"source\":[\"## Documentación\\n\",\"\\n\",\"Podemos (y en muchos casos *debemos*) adjuntar **documentación** a la definición de una función incluyendo una cadena de texto (**`docstring`**) en el comienzo de su cuerpo:\"]},{\"cell_type\":\"code\",\"execution_count\":null,\"metadata\":{\"id\":\"G7w4nqOSgoPk\"},\"outputs\":[],\"source\":[\"def echo(anything):\\n\",\"    'echo returns its input argument'\\n\",\"    return anything\"]},{\"cell_type\":\"markdown\",\"metadata\":{\"id\":\"DdQJ8hkUgoPk\"},\"source\":[\"Podemos escribir un `docstring` con más información utilizando triples comillas `'''`:\"]},{\"cell_type\":\"code\",\"execution_count\":null,\"metadata\":{\"id\":\"LJ4Up0qqgoPl\"},\"outputs\":[],\"source\":[\"def print_if_true(thing, check):\\n\",\"    '''\\n\",\"    Prints the first argument if a second argument is true.\\n\",\"    The operation is:\\n\",\"        1. Check whether the *second* argument is true.\\n\",\"        2. If it is, print the *first* argument.\\n\",\"    '''\\n\",\"    if check:\\n\",\"        print(thing)\"]},{\"cell_type\":\"markdown\",\"metadata\":{\"id\":\"lVSKlv9YgoPl\"},\"source\":[\"Para imprimir el `docstring` de una función, basta con hacer uso de la función `help`:\"]},{\"cell_type\":\"code\",\"execution_count\":null,\"metadata\":{\"id\":\"44FSqkeggoPl\",\"outputId\":\"b16ac2f4-43e3-4e4f-d809-036424140495\"},\"outputs\":[{\"name\":\"stdout\",\"output_type\":\"stream\",\"text\":[\"Help on function echo in module __main__:\\n\",\"\\n\",\"echo(anything)\\n\",\"    echo returns its input argument\\n\",\"\\n\"]}],\"source\":[\"help(echo)\"]},{\"cell_type\":\"markdown\",\"metadata\":{\"id\":\"tzgEcqCrgoPl\"},\"source\":[\"Si queremos ver el `docstring` en *crudo* sin ningún formato, haríamos lo siguiente:\"]},{\"cell_type\":\"code\",\"execution_count\":null,\"metadata\":{\"scrolled\":true,\"id\":\"vy6waLDVgoPl\",\"outputId\":\"3553dbe5-c3ca-4859-dae8-2184459b6e0a\"},\"outputs\":[{\"name\":\"stdout\",\"output_type\":\"stream\",\"text\":[\"\\n\",\"    Prints the first argument if a second argument is true.\\n\",\"    The operation is:\\n\",\"        1. Check whether the *second* argument is true.\\n\",\"        2. If it is, print the *first* argument.\\n\",\"    \\n\"]}],\"source\":[\"print(print_if_true.__doc__)\"]},{\"cell_type\":\"markdown\",\"metadata\":{\"id\":\"AClVZpEVgoPm\"},\"source\":[\"## Las funciones también son objetos\\n\",\"\\n\",\"Como ya se ha comentado, en Python \\\"*todo es un objeto*\\\", y también ocurre con las *funciones*. Podemos asignar una función a una variable, podemos usarlas como argumentos de otras funciones y como valor de retorno. Esto permite una gran flexibilidad y aporta nuevas posibilidades al lenguaje.\"]},{\"cell_type\":\"code\",\"execution_count\":null,\"metadata\":{\"id\":\"A7_DXapAgoPn\",\"outputId\":\"189ceb62-197b-43c1-8d29-50093366f0af\"},\"outputs\":[{\"name\":\"stdout\",\"output_type\":\"stream\",\"text\":[\"42\\n\"]}],\"source\":[\"def respuesta():\\n\",\"    print(42)\\n\",\"\\n\",\"respuesta()\"]},{\"cell_type\":\"markdown\",\"metadata\":{\"id\":\"Z01vY6nzgoPn\"},\"source\":[\"Ahora vamos a definir una función que recibe otra función como parámetro y se encarga de invocarla:\"]},{\"cell_type\":\"code\",\"execution_count\":null,\"metadata\":{\"id\":\"mAbucjP5goPo\",\"outputId\":\"7529cdee-f9e0-4626-b77b-a9cd0d85b0aa\"},\"outputs\":[{\"name\":\"stdout\",\"output_type\":\"stream\",\"text\":[\"42\\n\"]}],\"source\":[\"def run_something(func):\\n\",\"    func()\\n\",\"\\n\",\"run_something(respuesta)  # función \\\"respuesta\\\" como parámetro\"]},{\"cell_type\":\"markdown\",\"metadata\":{\"id\":\"uDsLPZk7goPs\"},\"source\":[\"Veamos ahora otro ejemplo definiendo una función con argumentos:\"]},{\"cell_type\":\"code\",\"execution_count\":null,\"metadata\":{\"id\":\"52bse_gDgoPs\"},\"outputs\":[],\"source\":[\"def suma_args(arg1, arg2):\\n\",\"    print(arg1 + arg2)\"]},{\"cell_type\":\"code\",\"execution_count\":null,\"metadata\":{\"id\":\"gPGjYrlsgoPt\"},\"outputs\":[],\"source\":[\"def funcion_auxiliar(func, arg1, arg2):\\n\",\"    func(arg1, arg2)\"]},{\"cell_type\":\"markdown\",\"metadata\":{\"id\":\"hT_tdr-ogoPt\"},\"source\":[\"Ahora podemos invocar a la función pasando como parámetros la otra función y dos valores que sumar:\"]},{\"cell_type\":\"code\",\"execution_count\":null,\"metadata\":{\"id\":\"jZFO-gUggoPt\",\"outputId\":\"94acc310-a094-4fd4-a897-65243cce89c0\"},\"outputs\":[{\"data\":{\"text/plain\":[\"function\"]},\"execution_count\":84,\"metadata\":{},\"output_type\":\"execute_result\"}],\"source\":[\"type(suma_args)\"]},{\"cell_type\":\"code\",\"execution_count\":null,\"metadata\":{\"id\":\"HWdSM4yCgoPu\",\"outputId\":\"1ce0b7b2-429d-4556-c7cc-57f0f57354da\"},\"outputs\":[{\"name\":\"stdout\",\"output_type\":\"stream\",\"text\":[\"14\\n\"]}],\"source\":[\"funcion_auxiliar(suma_args, 5, 9)\"]},{\"cell_type\":\"markdown\",\"metadata\":{\"id\":\"F3MrjzUEa_J2\"},\"source\":[\"\u003chr\u003e\\n\"]},{\"cell_type\":\"markdown\",\"metadata\":{\"id\":\"bIpdgPAva_J2\"},\"source\":[\"\u003ch2 id=\\\"global\\\"\u003eVariables globales\u003c/h2\u003e\\n\"]},{\"cell_type\":\"markdown\",\"metadata\":{\"id\":\"SehBgfmha_J2\"},\"source\":[\"Hasta ahora, hemos estado creando variables dentro de funciones, pero no hemos creado variables fuera de la función. Estas se llaman variables globales. \u003cbr\u003e\\n\",\"Intentemos ver qué devuelve \u003ccode\u003eprinter1\u003c/code\u003e:\"]},{\"cell_type\":\"code\",\"execution_count\":null,\"metadata\":{\"id\":\"cOCJOl7Wa_J3\"},\"outputs\":[],\"source\":[\"# Ejemplo de variable global\\n\",\"\\n\",\"artist = \\\"Michael Jackson\\\"\\n\",\"def printer1(artist):\\n\",\"    internal_var1 = artist\\n\",\"    print(artist, \\\"es un artista\\\")\\n\",\"    \\n\",\"printer1(artist)\\n\",\"# Mira que pasa si corres la siguiente línea\\n\",\"# printer1(internal_var1) \"]},{\"cell_type\":\"markdown\",\"source\":[\"## Ejercicios de Funciones\\n\"],\"metadata\":{\"id\":\"Riv7KWPtmQ7Q\"}},{\"cell_type\":\"markdown\",\"metadata\":{\"id\":\"F7VDatx8a_J6\"},\"source\":[\"Crea una función que divida la primera entrada por la segunda entrada:\"]},{\"cell_type\":\"code\",\"execution_count\":null,\"metadata\":{\"id\":\"WV7pssZva_J7\"},\"outputs\":[],\"source\":[\"# Crea una función que divida la primera entrada por la segunda entrada:\\n\"]},{\"cell_type\":\"markdown\",\"metadata\":{\"id\":\"YqZ26mHNa_J7\"},\"source\":[\"\u003chr\u003e\\n\"]},{\"cell_type\":\"markdown\",\"metadata\":{\"id\":\"EuHG6Vqua_J7\"},\"source\":[\"Utiliza la función \u003ccode\u003econ\u003c/code\u003e para la siguiente pregunta.\"]},{\"cell_type\":\"code\",\"execution_count\":null,\"metadata\":{\"id\":\"5Ea_3Zmka_J7\"},\"outputs\":[],\"source\":[\"def con(a, b):\\n\",\"    return(a + b)\"]},{\"cell_type\":\"markdown\",\"metadata\":{\"id\":\"Y0lYw5Fla_J7\"},\"source\":[\"¿Se puede usar la función \u003ccode\u003econ\u003c/code\u003e que definimos antes para sumar tanto dos enteros como dos strings?\"]},{\"cell_type\":\"code\",\"execution_count\":null,\"metadata\":{\"id\":\"6yzQoVRsa_J7\"},\"outputs\":[],\"source\":[\"# Pruebalo\\n\"]},{\"cell_type\":\"markdown\",\"metadata\":{\"id\":\"LsQnzbhsa_J8\"},\"source\":[\"\u003chr\u003e\\n\"]},{\"cell_type\":\"markdown\",\"metadata\":{\"id\":\"yNR-eyPYa_J8\"},\"source\":[\"¿Se puede usar la función \u003ccode\u003econ\u003c/code\u003e que definimos antes para concatenar listas?\"]},{\"cell_type\":\"code\",\"execution_count\":null,\"metadata\":{\"id\":\"FwL9f4_6a_J9\"},\"outputs\":[],\"source\":[\"# Pruebalo\\n\"]}]}"],"stylingDirectives":null,"csv":null,"csvError":null,"dependabotInfo":{"showConfigurationBanner":null,"configFilePath":null,"networkDependabotPath":"/cursodatafundamentals/granada/network/updates","dismissConfigurationNoticePath":"/settings/dismiss-notice/dependabot_configuration_notice","configurationNoticeDismissed":false,"repoAlertsPath":"/cursodatafundamentals/granada/security/dependabot","repoSecurityAndAnalysisPath":"/cursodatafundamentals/granada/settings/security_analysis","repoOwnerIsOrg":false,"currentUserCanAdminRepo":false},"displayName":"M5 - 04 - Funciones.ipynb","displayUrl":"https://notebooks.githubusercontent.com/view/ipynb?browser=chrome\u0026bypass_fastly=true\u0026color_mode=auto\u0026commit=47c067b42a9421b6e3e8110a62ee352395acb1c3\u0026device=unknown_device\u0026docs_host=https%3A%2F%2Fdocs.github.com\u0026enc_url=68747470733a2f2f7261772e67697468756275736572636f6e74656e742e636f6d2f637572736f6461746166756e64616d656e74616c732f6772616e6164612f343763303637623432613934323162366533653831313061363265653335323339356163623163332f446179253230362f4d352532302d25323030342532302d25323046756e63696f6e65732e6970796e623f746f6b656e3d424441444c504e5a465348545a595a36445750534d374c464659325353\u0026logged_in=true\u0026nwo=cursodatafundamentals%2Fgranada\u0026path=Day+6%2FM5+-+04+-+Funciones.ipynb\u0026platform=windows\u0026repository_id=699691449\u0026repository_type=Repository\u0026version=117","headerInfo":{"blobSize":"188 KB","deleteInfo":{"deleteTooltip":"Delete this file"},"editInfo":{"editTooltip":"Edit this file"},"ghDesktopPath":"https://desktop.github.com","gitLfsPath":null,"onBranch":true,"shortPath":"9996ea2","siteNavLoginPath":"/login?return_to=https%3A%2F%2Fgithub.com%2Fcursodatafundamentals%2Fgranada%2Fblob%2Fmain%2FDay%25206%2FM5%2520-%252004%2520-%2520Funciones.ipynb","isCSV":false,"isRichtext":false,"toc":null,"lineInfo":{"truncatedLoc":"1","truncatedSloc":"1"},"mode":"file"},"image":false,"isCodeownersFile":null,"isPlain":false,"isValidLegacyIssueTemplate":false,"issueTemplateHelpUrl":"https://docs.github.com/articles/about-issue-and-pull-request-templates","issueTemplate":null,"discussionTemplate":null,"language":"Jupyter Notebook","languageID":185,"large":false,"loggedIn":true,"newDiscussionPath":"/cursodatafundamentals/granada/discussions/new","newIssuePath":"/cursodatafundamentals/granada/issues/new","planSupportInfo":{"repoIsFork":null,"repoOwnedByCurrentUser":null,"requestFullPath":"/cursodatafundamentals/granada/blob/main/Day%206/M5%20-%2004%20-%20Funciones.ipynb","showFreeOrgGatedFeatureMessage":null,"showPlanSupportBanner":null,"upgradeDataAttributes":null,"upgradePath":null},"publishBannersInfo":{"dismissActionNoticePath":"/settings/dismiss-notice/publish_action_from_dockerfile","dismissStackNoticePath":"/settings/dismiss-notice/publish_stack_from_file","releasePath":"/cursodatafundamentals/granada/releases/new?marketplace=true","showPublishActionBanner":false,"showPublishStackBanner":false},"rawBlobUrl":"https://github.com/cursodatafundamentals/granada/raw/main/Day%206/M5%20-%2004%20-%20Funciones.ipynb","renderImageOrRaw":false,"richText":null,"renderedFileInfo":{"identityUUID":"d2e7b1b4-a309-4a4e-983e-56cda3429103","renderFileType":"ipynb","size":192386},"shortPath":null,"tabSize":8,"topBannersInfo":{"overridingGlobalFundingFile":false,"globalPreferredFundingPath":null,"repoOwner":"cursodatafundamentals","repoName":"granada","showInvalidCitationWarning":false,"citationHelpUrl":"https://docs.github.com/en/github/creating-cloning-and-archiving-repositories/creating-a-repository-on-github/about-citation-files","showDependabotConfigurationBanner":null,"actionsOnboardingTip":null},"truncated":false,"viewable":true,"workflowRedirectUrl":null,"symbols":{"timedOut":false,"notAnalyzed":true,"symbols":[]}},"copilotInfo":{"documentationUrl":"https://docs.github.com/copilot/overview-of-github-copilot/about-github-copilot-for-individuals","notices":{"codeViewPopover":{"dismissed":false,"dismissPath":"/settings/dismiss-notice/code_view_copilot_popover"}},"userAccess":{"accessAllowed":false,"hasSubscriptionEnded":false,"orgHasCFBAccess":false,"userHasCFIAccess":false,"userHasOrgs":false,"userIsOrgAdmin":false,"userIsOrgMember":false,"business":null,"featureRequestInfo":null}},"csrf_tokens":{"/cursodatafundamentals/granada/branches":{"post":"1sFnnMjkPMpKlNTlBGr8BFftZoX1pFsOap9LLdfHMIN_K6e4SKTNuimFXqolvzcgM7uCRD7APMOlRW-SEjEFqg"},"/repos/preferences":{"post":"ioUmVN3lGzLytzIATfUnok6TQp53oOBsviGdJfRxaiulRal0WmxHk1kCwGF04M46slmdzpn68rgsp3ACKzmFPw"}}},"title":"granada/Day 6/M5 - 04 - Funciones.ipynb at main · cursodatafundamentals/granada","appPayload":{"helpUrl":"https://docs.github.com","findFileWorkerPath":"/assets-cdn/worker/find-file-worker-83d4418b406d.js","findInFileWorkerPath":"/assets-cdn/worker/find-in-file-worker-bcc43f789400.js","githubDevUrl":"https://github.dev/","enabled_features":{"code_nav_ui_events":false,"copilot_conversational_ux":false,"copilot_conversational_ux_streaming":true,"copilot_popover_file_editor_header":true,"copilot_smell_icebreaker_ux":false,"latest_commit_multi_author":true}}}</script>
  <div data-target="react-app.reactRoot"><style data-styled="true" data-styled-version="5.3.6">.fNPcqd{font-weight:600;font-size:32px;margin:0;font-size:14px;}/*!sc*/
.imcwCi{font-weight:600;font-size:32px;margin:0;font-size:16px;margin-left:8px;}/*!sc*/
.cgQnMS{font-weight:600;font-size:32px;margin:0;}/*!sc*/
.diwsLq{font-weight:600;font-size:32px;margin:0;font-weight:600;display:inline-block;max-width:100%;font-size:16px;}/*!sc*/
.jAEDJk{font-weight:600;font-size:32px;margin:0;font-weight:600;display:inline-block;max-width:100%;font-size:14px;}/*!sc*/
data-styled.g1[id="Heading__StyledHeading-sc-1c1dgg0-0"]{content:"fNPcqd,imcwCi,cgQnMS,diwsLq,jAEDJk,"}/*!sc*/
.fSWWem{padding:0;}/*!sc*/
.kPPmzM{max-width:100%;margin-left:auto;margin-right:auto;display:-webkit-box;display:-webkit-flex;display:-ms-flexbox;display:flex;-webkit-flex-wrap:wrap;-ms-flex-wrap:wrap;flex-wrap:wrap;}/*!sc*/
.cIAPDV{display:-webkit-box;display:-webkit-flex;display:-ms-flexbox;display:flex;-webkit-flex:1 1 100%;-ms-flex:1 1 100%;flex:1 1 100%;-webkit-flex-wrap:wrap;-ms-flex-wrap:wrap;flex-wrap:wrap;max-width:100%;}/*!sc*/
.gvCnwW{width:100%;}/*!sc*/
@media screen and (min-width:544px){.gvCnwW{width:100%;}}/*!sc*/
@media screen and (min-width:768px){.gvCnwW{width:auto;}}/*!sc*/
.ioxSsX{display:-webkit-box;display:-webkit-flex;display:-ms-flexbox;display:flex;-webkit-order:1;-ms-flex-order:1;order:1;width:100%;margin-left:0;margin-right:0;-webkit-flex-direction:column;-ms-flex-direction:column;flex-direction:column;margin-bottom:0;min-width:0;}/*!sc*/
@media screen and (min-width:544px){.ioxSsX{-webkit-flex-direction:column;-ms-flex-direction:column;flex-direction:column;}}/*!sc*/
@media screen and (min-width:768px){.ioxSsX{width:auto;margin-top:0 !important;margin-bottom:0 !important;position:-webkit-sticky;position:sticky;top:0px;max-height:var(--sticky-pane-height);-webkit-flex-direction:row-reverse;-ms-flex-direction:row-reverse;flex-direction:row-reverse;margin-right:0;}}/*!sc*/
@media screen and (min-width:769px){.ioxSsX{height:100vh;max-height:100vh !important;}}/*!sc*/
@media print,screen and (max-width:1011px) and (min-width:768px){.ioxSsX{display:none;}}/*!sc*/
.eUyHuk{margin-left:0;margin-right:0;display:none;margin-top:0;}/*!sc*/
@media screen and (min-width:768px){.eUyHuk{margin-left:0 !important;margin-right:0 !important;}}/*!sc*/
.hAeDYA{height:100%;position:relative;display:none;margin-left:0;}/*!sc*/
.ekKrwo{position:absolute;inset:0 -2px;cursor:col-resize;background-color:transparent;-webkit-transition-delay:0.1s;transition-delay:0.1s;}/*!sc*/
.ekKrwo:hover{background-color:rgba(175,184,193,0.2);}/*!sc*/
.gNdDUH{--pane-min-width:256px;--pane-max-width-diff:511px;--pane-max-width:calc(100vw - var(--pane-max-width-diff));width:100%;padding:0;}/*!sc*/
@media screen and (min-width:544px){}/*!sc*/
@media screen and (min-width:768px){.gNdDUH{width:clamp(var(--pane-min-width),var(--pane-width),var(--pane-max-width));overflow:auto;}}/*!sc*/
@media screen and (min-width:1280px){.gNdDUH{--pane-max-width-diff:959px;}}/*!sc*/
.jywUSN{max-height:100%;height:100%;display:-webkit-box;display:-webkit-flex;display:-ms-flexbox;display:flex;-webkit-flex-direction:column;-ms-flex-direction:column;flex-direction:column;}/*!sc*/
@media screen and (max-width:768px){.jywUSN{display:none;}}/*!sc*/
@media screen and (min-width:768px){.jywUSN{max-height:100vh;height:100vh;}}/*!sc*/
.hBSSUC{display:-webkit-box;display:-webkit-flex;display:-ms-flexbox;display:flex;-webkit-flex-direction:column;-ms-flex-direction:column;flex-direction:column;-webkit-align-items:center;-webkit-box-align:center;-ms-flex-align:center;align-items:center;padding-left:16px;padding-right:16px;padding-bottom:8px;padding-top:16px;}/*!sc*/
.iPurHz{display:-webkit-box;display:-webkit-flex;display:-ms-flexbox;display:flex;width:100%;margin-bottom:16px;-webkit-align-items:center;-webkit-box-align:center;-ms-flex-align:center;align-items:center;}/*!sc*/
.kkrdEu{-webkit-box-pack:center;-webkit-justify-content:center;-ms-flex-pack:center;justify-content:center;}/*!sc*/
.trpoQ{display:-webkit-box;display:-webkit-flex;display:-ms-flexbox;display:flex;pointer-events:none;}/*!sc*/
.hVHHYa{margin-left:24px;margin-right:24px;display:-webkit-box;display:-webkit-flex;display:-ms-flexbox;display:flex;width:100%;}/*!sc*/
.idZfsJ{-webkit-box-flex:1;-webkit-flex-grow:1;-ms-flex-positive:1;flex-grow:1;}/*!sc*/
.bKgizp{display:-webkit-box;display:-webkit-flex;display:-ms-flexbox;display:flex;width:100%;}/*!sc*/
.kYlvBX{margin-right:4px;color:#656d76;}/*!sc*/
.caeYDk{font-size:14px;min-width:0;overflow:hidden;text-overflow:ellipsis;white-space:nowrap;}/*!sc*/
.jahcnb{margin-left:8px;white-space:nowrap;}/*!sc*/
.jahcnb:hover button:not(:hover){border-left-color:var(--button-default-borderColor-hover,var(--color-btn-hover-border));}/*!sc*/
.ccToMy{margin-left:16px;margin-right:16px;margin-bottom:12px;}/*!sc*/
@media screen and (max-width:768px){.ccToMy{display:none;}}/*!sc*/
.cNvKlH{margin-right:-6px;}/*!sc*/
.cLfAnm{-webkit-box-flex:1;-webkit-flex-grow:1;-ms-flex-positive:1;flex-grow:1;max-height:100% !important;overflow-y:auto;-webkit-scrollbar-gutter:stable;-moz-scrollbar-gutter:stable;-ms-scrollbar-gutter:stable;scrollbar-gutter:stable;}/*!sc*/
@media screen and (max-width:768px){.cLfAnm{display:none;}}/*!sc*/
.erWCJP{padding-left:16px;padding-right:16px;padding-bottom:8px;}/*!sc*/
@media (min-height:600px) and (min-width:768px){.hwhShM{display:none;}}/*!sc*/
.cYPxpP{margin-top:8px;margin-left:16px;margin-right:16px;margin-bottom:12px;font-size:12px;-webkit-align-items:center;-webkit-box-align:center;-ms-flex-align:center;align-items:center;}/*!sc*/
@media (max-height:599px),(max-width:767px){.fBtiVT{display:none;}}/*!sc*/
.emFMJu{display:-webkit-box;display:-webkit-flex;display:-ms-flexbox;display:flex;-webkit-flex-direction:column;-ms-flex-direction:column;flex-direction:column;-webkit-order:2;-ms-flex-order:2;order:2;-webkit-flex-basis:0;-ms-flex-preferred-size:0;flex-basis:0;-webkit-box-flex:1;-webkit-flex-grow:1;-ms-flex-positive:1;flex-grow:1;-webkit-flex-shrink:1;-ms-flex-negative:1;flex-shrink:1;min-width:1px;margin-right:auto;}/*!sc*/
@media print{.emFMJu{display:-webkit-box !important;display:-webkit-flex !important;display:-ms-flexbox !important;display:flex !important;}}/*!sc*/
.hlUAHL{width:100%;max-width:100%;margin-left:auto;margin-right:auto;-webkit-box-flex:1;-webkit-flex-grow:1;-ms-flex-positive:1;flex-grow:1;padding:0;}/*!sc*/
.iStsmI{margin-left:auto;margin-right:auto;-webkit-flex-direction:column;-ms-flex-direction:column;flex-direction:column;padding-bottom:40px;max-width:100%;margin-top:0;}/*!sc*/
.eIgvIk{display:inherit;}/*!sc*/
.eVFfWF{width:100%;}/*!sc*/
.kgXdnT{padding:16px;padding-bottom:0;}/*!sc*/
.kzTa-dF{display:-webkit-box;display:-webkit-flex;display:-ms-flexbox;display:flex;-webkit-flex-direction:column;-ms-flex-direction:column;flex-direction:column;-webkit-box-pack:justify;-webkit-justify-content:space-between;-ms-flex-pack:justify;justify-content:space-between;gap:16px;width:100%;}/*!sc*/
.bbXCl{display:-webkit-box;display:-webkit-flex;display:-ms-flexbox;display:flex;-webkit-flex-direction:row;-ms-flex-direction:row;flex-direction:row;-webkit-align-items:start;-webkit-box-align:start;-ms-flex-align:start;align-items:start;-webkit-box-pack:justify;-webkit-justify-content:space-between;-ms-flex-pack:justify;justify-content:space-between;}/*!sc*/
.hGGMNu{display:-webkit-box;display:-webkit-flex;display:-ms-flexbox;display:flex;-webkit-flex-direction:row;-ms-flex-direction:row;flex-direction:row;-webkit-align-items:start;-webkit-box-align:start;-ms-flex-align:start;align-items:start;-webkit-box-pack:justify;-webkit-justify-content:space-between;-ms-flex-pack:justify;justify-content:space-between;justify-self:flex-end;}/*!sc*/
.eHRrYV{margin-left:8px;margin-right:8px;}/*!sc*/
.dKmYfk{font-size:14px;min-width:0;max-width:125px;overflow:hidden;text-overflow:ellipsis;white-space:nowrap;}/*!sc*/
.hSNzKh{justify-self:end;max-width:100%;}/*!sc*/
.eTvGbF{display:-webkit-box;display:-webkit-flex;display:-ms-flexbox;display:flex;-webkit-flex-direction:row;-ms-flex-direction:row;flex-direction:row;font-size:16px;min-width:0;-webkit-flex-shrink:1;-ms-flex-negative:1;flex-shrink:1;-webkit-flex-wrap:wrap;-ms-flex-wrap:wrap;flex-wrap:wrap;max-width:100%;-webkit-align-items:center;-webkit-box-align:center;-ms-flex-align:center;align-items:center;}/*!sc*/
.kzRgrI{max-width:100%;}/*!sc*/
.cmAPIB{max-width:100%;list-style:none;display:inline-block;}/*!sc*/
.jwXCBK{display:inline-block;max-width:100%;}/*!sc*/
.bDwCYs{padding:16px;padding-bottom:0;padding-left:16px;padding-right:16px;}/*!sc*/
.fywjmm{display:-webkit-box;display:-webkit-flex;display:-ms-flexbox;display:flex;gap:8px;-webkit-flex-direction:column;-ms-flex-direction:column;flex-direction:column;width:100%;}/*!sc*/
.dyczTK{display:-webkit-box;display:-webkit-flex;display:-ms-flexbox;display:flex;-webkit-align-items:start;-webkit-box-align:start;-ms-flex-align:start;align-items:start;-webkit-box-pack:justify;-webkit-justify-content:space-between;-ms-flex-pack:justify;justify-content:space-between;gap:8px;}/*!sc*/
.kszRgZ{-webkit-align-self:center;-ms-flex-item-align:center;align-self:center;display:-webkit-box;display:-webkit-flex;display:-ms-flexbox;display:flex;padding-right:8px;min-width:0;}/*!sc*/
.gtBUEp{min-height:32px;display:-webkit-box;display:-webkit-flex;display:-ms-flexbox;display:flex;-webkit-align-items:start;-webkit-box-align:start;-ms-flex-align:start;align-items:start;}/*!sc*/
.MERGN{margin-left:16px;margin-right:16px;}/*!sc*/
@media screen and (min-width:1440px){.MERGN{margin-left:16px;}}/*!sc*/
.cMYnca{display:-webkit-box;display:-webkit-flex;display:-ms-flexbox;display:flex;-webkit-flex-direction:column;-ms-flex-direction:column;flex-direction:column;}/*!sc*/
.kLxXov{display:-webkit-box;display:-webkit-flex;display:-ms-flexbox;display:flex;-webkit-flex-direction:column;-ms-flex-direction:column;flex-direction:column;border:1px solid;border-color:#d0d7de;border-radius:6px;margin-bottom:16px;}/*!sc*/
.eYedVD{display:-webkit-box;display:-webkit-flex;display:-ms-flexbox;display:flex;-webkit-flex-direction:row;-ms-flex-direction:row;flex-direction:row;-webkit-box-pack:justify;-webkit-justify-content:space-between;-ms-flex-pack:justify;justify-content:space-between;-webkit-align-items:center;-webkit-box-align:center;-ms-flex-align:center;align-items:center;gap:8px;min-width:273px;padding-right:8px;padding-left:16px;padding-top:8px;padding-bottom:8px;}/*!sc*/
.jGfYmh{display:-webkit-box;display:-webkit-flex;display:-ms-flexbox;display:flex;gap:8px;}/*!sc*/
.lhFvfi{display:-webkit-box;display:-webkit-flex;display:-ms-flexbox;display:flex;-webkit-align-items:center;-webkit-box-align:center;-ms-flex-align:center;align-items:center;}/*!sc*/
.bqgLjk{display:inherit;}/*!sc*/
@media screen and (min-width:544px){.bqgLjk{display:none;}}/*!sc*/
@media screen and (min-width:768px){.bqgLjk{display:none;}}/*!sc*/
.iJmJly{display:-webkit-box;display:-webkit-flex;display:-ms-flexbox;display:flex;-webkit-flex-direction:row;-ms-flex-direction:row;flex-direction:row;}/*!sc*/
.jACbi{width:100%;height:-webkit-fit-content;height:-moz-fit-content;height:fit-content;min-width:0;margin-right:0;}/*!sc*/
.bSdwWB{padding-left:4px;padding-bottom:16px;}/*!sc*/
.fleZSW{-webkit-align-items:center;-webkit-box-align:center;-ms-flex-align:center;align-items:center;}/*!sc*/
.bZpGqz{font-size:12px;-webkit-flex:auto;-ms-flex:auto;flex:auto;padding-right:16px;color:#656d76;min-width:0;}/*!sc*/
.gBKNLX{top:0px;z-index:1;background:var(--color-canvas-default);position:-webkit-sticky;position:sticky;}/*!sc*/
.ePiodO{display:-webkit-box;display:-webkit-flex;display:-ms-flexbox;display:flex;-webkit-flex-direction:column;-ms-flex-direction:column;flex-direction:column;width:100%;position:absolute;}/*!sc*/
.kQJlnf{display:none;min-width:0;padding-top:8px;padding-bottom:8px;}/*!sc*/
.gJICKO{margin-right:8px;margin-left:16px;text-overflow:ellipsis;overflow:hidden;display:-webkit-box;display:-webkit-flex;display:-ms-flexbox;display:flex;-webkit-flex-direction:row;-ms-flex-direction:row;flex-direction:row;-webkit-align-items:center;-webkit-box-align:center;-ms-flex-align:center;align-items:center;-webkit-box-pack:justify;-webkit-justify-content:space-between;-ms-flex-pack:justify;justify-content:space-between;width:100%;}/*!sc*/
.iZJewz{display:-webkit-box;display:-webkit-flex;display:-ms-flexbox;display:flex;-webkit-flex-direction:row;-ms-flex-direction:row;flex-direction:row;font-size:14px;min-width:0;-webkit-flex-shrink:1;-ms-flex-negative:1;flex-shrink:1;-webkit-flex-wrap:wrap;-ms-flex-wrap:wrap;flex-wrap:wrap;max-width:100%;-webkit-align-items:center;-webkit-box-align:center;-ms-flex-align:center;align-items:center;}/*!sc*/
.bvEDG{padding-left:8px;padding-top:8px;padding-bottom:8px;display:-webkit-box;display:-webkit-flex;display:-ms-flexbox;display:flex;-webkit-flex:1;-ms-flex:1;flex:1;-webkit-align-items:center;-webkit-box-align:center;-ms-flex-align:center;align-items:center;-webkit-box-pack:justify;-webkit-justify-content:space-between;-ms-flex-pack:justify;justify-content:space-between;background-color:#f6f8fa;border:1px solid var(--borderColor-default,var(--color-border-default));border-radius:6px 6px 0px 0px;}/*!sc*/
.bfkNRF{display:-webkit-box;display:-webkit-flex;display:-ms-flexbox;display:flex;-webkit-align-items:center;-webkit-box-align:center;-ms-flex-align:center;align-items:center;gap:8px;min-width:0;}/*!sc*/
.fXBLEV{display:block;position:relative;-webkit-box-flex:1;-webkit-flex-grow:1;-ms-flex-positive:1;flex-grow:1;margin-top:-1px;margin-bottom:-1px;--separator-color:transparent;}/*!sc*/
.fXBLEV:not(:last-child){margin-right:1px;}/*!sc*/
.fXBLEV:not(:last-child):after{background-color:var(--separator-color);content:"";position:absolute;right:-2px;top:8px;bottom:8px;width:1px;}/*!sc*/
.fXBLEV:focus-within:has(:focus-visible){--separator-color:transparent;}/*!sc*/
.fXBLEV:first-child{margin-left:-1px;}/*!sc*/
.fXBLEV:last-child{margin-right:-1px;}/*!sc*/
.jkTWSe{display:block;position:relative;-webkit-box-flex:1;-webkit-flex-grow:1;-ms-flex-positive:1;flex-grow:1;margin-top:-1px;margin-bottom:-1px;--separator-color:#d0d7de;}/*!sc*/
.jkTWSe:not(:last-child){margin-right:1px;}/*!sc*/
.jkTWSe:not(:last-child):after{background-color:var(--separator-color);content:"";position:absolute;right:-2px;top:8px;bottom:8px;width:1px;}/*!sc*/
.jkTWSe:focus-within:has(:focus-visible){--separator-color:transparent;}/*!sc*/
.jkTWSe:first-child{margin-left:-1px;}/*!sc*/
.jkTWSe:last-child{margin-right:-1px;}/*!sc*/
.iBylDf{display:-webkit-box;display:-webkit-flex;display:-ms-flexbox;display:flex;-webkit-align-items:center;-webkit-box-align:center;-ms-flex-align:center;align-items:center;gap:8px;margin-right:8px;}/*!sc*/
.kSGBPx{gap:8px;}/*!sc*/
.flDsrw{border:1px solid;border-top:none;border-color:#d0d7de;border-radius:0px 0px 6px 6px;min-width:273px;}/*!sc*/
.eJsjkT{background-color:var(--bgColor-default,var(--color-canvas-default));border:0px;border-width:0;border-radius:0px 0px 6px 6px;padding:0;min-width:0;margin-top:46px;overflow:auto;}/*!sc*/
.aZrVR{position:fixed;top:0;right:0;height:100%;width:15px;-webkit-transition:-webkit-transform 0.3s;-webkit-transition:transform 0.3s;transition:transform 0.3s;z-index:1;}/*!sc*/
.aZrVR:hover{-webkit-transform:scaleX(1.5);-ms-transform:scaleX(1.5);transform:scaleX(1.5);}/*!sc*/
.bAzdCq{display:-webkit-box;display:-webkit-flex;display:-ms-flexbox;display:flex;-webkit-flex-direction:column;-ms-flex-direction:column;flex-direction:column;-webkit-align-items:center;-webkit-box-align:center;-ms-flex-align:center;align-items:center;padding-top:16px;padding-bottom:16px;}/*!sc*/
data-styled.g2[id="Box-sc-g0xbh4-0"]{content:"fSWWem,kPPmzM,cIAPDV,gvCnwW,ioxSsX,eUyHuk,hAeDYA,ekKrwo,gNdDUH,jywUSN,hBSSUC,iPurHz,kkrdEu,trpoQ,hVHHYa,idZfsJ,bKgizp,kYlvBX,caeYDk,jahcnb,ccToMy,cNvKlH,cLfAnm,erWCJP,hwhShM,cYPxpP,fBtiVT,emFMJu,hlUAHL,iStsmI,eIgvIk,eVFfWF,kgXdnT,kzTa-dF,bbXCl,hGGMNu,eHRrYV,dKmYfk,hSNzKh,eTvGbF,kzRgrI,cmAPIB,jwXCBK,bDwCYs,fywjmm,dyczTK,kszRgZ,gtBUEp,MERGN,cMYnca,kLxXov,eYedVD,jGfYmh,lhFvfi,bqgLjk,iJmJly,jACbi,bSdwWB,fleZSW,bZpGqz,gBKNLX,ePiodO,kQJlnf,gJICKO,iZJewz,bvEDG,bfkNRF,fXBLEV,jkTWSe,iBylDf,kSGBPx,flDsrw,eJsjkT,aZrVR,bAzdCq,"}/*!sc*/
.rTZSs{position:absolute;width:1px;height:1px;padding:0;margin:-1px;overflow:hidden;-webkit-clip:rect(0,0,0,0);clip:rect(0,0,0,0);white-space:nowrap;border-width:0;}/*!sc*/
data-styled.g3[id="_VisuallyHidden__VisuallyHidden-sc-11jhm7a-0"]{content:"rTZSs,"}/*!sc*/
.fUpWeN{display:inline-block;overflow:hidden;text-overflow:ellipsis;vertical-align:top;white-space:nowrap;max-width:125px;max-width:100%;}/*!sc*/
data-styled.g5[id="Truncate__StyledTruncate-sc-23o1d2-0"]{content:"fUpWeN,"}/*!sc*/
.fIqerb{color:#0969da;-webkit-text-decoration:none;text-decoration:none;}/*!sc*/
.fIqerb:hover{-webkit-text-decoration:underline;text-decoration:underline;}/*!sc*/
.fIqerb:is(button){display:inline-block;padding:0;font-size:inherit;white-space:nowrap;cursor:pointer;-webkit-user-select:none;-moz-user-select:none;-ms-user-select:none;user-select:none;background-color:transparent;border:0;-webkit-appearance:none;-moz-appearance:none;appearance:none;}/*!sc*/
.eVjWum{color:#0969da;-webkit-text-decoration:none;text-decoration:none;font-weight:600;}/*!sc*/
.eVjWum:hover{-webkit-text-decoration:underline;text-decoration:underline;}/*!sc*/
.eVjWum:is(button){display:inline-block;padding:0;font-size:inherit;white-space:nowrap;cursor:pointer;-webkit-user-select:none;-moz-user-select:none;-ms-user-select:none;user-select:none;background-color:transparent;border:0;-webkit-appearance:none;-moz-appearance:none;appearance:none;}/*!sc*/
.dYxKVs{color:#0969da;-webkit-text-decoration:none;text-decoration:none;font-weight:400;}/*!sc*/
.dYxKVs:hover{-webkit-text-decoration:underline;text-decoration:underline;}/*!sc*/
.dYxKVs:is(button){display:inline-block;padding:0;font-size:inherit;white-space:nowrap;cursor:pointer;-webkit-user-select:none;-moz-user-select:none;-ms-user-select:none;user-select:none;background-color:transparent;border:0;-webkit-appearance:none;-moz-appearance:none;appearance:none;}/*!sc*/
data-styled.g7[id="Link__StyledLink-sc-14289xe-0"]{content:"fIqerb,eVjWum,dYxKVs,"}/*!sc*/
.hPEVNM{-webkit-animation:rotate-keyframes 1s linear infinite;animation:rotate-keyframes 1s linear infinite;}/*!sc*/
@-webkit-keyframes rotate-keyframes{100%{-webkit-transform:rotate(360deg);-ms-transform:rotate(360deg);transform:rotate(360deg);}}/*!sc*/
@keyframes rotate-keyframes{100%{-webkit-transform:rotate(360deg);-ms-transform:rotate(360deg);transform:rotate(360deg);}}/*!sc*/
data-styled.g24[id="Spinner__StyledSpinner-sc-1knt686-0"]{content:"hPEVNM,"}/*!sc*/
.cgNHBf{font-size:14px;line-height:20px;color:#1F2328;vertical-align:middle;background-color:#ffffff;border:1px solid var(--control-borderColor-rest,#d0d7de);border-radius:6px;outline:none;box-shadow:inset 0 1px 0 rgba(208,215,222,0.2);display:-webkit-inline-box;display:-webkit-inline-flex;display:-ms-inline-flexbox;display:inline-flex;-webkit-align-items:stretch;-webkit-box-align:stretch;-ms-flex-align:stretch;align-items:stretch;min-height:32px;display:-webkit-box;display:-webkit-flex;display:-ms-flexbox;display:flex;min-width:200px;}/*!sc*/
.cgNHBf input,.cgNHBf textarea{cursor:text;}/*!sc*/
.cgNHBf select{cursor:pointer;}/*!sc*/
.cgNHBf::-webkit-input-placeholder{color:#6e7781;}/*!sc*/
.cgNHBf::-moz-placeholder{color:#6e7781;}/*!sc*/
.cgNHBf:-ms-input-placeholder{color:#6e7781;}/*!sc*/
.cgNHBf::placeholder{color:#6e7781;}/*!sc*/
.cgNHBf:focus-within{border-color:#0969da;outline:none;box-shadow:inset 0 0 0 1px #0969da;}/*!sc*/
.cgNHBf > textarea{padding:12px;}/*!sc*/
@media (min-width:768px){.cgNHBf{font-size:14px;}}/*!sc*/
data-styled.g25[id="TextInputWrapper__TextInputBaseWrapper-sc-1mqhpbi-0"]{content:"cgNHBf,"}/*!sc*/
.cuQjCh{background-repeat:no-repeat;background-position:right 8px center;padding-left:12px;padding-right:12px;display:-webkit-box;display:-webkit-flex;display:-ms-flexbox;display:flex;min-width:200px;}/*!sc*/
.cuQjCh > :not(:last-child){margin-right:8px;}/*!sc*/
.cuQjCh .TextInput-icon,.cuQjCh .TextInput-action{-webkit-align-self:center;-ms-flex-item-align:center;align-self:center;color:#656d76;-webkit-flex-shrink:0;-ms-flex-negative:0;flex-shrink:0;}/*!sc*/
.cuQjCh > input,.cuQjCh > select{padding-left:0;padding-right:0;}/*!sc*/
data-styled.g26[id="TextInputWrapper-sc-1mqhpbi-1"]{content:"cuQjCh,"}/*!sc*/
.iBwhhC{border-radius:6px;border:1px solid;border-color:transparent;font-family:inherit;font-weight:500;font-size:14px;cursor:pointer;-webkit-appearance:none;-moz-appearance:none;appearance:none;-webkit-user-select:none;-moz-user-select:none;-ms-user-select:none;user-select:none;-webkit-text-decoration:none;text-decoration:none;text-align:center;display:-webkit-box;display:-webkit-flex;display:-ms-flexbox;display:flex;-webkit-align-items:center;-webkit-box-align:center;-ms-flex-align:center;align-items:center;-webkit-box-pack:justify;-webkit-justify-content:space-between;-ms-flex-pack:justify;justify-content:space-between;height:32px;padding:0 12px;gap:8px;min-width:-webkit-max-content;min-width:-moz-max-content;min-width:max-content;-webkit-transition:80ms cubic-bezier(0.65,0,0.35,1);transition:80ms cubic-bezier(0.65,0,0.35,1);-webkit-transition-property:color,fill,background-color,border-color;transition-property:color,fill,background-color,border-color;color:#0969da;background-color:transparent;box-shadow:none;}/*!sc*/
.iBwhhC:focus:not(:disabled){box-shadow:none;outline:2px solid #0969da;outline-offset:-2px;}/*!sc*/
.iBwhhC:focus:not(:disabled):not(:focus-visible){outline:solid 1px transparent;}/*!sc*/
.iBwhhC:focus-visible:not(:disabled){box-shadow:none;outline:2px solid #0969da;outline-offset:-2px;}/*!sc*/
.iBwhhC[href]{display:-webkit-inline-box;display:-webkit-inline-flex;display:-ms-inline-flexbox;display:inline-flex;}/*!sc*/
.iBwhhC[href]:hover{-webkit-text-decoration:none;text-decoration:none;}/*!sc*/
.iBwhhC:hover{-webkit-transition-duration:80ms;transition-duration:80ms;}/*!sc*/
.iBwhhC:active{-webkit-transition:none;transition:none;}/*!sc*/
.iBwhhC:disabled{cursor:not-allowed;box-shadow:none;color:#8c959f;}/*!sc*/
.iBwhhC:disabled [data-component=ButtonCounter],.iBwhhC:disabled [data-component="leadingVisual"],.iBwhhC:disabled [data-component="trailingAction"]{color:inherit;}/*!sc*/
@media (forced-colors:active){.iBwhhC:focus{outline:solid 1px transparent;}}/*!sc*/
.iBwhhC [data-component=ButtonCounter]{font-size:12px;}/*!sc*/
.iBwhhC[data-component=IconButton]{display:inline-grid;padding:unset;place-content:center;width:32px;min-width:unset;}/*!sc*/
.iBwhhC[data-size="small"]{padding:0 8px;height:28px;gap:4px;font-size:12px;}/*!sc*/
.iBwhhC[data-size="small"] [data-component="text"]{line-height:calc(20 / 12);}/*!sc*/
.iBwhhC[data-size="small"] [data-component=ButtonCounter]{font-size:12px;}/*!sc*/
.iBwhhC[data-size="small"] [data-component="buttonContent"] > :not(:last-child){margin-right:4px;}/*!sc*/
.iBwhhC[data-size="small"][data-component=IconButton]{width:28px;padding:unset;}/*!sc*/
.iBwhhC[data-size="large"]{padding:0 16px;height:40px;gap:8px;}/*!sc*/
.iBwhhC[data-size="large"] [data-component="buttonContent"] > :not(:last-child){margin-right:8px;}/*!sc*/
.iBwhhC[data-size="large"][data-component=IconButton]{width:40px;padding:unset;}/*!sc*/
.iBwhhC[data-block="block"]{width:100%;}/*!sc*/
.iBwhhC [data-component="leadingVisual"]{grid-area:leadingVisual;color:#656d76;}/*!sc*/
.iBwhhC [data-component="text"]{grid-area:text;line-height:calc(20/14);white-space:nowrap;}/*!sc*/
.iBwhhC [data-component="trailingVisual"]{grid-area:trailingVisual;}/*!sc*/
.iBwhhC [data-component="trailingAction"]{margin-right:-4px;color:#656d76;}/*!sc*/
.iBwhhC [data-component="buttonContent"]{-webkit-flex:1 0 auto;-ms-flex:1 0 auto;flex:1 0 auto;display:grid;grid-template-areas:"leadingVisual text trailingVisual";grid-template-columns:min-content minmax(0,auto) min-content;-webkit-align-items:center;-webkit-box-align:center;-ms-flex-align:center;align-items:center;-webkit-align-content:center;-ms-flex-line-pack:center;align-content:center;}/*!sc*/
.iBwhhC [data-component="buttonContent"] > :not(:last-child){margin-right:8px;}/*!sc*/
.iBwhhC:hover:not([disabled]){background-color:#f3f4f6;}/*!sc*/
.iBwhhC:active:not([disabled]){background-color:hsla(220,14%,94%,1);}/*!sc*/
.iBwhhC[aria-expanded=true]{background-color:hsla(220,14%,94%,1);}/*!sc*/
.iBwhhC[data-component="IconButton"][data-no-visuals]{color:#656d76;}/*!sc*/
.iBwhhC[data-no-visuals]{color:#0969da;}/*!sc*/
.iBwhhC:has([data-component="ButtonCounter"]){color:#0969da;}/*!sc*/
.iBwhhC:disabled[data-no-visuals]{color:#8c959f;}/*!sc*/
.iBwhhC:disabled[data-no-visuals] [data-component=ButtonCounter]{color:inherit;}/*!sc*/
.iBwhhC{color:#656d76;padding-left:8px;padding-right:8px;display:none;}/*!sc*/
@media screen and (max-width:768px){.iBwhhC{display:block;}}/*!sc*/
.bpzCPD{border-radius:6px;border:1px solid;border-color:transparent;font-family:inherit;font-weight:500;font-size:14px;cursor:pointer;-webkit-appearance:none;-moz-appearance:none;appearance:none;-webkit-user-select:none;-moz-user-select:none;-ms-user-select:none;user-select:none;-webkit-text-decoration:none;text-decoration:none;text-align:center;display:-webkit-box;display:-webkit-flex;display:-ms-flexbox;display:flex;-webkit-align-items:center;-webkit-box-align:center;-ms-flex-align:center;align-items:center;-webkit-box-pack:justify;-webkit-justify-content:space-between;-ms-flex-pack:justify;justify-content:space-between;height:32px;padding:0 12px;gap:8px;min-width:-webkit-max-content;min-width:-moz-max-content;min-width:max-content;-webkit-transition:80ms cubic-bezier(0.65,0,0.35,1);transition:80ms cubic-bezier(0.65,0,0.35,1);-webkit-transition-property:color,fill,background-color,border-color;transition-property:color,fill,background-color,border-color;color:#0969da;background-color:transparent;box-shadow:none;}/*!sc*/
.bpzCPD:focus:not(:disabled){box-shadow:none;outline:2px solid #0969da;outline-offset:-2px;}/*!sc*/
.bpzCPD:focus:not(:disabled):not(:focus-visible){outline:solid 1px transparent;}/*!sc*/
.bpzCPD:focus-visible:not(:disabled){box-shadow:none;outline:2px solid #0969da;outline-offset:-2px;}/*!sc*/
.bpzCPD[href]{display:-webkit-inline-box;display:-webkit-inline-flex;display:-ms-inline-flexbox;display:inline-flex;}/*!sc*/
.bpzCPD[href]:hover{-webkit-text-decoration:none;text-decoration:none;}/*!sc*/
.bpzCPD:hover{-webkit-transition-duration:80ms;transition-duration:80ms;}/*!sc*/
.bpzCPD:active{-webkit-transition:none;transition:none;}/*!sc*/
.bpzCPD:disabled{cursor:not-allowed;box-shadow:none;color:#8c959f;}/*!sc*/
.bpzCPD:disabled [data-component=ButtonCounter],.bpzCPD:disabled [data-component="leadingVisual"],.bpzCPD:disabled [data-component="trailingAction"]{color:inherit;}/*!sc*/
@media (forced-colors:active){.bpzCPD:focus{outline:solid 1px transparent;}}/*!sc*/
.bpzCPD [data-component=ButtonCounter]{font-size:12px;}/*!sc*/
.bpzCPD[data-component=IconButton]{display:inline-grid;padding:unset;place-content:center;width:32px;min-width:unset;}/*!sc*/
.bpzCPD[data-size="small"]{padding:0 8px;height:28px;gap:4px;font-size:12px;}/*!sc*/
.bpzCPD[data-size="small"] [data-component="text"]{line-height:calc(20 / 12);}/*!sc*/
.bpzCPD[data-size="small"] [data-component=ButtonCounter]{font-size:12px;}/*!sc*/
.bpzCPD[data-size="small"] [data-component="buttonContent"] > :not(:last-child){margin-right:4px;}/*!sc*/
.bpzCPD[data-size="small"][data-component=IconButton]{width:28px;padding:unset;}/*!sc*/
.bpzCPD[data-size="large"]{padding:0 16px;height:40px;gap:8px;}/*!sc*/
.bpzCPD[data-size="large"] [data-component="buttonContent"] > :not(:last-child){margin-right:8px;}/*!sc*/
.bpzCPD[data-size="large"][data-component=IconButton]{width:40px;padding:unset;}/*!sc*/
.bpzCPD[data-block="block"]{width:100%;}/*!sc*/
.bpzCPD [data-component="leadingVisual"]{grid-area:leadingVisual;color:#656d76;}/*!sc*/
.bpzCPD [data-component="text"]{grid-area:text;line-height:calc(20/14);white-space:nowrap;}/*!sc*/
.bpzCPD [data-component="trailingVisual"]{grid-area:trailingVisual;}/*!sc*/
.bpzCPD [data-component="trailingAction"]{margin-right:-4px;color:#656d76;}/*!sc*/
.bpzCPD [data-component="buttonContent"]{-webkit-flex:1 0 auto;-ms-flex:1 0 auto;flex:1 0 auto;display:grid;grid-template-areas:"leadingVisual text trailingVisual";grid-template-columns:min-content minmax(0,auto) min-content;-webkit-align-items:center;-webkit-box-align:center;-ms-flex-align:center;align-items:center;-webkit-align-content:center;-ms-flex-line-pack:center;align-content:center;}/*!sc*/
.bpzCPD [data-component="buttonContent"] > :not(:last-child){margin-right:8px;}/*!sc*/
.bpzCPD:hover:not([disabled]){background-color:#f3f4f6;}/*!sc*/
.bpzCPD:active:not([disabled]){background-color:hsla(220,14%,94%,1);}/*!sc*/
.bpzCPD[aria-expanded=true]{background-color:hsla(220,14%,94%,1);}/*!sc*/
.bpzCPD[data-component="IconButton"][data-no-visuals]{color:#656d76;}/*!sc*/
.bpzCPD[data-no-visuals]{color:#0969da;}/*!sc*/
.bpzCPD:has([data-component="ButtonCounter"]){color:#0969da;}/*!sc*/
.bpzCPD:disabled[data-no-visuals]{color:#8c959f;}/*!sc*/
.bpzCPD:disabled[data-no-visuals] [data-component=ButtonCounter]{color:inherit;}/*!sc*/
.bpzCPD[data-no-visuals="true"]{color:#656d76;height:32px;position:relative;}/*!sc*/
@media screen and (max-width:768px){.bpzCPD[data-no-visuals="true"]{display:none;}}/*!sc*/
.cpGorR{border-radius:6px;border:1px solid;border-color:rgba(31,35,40,0.15);font-family:inherit;font-weight:500;font-size:14px;cursor:pointer;-webkit-appearance:none;-moz-appearance:none;appearance:none;-webkit-user-select:none;-moz-user-select:none;-ms-user-select:none;user-select:none;-webkit-text-decoration:none;text-decoration:none;text-align:center;display:-webkit-box;display:-webkit-flex;display:-ms-flexbox;display:flex;-webkit-align-items:center;-webkit-box-align:center;-ms-flex-align:center;align-items:center;-webkit-box-pack:justify;-webkit-justify-content:space-between;-ms-flex-pack:justify;justify-content:space-between;height:32px;padding:0 12px;gap:8px;min-width:-webkit-max-content;min-width:-moz-max-content;min-width:max-content;-webkit-transition:80ms cubic-bezier(0.65,0,0.35,1);transition:80ms cubic-bezier(0.65,0,0.35,1);-webkit-transition-property:color,fill,background-color,border-color;transition-property:color,fill,background-color,border-color;color:#24292f;background-color:#f6f8fa;box-shadow:0 1px 0 rgba(31,35,40,0.04),inset 0 1px 0 rgba(255,255,255,0.25);}/*!sc*/
.cpGorR:focus:not(:disabled){box-shadow:none;outline:2px solid #0969da;outline-offset:-2px;}/*!sc*/
.cpGorR:focus:not(:disabled):not(:focus-visible){outline:solid 1px transparent;}/*!sc*/
.cpGorR:focus-visible:not(:disabled){box-shadow:none;outline:2px solid #0969da;outline-offset:-2px;}/*!sc*/
.cpGorR[href]{display:-webkit-inline-box;display:-webkit-inline-flex;display:-ms-inline-flexbox;display:inline-flex;}/*!sc*/
.cpGorR[href]:hover{-webkit-text-decoration:none;text-decoration:none;}/*!sc*/
.cpGorR:hover{-webkit-transition-duration:80ms;transition-duration:80ms;}/*!sc*/
.cpGorR:active{-webkit-transition:none;transition:none;}/*!sc*/
.cpGorR:disabled{cursor:not-allowed;box-shadow:none;color:#8c959f;}/*!sc*/
.cpGorR:disabled [data-component=ButtonCounter]{color:inherit;}/*!sc*/
@media (forced-colors:active){.cpGorR:focus{outline:solid 1px transparent;}}/*!sc*/
.cpGorR [data-component=ButtonCounter]{font-size:12px;}/*!sc*/
.cpGorR[data-component=IconButton]{display:inline-grid;padding:unset;place-content:center;width:32px;min-width:unset;}/*!sc*/
.cpGorR[data-size="small"]{padding:0 8px;height:28px;gap:4px;font-size:12px;}/*!sc*/
.cpGorR[data-size="small"] [data-component="text"]{line-height:calc(20 / 12);}/*!sc*/
.cpGorR[data-size="small"] [data-component=ButtonCounter]{font-size:12px;}/*!sc*/
.cpGorR[data-size="small"] [data-component="buttonContent"] > :not(:last-child){margin-right:4px;}/*!sc*/
.cpGorR[data-size="small"][data-component=IconButton]{width:28px;padding:unset;}/*!sc*/
.cpGorR[data-size="large"]{padding:0 16px;height:40px;gap:8px;}/*!sc*/
.cpGorR[data-size="large"] [data-component="buttonContent"] > :not(:last-child){margin-right:8px;}/*!sc*/
.cpGorR[data-size="large"][data-component=IconButton]{width:40px;padding:unset;}/*!sc*/
.cpGorR[data-block="block"]{width:100%;}/*!sc*/
.cpGorR [data-component="leadingVisual"]{grid-area:leadingVisual;}/*!sc*/
.cpGorR [data-component="text"]{grid-area:text;line-height:calc(20/14);white-space:nowrap;}/*!sc*/
.cpGorR [data-component="trailingVisual"]{grid-area:trailingVisual;}/*!sc*/
.cpGorR [data-component="trailingAction"]{margin-right:-4px;}/*!sc*/
.cpGorR [data-component="buttonContent"]{-webkit-flex:1 0 auto;-ms-flex:1 0 auto;flex:1 0 auto;display:grid;grid-template-areas:"leadingVisual text trailingVisual";grid-template-columns:min-content minmax(0,auto) min-content;-webkit-align-items:center;-webkit-box-align:center;-ms-flex-align:center;align-items:center;-webkit-align-content:center;-ms-flex-line-pack:center;align-content:center;}/*!sc*/
.cpGorR [data-component="buttonContent"] > :not(:last-child){margin-right:8px;}/*!sc*/
.cpGorR:hover:not([disabled]){background-color:#f3f4f6;border-color:rgba(31,35,40,0.15);}/*!sc*/
.cpGorR:active:not([disabled]){background-color:hsla(220,14%,93%,1);border-color:rgba(31,35,40,0.15);}/*!sc*/
.cpGorR[aria-expanded=true]{background-color:hsla(220,14%,93%,1);border-color:rgba(31,35,40,0.15);}/*!sc*/
.cpGorR [data-component="leadingVisual"],.cpGorR [data-component="trailingVisual"],.cpGorR [data-component="trailingAction"]{color:#656d76;}/*!sc*/
.cpGorR{display:-webkit-box;display:-webkit-flex;display:-ms-flexbox;display:flex;min-width:0;}/*!sc*/
.cpGorR svg{color:#656d76;}/*!sc*/
.cpGorR > span{width:inherit;}/*!sc*/
.jOqXES{border-radius:6px;border:1px solid;border-color:rgba(31,35,40,0.15);font-family:inherit;font-weight:500;font-size:14px;cursor:pointer;-webkit-appearance:none;-moz-appearance:none;appearance:none;-webkit-user-select:none;-moz-user-select:none;-ms-user-select:none;user-select:none;-webkit-text-decoration:none;text-decoration:none;text-align:center;display:-webkit-box;display:-webkit-flex;display:-ms-flexbox;display:flex;-webkit-align-items:center;-webkit-box-align:center;-ms-flex-align:center;align-items:center;-webkit-box-pack:justify;-webkit-justify-content:space-between;-ms-flex-pack:justify;justify-content:space-between;height:32px;padding:0 12px;gap:8px;min-width:-webkit-max-content;min-width:-moz-max-content;min-width:max-content;-webkit-transition:80ms cubic-bezier(0.65,0,0.35,1);transition:80ms cubic-bezier(0.65,0,0.35,1);-webkit-transition-property:color,fill,background-color,border-color;transition-property:color,fill,background-color,border-color;color:#24292f;background-color:#f6f8fa;box-shadow:0 1px 0 rgba(31,35,40,0.04),inset 0 1px 0 rgba(255,255,255,0.25);}/*!sc*/
.jOqXES:focus:not(:disabled){box-shadow:none;outline:2px solid #0969da;outline-offset:-2px;}/*!sc*/
.jOqXES:focus:not(:disabled):not(:focus-visible){outline:solid 1px transparent;}/*!sc*/
.jOqXES:focus-visible:not(:disabled){box-shadow:none;outline:2px solid #0969da;outline-offset:-2px;}/*!sc*/
.jOqXES[href]{display:-webkit-inline-box;display:-webkit-inline-flex;display:-ms-inline-flexbox;display:inline-flex;}/*!sc*/
.jOqXES[href]:hover{-webkit-text-decoration:none;text-decoration:none;}/*!sc*/
.jOqXES:hover{-webkit-transition-duration:80ms;transition-duration:80ms;}/*!sc*/
.jOqXES:active{-webkit-transition:none;transition:none;}/*!sc*/
.jOqXES:disabled{cursor:not-allowed;box-shadow:none;color:#8c959f;}/*!sc*/
.jOqXES:disabled [data-component=ButtonCounter]{color:inherit;}/*!sc*/
@media (forced-colors:active){.jOqXES:focus{outline:solid 1px transparent;}}/*!sc*/
.jOqXES [data-component=ButtonCounter]{font-size:12px;}/*!sc*/
.jOqXES[data-component=IconButton]{display:inline-grid;padding:unset;place-content:center;width:32px;min-width:unset;}/*!sc*/
.jOqXES[data-size="small"]{padding:0 8px;height:28px;gap:4px;font-size:12px;}/*!sc*/
.jOqXES[data-size="small"] [data-component="text"]{line-height:calc(20 / 12);}/*!sc*/
.jOqXES[data-size="small"] [data-component=ButtonCounter]{font-size:12px;}/*!sc*/
.jOqXES[data-size="small"] [data-component="buttonContent"] > :not(:last-child){margin-right:4px;}/*!sc*/
.jOqXES[data-size="small"][data-component=IconButton]{width:28px;padding:unset;}/*!sc*/
.jOqXES[data-size="large"]{padding:0 16px;height:40px;gap:8px;}/*!sc*/
.jOqXES[data-size="large"] [data-component="buttonContent"] > :not(:last-child){margin-right:8px;}/*!sc*/
.jOqXES[data-size="large"][data-component=IconButton]{width:40px;padding:unset;}/*!sc*/
.jOqXES[data-block="block"]{width:100%;}/*!sc*/
.jOqXES [data-component="leadingVisual"]{grid-area:leadingVisual;}/*!sc*/
.jOqXES [data-component="text"]{grid-area:text;line-height:calc(20/14);white-space:nowrap;}/*!sc*/
.jOqXES [data-component="trailingVisual"]{grid-area:trailingVisual;}/*!sc*/
.jOqXES [data-component="trailingAction"]{margin-right:-4px;}/*!sc*/
.jOqXES [data-component="buttonContent"]{-webkit-flex:1 0 auto;-ms-flex:1 0 auto;flex:1 0 auto;display:grid;grid-template-areas:"leadingVisual text trailingVisual";grid-template-columns:min-content minmax(0,auto) min-content;-webkit-align-items:center;-webkit-box-align:center;-ms-flex-align:center;align-items:center;-webkit-align-content:center;-ms-flex-line-pack:center;align-content:center;}/*!sc*/
.jOqXES [data-component="buttonContent"] > :not(:last-child){margin-right:8px;}/*!sc*/
.jOqXES:hover:not([disabled]){background-color:#f3f4f6;border-color:rgba(31,35,40,0.15);}/*!sc*/
.jOqXES:active:not([disabled]){background-color:hsla(220,14%,93%,1);border-color:rgba(31,35,40,0.15);}/*!sc*/
.jOqXES[aria-expanded=true]{background-color:hsla(220,14%,93%,1);border-color:rgba(31,35,40,0.15);}/*!sc*/
.jOqXES [data-component="leadingVisual"],.jOqXES [data-component="trailingVisual"],.jOqXES [data-component="trailingAction"]{color:#656d76;}/*!sc*/
.jOqXES[data-no-visuals="true"]{color:#6e7781;border-top-right-radius:0;border-bottom-right-radius:0;border-right:0;}/*!sc*/
.dQkDZk{border-radius:6px;border:1px solid;border-color:rgba(31,35,40,0.15);font-family:inherit;font-weight:500;font-size:14px;cursor:pointer;-webkit-appearance:none;-moz-appearance:none;appearance:none;-webkit-user-select:none;-moz-user-select:none;-ms-user-select:none;user-select:none;-webkit-text-decoration:none;text-decoration:none;text-align:center;display:-webkit-box;display:-webkit-flex;display:-ms-flexbox;display:flex;-webkit-align-items:center;-webkit-box-align:center;-ms-flex-align:center;align-items:center;-webkit-box-pack:justify;-webkit-justify-content:space-between;-ms-flex-pack:justify;justify-content:space-between;height:32px;padding:0 12px;gap:8px;min-width:-webkit-max-content;min-width:-moz-max-content;min-width:max-content;-webkit-transition:80ms cubic-bezier(0.65,0,0.35,1);transition:80ms cubic-bezier(0.65,0,0.35,1);-webkit-transition-property:color,fill,background-color,border-color;transition-property:color,fill,background-color,border-color;color:#24292f;background-color:#f6f8fa;box-shadow:0 1px 0 rgba(31,35,40,0.04),inset 0 1px 0 rgba(255,255,255,0.25);}/*!sc*/
.dQkDZk:focus:not(:disabled){box-shadow:none;outline:2px solid #0969da;outline-offset:-2px;}/*!sc*/
.dQkDZk:focus:not(:disabled):not(:focus-visible){outline:solid 1px transparent;}/*!sc*/
.dQkDZk:focus-visible:not(:disabled){box-shadow:none;outline:2px solid #0969da;outline-offset:-2px;}/*!sc*/
.dQkDZk[href]{display:-webkit-inline-box;display:-webkit-inline-flex;display:-ms-inline-flexbox;display:inline-flex;}/*!sc*/
.dQkDZk[href]:hover{-webkit-text-decoration:none;text-decoration:none;}/*!sc*/
.dQkDZk:hover{-webkit-transition-duration:80ms;transition-duration:80ms;}/*!sc*/
.dQkDZk:active{-webkit-transition:none;transition:none;}/*!sc*/
.dQkDZk:disabled{cursor:not-allowed;box-shadow:none;color:#8c959f;}/*!sc*/
.dQkDZk:disabled [data-component=ButtonCounter]{color:inherit;}/*!sc*/
@media (forced-colors:active){.dQkDZk:focus{outline:solid 1px transparent;}}/*!sc*/
.dQkDZk [data-component=ButtonCounter]{font-size:12px;}/*!sc*/
.dQkDZk[data-component=IconButton]{display:inline-grid;padding:unset;place-content:center;width:32px;min-width:unset;}/*!sc*/
.dQkDZk[data-size="small"]{padding:0 8px;height:28px;gap:4px;font-size:12px;}/*!sc*/
.dQkDZk[data-size="small"] [data-component="text"]{line-height:calc(20 / 12);}/*!sc*/
.dQkDZk[data-size="small"] [data-component=ButtonCounter]{font-size:12px;}/*!sc*/
.dQkDZk[data-size="small"] [data-component="buttonContent"] > :not(:last-child){margin-right:4px;}/*!sc*/
.dQkDZk[data-size="small"][data-component=IconButton]{width:28px;padding:unset;}/*!sc*/
.dQkDZk[data-size="large"]{padding:0 16px;height:40px;gap:8px;}/*!sc*/
.dQkDZk[data-size="large"] [data-component="buttonContent"] > :not(:last-child){margin-right:8px;}/*!sc*/
.dQkDZk[data-size="large"][data-component=IconButton]{width:40px;padding:unset;}/*!sc*/
.dQkDZk[data-block="block"]{width:100%;}/*!sc*/
.dQkDZk [data-component="leadingVisual"]{grid-area:leadingVisual;}/*!sc*/
.dQkDZk [data-component="text"]{grid-area:text;line-height:calc(20/14);white-space:nowrap;}/*!sc*/
.dQkDZk [data-component="trailingVisual"]{grid-area:trailingVisual;}/*!sc*/
.dQkDZk [data-component="trailingAction"]{margin-right:-4px;}/*!sc*/
.dQkDZk [data-component="buttonContent"]{-webkit-flex:1 0 auto;-ms-flex:1 0 auto;flex:1 0 auto;display:grid;grid-template-areas:"leadingVisual text trailingVisual";grid-template-columns:min-content minmax(0,auto) min-content;-webkit-align-items:center;-webkit-box-align:center;-ms-flex-align:center;align-items:center;-webkit-align-content:center;-ms-flex-line-pack:center;align-content:center;}/*!sc*/
.dQkDZk [data-component="buttonContent"] > :not(:last-child){margin-right:8px;}/*!sc*/
.dQkDZk:hover:not([disabled]){background-color:#f3f4f6;border-color:rgba(31,35,40,0.15);}/*!sc*/
.dQkDZk:active:not([disabled]){background-color:hsla(220,14%,93%,1);border-color:rgba(31,35,40,0.15);}/*!sc*/
.dQkDZk[aria-expanded=true]{background-color:hsla(220,14%,93%,1);border-color:rgba(31,35,40,0.15);}/*!sc*/
.dQkDZk [data-component="leadingVisual"],.dQkDZk [data-component="trailingVisual"],.dQkDZk [data-component="trailingAction"]{color:#656d76;}/*!sc*/
.dQkDZk[data-no-visuals="true"]{color:#6e7781;font-size:14px;font-weight:400;-webkit-flex-shrink:0;-ms-flex-negative:0;flex-shrink:0;border-top-left-radius:0;border-bottom-left-radius:0;}/*!sc*/
.iwngiV{border-radius:6px;border:1px solid;border-color:rgba(31,35,40,0.15);font-family:inherit;font-weight:500;font-size:14px;cursor:pointer;-webkit-appearance:none;-moz-appearance:none;appearance:none;-webkit-user-select:none;-moz-user-select:none;-ms-user-select:none;user-select:none;-webkit-text-decoration:none;text-decoration:none;text-align:center;display:-webkit-box;display:-webkit-flex;display:-ms-flexbox;display:flex;-webkit-align-items:center;-webkit-box-align:center;-ms-flex-align:center;align-items:center;-webkit-box-pack:justify;-webkit-justify-content:space-between;-ms-flex-pack:justify;justify-content:space-between;height:32px;padding:0 12px;gap:8px;min-width:-webkit-max-content;min-width:-moz-max-content;min-width:max-content;-webkit-transition:80ms cubic-bezier(0.65,0,0.35,1);transition:80ms cubic-bezier(0.65,0,0.35,1);-webkit-transition-property:color,fill,background-color,border-color;transition-property:color,fill,background-color,border-color;color:#24292f;background-color:#f6f8fa;box-shadow:0 1px 0 rgba(31,35,40,0.04),inset 0 1px 0 rgba(255,255,255,0.25);}/*!sc*/
.iwngiV:focus:not(:disabled){box-shadow:none;outline:2px solid #0969da;outline-offset:-2px;}/*!sc*/
.iwngiV:focus:not(:disabled):not(:focus-visible){outline:solid 1px transparent;}/*!sc*/
.iwngiV:focus-visible:not(:disabled){box-shadow:none;outline:2px solid #0969da;outline-offset:-2px;}/*!sc*/
.iwngiV[href]{display:-webkit-inline-box;display:-webkit-inline-flex;display:-ms-inline-flexbox;display:inline-flex;}/*!sc*/
.iwngiV[href]:hover{-webkit-text-decoration:none;text-decoration:none;}/*!sc*/
.iwngiV:hover{-webkit-transition-duration:80ms;transition-duration:80ms;}/*!sc*/
.iwngiV:active{-webkit-transition:none;transition:none;}/*!sc*/
.iwngiV:disabled{cursor:not-allowed;box-shadow:none;color:#8c959f;}/*!sc*/
.iwngiV:disabled [data-component=ButtonCounter]{color:inherit;}/*!sc*/
@media (forced-colors:active){.iwngiV:focus{outline:solid 1px transparent;}}/*!sc*/
.iwngiV [data-component=ButtonCounter]{font-size:12px;}/*!sc*/
.iwngiV[data-component=IconButton]{display:inline-grid;padding:unset;place-content:center;width:32px;min-width:unset;}/*!sc*/
.iwngiV[data-size="small"]{padding:0 8px;height:28px;gap:4px;font-size:12px;}/*!sc*/
.iwngiV[data-size="small"] [data-component="text"]{line-height:calc(20 / 12);}/*!sc*/
.iwngiV[data-size="small"] [data-component=ButtonCounter]{font-size:12px;}/*!sc*/
.iwngiV[data-size="small"] [data-component="buttonContent"] > :not(:last-child){margin-right:4px;}/*!sc*/
.iwngiV[data-size="small"][data-component=IconButton]{width:28px;padding:unset;}/*!sc*/
.iwngiV[data-size="large"]{padding:0 16px;height:40px;gap:8px;}/*!sc*/
.iwngiV[data-size="large"] [data-component="buttonContent"] > :not(:last-child){margin-right:8px;}/*!sc*/
.iwngiV[data-size="large"][data-component=IconButton]{width:40px;padding:unset;}/*!sc*/
.iwngiV[data-block="block"]{width:100%;}/*!sc*/
.iwngiV [data-component="leadingVisual"]{grid-area:leadingVisual;}/*!sc*/
.iwngiV [data-component="text"]{grid-area:text;line-height:calc(20/14);white-space:nowrap;}/*!sc*/
.iwngiV [data-component="trailingVisual"]{grid-area:trailingVisual;}/*!sc*/
.iwngiV [data-component="trailingAction"]{margin-right:-4px;}/*!sc*/
.iwngiV [data-component="buttonContent"]{-webkit-flex:1 0 auto;-ms-flex:1 0 auto;flex:1 0 auto;display:grid;grid-template-areas:"leadingVisual text trailingVisual";grid-template-columns:min-content minmax(0,auto) min-content;-webkit-align-items:center;-webkit-box-align:center;-ms-flex-align:center;align-items:center;-webkit-align-content:center;-ms-flex-line-pack:center;align-content:center;}/*!sc*/
.iwngiV [data-component="buttonContent"] > :not(:last-child){margin-right:8px;}/*!sc*/
.iwngiV:hover:not([disabled]){background-color:#f3f4f6;border-color:rgba(31,35,40,0.15);}/*!sc*/
.iwngiV:active:not([disabled]){background-color:hsla(220,14%,93%,1);border-color:rgba(31,35,40,0.15);}/*!sc*/
.iwngiV[aria-expanded=true]{background-color:hsla(220,14%,93%,1);border-color:rgba(31,35,40,0.15);}/*!sc*/
.iwngiV [data-component="leadingVisual"],.iwngiV [data-component="trailingVisual"],.iwngiV [data-component="trailingAction"]{color:#656d76;}/*!sc*/
.iwngiV{display:-webkit-box;display:-webkit-flex;display:-ms-flexbox;display:flex;}/*!sc*/
.iwngiV svg{color:#656d76;}/*!sc*/
.iwngiV > span{width:inherit;}/*!sc*/
.hMBGua{border-radius:6px;border:1px solid;border-color:rgba(31,35,40,0.15);font-family:inherit;font-weight:500;font-size:14px;cursor:pointer;-webkit-appearance:none;-moz-appearance:none;appearance:none;-webkit-user-select:none;-moz-user-select:none;-ms-user-select:none;user-select:none;-webkit-text-decoration:none;text-decoration:none;text-align:center;display:-webkit-box;display:-webkit-flex;display:-ms-flexbox;display:flex;-webkit-align-items:center;-webkit-box-align:center;-ms-flex-align:center;align-items:center;-webkit-box-pack:justify;-webkit-justify-content:space-between;-ms-flex-pack:justify;justify-content:space-between;height:32px;padding:0 12px;gap:8px;min-width:-webkit-max-content;min-width:-moz-max-content;min-width:max-content;-webkit-transition:80ms cubic-bezier(0.65,0,0.35,1);transition:80ms cubic-bezier(0.65,0,0.35,1);-webkit-transition-property:color,fill,background-color,border-color;transition-property:color,fill,background-color,border-color;color:#24292f;background-color:#f6f8fa;box-shadow:0 1px 0 rgba(31,35,40,0.04),inset 0 1px 0 rgba(255,255,255,0.25);}/*!sc*/
.hMBGua:focus:not(:disabled){box-shadow:none;outline:2px solid #0969da;outline-offset:-2px;}/*!sc*/
.hMBGua:focus:not(:disabled):not(:focus-visible){outline:solid 1px transparent;}/*!sc*/
.hMBGua:focus-visible:not(:disabled){box-shadow:none;outline:2px solid #0969da;outline-offset:-2px;}/*!sc*/
.hMBGua[href]{display:-webkit-inline-box;display:-webkit-inline-flex;display:-ms-inline-flexbox;display:inline-flex;}/*!sc*/
.hMBGua[href]:hover{-webkit-text-decoration:none;text-decoration:none;}/*!sc*/
.hMBGua:hover{-webkit-transition-duration:80ms;transition-duration:80ms;}/*!sc*/
.hMBGua:active{-webkit-transition:none;transition:none;}/*!sc*/
.hMBGua:disabled{cursor:not-allowed;box-shadow:none;color:#8c959f;}/*!sc*/
.hMBGua:disabled [data-component=ButtonCounter]{color:inherit;}/*!sc*/
@media (forced-colors:active){.hMBGua:focus{outline:solid 1px transparent;}}/*!sc*/
.hMBGua [data-component=ButtonCounter]{font-size:12px;}/*!sc*/
.hMBGua[data-component=IconButton]{display:inline-grid;padding:unset;place-content:center;width:32px;min-width:unset;}/*!sc*/
.hMBGua[data-size="small"]{padding:0 8px;height:28px;gap:4px;font-size:12px;}/*!sc*/
.hMBGua[data-size="small"] [data-component="text"]{line-height:calc(20 / 12);}/*!sc*/
.hMBGua[data-size="small"] [data-component=ButtonCounter]{font-size:12px;}/*!sc*/
.hMBGua[data-size="small"] [data-component="buttonContent"] > :not(:last-child){margin-right:4px;}/*!sc*/
.hMBGua[data-size="small"][data-component=IconButton]{width:28px;padding:unset;}/*!sc*/
.hMBGua[data-size="large"]{padding:0 16px;height:40px;gap:8px;}/*!sc*/
.hMBGua[data-size="large"] [data-component="buttonContent"] > :not(:last-child){margin-right:8px;}/*!sc*/
.hMBGua[data-size="large"][data-component=IconButton]{width:40px;padding:unset;}/*!sc*/
.hMBGua[data-block="block"]{width:100%;}/*!sc*/
.hMBGua [data-component="leadingVisual"]{grid-area:leadingVisual;}/*!sc*/
.hMBGua [data-component="text"]{grid-area:text;line-height:calc(20/14);white-space:nowrap;}/*!sc*/
.hMBGua [data-component="trailingVisual"]{grid-area:trailingVisual;}/*!sc*/
.hMBGua [data-component="trailingAction"]{margin-right:-4px;}/*!sc*/
.hMBGua [data-component="buttonContent"]{-webkit-flex:1 0 auto;-ms-flex:1 0 auto;flex:1 0 auto;display:grid;grid-template-areas:"leadingVisual text trailingVisual";grid-template-columns:min-content minmax(0,auto) min-content;-webkit-align-items:center;-webkit-box-align:center;-ms-flex-align:center;align-items:center;-webkit-align-content:center;-ms-flex-line-pack:center;align-content:center;}/*!sc*/
.hMBGua [data-component="buttonContent"] > :not(:last-child){margin-right:8px;}/*!sc*/
.hMBGua:hover:not([disabled]){background-color:#f3f4f6;border-color:rgba(31,35,40,0.15);}/*!sc*/
.hMBGua:active:not([disabled]){background-color:hsla(220,14%,93%,1);border-color:rgba(31,35,40,0.15);}/*!sc*/
.hMBGua[aria-expanded=true]{background-color:hsla(220,14%,93%,1);border-color:rgba(31,35,40,0.15);}/*!sc*/
.hMBGua [data-component="leadingVisual"],.hMBGua [data-component="trailingVisual"],.hMBGua [data-component="trailingAction"]{color:#656d76;}/*!sc*/
.hMBGua[data-no-visuals="true"]{border-top-left-radius:0;border-bottom-left-radius:0;display:none;}/*!sc*/
.bDzORU{border-radius:6px;border:1px solid;border-color:rgba(31,35,40,0.15);font-family:inherit;font-weight:500;font-size:14px;cursor:pointer;-webkit-appearance:none;-moz-appearance:none;appearance:none;-webkit-user-select:none;-moz-user-select:none;-ms-user-select:none;user-select:none;-webkit-text-decoration:none;text-decoration:none;text-align:center;display:-webkit-box;display:-webkit-flex;display:-ms-flexbox;display:flex;-webkit-align-items:center;-webkit-box-align:center;-ms-flex-align:center;align-items:center;-webkit-box-pack:justify;-webkit-justify-content:space-between;-ms-flex-pack:justify;justify-content:space-between;height:32px;padding:0 12px;gap:8px;min-width:-webkit-max-content;min-width:-moz-max-content;min-width:max-content;-webkit-transition:80ms cubic-bezier(0.65,0,0.35,1);transition:80ms cubic-bezier(0.65,0,0.35,1);-webkit-transition-property:color,fill,background-color,border-color;transition-property:color,fill,background-color,border-color;color:#24292f;background-color:#f6f8fa;box-shadow:0 1px 0 rgba(31,35,40,0.04),inset 0 1px 0 rgba(255,255,255,0.25);}/*!sc*/
.bDzORU:focus:not(:disabled){box-shadow:none;outline:2px solid #0969da;outline-offset:-2px;}/*!sc*/
.bDzORU:focus:not(:disabled):not(:focus-visible){outline:solid 1px transparent;}/*!sc*/
.bDzORU:focus-visible:not(:disabled){box-shadow:none;outline:2px solid #0969da;outline-offset:-2px;}/*!sc*/
.bDzORU[href]{display:-webkit-inline-box;display:-webkit-inline-flex;display:-ms-inline-flexbox;display:inline-flex;}/*!sc*/
.bDzORU[href]:hover{-webkit-text-decoration:none;text-decoration:none;}/*!sc*/
.bDzORU:hover{-webkit-transition-duration:80ms;transition-duration:80ms;}/*!sc*/
.bDzORU:active{-webkit-transition:none;transition:none;}/*!sc*/
.bDzORU:disabled{cursor:not-allowed;box-shadow:none;color:#8c959f;}/*!sc*/
.bDzORU:disabled [data-component=ButtonCounter]{color:inherit;}/*!sc*/
@media (forced-colors:active){.bDzORU:focus{outline:solid 1px transparent;}}/*!sc*/
.bDzORU [data-component=ButtonCounter]{font-size:12px;}/*!sc*/
.bDzORU[data-component=IconButton]{display:inline-grid;padding:unset;place-content:center;width:32px;min-width:unset;}/*!sc*/
.bDzORU[data-size="small"]{padding:0 8px;height:28px;gap:4px;font-size:12px;}/*!sc*/
.bDzORU[data-size="small"] [data-component="text"]{line-height:calc(20 / 12);}/*!sc*/
.bDzORU[data-size="small"] [data-component=ButtonCounter]{font-size:12px;}/*!sc*/
.bDzORU[data-size="small"] [data-component="buttonContent"] > :not(:last-child){margin-right:4px;}/*!sc*/
.bDzORU[data-size="small"][data-component=IconButton]{width:28px;padding:unset;}/*!sc*/
.bDzORU[data-size="large"]{padding:0 16px;height:40px;gap:8px;}/*!sc*/
.bDzORU[data-size="large"] [data-component="buttonContent"] > :not(:last-child){margin-right:8px;}/*!sc*/
.bDzORU[data-size="large"][data-component=IconButton]{width:40px;padding:unset;}/*!sc*/
.bDzORU[data-block="block"]{width:100%;}/*!sc*/
.bDzORU [data-component="leadingVisual"]{grid-area:leadingVisual;}/*!sc*/
.bDzORU [data-component="text"]{grid-area:text;line-height:calc(20/14);white-space:nowrap;}/*!sc*/
.bDzORU [data-component="trailingVisual"]{grid-area:trailingVisual;}/*!sc*/
.bDzORU [data-component="trailingAction"]{margin-right:-4px;}/*!sc*/
.bDzORU [data-component="buttonContent"]{-webkit-flex:1 0 auto;-ms-flex:1 0 auto;flex:1 0 auto;display:grid;grid-template-areas:"leadingVisual text trailingVisual";grid-template-columns:min-content minmax(0,auto) min-content;-webkit-align-items:center;-webkit-box-align:center;-ms-flex-align:center;align-items:center;-webkit-align-content:center;-ms-flex-line-pack:center;align-content:center;}/*!sc*/
.bDzORU [data-component="buttonContent"] > :not(:last-child){margin-right:8px;}/*!sc*/
.bDzORU:hover:not([disabled]){background-color:#f3f4f6;border-color:rgba(31,35,40,0.15);}/*!sc*/
.bDzORU:active:not([disabled]){background-color:hsla(220,14%,93%,1);border-color:rgba(31,35,40,0.15);}/*!sc*/
.bDzORU[aria-expanded=true]{background-color:hsla(220,14%,93%,1);border-color:rgba(31,35,40,0.15);}/*!sc*/
.bDzORU [data-component="leadingVisual"],.bDzORU [data-component="trailingVisual"],.bDzORU [data-component="trailingAction"]{color:#656d76;}/*!sc*/
.bDzORU[data-no-visuals="true"]{color:#656d76;}/*!sc*/
.cdPrCH{border-radius:6px;border:1px solid;border-color:transparent;font-family:inherit;font-weight:500;font-size:14px;cursor:pointer;-webkit-appearance:none;-moz-appearance:none;appearance:none;-webkit-user-select:none;-moz-user-select:none;-ms-user-select:none;user-select:none;-webkit-text-decoration:none;text-decoration:none;text-align:center;display:-webkit-box;display:-webkit-flex;display:-ms-flexbox;display:flex;-webkit-align-items:center;-webkit-box-align:center;-ms-flex-align:center;align-items:center;-webkit-box-pack:justify;-webkit-justify-content:space-between;-ms-flex-pack:justify;justify-content:space-between;height:32px;padding:0 12px;gap:8px;min-width:-webkit-max-content;min-width:-moz-max-content;min-width:max-content;-webkit-transition:80ms cubic-bezier(0.65,0,0.35,1);transition:80ms cubic-bezier(0.65,0,0.35,1);-webkit-transition-property:color,fill,background-color,border-color;transition-property:color,fill,background-color,border-color;color:#0969da;background-color:transparent;box-shadow:none;}/*!sc*/
.cdPrCH:focus:not(:disabled){box-shadow:none;outline:2px solid #0969da;outline-offset:-2px;}/*!sc*/
.cdPrCH:focus:not(:disabled):not(:focus-visible){outline:solid 1px transparent;}/*!sc*/
.cdPrCH:focus-visible:not(:disabled){box-shadow:none;outline:2px solid #0969da;outline-offset:-2px;}/*!sc*/
.cdPrCH[href]{display:-webkit-inline-box;display:-webkit-inline-flex;display:-ms-inline-flexbox;display:inline-flex;}/*!sc*/
.cdPrCH[href]:hover{-webkit-text-decoration:none;text-decoration:none;}/*!sc*/
.cdPrCH:hover{-webkit-transition-duration:80ms;transition-duration:80ms;}/*!sc*/
.cdPrCH:active{-webkit-transition:none;transition:none;}/*!sc*/
.cdPrCH:disabled{cursor:not-allowed;box-shadow:none;color:#8c959f;}/*!sc*/
.cdPrCH:disabled [data-component=ButtonCounter],.cdPrCH:disabled [data-component="leadingVisual"],.cdPrCH:disabled [data-component="trailingAction"]{color:inherit;}/*!sc*/
@media (forced-colors:active){.cdPrCH:focus{outline:solid 1px transparent;}}/*!sc*/
.cdPrCH [data-component=ButtonCounter]{font-size:12px;}/*!sc*/
.cdPrCH[data-component=IconButton]{display:inline-grid;padding:unset;place-content:center;width:32px;min-width:unset;}/*!sc*/
.cdPrCH[data-size="small"]{padding:0 8px;height:28px;gap:4px;font-size:12px;}/*!sc*/
.cdPrCH[data-size="small"] [data-component="text"]{line-height:calc(20 / 12);}/*!sc*/
.cdPrCH[data-size="small"] [data-component=ButtonCounter]{font-size:12px;}/*!sc*/
.cdPrCH[data-size="small"] [data-component="buttonContent"] > :not(:last-child){margin-right:4px;}/*!sc*/
.cdPrCH[data-size="small"][data-component=IconButton]{width:28px;padding:unset;}/*!sc*/
.cdPrCH[data-size="large"]{padding:0 16px;height:40px;gap:8px;}/*!sc*/
.cdPrCH[data-size="large"] [data-component="buttonContent"] > :not(:last-child){margin-right:8px;}/*!sc*/
.cdPrCH[data-size="large"][data-component=IconButton]{width:40px;padding:unset;}/*!sc*/
.cdPrCH[data-block="block"]{width:100%;}/*!sc*/
.cdPrCH [data-component="leadingVisual"]{grid-area:leadingVisual;color:#656d76;}/*!sc*/
.cdPrCH [data-component="text"]{grid-area:text;line-height:calc(20/14);white-space:nowrap;}/*!sc*/
.cdPrCH [data-component="trailingVisual"]{grid-area:trailingVisual;}/*!sc*/
.cdPrCH [data-component="trailingAction"]{margin-right:-4px;color:#656d76;}/*!sc*/
.cdPrCH [data-component="buttonContent"]{-webkit-flex:1 0 auto;-ms-flex:1 0 auto;flex:1 0 auto;display:grid;grid-template-areas:"leadingVisual text trailingVisual";grid-template-columns:min-content minmax(0,auto) min-content;-webkit-align-items:center;-webkit-box-align:center;-ms-flex-align:center;align-items:center;-webkit-align-content:center;-ms-flex-line-pack:center;align-content:center;}/*!sc*/
.cdPrCH [data-component="buttonContent"] > :not(:last-child){margin-right:8px;}/*!sc*/
.cdPrCH:hover:not([disabled]){background-color:#f3f4f6;}/*!sc*/
.cdPrCH:active:not([disabled]){background-color:hsla(220,14%,94%,1);}/*!sc*/
.cdPrCH[aria-expanded=true]{background-color:hsla(220,14%,94%,1);}/*!sc*/
.cdPrCH[data-component="IconButton"][data-no-visuals]{color:#656d76;}/*!sc*/
.cdPrCH[data-no-visuals]{color:#0969da;}/*!sc*/
.cdPrCH:has([data-component="ButtonCounter"]){color:#0969da;}/*!sc*/
.cdPrCH:disabled[data-no-visuals]{color:#8c959f;}/*!sc*/
.cdPrCH:disabled[data-no-visuals] [data-component=ButtonCounter]{color:inherit;}/*!sc*/
.cdPrCH[data-size="small"][data-no-visuals="true"]{margin-left:8px;}/*!sc*/
.iUmUix{border-radius:6px;border:1px solid;border-color:transparent;font-family:inherit;font-weight:500;font-size:14px;cursor:pointer;-webkit-appearance:none;-moz-appearance:none;appearance:none;-webkit-user-select:none;-moz-user-select:none;-ms-user-select:none;user-select:none;-webkit-text-decoration:none;text-decoration:none;text-align:center;display:-webkit-box;display:-webkit-flex;display:-ms-flexbox;display:flex;-webkit-align-items:center;-webkit-box-align:center;-ms-flex-align:center;align-items:center;-webkit-box-pack:justify;-webkit-justify-content:space-between;-ms-flex-pack:justify;justify-content:space-between;height:32px;padding:0 12px;gap:8px;min-width:-webkit-max-content;min-width:-moz-max-content;min-width:max-content;-webkit-transition:80ms cubic-bezier(0.65,0,0.35,1);transition:80ms cubic-bezier(0.65,0,0.35,1);-webkit-transition-property:color,fill,background-color,border-color;transition-property:color,fill,background-color,border-color;color:#1F2328;background-color:transparent;box-shadow:none;}/*!sc*/
.iUmUix:focus:not(:disabled){box-shadow:none;outline:2px solid #0969da;outline-offset:-2px;}/*!sc*/
.iUmUix:focus:not(:disabled):not(:focus-visible){outline:solid 1px transparent;}/*!sc*/
.iUmUix:focus-visible:not(:disabled){box-shadow:none;outline:2px solid #0969da;outline-offset:-2px;}/*!sc*/
.iUmUix[href]{display:-webkit-inline-box;display:-webkit-inline-flex;display:-ms-inline-flexbox;display:inline-flex;}/*!sc*/
.iUmUix[href]:hover{-webkit-text-decoration:none;text-decoration:none;}/*!sc*/
.iUmUix:hover{-webkit-transition-duration:80ms;transition-duration:80ms;}/*!sc*/
.iUmUix:active{-webkit-transition:none;transition:none;}/*!sc*/
.iUmUix:disabled{cursor:not-allowed;box-shadow:none;color:#8c959f;}/*!sc*/
.iUmUix:disabled [data-component=ButtonCounter],.iUmUix:disabled [data-component="leadingVisual"],.iUmUix:disabled [data-component="trailingAction"]{color:inherit;}/*!sc*/
@media (forced-colors:active){.iUmUix:focus{outline:solid 1px transparent;}}/*!sc*/
.iUmUix [data-component=ButtonCounter]{font-size:12px;}/*!sc*/
.iUmUix[data-component=IconButton]{display:inline-grid;padding:unset;place-content:center;width:32px;min-width:unset;}/*!sc*/
.iUmUix[data-size="small"]{padding:0 8px;height:28px;gap:4px;font-size:12px;}/*!sc*/
.iUmUix[data-size="small"] [data-component="text"]{line-height:calc(20 / 12);}/*!sc*/
.iUmUix[data-size="small"] [data-component=ButtonCounter]{font-size:12px;}/*!sc*/
.iUmUix[data-size="small"] [data-component="buttonContent"] > :not(:last-child){margin-right:4px;}/*!sc*/
.iUmUix[data-size="small"][data-component=IconButton]{width:28px;padding:unset;}/*!sc*/
.iUmUix[data-size="large"]{padding:0 16px;height:40px;gap:8px;}/*!sc*/
.iUmUix[data-size="large"] [data-component="buttonContent"] > :not(:last-child){margin-right:8px;}/*!sc*/
.iUmUix[data-size="large"][data-component=IconButton]{width:40px;padding:unset;}/*!sc*/
.iUmUix[data-block="block"]{width:100%;}/*!sc*/
.iUmUix [data-component="leadingVisual"]{grid-area:leadingVisual;color:#656d76;}/*!sc*/
.iUmUix [data-component="text"]{grid-area:text;line-height:calc(20/14);white-space:nowrap;}/*!sc*/
.iUmUix [data-component="trailingVisual"]{grid-area:trailingVisual;}/*!sc*/
.iUmUix [data-component="trailingAction"]{margin-right:-4px;color:#656d76;}/*!sc*/
.iUmUix [data-component="buttonContent"]{-webkit-flex:1 0 auto;-ms-flex:1 0 auto;flex:1 0 auto;display:grid;grid-template-areas:"leadingVisual text trailingVisual";grid-template-columns:min-content minmax(0,auto) min-content;-webkit-align-items:center;-webkit-box-align:center;-ms-flex-align:center;align-items:center;-webkit-align-content:center;-ms-flex-line-pack:center;align-content:center;}/*!sc*/
.iUmUix [data-component="buttonContent"] > :not(:last-child){margin-right:8px;}/*!sc*/
.iUmUix:hover:not([disabled]){background-color:#f3f4f6;-webkit-text-decoration:none;text-decoration:none;}/*!sc*/
.iUmUix:active:not([disabled]){background-color:hsla(220,14%,94%,1);-webkit-text-decoration:none;text-decoration:none;}/*!sc*/
.iUmUix[aria-expanded=true]{background-color:hsla(220,14%,94%,1);}/*!sc*/
.iUmUix[data-component="IconButton"][data-no-visuals]{color:#656d76;}/*!sc*/
.iUmUix[data-no-visuals]{color:#0969da;}/*!sc*/
.iUmUix:has([data-component="ButtonCounter"]){color:#0969da;}/*!sc*/
.iUmUix:disabled[data-no-visuals]{color:#8c959f;}/*!sc*/
.iUmUix:disabled[data-no-visuals] [data-component=ButtonCounter]{color:inherit;}/*!sc*/
.iUmUix:focus:not([disabled]){-webkit-text-decoration:none;text-decoration:none;}/*!sc*/
.gWBIfb{border-radius:6px;border:1px solid;border-color:transparent;font-family:inherit;font-weight:500;font-size:14px;cursor:pointer;-webkit-appearance:none;-moz-appearance:none;appearance:none;-webkit-user-select:none;-moz-user-select:none;-ms-user-select:none;user-select:none;-webkit-text-decoration:none;text-decoration:none;text-align:center;display:-webkit-box;display:-webkit-flex;display:-ms-flexbox;display:flex;-webkit-align-items:center;-webkit-box-align:center;-ms-flex-align:center;align-items:center;-webkit-box-pack:justify;-webkit-justify-content:space-between;-ms-flex-pack:justify;justify-content:space-between;height:32px;padding:0 12px;gap:8px;min-width:-webkit-max-content;min-width:-moz-max-content;min-width:max-content;-webkit-transition:80ms cubic-bezier(0.65,0,0.35,1);transition:80ms cubic-bezier(0.65,0,0.35,1);-webkit-transition-property:color,fill,background-color,border-color;transition-property:color,fill,background-color,border-color;color:#0969da;background-color:transparent;box-shadow:none;}/*!sc*/
.gWBIfb:focus:not(:disabled){box-shadow:none;outline:2px solid #0969da;outline-offset:-2px;}/*!sc*/
.gWBIfb:focus:not(:disabled):not(:focus-visible){outline:solid 1px transparent;}/*!sc*/
.gWBIfb:focus-visible:not(:disabled){box-shadow:none;outline:2px solid #0969da;outline-offset:-2px;}/*!sc*/
.gWBIfb[href]{display:-webkit-inline-box;display:-webkit-inline-flex;display:-ms-inline-flexbox;display:inline-flex;}/*!sc*/
.gWBIfb[href]:hover{-webkit-text-decoration:none;text-decoration:none;}/*!sc*/
.gWBIfb:hover{-webkit-transition-duration:80ms;transition-duration:80ms;}/*!sc*/
.gWBIfb:active{-webkit-transition:none;transition:none;}/*!sc*/
.gWBIfb:disabled{cursor:not-allowed;box-shadow:none;color:#8c959f;}/*!sc*/
.gWBIfb:disabled [data-component=ButtonCounter],.gWBIfb:disabled [data-component="leadingVisual"],.gWBIfb:disabled [data-component="trailingAction"]{color:inherit;}/*!sc*/
@media (forced-colors:active){.gWBIfb:focus{outline:solid 1px transparent;}}/*!sc*/
.gWBIfb [data-component=ButtonCounter]{font-size:12px;}/*!sc*/
.gWBIfb[data-component=IconButton]{display:inline-grid;padding:unset;place-content:center;width:32px;min-width:unset;}/*!sc*/
.gWBIfb[data-size="small"]{padding:0 8px;height:28px;gap:4px;font-size:12px;color:#1F2328;display:none;}/*!sc*/
.gWBIfb[data-size="small"] [data-component="text"]{line-height:calc(20 / 12);}/*!sc*/
.gWBIfb[data-size="small"] [data-component=ButtonCounter]{font-size:12px;}/*!sc*/
.gWBIfb[data-size="small"] [data-component="buttonContent"] > :not(:last-child){margin-right:4px;}/*!sc*/
.gWBIfb[data-size="small"][data-component=IconButton]{width:28px;padding:unset;}/*!sc*/
@media screen and (min-width:544px){.gWBIfb[data-size="small"]{display:none;}}/*!sc*/
@media screen and (min-width:768px){.gWBIfb[data-size="small"]{display:block;}}/*!sc*/
@media screen and (min-width:1012px){.gWBIfb[data-size="small"]{display:block;}}/*!sc*/
.gWBIfb[data-size="large"]{padding:0 16px;height:40px;gap:8px;}/*!sc*/
.gWBIfb[data-size="large"] [data-component="buttonContent"] > :not(:last-child){margin-right:8px;}/*!sc*/
.gWBIfb[data-size="large"][data-component=IconButton]{width:40px;padding:unset;}/*!sc*/
.gWBIfb[data-block="block"]{width:100%;}/*!sc*/
.gWBIfb [data-component="leadingVisual"]{grid-area:leadingVisual;color:#656d76;}/*!sc*/
.gWBIfb [data-component="text"]{grid-area:text;line-height:calc(20/14);white-space:nowrap;}/*!sc*/
.gWBIfb [data-component="trailingVisual"]{grid-area:trailingVisual;}/*!sc*/
.gWBIfb [data-component="trailingAction"]{margin-right:-4px;color:#656d76;}/*!sc*/
.gWBIfb [data-component="buttonContent"]{-webkit-flex:1 0 auto;-ms-flex:1 0 auto;flex:1 0 auto;display:grid;grid-template-areas:"leadingVisual text trailingVisual";grid-template-columns:min-content minmax(0,auto) min-content;-webkit-align-items:center;-webkit-box-align:center;-ms-flex-align:center;align-items:center;-webkit-align-content:center;-ms-flex-line-pack:center;align-content:center;}/*!sc*/
.gWBIfb [data-component="buttonContent"] > :not(:last-child){margin-right:8px;}/*!sc*/
.gWBIfb:hover:not([disabled]){background-color:#f3f4f6;}/*!sc*/
.gWBIfb:active:not([disabled]){background-color:hsla(220,14%,94%,1);}/*!sc*/
.gWBIfb[aria-expanded=true]{background-color:hsla(220,14%,94%,1);}/*!sc*/
.gWBIfb[data-component="IconButton"][data-no-visuals]{color:#656d76;}/*!sc*/
.gWBIfb[data-no-visuals]{color:#0969da;}/*!sc*/
.gWBIfb:has([data-component="ButtonCounter"]){color:#0969da;}/*!sc*/
.gWBIfb:disabled[data-no-visuals]{color:#8c959f;}/*!sc*/
.gWBIfb:disabled[data-no-visuals] [data-component=ButtonCounter]{color:inherit;}/*!sc*/
.iVkWL{border-radius:6px;border:1px solid;border-color:transparent;font-family:inherit;font-weight:500;font-size:14px;cursor:pointer;-webkit-appearance:none;-moz-appearance:none;appearance:none;-webkit-user-select:none;-moz-user-select:none;-ms-user-select:none;user-select:none;-webkit-text-decoration:none;text-decoration:none;text-align:center;display:-webkit-box;display:-webkit-flex;display:-ms-flexbox;display:flex;-webkit-align-items:center;-webkit-box-align:center;-ms-flex-align:center;align-items:center;-webkit-box-pack:justify;-webkit-justify-content:space-between;-ms-flex-pack:justify;justify-content:space-between;height:32px;padding:0 12px;gap:8px;min-width:-webkit-max-content;min-width:-moz-max-content;min-width:max-content;-webkit-transition:80ms cubic-bezier(0.65,0,0.35,1);transition:80ms cubic-bezier(0.65,0,0.35,1);-webkit-transition-property:color,fill,background-color,border-color;transition-property:color,fill,background-color,border-color;color:#0969da;background-color:transparent;box-shadow:none;}/*!sc*/
.iVkWL:focus:not(:disabled){box-shadow:none;outline:2px solid #0969da;outline-offset:-2px;}/*!sc*/
.iVkWL:focus:not(:disabled):not(:focus-visible){outline:solid 1px transparent;}/*!sc*/
.iVkWL:focus-visible:not(:disabled){box-shadow:none;outline:2px solid #0969da;outline-offset:-2px;}/*!sc*/
.iVkWL[href]{display:-webkit-inline-box;display:-webkit-inline-flex;display:-ms-inline-flexbox;display:inline-flex;}/*!sc*/
.iVkWL[href]:hover{-webkit-text-decoration:none;text-decoration:none;}/*!sc*/
.iVkWL:hover{-webkit-transition-duration:80ms;transition-duration:80ms;}/*!sc*/
.iVkWL:active{-webkit-transition:none;transition:none;}/*!sc*/
.iVkWL:disabled{cursor:not-allowed;box-shadow:none;color:#8c959f;}/*!sc*/
.iVkWL:disabled [data-component=ButtonCounter],.iVkWL:disabled [data-component="leadingVisual"],.iVkWL:disabled [data-component="trailingAction"]{color:inherit;}/*!sc*/
@media (forced-colors:active){.iVkWL:focus{outline:solid 1px transparent;}}/*!sc*/
.iVkWL [data-component=ButtonCounter]{font-size:12px;}/*!sc*/
.iVkWL[data-component=IconButton]{display:inline-grid;padding:unset;place-content:center;width:32px;min-width:unset;}/*!sc*/
.iVkWL[data-size="small"]{padding:0 8px;height:28px;gap:4px;font-size:12px;color:#1F2328;margin-left:8px;}/*!sc*/
.iVkWL[data-size="small"] [data-component="text"]{line-height:calc(20 / 12);}/*!sc*/
.iVkWL[data-size="small"] [data-component=ButtonCounter]{font-size:12px;}/*!sc*/
.iVkWL[data-size="small"] [data-component="buttonContent"] > :not(:last-child){margin-right:4px;}/*!sc*/
.iVkWL[data-size="small"][data-component=IconButton]{width:28px;padding:unset;}/*!sc*/
.iVkWL[data-size="large"]{padding:0 16px;height:40px;gap:8px;}/*!sc*/
.iVkWL[data-size="large"] [data-component="buttonContent"] > :not(:last-child){margin-right:8px;}/*!sc*/
.iVkWL[data-size="large"][data-component=IconButton]{width:40px;padding:unset;}/*!sc*/
.iVkWL[data-block="block"]{width:100%;}/*!sc*/
.iVkWL [data-component="leadingVisual"]{grid-area:leadingVisual;color:#656d76;}/*!sc*/
.iVkWL [data-component="text"]{grid-area:text;line-height:calc(20/14);white-space:nowrap;}/*!sc*/
.iVkWL [data-component="trailingVisual"]{grid-area:trailingVisual;}/*!sc*/
.iVkWL [data-component="trailingAction"]{margin-right:-4px;color:#656d76;}/*!sc*/
.iVkWL [data-component="buttonContent"]{-webkit-flex:1 0 auto;-ms-flex:1 0 auto;flex:1 0 auto;display:grid;grid-template-areas:"leadingVisual text trailingVisual";grid-template-columns:min-content minmax(0,auto) min-content;-webkit-align-items:center;-webkit-box-align:center;-ms-flex-align:center;align-items:center;-webkit-align-content:center;-ms-flex-line-pack:center;align-content:center;}/*!sc*/
.iVkWL [data-component="buttonContent"] > :not(:last-child){margin-right:8px;}/*!sc*/
.iVkWL:hover:not([disabled]){background-color:#f3f4f6;}/*!sc*/
.iVkWL:active:not([disabled]){background-color:hsla(220,14%,94%,1);}/*!sc*/
.iVkWL[aria-expanded=true]{background-color:hsla(220,14%,94%,1);}/*!sc*/
.iVkWL[data-component="IconButton"][data-no-visuals]{color:#656d76;}/*!sc*/
.iVkWL[data-no-visuals]{color:#0969da;}/*!sc*/
.iVkWL:has([data-component="ButtonCounter"]){color:#0969da;}/*!sc*/
.iVkWL:disabled[data-no-visuals]{color:#8c959f;}/*!sc*/
.iVkWL:disabled[data-no-visuals] [data-component=ButtonCounter]{color:inherit;}/*!sc*/
.jxAJvV{border-radius:6px;border:1px solid;border-color:rgba(31,35,40,0.15);font-family:inherit;font-weight:500;font-size:14px;cursor:pointer;-webkit-appearance:none;-moz-appearance:none;appearance:none;-webkit-user-select:none;-moz-user-select:none;-ms-user-select:none;user-select:none;-webkit-text-decoration:none;text-decoration:none;text-align:center;display:-webkit-box;display:-webkit-flex;display:-ms-flexbox;display:flex;-webkit-align-items:center;-webkit-box-align:center;-ms-flex-align:center;align-items:center;-webkit-box-pack:justify;-webkit-justify-content:space-between;-ms-flex-pack:justify;justify-content:space-between;height:32px;padding:0 12px;gap:8px;min-width:-webkit-max-content;min-width:-moz-max-content;min-width:max-content;-webkit-transition:80ms cubic-bezier(0.65,0,0.35,1);transition:80ms cubic-bezier(0.65,0,0.35,1);-webkit-transition-property:color,fill,background-color,border-color;transition-property:color,fill,background-color,border-color;color:#24292f;background-color:#f6f8fa;box-shadow:0 1px 0 rgba(31,35,40,0.04),inset 0 1px 0 rgba(255,255,255,0.25);padding-left:8px;padding-right:8px;}/*!sc*/
.jxAJvV:focus:not(:disabled){box-shadow:none;outline:2px solid #0969da;outline-offset:-2px;}/*!sc*/
.jxAJvV:focus:not(:disabled):not(:focus-visible){outline:solid 1px transparent;}/*!sc*/
.jxAJvV:focus-visible:not(:disabled){box-shadow:none;outline:2px solid #0969da;outline-offset:-2px;}/*!sc*/
.jxAJvV[href]{display:-webkit-inline-box;display:-webkit-inline-flex;display:-ms-inline-flexbox;display:inline-flex;}/*!sc*/
.jxAJvV[href]:hover{-webkit-text-decoration:none;text-decoration:none;}/*!sc*/
.jxAJvV:hover{-webkit-transition-duration:80ms;transition-duration:80ms;}/*!sc*/
.jxAJvV:active{-webkit-transition:none;transition:none;}/*!sc*/
.jxAJvV:disabled{cursor:not-allowed;box-shadow:none;color:#8c959f;}/*!sc*/
.jxAJvV:disabled [data-component=ButtonCounter]{color:inherit;}/*!sc*/
@media (forced-colors:active){.jxAJvV:focus{outline:solid 1px transparent;}}/*!sc*/
.jxAJvV [data-component=ButtonCounter]{font-size:12px;}/*!sc*/
.jxAJvV[data-component=IconButton]{display:inline-grid;padding:unset;place-content:center;width:32px;min-width:unset;}/*!sc*/
.jxAJvV[data-size="small"]{padding:0 8px;height:28px;gap:4px;font-size:12px;}/*!sc*/
.jxAJvV[data-size="small"] [data-component="text"]{line-height:calc(20 / 12);}/*!sc*/
.jxAJvV[data-size="small"] [data-component=ButtonCounter]{font-size:12px;}/*!sc*/
.jxAJvV[data-size="small"] [data-component="buttonContent"] > :not(:last-child){margin-right:4px;}/*!sc*/
.jxAJvV[data-size="small"][data-component=IconButton]{width:28px;padding:unset;}/*!sc*/
.jxAJvV[data-size="large"]{padding:0 16px;height:40px;gap:8px;}/*!sc*/
.jxAJvV[data-size="large"] [data-component="buttonContent"] > :not(:last-child){margin-right:8px;}/*!sc*/
.jxAJvV[data-size="large"][data-component=IconButton]{width:40px;padding:unset;}/*!sc*/
.jxAJvV[data-block="block"]{width:100%;}/*!sc*/
.jxAJvV [data-component="leadingVisual"]{grid-area:leadingVisual;}/*!sc*/
.jxAJvV [data-component="text"]{grid-area:text;line-height:calc(20/14);white-space:nowrap;}/*!sc*/
.jxAJvV [data-component="trailingVisual"]{grid-area:trailingVisual;}/*!sc*/
.jxAJvV [data-component="trailingAction"]{margin-right:-4px;}/*!sc*/
.jxAJvV [data-component="buttonContent"]{-webkit-flex:1 0 auto;-ms-flex:1 0 auto;flex:1 0 auto;display:grid;grid-template-areas:"leadingVisual text trailingVisual";grid-template-columns:min-content minmax(0,auto) min-content;-webkit-align-items:center;-webkit-box-align:center;-ms-flex-align:center;align-items:center;-webkit-align-content:center;-ms-flex-line-pack:center;align-content:center;}/*!sc*/
.jxAJvV [data-component="buttonContent"] > :not(:last-child){margin-right:8px;}/*!sc*/
.jxAJvV:hover:not([disabled]){background-color:#f3f4f6;border-color:rgba(31,35,40,0.15);}/*!sc*/
.jxAJvV:active:not([disabled]){background-color:hsla(220,14%,93%,1);border-color:rgba(31,35,40,0.15);}/*!sc*/
.jxAJvV[aria-expanded=true]{background-color:hsla(220,14%,93%,1);border-color:rgba(31,35,40,0.15);}/*!sc*/
.jxAJvV [data-component="leadingVisual"],.jxAJvV [data-component="trailingVisual"],.jxAJvV [data-component="trailingAction"]{color:#656d76;}/*!sc*/
.jxAJvV linkButtonSx:hover:not([disabled]){-webkit-text-decoration:none;text-decoration:none;}/*!sc*/
.jxAJvV linkButtonSx:focus:not([disabled]){-webkit-text-decoration:none;text-decoration:none;}/*!sc*/
.jxAJvV linkButtonSx:active:not([disabled]){-webkit-text-decoration:none;text-decoration:none;}/*!sc*/
.iCOrao{border-radius:6px;border:1px solid;border-color:rgba(31,35,40,0.15);font-family:inherit;font-weight:500;font-size:14px;cursor:pointer;-webkit-appearance:none;-moz-appearance:none;appearance:none;-webkit-user-select:none;-moz-user-select:none;-ms-user-select:none;user-select:none;-webkit-text-decoration:none;text-decoration:none;text-align:center;display:-webkit-box;display:-webkit-flex;display:-ms-flexbox;display:flex;-webkit-align-items:center;-webkit-box-align:center;-ms-flex-align:center;align-items:center;-webkit-box-pack:justify;-webkit-justify-content:space-between;-ms-flex-pack:justify;justify-content:space-between;height:32px;padding:0 12px;gap:8px;min-width:-webkit-max-content;min-width:-moz-max-content;min-width:max-content;-webkit-transition:80ms cubic-bezier(0.65,0,0.35,1);transition:80ms cubic-bezier(0.65,0,0.35,1);-webkit-transition-property:color,fill,background-color,border-color;transition-property:color,fill,background-color,border-color;color:#24292f;background-color:#f6f8fa;box-shadow:0 1px 0 rgba(31,35,40,0.04),inset 0 1px 0 rgba(255,255,255,0.25);}/*!sc*/
.iCOrao:focus:not(:disabled){box-shadow:none;outline:2px solid #0969da;outline-offset:-2px;}/*!sc*/
.iCOrao:focus:not(:disabled):not(:focus-visible){outline:solid 1px transparent;}/*!sc*/
.iCOrao:focus-visible:not(:disabled){box-shadow:none;outline:2px solid #0969da;outline-offset:-2px;}/*!sc*/
.iCOrao[href]{display:-webkit-inline-box;display:-webkit-inline-flex;display:-ms-inline-flexbox;display:inline-flex;}/*!sc*/
.iCOrao[href]:hover{-webkit-text-decoration:none;text-decoration:none;}/*!sc*/
.iCOrao:hover{-webkit-transition-duration:80ms;transition-duration:80ms;}/*!sc*/
.iCOrao:active{-webkit-transition:none;transition:none;}/*!sc*/
.iCOrao:disabled{cursor:not-allowed;box-shadow:none;color:#8c959f;}/*!sc*/
.iCOrao:disabled [data-component=ButtonCounter]{color:inherit;}/*!sc*/
@media (forced-colors:active){.iCOrao:focus{outline:solid 1px transparent;}}/*!sc*/
.iCOrao [data-component=ButtonCounter]{font-size:12px;}/*!sc*/
.iCOrao[data-component=IconButton]{display:inline-grid;padding:unset;place-content:center;width:32px;min-width:unset;}/*!sc*/
.iCOrao[data-size="small"]{padding:0 8px;height:28px;gap:4px;font-size:12px;}/*!sc*/
.iCOrao[data-size="small"] [data-component="text"]{line-height:calc(20 / 12);}/*!sc*/
.iCOrao[data-size="small"] [data-component=ButtonCounter]{font-size:12px;}/*!sc*/
.iCOrao[data-size="small"] [data-component="buttonContent"] > :not(:last-child){margin-right:4px;}/*!sc*/
.iCOrao[data-size="small"][data-component=IconButton]{width:28px;padding:unset;}/*!sc*/
.iCOrao[data-size="large"]{padding:0 16px;height:40px;gap:8px;}/*!sc*/
.iCOrao[data-size="large"] [data-component="buttonContent"] > :not(:last-child){margin-right:8px;}/*!sc*/
.iCOrao[data-size="large"][data-component=IconButton]{width:40px;padding:unset;}/*!sc*/
.iCOrao[data-block="block"]{width:100%;}/*!sc*/
.iCOrao [data-component="leadingVisual"]{grid-area:leadingVisual;}/*!sc*/
.iCOrao [data-component="text"]{grid-area:text;line-height:calc(20/14);white-space:nowrap;}/*!sc*/
.iCOrao [data-component="trailingVisual"]{grid-area:trailingVisual;}/*!sc*/
.iCOrao [data-component="trailingAction"]{margin-right:-4px;}/*!sc*/
.iCOrao [data-component="buttonContent"]{-webkit-flex:1 0 auto;-ms-flex:1 0 auto;flex:1 0 auto;display:grid;grid-template-areas:"leadingVisual text trailingVisual";grid-template-columns:min-content minmax(0,auto) min-content;-webkit-align-items:center;-webkit-box-align:center;-ms-flex-align:center;align-items:center;-webkit-align-content:center;-ms-flex-line-pack:center;align-content:center;}/*!sc*/
.iCOrao [data-component="buttonContent"] > :not(:last-child){margin-right:8px;}/*!sc*/
.iCOrao:hover:not([disabled]){background-color:#f3f4f6;border-color:rgba(31,35,40,0.15);}/*!sc*/
.iCOrao:active:not([disabled]){background-color:hsla(220,14%,93%,1);border-color:rgba(31,35,40,0.15);}/*!sc*/
.iCOrao[aria-expanded=true]{background-color:hsla(220,14%,93%,1);border-color:rgba(31,35,40,0.15);}/*!sc*/
.iCOrao [data-component="leadingVisual"],.iCOrao [data-component="trailingVisual"],.iCOrao [data-component="trailingAction"]{color:#656d76;}/*!sc*/
.WblXz{border-radius:6px;border:1px solid;border-color:rgba(31,35,40,0.15);font-family:inherit;font-weight:500;font-size:14px;cursor:pointer;-webkit-appearance:none;-moz-appearance:none;appearance:none;-webkit-user-select:none;-moz-user-select:none;-ms-user-select:none;user-select:none;-webkit-text-decoration:none;text-decoration:none;text-align:center;display:-webkit-box;display:-webkit-flex;display:-ms-flexbox;display:flex;-webkit-align-items:center;-webkit-box-align:center;-ms-flex-align:center;align-items:center;-webkit-box-pack:justify;-webkit-justify-content:space-between;-ms-flex-pack:justify;justify-content:space-between;height:32px;padding:0 12px;gap:8px;min-width:-webkit-max-content;min-width:-moz-max-content;min-width:max-content;-webkit-transition:80ms cubic-bezier(0.65,0,0.35,1);transition:80ms cubic-bezier(0.65,0,0.35,1);-webkit-transition-property:color,fill,background-color,border-color;transition-property:color,fill,background-color,border-color;color:#24292f;background-color:#f6f8fa;box-shadow:0 1px 0 rgba(31,35,40,0.04),inset 0 1px 0 rgba(255,255,255,0.25);}/*!sc*/
.WblXz:focus:not(:disabled){box-shadow:none;outline:2px solid #0969da;outline-offset:-2px;}/*!sc*/
.WblXz:focus:not(:disabled):not(:focus-visible){outline:solid 1px transparent;}/*!sc*/
.WblXz:focus-visible:not(:disabled){box-shadow:none;outline:2px solid #0969da;outline-offset:-2px;}/*!sc*/
.WblXz[href]{display:-webkit-inline-box;display:-webkit-inline-flex;display:-ms-inline-flexbox;display:inline-flex;}/*!sc*/
.WblXz[href]:hover{-webkit-text-decoration:none;text-decoration:none;}/*!sc*/
.WblXz:hover{-webkit-transition-duration:80ms;transition-duration:80ms;}/*!sc*/
.WblXz:active{-webkit-transition:none;transition:none;}/*!sc*/
.WblXz:disabled{cursor:not-allowed;box-shadow:none;color:#8c959f;}/*!sc*/
.WblXz:disabled [data-component=ButtonCounter]{color:inherit;}/*!sc*/
@media (forced-colors:active){.WblXz:focus{outline:solid 1px transparent;}}/*!sc*/
.WblXz [data-component=ButtonCounter]{font-size:12px;}/*!sc*/
.WblXz[data-component=IconButton]{display:inline-grid;padding:unset;place-content:center;width:32px;min-width:unset;}/*!sc*/
.WblXz[data-size="small"]{padding:0 8px;height:28px;gap:4px;font-size:12px;}/*!sc*/
.WblXz[data-size="small"] [data-component="text"]{line-height:calc(20 / 12);}/*!sc*/
.WblXz[data-size="small"] [data-component=ButtonCounter]{font-size:12px;}/*!sc*/
.WblXz[data-size="small"] [data-component="buttonContent"] > :not(:last-child){margin-right:4px;}/*!sc*/
.WblXz[data-size="small"][data-component=IconButton]{width:28px;padding:unset;}/*!sc*/
.WblXz[data-size="large"]{padding:0 16px;height:40px;gap:8px;}/*!sc*/
.WblXz[data-size="large"] [data-component="buttonContent"] > :not(:last-child){margin-right:8px;}/*!sc*/
.WblXz[data-size="large"][data-component=IconButton]{width:40px;padding:unset;}/*!sc*/
.WblXz[data-block="block"]{width:100%;}/*!sc*/
.WblXz [data-component="leadingVisual"]{grid-area:leadingVisual;}/*!sc*/
.WblXz [data-component="text"]{grid-area:text;line-height:calc(20/14);white-space:nowrap;}/*!sc*/
.WblXz [data-component="trailingVisual"]{grid-area:trailingVisual;}/*!sc*/
.WblXz [data-component="trailingAction"]{margin-right:-4px;}/*!sc*/
.WblXz [data-component="buttonContent"]{-webkit-flex:1 0 auto;-ms-flex:1 0 auto;flex:1 0 auto;display:grid;grid-template-areas:"leadingVisual text trailingVisual";grid-template-columns:min-content minmax(0,auto) min-content;-webkit-align-items:center;-webkit-box-align:center;-ms-flex-align:center;align-items:center;-webkit-align-content:center;-ms-flex-line-pack:center;align-content:center;}/*!sc*/
.WblXz [data-component="buttonContent"] > :not(:last-child){margin-right:8px;}/*!sc*/
.WblXz:hover:not([disabled]){background-color:#f3f4f6;border-color:rgba(31,35,40,0.15);}/*!sc*/
.WblXz:active:not([disabled]){background-color:hsla(220,14%,93%,1);border-color:rgba(31,35,40,0.15);}/*!sc*/
.WblXz[aria-expanded=true]{background-color:hsla(220,14%,93%,1);border-color:rgba(31,35,40,0.15);}/*!sc*/
.WblXz [data-component="leadingVisual"],.WblXz [data-component="trailingVisual"],.WblXz [data-component="trailingAction"]{color:#656d76;}/*!sc*/
.WblXz[data-size="small"][data-no-visuals="true"]{border-top-left-radius:0;border-bottom-left-radius:0;}/*!sc*/
.ftQSWB{border-radius:6px;border:1px solid;border-color:rgba(31,35,40,0.15);font-family:inherit;font-weight:500;font-size:14px;cursor:pointer;-webkit-appearance:none;-moz-appearance:none;appearance:none;-webkit-user-select:none;-moz-user-select:none;-ms-user-select:none;user-select:none;-webkit-text-decoration:none;text-decoration:none;text-align:center;display:-webkit-box;display:-webkit-flex;display:-ms-flexbox;display:flex;-webkit-align-items:center;-webkit-box-align:center;-ms-flex-align:center;align-items:center;-webkit-box-pack:justify;-webkit-justify-content:space-between;-ms-flex-pack:justify;justify-content:space-between;height:32px;padding:0 12px;gap:8px;min-width:-webkit-max-content;min-width:-moz-max-content;min-width:max-content;-webkit-transition:80ms cubic-bezier(0.65,0,0.35,1);transition:80ms cubic-bezier(0.65,0,0.35,1);-webkit-transition-property:color,fill,background-color,border-color;transition-property:color,fill,background-color,border-color;color:#24292f;background-color:#f6f8fa;box-shadow:0 1px 0 rgba(31,35,40,0.04),inset 0 1px 0 rgba(255,255,255,0.25);}/*!sc*/
.ftQSWB:focus:not(:disabled){box-shadow:none;outline:2px solid #0969da;outline-offset:-2px;}/*!sc*/
.ftQSWB:focus:not(:disabled):not(:focus-visible){outline:solid 1px transparent;}/*!sc*/
.ftQSWB:focus-visible:not(:disabled){box-shadow:none;outline:2px solid #0969da;outline-offset:-2px;}/*!sc*/
.ftQSWB[href]{display:-webkit-inline-box;display:-webkit-inline-flex;display:-ms-inline-flexbox;display:inline-flex;}/*!sc*/
.ftQSWB[href]:hover{-webkit-text-decoration:none;text-decoration:none;}/*!sc*/
.ftQSWB:hover{-webkit-transition-duration:80ms;transition-duration:80ms;}/*!sc*/
.ftQSWB:active{-webkit-transition:none;transition:none;}/*!sc*/
.ftQSWB:disabled{cursor:not-allowed;box-shadow:none;color:#8c959f;}/*!sc*/
.ftQSWB:disabled [data-component=ButtonCounter]{color:inherit;}/*!sc*/
@media (forced-colors:active){.ftQSWB:focus{outline:solid 1px transparent;}}/*!sc*/
.ftQSWB [data-component=ButtonCounter]{font-size:12px;}/*!sc*/
.ftQSWB[data-component=IconButton]{display:inline-grid;padding:unset;place-content:center;width:32px;min-width:unset;}/*!sc*/
.ftQSWB[data-size="small"]{padding:0 8px;height:28px;gap:4px;font-size:12px;}/*!sc*/
.ftQSWB[data-size="small"] [data-component="text"]{line-height:calc(20 / 12);}/*!sc*/
.ftQSWB[data-size="small"] [data-component=ButtonCounter]{font-size:12px;}/*!sc*/
.ftQSWB[data-size="small"] [data-component="buttonContent"] > :not(:last-child){margin-right:4px;}/*!sc*/
.ftQSWB[data-size="small"][data-component=IconButton]{width:28px;padding:unset;}/*!sc*/
.ftQSWB[data-size="large"]{padding:0 16px;height:40px;gap:8px;}/*!sc*/
.ftQSWB[data-size="large"] [data-component="buttonContent"] > :not(:last-child){margin-right:8px;}/*!sc*/
.ftQSWB[data-size="large"][data-component=IconButton]{width:40px;padding:unset;}/*!sc*/
.ftQSWB[data-block="block"]{width:100%;}/*!sc*/
.ftQSWB [data-component="leadingVisual"]{grid-area:leadingVisual;}/*!sc*/
.ftQSWB [data-component="text"]{grid-area:text;line-height:calc(20/14);white-space:nowrap;}/*!sc*/
.ftQSWB [data-component="trailingVisual"]{grid-area:trailingVisual;}/*!sc*/
.ftQSWB [data-component="trailingAction"]{margin-right:-4px;}/*!sc*/
.ftQSWB [data-component="buttonContent"]{-webkit-flex:1 0 auto;-ms-flex:1 0 auto;flex:1 0 auto;display:grid;grid-template-areas:"leadingVisual text trailingVisual";grid-template-columns:min-content minmax(0,auto) min-content;-webkit-align-items:center;-webkit-box-align:center;-ms-flex-align:center;align-items:center;-webkit-align-content:center;-ms-flex-line-pack:center;align-content:center;}/*!sc*/
.ftQSWB [data-component="buttonContent"] > :not(:last-child){margin-right:8px;}/*!sc*/
.ftQSWB:hover:not([disabled]){background-color:#f3f4f6;border-color:rgba(31,35,40,0.15);}/*!sc*/
.ftQSWB:active:not([disabled]){background-color:hsla(220,14%,93%,1);border-color:rgba(31,35,40,0.15);}/*!sc*/
.ftQSWB[aria-expanded=true]{background-color:hsla(220,14%,93%,1);border-color:rgba(31,35,40,0.15);}/*!sc*/
.ftQSWB [data-component="leadingVisual"],.ftQSWB [data-component="trailingVisual"],.ftQSWB [data-component="trailingAction"]{color:#656d76;}/*!sc*/
.ftQSWB[data-size="small"][data-no-visuals="true"]{border-top-right-radius:0;border-bottom-right-radius:0;border-right-width:0;}/*!sc*/
.ftQSWB[data-size="small"][data-no-visuals="true"]:hover:not([disabled]){-webkit-text-decoration:none;text-decoration:none;}/*!sc*/
.ftQSWB[data-size="small"][data-no-visuals="true"]:focus:not([disabled]){-webkit-text-decoration:none;text-decoration:none;}/*!sc*/
.ftQSWB[data-size="small"][data-no-visuals="true"]:active:not([disabled]){-webkit-text-decoration:none;text-decoration:none;}/*!sc*/
.ksLyfZ{border-radius:6px;border:1px solid;border-color:transparent;font-family:inherit;font-weight:500;font-size:14px;cursor:pointer;-webkit-appearance:none;-moz-appearance:none;appearance:none;-webkit-user-select:none;-moz-user-select:none;-ms-user-select:none;user-select:none;-webkit-text-decoration:none;text-decoration:none;text-align:center;display:-webkit-box;display:-webkit-flex;display:-ms-flexbox;display:flex;-webkit-align-items:center;-webkit-box-align:center;-ms-flex-align:center;align-items:center;-webkit-box-pack:justify;-webkit-justify-content:space-between;-ms-flex-pack:justify;justify-content:space-between;height:32px;padding:0 12px;gap:8px;min-width:-webkit-max-content;min-width:-moz-max-content;min-width:max-content;-webkit-transition:80ms cubic-bezier(0.65,0,0.35,1);transition:80ms cubic-bezier(0.65,0,0.35,1);-webkit-transition-property:color,fill,background-color,border-color;transition-property:color,fill,background-color,border-color;color:#0969da;background-color:transparent;box-shadow:none;}/*!sc*/
.ksLyfZ:focus:not(:disabled){box-shadow:none;outline:2px solid #0969da;outline-offset:-2px;}/*!sc*/
.ksLyfZ:focus:not(:disabled):not(:focus-visible){outline:solid 1px transparent;}/*!sc*/
.ksLyfZ:focus-visible:not(:disabled){box-shadow:none;outline:2px solid #0969da;outline-offset:-2px;}/*!sc*/
.ksLyfZ[href]{display:-webkit-inline-box;display:-webkit-inline-flex;display:-ms-inline-flexbox;display:inline-flex;}/*!sc*/
.ksLyfZ[href]:hover{-webkit-text-decoration:none;text-decoration:none;}/*!sc*/
.ksLyfZ:hover{-webkit-transition-duration:80ms;transition-duration:80ms;}/*!sc*/
.ksLyfZ:active{-webkit-transition:none;transition:none;}/*!sc*/
.ksLyfZ:disabled{cursor:not-allowed;box-shadow:none;color:#8c959f;}/*!sc*/
.ksLyfZ:disabled [data-component=ButtonCounter],.ksLyfZ:disabled [data-component="leadingVisual"],.ksLyfZ:disabled [data-component="trailingAction"]{color:inherit;}/*!sc*/
@media (forced-colors:active){.ksLyfZ:focus{outline:solid 1px transparent;}}/*!sc*/
.ksLyfZ [data-component=ButtonCounter]{font-size:12px;}/*!sc*/
.ksLyfZ[data-component=IconButton]{display:inline-grid;padding:unset;place-content:center;width:32px;min-width:unset;}/*!sc*/
.ksLyfZ[data-size="small"]{padding:0 8px;height:28px;gap:4px;font-size:12px;}/*!sc*/
.ksLyfZ[data-size="small"] [data-component="text"]{line-height:calc(20 / 12);}/*!sc*/
.ksLyfZ[data-size="small"] [data-component=ButtonCounter]{font-size:12px;}/*!sc*/
.ksLyfZ[data-size="small"] [data-component="buttonContent"] > :not(:last-child){margin-right:4px;}/*!sc*/
.ksLyfZ[data-size="small"][data-component=IconButton]{width:28px;padding:unset;}/*!sc*/
.ksLyfZ[data-size="large"]{padding:0 16px;height:40px;gap:8px;}/*!sc*/
.ksLyfZ[data-size="large"] [data-component="buttonContent"] > :not(:last-child){margin-right:8px;}/*!sc*/
.ksLyfZ[data-size="large"][data-component=IconButton]{width:40px;padding:unset;}/*!sc*/
.ksLyfZ[data-block="block"]{width:100%;}/*!sc*/
.ksLyfZ [data-component="leadingVisual"]{grid-area:leadingVisual;color:#656d76;}/*!sc*/
.ksLyfZ [data-component="text"]{grid-area:text;line-height:calc(20/14);white-space:nowrap;}/*!sc*/
.ksLyfZ [data-component="trailingVisual"]{grid-area:trailingVisual;}/*!sc*/
.ksLyfZ [data-component="trailingAction"]{margin-right:-4px;color:#656d76;}/*!sc*/
.ksLyfZ [data-component="buttonContent"]{-webkit-flex:1 0 auto;-ms-flex:1 0 auto;flex:1 0 auto;display:grid;grid-template-areas:"leadingVisual text trailingVisual";grid-template-columns:min-content minmax(0,auto) min-content;-webkit-align-items:center;-webkit-box-align:center;-ms-flex-align:center;align-items:center;-webkit-align-content:center;-ms-flex-line-pack:center;align-content:center;}/*!sc*/
.ksLyfZ [data-component="buttonContent"] > :not(:last-child){margin-right:8px;}/*!sc*/
.ksLyfZ:hover:not([disabled]){background-color:#f3f4f6;}/*!sc*/
.ksLyfZ:active:not([disabled]){background-color:hsla(220,14%,94%,1);}/*!sc*/
.ksLyfZ[aria-expanded=true]{background-color:hsla(220,14%,94%,1);}/*!sc*/
.ksLyfZ[data-component="IconButton"][data-no-visuals]{color:#656d76;}/*!sc*/
.ksLyfZ[data-no-visuals]{color:#0969da;}/*!sc*/
.ksLyfZ:has([data-component="ButtonCounter"]){color:#0969da;}/*!sc*/
.ksLyfZ:disabled[data-no-visuals]{color:#8c959f;}/*!sc*/
.ksLyfZ:disabled[data-no-visuals] [data-component=ButtonCounter]{color:inherit;}/*!sc*/
.ksLyfZ[data-size="small"][data-no-visuals="true"]{color:#656d76;}/*!sc*/
data-styled.g27[id="types__StyledButton-sc-ws60qy-0"]{content:"iBwhhC,bpzCPD,cpGorR,jOqXES,dQkDZk,iwngiV,hMBGua,bDzORU,cdPrCH,iUmUix,gWBIfb,iVkWL,jxAJvV,iCOrao,WblXz,ftQSWB,ksLyfZ,"}/*!sc*/
.hFFfJn{position:relative;display:inline-block;}/*!sc*/
.hFFfJn::before{position:absolute;z-index:1000001;display:none;width:0px;height:0px;color:#24292f;pointer-events:none;content:'';border:6px solid transparent;opacity:0;}/*!sc*/
.hFFfJn::after{position:absolute;z-index:1000000;display:none;padding:0.5em 0.75em;font:normal normal 11px/1.5 -apple-system,BlinkMacSystemFont,"Segoe UI","Noto Sans",Helvetica,Arial,sans-serif,"Apple Color Emoji","Segoe UI Emoji";-webkit-font-smoothing:subpixel-antialiased;color:#ffffff;text-align:center;-webkit-text-decoration:none;text-decoration:none;text-shadow:none;text-transform:none;-webkit-letter-spacing:normal;-moz-letter-spacing:normal;-ms-letter-spacing:normal;letter-spacing:normal;word-wrap:break-word;white-space:pre;pointer-events:none;content:attr(aria-label);background:#24292f;border-radius:3px;opacity:0;}/*!sc*/
@-webkit-keyframes tooltip-appear{from{opacity:0;}to{opacity:1;}}/*!sc*/
@keyframes tooltip-appear{from{opacity:0;}to{opacity:1;}}/*!sc*/
.hFFfJn:hover::before,.hFFfJn:active::before,.hFFfJn:focus::before,.hFFfJn:focus-within::before,.hFFfJn:hover::after,.hFFfJn:active::after,.hFFfJn:focus::after,.hFFfJn:focus-within::after{display:inline-block;-webkit-text-decoration:none;text-decoration:none;-webkit-animation-name:tooltip-appear;animation-name:tooltip-appear;-webkit-animation-duration:0.1s;animation-duration:0.1s;-webkit-animation-fill-mode:forwards;animation-fill-mode:forwards;-webkit-animation-timing-function:ease-in;animation-timing-function:ease-in;-webkit-animation-delay:0.4s;animation-delay:0.4s;}/*!sc*/
.hFFfJn.tooltipped-no-delay:hover::before,.hFFfJn.tooltipped-no-delay:active::before,.hFFfJn.tooltipped-no-delay:focus::before,.hFFfJn.tooltipped-no-delay:focus-within::before,.hFFfJn.tooltipped-no-delay:hover::after,.hFFfJn.tooltipped-no-delay:active::after,.hFFfJn.tooltipped-no-delay:focus::after,.hFFfJn.tooltipped-no-delay:focus-within::after{-webkit-animation-delay:0s;animation-delay:0s;}/*!sc*/
.hFFfJn.tooltipped-multiline:hover::after,.hFFfJn.tooltipped-multiline:active::after,.hFFfJn.tooltipped-multiline:focus::after,.hFFfJn.tooltipped-multiline:focus-within::after{display:table-cell;}/*!sc*/
.hFFfJn.tooltipped-s::after,.hFFfJn.tooltipped-se::after,.hFFfJn.tooltipped-sw::after{top:100%;right:50%;margin-top:6px;}/*!sc*/
.hFFfJn.tooltipped-s::before,.hFFfJn.tooltipped-se::before,.hFFfJn.tooltipped-sw::before{top:auto;right:50%;bottom:-7px;margin-right:-6px;border-bottom-color:#24292f;}/*!sc*/
.hFFfJn.tooltipped-se::after{right:auto;left:50%;margin-left:-16px;}/*!sc*/
.hFFfJn.tooltipped-sw::after{margin-right:-16px;}/*!sc*/
.hFFfJn.tooltipped-n::after,.hFFfJn.tooltipped-ne::after,.hFFfJn.tooltipped-nw::after{right:50%;bottom:100%;margin-bottom:6px;}/*!sc*/
.hFFfJn.tooltipped-n::before,.hFFfJn.tooltipped-ne::before,.hFFfJn.tooltipped-nw::before{top:-7px;right:50%;bottom:auto;margin-right:-6px;border-top-color:#24292f;}/*!sc*/
.hFFfJn.tooltipped-ne::after{right:auto;left:50%;margin-left:-16px;}/*!sc*/
.hFFfJn.tooltipped-nw::after{margin-right:-16px;}/*!sc*/
.hFFfJn.tooltipped-s::after,.hFFfJn.tooltipped-n::after{-webkit-transform:translateX(50%);-ms-transform:translateX(50%);transform:translateX(50%);}/*!sc*/
.hFFfJn.tooltipped-w::after{right:100%;bottom:50%;margin-right:6px;-webkit-transform:translateY(50%);-ms-transform:translateY(50%);transform:translateY(50%);}/*!sc*/
.hFFfJn.tooltipped-w::before{top:50%;bottom:50%;left:-7px;margin-top:-6px;border-left-color:#24292f;}/*!sc*/
.hFFfJn.tooltipped-e::after{bottom:50%;left:100%;margin-left:6px;-webkit-transform:translateY(50%);-ms-transform:translateY(50%);transform:translateY(50%);}/*!sc*/
.hFFfJn.tooltipped-e::before{top:50%;right:-7px;bottom:50%;margin-top:-6px;border-right-color:#24292f;}/*!sc*/
.hFFfJn.tooltipped-multiline::after{width:-webkit-max-content;width:-moz-max-content;width:max-content;max-width:250px;word-wrap:break-word;white-space:pre-line;border-collapse:separate;}/*!sc*/
.hFFfJn.tooltipped-multiline.tooltipped-s::after,.hFFfJn.tooltipped-multiline.tooltipped-n::after{right:auto;left:50%;-webkit-transform:translateX(-50%);-ms-transform:translateX(-50%);transform:translateX(-50%);}/*!sc*/
.hFFfJn.tooltipped-multiline.tooltipped-w::after,.hFFfJn.tooltipped-multiline.tooltipped-e::after{right:100%;}/*!sc*/
.hFFfJn.tooltipped-align-right-2::after{right:0;margin-right:0;}/*!sc*/
.hFFfJn.tooltipped-align-right-2::before{right:15px;}/*!sc*/
.hFFfJn.tooltipped-align-left-2::after{left:0;margin-left:0;}/*!sc*/
.hFFfJn.tooltipped-align-left-2::before{left:10px;}/*!sc*/
data-styled.g28[id="Tooltip__TooltipBase-sc-uha8qm-0"]{content:"hFFfJn,"}/*!sc*/
.cDLBls{border:0;font-size:inherit;font-family:inherit;background-color:transparent;-webkit-appearance:none;color:inherit;width:100%;}/*!sc*/
.cDLBls:focus{outline:0;}/*!sc*/
data-styled.g29[id="UnstyledTextInput-sc-14ypya-0"]{content:"cDLBls,"}/*!sc*/
.bOMzPg{min-width:0;}/*!sc*/
.ivLLle{padding-left:4px;padding-right:4px;font-weight:400;color:#656d76;font-size:16px;}/*!sc*/
.ghRVGj{color:#1F2328;}/*!sc*/
.dZAxGI{padding-left:4px;padding-right:4px;font-weight:400;color:#656d76;font-size:14px;}/*!sc*/
data-styled.g35[id="Text-sc-17v1xeu-0"]{content:"bOMzPg,ivLLle,ghRVGj,gPDEWA,dZAxGI,"}/*!sc*/
.cjbBGq{display:-webkit-inline-box;display:-webkit-inline-flex;display:-ms-inline-flexbox;display:inline-flex;vertical-align:middle;isolation:isolate;}/*!sc*/
.cjbBGq.cjbBGq > *{margin-inline-end:-1px;position:relative;border-radius:0;}/*!sc*/
.cjbBGq.cjbBGq > *:first-child{border-top-left-radius:6px;border-bottom-left-radius:6px;}/*!sc*/
.cjbBGq.cjbBGq > *:last-child{border-top-right-radius:6px;border-bottom-right-radius:6px;}/*!sc*/
.cjbBGq.cjbBGq > *:focus,.cjbBGq.cjbBGq > *:active,.cjbBGq.cjbBGq > *:hover{z-index:1;}/*!sc*/
data-styled.g84[id="ButtonGroup-sc-1gxhls1-0"]{content:"cjbBGq,"}/*!sc*/
.bDmUQT{--segmented-control-button-inner-padding:12px;--segmented-control-button-bg-inset:4px;--segmented-control-outer-radius:6px;background-color:transparent;border-color:transparent;border-radius:var(--segmented-control-outer-radius);border-width:0;color:currentColor;cursor:pointer;font-family:inherit;font-size:inherit;font-weight:600;padding:0;height:100%;width:100%;}/*!sc*/
.bDmUQT .segmentedControl-content{-webkit-align-items:center;-webkit-box-align:center;-ms-flex-align:center;align-items:center;background-color:#ffffff;border-color:#8c959f;border-style:solid;border-width:1px;border-radius:var(--segmented-control-outer-radius);display:-webkit-box;display:-webkit-flex;display:-ms-flexbox;display:flex;height:100%;-webkit-box-pack:center;-webkit-justify-content:center;-ms-flex-pack:center;justify-content:center;padding-left:var(--segmented-control-button-inner-padding);padding-right:var(--segmented-control-button-inner-padding);}/*!sc*/
.bDmUQT svg{fill:#656d76;}/*!sc*/
.bDmUQT:focus:focus-visible:not(:last-child):after{width:0;}/*!sc*/
.bDmUQT .segmentedControl-text:after{content:"Preview";display:block;font-weight:600;height:0;overflow:hidden;pointer-events:none;-webkit-user-select:none;-moz-user-select:none;-ms-user-select:none;user-select:none;visibility:hidden;}/*!sc*/
@media (pointer:coarse){.bDmUQT:before{content:"";position:absolute;left:0;right:0;-webkit-transform:translateY(-50%);-ms-transform:translateY(-50%);transform:translateY(-50%);top:50%;min-height:44px;}}/*!sc*/
.fzMylw{--segmented-control-button-inner-padding:12px;--segmented-control-button-bg-inset:4px;--segmented-control-outer-radius:6px;background-color:transparent;border-color:transparent;border-radius:var(--segmented-control-outer-radius);border-width:0;color:currentColor;cursor:pointer;font-family:inherit;font-size:inherit;font-weight:400;padding:var(--segmented-control-button-bg-inset);height:100%;width:100%;}/*!sc*/
.fzMylw .segmentedControl-content{-webkit-align-items:center;-webkit-box-align:center;-ms-flex-align:center;align-items:center;background-color:transparent;border-color:transparent;border-style:solid;border-width:1px;border-radius:calc(var(--segmented-control-outer-radius) - var(--segmented-control-button-bg-inset) / 2);display:-webkit-box;display:-webkit-flex;display:-ms-flexbox;display:flex;height:100%;-webkit-box-pack:center;-webkit-justify-content:center;-ms-flex-pack:center;justify-content:center;padding-left:calc(var(--segmented-control-button-inner-padding) - var(--segmented-control-button-bg-inset));padding-right:calc(var(--segmented-control-button-inner-padding) - var(--segmented-control-button-bg-inset));}/*!sc*/
.fzMylw svg{fill:#656d76;}/*!sc*/
.fzMylw:hover .segmentedControl-content{background-color:rgba(175,184,193,0.2);}/*!sc*/
.fzMylw:active .segmentedControl-content{background-color:rgba(175,184,193,0.4);}/*!sc*/
.fzMylw:focus:focus-visible:not(:last-child):after{width:0;}/*!sc*/
.fzMylw .segmentedControl-text:after{content:"Code";display:block;font-weight:600;height:0;overflow:hidden;pointer-events:none;-webkit-user-select:none;-moz-user-select:none;-ms-user-select:none;user-select:none;visibility:hidden;}/*!sc*/
@media (pointer:coarse){.fzMylw:before{content:"";position:absolute;left:0;right:0;-webkit-transform:translateY(-50%);-ms-transform:translateY(-50%);transform:translateY(-50%);top:50%;min-height:44px;}}/*!sc*/
.hBvGcq{--segmented-control-button-inner-padding:12px;--segmented-control-button-bg-inset:4px;--segmented-control-outer-radius:6px;background-color:transparent;border-color:transparent;border-radius:var(--segmented-control-outer-radius);border-width:0;color:currentColor;cursor:pointer;font-family:inherit;font-size:inherit;font-weight:400;padding:var(--segmented-control-button-bg-inset);height:100%;width:100%;}/*!sc*/
.hBvGcq .segmentedControl-content{-webkit-align-items:center;-webkit-box-align:center;-ms-flex-align:center;align-items:center;background-color:transparent;border-color:transparent;border-style:solid;border-width:1px;border-radius:calc(var(--segmented-control-outer-radius) - var(--segmented-control-button-bg-inset) / 2);display:-webkit-box;display:-webkit-flex;display:-ms-flexbox;display:flex;height:100%;-webkit-box-pack:center;-webkit-justify-content:center;-ms-flex-pack:center;justify-content:center;padding-left:calc(var(--segmented-control-button-inner-padding) - var(--segmented-control-button-bg-inset));padding-right:calc(var(--segmented-control-button-inner-padding) - var(--segmented-control-button-bg-inset));}/*!sc*/
.hBvGcq svg{fill:#656d76;}/*!sc*/
.hBvGcq:hover .segmentedControl-content{background-color:rgba(175,184,193,0.2);}/*!sc*/
.hBvGcq:active .segmentedControl-content{background-color:rgba(175,184,193,0.4);}/*!sc*/
.hBvGcq:focus:focus-visible:not(:last-child):after{width:0;}/*!sc*/
.hBvGcq .segmentedControl-text:after{content:"Blame";display:block;font-weight:600;height:0;overflow:hidden;pointer-events:none;-webkit-user-select:none;-moz-user-select:none;-ms-user-select:none;user-select:none;visibility:hidden;}/*!sc*/
@media (pointer:coarse){.hBvGcq:before{content:"";position:absolute;left:0;right:0;-webkit-transform:translateY(-50%);-ms-transform:translateY(-50%);transform:translateY(-50%);top:50%;min-height:44px;}}/*!sc*/
data-styled.g91[id="SegmentedControlButton__SegmentedControlButtonStyled-sc-8lkgxl-0"]{content:"bDmUQT,fzMylw,hBvGcq,"}/*!sc*/
.iYVwMz{background-color:#eaeef2;border-radius:6px;display:-webkit-inline-box;display:-webkit-inline-flex;display:-ms-inline-flexbox;display:inline-flex;font-size:14px;height:28px;margin:0;padding:0;}/*!sc*/
data-styled.g93[id="SegmentedControl__SegmentedControlList-sc-1rzig82-0"]{content:"iYVwMz,"}/*!sc*/
body[data-page-layout-dragging="true"]{cursor:col-resize;}/*!sc*/
body[data-page-layout-dragging="true"] *{-webkit-user-select:none;-moz-user-select:none;-ms-user-select:none;user-select:none;}/*!sc*/
data-styled.g97[id="sc-global-gbKrvU1"]{content:"sc-global-gbKrvU1,"}/*!sc*/
.gtekST{list-style:none;padding:0;margin:0;}/*!sc*/
.gtekST .PRIVATE_TreeView-item{outline:none;}/*!sc*/
.gtekST .PRIVATE_TreeView-item:focus-visible > div,.gtekST .PRIVATE_TreeView-item.focus-visible > div{box-shadow:inset 0 0 0 2px #0969da;}/*!sc*/
@media (forced-colors:active){.gtekST .PRIVATE_TreeView-item:focus-visible > div,.gtekST .PRIVATE_TreeView-item.focus-visible > div{outline:2px solid HighlightText;outline-offset:-2;}}/*!sc*/
.gtekST .PRIVATE_TreeView-item-container{--level:1;--toggle-width:1rem;position:relative;display:grid;grid-template-columns:calc(calc(var(--level) - 1) * (var(--toggle-width) / 2)) var(--toggle-width) 1fr;grid-template-areas:'spacer toggle content';width:100%;min-height:2rem;font-size:14px;color:#1F2328;border-radius:6px;cursor:pointer;}/*!sc*/
.gtekST .PRIVATE_TreeView-item-container:hover{background-color:rgba(208,215,222,0.32);}/*!sc*/
@media (forced-colors:active){.gtekST .PRIVATE_TreeView-item-container:hover{outline:2px solid transparent;outline-offset:-2px;}}/*!sc*/
@media (pointer:coarse){.gtekST .PRIVATE_TreeView-item-container{--toggle-width:1.5rem;min-height:2.75rem;}}/*!sc*/
.gtekST .PRIVATE_TreeView-item-container:has(.PRIVATE_TreeView-item-skeleton):hover{background-color:transparent;cursor:default;}/*!sc*/
@media (forced-colors:active){.gtekST .PRIVATE_TreeView-item-container:has(.PRIVATE_TreeView-item-skeleton):hover{outline:none;}}/*!sc*/
.gtekST[data-omit-spacer='true'] .PRIVATE_TreeView-item-container{grid-template-columns:0 0 1fr;}/*!sc*/
.gtekST .PRIVATE_TreeView-item[aria-current='true'] > .PRIVATE_TreeView-item-container{background-color:rgba(208,215,222,0.24);}/*!sc*/
.gtekST .PRIVATE_TreeView-item[aria-current='true'] > .PRIVATE_TreeView-item-container::after{content:'';position:absolute;top:calc(50% - 0.75rem);left:-8px;width:0.25rem;height:1.5rem;background-color:#0969da;border-radius:6px;}/*!sc*/
@media (forced-colors:active){.gtekST .PRIVATE_TreeView-item[aria-current='true'] > .PRIVATE_TreeView-item-container::after{background-color:HighlightText;}}/*!sc*/
.gtekST .PRIVATE_TreeView-item-toggle{grid-area:toggle;display:-webkit-box;display:-webkit-flex;display:-ms-flexbox;display:flex;-webkit-align-items:center;-webkit-box-align:center;-ms-flex-align:center;align-items:center;-webkit-box-pack:center;-webkit-justify-content:center;-ms-flex-pack:center;justify-content:center;height:100%;color:#656d76;}/*!sc*/
.gtekST .PRIVATE_TreeView-item-toggle--hover:hover{background-color:rgba(208,215,222,0.32);}/*!sc*/
.gtekST .PRIVATE_TreeView-item-toggle--end{border-top-left-radius:6px;border-bottom-left-radius:6px;}/*!sc*/
.gtekST .PRIVATE_TreeView-item-content{grid-area:content;display:-webkit-box;display:-webkit-flex;display:-ms-flexbox;display:flex;-webkit-align-items:center;-webkit-box-align:center;-ms-flex-align:center;align-items:center;height:100%;padding:0 8px;gap:8px;}/*!sc*/
.gtekST .PRIVATE_TreeView-item-content-text{-webkit-flex:1 1 auto;-ms-flex:1 1 auto;flex:1 1 auto;width:0;overflow:hidden;white-space:nowrap;text-overflow:ellipsis;}/*!sc*/
.gtekST .PRIVATE_TreeView-item-visual{display:-webkit-box;display:-webkit-flex;display:-ms-flexbox;display:flex;color:#656d76;}/*!sc*/
.gtekST .PRIVATE_TreeView-item-level-line{width:100%;height:100%;border-right:1px solid;border-color:rgba(31,35,40,0.15);}/*!sc*/
@media (hover:hover){.gtekST .PRIVATE_TreeView-item-level-line{border-color:transparent;}.gtekST:hover .PRIVATE_TreeView-item-level-line,.gtekST:focus-within .PRIVATE_TreeView-item-level-line{border-color:rgba(31,35,40,0.15);}}/*!sc*/
.gtekST .PRIVATE_TreeView-directory-icon{display:grid;color:#54aeff;}/*!sc*/
.gtekST .PRIVATE_VisuallyHidden{position:absolute;width:1px;height:1px;padding:0;margin:-1px;overflow:hidden;-webkit-clip:rect(0,0,0,0);clip:rect(0,0,0,0);white-space:nowrap;border-width:0;}/*!sc*/
data-styled.g104[id="TreeView__UlBox-sc-4ex6b6-0"]{content:"gtekST,"}/*!sc*/
</style><meta data-hydrostats="publish"/> <!-- --> <!-- --> <!-- --> <button hidden="" data-testid="header-permalink-button" data-hotkey-scope="read-only-cursor-text-area"></button><button hidden=""></button><div class="Box-sc-g0xbh4-0"><div style="--sticky-pane-height:100vh" class="Box-sc-g0xbh4-0 fSWWem"><div class="Box-sc-g0xbh4-0 kPPmzM"><div class="Box-sc-g0xbh4-0 cIAPDV"><div tabindex="0" class="Box-sc-g0xbh4-0 gvCnwW"><div class="Box-sc-g0xbh4-0 ioxSsX"><div class="Box-sc-g0xbh4-0 eUyHuk"></div><div class="Box-sc-g0xbh4-0 hAeDYA"><div role="separator" class="Box-sc-g0xbh4-0 ekKrwo"></div></div><div style="--pane-width:320px" class="Box-sc-g0xbh4-0 gNdDUH"><span class="_VisuallyHidden__VisuallyHidden-sc-11jhm7a-0 rTZSs"><form><label for=":Rdjal5:-width-input">Pane width</label><p id=":Rdjal5:-input-hint">Use a value between <!-- -->0<!-- -->% and <!-- -->0<!-- -->%</p><input id=":Rdjal5:-width-input" aria-describedby=":Rdjal5:-input-hint" name="pane-width" inputMode="numeric" pattern="[0-9]*" autoCorrect="off" autoComplete="off" type="text" value=""/><button type="submit">Change width</button></form></span><div class="Box-sc-g0xbh4-0 react-tree-pane-contents"><div id="repos-file-tree" class="Box-sc-g0xbh4-0 jywUSN"><div class="Box-sc-g0xbh4-0 hBSSUC"><div class="Box-sc-g0xbh4-0 iPurHz"><h2 class="Heading__StyledHeading-sc-1c1dgg0-0 fNPcqd"><button type="button" aria-label="Expand side panel" data-testid="expand-file-tree-button-mobile" class="types__StyledButton-sc-ws60qy-0 iBwhhC"><span data-component="buttonContent" class="Box-sc-g0xbh4-0 kkrdEu"><span data-component="leadingVisual" class="Box-sc-g0xbh4-0 trpoQ"><svg aria-hidden="true" focusable="false" role="img" class="octicon octicon-arrow-left" viewBox="0 0 16 16" width="16" height="16" fill="currentColor" style="display:inline-block;user-select:none;vertical-align:text-bottom;overflow:visible"><path d="M7.78 12.53a.75.75 0 0 1-1.06 0L2.47 8.28a.75.75 0 0 1 0-1.06l4.25-4.25a.751.751 0 0 1 1.042.018.751.751 0 0 1 .018 1.042L4.81 7h7.44a.75.75 0 0 1 0 1.5H4.81l2.97 2.97a.75.75 0 0 1 0 1.06Z"></path></svg></span><span data-component="text">Files</span></span></button><button data-component="IconButton" type="button" data-testid="collapse-file-tree-button" aria-label="Side panel" aria-expanded="true" aria-controls="repos-file-tree" class="types__StyledButton-sc-ws60qy-0 bpzCPD" data-no-visuals="true"><svg aria-hidden="true" focusable="false" role="img" class="octicon octicon-sidebar-expand" viewBox="0 0 16 16" width="16" height="16" fill="currentColor" style="display:inline-block;user-select:none;vertical-align:text-bottom;overflow:visible"><path d="m4.177 7.823 2.396-2.396A.25.25 0 0 1 7 5.604v4.792a.25.25 0 0 1-.427.177L4.177 8.177a.25.25 0 0 1 0-.354Z"></path><path d="M0 1.75C0 .784.784 0 1.75 0h12.5C15.216 0 16 .784 16 1.75v12.5A1.75 1.75 0 0 1 14.25 16H1.75A1.75 1.75 0 0 1 0 14.25Zm1.75-.25a.25.25 0 0 0-.25.25v12.5c0 .138.112.25.25.25H9.5v-13Zm12.5 13a.25.25 0 0 0 .25-.25V1.75a.25.25 0 0 0-.25-.25H11v13Z"></path></svg></button><button hidden="" data-testid="" data-hotkey-scope="read-only-cursor-text-area"></button></h2><h2 class="Heading__StyledHeading-sc-1c1dgg0-0 imcwCi">Files</h2></div><div class="Box-sc-g0xbh4-0 hVHHYa"><div class="Box-sc-g0xbh4-0 idZfsJ"><button type="button" id="branch-picker-repos-header-ref-selector" aria-haspopup="true" tabindex="0" aria-label="main branch" data-testid="anchor-button" class="types__StyledButton-sc-ws60qy-0 cpGorR react-repos-tree-pane-ref-selector width-full ref-selector-class"><span data-component="buttonContent" class="Box-sc-g0xbh4-0 kkrdEu"><span data-component="text"><div class="Box-sc-g0xbh4-0 bKgizp"><div class="Box-sc-g0xbh4-0 kYlvBX"><svg aria-hidden="true" focusable="false" role="img" class="octicon octicon-git-branch" viewBox="0 0 16 16" width="16" height="16" fill="currentColor" style="display:inline-block;user-select:none;vertical-align:text-bottom;overflow:visible"><path d="M9.5 3.25a2.25 2.25 0 1 1 3 2.122V6A2.5 2.5 0 0 1 10 8.5H6a1 1 0 0 0-1 1v1.128a2.251 2.251 0 1 1-1.5 0V5.372a2.25 2.25 0 1 1 1.5 0v1.836A2.493 2.493 0 0 1 6 7h4a1 1 0 0 0 1-1v-.628A2.25 2.25 0 0 1 9.5 3.25Zm-6 0a.75.75 0 1 0 1.5 0 .75.75 0 0 0-1.5 0Zm8.25-.75a.75.75 0 1 0 0 1.5.75.75 0 0 0 0-1.5ZM4.25 12a.75.75 0 1 0 0 1.5.75.75 0 0 0 0-1.5Z"></path></svg></div><div class="Box-sc-g0xbh4-0 caeYDk"><span class="Text-sc-17v1xeu-0 bOMzPg"> <!-- -->main</span></div></div></span><span data-component="trailingVisual" class="Box-sc-g0xbh4-0 trpoQ"><svg aria-hidden="true" focusable="false" role="img" class="octicon octicon-triangle-down" viewBox="0 0 16 16" width="16" height="16" fill="currentColor" style="display:inline-block;user-select:none;vertical-align:text-bottom;overflow:visible"><path d="m4.427 7.427 3.396 3.396a.25.25 0 0 0 .354 0l3.396-3.396A.25.25 0 0 0 11.396 7H4.604a.25.25 0 0 0-.177.427Z"></path></svg></span></span></button><button hidden="" data-hotkey-scope="read-only-cursor-text-area"></button></div><div class="Box-sc-g0xbh4-0 jahcnb"><span role="tooltip" aria-label="Add file" class="Tooltip__TooltipBase-sc-uha8qm-0 hFFfJn tooltipped-s"><a sx="[object Object]" data-component="IconButton" type="button" aria-label="Add file" data-no-visuals="true" class="types__StyledButton-sc-ws60qy-0 jOqXES" href="/cursodatafundamentals/granada/new/main/Day%206"><svg aria-hidden="true" focusable="false" role="img" class="octicon octicon-plus" viewBox="0 0 16 16" width="16" height="16" fill="currentColor" style="display:inline-block;user-select:none;vertical-align:text-bottom;overflow:visible"><path d="M7.75 2a.75.75 0 0 1 .75.75V7h4.25a.75.75 0 0 1 0 1.5H8.5v4.25a.75.75 0 0 1-1.5 0V8.5H2.75a.75.75 0 0 1 0-1.5H7V2.75A.75.75 0 0 1 7.75 2Z"></path></svg></a></span><button data-component="IconButton" type="button" aria-label="Search this repository" data-no-visuals="true" class="types__StyledButton-sc-ws60qy-0 dQkDZk"><svg aria-hidden="true" focusable="false" role="img" class="octicon octicon-search" viewBox="0 0 16 16" width="16" height="16" fill="currentColor" style="display:inline-block;user-select:none;vertical-align:text-bottom;overflow:visible"><path d="M10.68 11.74a6 6 0 0 1-7.922-8.982 6 6 0 0 1 8.982 7.922l3.04 3.04a.749.749 0 0 1-.326 1.275.749.749 0 0 1-.734-.215ZM11.5 7a4.499 4.499 0 1 0-8.997 0A4.499 4.499 0 0 0 11.5 7Z"></path></svg></button><button hidden="" data-testid="" data-hotkey-scope="read-only-cursor-text-area"></button></div></div></div><div class="Box-sc-g0xbh4-0 ccToMy"><button hidden="" data-testid="" data-hotkey-scope="read-only-cursor-text-area"></button><button hidden=""></button><span class="TextInputWrapper__TextInputBaseWrapper-sc-1mqhpbi-0 TextInputWrapper-sc-1mqhpbi-1 cgNHBf cuQjCh TextInput-wrapper" aria-busy="false"><span class="TextInput-icon"><svg aria-hidden="true" focusable="false" role="img" class="octicon octicon-search" viewBox="0 0 16 16" width="16" height="16" fill="currentColor" style="display:inline-block;user-select:none;vertical-align:text-bottom;overflow:visible"><path d="M10.68 11.74a6 6 0 0 1-7.922-8.982 6 6 0 0 1 8.982 7.922l3.04 3.04a.749.749 0 0 1-.326 1.275.749.749 0 0 1-.734-.215ZM11.5 7a4.499 4.499 0 1 0-8.997 0A4.499 4.499 0 0 0 11.5 7Z"></path></svg></span><input type="text" aria-label="Go to file" role="combobox" aria-controls="file-results-list" aria-expanded="false" aria-haspopup="dialog" autoCorrect="off" spellcheck="false" placeholder="Go to file" data-component="input" class="UnstyledTextInput-sc-14ypya-0 cDLBls" value=""/><span class="TextInput-icon"><div class="Box-sc-g0xbh4-0 cNvKlH"><kbd>t</kbd></div></span></span></div><div class="Box-sc-g0xbh4-0 cLfAnm"><div class="react-tree-show-tree-items"><div data-testid="repos-file-tree-container" class="Box-sc-g0xbh4-0 erWCJP"><nav aria-label="File Tree Navigation"><span role="status" aria-live="polite" aria-atomic="true" class="_VisuallyHidden__VisuallyHidden-sc-11jhm7a-0 rTZSs"></span><ul role="tree" aria-label="Files" class="TreeView__UlBox-sc-4ex6b6-0 gtekST"><li class="PRIVATE_TreeView-item" tabindex="0" id="Day 1-item" role="treeitem" aria-labelledby=":Rqcndjal5:" aria-describedby=":Rqcndjal5H1: :Rqcndjal5H2:" aria-level="1" aria-expanded="false" aria-selected="false"><div class="PRIVATE_TreeView-item-container" style="--level:1;content-visibility:auto;contain-intrinsic-size:auto 2rem"><div style="grid-area:spacer;display:flex"><div style="width:100%;display:flex"></div></div><div class="PRIVATE_TreeView-item-toggle PRIVATE_TreeView-item-toggle--hover PRIVATE_TreeView-item-toggle--end"><svg aria-hidden="true" focusable="false" role="img" class="octicon octicon-chevron-right" viewBox="0 0 12 12" width="12" height="12" fill="currentColor" style="display:inline-block;user-select:none;vertical-align:text-bottom;overflow:visible"><path d="M4.7 10c-.2 0-.4-.1-.5-.2-.3-.3-.3-.8 0-1.1L6.9 6 4.2 3.3c-.3-.3-.3-.8 0-1.1.3-.3.8-.3 1.1 0l3.3 3.2c.3.3.3.8 0 1.1L5.3 9.7c-.2.2-.4.3-.6.3Z"></path></svg></div><div id=":Rqcndjal5:" class="PRIVATE_TreeView-item-content"><div class="PRIVATE_VisuallyHidden" aria-hidden="true" id=":Rqcndjal5H1:"></div><div class="PRIVATE_TreeView-item-visual" aria-hidden="true"><div class="PRIVATE_TreeView-directory-icon"><svg aria-hidden="true" focusable="false" role="img" class="octicon octicon-file-directory-fill" viewBox="0 0 16 16" width="16" height="16" fill="currentColor" style="display:inline-block;user-select:none;vertical-align:text-bottom;overflow:visible"><path d="M1.75 1A1.75 1.75 0 0 0 0 2.75v10.5C0 14.216.784 15 1.75 15h12.5A1.75 1.75 0 0 0 16 13.25v-8.5A1.75 1.75 0 0 0 14.25 3H7.5a.25.25 0 0 1-.2-.1l-.9-1.2C6.07 1.26 5.55 1 5 1H1.75Z"></path></svg></div></div><span class="PRIVATE_TreeView-item-content-text"><span>Day 1</span></span></div></div></li><li class="PRIVATE_TreeView-item" tabindex="0" id="Day 2-item" role="treeitem" aria-labelledby=":R1acndjal5:" aria-describedby=":R1acndjal5H1: :R1acndjal5H2:" aria-level="1" aria-expanded="false" aria-selected="false"><div class="PRIVATE_TreeView-item-container" style="--level:1;content-visibility:auto;contain-intrinsic-size:auto 2rem"><div style="grid-area:spacer;display:flex"><div style="width:100%;display:flex"></div></div><div class="PRIVATE_TreeView-item-toggle PRIVATE_TreeView-item-toggle--hover PRIVATE_TreeView-item-toggle--end"><svg aria-hidden="true" focusable="false" role="img" class="octicon octicon-chevron-right" viewBox="0 0 12 12" width="12" height="12" fill="currentColor" style="display:inline-block;user-select:none;vertical-align:text-bottom;overflow:visible"><path d="M4.7 10c-.2 0-.4-.1-.5-.2-.3-.3-.3-.8 0-1.1L6.9 6 4.2 3.3c-.3-.3-.3-.8 0-1.1.3-.3.8-.3 1.1 0l3.3 3.2c.3.3.3.8 0 1.1L5.3 9.7c-.2.2-.4.3-.6.3Z"></path></svg></div><div id=":R1acndjal5:" class="PRIVATE_TreeView-item-content"><div class="PRIVATE_VisuallyHidden" aria-hidden="true" id=":R1acndjal5H1:"></div><div class="PRIVATE_TreeView-item-visual" aria-hidden="true"><div class="PRIVATE_TreeView-directory-icon"><svg aria-hidden="true" focusable="false" role="img" class="octicon octicon-file-directory-fill" viewBox="0 0 16 16" width="16" height="16" fill="currentColor" style="display:inline-block;user-select:none;vertical-align:text-bottom;overflow:visible"><path d="M1.75 1A1.75 1.75 0 0 0 0 2.75v10.5C0 14.216.784 15 1.75 15h12.5A1.75 1.75 0 0 0 16 13.25v-8.5A1.75 1.75 0 0 0 14.25 3H7.5a.25.25 0 0 1-.2-.1l-.9-1.2C6.07 1.26 5.55 1 5 1H1.75Z"></path></svg></div></div><span class="PRIVATE_TreeView-item-content-text"><span>Day 2</span></span></div></div></li><li class="PRIVATE_TreeView-item" tabindex="0" id="Day 3-item" role="treeitem" aria-labelledby=":R1qcndjal5:" aria-describedby=":R1qcndjal5H1: :R1qcndjal5H2:" aria-level="1" aria-expanded="false" aria-selected="false"><div class="PRIVATE_TreeView-item-container" style="--level:1;content-visibility:auto;contain-intrinsic-size:auto 2rem"><div style="grid-area:spacer;display:flex"><div style="width:100%;display:flex"></div></div><div class="PRIVATE_TreeView-item-toggle PRIVATE_TreeView-item-toggle--hover PRIVATE_TreeView-item-toggle--end"><svg aria-hidden="true" focusable="false" role="img" class="octicon octicon-chevron-right" viewBox="0 0 12 12" width="12" height="12" fill="currentColor" style="display:inline-block;user-select:none;vertical-align:text-bottom;overflow:visible"><path d="M4.7 10c-.2 0-.4-.1-.5-.2-.3-.3-.3-.8 0-1.1L6.9 6 4.2 3.3c-.3-.3-.3-.8 0-1.1.3-.3.8-.3 1.1 0l3.3 3.2c.3.3.3.8 0 1.1L5.3 9.7c-.2.2-.4.3-.6.3Z"></path></svg></div><div id=":R1qcndjal5:" class="PRIVATE_TreeView-item-content"><div class="PRIVATE_VisuallyHidden" aria-hidden="true" id=":R1qcndjal5H1:"></div><div class="PRIVATE_TreeView-item-visual" aria-hidden="true"><div class="PRIVATE_TreeView-directory-icon"><svg aria-hidden="true" focusable="false" role="img" class="octicon octicon-file-directory-fill" viewBox="0 0 16 16" width="16" height="16" fill="currentColor" style="display:inline-block;user-select:none;vertical-align:text-bottom;overflow:visible"><path d="M1.75 1A1.75 1.75 0 0 0 0 2.75v10.5C0 14.216.784 15 1.75 15h12.5A1.75 1.75 0 0 0 16 13.25v-8.5A1.75 1.75 0 0 0 14.25 3H7.5a.25.25 0 0 1-.2-.1l-.9-1.2C6.07 1.26 5.55 1 5 1H1.75Z"></path></svg></div></div><span class="PRIVATE_TreeView-item-content-text"><span>Day 3</span></span></div></div></li><li class="PRIVATE_TreeView-item" tabindex="0" id="Day 4-item" role="treeitem" aria-labelledby=":R2acndjal5:" aria-describedby=":R2acndjal5H1: :R2acndjal5H2:" aria-level="1" aria-expanded="false" aria-selected="false"><div class="PRIVATE_TreeView-item-container" style="--level:1;content-visibility:auto;contain-intrinsic-size:auto 2rem"><div style="grid-area:spacer;display:flex"><div style="width:100%;display:flex"></div></div><div class="PRIVATE_TreeView-item-toggle PRIVATE_TreeView-item-toggle--hover PRIVATE_TreeView-item-toggle--end"><svg aria-hidden="true" focusable="false" role="img" class="octicon octicon-chevron-right" viewBox="0 0 12 12" width="12" height="12" fill="currentColor" style="display:inline-block;user-select:none;vertical-align:text-bottom;overflow:visible"><path d="M4.7 10c-.2 0-.4-.1-.5-.2-.3-.3-.3-.8 0-1.1L6.9 6 4.2 3.3c-.3-.3-.3-.8 0-1.1.3-.3.8-.3 1.1 0l3.3 3.2c.3.3.3.8 0 1.1L5.3 9.7c-.2.2-.4.3-.6.3Z"></path></svg></div><div id=":R2acndjal5:" class="PRIVATE_TreeView-item-content"><div class="PRIVATE_VisuallyHidden" aria-hidden="true" id=":R2acndjal5H1:"></div><div class="PRIVATE_TreeView-item-visual" aria-hidden="true"><div class="PRIVATE_TreeView-directory-icon"><svg aria-hidden="true" focusable="false" role="img" class="octicon octicon-file-directory-fill" viewBox="0 0 16 16" width="16" height="16" fill="currentColor" style="display:inline-block;user-select:none;vertical-align:text-bottom;overflow:visible"><path d="M1.75 1A1.75 1.75 0 0 0 0 2.75v10.5C0 14.216.784 15 1.75 15h12.5A1.75 1.75 0 0 0 16 13.25v-8.5A1.75 1.75 0 0 0 14.25 3H7.5a.25.25 0 0 1-.2-.1l-.9-1.2C6.07 1.26 5.55 1 5 1H1.75Z"></path></svg></div></div><span class="PRIVATE_TreeView-item-content-text"><span>Day 4</span></span></div></div></li><li class="PRIVATE_TreeView-item" tabindex="0" id="Day 5-item" role="treeitem" aria-labelledby=":R2qcndjal5:" aria-describedby=":R2qcndjal5H1: :R2qcndjal5H2:" aria-level="1" aria-expanded="false" aria-selected="false"><div class="PRIVATE_TreeView-item-container" style="--level:1;content-visibility:auto;contain-intrinsic-size:auto 2rem"><div style="grid-area:spacer;display:flex"><div style="width:100%;display:flex"></div></div><div class="PRIVATE_TreeView-item-toggle PRIVATE_TreeView-item-toggle--hover PRIVATE_TreeView-item-toggle--end"><svg aria-hidden="true" focusable="false" role="img" class="octicon octicon-chevron-right" viewBox="0 0 12 12" width="12" height="12" fill="currentColor" style="display:inline-block;user-select:none;vertical-align:text-bottom;overflow:visible"><path d="M4.7 10c-.2 0-.4-.1-.5-.2-.3-.3-.3-.8 0-1.1L6.9 6 4.2 3.3c-.3-.3-.3-.8 0-1.1.3-.3.8-.3 1.1 0l3.3 3.2c.3.3.3.8 0 1.1L5.3 9.7c-.2.2-.4.3-.6.3Z"></path></svg></div><div id=":R2qcndjal5:" class="PRIVATE_TreeView-item-content"><div class="PRIVATE_VisuallyHidden" aria-hidden="true" id=":R2qcndjal5H1:"></div><div class="PRIVATE_TreeView-item-visual" aria-hidden="true"><div class="PRIVATE_TreeView-directory-icon"><svg aria-hidden="true" focusable="false" role="img" class="octicon octicon-file-directory-fill" viewBox="0 0 16 16" width="16" height="16" fill="currentColor" style="display:inline-block;user-select:none;vertical-align:text-bottom;overflow:visible"><path d="M1.75 1A1.75 1.75 0 0 0 0 2.75v10.5C0 14.216.784 15 1.75 15h12.5A1.75 1.75 0 0 0 16 13.25v-8.5A1.75 1.75 0 0 0 14.25 3H7.5a.25.25 0 0 1-.2-.1l-.9-1.2C6.07 1.26 5.55 1 5 1H1.75Z"></path></svg></div></div><span class="PRIVATE_TreeView-item-content-text"><span>Day 5</span></span></div></div></li><li class="PRIVATE_TreeView-item" tabindex="0" id="Day 6-item" role="treeitem" aria-labelledby=":R3acndjal5:" aria-describedby=":R3acndjal5H1: :R3acndjal5H2:" aria-level="1" aria-expanded="true" aria-selected="false"><div class="PRIVATE_TreeView-item-container" style="--level:1;content-visibility:auto;contain-intrinsic-size:auto 2rem"><div style="grid-area:spacer;display:flex"><div style="width:100%;display:flex"></div></div><div class="PRIVATE_TreeView-item-toggle PRIVATE_TreeView-item-toggle--hover PRIVATE_TreeView-item-toggle--end"><svg aria-hidden="true" focusable="false" role="img" class="octicon octicon-chevron-down" viewBox="0 0 12 12" width="12" height="12" fill="currentColor" style="display:inline-block;user-select:none;vertical-align:text-bottom;overflow:visible"><path d="M6 8.825c-.2 0-.4-.1-.5-.2l-3.3-3.3c-.3-.3-.3-.8 0-1.1.3-.3.8-.3 1.1 0l2.7 2.7 2.7-2.7c.3-.3.8-.3 1.1 0 .3.3.3.8 0 1.1l-3.2 3.2c-.2.2-.4.3-.6.3Z"></path></svg></div><div id=":R3acndjal5:" class="PRIVATE_TreeView-item-content"><div class="PRIVATE_VisuallyHidden" aria-hidden="true" id=":R3acndjal5H1:"></div><div class="PRIVATE_TreeView-item-visual" aria-hidden="true"><div class="PRIVATE_TreeView-directory-icon"><svg aria-hidden="true" focusable="false" role="img" class="octicon octicon-file-directory-open-fill" viewBox="0 0 16 16" width="16" height="16" fill="currentColor" style="display:inline-block;user-select:none;vertical-align:text-bottom;overflow:visible"><path d="M.513 1.513A1.75 1.75 0 0 1 1.75 1h3.5c.55 0 1.07.26 1.4.7l.9 1.2a.25.25 0 0 0 .2.1H13a1 1 0 0 1 1 1v.5H2.75a.75.75 0 0 0 0 1.5h11.978a1 1 0 0 1 .994 1.117L15 13.25A1.75 1.75 0 0 1 13.25 15H1.75A1.75 1.75 0 0 1 0 13.25V2.75c0-.464.184-.91.513-1.237Z"></path></svg></div></div><span class="PRIVATE_TreeView-item-content-text"><span>Day 6</span></span></div></div><ul role="group" style="list-style:none;padding:0;margin:0"><li class="PRIVATE_TreeView-item" tabindex="0" id="Day 6/M5 - 04 - Funciones - Solución.ipynb-item" role="treeitem" aria-labelledby=":Rbbacndjal5:" aria-describedby=":Rbbacndjal5H1: :Rbbacndjal5H2:" aria-level="2" aria-selected="false"><div class="PRIVATE_TreeView-item-container" style="--level:2;content-visibility:auto;contain-intrinsic-size:auto 2rem"><div style="grid-area:spacer;display:flex"><div style="width:100%;display:flex"><div class="PRIVATE_TreeView-item-level-line"></div></div></div><div id=":Rbbacndjal5:" class="PRIVATE_TreeView-item-content"><div class="PRIVATE_VisuallyHidden" aria-hidden="true" id=":Rbbacndjal5H1:"></div><div class="PRIVATE_TreeView-item-visual" aria-hidden="true"><svg aria-hidden="true" focusable="false" role="img" class="octicon octicon-file" viewBox="0 0 16 16" width="16" height="16" fill="currentColor" style="display:inline-block;user-select:none;vertical-align:text-bottom;overflow:visible"><path d="M2 1.75C2 .784 2.784 0 3.75 0h6.586c.464 0 .909.184 1.237.513l2.914 2.914c.329.328.513.773.513 1.237v9.586A1.75 1.75 0 0 1 13.25 16h-9.5A1.75 1.75 0 0 1 2 14.25Zm1.75-.25a.25.25 0 0 0-.25.25v12.5c0 .138.112.25.25.25h9.5a.25.25 0 0 0 .25-.25V6h-2.75A1.75 1.75 0 0 1 9 4.25V1.5Zm6.75.062V4.25c0 .138.112.25.25.25h2.688l-.011-.013-2.914-2.914-.013-.011Z"></path></svg></div><span class="PRIVATE_TreeView-item-content-text"><span>M5 - 04 - Funciones - Solución.ipynb</span></span></div></div></li><li class="PRIVATE_TreeView-item" tabindex="0" id="Day 6/M5 - 04 - Funciones.ipynb-item" role="treeitem" aria-labelledby=":Rjbacndjal5:" aria-describedby=":Rjbacndjal5H1: :Rjbacndjal5H2:" aria-level="2" aria-current="true" aria-selected="false"><div class="PRIVATE_TreeView-item-container" style="--level:2"><div style="grid-area:spacer;display:flex"><div style="width:100%;display:flex"><div class="PRIVATE_TreeView-item-level-line"></div></div></div><div id=":Rjbacndjal5:" class="PRIVATE_TreeView-item-content"><div class="PRIVATE_VisuallyHidden" aria-hidden="true" id=":Rjbacndjal5H1:"></div><div class="PRIVATE_TreeView-item-visual" aria-hidden="true"><svg aria-hidden="true" focusable="false" role="img" class="octicon octicon-file" viewBox="0 0 16 16" width="16" height="16" fill="currentColor" style="display:inline-block;user-select:none;vertical-align:text-bottom;overflow:visible"><path d="M2 1.75C2 .784 2.784 0 3.75 0h6.586c.464 0 .909.184 1.237.513l2.914 2.914c.329.328.513.773.513 1.237v9.586A1.75 1.75 0 0 1 13.25 16h-9.5A1.75 1.75 0 0 1 2 14.25Zm1.75-.25a.25.25 0 0 0-.25.25v12.5c0 .138.112.25.25.25h9.5a.25.25 0 0 0 .25-.25V6h-2.75A1.75 1.75 0 0 1 9 4.25V1.5Zm6.75.062V4.25c0 .138.112.25.25.25h2.688l-.011-.013-2.914-2.914-.013-.011Z"></path></svg></div><span class="PRIVATE_TreeView-item-content-text"><span>M5 - 04 - Funciones.ipynb</span></span></div></div></li><li class="PRIVATE_TreeView-item" tabindex="0" id="Day 6/M5 - 05 - Clases.ipynb-item" role="treeitem" aria-labelledby=":Rrbacndjal5:" aria-describedby=":Rrbacndjal5H1: :Rrbacndjal5H2:" aria-level="2" aria-selected="false"><div class="PRIVATE_TreeView-item-container" style="--level:2;content-visibility:auto;contain-intrinsic-size:auto 2rem"><div style="grid-area:spacer;display:flex"><div style="width:100%;display:flex"><div class="PRIVATE_TreeView-item-level-line"></div></div></div><div id=":Rrbacndjal5:" class="PRIVATE_TreeView-item-content"><div class="PRIVATE_VisuallyHidden" aria-hidden="true" id=":Rrbacndjal5H1:"></div><div class="PRIVATE_TreeView-item-visual" aria-hidden="true"><svg aria-hidden="true" focusable="false" role="img" class="octicon octicon-file" viewBox="0 0 16 16" width="16" height="16" fill="currentColor" style="display:inline-block;user-select:none;vertical-align:text-bottom;overflow:visible"><path d="M2 1.75C2 .784 2.784 0 3.75 0h6.586c.464 0 .909.184 1.237.513l2.914 2.914c.329.328.513.773.513 1.237v9.586A1.75 1.75 0 0 1 13.25 16h-9.5A1.75 1.75 0 0 1 2 14.25Zm1.75-.25a.25.25 0 0 0-.25.25v12.5c0 .138.112.25.25.25h9.5a.25.25 0 0 0 .25-.25V6h-2.75A1.75 1.75 0 0 1 9 4.25V1.5Zm6.75.062V4.25c0 .138.112.25.25.25h2.688l-.011-.013-2.914-2.914-.013-.011Z"></path></svg></div><span class="PRIVATE_TreeView-item-content-text"><span>M5 - 05 - Clases.ipynb</span></span></div></div></li><li class="PRIVATE_TreeView-item" tabindex="0" id="Day 6/M5 - 05 - EXTRA - Clases - Solución.ipynb-item" role="treeitem" aria-labelledby=":R13bacndjal5:" aria-describedby=":R13bacndjal5H1: :R13bacndjal5H2:" aria-level="2" aria-selected="false"><div class="PRIVATE_TreeView-item-container" style="--level:2;content-visibility:auto;contain-intrinsic-size:auto 2rem"><div style="grid-area:spacer;display:flex"><div style="width:100%;display:flex"><div class="PRIVATE_TreeView-item-level-line"></div></div></div><div id=":R13bacndjal5:" class="PRIVATE_TreeView-item-content"><div class="PRIVATE_VisuallyHidden" aria-hidden="true" id=":R13bacndjal5H1:"></div><div class="PRIVATE_TreeView-item-visual" aria-hidden="true"><svg aria-hidden="true" focusable="false" role="img" class="octicon octicon-file" viewBox="0 0 16 16" width="16" height="16" fill="currentColor" style="display:inline-block;user-select:none;vertical-align:text-bottom;overflow:visible"><path d="M2 1.75C2 .784 2.784 0 3.75 0h6.586c.464 0 .909.184 1.237.513l2.914 2.914c.329.328.513.773.513 1.237v9.586A1.75 1.75 0 0 1 13.25 16h-9.5A1.75 1.75 0 0 1 2 14.25Zm1.75-.25a.25.25 0 0 0-.25.25v12.5c0 .138.112.25.25.25h9.5a.25.25 0 0 0 .25-.25V6h-2.75A1.75 1.75 0 0 1 9 4.25V1.5Zm6.75.062V4.25c0 .138.112.25.25.25h2.688l-.011-.013-2.914-2.914-.013-.011Z"></path></svg></div><span class="PRIVATE_TreeView-item-content-text"><span>M5 - 05 - EXTRA - Clases - Solución.ipynb</span></span></div></div></li></ul></li><li class="PRIVATE_TreeView-item" tabindex="0" id="Presentaciones-item" role="treeitem" aria-labelledby=":R3qcndjal5:" aria-describedby=":R3qcndjal5H1: :R3qcndjal5H2:" aria-level="1" aria-expanded="false" aria-selected="false"><div class="PRIVATE_TreeView-item-container" style="--level:1;content-visibility:auto;contain-intrinsic-size:auto 2rem"><div style="grid-area:spacer;display:flex"><div style="width:100%;display:flex"></div></div><div class="PRIVATE_TreeView-item-toggle PRIVATE_TreeView-item-toggle--hover PRIVATE_TreeView-item-toggle--end"><svg aria-hidden="true" focusable="false" role="img" class="octicon octicon-chevron-right" viewBox="0 0 12 12" width="12" height="12" fill="currentColor" style="display:inline-block;user-select:none;vertical-align:text-bottom;overflow:visible"><path d="M4.7 10c-.2 0-.4-.1-.5-.2-.3-.3-.3-.8 0-1.1L6.9 6 4.2 3.3c-.3-.3-.3-.8 0-1.1.3-.3.8-.3 1.1 0l3.3 3.2c.3.3.3.8 0 1.1L5.3 9.7c-.2.2-.4.3-.6.3Z"></path></svg></div><div id=":R3qcndjal5:" class="PRIVATE_TreeView-item-content"><div class="PRIVATE_VisuallyHidden" aria-hidden="true" id=":R3qcndjal5H1:"></div><div class="PRIVATE_TreeView-item-visual" aria-hidden="true"><div class="PRIVATE_TreeView-directory-icon"><svg aria-hidden="true" focusable="false" role="img" class="octicon octicon-file-directory-fill" viewBox="0 0 16 16" width="16" height="16" fill="currentColor" style="display:inline-block;user-select:none;vertical-align:text-bottom;overflow:visible"><path d="M1.75 1A1.75 1.75 0 0 0 0 2.75v10.5C0 14.216.784 15 1.75 15h12.5A1.75 1.75 0 0 0 16 13.25v-8.5A1.75 1.75 0 0 0 14.25 3H7.5a.25.25 0 0 1-.2-.1l-.9-1.2C6.07 1.26 5.55 1 5 1H1.75Z"></path></svg></div></div><span class="PRIVATE_TreeView-item-content-text"><span>Presentaciones</span></span></div></div></li><li class="PRIVATE_TreeView-item" tabindex="0" id="README.md-item" role="treeitem" aria-labelledby=":R4acndjal5:" aria-describedby=":R4acndjal5H1: :R4acndjal5H2:" aria-level="1" aria-selected="false"><div class="PRIVATE_TreeView-item-container" style="--level:1;content-visibility:auto;contain-intrinsic-size:auto 2rem"><div style="grid-area:spacer;display:flex"><div style="width:100%;display:flex"></div></div><div id=":R4acndjal5:" class="PRIVATE_TreeView-item-content"><div class="PRIVATE_VisuallyHidden" aria-hidden="true" id=":R4acndjal5H1:"></div><div class="PRIVATE_TreeView-item-visual" aria-hidden="true"><svg aria-hidden="true" focusable="false" role="img" class="octicon octicon-file" viewBox="0 0 16 16" width="16" height="16" fill="currentColor" style="display:inline-block;user-select:none;vertical-align:text-bottom;overflow:visible"><path d="M2 1.75C2 .784 2.784 0 3.75 0h6.586c.464 0 .909.184 1.237.513l2.914 2.914c.329.328.513.773.513 1.237v9.586A1.75 1.75 0 0 1 13.25 16h-9.5A1.75 1.75 0 0 1 2 14.25Zm1.75-.25a.25.25 0 0 0-.25.25v12.5c0 .138.112.25.25.25h9.5a.25.25 0 0 0 .25-.25V6h-2.75A1.75 1.75 0 0 1 9 4.25V1.5Zm6.75.062V4.25c0 .138.112.25.25.25h2.688l-.011-.013-2.914-2.914-.013-.011Z"></path></svg></div><span class="PRIVATE_TreeView-item-content-text"><span>README.md</span></span></div></div></li></ul></nav></div></div><div class="Box-sc-g0xbh4-0 hwhShM"><div class="Box-sc-g0xbh4-0 cYPxpP"><a href="https://docs.github.com/repositories/working-with-files/using-files/navigating-code-on-github" target="_blank" class="Link__StyledLink-sc-14289xe-0 fIqerb">Documentation</a> • <a href="https://github.com/orgs/community/discussions/54546" target="_blank" class="Link__StyledLink-sc-14289xe-0 fIqerb">Share feedback</a></div></div></div><div class="Box-sc-g0xbh4-0 fBtiVT"><div class="Box-sc-g0xbh4-0 cYPxpP"><a href="https://docs.github.com/repositories/working-with-files/using-files/navigating-code-on-github" target="_blank" class="Link__StyledLink-sc-14289xe-0 fIqerb">Documentation</a> • <a href="https://github.com/orgs/community/discussions/54546" target="_blank" class="Link__StyledLink-sc-14289xe-0 fIqerb">Share feedback</a></div></div></div></div></div></div></div><main class="Box-sc-g0xbh4-0 emFMJu"><div class="Box-sc-g0xbh4-0"></div><div class="Box-sc-g0xbh4-0 hlUAHL"><div data-selector="repos-split-pane-content" tabindex="0" class="Box-sc-g0xbh4-0 iStsmI"><div class="Box-sc-g0xbh4-0 eIgvIk"><div class="Box-sc-g0xbh4-0 eVFfWF container"><div class="Box-sc-g0xbh4-0 kgXdnT react-code-view-header--narrow"><div class="Box-sc-g0xbh4-0 kzTa-dF"><div class="Box-sc-g0xbh4-0 bbXCl"><h2 class="Heading__StyledHeading-sc-1c1dgg0-0 fNPcqd"><button type="button" aria-label="Expand side panel" data-testid="expand-file-tree-button-mobile" class="types__StyledButton-sc-ws60qy-0 iBwhhC"><span data-component="buttonContent" class="Box-sc-g0xbh4-0 kkrdEu"><span data-component="leadingVisual" class="Box-sc-g0xbh4-0 trpoQ"><svg aria-hidden="true" focusable="false" role="img" class="octicon octicon-arrow-left" viewBox="0 0 16 16" width="16" height="16" fill="currentColor" style="display:inline-block;user-select:none;vertical-align:text-bottom;overflow:visible"><path d="M7.78 12.53a.75.75 0 0 1-1.06 0L2.47 8.28a.75.75 0 0 1 0-1.06l4.25-4.25a.751.751 0 0 1 1.042.018.751.751 0 0 1 .018 1.042L4.81 7h7.44a.75.75 0 0 1 0 1.5H4.81l2.97 2.97a.75.75 0 0 1 0 1.06Z"></path></svg></span><span data-component="text">Files</span></span></button><button data-component="IconButton" type="button" data-testid="collapse-file-tree-button" aria-label="Side panel" aria-expanded="true" aria-controls="repos-file-tree" class="types__StyledButton-sc-ws60qy-0 bpzCPD" data-no-visuals="true"><svg aria-hidden="true" focusable="false" role="img" class="octicon octicon-sidebar-expand" viewBox="0 0 16 16" width="16" height="16" fill="currentColor" style="display:inline-block;user-select:none;vertical-align:text-bottom;overflow:visible"><path d="m4.177 7.823 2.396-2.396A.25.25 0 0 1 7 5.604v4.792a.25.25 0 0 1-.427.177L4.177 8.177a.25.25 0 0 1 0-.354Z"></path><path d="M0 1.75C0 .784.784 0 1.75 0h12.5C15.216 0 16 .784 16 1.75v12.5A1.75 1.75 0 0 1 14.25 16H1.75A1.75 1.75 0 0 1 0 14.25Zm1.75-.25a.25.25 0 0 0-.25.25v12.5c0 .138.112.25.25.25H9.5v-13Zm12.5 13a.25.25 0 0 0 .25-.25V1.75a.25.25 0 0 0-.25-.25H11v13Z"></path></svg></button><button hidden="" data-testid="" data-hotkey-scope="read-only-cursor-text-area"></button></h2><div class="Box-sc-g0xbh4-0 hGGMNu"><div class="Box-sc-g0xbh4-0 eHRrYV"><button type="button" id="branch-picker-repos-header-ref-selector-narrow" aria-haspopup="true" tabindex="0" aria-label="main branch" data-testid="anchor-button" class="types__StyledButton-sc-ws60qy-0 iwngiV ref-selector-class"><span data-component="buttonContent" class="Box-sc-g0xbh4-0 kkrdEu"><span data-component="text"><div class="Box-sc-g0xbh4-0 bKgizp"><div class="Box-sc-g0xbh4-0 kYlvBX"><svg aria-hidden="true" focusable="false" role="img" class="octicon octicon-git-branch" viewBox="0 0 16 16" width="16" height="16" fill="currentColor" style="display:inline-block;user-select:none;vertical-align:text-bottom;overflow:visible"><path d="M9.5 3.25a2.25 2.25 0 1 1 3 2.122V6A2.5 2.5 0 0 1 10 8.5H6a1 1 0 0 0-1 1v1.128a2.251 2.251 0 1 1-1.5 0V5.372a2.25 2.25 0 1 1 1.5 0v1.836A2.493 2.493 0 0 1 6 7h4a1 1 0 0 0 1-1v-.628A2.25 2.25 0 0 1 9.5 3.25Zm-6 0a.75.75 0 1 0 1.5 0 .75.75 0 0 0-1.5 0Zm8.25-.75a.75.75 0 1 0 0 1.5.75.75 0 0 0 0-1.5ZM4.25 12a.75.75 0 1 0 0 1.5.75.75 0 0 0 0-1.5Z"></path></svg></div><div class="Box-sc-g0xbh4-0 dKmYfk"><span class="Text-sc-17v1xeu-0 bOMzPg"> <!-- -->main</span></div></div></span><span data-component="trailingVisual" class="Box-sc-g0xbh4-0 trpoQ"><svg aria-hidden="true" focusable="false" role="img" class="octicon octicon-triangle-down" viewBox="0 0 16 16" width="16" height="16" fill="currentColor" style="display:inline-block;user-select:none;vertical-align:text-bottom;overflow:visible"><path d="m4.427 7.427 3.396 3.396a.25.25 0 0 0 .354 0l3.396-3.396A.25.25 0 0 0 11.396 7H4.604a.25.25 0 0 0-.177.427Z"></path></svg></span></span></button><button hidden="" data-hotkey-scope="read-only-cursor-text-area"></button></div> <button type="button" data-no-visuals="true" class="types__StyledButton-sc-ws60qy-0 hMBGua"><span data-component="buttonContent" class="Box-sc-g0xbh4-0 kkrdEu"><span data-component="text">Blame</span></span></button><button hidden="" data-testid="" data-hotkey-scope="read-only-cursor-text-area"></button><button data-component="IconButton" type="button" aria-label="More file actions" class="types__StyledButton-sc-ws60qy-0 bDzORU js-blob-dropdown-click" title="More file actions" data-testid="more-file-actions-button" id=":R9aaqjal5:" aria-haspopup="true" tabindex="0" data-no-visuals="true"><svg aria-hidden="true" focusable="false" role="img" class="octicon octicon-kebab-horizontal" viewBox="0 0 16 16" width="16" height="16" fill="currentColor" style="display:inline-block;user-select:none;vertical-align:text-bottom;overflow:visible"><path d="M8 9a1.5 1.5 0 1 0 0-3 1.5 1.5 0 0 0 0 3ZM1.5 9a1.5 1.5 0 1 0 0-3 1.5 1.5 0 0 0 0 3Zm13 0a1.5 1.5 0 1 0 0-3 1.5 1.5 0 0 0 0 3Z"></path></svg></button> </div></div><div class="Box-sc-g0xbh4-0 hSNzKh"><div class="Box-sc-g0xbh4-0 eTvGbF"><nav data-testid="breadcrumbs" aria-labelledby="repos-header-breadcrumb-mobile-heading" id="repos-header-breadcrumb-mobile" class="Box-sc-g0xbh4-0 kzRgrI"><h2 class="Heading__StyledHeading-sc-1c1dgg0-0 cgQnMS sr-only" data-testid="screen-reader-heading" id="repos-header-breadcrumb-mobile-heading">Breadcrumbs</h2><ol class="Box-sc-g0xbh4-0 cmAPIB"><li class="Box-sc-g0xbh4-0 jwXCBK"><a sx="[object Object]" data-testid="breadcrumbs-repo-link" class="Link__StyledLink-sc-14289xe-0 eVjWum" href="/cursodatafundamentals/granada/tree/main">granada</a></li><li class="Box-sc-g0xbh4-0 jwXCBK"><span aria-hidden="true" class="Text-sc-17v1xeu-0 ivLLle">/</span><a sx="[object Object]" class="Link__StyledLink-sc-14289xe-0 dYxKVs" href="/cursodatafundamentals/granada/tree/main/Day%206">Day 6</a></li></ol></nav><div data-testid="breadcrumbs-filename" class="Box-sc-g0xbh4-0 jwXCBK"><span aria-hidden="true" class="Text-sc-17v1xeu-0 ivLLle">/</span><h1 tabindex="-1" id="file-name-id-mobile" class="Heading__StyledHeading-sc-1c1dgg0-0 diwsLq">M5 - 04 - Funciones.ipynb</h1></div><button data-component="IconButton" type="button" aria-label="Copy path" data-testid="breadcrumb-copy-path-button" data-size="small" data-no-visuals="true" class="types__StyledButton-sc-ws60qy-0 cdPrCH"><svg aria-hidden="true" focusable="false" role="img" class="octicon octicon-copy" viewBox="0 0 16 16" width="16" height="16" fill="currentColor" style="display:inline-block;user-select:none;vertical-align:text-bottom;overflow:visible"><path d="M0 6.75C0 5.784.784 5 1.75 5h1.5a.75.75 0 0 1 0 1.5h-1.5a.25.25 0 0 0-.25.25v7.5c0 .138.112.25.25.25h7.5a.25.25 0 0 0 .25-.25v-1.5a.75.75 0 0 1 1.5 0v1.5A1.75 1.75 0 0 1 9.25 16h-7.5A1.75 1.75 0 0 1 0 14.25Z"></path><path d="M5 1.75C5 .784 5.784 0 6.75 0h7.5C15.216 0 16 .784 16 1.75v7.5A1.75 1.75 0 0 1 14.25 11h-7.5A1.75 1.75 0 0 1 5 9.25Zm1.75-.25a.25.25 0 0 0-.25.25v7.5c0 .138.112.25.25.25h7.5a.25.25 0 0 0 .25-.25v-7.5a.25.25 0 0 0-.25-.25Z"></path></svg></button></div></div></div></div><div id="StickyHeader" class="Box-sc-g0xbh4-0 bDwCYs react-code-view-header--wide"><div class="Box-sc-g0xbh4-0 fywjmm"><div class="Box-sc-g0xbh4-0 dyczTK"><div class="Box-sc-g0xbh4-0 kszRgZ"><div class="Box-sc-g0xbh4-0 eTvGbF"><nav data-testid="breadcrumbs" aria-labelledby="repos-header-breadcrumb-wide-heading" id="repos-header-breadcrumb-wide" class="Box-sc-g0xbh4-0 kzRgrI"><h2 class="Heading__StyledHeading-sc-1c1dgg0-0 cgQnMS sr-only" data-testid="screen-reader-heading" id="repos-header-breadcrumb-wide-heading">Breadcrumbs</h2><ol class="Box-sc-g0xbh4-0 cmAPIB"><li class="Box-sc-g0xbh4-0 jwXCBK"><a sx="[object Object]" data-testid="breadcrumbs-repo-link" class="Link__StyledLink-sc-14289xe-0 eVjWum" href="/cursodatafundamentals/granada/tree/main">granada</a></li><li class="Box-sc-g0xbh4-0 jwXCBK"><span aria-hidden="true" class="Text-sc-17v1xeu-0 ivLLle">/</span><a sx="[object Object]" class="Link__StyledLink-sc-14289xe-0 dYxKVs" href="/cursodatafundamentals/granada/tree/main/Day%206">Day 6</a></li></ol></nav><div data-testid="breadcrumbs-filename" class="Box-sc-g0xbh4-0 jwXCBK"><span aria-hidden="true" class="Text-sc-17v1xeu-0 ivLLle">/</span><h1 tabindex="-1" id="file-name-id-wide" class="Heading__StyledHeading-sc-1c1dgg0-0 diwsLq">M5 - 04 - Funciones.ipynb</h1></div><button data-component="IconButton" type="button" aria-label="Copy path" data-testid="breadcrumb-copy-path-button" data-size="small" data-no-visuals="true" class="types__StyledButton-sc-ws60qy-0 cdPrCH"><svg aria-hidden="true" focusable="false" role="img" class="octicon octicon-copy" viewBox="0 0 16 16" width="16" height="16" fill="currentColor" style="display:inline-block;user-select:none;vertical-align:text-bottom;overflow:visible"><path d="M0 6.75C0 5.784.784 5 1.75 5h1.5a.75.75 0 0 1 0 1.5h-1.5a.25.25 0 0 0-.25.25v7.5c0 .138.112.25.25.25h7.5a.25.25 0 0 0 .25-.25v-1.5a.75.75 0 0 1 1.5 0v1.5A1.75 1.75 0 0 1 9.25 16h-7.5A1.75 1.75 0 0 1 0 14.25Z"></path><path d="M5 1.75C5 .784 5.784 0 6.75 0h7.5C15.216 0 16 .784 16 1.75v7.5A1.75 1.75 0 0 1 14.25 11h-7.5A1.75 1.75 0 0 1 5 9.25Zm1.75-.25a.25.25 0 0 0-.25.25v7.5c0 .138.112.25.25.25h7.5a.25.25 0 0 0 .25-.25v-7.5a.25.25 0 0 0-.25-.25Z"></path></svg></button></div></div><div class="Box-sc-g0xbh4-0 gtBUEp"><div class="d-flex gap-2"> <button type="button" data-no-visuals="true" class="types__StyledButton-sc-ws60qy-0 hMBGua"><span data-component="buttonContent" class="Box-sc-g0xbh4-0 kkrdEu"><span data-component="text">Blame</span></span></button><button hidden="" data-testid="" data-hotkey-scope="read-only-cursor-text-area"></button><button data-component="IconButton" type="button" aria-label="More file actions" class="types__StyledButton-sc-ws60qy-0 bDzORU js-blob-dropdown-click" title="More file actions" data-testid="more-file-actions-button" id=":R9pkqjal5:" aria-haspopup="true" tabindex="0" data-no-visuals="true"><svg aria-hidden="true" focusable="false" role="img" class="octicon octicon-kebab-horizontal" viewBox="0 0 16 16" width="16" height="16" fill="currentColor" style="display:inline-block;user-select:none;vertical-align:text-bottom;overflow:visible"><path d="M8 9a1.5 1.5 0 1 0 0-3 1.5 1.5 0 0 0 0 3ZM1.5 9a1.5 1.5 0 1 0 0-3 1.5 1.5 0 0 0 0 3Zm13 0a1.5 1.5 0 1 0 0-3 1.5 1.5 0 0 0 0 3Z"></path></svg></button> </div></div></div></div></div></div></div><div class="Box-sc-g0xbh4-0 MERGN react-code-view-bottom-padding"> <div class="Box-sc-g0xbh4-0 cMYnca"></div><div class="Box-sc-g0xbh4-0"></div> <!-- --> <!-- --> </div><div class="Box-sc-g0xbh4-0 MERGN"> <!-- --> <!-- --> <div class="Box-sc-g0xbh4-0 kLxXov"><div class="Box-sc-g0xbh4-0 eYedVD"><h2 class="Heading__StyledHeading-sc-1c1dgg0-0 cgQnMS sr-only" data-testid="screen-reader-heading">Latest commit</h2><div style="width:120px" class="Skeleton Skeleton--text" data-testid="loading"> </div><div class="Box-sc-g0xbh4-0 jGfYmh"><div data-testid="latest-commit-details" class="Box-sc-g0xbh4-0 lhFvfi"></div><h2 class="Heading__StyledHeading-sc-1c1dgg0-0 cgQnMS sr-only" data-testid="screen-reader-heading">History</h2><a aria-label="Commit history" class="types__StyledButton-sc-ws60qy-0 iUmUix react-last-commit-history-group" href="/cursodatafundamentals/granada/commits/main/Day%206/M5%20-%2004%20-%20Funciones.ipynb" data-size="small"><span data-component="buttonContent" class="Box-sc-g0xbh4-0 kkrdEu"><span data-component="leadingVisual" class="Box-sc-g0xbh4-0 trpoQ"><svg aria-hidden="true" focusable="false" role="img" class="octicon octicon-history" viewBox="0 0 16 16" width="16" height="16" fill="currentColor" style="display:inline-block;user-select:none;vertical-align:text-bottom;overflow:visible"><path d="m.427 1.927 1.215 1.215a8.002 8.002 0 1 1-1.6 5.685.75.75 0 1 1 1.493-.154 6.5 6.5 0 1 0 1.18-4.458l1.358 1.358A.25.25 0 0 1 3.896 6H.25A.25.25 0 0 1 0 5.75V2.104a.25.25 0 0 1 .427-.177ZM7.75 4a.75.75 0 0 1 .75.75v2.992l2.028.812a.75.75 0 0 1-.557 1.392l-2.5-1A.751.751 0 0 1 7 8.25v-3.5A.75.75 0 0 1 7.75 4Z"></path></svg></span><span data-component="text"><span class="Text-sc-17v1xeu-0 ghRVGj">History</span></span></span></a><div class="Box-sc-g0xbh4-0 bqgLjk"></div><span role="tooltip" aria-label="Commit history" class="Tooltip__TooltipBase-sc-uha8qm-0 hFFfJn tooltipped-n"><a aria-label="Commit history" class="types__StyledButton-sc-ws60qy-0 iUmUix react-last-commit-history-icon" href="/cursodatafundamentals/granada/commits/main/Day%206/M5%20-%2004%20-%20Funciones.ipynb"><span data-component="buttonContent" class="Box-sc-g0xbh4-0 kkrdEu"><span data-component="leadingVisual" class="Box-sc-g0xbh4-0 trpoQ"><svg aria-hidden="true" focusable="false" role="img" class="octicon octicon-history" viewBox="0 0 16 16" width="16" height="16" fill="currentColor" style="display:inline-block;user-select:none;vertical-align:text-bottom;overflow:visible"><path d="m.427 1.927 1.215 1.215a8.002 8.002 0 1 1-1.6 5.685.75.75 0 1 1 1.493-.154 6.5 6.5 0 1 0 1.18-4.458l1.358 1.358A.25.25 0 0 1 3.896 6H.25A.25.25 0 0 1 0 5.75V2.104a.25.25 0 0 1 .427-.177ZM7.75 4a.75.75 0 0 1 .75.75v2.992l2.028.812a.75.75 0 0 1-.557 1.392l-2.5-1A.751.751 0 0 1 7 8.25v-3.5A.75.75 0 0 1 7.75 4Z"></path></svg></span></span></a></span></div></div></div><div class="Box-sc-g0xbh4-0 iJmJly"><div class="Box-sc-g0xbh4-0 jACbi container"><div class="Box-sc-g0xbh4-0 bSdwWB react-code-size-details-banner"><div class="Box-sc-g0xbh4-0 fleZSW react-code-size-details-banner"><div class="Box-sc-g0xbh4-0 bZpGqz text-mono"><div title="188 KB" data-testid="blob-size" class="Truncate__StyledTruncate-sc-23o1d2-0 fUpWeN"><span class="Text-sc-17v1xeu-0 gPDEWA">1 lines (1 loc) · 188 KB</span></div></div></div><div class="Box-sc-g0xbh4-0 react-code-size-details-banner"><button type="button" id=":R2bqlajal5:" aria-haspopup="true" tabindex="0" data-testid="copilot-popover-button" data-size="small" class="types__StyledButton-sc-ws60qy-0 gWBIfb"><span data-component="buttonContent" class="Box-sc-g0xbh4-0 kkrdEu"><span data-component="leadingVisual" class="Box-sc-g0xbh4-0 trpoQ"><svg aria-hidden="true" focusable="false" role="img" class="octicon octicon-copilot" viewBox="0 0 16 16" width="16" height="16" fill="currentColor" style="display:inline-block;user-select:none;vertical-align:text-bottom;overflow:visible"><path d="M6.25 9a.75.75 0 0 1 .75.75v1.5a.75.75 0 0 1-1.5 0v-1.5A.75.75 0 0 1 6.25 9Zm4.25.75a.75.75 0 0 0-1.5 0v1.5a.75.75 0 0 0 1.5 0v-1.5Z"></path><path d="M7.86 1.77c.05.053.097.107.14.164.043-.057.09-.111.14-.164.681-.731 1.737-.9 2.943-.765 1.23.136 2.145.527 2.724 1.26.566.716.693 1.614.693 2.485 0 .572-.053 1.147-.254 1.655l.168.838.066.033A2.75 2.75 0 0 1 16 9.736V11c0 .24-.086.438-.156.567-.073.131-.16.253-.259.366-.18.21-.404.413-.605.58a10.19 10.19 0 0 1-.792.597l-.015.01-.006.004-.028.018a8.849 8.849 0 0 1-.456.281c-.307.177-.749.41-1.296.642C11.296 14.528 9.756 15 8 15c-1.756 0-3.296-.472-4.387-.935a12.28 12.28 0 0 1-1.296-.641 8.849 8.849 0 0 1-.456-.281l-.028-.02-.006-.003-.015-.01a10.593 10.593 0 0 1-.792-.596 5.264 5.264 0 0 1-.605-.58 2.133 2.133 0 0 1-.259-.367A1.189 1.189 0 0 1 0 11V9.736a2.75 2.75 0 0 1 1.52-2.46l.067-.033.167-.838C1.553 5.897 1.5 5.322 1.5 4.75c0-.87.127-1.77.693-2.485.579-.733 1.494-1.124 2.724-1.26 1.206-.134 2.262.034 2.944.765ZM3 7.824v4.261c.02.013.043.025.065.038.264.152.65.356 1.134.562.972.412 2.307.815 3.801.815 1.494 0 2.83-.403 3.8-.815.412-.174.813-.375 1.2-.6v-4.26l-.023-.116c-.49.21-1.075.291-1.727.291-1.146 0-2.06-.328-2.71-.991A3.233 3.233 0 0 1 8 6.266c-.144.269-.321.52-.54.743C6.81 7.672 5.896 8 4.75 8c-.652 0-1.236-.082-1.726-.291L3 7.824Zm6.237-5.031c-.204.218-.359.678-.242 1.614.091.726.303 1.23.618 1.553.299.304.784.54 1.638.54.922 0 1.28-.199 1.442-.38.179-.2.308-.578.308-1.37 0-.765-.123-1.242-.37-1.555-.233-.296-.693-.586-1.713-.7-1.044-.116-1.488.091-1.681.298Zm-2.472 0c-.193-.207-.637-.414-1.681-.298-1.02.114-1.48.404-1.713.7-.247.313-.37.79-.37 1.555 0 .792.129 1.17.308 1.37.162.181.52.38 1.442.38.854 0 1.339-.236 1.638-.54.315-.323.527-.827.618-1.553.117-.936-.038-1.396-.242-1.614Z"></path></svg></span><span data-component="text">Code 55% faster with GitHub Copilot</span></span></button></div></div><div class="Box-sc-g0xbh4-0 gBKNLX react-blob-view-header-sticky" id="repos-sticky-header"><div class="Box-sc-g0xbh4-0 ePiodO"><div class="Box-sc-g0xbh4-0 react-blob-sticky-header"><div class="Box-sc-g0xbh4-0 kQJlnf"><div class="Box-sc-g0xbh4-0 gJICKO"><div class="Box-sc-g0xbh4-0 iZJewz"><nav data-testid="breadcrumbs" aria-labelledby="sticky-breadcrumb-heading" id="sticky-breadcrumb" class="Box-sc-g0xbh4-0 kzRgrI"><h2 class="Heading__StyledHeading-sc-1c1dgg0-0 cgQnMS sr-only" data-testid="screen-reader-heading" id="sticky-breadcrumb-heading">Breadcrumbs</h2><ol class="Box-sc-g0xbh4-0 cmAPIB"><li class="Box-sc-g0xbh4-0 jwXCBK"><a sx="[object Object]" data-testid="breadcrumbs-repo-link" class="Link__StyledLink-sc-14289xe-0 eVjWum" href="/cursodatafundamentals/granada/tree/main">granada</a></li><li class="Box-sc-g0xbh4-0 jwXCBK"><span aria-hidden="true" class="Text-sc-17v1xeu-0 dZAxGI">/</span><a sx="[object Object]" class="Link__StyledLink-sc-14289xe-0 dYxKVs" href="/cursodatafundamentals/granada/tree/main/Day%206">Day 6</a></li></ol></nav><div data-testid="breadcrumbs-filename" class="Box-sc-g0xbh4-0 jwXCBK"><span aria-hidden="true" class="Text-sc-17v1xeu-0 dZAxGI">/</span><h1 tabindex="-1" id="sticky-file-name-id" class="Heading__StyledHeading-sc-1c1dgg0-0 jAEDJk">M5 - 04 - Funciones.ipynb</h1></div></div><button type="button" data-size="small" class="types__StyledButton-sc-ws60qy-0 iVkWL"><span data-component="buttonContent" class="Box-sc-g0xbh4-0 kkrdEu"><span data-component="leadingVisual" class="Box-sc-g0xbh4-0 trpoQ"><svg aria-hidden="true" focusable="false" role="img" class="octicon octicon-arrow-up" viewBox="0 0 16 16" width="16" height="16" fill="currentColor" style="display:inline-block;user-select:none;vertical-align:text-bottom;overflow:visible"><path d="M3.47 7.78a.75.75 0 0 1 0-1.06l4.25-4.25a.75.75 0 0 1 1.06 0l4.25 4.25a.751.751 0 0 1-.018 1.042.751.751 0 0 1-1.042.018L9 4.81v7.44a.75.75 0 0 1-1.5 0V4.81L4.53 7.78a.75.75 0 0 1-1.06 0Z"></path></svg></span><span data-component="text">Top</span></span></button></div></div></div><div class="Box-sc-g0xbh4-0 bvEDG"><h2 class="Heading__StyledHeading-sc-1c1dgg0-0 cgQnMS sr-only" data-testid="screen-reader-heading">File metadata and controls</h2><div class="Box-sc-g0xbh4-0 bfkNRF"><ul aria-label="File view" class="SegmentedControl__SegmentedControlList-sc-1rzig82-0 iYVwMz"><li class="Box-sc-g0xbh4-0 fXBLEV"><button aria-current="true" class="SegmentedControlButton__SegmentedControlButtonStyled-sc-8lkgxl-0 bDmUQT"><span class="segmentedControl-content"><div class="Box-sc-g0xbh4-0 segmentedControl-text">Preview</div></span></button></li><li class="Box-sc-g0xbh4-0 jkTWSe"><button aria-current="false" class="SegmentedControlButton__SegmentedControlButtonStyled-sc-8lkgxl-0 fzMylw"><span class="segmentedControl-content"><div class="Box-sc-g0xbh4-0 segmentedControl-text">Code</div></span></button></li><li class="Box-sc-g0xbh4-0 jkTWSe"><button aria-current="false" class="SegmentedControlButton__SegmentedControlButtonStyled-sc-8lkgxl-0 hBvGcq"><span class="segmentedControl-content"><div class="Box-sc-g0xbh4-0 segmentedControl-text">Blame</div></span></button></li></ul><button hidden="" data-testid="" data-hotkey-scope="read-only-cursor-text-area"></button><button hidden="" data-testid="" data-hotkey-scope="read-only-cursor-text-area"></button><button hidden="" data-testid="" data-hotkey-scope="read-only-cursor-text-area"></button><div class="Box-sc-g0xbh4-0 fleZSW react-code-size-details-in-header"><div class="Box-sc-g0xbh4-0 bZpGqz text-mono"><div title="188 KB" data-testid="blob-size" class="Truncate__StyledTruncate-sc-23o1d2-0 fUpWeN"><span class="Text-sc-17v1xeu-0 gPDEWA">1 lines (1 loc) · 188 KB</span></div></div></div><div class="Box-sc-g0xbh4-0 react-code-size-details-in-header"><button type="button" id=":R79jqlajal5:" aria-haspopup="true" tabindex="0" data-testid="copilot-popover-button" data-size="small" class="types__StyledButton-sc-ws60qy-0 gWBIfb"><span data-component="buttonContent" class="Box-sc-g0xbh4-0 kkrdEu"><span data-component="leadingVisual" class="Box-sc-g0xbh4-0 trpoQ"><svg aria-hidden="true" focusable="false" role="img" class="octicon octicon-copilot" viewBox="0 0 16 16" width="16" height="16" fill="currentColor" style="display:inline-block;user-select:none;vertical-align:text-bottom;overflow:visible"><path d="M6.25 9a.75.75 0 0 1 .75.75v1.5a.75.75 0 0 1-1.5 0v-1.5A.75.75 0 0 1 6.25 9Zm4.25.75a.75.75 0 0 0-1.5 0v1.5a.75.75 0 0 0 1.5 0v-1.5Z"></path><path d="M7.86 1.77c.05.053.097.107.14.164.043-.057.09-.111.14-.164.681-.731 1.737-.9 2.943-.765 1.23.136 2.145.527 2.724 1.26.566.716.693 1.614.693 2.485 0 .572-.053 1.147-.254 1.655l.168.838.066.033A2.75 2.75 0 0 1 16 9.736V11c0 .24-.086.438-.156.567-.073.131-.16.253-.259.366-.18.21-.404.413-.605.58a10.19 10.19 0 0 1-.792.597l-.015.01-.006.004-.028.018a8.849 8.849 0 0 1-.456.281c-.307.177-.749.41-1.296.642C11.296 14.528 9.756 15 8 15c-1.756 0-3.296-.472-4.387-.935a12.28 12.28 0 0 1-1.296-.641 8.849 8.849 0 0 1-.456-.281l-.028-.02-.006-.003-.015-.01a10.593 10.593 0 0 1-.792-.596 5.264 5.264 0 0 1-.605-.58 2.133 2.133 0 0 1-.259-.367A1.189 1.189 0 0 1 0 11V9.736a2.75 2.75 0 0 1 1.52-2.46l.067-.033.167-.838C1.553 5.897 1.5 5.322 1.5 4.75c0-.87.127-1.77.693-2.485.579-.733 1.494-1.124 2.724-1.26 1.206-.134 2.262.034 2.944.765ZM3 7.824v4.261c.02.013.043.025.065.038.264.152.65.356 1.134.562.972.412 2.307.815 3.801.815 1.494 0 2.83-.403 3.8-.815.412-.174.813-.375 1.2-.6v-4.26l-.023-.116c-.49.21-1.075.291-1.727.291-1.146 0-2.06-.328-2.71-.991A3.233 3.233 0 0 1 8 6.266c-.144.269-.321.52-.54.743C6.81 7.672 5.896 8 4.75 8c-.652 0-1.236-.082-1.726-.291L3 7.824Zm6.237-5.031c-.204.218-.359.678-.242 1.614.091.726.303 1.23.618 1.553.299.304.784.54 1.638.54.922 0 1.28-.199 1.442-.38.179-.2.308-.578.308-1.37 0-.765-.123-1.242-.37-1.555-.233-.296-.693-.586-1.713-.7-1.044-.116-1.488.091-1.681.298Zm-2.472 0c-.193-.207-.637-.414-1.681-.298-1.02.114-1.48.404-1.713.7-.247.313-.37.79-.37 1.555 0 .792.129 1.17.308 1.37.162.181.52.38 1.442.38.854 0 1.339-.236 1.638-.54.315-.323.527-.827.618-1.553.117-.936-.038-1.396-.242-1.614Z"></path></svg></span><span data-component="text">Code 55% faster with GitHub Copilot</span></span></button></div></div><div class="Box-sc-g0xbh4-0 iBylDf"><div class="Box-sc-g0xbh4-0 kSGBPx react-blob-header-edit-and-raw-actions"><div class="ButtonGroup-sc-1gxhls1-0 cjbBGq"><a href="https://github.com/cursodatafundamentals/granada/raw/main/Day%206/M5%20-%2004%20-%20Funciones.ipynb" data-testid="raw-button" data-size="small" data-no-visuals="true" class="types__StyledButton-sc-ws60qy-0 jxAJvV"><span data-component="buttonContent" class="Box-sc-g0xbh4-0 kkrdEu"><span data-component="text">Raw</span></span></a><button data-component="IconButton" type="button" aria-label="Copy raw content" data-testid="copy-raw-button" data-size="small" data-no-visuals="true" class="types__StyledButton-sc-ws60qy-0 iCOrao"><svg aria-hidden="true" focusable="false" role="img" class="octicon octicon-copy" viewBox="0 0 16 16" width="16" height="16" fill="currentColor" style="display:inline-block;user-select:none;vertical-align:text-bottom;overflow:visible"><path d="M0 6.75C0 5.784.784 5 1.75 5h1.5a.75.75 0 0 1 0 1.5h-1.5a.25.25 0 0 0-.25.25v7.5c0 .138.112.25.25.25h7.5a.25.25 0 0 0 .25-.25v-1.5a.75.75 0 0 1 1.5 0v1.5A1.75 1.75 0 0 1 9.25 16h-7.5A1.75 1.75 0 0 1 0 14.25Z"></path><path d="M5 1.75C5 .784 5.784 0 6.75 0h7.5C15.216 0 16 .784 16 1.75v7.5A1.75 1.75 0 0 1 14.25 11h-7.5A1.75 1.75 0 0 1 5 9.25Zm1.75-.25a.25.25 0 0 0-.25.25v7.5c0 .138.112.25.25.25h7.5a.25.25 0 0 0 .25-.25v-7.5a.25.25 0 0 0-.25-.25Z"></path></svg></button><span role="tooltip" aria-label="Download raw file" class="Tooltip__TooltipBase-sc-uha8qm-0 hFFfJn tooltipped-n"><button data-component="IconButton" type="button" aria-label="Download raw content" data-testid="download-raw-button" data-size="small" data-no-visuals="true" class="types__StyledButton-sc-ws60qy-0 WblXz"><svg aria-hidden="true" focusable="false" role="img" class="octicon octicon-download" viewBox="0 0 16 16" width="16" height="16" fill="currentColor" style="display:inline-block;user-select:none;vertical-align:text-bottom;overflow:visible"><path d="M2.75 14A1.75 1.75 0 0 1 1 12.25v-2.5a.75.75 0 0 1 1.5 0v2.5c0 .138.112.25.25.25h10.5a.25.25 0 0 0 .25-.25v-2.5a.75.75 0 0 1 1.5 0v2.5A1.75 1.75 0 0 1 13.25 14Z"></path><path d="M7.25 7.689V2a.75.75 0 0 1 1.5 0v5.689l1.97-1.969a.749.749 0 1 1 1.06 1.06l-3.25 3.25a.749.749 0 0 1-1.06 0L4.22 6.78a.749.749 0 1 1 1.06-1.06l1.97 1.969Z"></path></svg></button></span></div><button hidden="" data-testid="raw-button-shortcut" data-hotkey-scope="read-only-cursor-text-area"></button><button hidden="" data-testid="copy-raw-button-shortcut" data-hotkey-scope="read-only-cursor-text-area"></button><button hidden="" data-testid="download-raw-button-shortcut" data-hotkey-scope="read-only-cursor-text-area"></button><a class="Link__StyledLink-sc-14289xe-0 fIqerb js-github-dev-shortcut d-none" href="https://github.dev/"></a><button hidden="" data-testid="" data-hotkey-scope="read-only-cursor-text-area"></button><a class="Link__StyledLink-sc-14289xe-0 fIqerb js-github-dev-new-tab-shortcut d-none" href="https://github.dev/" target="_blank"></a><button hidden="" data-testid="" data-hotkey-scope="read-only-cursor-text-area"></button><div class="ButtonGroup-sc-1gxhls1-0 cjbBGq"><span role="tooltip" aria-label="Edit this file" class="Tooltip__TooltipBase-sc-uha8qm-0 hFFfJn tooltipped-nw"><a sx="[object Object]" data-component="IconButton" type="button" aria-label="Edit file" data-testid="edit-button" data-size="small" data-no-visuals="true" class="types__StyledButton-sc-ws60qy-0 ftQSWB" href="/cursodatafundamentals/granada/edit/main/Day%206/M5%20-%2004%20-%20Funciones.ipynb"><svg aria-hidden="true" focusable="false" role="img" class="octicon octicon-pencil" viewBox="0 0 16 16" width="16" height="16" fill="currentColor" style="display:inline-block;user-select:none;vertical-align:text-bottom;overflow:visible"><path d="M11.013 1.427a1.75 1.75 0 0 1 2.474 0l1.086 1.086a1.75 1.75 0 0 1 0 2.474l-8.61 8.61c-.21.21-.47.364-.756.445l-3.251.93a.75.75 0 0 1-.927-.928l.929-3.25c.081-.286.235-.547.445-.758l8.61-8.61Zm.176 4.823L9.75 4.81l-6.286 6.287a.253.253 0 0 0-.064.108l-.558 1.953 1.953-.558a.253.253 0 0 0 .108-.064Zm1.238-3.763a.25.25 0 0 0-.354 0L10.811 3.75l1.439 1.44 1.263-1.263a.25.25 0 0 0 0-.354Z"></path></svg></a></span><button data-component="IconButton" type="button" aria-label="More edit options" data-testid="more-edit-button" id=":Rl7pjqlajal5:" aria-haspopup="true" tabindex="0" data-size="small" data-no-visuals="true" class="types__StyledButton-sc-ws60qy-0 iCOrao"><svg aria-hidden="true" focusable="false" role="img" class="octicon octicon-triangle-down" viewBox="0 0 16 16" width="16" height="16" fill="currentColor" style="display:inline-block;user-select:none;vertical-align:text-bottom;overflow:visible"><path d="m4.427 7.427 3.396 3.396a.25.25 0 0 0 .354 0l3.396-3.396A.25.25 0 0 0 11.396 7H4.604a.25.25 0 0 0-.177.427Z"></path></svg></button></div><button hidden="" data-testid="" data-hotkey="e,E" data-hotkey-scope="read-only-cursor-text-area"></button></div><div class="Box-sc-g0xbh4-0 react-blob-header-edit-and-raw-actions-combined"><button data-component="IconButton" type="button" aria-label="Edit and raw actions" class="types__StyledButton-sc-ws60qy-0 ksLyfZ js-blob-dropdown-click" title="More file actions" data-testid="more-file-actions-button" id=":R1dpjqlajal5:" aria-haspopup="true" tabindex="0" data-size="small" data-no-visuals="true"><svg aria-hidden="true" focusable="false" role="img" class="octicon octicon-kebab-horizontal" viewBox="0 0 16 16" width="16" height="16" fill="currentColor" style="display:inline-block;user-select:none;vertical-align:text-bottom;overflow:visible"><path d="M8 9a1.5 1.5 0 1 0 0-3 1.5 1.5 0 0 0 0 3ZM1.5 9a1.5 1.5 0 1 0 0-3 1.5 1.5 0 0 0 0 3Zm13 0a1.5 1.5 0 1 0 0-3 1.5 1.5 0 0 0 0 3Z"></path></svg></button></div></div></div></div><div class="Box-sc-g0xbh4-0"></div></div><div class="Box-sc-g0xbh4-0 flDsrw"><section aria-labelledby="file-name-id-wide file-name-id-mobile" class="Box-sc-g0xbh4-0 eJsjkT"><!--$!--><template></template><div data-testid="suspense-spinner" class="Box-sc-g0xbh4-0 bAzdCq"><svg height="32px" width="32px" viewBox="0 0 16 16" fill="none" aria-label="Loading" class="Spinner__StyledSpinner-sc-1knt686-0 hPEVNM"><circle cx="8" cy="8" r="7" stroke="currentColor" stroke-opacity="0.25" stroke-width="2" vector-effect="non-scaling-stroke"></circle><path d="M15 8a7.002 7.002 0 00-7-7" stroke="currentColor" stroke-width="2" stroke-linecap="round" vector-effect="non-scaling-stroke"></path></svg></div><!--/$--></section></div></div></div> <!-- --> <!-- --> </div></div></div><div class="Box-sc-g0xbh4-0"></div></main></div></div></div><div id="find-result-marks-container" class="Box-sc-g0xbh4-0 aZrVR"></div><button hidden="" data-testid="" data-hotkey-scope="read-only-cursor-text-area"></button><button hidden=""></button></div> <!-- --> <!-- --> <!-- --> <script type="application/json" id="__PRIMER_DATA__">{"resolvedServerColorMode":"day"}</script></div>
</react-app>
</turbo-frame>



  </div>

</turbo-frame>

    </main>
  </div>

  </div>

          <footer class="footer width-full container-xl p-responsive" role="contentinfo">
  <h2 class='sr-only'>Footer</h2>

  <div class="position-relative d-flex flex-items-center pb-2 f6 color-fg-muted border-top color-border-muted flex-column-reverse flex-lg-row flex-wrap flex-lg-nowrap mt-6 pt-6">
    <div class="list-style-none d-flex flex-wrap col-0 col-lg-2 flex-justify-start flex-lg-justify-between mb-2 mb-lg-0">
      <div class="mt-2 mt-lg-0 d-flex flex-items-center">
        <a aria-label="Homepage" title="GitHub" class="footer-octicon mr-2" href="https://github.com">
          <svg aria-hidden="true" height="24" viewBox="0 0 16 16" version="1.1" width="24" data-view-component="true" class="octicon octicon-mark-github">
    <path d="M8 0c4.42 0 8 3.58 8 8a8.013 8.013 0 0 1-5.45 7.59c-.4.08-.55-.17-.55-.38 0-.27.01-1.13.01-2.2 0-.75-.25-1.23-.54-1.48 1.78-.2 3.65-.88 3.65-3.95 0-.88-.31-1.59-.82-2.15.08-.2.36-1.02-.08-2.12 0 0-.67-.22-2.2.82-.64-.18-1.32-.27-2-.27-.68 0-1.36.09-2 .27-1.53-1.03-2.2-.82-2.2-.82-.44 1.1-.16 1.92-.08 2.12-.51.56-.82 1.28-.82 2.15 0 3.06 1.86 3.75 3.64 3.95-.23.2-.44.55-.51 1.07-.46.21-1.61.55-2.33-.66-.15-.24-.6-.83-1.23-.82-.67.01-.27.38.01.53.34.19.73.9.82 1.13.16.45.68 1.31 2.69.94 0 .67.01 1.3.01 1.49 0 .21-.15.45-.55.38A7.995 7.995 0 0 1 0 8c0-4.42 3.58-8 8-8Z"></path>
</svg>
</a>        <span>
        &copy; 2023 GitHub, Inc.
        </span>
      </div>
    </div>

    <nav aria-label='Footer' class="col-12 col-lg-8">
      <h3 class='sr-only' id='sr-footer-heading'>Footer navigation</h3>
      <ul class="list-style-none d-flex flex-wrap col-12 flex-justify-center flex-lg-justify-between mb-2 mb-lg-0" aria-labelledby='sr-footer-heading'>
          <li class="mr-3 mr-lg-0"><a href="https://docs.github.com/site-policy/github-terms/github-terms-of-service" data-analytics-event="{&quot;category&quot;:&quot;Footer&quot;,&quot;action&quot;:&quot;go to terms&quot;,&quot;label&quot;:&quot;text:terms&quot;}">Terms</a></li>
          <li class="mr-3 mr-lg-0"><a href="https://docs.github.com/site-policy/privacy-policies/github-privacy-statement" data-analytics-event="{&quot;category&quot;:&quot;Footer&quot;,&quot;action&quot;:&quot;go to privacy&quot;,&quot;label&quot;:&quot;text:privacy&quot;}">Privacy</a></li>
          <li class="mr-3 mr-lg-0"><a data-analytics-event="{&quot;category&quot;:&quot;Footer&quot;,&quot;action&quot;:&quot;go to security&quot;,&quot;label&quot;:&quot;text:security&quot;}" href="https://github.com/security">Security</a></li>
          <li class="mr-3 mr-lg-0"><a href="https://www.githubstatus.com/" data-analytics-event="{&quot;category&quot;:&quot;Footer&quot;,&quot;action&quot;:&quot;go to status&quot;,&quot;label&quot;:&quot;text:status&quot;}">Status</a></li>
          <li class="mr-3 mr-lg-0"><a data-ga-click="Footer, go to help, text:Docs" href="https://docs.github.com">Docs</a></li>
          <li class="mr-3 mr-lg-0"><a href="https://support.github.com?tags=dotcom-footer" data-analytics-event="{&quot;category&quot;:&quot;Footer&quot;,&quot;action&quot;:&quot;go to contact&quot;,&quot;label&quot;:&quot;text:contact&quot;}">Contact GitHub</a></li>
          <li class="mr-3 mr-lg-0"><a href="https://github.com/pricing" data-analytics-event="{&quot;category&quot;:&quot;Footer&quot;,&quot;action&quot;:&quot;go to Pricing&quot;,&quot;label&quot;:&quot;text:Pricing&quot;}">Pricing</a></li>
        <li class="mr-3 mr-lg-0"><a href="https://docs.github.com" data-analytics-event="{&quot;category&quot;:&quot;Footer&quot;,&quot;action&quot;:&quot;go to api&quot;,&quot;label&quot;:&quot;text:api&quot;}">API</a></li>
        <li class="mr-3 mr-lg-0"><a href="https://services.github.com" data-analytics-event="{&quot;category&quot;:&quot;Footer&quot;,&quot;action&quot;:&quot;go to training&quot;,&quot;label&quot;:&quot;text:training&quot;}">Training</a></li>
          <li class="mr-3 mr-lg-0"><a href="https://github.blog" data-analytics-event="{&quot;category&quot;:&quot;Footer&quot;,&quot;action&quot;:&quot;go to blog&quot;,&quot;label&quot;:&quot;text:blog&quot;}">Blog</a></li>
          <li><a data-ga-click="Footer, go to about, text:about" href="https://github.com/about">About</a></li>
      </ul>
    </nav>
  </div>

  <div class="d-flex flex-justify-center pb-6">
    <span class="f6 color-fg-muted"></span>
  </div>
</footer>




  <div id="ajax-error-message" class="ajax-error-message flash flash-error" hidden>
    <svg aria-hidden="true" height="16" viewBox="0 0 16 16" version="1.1" width="16" data-view-component="true" class="octicon octicon-alert">
    <path d="M6.457 1.047c.659-1.234 2.427-1.234 3.086 0l6.082 11.378A1.75 1.75 0 0 1 14.082 15H1.918a1.75 1.75 0 0 1-1.543-2.575Zm1.763.707a.25.25 0 0 0-.44 0L1.698 13.132a.25.25 0 0 0 .22.368h12.164a.25.25 0 0 0 .22-.368Zm.53 3.996v2.5a.75.75 0 0 1-1.5 0v-2.5a.75.75 0 0 1 1.5 0ZM9 11a1 1 0 1 1-2 0 1 1 0 0 1 2 0Z"></path>
</svg>
    <button type="button" class="flash-close js-ajax-error-dismiss" aria-label="Dismiss error">
      <svg aria-hidden="true" height="16" viewBox="0 0 16 16" version="1.1" width="16" data-view-component="true" class="octicon octicon-x">
    <path d="M3.72 3.72a.75.75 0 0 1 1.06 0L8 6.94l3.22-3.22a.749.749 0 0 1 1.275.326.749.749 0 0 1-.215.734L9.06 8l3.22 3.22a.749.749 0 0 1-.326 1.275.749.749 0 0 1-.734-.215L8 9.06l-3.22 3.22a.751.751 0 0 1-1.042-.018.751.751 0 0 1-.018-1.042L6.94 8 3.72 4.78a.75.75 0 0 1 0-1.06Z"></path>
</svg>
    </button>
    You can’t perform that action at this time.
  </div>

    <template id="site-details-dialog">
  <details class="details-reset details-overlay details-overlay-dark lh-default color-fg-default hx_rsm" open>
    <summary role="button" aria-label="Close dialog"></summary>
    <details-dialog class="Box Box--overlay d-flex flex-column anim-fade-in fast hx_rsm-dialog hx_rsm-modal">
      <button class="Box-btn-octicon m-0 btn-octicon position-absolute right-0 top-0" type="button" aria-label="Close dialog" data-close-dialog>
        <svg aria-hidden="true" height="16" viewBox="0 0 16 16" version="1.1" width="16" data-view-component="true" class="octicon octicon-x">
    <path d="M3.72 3.72a.75.75 0 0 1 1.06 0L8 6.94l3.22-3.22a.749.749 0 0 1 1.275.326.749.749 0 0 1-.215.734L9.06 8l3.22 3.22a.749.749 0 0 1-.326 1.275.749.749 0 0 1-.734-.215L8 9.06l-3.22 3.22a.751.751 0 0 1-1.042-.018.751.751 0 0 1-.018-1.042L6.94 8 3.72 4.78a.75.75 0 0 1 0-1.06Z"></path>
</svg>
      </button>
      <div class="octocat-spinner my-6 js-details-dialog-spinner"></div>
    </details-dialog>
  </details>
</template>

    <div class="Popover js-hovercard-content position-absolute" style="display: none; outline: none;" tabindex="0">
  <div class="Popover-message Popover-message--bottom-left Popover-message--large Box color-shadow-large" style="width:360px;">
  </div>
</div>

    <template id="snippet-clipboard-copy-button">
  <div class="zeroclipboard-container position-absolute right-0 top-0">
    <clipboard-copy aria-label="Copy" class="ClipboardButton btn js-clipboard-copy m-2 p-0 tooltipped-no-delay" data-copy-feedback="Copied!" data-tooltip-direction="w">
      <svg aria-hidden="true" height="16" viewBox="0 0 16 16" version="1.1" width="16" data-view-component="true" class="octicon octicon-copy js-clipboard-copy-icon m-2">
    <path d="M0 6.75C0 5.784.784 5 1.75 5h1.5a.75.75 0 0 1 0 1.5h-1.5a.25.25 0 0 0-.25.25v7.5c0 .138.112.25.25.25h7.5a.25.25 0 0 0 .25-.25v-1.5a.75.75 0 0 1 1.5 0v1.5A1.75 1.75 0 0 1 9.25 16h-7.5A1.75 1.75 0 0 1 0 14.25Z"></path><path d="M5 1.75C5 .784 5.784 0 6.75 0h7.5C15.216 0 16 .784 16 1.75v7.5A1.75 1.75 0 0 1 14.25 11h-7.5A1.75 1.75 0 0 1 5 9.25Zm1.75-.25a.25.25 0 0 0-.25.25v7.5c0 .138.112.25.25.25h7.5a.25.25 0 0 0 .25-.25v-7.5a.25.25 0 0 0-.25-.25Z"></path>
</svg>
      <svg aria-hidden="true" height="16" viewBox="0 0 16 16" version="1.1" width="16" data-view-component="true" class="octicon octicon-check js-clipboard-check-icon color-fg-success d-none m-2">
    <path d="M13.78 4.22a.75.75 0 0 1 0 1.06l-7.25 7.25a.75.75 0 0 1-1.06 0L2.22 9.28a.751.751 0 0 1 .018-1.042.751.751 0 0 1 1.042-.018L6 10.94l6.72-6.72a.75.75 0 0 1 1.06 0Z"></path>
</svg>
    </clipboard-copy>
  </div>
</template>
<template id="snippet-clipboard-copy-button-unpositioned">
  <div class="zeroclipboard-container">
    <clipboard-copy aria-label="Copy" class="ClipboardButton btn btn-invisible js-clipboard-copy m-2 p-0 tooltipped-no-delay d-flex flex-justify-center flex-items-center" data-copy-feedback="Copied!" data-tooltip-direction="w">
      <svg aria-hidden="true" height="16" viewBox="0 0 16 16" version="1.1" width="16" data-view-component="true" class="octicon octicon-copy js-clipboard-copy-icon">
    <path d="M0 6.75C0 5.784.784 5 1.75 5h1.5a.75.75 0 0 1 0 1.5h-1.5a.25.25 0 0 0-.25.25v7.5c0 .138.112.25.25.25h7.5a.25.25 0 0 0 .25-.25v-1.5a.75.75 0 0 1 1.5 0v1.5A1.75 1.75 0 0 1 9.25 16h-7.5A1.75 1.75 0 0 1 0 14.25Z"></path><path d="M5 1.75C5 .784 5.784 0 6.75 0h7.5C15.216 0 16 .784 16 1.75v7.5A1.75 1.75 0 0 1 14.25 11h-7.5A1.75 1.75 0 0 1 5 9.25Zm1.75-.25a.25.25 0 0 0-.25.25v7.5c0 .138.112.25.25.25h7.5a.25.25 0 0 0 .25-.25v-7.5a.25.25 0 0 0-.25-.25Z"></path>
</svg>
      <svg aria-hidden="true" height="16" viewBox="0 0 16 16" version="1.1" width="16" data-view-component="true" class="octicon octicon-check js-clipboard-check-icon color-fg-success d-none">
    <path d="M13.78 4.22a.75.75 0 0 1 0 1.06l-7.25 7.25a.75.75 0 0 1-1.06 0L2.22 9.28a.751.751 0 0 1 .018-1.042.751.751 0 0 1 1.042-.018L6 10.94l6.72-6.72a.75.75 0 0 1 1.06 0Z"></path>
</svg>
    </clipboard-copy>
  </div>
</template>


    <style>
      .user-mention[href$="/Karlett19"] {
        color: var(--color-user-mention-fg);
        background-color: var(--color-user-mention-bg);
        border-radius: 2px;
        margin-left: -2px;
        margin-right: -2px;
        padding: 0 2px;
      }
    </style>


    </div>

    <div id="js-global-screen-reader-notice" class="sr-only" aria-live="polite" ></div>
  </body>
</html>

